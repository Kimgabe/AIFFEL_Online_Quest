{
  "nbformat": 4,
  "nbformat_minor": 0,
  "metadata": {
    "colab": {
      "provenance": [],
      "authorship_tag": "ABX9TyNRY+AJuVWWsbkO1H007YQG",
      "include_colab_link": true
    },
    "kernelspec": {
      "name": "python3",
      "display_name": "Python 3"
    },
    "language_info": {
      "name": "python"
    }
  },
  "cells": [
    {
      "cell_type": "markdown",
      "metadata": {
        "id": "view-in-github",
        "colab_type": "text"
      },
      "source": [
        "<a href=\"https://colab.research.google.com/github/hjhan1201/AIFFEL_Online_Quest/blob/main/Quest04/Quest04_%ED%95%9C%ED%98%84%EC%A2%85.ipynb\" target=\"_parent\"><img src=\"https://colab.research.google.com/assets/colab-badge.svg\" alt=\"Open In Colab\"/></a>"
      ]
    },
    {
      "cell_type": "code",
      "execution_count": null,
      "metadata": {
        "id": "V2kbTywGAQSF"
      },
      "outputs": [],
      "source": [
        "!pip install ColabTurtlePlus # ColabTurtle 라이브러리 설치\n",
        "from ColabTurtlePlus.Turtle import * # ColabTurtle 라이브러리에서 Turtle 클래스를 import\n",
        "\n",
        "# 미로 데이터\n",
        "maze = [\n",
        "    [0, 1, 0, 0, 0],\n",
        "    [0, 0, 0, 1, 0],\n",
        "    [0, 1, 1, 0, 0],\n",
        "    [0, 0, 1, 1, 0],\n",
        "    [0, 0, 0, 0, 0]\n",
        "]\n",
        "\n",
        "# 시작 위치와 목적지 위치\n",
        "start_x, start_y = 0, 0\n",
        "end_x, end_y = 4, 4\n",
        "\n",
        "# 터틀 초기 설정\n",
        "# 'logo'가 거북이 이름?, 속도는 1\n",
        "window = (100, 100)\n",
        "initializeTurtle(window, 'logo')\n",
        "speed(1)\n",
        "x=0\n",
        "y=0\n",
        "\n",
        "# 미로 찾기 알고리즘\n",
        "def solve_maze(x, y):\n",
        "  # 목적지에 도착한 경우\n",
        "  if x==4 and y==4 :\n",
        "    # \"미로를 찾았습니다\" 라는 문장을 출력하고\n",
        "    print(\"미로를 찾았습니다\")\n",
        "    # True를 반환한다.\n",
        "    return Ture\n",
        "  # 현재 위치에서 갈 수 있는 방향 탐색\n",
        "  for dx, dy in [(0, 1), (1, 0), (0, -1), (-1, 0)]:\n",
        "    nx, ny = x + dx, y + dy\n",
        "    # 미로 범위(0,0 ~ 4,4) 내에 있고, 갈 수 있는 길인 경우\n",
        "    if start_x <= nx and end_x >= nx and start_y <= ny and end_y >= ny and maze[nx][ny] == 0:\n",
        "      # 갔던 길 표시\n",
        "      print(nx,ny)\n",
        "      print(maze[nx][ny])\n",
        "      maze[nx][ny] = 2\n",
        "      pendown()           #거북이가 움직일 때 선을 그리도록 설정하는 함수\n",
        "      # 다음 위치로 이동\n",
        "      goto(nx*10, ny*10)  # 거북이 다음 위치로 이동\n",
        "      penup()             #거북이가 움직일 때 선을 그리지 않도록 설정하는 함수\n",
        "\n",
        "# 코드를 해석해주세요!!\n",
        "#if solve_maze(nx, ny):\n",
        "  #return True\n",
        "  #else:\n",
        "\n",
        "# 다시 이전으로 돌아가기\n",
        "# 표시된 길 0표시(지우기)\n",
        "  # 길을 찾지 못한 경우\n",
        "  # \"길을 찾을 수 없습니다\"를 출력하고\n",
        "  # False를 리턴\n",
        "\n",
        "#print(\"길을 찾을 수 없습니다.\")\n",
        "#return False\n",
        "\n",
        "# 시작 위치에서 미로 찾기 시작\n",
        "goto(start_x, start_y)\n",
        "solve_maze(start_x, start_y)\n",
        "import pprint  #pprint는 구조화된 형태로 데이터 출력해주는 함수\n",
        "pprint.pprint(maze)"
      ]
    }
  ]
}