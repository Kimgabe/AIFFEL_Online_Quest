{
  "nbformat": 4,
  "nbformat_minor": 0,
  "metadata": {
    "colab": {
      "provenance": [],
      "authorship_tag": "ABX9TyPJUNVXIL+8+6B39XCi9fO1",
      "include_colab_link": true
    },
    "kernelspec": {
      "name": "python3",
      "display_name": "Python 3"
    },
    "language_info": {
      "name": "python"
    }
  },
  "cells": [
    {
      "cell_type": "markdown",
      "metadata": {
        "id": "view-in-github",
        "colab_type": "text"
      },
      "source": [
        "<a href=\"https://colab.research.google.com/github/hjhan1201/AIFFEL_Online_Quest/blob/main/DeepLearning_CV1_MLP.ipynb\" target=\"_parent\"><img src=\"https://colab.research.google.com/assets/colab-badge.svg\" alt=\"Open In Colab\"/></a>"
      ]
    },
    {
      "cell_type": "code",
      "execution_count": 33,
      "metadata": {
        "id": "t7MCtUGkOlcq"
      },
      "outputs": [],
      "source": [
        "import sys\n",
        "import tensorflow as tf\n",
        "import numpy as np"
      ]
    },
    {
      "cell_type": "code",
      "source": [
        "# MNIST 데이터셋 불러오기\n",
        "(X_train, Y_train), (X_test, Y_test) = tf.keras.datasets.mnist.load_data()\n",
        "\n",
        "# shape 확인하기\n",
        "print(X_train.shape) # 28 x 28의 이미지가 60,000장\n",
        "print(Y_train.shape) ## [ 5, 1, 2, 3, 4, 4,   .... ]\n",
        "print(\"학습셋 이미지 수 : %d 개\" % (X_train.shape[0]))\n",
        "print(\"테스트셋 이미지 수 : %d 개\" % (X_test.shape[0]))"
      ],
      "metadata": {
        "colab": {
          "base_uri": "https://localhost:8080/"
        },
        "id": "WBUgudBVWjOY",
        "outputId": "ceb19f96-688d-4b8d-8b09-efa5be0290b6"
      },
      "execution_count": 34,
      "outputs": [
        {
          "output_type": "stream",
          "name": "stdout",
          "text": [
            "(60000, 28, 28)\n",
            "(60000,)\n",
            "학습셋 이미지 수 : 60000 개\n",
            "테스트셋 이미지 수 : 10000 개\n"
          ]
        }
      ]
    },
    {
      "cell_type": "code",
      "source": [
        "# MNIST 데이터를 시각화하기\n",
        "import matplotlib.pyplot as plt\n",
        "print(Y_train[0])\n",
        "plt.imshow(X_train[0], cmap='Greys') # 흑백 이미지로 확인\n",
        "plt.show()"
      ],
      "metadata": {
        "colab": {
          "base_uri": "https://localhost:8080/",
          "height": 448
        },
        "id": "-AQV1ChiWlKY",
        "outputId": "a0d650f9-cfc4-46bf-98a1-a2476e81723b"
      },
      "execution_count": 35,
      "outputs": [
        {
          "output_type": "stream",
          "name": "stdout",
          "text": [
            "5\n"
          ]
        },
        {
          "output_type": "display_data",
          "data": {
            "text/plain": [
              "<Figure size 640x480 with 1 Axes>"
            ],
            "image/png": "[encoded data removed]"
          },
          "metadata": {}
        }
      ]
    },
    {
      "cell_type": "code",
      "source": [
        "# 데이터를 직접 들여다보기\n",
        "for x in X_train[0]:\n",
        "    for i in x:\n",
        "        sys.stdout.write('%d\\t' % i)\n",
        "    sys.stdout.write('\\n')"
      ],
      "metadata": {
        "colab": {
          "base_uri": "https://localhost:8080/"
        },
        "id": "8cfzr5fvWm2D",
        "outputId": "1106e46d-66fa-444e-ffac-501f79a62776"
      },
      "execution_count": 36,
      "outputs": [
        {
          "output_type": "stream",
          "name": "stdout",
          "text": [
            "0\t0\t0\t0\t0\t0\t0\t0\t0\t0\t0\t0\t0\t0\t0\t0\t0\t0\t0\t0\t0\t0\t0\t0\t0\t0\t0\t0\t\n",
            "0\t0\t0\t0\t0\t0\t0\t0\t0\t0\t0\t0\t0\t0\t0\t0\t0\t0\t0\t0\t0\t0\t0\t0\t0\t0\t0\t0\t\n",
            "0\t0\t0\t0\t0\t0\t0\t0\t0\t0\t0\t0\t0\t0\t0\t0\t0\t0\t0\t0\t0\t0\t0\t0\t0\t0\t0\t0\t\n",
            "0\t0\t0\t0\t0\t0\t0\t0\t0\t0\t0\t0\t0\t0\t0\t0\t0\t0\t0\t0\t0\t0\t0\t0\t0\t0\t0\t0\t\n",
            "0\t0\t0\t0\t0\t0\t0\t0\t0\t0\t0\t0\t0\t0\t0\t0\t0\t0\t0\t0\t0\t0\t0\t0\t0\t0\t0\t0\t\n",
            "0\t0\t0\t0\t0\t0\t0\t0\t0\t0\t0\t0\t3\t18\t18\t18\t126\t136\t175\t26\t166\t255\t247\t127\t0\t0\t0\t0\t\n",
            "0\t0\t0\t0\t0\t0\t0\t0\t30\t36\t94\t154\t170\t253\t253\t253\t253\t253\t225\t172\t253\t242\t195\t64\t0\t0\t0\t0\t\n",
            "0\t0\t0\t0\t0\t0\t0\t49\t238\t253\t253\t253\t253\t253\t253\t253\t253\t251\t93\t82\t82\t56\t39\t0\t0\t0\t0\t0\t\n",
            "0\t0\t0\t0\t0\t0\t0\t18\t219\t253\t253\t253\t253\t253\t198\t182\t247\t241\t0\t0\t0\t0\t0\t0\t0\t0\t0\t0\t\n",
            "0\t0\t0\t0\t0\t0\t0\t0\t80\t156\t107\t253\t253\t205\t11\t0\t43\t154\t0\t0\t0\t0\t0\t0\t0\t0\t0\t0\t\n",
            "0\t0\t0\t0\t0\t0\t0\t0\t0\t14\t1\t154\t253\t90\t0\t0\t0\t0\t0\t0\t0\t0\t0\t0\t0\t0\t0\t0\t\n",
            "0\t0\t0\t0\t0\t0\t0\t0\t0\t0\t0\t139\t253\t190\t2\t0\t0\t0\t0\t0\t0\t0\t0\t0\t0\t0\t0\t0\t\n",
            "0\t0\t0\t0\t0\t0\t0\t0\t0\t0\t0\t11\t190\t253\t70\t0\t0\t0\t0\t0\t0\t0\t0\t0\t0\t0\t0\t0\t\n",
            "0\t0\t0\t0\t0\t0\t0\t0\t0\t0\t0\t0\t35\t241\t225\t160\t108\t1\t0\t0\t0\t0\t0\t0\t0\t0\t0\t0\t\n",
            "0\t0\t0\t0\t0\t0\t0\t0\t0\t0\t0\t0\t0\t81\t240\t253\t253\t119\t25\t0\t0\t0\t0\t0\t0\t0\t0\t0\t\n",
            "0\t0\t0\t0\t0\t0\t0\t0\t0\t0\t0\t0\t0\t0\t45\t186\t253\t253\t150\t27\t0\t0\t0\t0\t0\t0\t0\t0\t\n",
            "0\t0\t0\t0\t0\t0\t0\t0\t0\t0\t0\t0\t0\t0\t0\t16\t93\t252\t253\t187\t0\t0\t0\t0\t0\t0\t0\t0\t\n",
            "0\t0\t0\t0\t0\t0\t0\t0\t0\t0\t0\t0\t0\t0\t0\t0\t0\t249\t253\t249\t64\t0\t0\t0\t0\t0\t0\t0\t\n",
            "0\t0\t0\t0\t0\t0\t0\t0\t0\t0\t0\t0\t0\t0\t46\t130\t183\t253\t253\t207\t2\t0\t0\t0\t0\t0\t0\t0\t\n",
            "0\t0\t0\t0\t0\t0\t0\t0\t0\t0\t0\t0\t39\t148\t229\t253\t253\t253\t250\t182\t0\t0\t0\t0\t0\t0\t0\t0\t\n",
            "0\t0\t0\t0\t0\t0\t0\t0\t0\t0\t24\t114\t221\t253\t253\t253\t253\t201\t78\t0\t0\t0\t0\t0\t0\t0\t0\t0\t\n",
            "0\t0\t0\t0\t0\t0\t0\t0\t23\t66\t213\t253\t253\t253\t253\t198\t81\t2\t0\t0\t0\t0\t0\t0\t0\t0\t0\t0\t\n",
            "0\t0\t0\t0\t0\t0\t18\t171\t219\t253\t253\t253\t253\t195\t80\t9\t0\t0\t0\t0\t0\t0\t0\t0\t0\t0\t0\t0\t\n",
            "0\t0\t0\t0\t55\t172\t226\t253\t253\t253\t253\t244\t133\t11\t0\t0\t0\t0\t0\t0\t0\t0\t0\t0\t0\t0\t0\t0\t\n",
            "0\t0\t0\t0\t136\t253\t253\t253\t212\t135\t132\t16\t0\t0\t0\t0\t0\t0\t0\t0\t0\t0\t0\t0\t0\t0\t0\t0\t\n",
            "0\t0\t0\t0\t0\t0\t0\t0\t0\t0\t0\t0\t0\t0\t0\t0\t0\t0\t0\t0\t0\t0\t0\t0\t0\t0\t0\t0\t\n",
            "0\t0\t0\t0\t0\t0\t0\t0\t0\t0\t0\t0\t0\t0\t0\t0\t0\t0\t0\t0\t0\t0\t0\t0\t0\t0\t0\t0\t\n",
            "0\t0\t0\t0\t0\t0\t0\t0\t0\t0\t0\t0\t0\t0\t0\t0\t0\t0\t0\t0\t0\t0\t0\t0\t0\t0\t0\t0\t\n"
          ]
        }
      ]
    },
    {
      "cell_type": "markdown",
      "source": [
        "MLP(Multi Layer Perceptron)의 입력 데이터는 기본적으로 벡터 형태입니다.\n",
        "X_train은 28 x 28 크기의 MNIST 데이터 60,000개가 모여 있는 배열이기 때문에, 각각의 데이터를 (28, 28) 크기의 행렬(2차원)에서 길이가 28x28=784인 벡터(1차원)로 변형시켜야 합니다. X_test에 포함된 데이터도 reshape() 함수를 사용하여 크기를 바꿔줍시다.\n",
        "\n",
        "\n",
        "\n",
        "\n"
      ],
      "metadata": {
        "id": "n2LGEL3WW9WT"
      }
    },
    {
      "cell_type": "code",
      "source": [
        "# MLP 구조에 적절한 input의 형태로 변형하기\n",
        "## reshape()을 사용하여 2차원의 데이터를 1차원으로 변형\n",
        "## 1차원으로 변형함과 동시에 Normalization\n",
        "X_train = X_train.reshape(X_train.shape[0], 784).astype('float32') # 28 x 28= 784\n",
        "X_test = X_test.reshape(X_test.shape[0], 784).astype('float32')"
      ],
      "metadata": {
        "id": "pOD9vhi_W-W2"
      },
      "execution_count": 37,
      "outputs": []
    },
    {
      "cell_type": "code",
      "source": [
        "# Q. reshape한 X_train과 X_test의 shape을 다시 확인해 보세요.\n",
        "print(X_train.shape)\n",
        "print(X_test.shape)"
      ],
      "metadata": {
        "colab": {
          "base_uri": "https://localhost:8080/"
        },
        "id": "bbSGXsxZXDYU",
        "outputId": "85ef71a8-8e09-4dc4-89d7-e84073c5d331"
      },
      "execution_count": 38,
      "outputs": [
        {
          "output_type": "stream",
          "name": "stdout",
          "text": [
            "(60000, 784)\n",
            "(10000, 784)\n"
          ]
        }
      ]
    },
    {
      "cell_type": "markdown",
      "source": [
        "label의 경우 현재 0~9의 정수 값을 가지고 있습니다.\n",
        "이 값들을 분류 문제에 맞게 one-hot vector로 만들어줍시다. Y_train, Y_test의 shape을 다시 보면 길이가 10인 벡터 60,000개(test는 10,000개)가 묶인 형태로 바뀐 것을 확인할 수 있습니다."
      ],
      "metadata": {
        "id": "QONX6CjkXqmV"
      }
    },
    {
      "cell_type": "code",
      "source": [
        "# Label 값을 One-hot encoding 하기\n",
        "# Multi-Class Classfication이므로 keras.utils.to_categorical을 사용\n",
        "Y_train = tf.keras.utils.to_categorical(Y_train)\n",
        "Y_test = tf.keras.utils.to_categorical(Y_test)"
      ],
      "metadata": {
        "id": "GFl-ApTNXTbK"
      },
      "execution_count": 39,
      "outputs": []
    },
    {
      "cell_type": "code",
      "source": [
        "print(Y_train.shape)\n",
        "print(Y_test.shape)\n",
        "print(Y_train[0])"
      ],
      "metadata": {
        "colab": {
          "base_uri": "https://localhost:8080/"
        },
        "id": "b20jfJWpXZ70",
        "outputId": "538b5592-50e3-4320-bc85-8f0ae46a0379"
      },
      "execution_count": 40,
      "outputs": [
        {
          "output_type": "stream",
          "name": "stdout",
          "text": [
            "(60000, 10)\n",
            "(10000, 10)\n",
            "[0. 0. 0. 0. 0. 1. 0. 0. 0. 0.]\n"
          ]
        }
      ]
    },
    {
      "cell_type": "markdown",
      "source": [
        "본격적으로 MLP 모델을 만들어봅시다. 모델을 만드는 여러 가지 방법이 있지만 여기서는 Functional API로 만들어 봅시다.\n",
        "\n",
        "이번에 구현할 모델은 input layer와 두 개의 hidden layer, 그리고 output layer로 구성되어 있습니다.\n",
        "특히 output layer는 특별한 task를 수행하는데, 이 경우에는 10개의 class를 분류 (multi-class classification)하는 것입니다. 만약 output layer의 perceptron이 회귀 문제에서와 같이 실수 출력 값을 가진다면 수행하고자 하는 분류 task에 적절하지 않습니다. 왜냐 하면 분류 문제에서 label 값은 one-hot vector로 인코딩되고, 이것은 특정 클래스에 속할 확률이 1이라고 해석될 수 있기 때문입니다. 그러므로 10개의 perceptron에서 나온 출력을 확률 값으로 만들기 위해 활성화 함수로 softmax를 사용해야 합니다."
      ],
      "metadata": {
        "id": "Bc8F0TMgXtXg"
      }
    },
    {
      "cell_type": "code",
      "source": [
        "# 모델 설계하기\n",
        "input_layer = tf.keras.layers.Input(shape=(784,)) # input layer, input의 사이즈에 맞게 shape을 지정하는 것이 중요\n",
        "x = tf.keras.layers.Dense(512, activation='relu')(input_layer) # hidden layer 1, 512개의 perceptron으로 구성된 fully connted layer, activation 함수는 relu\n",
        "x = tf.keras.layers.Dense(512, activation='relu')(x) # hidden layer 2\n",
        "x = tf.keras.layers.Dense(512, activation='relu')(x) # hidden layer 3\n",
        "x = tf.keras.layers.Dense(512, activation='relu')(x) # hidden layer 4\n",
        "\n",
        "# 분류해야 하는 class 0~9 (10개) -> 따라서 최종 layer의 perceptron은 10개\n",
        "out_layer= tf.keras.layers.Dense(10, activation='softmax')(x)\n",
        "\n",
        "model = tf.keras.Model(inputs=[input_layer], outputs=[out_layer])\n",
        "model.summary()"
      ],
      "metadata": {
        "colab": {
          "base_uri": "https://localhost:8080/"
        },
        "id": "iFC-LkXdXaV0",
        "outputId": "5c78efa6-9664-4cc0-9e2d-5e1c261e98aa"
      },
      "execution_count": 41,
      "outputs": [
        {
          "output_type": "stream",
          "name": "stdout",
          "text": [
            "Model: \"model_3\"\n",
            "_________________________________________________________________\n",
            " Layer (type)                Output Shape              Param #   \n",
            "=================================================================\n",
            " input_4 (InputLayer)        [(None, 784)]             0         \n",
            "                                                                 \n",
            " dense_13 (Dense)            (None, 512)               401920    \n",
            "                                                                 \n",
            " dense_14 (Dense)            (None, 512)               262656    \n",
            "                                                                 \n",
            " dense_15 (Dense)            (None, 512)               262656    \n",
            "                                                                 \n",
            " dense_16 (Dense)            (None, 512)               262656    \n",
            "                                                                 \n",
            " dense_17 (Dense)            (None, 10)                5130      \n",
            "                                                                 \n",
            "=================================================================\n",
            "Total params: 1195018 (4.56 MB)\n",
            "Trainable params: 1195018 (4.56 MB)\n",
            "Non-trainable params: 0 (0.00 Byte)\n",
            "_________________________________________________________________\n"
          ]
        }
      ]
    },
    {
      "cell_type": "code",
      "source": [
        "loss=tf.keras.losses.categorical_crossentropy\n",
        "optimizer = tf.keras.optimizers.Adam(learning_rate = 0.001)\n",
        "metric=tf.keras.metrics.categorical_accuracy\n",
        "model.compile(loss = loss,\n",
        "              optimizer = optimizer,\n",
        "              metrics = [metric])"
      ],
      "metadata": {
        "id": "h6u3eBuGYY0W"
      },
      "execution_count": 42,
      "outputs": []
    },
    {
      "cell_type": "code",
      "source": [
        "# validation_data 옵션으로 테스트 데이터만 넣어주어서 검증 데이터 분류가 가능\n",
        "history = model.fit(X_train, Y_train, validation_split=0.2, epochs=30, batch_size=1000, verbose=1)\n",
        "print(history.history.keys())"
      ],
      "metadata": {
        "colab": {
          "base_uri": "https://localhost:8080/"
        },
        "id": "rfpOoz0hYblQ",
        "outputId": "24ef2bf6-d15e-418c-f663-76e6e0f667eb"
      },
      "execution_count": 43,
      "outputs": [
        {
          "output_type": "stream",
          "name": "stdout",
          "text": [
            "Epoch 1/30\n",
            "48/48 [==============================] - 9s 147ms/step - loss: 8.4691 - categorical_accuracy: 0.7233 - val_loss: 0.3504 - val_categorical_accuracy: 0.9105\n",
            "Epoch 2/30\n",
            "48/48 [==============================] - 8s 172ms/step - loss: 0.2548 - categorical_accuracy: 0.9270 - val_loss: 0.2375 - val_categorical_accuracy: 0.9358\n",
            "Epoch 3/30\n",
            "48/48 [==============================] - 7s 139ms/step - loss: 0.1440 - categorical_accuracy: 0.9577 - val_loss: 0.1975 - val_categorical_accuracy: 0.9461\n",
            "Epoch 4/30\n",
            "48/48 [==============================] - 8s 174ms/step - loss: 0.0854 - categorical_accuracy: 0.9760 - val_loss: 0.1884 - val_categorical_accuracy: 0.9488\n",
            "Epoch 5/30\n",
            "48/48 [==============================] - 7s 139ms/step - loss: 0.0522 - categorical_accuracy: 0.9857 - val_loss: 0.1796 - val_categorical_accuracy: 0.9540\n",
            "Epoch 6/30\n",
            "48/48 [==============================] - 8s 175ms/step - loss: 0.0297 - categorical_accuracy: 0.9932 - val_loss: 0.1739 - val_categorical_accuracy: 0.9563\n",
            "Epoch 7/30\n",
            "48/48 [==============================] - 7s 138ms/step - loss: 0.0166 - categorical_accuracy: 0.9972 - val_loss: 0.1781 - val_categorical_accuracy: 0.9578\n",
            "Epoch 8/30\n",
            "48/48 [==============================] - 8s 175ms/step - loss: 0.0094 - categorical_accuracy: 0.9992 - val_loss: 0.1762 - val_categorical_accuracy: 0.9597\n",
            "Epoch 9/30\n",
            "48/48 [==============================] - 7s 139ms/step - loss: 0.0054 - categorical_accuracy: 0.9999 - val_loss: 0.1786 - val_categorical_accuracy: 0.9603\n",
            "Epoch 10/30\n",
            "48/48 [==============================] - 8s 174ms/step - loss: 0.0035 - categorical_accuracy: 0.9999 - val_loss: 0.1818 - val_categorical_accuracy: 0.9603\n",
            "Epoch 11/30\n",
            "48/48 [==============================] - 7s 138ms/step - loss: 0.0025 - categorical_accuracy: 1.0000 - val_loss: 0.1840 - val_categorical_accuracy: 0.9607\n",
            "Epoch 12/30\n",
            "48/48 [==============================] - 8s 174ms/step - loss: 0.0019 - categorical_accuracy: 1.0000 - val_loss: 0.1871 - val_categorical_accuracy: 0.9612\n",
            "Epoch 13/30\n",
            "48/48 [==============================] - 7s 154ms/step - loss: 0.0015 - categorical_accuracy: 1.0000 - val_loss: 0.1894 - val_categorical_accuracy: 0.9621\n",
            "Epoch 14/30\n",
            "48/48 [==============================] - 8s 158ms/step - loss: 0.0012 - categorical_accuracy: 1.0000 - val_loss: 0.1903 - val_categorical_accuracy: 0.9622\n",
            "Epoch 15/30\n",
            "48/48 [==============================] - 8s 166ms/step - loss: 0.0010 - categorical_accuracy: 1.0000 - val_loss: 0.1932 - val_categorical_accuracy: 0.9622\n",
            "Epoch 16/30\n",
            "48/48 [==============================] - 7s 143ms/step - loss: 8.5488e-04 - categorical_accuracy: 1.0000 - val_loss: 0.1943 - val_categorical_accuracy: 0.9628\n",
            "Epoch 17/30\n",
            "48/48 [==============================] - 8s 171ms/step - loss: 7.3263e-04 - categorical_accuracy: 1.0000 - val_loss: 0.1964 - val_categorical_accuracy: 0.9624\n",
            "Epoch 18/30\n",
            "48/48 [==============================] - 7s 139ms/step - loss: 6.4070e-04 - categorical_accuracy: 1.0000 - val_loss: 0.1975 - val_categorical_accuracy: 0.9631\n",
            "Epoch 19/30\n",
            "48/48 [==============================] - 8s 173ms/step - loss: 5.6035e-04 - categorical_accuracy: 1.0000 - val_loss: 0.1989 - val_categorical_accuracy: 0.9629\n",
            "Epoch 20/30\n",
            "48/48 [==============================] - 7s 139ms/step - loss: 4.9517e-04 - categorical_accuracy: 1.0000 - val_loss: 0.2006 - val_categorical_accuracy: 0.9635\n",
            "Epoch 21/30\n",
            "48/48 [==============================] - 8s 174ms/step - loss: 4.4051e-04 - categorical_accuracy: 1.0000 - val_loss: 0.2026 - val_categorical_accuracy: 0.9632\n",
            "Epoch 22/30\n",
            "48/48 [==============================] - 7s 138ms/step - loss: 3.9410e-04 - categorical_accuracy: 1.0000 - val_loss: 0.2036 - val_categorical_accuracy: 0.9638\n",
            "Epoch 23/30\n",
            "48/48 [==============================] - 8s 175ms/step - loss: 3.5517e-04 - categorical_accuracy: 1.0000 - val_loss: 0.2042 - val_categorical_accuracy: 0.9637\n",
            "Epoch 24/30\n",
            "48/48 [==============================] - 7s 140ms/step - loss: 3.2120e-04 - categorical_accuracy: 1.0000 - val_loss: 0.2059 - val_categorical_accuracy: 0.9638\n",
            "Epoch 25/30\n",
            "48/48 [==============================] - 8s 174ms/step - loss: 2.9057e-04 - categorical_accuracy: 1.0000 - val_loss: 0.2070 - val_categorical_accuracy: 0.9641\n",
            "Epoch 26/30\n",
            "48/48 [==============================] - 7s 140ms/step - loss: 2.6563e-04 - categorical_accuracy: 1.0000 - val_loss: 0.2082 - val_categorical_accuracy: 0.9643\n",
            "Epoch 27/30\n",
            "48/48 [==============================] - 8s 172ms/step - loss: 2.4285e-04 - categorical_accuracy: 1.0000 - val_loss: 0.2092 - val_categorical_accuracy: 0.9643\n",
            "Epoch 28/30\n",
            "48/48 [==============================] - 7s 139ms/step - loss: 2.2268e-04 - categorical_accuracy: 1.0000 - val_loss: 0.2101 - val_categorical_accuracy: 0.9646\n",
            "Epoch 29/30\n",
            "48/48 [==============================] - 8s 168ms/step - loss: 2.0456e-04 - categorical_accuracy: 1.0000 - val_loss: 0.2112 - val_categorical_accuracy: 0.9643\n",
            "Epoch 30/30\n",
            "48/48 [==============================] - 7s 155ms/step - loss: 1.8849e-04 - categorical_accuracy: 1.0000 - val_loss: 0.2128 - val_categorical_accuracy: 0.9642\n",
            "dict_keys(['loss', 'categorical_accuracy', 'val_loss', 'val_categorical_accuracy'])\n"
          ]
        }
      ]
    },
    {
      "cell_type": "code",
      "source": [
        "# Training loss 확인하기\n",
        "loss = history.history['loss']\n",
        "print(loss)"
      ],
      "metadata": {
        "colab": {
          "base_uri": "https://localhost:8080/"
        },
        "id": "UW9n8lYEaNvo",
        "outputId": "ecb494f8-c658-42f9-d467-0fd4b7d877df"
      },
      "execution_count": 46,
      "outputs": [
        {
          "output_type": "stream",
          "name": "stdout",
          "text": [
            "[8.469109535217285, 0.25477609038352966, 0.14404696226119995, 0.0853719562292099, 0.0521961972117424, 0.0297431331127882, 0.016590537503361702, 0.00937130767852068, 0.0054360986687242985, 0.003537963144481182, 0.002502073999494314, 0.0018799917306751013, 0.001478457823395729, 0.0011994615197181702, 0.0010016318410634995, 0.0008548811310902238, 0.0007326269405893981, 0.0006407011533156037, 0.0005603546742349863, 0.0004951708251610398, 0.00044051004806533456, 0.0003940981114283204, 0.00035516859497874975, 0.00032120203832164407, 0.00029056568746455014, 0.00026563333813101053, 0.00024285145627800375, 0.00022267893655225635, 0.00020456433412618935, 0.00018848896434064955]\n"
          ]
        }
      ]
    },
    {
      "cell_type": "code",
      "source": [
        "# Q. Validation loss를 확인해 보세요.\n",
        "val_loss = history.history['val_loss']\n",
        "print(val_loss)"
      ],
      "metadata": {
        "colab": {
          "base_uri": "https://localhost:8080/"
        },
        "id": "2PbfJ0uJaPeI",
        "outputId": "deb52507-64cc-46a2-b609-efa13daa4523"
      },
      "execution_count": 47,
      "outputs": [
        {
          "output_type": "stream",
          "name": "stdout",
          "text": [
            "[0.3503771424293518, 0.2374558299779892, 0.19746698439121246, 0.18837964534759521, 0.17961588501930237, 0.17390252649784088, 0.1780814230442047, 0.17619942128658295, 0.17857737839221954, 0.18180252611637115, 0.18399393558502197, 0.1871172934770584, 0.18943585455417633, 0.1902880072593689, 0.193231999874115, 0.19425445795059204, 0.1963813751935959, 0.19746416807174683, 0.19893363118171692, 0.20063215494155884, 0.2026379555463791, 0.20361344516277313, 0.20417416095733643, 0.205922469496727, 0.2070101946592331, 0.20819148421287537, 0.20918552577495575, 0.21013639867305756, 0.21119728684425354, 0.2128133475780487]\n"
          ]
        }
      ]
    },
    {
      "cell_type": "code",
      "source": [],
      "metadata": {
        "id": "E-wfNVigcQum"
      },
      "execution_count": null,
      "outputs": []
    },
    {
      "cell_type": "code",
      "source": [
        "# Test 데이터를 통해서 정확도 확인하기\n",
        "print(\"\\n Test Accuracy: %.4f\" % (model.evaluate(X_test, Y_test)[1]))"
      ],
      "metadata": {
        "colab": {
          "base_uri": "https://localhost:8080/"
        },
        "id": "o3iJ0h45aRJJ",
        "outputId": "9d3f00d6-d89f-4545-89f3-70911ccefe0d"
      },
      "execution_count": 48,
      "outputs": [
        {
          "output_type": "stream",
          "name": "stdout",
          "text": [
            "313/313 [==============================] - 3s 9ms/step - loss: 0.1938 - categorical_accuracy: 0.9645\n",
            "\n",
            " Test Accuracy: 0.9645\n"
          ]
        }
      ]
    },
    {
      "cell_type": "code",
      "source": [
        "# 그래프로 표현\n",
        "x_len = np.arange(len(val_loss))\n",
        "plt.plot(x_len, val_loss, marker='.', c=\"red\", label='validation loss')\n",
        "plt.plot(x_len, loss, marker='.', c=\"blue\", label='training loss')\n",
        "\n",
        "# 그래프에 그리드를 주고 레이블을 표시\n",
        "plt.legend(loc='upper right')\n",
        "# plt.axis([0, 20, 0, 0.35])\n",
        "plt.grid()\n",
        "plt.xlabel('epoch')\n",
        "plt.ylabel('loss')\n",
        "plt.show()"
      ],
      "metadata": {
        "colab": {
          "base_uri": "https://localhost:8080/",
          "height": 449
        },
        "id": "sQQpJHaTaWRS",
        "outputId": "32d854e7-93fe-4820-86b7-20da38d91e28"
      },
      "execution_count": 49,
      "outputs": [
        {
          "output_type": "display_data",
          "data": {
            "text/plain": [
              "<Figure size 640x480 with 1 Axes>"
            ],
            "image/png": "[encoded data removed]"
          },
          "metadata": {}
        }
      ]
    },
    {
      "cell_type": "code",
      "source": [],
      "metadata": {
        "id": "srh9GSWpaWxK"
      },
      "execution_count": null,
      "outputs": []
    },
    {
      "cell_type": "markdown",
      "source": [
        "MLP 모델의 한계를 코드로 확인해 보겠습니다. 원본 데이터를 살짝 변형했을 때 MLP 구조가 이미지를 잘 인식하는지 실펴 보겠습니다.\n",
        "\n",
        "원본 데이터를 변형해서 MLP 구조의 성능 테스트하기\n",
        "이번 스텝에서 사용할 OpenCV 라이브러리와 MNIST 데이터를 불러옵시다. 참고로 OpenCV 라이브러리는 이미지 데이터를 다루는 데에 매우 효과적인 도구들을 갖추고 있는 모듈입니다."
      ],
      "metadata": {
        "id": "cQd8DtdjcTRO"
      }
    },
    {
      "cell_type": "code",
      "source": [
        "# OpenCV 모듈 불러오기\n",
        "import cv2"
      ],
      "metadata": {
        "id": "65xG71cZcUHx"
      },
      "execution_count": 50,
      "outputs": []
    },
    {
      "cell_type": "code",
      "source": [
        "# MNIST 데이터셋 불러오기\n",
        "(X_train, Y_train), (X_test, Y_test) = tf.keras.datasets.mnist.load_data()\n",
        "\n",
        "# shape 확인하기\n",
        "print(X_train.shape) # 28 x 28의 이미지가 60,000장\n",
        "print(Y_train.shape) ## [ 5, 1, 2, 3, 4, 4,   .... ]\n",
        "print(\"학습셋 이미지 수 : %d 개\" % (X_train.shape[0]))\n",
        "print(\"테스트셋 이미지 수 : %d 개\" % (X_test.shape[0]))"
      ],
      "metadata": {
        "colab": {
          "base_uri": "https://localhost:8080/"
        },
        "id": "DpF0AI58cbUK",
        "outputId": "c6c66021-528c-4ba7-eb78-c7841017f3ab"
      },
      "execution_count": 51,
      "outputs": [
        {
          "output_type": "stream",
          "name": "stdout",
          "text": [
            "(60000, 28, 28)\n",
            "(60000,)\n",
            "학습셋 이미지 수 : 60000 개\n",
            "테스트셋 이미지 수 : 10000 개\n"
          ]
        }
      ]
    },
    {
      "cell_type": "markdown",
      "source": [
        "이번에는 MNIST 데이터에 장난을 조금 쳐보겠습니다.\n",
        "OpenCV의 함수들을 이용해서 MNIST 이미지에 회전 변환과 이동 변환(선형 변환)을 적용합니다.\n",
        "\n",
        "선형 변환을 위해서 변환 매트릭스를 먼저 구하고, 이미지에 변환 매트릭스를 적용해 봅시다. 즉 원본 이미지에 선형 변환 매트릭스를 곱하여 원본 이미지를 변환하는 것입니다."
      ],
      "metadata": {
        "id": "25_WBphfcgzL"
      }
    },
    {
      "cell_type": "code",
      "source": [
        "# 이미지 회전 변환 메트릭스 구하기\n",
        "M= cv2.getRotationMatrix2D((20, 25), 20, 1)  ## 회전 변환 Matrix 생성\n",
        "\n",
        "# 이미지 이동 변환 메트릭스 구하기\n",
        "M[0, 2] = M[0, 2] + 3\n",
        "M[1, 2] = M[1, 2] + 3\n",
        "\n",
        "# 이미지 변환 메트릭스 적용\n",
        "test_image = cv2.warpAffine(X_train[5], M, (28, 28))  ## image에 matrix 곱"
      ],
      "metadata": {
        "id": "CWHhC9sucbwq"
      },
      "execution_count": 52,
      "outputs": []
    },
    {
      "cell_type": "code",
      "source": [
        "plt.imshow(test_image, cmap='Greys')"
      ],
      "metadata": {
        "colab": {
          "base_uri": "https://localhost:8080/",
          "height": 448
        },
        "id": "hJ3W4PW9dxSf",
        "outputId": "348522b2-30bc-427b-fca6-581c367b3562"
      },
      "execution_count": 53,
      "outputs": [
        {
          "output_type": "execute_result",
          "data": {
            "text/plain": [
              "<matplotlib.image.AxesImage at 0x7bd7fcb83550>"
            ]
          },
          "metadata": {},
          "execution_count": 53
        },
        {
          "output_type": "display_data",
          "data": {
            "text/plain": [
              "<Figure size 640x480 with 1 Axes>"
            ],
            "image/png": "[encoded data removed]"
          },
          "metadata": {}
        }
      ]
    },
    {
      "cell_type": "code",
      "source": [
        "# MLP의 input 데이터를 넣어주기 위해 1x784 형태로 reshape하고 normalization\n",
        "test_image_reshape = test_image.reshape(1, 784).astype('float64')"
      ],
      "metadata": {
        "id": "A5F4m01sd18E"
      },
      "execution_count": 54,
      "outputs": []
    },
    {
      "cell_type": "code",
      "source": [
        "Y_prediction = model.predict(test_image_reshape)"
      ],
      "metadata": {
        "colab": {
          "base_uri": "https://localhost:8080/"
        },
        "id": "l7qWzZC3d7N1",
        "outputId": "4aa42197-12f2-4158-99a0-6135946a1407"
      },
      "execution_count": 55,
      "outputs": [
        {
          "output_type": "stream",
          "name": "stdout",
          "text": [
            "1/1 [==============================] - 0s 95ms/step\n"
          ]
        }
      ]
    },
    {
      "cell_type": "code",
      "source": [
        "index = np.argmax(Y_prediction) # 10개의 class가 각 확률 값으로 나오기 때문에 가장 높은 값을 가진 인덱스를 추출\n",
        "value = Y_prediction[:, index]\n",
        "plt.imshow(test_image, cmap='Greys')\n",
        "plt.xlabel(\"prediction: \"+str(index)+\"  \" +str(value), fontsize=20)\n",
        "plt.show()"
      ],
      "metadata": {
        "colab": {
          "base_uri": "https://localhost:8080/",
          "height": 463
        },
        "id": "cYTnXYRPd940",
        "outputId": "b564cd70-2b98-44fc-84d2-bc48647a8936"
      },
      "execution_count": 56,
      "outputs": [
        {
          "output_type": "display_data",
          "data": {
            "text/plain": [
              "<Figure size 640x480 with 1 Axes>"
            ],
            "image/png": "[encoded data removed]"
          },
          "metadata": {}
        }
      ]
    },
    {
      "cell_type": "markdown",
      "source": [
        "분명히 숫자 2를 나타낸 이미지였지만 간단한 변환을 적용했더니 모델은 데이터를 다른 숫자로 잘못 인식했습니다. 즉 MLP로 학습한 모델은 이미지 분류기로서는 robust classifier가 아니라는 것을 알 수 있습니다. MLP를 이용해서 이미지를 분류하는 데에는 뭔가 문제가 있는 것 같습니다.\n",
        "\n",
        "분명히 이전에 학습한 결과는 test loss가 매우 낮았으므로 분류 성능이 좋아야 하는데, 왜 이런 결과를 보이는 걸까요?"
      ],
      "metadata": {
        "id": "4rHB44a6ecit"
      }
    },
    {
      "cell_type": "code",
      "source": [],
      "metadata": {
        "id": "fxH5zcQSd-ay"
      },
      "execution_count": null,
      "outputs": []
    }
  ]
}
