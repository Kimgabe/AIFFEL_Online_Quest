{
  "nbformat": 4,
  "nbformat_minor": 0,
  "metadata": {
    "colab": {
      "provenance": [],
      "authorship_tag": "ABX9TyOu5LtF6J/zTrBC7zGjgZYC",
      "include_colab_link": true
    },
    "kernelspec": {
      "name": "python3",
      "display_name": "Python 3"
    },
    "language_info": {
      "name": "python"
    }
  },
  "cells": [
    {
      "cell_type": "markdown",
      "metadata": {
        "id": "view-in-github",
        "colab_type": "text"
      },
      "source": [
        "<a href=\"https://colab.research.google.com/github/hjhan1201/AIFFEL_Online_Quest/blob/main/mainquest2_%ED%95%9C%ED%98%84%EC%A2%85.ipynb\" target=\"_parent\"><img src=\"https://colab.research.google.com/assets/colab-badge.svg\" alt=\"Open In Colab\"/></a>"
      ]
    },
    {
      "cell_type": "code",
      "execution_count": null,
      "metadata": {
        "colab": {
          "base_uri": "https://localhost:8080/"
        },
        "id": "ANRvc44zIPQL",
        "outputId": "236e3fad-fe72-4712-8cf3-15140ccedffc"
      },
      "outputs": [
        {
          "output_type": "stream",
          "name": "stdout",
          "text": [
            "한현종,2023,29,2,2329200,\n",
            "{'강영현': '강영현,2023,29,2,2329201,', '김경민': '김경민,2023,29,2,2329202,', '김민기': '김민기,2023,29,2,2329203,', '김승순': '김승순,2023,29,2,2329204,', '김양희': '김양희,2023,29,2,2329205,', '김영신': '김영신,2023,29,2,2329206,', '오우진': '오우진,2023,29,2,2329207,', '윤혜윤': '윤혜윤,2023,29,2,2329208,', '이상원': '이상원,2023,29,2,2329209,', '이선재': '이선재,2023,29,2,2329210,', '이슬': '이슬,2023,29,2,2329211,', '이승환': '이승환,2023,29,2,2329212,', '전민규': '전민규,2023,29,2,2329213,', '조보겸': '조보겸,2023,29,2,2329214,', '조수민': '조수민,2023,29,2,2329215,', '최강훈': '최강훈,2023,29,2,2329216,', '한현종': '한현종,2023,29,2,2329217,', '홍채림': '홍채림,2023,29,2,2329218,'}\n",
            "19\n"
          ]
        }
      ],
      "source": [
        "core_members = {\n",
        "        '강영현': 0, '김경민': 0, '김민기': 0, '김승순': 0, '김양희': 0,\n",
        "        '김영신': 0, '오우진': 0, '윤혜윤': 0, '이상원': 0, '이선재': 0,\n",
        "        '이슬': 0, '이승환': 0, '전민규': 0, '조보겸': 0, '조수민': 0,\n",
        "        '최강훈': 0, '한현종': 0, '홍채림': 0}\n",
        "\n",
        "class Aiffel:\n",
        "    count_st = 0  # 학생 수\n",
        "    count_id = 0\n",
        "    def __init__(self, name, admission_year, ord_num, program):\n",
        "        self.name = name\n",
        "        self.admission_year = admission_year\n",
        "        self.ord_num = ord_num\n",
        "        self.program = program\n",
        "        self.student_num = self.gen_student_num()\n",
        "        self.quest_score = 0\n",
        "\n",
        "        Aiffel.count_st += 1\n",
        "\n",
        "    def __str__(self) :\n",
        "      return f\"{self.name},{self.admission_year},{self.ord_num},{self.program},{self.student_num},\"\n",
        "\n",
        "    def gen_student_num(self):  # 학번 만들기\n",
        "        yy = str(self.admission_year)[-2:]\n",
        "        nn = str(self.ord_num)\n",
        "        c = str(self.program)\n",
        "        xx = str(Aiffel.count_st).zfill(2)\n",
        "\n",
        "        student_num = f\"{yy}{nn}{c}{xx}\"\n",
        "        Aiffel.count_id += 1\n",
        "        return student_num\n",
        "\n",
        "    def get_id_num():\n",
        "        print(Aiffel.count_id)\n",
        "\n",
        "    # def score():\n",
        "    #     print() 저는 여기까지....ㅠㅠ 시간만 더있었으면..ㅜㅜ\n",
        "\n",
        "\n",
        "\n",
        "def init_core_members():\n",
        "    for name in core_members.keys():\n",
        "        core_members[name] = str(Aiffel(name, 2023, 29, 2))\n",
        "\n",
        "\n",
        "\n",
        "hj = Aiffel('한현종',2023,29,2)\n",
        "print(hj)\n",
        "init_core_members()\n",
        "print(core_members)\n",
        "Aiffel.get_id_num()"
      ]
    }
  ]
}