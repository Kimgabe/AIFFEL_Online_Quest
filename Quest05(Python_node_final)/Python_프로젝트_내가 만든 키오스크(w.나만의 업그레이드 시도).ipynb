{
 "cells": [
  {
   "cell_type": "markdown",
   "id": "95a67488",
   "metadata": {},
   "source": [
    "# 📌 Intro.\n",
    "\n",
    "---\n",
    "\n",
    "- 총 2가지 프로젝트를 구현해야 합니다.\n",
    "- 첫번째는 평행사변형, 사다리꼴, 넓이를 구하는 메서드 구현 하는 것\n",
    "- 두번째는 Kiosk 클래스를 생성하여, 주문, 추가주문, 지불, 주문표 작의 메서드를 구현하는 것.\n"
   ]
  },
  {
   "cell_type": "markdown",
   "id": "1a234365",
   "metadata": {},
   "source": [
    "# 프로젝트1번 : 평행사변형, 사다리꼴 넓이 구하는 메서드 작성하기\n",
    "\n",
    "## ✔️ 프로젝트 개요\n",
    "---\n",
    "\n",
    "- 가로, 세로, 밑변, 윗변, 높이 등 각각의 도형의 넓이를 구하기 위해 필요한 요소들을 입력받아 계산하고 그 결과를 return 하는 메서드를 구현해야 합니다.\n",
    "\n",
    "- 이를 위한 **각 도형의 공식** 은 아래와 같습니다.\n",
    "- 해당 공식을 메서드 내에 구현해야 합니다.\n",
    "    - 직사각형 넓이 공식 : 가로 x 세로\n",
    "    - 평행사변형 : 밑변 x 높이\n",
    "    - (등변) 사다리꼴 : (밑변 + 윗변) x 높이 /2\n"
   ]
  },
  {
   "cell_type": "markdown",
   "id": "b879afad",
   "metadata": {},
   "source": [
    "## 사각형 클래스 만들기\n",
    "\n",
    "- 3종류의 사각형 넓이를 구하는 사각형(Square)라는 클래스 생성하기\n",
    "- 객체 생성시 자동호출되는 생성자에는 어떤 사각형을 만들지 물어보고 입력받는 함수 입력\n",
    "- 입력값에 대해 관련 메서드를 출력하는 코드도 함께 입력\n",
    "- `__init__`의 매개변수는 self\n",
    "- input()의 결과는 항상 str이므로 int로 변형 필요"
   ]
  },
  {
   "cell_type": "code",
   "execution_count": 1,
   "id": "9b6deeaf",
   "metadata": {
    "ExecuteTime": {
     "end_time": "2023-11-17T14:49:54.370462Z",
     "start_time": "2023-11-17T14:49:54.364970Z"
    }
   },
   "outputs": [],
   "source": [
    "class Square:\n",
    "    def __init__(self):  # 생성자__init__의 매개변수의 첫번째는 self여야 합니다. \n",
    "        self.square = int(input('넓이를 구하고 싶은 사각형의 숫자를 써주세요.\\n 1.직사각형 2.평행사변형 3.사다리꼴 \\n >>>'))  # 입력값을 int로 묶어야 합니다.\n",
    "        \n",
    "\n",
    "        if self.square == 1:\n",
    "            print('직사각형 함수는 rect()입니다.')  # Square 클래스에 rect() 메서드를 추가합니다. \n",
    "\n",
    "        elif self.square == 2:\n",
    "            print('평행사변형 함수는 par()입니다.')  # Square 클래스에 par() 메서드를 추가합니다.  \n",
    "        \n",
    "        elif self.square == 3:\n",
    "            print('사다리꼴 함수는 trape()입니다.')  # Square 클래스에 trape() 메서드를 추가합니다. \n",
    "        \n",
    "        else:\n",
    "            print('1, 2, 3 중에서 다시 입력해주세요')"
   ]
  },
  {
   "cell_type": "markdown",
   "id": "17ffd315",
   "metadata": {},
   "source": [
    "## 직사각형 구하는 메서드 구현하기 (w. map & split)\n",
    "\n",
    "- 도형 계산을 위해서는 입력받은 숫자를 연산할 수 있어야 합니다.\n",
    "- 도형 계산을 위해서 적게는 2개, 많게는 3개의 값을 입력받아야 합니다.\n",
    "- 입력받은 값을 여러개의 변수에 적절한 형태로 가공하여 각각의 변수에 할당해야 합니다.\n",
    "    - input을 통한 값 입력은 한번만 받습니다.\n",
    "    - 입력값을 가공해서 여러개의 변수에 동시에 값을 할당해야 합니다.\n",
    "    - 가공을 위해 map(), int(), split() 함수를 활용합니다.\n",
    "- 위 내용대로 가공하면 아래와 같이 됩니다.\n",
    "    - `map(int, input().split(','))`를 통해 입력값을 쉼표로 구분하고, 각각의 값을 정수형으로 변환하여 변수에 할당합니다."
   ]
  },
  {
   "cell_type": "code",
   "execution_count": 2,
   "id": "7e6e0a64",
   "metadata": {
    "ExecuteTime": {
     "end_time": "2023-11-17T14:49:54.374193Z",
     "start_time": "2023-11-17T14:49:54.371468Z"
    }
   },
   "outputs": [],
   "source": [
    "# 직사각형의 넓이를 구하는 메서드\n",
    "def rect(self):  \n",
    "\n",
    "    #가로, 세로를 입력받는 코드\n",
    "    width, vertical = map(int, input('가로, 세로를 입력하세요. 예시 : 가로,세로\\n >>>').split(','))  \n",
    "    area = width * vertical # 넓이를 구하기\n",
    "    result = '직사각형의 넓이는 : ' + + str(area)\n",
    "    result = f'직사각형의 넓이는 : area' # fstring은 형변환 없이 사용 가능\n",
    "    return result"
   ]
  },
  {
   "cell_type": "markdown",
   "id": "aac42448",
   "metadata": {},
   "source": [
    "### 구현한 메서드 클래스에 넣어서 작동여부 확인"
   ]
  },
  {
   "cell_type": "code",
   "execution_count": 3,
   "id": "66dafb6b",
   "metadata": {
    "ExecuteTime": {
     "end_time": "2023-11-17T14:50:00.810343Z",
     "start_time": "2023-11-17T14:49:54.374193Z"
    }
   },
   "outputs": [
    {
     "name": "stdout",
     "output_type": "stream",
     "text": [
      "넓이를 구하고 싶은 사각형의 숫자를 써주세요.\n",
      " 1.직사각형 2.평행사변형 3.사다리꼴 \n",
      " >>>1\n",
      "직사각형 함수는 rect()입니다.\n",
      "가로, 세로를 입력하세요. 예시 : 가로,세로\n",
      " >>>2,5\n"
     ]
    },
    {
     "data": {
      "text/plain": [
       "'직사각형의 넓이는 : 10'"
      ]
     },
     "execution_count": 3,
     "metadata": {},
     "output_type": "execute_result"
    }
   ],
   "source": [
    "## 클래스 만들기 \n",
    "class Square:\n",
    "    def __init__(self):\n",
    "        self.square = int(input('넓이를 구하고 싶은 사각형의 숫자를 써주세요.\\n 1.직사각형 2.평행사변형 3.사다리꼴 \\n >>>'))\n",
    "\n",
    "        if self.square == 1:\n",
    "            print('직사각형 함수는 rect()입니다.')\n",
    "\n",
    "        elif self.square == 2:\n",
    "            print('평행사변형 함수는 par()입니다.')\n",
    "        \n",
    "        elif self.square == 3:\n",
    "            print('사다리꼴 함수는 trape()입니다.')\n",
    "        \n",
    "        else:\n",
    "            print('1, 2, 3 중에서 다시 입력해주세요')\n",
    "\n",
    "\n",
    "    def rect(self):\n",
    "        width, vertical = map(int, input('가로, 세로를 입력하세요. 예시 : 가로,세로\\n >>>').split(','))\n",
    "        area = width * vertical\n",
    "        result = '직사각형의 넓이는 : ' + str(area)\n",
    "        return result\n",
    "    \n",
    "# 객체 만들기 \n",
    "a = Square()  # 1 입력하기\n",
    "\n",
    "# rect() 메서드 써보기\n",
    "a.rect()"
   ]
  },
  {
   "cell_type": "markdown",
   "id": "71a12498",
   "metadata": {},
   "source": [
    "## 평행사변형 & 사다리꼴 메서드 추가하기\n",
    "\n",
    "- 작성 방식은 기존 rect()메서드와 동일합니다.\n",
    "- 사다리꼴 메서드(trape)의 경우 3개의 변수를 받아야 한다는 점을 고려해야 합니다.\n",
    "- 그 외 메서드의 구조는 모두 동일합니다.\n",
    "- input()을 받아서 변수에 할당하는 코드나, 계산 하는 부분에만 차이가 있을 뿐입니다."
   ]
  },
  {
   "cell_type": "code",
   "execution_count": 4,
   "id": "a68e8a13",
   "metadata": {
    "ExecuteTime": {
     "end_time": "2023-11-17T14:50:00.814850Z",
     "start_time": "2023-11-17T14:50:00.811347Z"
    }
   },
   "outputs": [],
   "source": [
    "# 평행사변형 메서드\n",
    "def par(self):\n",
    "    # 입력받은 값을 각각 , 으로 구분해 base, height에 순서대로 할당\n",
    "    base, height = map(int, input('밑변과 높이를 입력해주세요! ex) 밑변, 높이\\n >>> ').split(','))\n",
    "    area = base * height # 넓이 계산\n",
    "    result = '평행사변형의 넓이는 : ' + str(area)\n",
    "    return result\n",
    "\n",
    "# 사다리꼴 메서드\n",
    "def trape(self):\n",
    "    a, b, height = map(int, input('윗변, 아랫변, 높이를 각각 입력하세요! ex) 윗변, 아랫변, 높이\\ㅜ >>>').split(','))\n",
    "    area = (a+b) * height / 2 # 사다리꼴 계산식 적용\n",
    "    result = '사다리꼴의 넓이는 : ' + str(area)\n",
    "    return result"
   ]
  },
  {
   "cell_type": "markdown",
   "id": "5b84604e",
   "metadata": {},
   "source": [
    "### 클래스에 메서드 입력 및 기능 작동 확인"
   ]
  },
  {
   "cell_type": "code",
   "execution_count": 5,
   "id": "6d814241",
   "metadata": {
    "ExecuteTime": {
     "end_time": "2023-11-17T14:50:12.668497Z",
     "start_time": "2023-11-17T14:50:00.814850Z"
    }
   },
   "outputs": [
    {
     "name": "stdout",
     "output_type": "stream",
     "text": [
      "넓이를 구하고 싶은 사각형의 숫자를 써주세요.\n",
      " 1.직사각형 2.평행사변형 3.사다리꼴 \n",
      " >>>2\n",
      "평행사변형 함수는 par()입니다.\n",
      "밑변과 높이를 입력하세요. 예시 : 밑변,높이\n",
      " >>> 3,2\n",
      "윗변, 아랫변, 높이를 입력하세요. 예시 : 윗변,아랫변,높이\n",
      " >>> 3,2,1\n"
     ]
    },
    {
     "data": {
      "text/plain": [
       "'사다리꼴의 넓이는 : 2.5'"
      ]
     },
     "execution_count": 5,
     "metadata": {},
     "output_type": "execute_result"
    }
   ],
   "source": [
    "# 사각형 넓이를 구하는 클래스 완성!\n",
    "class Square:\n",
    "    def __init__(self):\n",
    "        square = int(input('넓이를 구하고 싶은 사각형의 숫자를 써주세요.\\n 1.직사각형 2.평행사변형 3.사다리꼴 \\n >>>'))\n",
    "\n",
    "        if square == 1:\n",
    "            print('직사각형 함수는 rect()입니다.')\n",
    "\n",
    "        elif square == 2:\n",
    "            print('평행사변형 함수는 par()입니다.')\n",
    "        \n",
    "        elif square == 3:\n",
    "            print('사다리꼴 함수는 trape()입니다.')\n",
    "        \n",
    "        else:\n",
    "            print('1, 2, 3 중에서 다시 입력해주세요')\n",
    "\n",
    "    def rect(self):\n",
    "        width, vertical = map(int, input('가로, 세로를 입력하세요. 예시 : 가로,세로\\n >>>').split(','))\n",
    "        area = width * vertical\n",
    "        result = '직사각형의 넓이는 : ' + str(area)\n",
    "        return result\n",
    "\n",
    "    def par(self):\n",
    "        base, height = map(int, input('밑변과 높이를 입력하세요. 예시 : 밑변,높이\\n >>> ').split(','))\n",
    "        area = base * height\n",
    "        result = '평행사변형의 넓이는 : ' + str(area)\n",
    "        return result\n",
    "\n",
    "    def trape(self):\n",
    "        a, b, height = map(int, input('윗변, 아랫변, 높이를 입력하세요. 예시 : 윗변,아랫변,높이\\n >>> ').split(','))\n",
    "        area = (a + b) * height / 2\n",
    "        result = '사다리꼴의 넓이는 : ' + str(area)\n",
    "        return result\n",
    "\n",
    "a = Square()  # 객체 생성 & 2, 3을 각각 입력\n",
    "\n",
    "# 평형사변형의 넓이\n",
    "a.par()  # 3,2를 입력했을 때 넓이가 6이 나와야 합니다.\n",
    "\n",
    "# 사다리꼴의 넓이\n",
    "a.trape()  # 3,2,1 을 입력했을 때 넓이가 2.5이 나와야 합니다."
   ]
  },
  {
   "cell_type": "code",
   "execution_count": null,
   "id": "95d560fe",
   "metadata": {},
   "outputs": [],
   "source": [
    "# 최종본\n",
    "< 문제 풀이 과정>\n",
    "- Account 클래스 를 정의합니다.\n",
    "- 매직함수를 사용해 생성자를 구현합니다.\n",
    "- 생성된 생성자(__init__)에서 클래스 활용에 필요한 속성을 정의합니다.\n",
    "    - account_num : 예금주 이름 저장\n",
    "    - balance : 초기 잔액을 0원으로 설정\n",
    "    - bank_name : 'SC은행' 으로 고정\n",
    "    - account_number : 계좌번호 (랜덤 생성 필요)\n",
    "- 계좌번호 랜덤 생성 기능 구현\\\n",
    "\n",
    "< 문제 풀이 과정>\n",
    "- Account 클래스 를 정의합니다.\n",
    "- 매직함수를 사용해 생성자를 구현합니다.\n",
    "- 생성된 생성자(__init__)에서 클래스 활용에 필요한 속성을 정의합니다.\n",
    "    - account_num : 예금주 이름 저장\n",
    "    - balance : 초기 잔액을 0원으로 설정\n",
    "    - bank_name : 'SC은행' 으로 고정\n",
    "    - account_number : 계좌번호 (랜덤 생성 필요)\n",
    "- 계좌번호 랜덤 생성 기능 구현\n",
    "\n",
    "# 최종본\n",
    "< 문제 풀이 과정>\n",
    "- Account 클래스 를 정의합니다.\n",
    "- 매직함수를 사용해 생성자를 구현합니다.\n",
    "- 생성된 생성자(__init__)에서 클래스 활용에 필요한 속성을 정의합니다.\n",
    "    - account_num : 예금주 이름 저장\n",
    "    - balance : 초기 잔액을 0원으로 설정\n",
    "    - bank_name : 'SC은행' 으로 고정\n",
    "    - account_number : 계좌번호 (랜덤 생성 필요)\n",
    "- 계좌번호 랜덤 생성 기능 구현\\\n",
    "\n",
    "< 문제 풀이 과정>\n",
    "- Account 클래스 를 정의합니다.\n",
    "- 매직함수를 사용해 생성자를 구현합니다.\n",
    "- 생성된 생성자(__init__)에서 클래스 활용에 필요한 속성을 정의합니다.\n",
    "    - account_num : 예금주 이름 저장\n",
    "    - balance : 초기 잔액을 0원으로 설정\n",
    "    - bank_name : 'SC은행' 으로 고정\n",
    "    - account_number : 계좌번호 (랜덤 생성 필요)\n",
    "- 계좌번호 랜덤 생성 기능 구현\\"
   ]
  },
  {
   "cell_type": "code",
   "execution_count": null,
   "id": "ee46cae0",
   "metadata": {},
   "outputs": [],
   "source": [
    "# 최종본\n",
    "< 문제 풀이 과정>\n",
    "- Account 클래스 를 정의합니다.\n",
    "- 매직함수를 사용해 생성자를 구현합니다.\n",
    "- 생성된 생성자(__init__)에서 클래스 활용에 필요한 속성을 정의합니다.\n",
    "    - account_num : 예금주 이름 저장\n",
    "    - balance : 초기 잔액을 0원으로 설정\n",
    "    - bank_name : 'SC은행' 으로 고정\n",
    "    - account_number : 계좌번호 (랜덤 생성 필요)\n",
    "- 계좌번호 랜덤 생성 기능 구현\\\n",
    "\n",
    "< 문제 풀이 과정>\n",
    "- Account 클래스 를 정의합니다.\n",
    "- 매직함수를 사용해 생성자를 구현합니다.\n",
    "- 생성된 생성자(__init__)에서 클래스 활용에 필요한 속성을 정의합니다.\n",
    "    - account_num : 예금주 이름 저장\n",
    "    - balance : 초기 잔액을 0원으로 설정\n",
    "    - bank_name : 'SC은행' 으로 고정\n",
    "    - account_number : 계좌번호 (랜덤 생성 필요)\n",
    "- 계좌번호 랜덤 생성 기능 구현\\"
   ]
  },
  {
   "cell_type": "code",
   "execution_count": null,
   "id": "716b854b",
   "metadata": {},
   "outputs": [],
   "source": [
    "# 최종본\n",
    "< 문제 풀이 과정>\n",
    "- Account 클래스 를 정의합니다.\n",
    "- 매직함수를 사용해 생성자를 구현합니다.\n",
    "- 생성된 생성자(__init__)에서 클래스 활용에 필요한 속성을 정의합니다.\n",
    "    - account_num : 예금주 이름 저장\n",
    "    - balance : 초기 잔액을 0원으로 설정\n",
    "    - bank_name : 'SC은행' 으로 고정\n",
    "    - account_number : 계좌번호 (랜덤 생성 필요)\n",
    "- 계좌번호 랜덤 생성 기능 구현\\\n",
    "\n",
    "< 문제 풀이 과정>\n",
    "- Account 클래스 를 정의합니다.\n",
    "- 매직함수를 사용해 생성자를 구현합니다.\n",
    "- 생성된 생성자(__init__)에서 클래스 활용에 필요한 속성을 정의합니다.\n",
    "    - account_num : 예금주 이름 저장\n",
    "    - balance : 초기 잔액을 0원으로 설정\n",
    "    - bank_name : 'SC은행' 으로 고정\n",
    "    - account_number : 계좌번호 (랜덤 생성 필요)\n",
    "- 계좌번호 랜덤 생성 기능 구현\\"
   ]
  },
  {
   "cell_type": "markdown",
   "id": "e5e0202a",
   "metadata": {},
   "source": [
    "---\n",
    "## Square 클래스 추가 기능 구현 (자체 도전)\n",
    "\n",
    "- 노드에서 구현한 내용에서 몇가지 변동사항을 개별적으로 추가했습니다.\n",
    "- 키오스크 처럼 계산할 도형을 질문받고, 입력값에 따라 메서드를 실행하는 방식 추가했습니다.\n",
    "- 계산할 도형을 선택하면 어떤 메서드로 계산하는지 출력하고, 바로 필요 값을 입력받도록 수정했습니다.\n",
    "- 한번의 계산이 끝난뒤 추가 계산 여부 질문 추가했습니다.\n",
    "- 추가 질문대답에 따라 추가연산 또는 종료 기능 추가했습니다.\n",
    "- 각 도형 계산에서 지정된 매개변수와 다르게 입력될 경우(split한 인자의 개수로 판단) 에러 메시지 출력 및 재입력 요구 기능 추가했습니다.\n",
    "  - while문 응용해서 정상적인 입력을 받을때가지 지속 작동 하도록 추가했습니다.\n",
    "  - 잘못된 입력에 대해서는 오류 문구 출력후 재입력 요청하도록 추가했습니다.\n",
    "\n",
    "---\n",
    "\n",
    "- 😥 맨밑에 회고에도 작성했습니다만, 전체 계획을 세우고 수정한 것이 아니라, 생각나는대로 하나씩 시도하면서 부족하다 싶은 부분을 추가하다보니 작업순서에 두서가 없습니다. 위에 작성된 수정내용도 수정한 순서대로 작성한 것입니다. 아무래도 저는 EAFP(\"It's Easier to Ask Forgiveness than Permission\") 전략으로 코드를 짜는 사람인가 봅니다."
   ]
  },
  {
   "cell_type": "code",
   "execution_count": 6,
   "id": "ff051a2a",
   "metadata": {
    "ExecuteTime": {
     "end_time": "2023-11-17T14:50:12.676633Z",
     "start_time": "2023-11-17T14:50:12.669502Z"
    }
   },
   "outputs": [],
   "source": [
    "class Square:\n",
    "    \"\"\"\n",
    "    기존 Square클래스에 아래의 기능을 주로 추가하고자 했습니다.\n",
    "    - 키오스크 시스템처럼 도형 선택 후 해당 도형의 넓이를 바로 계산(메서드만 제공하는 것 X)\n",
    "    - 추가 계산 여부를 묻고, 사용자 응답에 따라 계속하거나 종료\n",
    "    - 잘못된 입력에 대한 예외 처리 및 재입력 요구\n",
    "    \"\"\"\n",
    "\n",
    "    def __init__(self):\n",
    "        \"\"\"\n",
    "        생성자에서는 계속해서 계산을 진행할지를 결정하는 플래그(continue_calculation)를 추가 생성했습니다.\n",
    "        사용자가 계속 계산을 원할 경우, select_shape 메서드를 반복 호출합니다.\n",
    "        \"\"\"\n",
    "        self.continue_calculation = True\n",
    "        while self.continue_calculation:\n",
    "            self.select_shape()\n",
    "            self.ask_continue()\n",
    "\n",
    "    # 추가한 메서드\n",
    "    def select_shape(self):\n",
    "        \"\"\"\n",
    "        사용자로부터 사각형의 종류를 입력받고, 해당 종류에 맞는 계산 메서드를 호출하는 메서드를 추가했습니다.\n",
    "        - 잘못된 입력시 오류 메시지 출력 후 다시 선택하도록 설정했습니다.\n",
    "        \"\"\"\n",
    "        choice = int(\n",
    "            input('넓이를 구하고 싶은 사각형의 종류를 입력하세요.\\n 1.직사각형 2.평행사변형 3.사다리꼴 \\n >>>'))\n",
    "        if choice == 1:\n",
    "            print(self.rect())\n",
    "        elif choice == 2:\n",
    "            print(self.par())\n",
    "        elif choice == 3:\n",
    "            print(self.trape())\n",
    "        else:\n",
    "            print('1, 2, 3 중에서 다시 입력해주세요.')\n",
    "    \n",
    "    # 추가한 메서드\n",
    "    def ask_continue(self):\n",
    "        \"\"\"\n",
    "        사용자에게 추가적인 계산을 진행할지를 묻고 그 결과를 select_shape로 전달합니다.\n",
    "        - '1' 입력시 계속 진행\n",
    "        - '2' 입력시 계산 종료\n",
    "        - 잘못된 입력시 오류 메시지 출력 후 다시 질문하도록 했습니다.\n",
    "        \"\"\"\n",
    "        while True:\n",
    "            answer = input('다른 도형의 넓이를 계산해드릴까요? 계속하려면 1을, 종료하려면 2를 입력하세요: ')\n",
    "            if answer == '1':\n",
    "                break\n",
    "            elif answer == '2':\n",
    "                print('계산을 종료합니다.')\n",
    "                self.continue_calculation = False # 생성자에 있는 플래스 인자에 False를 전달해 메서드를 종료하도록 합니다.\n",
    "                break\n",
    "            else:\n",
    "                print(\"1 또는 2만 입력해주세요.\")\n",
    "    \n",
    "    # 기존 메서드\n",
    "    def rect(self):\n",
    "        \"\"\"\n",
    "        - 잘못된 입력(비숫자, 입력값 개수 오류)에 대한 예외 처리를 추가 했습니다.\n",
    "        \"\"\"\n",
    "        print('직사각형의 넓이를 rect() 메서드로 계산합니다.') # 어떤 메서드를 사용하는지 정보 제공\n",
    "        # 정상 입력을 받을 때까지 반복\n",
    "        while True:\n",
    "            inputs = input('가로, 세로를 입력하세요. 예시 : 가로,세로\\n >>>').split(',') # 입력받은 변수를 쉼표(,)로 구분하여 리스트 형태로 저장\n",
    "            \n",
    "            # 저장받은 정보 개수 기준으로 정상 입력 여부 판단\n",
    "            if len(inputs) != 2:\n",
    "                print(f\"직사각형의 넓이 계산을 위해 2개의 값이 필요합니다. 입력한 값의 개수: {len(inputs)}\")\n",
    "                continue\n",
    "            \n",
    "        \n",
    "            try:\n",
    "                width, vertical = map(int, inputs)\n",
    "                break\n",
    "            except ValueError:\n",
    "                print(\"숫자로 입력해주세요.\")\n",
    "\n",
    "        area = width * vertical\n",
    "        print(f'직사각형의 넓이는 : {area} ㎠ 입니다.')\n",
    "        print('-'*100)\n",
    "        return ''\n",
    "\n",
    "    # 평행사변형 넓이 계산 메서드\n",
    "    def par(self):\n",
    "        \"\"\"\n",
    "        - 잘못된 입력(비숫자, 입력값 개수 오류)에 대한 예외 처리 추가 했습니다.\n",
    "        \"\"\"\n",
    "        print('평행사변형의 넓이를 par() 메서드로 계산합니다.') \n",
    "\n",
    "        # 정상적인 입력을 받을 때까지 반복\n",
    "        while True:\n",
    "            inputs = input('밑변과 높이를 입력해주세요! ex) 밑변, 높이\\n >>>').split(',')\n",
    "            if len(inputs) != 2:\n",
    "                print(f\"평행사변형의 넓이 계산을 위해 2개의 값이 필요합니다. 입력한 값의 개수: {len(inputs)}\")\n",
    "                continue\n",
    "            try:\n",
    "                base, height = map(int, inputs)\n",
    "                break\n",
    "            except ValueError:\n",
    "                print(\"숫자로 입력해주세요\")\n",
    "\n",
    "        area = base * height\n",
    "        print(f'평행사변형의 넓이는 : {area} ㎠ 입니다.')\n",
    "        print('-'*100)\n",
    "        return ''\n",
    "\n",
    "    # 사다리꼴 넓이 계산 메서드\n",
    "    def trape(self):\n",
    "        \"\"\"\n",
    "        - 잘못된 입력(비숫자, 입력값 개수 오류)에 대한 예외 처리 추가 했습니다.\n",
    "        \"\"\"\n",
    "        print('사다리꼴의 넓이를 trape() 메서드로 계산합니다.')\n",
    "\n",
    "        # 정상적인 입력을 받을 때까지 반복\n",
    "        while True:\n",
    "            inputs = input('윗변, 아랫변, 높이의 값을 입력하세요! ex) 윗변, 아랫변, 높이\\n >>>').split(',')\n",
    "            if len(inputs) != 3:\n",
    "                print(f\"사다리꼴 넓이 계산을 위해서는 3개의 값이 필요합니다. 현재 입력한 값의 개수: {len(inputs)}\")\n",
    "                continue\n",
    "            try:\n",
    "                a, b, height = map(int, inputs)\n",
    "                break\n",
    "            except ValueError:\n",
    "                print(\"숫자로 입력해주세요.\")\n",
    "\n",
    "        area = (a + b) * height / 2\n",
    "        print(f'사다리꼴의 넓이는 : {area} ㎠ 입니다.')\n",
    "        print('-'*100)\n",
    "        return ''"
   ]
  },
  {
   "cell_type": "markdown",
   "id": "bd5568a0",
   "metadata": {},
   "source": [
    "### 결과 테스트\n"
   ]
  },
  {
   "cell_type": "code",
   "execution_count": 7,
   "id": "f5e29376",
   "metadata": {
    "ExecuteTime": {
     "end_time": "2023-11-17T14:50:54.038046Z",
     "start_time": "2023-11-17T14:50:12.678548Z"
    }
   },
   "outputs": [
    {
     "name": "stdout",
     "output_type": "stream",
     "text": [
      "넓이를 구하고 싶은 사각형의 종류를 입력하세요.\n",
      " 1.직사각형 2.평행사변형 3.사다리꼴 \n",
      " >>>2\n",
      "평행사변형의 넓이를 par() 메서드로 계산합니다.\n",
      "밑변과 높이를 입력해주세요! ex) 밑변, 높이\n",
      " >>>1\n",
      "평행사변형의 넓이 계산을 위해 2개의 값이 필요합니다. 입력한 값의 개수: 1\n",
      "밑변과 높이를 입력해주세요! ex) 밑변, 높이\n",
      " >>>2,3\n",
      "평행사변형의 넓이는 : 6 ㎠ 입니다.\n",
      "----------------------------------------------------------------------------------------------------\n",
      "\n",
      "다른 도형의 넓이를 계산해드릴까요? 계속하려면 1을, 종료하려면 2를 입력하세요: 1\n",
      "넓이를 구하고 싶은 사각형의 종류를 입력하세요.\n",
      " 1.직사각형 2.평행사변형 3.사다리꼴 \n",
      " >>>2\n",
      "평행사변형의 넓이를 par() 메서드로 계산합니다.\n",
      "밑변과 높이를 입력해주세요! ex) 밑변, 높이\n",
      " >>>2,5,6\n",
      "평행사변형의 넓이 계산을 위해 2개의 값이 필요합니다. 입력한 값의 개수: 3\n",
      "밑변과 높이를 입력해주세요! ex) 밑변, 높이\n",
      " >>>2,6\n",
      "평행사변형의 넓이는 : 12 ㎠ 입니다.\n",
      "----------------------------------------------------------------------------------------------------\n",
      "\n",
      "다른 도형의 넓이를 계산해드릴까요? 계속하려면 1을, 종료하려면 2를 입력하세요: 3\n",
      "1 또는 2만 입력해주세요.\n",
      "다른 도형의 넓이를 계산해드릴까요? 계속하려면 1을, 종료하려면 2를 입력하세요: 1\n",
      "넓이를 구하고 싶은 사각형의 종류를 입력하세요.\n",
      " 1.직사각형 2.평행사변형 3.사다리꼴 \n",
      " >>>4\n",
      "1, 2, 3 중에서 다시 입력해주세요.\n",
      "다른 도형의 넓이를 계산해드릴까요? 계속하려면 1을, 종료하려면 2를 입력하세요: 3\n",
      "1 또는 2만 입력해주세요.\n",
      "다른 도형의 넓이를 계산해드릴까요? 계속하려면 1을, 종료하려면 2를 입력하세요: 1\n",
      "넓이를 구하고 싶은 사각형의 종류를 입력하세요.\n",
      " 1.직사각형 2.평행사변형 3.사다리꼴 \n",
      " >>>3\n",
      "사다리꼴의 넓이를 trape() 메서드로 계산합니다.\n",
      "윗변, 아랫변, 높이의 값을 입력하세요! ex) 윗변, 아랫변, 높이\n",
      " >>>3,9,2\n",
      "사다리꼴의 넓이는 : 12.0 ㎠ 입니다.\n",
      "----------------------------------------------------------------------------------------------------\n",
      "\n",
      "다른 도형의 넓이를 계산해드릴까요? 계속하려면 1을, 종료하려면 2를 입력하세요: 2\n",
      "계산을 종료합니다.\n"
     ]
    }
   ],
   "source": [
    "# 클래스 실행\n",
    "square = Square()"
   ]
  },
  {
   "attachments": {
    "image.png": {
     "image/png": "[encoded data removed]"
    }
   },
   "cell_type": "markdown",
   "id": "b985a450",
   "metadata": {},
   "source": [
    "# 프로젝트 2번 : 나만의 키오스크 만들기\n",
    "\n",
    "## ✔️ 프로젝트 개요\n",
    "\n",
    "---\n",
    "\n",
    "![image.png](attachment:image.png)\n",
    "\n",
    "- 나만의 키오스크를 생성해 위와 같은 주문표가 나오도록 만들기\n",
    "\n",
    "---\n",
    "\n",
    "- 세부조건은 아래와 같습니다.\n",
    "\n",
    "- HOT or ICE 를 선택할 수 있어야 함\n",
    "- 주문메뉴가 보이고, 선택할 수 있어야 함\n",
    "- 주문 금액이 출력되어야 함\n",
    "\n",
    "---\n",
    "\n",
    "- 최종 주문에 대한 주문표는 아래와 같이 나오도록 할 예정입니다."
   ]
  },
  {
   "cell_type": "code",
   "execution_count": 8,
   "id": "d846a72c",
   "metadata": {
    "ExecuteTime": {
     "end_time": "2023-11-17T14:50:54.042402Z",
     "start_time": "2023-11-17T14:50:54.039050Z"
    }
   },
   "outputs": [
    {
     "name": "stdout",
     "output_type": "stream",
     "text": [
      "⟝------------------------------⟞\n",
      "|                               |\n",
      "|                               |\n",
      "|                               |\n",
      "|                               |\n",
      "상품명 : HOT 아메리카노\n",
      "총 주문 금액 : 1500원\n",
      "|                               |\n",
      "|                               |\n",
      "|                               |\n",
      "|                               |\n",
      "⟝------------------------------⟞\n"
     ]
    }
   ],
   "source": [
    "# 주문 번호 코드로 출력   -> 노드 제공 코드\n",
    "print('⟝' + '-' * 30 + '⟞')\n",
    "print('|' + ' ' * 31 + '|')\n",
    "print('|' + ' ' * 31 + '|')\n",
    "print('|' + ' ' * 31 + '|')\n",
    "print('|' + ' ' * 31 + '|')\n",
    "print('상품명 : HOT 아메리카노') \n",
    "print('총 주문 금액 : 1500원')\n",
    "print('|' + ' ' * 31 + '|')\n",
    "print('|' + ' ' * 31 + '|')\n",
    "print('|' + ' ' * 31 + '|')\n",
    "print('|' + ' ' * 31 + '|')\n",
    "print('⟝' + '-' * 30 + '⟞')"
   ]
  },
  {
   "cell_type": "markdown",
   "id": "da4d72b0",
   "metadata": {},
   "source": [
    "## 단계별 구현\n",
    "\n",
    "- 필요 변수들의 목록 구성\n",
    "- Hot or Ice : 메뉴 선택시 HOT, ICE 중에 선택하고 메뉴에 반영되도록 구성 필요\n",
    "- 주문 메뉴 구성\n",
    "    - coffee 메뉴 3가지 : 아메리카노, 라떼, 모카\n",
    "    - non-coffee 메뉴 3가지 : 유자차, 녹차, 초코라떼\n",
    "    - 주문메뉴는 init에 구성되어 있다가 객체 호출시 정보제공의 용도로 사용합니다.\n",
    "\n",
    "\n",
    "<메뉴표>\n",
    "\n",
    "| 커피(Coffee)       | 가격(Price) | 논커피(Non-Coffee)  | 가격(Price) |\n",
    "| ------------------ | ----------- | ------------------- | ----------- |\n",
    "| americano(hot/ice) | 2,000       | yuza_tea(hot/ice)   | 2,500       |\n",
    "| latte(hot/ice)     | 3,000       | green_tea(hot/ice)  | 2,500       |\n",
    "| mocha(hot/ice)     | 3,000       | choco_moca(hot/ice) | 3,000       |\n",
    "\n",
    "\n",
    "- 해당 정보를 생성자(__init__)에 추가하여 다른 메서드에서 self로 불러서 사용할 수 있도록 구성하겠습니다."
   ]
  },
  {
   "cell_type": "markdown",
   "id": "c3479ed0",
   "metadata": {},
   "source": [
    "### 생성자 구현\n",
    "\n",
    "- 메뉴와 가격정보를 인스턴스 변수로 정의합니다."
   ]
  },
  {
   "cell_type": "code",
   "execution_count": 9,
   "id": "d60789b4",
   "metadata": {
    "ExecuteTime": {
     "end_time": "2023-11-17T14:50:54.047307Z",
     "start_time": "2023-11-17T14:50:54.043407Z"
    }
   },
   "outputs": [
    {
     "name": "stdout",
     "output_type": "stream",
     "text": [
      "['americano', 'latte', 'mocha', 'yuza_tea', 'green_tea', 'choco_latte']\n"
     ]
    },
    {
     "data": {
      "text/plain": [
       "[2000, 3000, 3000, 2500, 2500, 3000]"
      ]
     },
     "execution_count": 9,
     "metadata": {},
     "output_type": "execute_result"
    }
   ],
   "source": [
    "# 클래스 생성\n",
    "class Kiosk:\n",
    "    def __init__(self):\n",
    "        # 메뉴와 가격을 인스턴스 변수로 정의\n",
    "        self.menu = ['americano', 'latte', 'mocha', 'yuza_tea', 'green_tea', 'choco_latte']\n",
    "        self.price = [2000, 3000, 3000, 2500, 2500, 3000]\n",
    "        \n",
    "# 테스트\n",
    "a = Kiosk()  # 객체를 생성합니다.\n",
    "print(a.menu)  # 객체 속성을 출력합니다.\n",
    "a.price # 객체의 가격을 출력합니다."
   ]
  },
  {
   "cell_type": "markdown",
   "id": "94f71f43",
   "metadata": {},
   "source": [
    "### 메뉴 출력 메서드 구현\n",
    "\n",
    "- 생성자에 입력한 인스턴스 변수를 활용해 메뉴를 사용자에게 보여주는 메서드를 구현합니다.\n",
    "- 각각의 메뉴와 대응하는 가격을 출력해야 합니다.\n",
    "- 이를 위해 2개의 list를 사용해서 indexing을 하여 접근해 출력문장을 생성합니다.\n",
    "- 이 메뉴판은 주문을 시작할 때 제공되는 정보로 사용될 것입니다."
   ]
  },
  {
   "cell_type": "code",
   "execution_count": 10,
   "id": "e0b58ba2",
   "metadata": {
    "ExecuteTime": {
     "end_time": "2023-11-17T14:50:54.053071Z",
     "start_time": "2023-11-17T14:50:54.049311Z"
    }
   },
   "outputs": [
    {
     "name": "stdout",
     "output_type": "stream",
     "text": [
      "1 americano  :  2000 원\n",
      "2 latte  :  3000 원\n",
      "3 mocha  :  3000 원\n",
      "4 yuza_tea  :  2500 원\n",
      "5 green_tea  :  2500 원\n",
      "6 choco_latte  :  3000 원\n"
     ]
    }
   ],
   "source": [
    "class Kiosk:\n",
    "    def __init__(self):\n",
    "        # 메뉴와 가격을 인스턴스 변수로 정의\n",
    "        self.menu = ['americano', 'latte', 'mocha', 'yuza_tea', 'green_tea', 'choco_latte']\n",
    "        self.price = [2000, 3000, 3000, 2500, 2500, 3000]\n",
    "\n",
    "    def menu_print(self):\n",
    "        # 메뉴 리스트의 각 항목에 대해 반복\n",
    "        for i in range(len(self.menu)):\n",
    "            # 메뉴의 인덱스에 1을 더해 번호를 표시하고, 메뉴 이름과 가격을 출력\n",
    "            print(i+1, self.menu[i], ' : ', self.price[i], '원') \n",
    "\n",
    "# 결과 확인\n",
    "a = Kiosk()  # 객체 생성 \n",
    "a.menu_print()  # 메뉴 출력"
   ]
  },
  {
   "cell_type": "markdown",
   "id": "b2c7a2e1",
   "metadata": {},
   "source": [
    "- 원하는 형태로 메뉴와 가격이 한줄에 잘 보이도록 구현되었습니다.\n",
    "- 이제 실제로 주문하기 위한 메서드를 구현 해야 합니다."
   ]
  },
  {
   "cell_type": "markdown",
   "id": "9b4357c8",
   "metadata": {},
   "source": [
    "### 주문 메서드 구현\n",
    "\n",
    "- 생성자에 지정해둔 메뉴들을 번호로 구분해서 입력받아야 합니다.\n",
    "- 입력받은 번호에 대해서 음료의 가격을 메모리에 추가하고, 해당 주문에 대한 음료명과 가격을 출력해야 합니다.\n",
    "- 또한 잘못된 음료 번호를 입력할경우에 대한 예외처리를 추가합니다.\n",
    "- 마지막으로 메뉴에 없는 메뉴 주문을 시도할 경우에 대한 예외 처리도 추가하겠습니다."
   ]
  },
  {
   "cell_type": "code",
   "execution_count": 11,
   "id": "753e8795",
   "metadata": {
    "ExecuteTime": {
     "end_time": "2023-11-17T14:50:56.104259Z",
     "start_time": "2023-11-17T14:50:54.054074Z"
    }
   },
   "outputs": [
    {
     "name": "stdout",
     "output_type": "stream",
     "text": [
      "1 americano  :  2000 원\n",
      "2 latte  :  3000 원\n",
      "3 mocha  :  3000 원\n",
      "4 yuza_tea  :  2500 원\n",
      "5 green_tea  :  2500 원\n",
      "6 choco_latte  :  3000 원\n",
      "\n",
      "음료 번호를 입력하세요 : 1\n",
      "americano  :  2000 원\n"
     ]
    }
   ],
   "source": [
    "class Kiosk:\n",
    "    def __init__(self):\n",
    "        # 메뉴와 가격을 리스트로 초기화\n",
    "        self.menu = ['americano', 'latte', 'mocha', 'yuza_tea', 'green_tea', 'choco_latte']\n",
    "        self.price = [2000, 3000, 3000, 2500, 2500, 3000]\n",
    "\n",
    "    # 메뉴를 화면에 출력하는 메서드\n",
    "    def menu_print(self):\n",
    "        # 메뉴 리스트의 각 항목에 대해 반복\n",
    "        for i in range(len(self.menu)):\n",
    "            # 메뉴의 인덱스에 1을 더해 번호를 표시하고, 메뉴 이름과 가격을 출력\n",
    "            print(i+1, self.menu[i], ' : ', self.price[i], '원')\n",
    "\n",
    "    # 사용자로부터 음료의 주문을 받는 메서드\n",
    "    def menu_select(self):\n",
    "        print()  # 입력 전에 화면에 줄 바꿈을 출력(가독성 up!)\n",
    "        while True:  # 유효한 입력을 받을 때까지 반복\n",
    "            try:\n",
    "                # 사용자로부터 음료의 번호를 입력받기\n",
    "                n = int(input(\"음료 번호를 입력하세요 : \"))\n",
    "\n",
    "                # 입력받은 번호가 메뉴 범위 안에 있는 경우\n",
    "                if 1 <= n <= len(self.menu):  # 메뉴 리스트의 범위를 확인\n",
    "                    self.price_sum = self.price[n-1]  # 선택된 음료의 가격을 변수에 저장\n",
    "                    # 선택된 음료의 이름과 가격을 출력. n-1 인덱스는 0부터 시작하는 리스트 인덱스에 맞추기 위함\n",
    "                    print(self.menu[n-1], ' : ', self.price_sum, '원')\n",
    "                    break  # 입력이 유효하면 반복문을 종료\n",
    "\n",
    "                # 입력받은 번호가 메뉴 범위 밖에 있는 경우 에러문구 출력\n",
    "                else:\n",
    "                    print(\"없는 메뉴입니다. 다시 주문해 주세요.\")\n",
    "\n",
    "            # 입력값이 숫자가 아닌 경우에 발생하는 예외처리후 경고문 출력\n",
    "            except ValueError:\n",
    "                print(\"유효한 숫자를 입력해 주세요.\")\n",
    "\n",
    "# 생성 결과 확인\n",
    "# 아메리카노 주문해보기  \n",
    "a = Kiosk()  # 객체 생성 \n",
    "a.menu_print()  # 메뉴 출력\n",
    "a.menu_select()  # 아메리카노 주문"
   ]
  },
  {
   "cell_type": "markdown",
   "id": "4d2541de",
   "metadata": {},
   "source": [
    "- 입력한 메뉴 번호의 메뉴에 맞게 메뉴와 가격 정보가 잘 출력됩니다.\n",
    "- 이제 잘못 입력한 경우에 대해서도 다시 테스트를 해보겠습니다."
   ]
  },
  {
   "cell_type": "code",
   "execution_count": 12,
   "id": "21ac2671",
   "metadata": {
    "ExecuteTime": {
     "end_time": "2023-11-17T14:50:57.747682Z",
     "start_time": "2023-11-17T14:50:56.105775Z"
    }
   },
   "outputs": [
    {
     "name": "stdout",
     "output_type": "stream",
     "text": [
      "1 americano  :  2000 원\n",
      "2 latte  :  3000 원\n",
      "3 mocha  :  3000 원\n",
      "4 yuza_tea  :  2500 원\n",
      "5 green_tea  :  2500 원\n",
      "6 choco_latte  :  3000 원\n",
      "\n",
      "음료 번호를 입력하세요 : 1\n",
      "americano  :  2000 원\n"
     ]
    }
   ],
   "source": [
    "a = Kiosk()  # 객체 생성 \n",
    "a.menu_print()  # 메뉴 출력\n",
    "a.menu_select()  # 잘못된 입력한 경우"
   ]
  },
  {
   "cell_type": "markdown",
   "id": "56776e99",
   "metadata": {},
   "source": [
    "#### 주문메서드 기능추가 - 음료 온도 선택 받기\n",
    "\n",
    "- 실제 카페에가도 대체로 모든 메뉴는 따뜻한 음료와, 차가운 음료가 각각 있습니다.\n",
    "- 이를 우리 키오스크에도 구현해보겠습니다\n",
    "- 순서상으로는 메뉴를 선택받은 이후이며, 사용자에게 직접 질문을하고 입려받은 값에 따라 주문내역에 음료의 온도 정보를 추가합니다.\n",
    "- 온도에 대한 정보를 제대로 입력할때 까지 계속 질문하도록 while문을 사용했습니다.\n",
    "- 그리고 추가한 정보를 함께 출력합니다."
   ]
  },
  {
   "cell_type": "code",
   "execution_count": 13,
   "id": "2c1eb30d",
   "metadata": {
    "ExecuteTime": {
     "end_time": "2023-11-17T14:51:00.892668Z",
     "start_time": "2023-11-17T14:50:57.748686Z"
    }
   },
   "outputs": [
    {
     "name": "stdout",
     "output_type": "stream",
     "text": [
      "1 americano  :  2000 원\n",
      "2 latte  :  3000 원\n",
      "3 mocha  :  3000 원\n",
      "4 yuza_tea  :  2500 원\n",
      "5 green_tea  :  2500 원\n",
      "6 choco_latte  :  3000 원\n",
      "\n",
      "음료 번호를 입력하세요 : 1\n",
      "HOT 음료는 1을, ICE 음료는 2를 입력하세요 : 2\n",
      "americano  :  2000 원\n"
     ]
    }
   ],
   "source": [
    "class Kiosk:\n",
    "    def __init__(self):\n",
    "        # 메뉴와 가격을 리스트로 초기화\n",
    "        self.menu = ['americano', 'latte', 'mocha', 'yuza_tea', 'green_tea', 'choco_latte']\n",
    "        self.price = [2000, 3000, 3000, 2500, 2500, 3000]\n",
    "\n",
    "    # 메뉴를 화면에 출력하는 메서드\n",
    "    def menu_print(self):\n",
    "        # 메뉴 리스트의 각 항목에 대해 반복\n",
    "        for i in range(len(self.menu)):\n",
    "            # 메뉴의 인덱스에 1을 더해 번호를 표시하고, 메뉴 이름과 가격을 출력\n",
    "            print(i+1, self.menu[i], ' : ', self.price[i], '원')\n",
    "\n",
    "    # 사용자로부터 음료의 주문을 받는 메서드\n",
    "    def menu_select(self):\n",
    "        print()  # 입력 전에 화면에 줄 바꿈을 출력(가독성 up!)\n",
    "        while True:  # 유효한 입력을 받을 때까지 반복\n",
    "            try:\n",
    "                # 사용자로부터 음료의 번호를 입력받기\n",
    "                n = int(input(\"음료 번호를 입력하세요 : \"))\n",
    "\n",
    "                # 입력받은 번호가 메뉴 범위 안에 있는 경우\n",
    "                if 1 <= n <= len(self.menu):  # 메뉴 리스트의 범위를 확인\n",
    "                    self.price_sum = self.price[n-1]  # 선택된 음료의 가격을 변수에 저장\n",
    "                    \n",
    "                    # 음료 온도 선택\n",
    "                    while True:\n",
    "                        # 사용자에게 온도 선택 입력 요청\n",
    "                        t = int(input(\"HOT 음료는 1을, ICE 음료는 2를 입력하세요 : \"))\n",
    "                        # 1 입력 시 HOT으로 설정하고 반복 중단\n",
    "                        if t == 1:\n",
    "                            self.temp = \"HOT\"\n",
    "                            break\n",
    "                        # 2 입력 시 ICE로 설정하고 반복 중단\n",
    "                        elif t == 2:\n",
    "                            self.temp = \"ICE\"\n",
    "                            break\n",
    "                        # 1이나 2 이외 입력 시 경고 후 재입력 요청\n",
    "                        else:\n",
    "                            print(\"1과 2 중 하나를 입력하세요.\\n\")\n",
    "                    \n",
    "                    \n",
    "                    # 선택된 음료에 대한 정보 : 온도, 이름, 가격을 출력\n",
    "                    # n-1 인덱스는 0부터 시작하는 리스트 인덱스에 맞추기 위함\n",
    "                    print(self.menu[n-1], ' : ', self.price_sum, '원')\n",
    "                    break  # 입력이 유효하면 반복문을 종료\n",
    "\n",
    "                # 입력받은 번호가 메뉴 범위 밖에 있는 경우 에러문구 출력\n",
    "                else:\n",
    "                    print(\"없는 메뉴입니다. 다시 주문해 주세요.\")\n",
    "\n",
    "            # 입력값이 숫자가 아닌 경우에 발생하는 예외처리후 경고문 출력\n",
    "            except ValueError:\n",
    "                print(\"유효한 숫자를 입력해 주세요.\")\n",
    "\n",
    "# 생성 결과 확인\n",
    "# 아메리카노 주문해보기  \n",
    "a = Kiosk()  # 객체 생성 \n",
    "a.menu_print()  # 메뉴 출력\n",
    "a.menu_select()  # 메뉴 주문 시도"
   ]
  },
  {
   "cell_type": "markdown",
   "id": "d144706b",
   "metadata": {},
   "source": [
    "#### 주문메서드 기능 추가 - 추가 주문 기능 추가\n",
    "- 실제로 매장에서는 한번에 여러개의 주문을 받을 수 있습니다.\n",
    "- 이러한 기능을 menu_select 메서드에 추가로 구현해보고자 합니다.\n",
    "- 첫 주문이 이뤄지고 난 뒤에 추가 주문이 있는지 의사를 확인한 뒤, 그렇지 않은 경우 결제로 이어지도록 해야 합니다.\n",
    "- 또한 누적(1회 주문 포함) 주문에 대한 내역을 정리해서 가격과 함께 표기하는 기능도 추가하겠습니다."
   ]
  },
  {
   "cell_type": "code",
   "execution_count": 14,
   "id": "9e8f5d92",
   "metadata": {
    "ExecuteTime": {
     "end_time": "2023-11-17T14:51:19.034343Z",
     "start_time": "2023-11-17T14:51:00.892668Z"
    }
   },
   "outputs": [
    {
     "name": "stdout",
     "output_type": "stream",
     "text": [
      "1 americano  :  2000 원\n",
      "2 latte  :  3000 원\n",
      "3 mocha  :  3000 원\n",
      "4 yuza_tea  :  2500 원\n",
      "5 green_tea  :  2500 원\n",
      "6 choco_latte  :  3000 원\n",
      "\n",
      "음료 번호를 입력하세요 : 2\n",
      "HOT 음료는 1을, ICE 음료는 2를 입력하세요 : 1\n",
      "HOT latte : 3000 원 합계 : 3000 원\n",
      "추가 주문은 음료 번호를, 지불은 0을 누르세요 : 1\n",
      "음료 번호를 입력하세요 : 3\n",
      "HOT 음료는 1을, ICE 음료는 2를 입력하세요 : 2\n",
      "ICE mocha : 3000 원 합계 : 3000 원\n",
      "추가 주문은 음료 번호를, 지불은 0을 누르세요 : 1\n",
      "음료 번호를 입력하세요 : 7\n",
      "없는 메뉴입니다. 다시 주문해 주세요.\n",
      "음료 번호를 입력하세요 : 6\n",
      "HOT 음료는 1을, ICE 음료는 2를 입력하세요 : 2\n",
      "ICE choco_latte : 3000 원 합계 : 3000 원\n",
      "추가 주문은 음료 번호를, 지불은 0을 누르세요 : 0\n",
      "주문이 완료되었습니다.\n",
      "주문 내역: ['HOT latte', 'ICE mocha', 'ICE choco_latte']\n",
      "주문 금액: [3000, 3000, 3000] 합계: 3000 원\n"
     ]
    }
   ],
   "source": [
    "class Kiosk:\n",
    "    def __init__(self):\n",
    "        # 메뉴와 가격을 리스트로 초기화\n",
    "        self.menu = ['americano', 'latte', 'mocha', 'yuza_tea', 'green_tea', 'choco_latte']\n",
    "        self.price = [2000, 3000, 3000, 2500, 2500, 3000]\n",
    "\n",
    "    # 메뉴를 화면에 출력하는 메서드\n",
    "    def menu_print(self):\n",
    "        # 메뉴 리스트의 각 항목에 대해 반복\n",
    "        for i in range(len(self.menu)):\n",
    "            # 메뉴의 인덱스에 1을 더해 번호를 표시하고, 메뉴 이름과 가격을 출력\n",
    "            print(i+1, self.menu[i], ' : ', self.price[i], '원')\n",
    "\n",
    "    # 사용자로부터 음료의 주문을 받는 메서드\n",
    "    def menu_select(self):\n",
    "        # 추가 주문등에 대한 정보가 담길 리스트가 필요하기 때문에 생성\n",
    "        self.order_menu = []  # 주문한 음료 리스트 초기화\n",
    "        self.order_price = []  # 주문한 음료의 가격 리스트 초기화\n",
    "        self.price_sum = 0  # 총 주문 금액 초기화\n",
    "            \n",
    "        print()  # 입력 전에 화면에 줄 바꿈을 출력(가독성 up!)\n",
    "        \n",
    "        while True:  # 유효한 입력을 받을 때까지 반복\n",
    "            try:\n",
    "                # 사용자로부터 음료의 번호를 입력받기\n",
    "                n = int(input(\"음료 번호를 입력하세요 : \"))\n",
    "\n",
    "                # 입력받은 번호가 메뉴 범위 안에 있는 경우\n",
    "                if 1 <= n <= len(self.menu):  # 메뉴 리스트의 범위를 확인\n",
    "                    self.price_sum = self.price[n-1]  # 선택된 음료의 가격을 변수에 저장\n",
    "                    \n",
    "                    # 주문한 음료의 가격을 order_price 리스트에 추가\n",
    "                    self.order_price.append(self.price[n-1])\n",
    "                    \n",
    "                    # 음료 온도 선택\n",
    "                    while True:\n",
    "                        # 사용자에게 온도 선택 입력 요청\n",
    "                        t = int(input(\"HOT 음료는 1을, ICE 음료는 2를 입력하세요 : \"))\n",
    "                        # 1 입력 시 HOT으로 설정하고 반복 중단\n",
    "                        if t == 1:\n",
    "                            self.temp = \"HOT\"\n",
    "                            break\n",
    "                        # 2 입력 시 ICE로 설정하고 반복 중단\n",
    "                        elif t == 2:\n",
    "                            self.temp = \"ICE\"\n",
    "                            break\n",
    "                        # 1이나 2 이외 입력 시 경고 후 재입력 요청\n",
    "                        else:\n",
    "                            print(\"1과 2 중 하나를 입력하세요.\\n\")\n",
    "                    \n",
    "                    \n",
    "                    # 주문 리스트에 음료와 온도 추가\n",
    "                    self.order_menu.append(self.temp + ' ' + self.menu[n-1])\n",
    "                    # 현재 주문한 음료와 총 금액 출력\n",
    "                    print(self.temp, self.menu[n-1], ':', self.price[n-1], '원', '합계 :', self.price_sum, '원')\n",
    "                    \n",
    "                    # 추가 주문 또는 지불 여부 확인\n",
    "                    n = int(input(\"추가 주문은 음료 번호를, 지불은 0을 누르세요 : \"))\n",
    "                    # 주문 종료시\n",
    "                    if n == 0:\n",
    "                        print(\"주문이 완료되었습니다.\")\n",
    "                        # 최종 주문 내역과 금액 출력\n",
    "                        print(\"주문 내역:\", self.order_menu)\n",
    "                        print(\"주문 금액:\", self.order_price, \"합계:\", self.price_sum, \"원\")\n",
    "                        break\n",
    "\n",
    "                # 입력받은 번호가 메뉴 범위 밖에 있는 경우 에러문구 출력\n",
    "                else:\n",
    "                    print(\"없는 메뉴입니다. 다시 주문해 주세요.\")\n",
    "\n",
    "            # 입력값이 숫자가 아닌 경우에 발생하는 예외처리후 경고문 출력\n",
    "            except ValueError:\n",
    "                print(\"유효한 숫자를 입력해 주세요.\")\n",
    "\n",
    "# 생성 결과 확인\n",
    "# 아메리카노 주문해보기  \n",
    "a = Kiosk()  # 객체 생성 \n",
    "a.menu_print()  # 메뉴 출력\n",
    "a.menu_select()  # 메뉴 주문 시도"
   ]
  },
  {
   "cell_type": "markdown",
   "id": "fa4b2938",
   "metadata": {},
   "source": [
    "- 첫 주문과,추가주문에 대한 로직이 잘 작동이 되고, 누적된 주문에 대한 금액과, 메뉴명도 정상적으로 출력되는 것이 확인되었습니다.\n",
    "- 지불을 위한 질문까지 입력받는 코드를 구현했으니, 이제는 실제로 결제로 이어지는 부분을 구현해보겠습니다."
   ]
  },
  {
   "cell_type": "markdown",
   "id": "8c990a19",
   "metadata": {},
   "source": [
    "#### 지불 메서드 추가하기\n",
    "\n",
    "- 지불 메서드에는 크게 2가지 기능이 필요합니다.\n",
    "    - 지불할 금액 출력하기\n",
    "    - 지불 수단 선택 받기\n",
    "\n",
    "- 위의 추가주문 코드에서 0번을 눌러 결제를 하겠다고 할 경우 \n",
    "- 최종 결제 금액이 표기되면서, 현금결제를 할지, 카드결제를 할지 질문을 합니다.\n",
    "    - 현금결제를 선택할 경우 '직원을 호출하겠다'는 메시지를 출력합니다.\n",
    "    - 카드결제를 선택할 경우 IC칩 방향에 맞게 카드를 꽂아 달라는 메시지를 출력합니다.\n",
    "- 또한 지정한 번호 외에 다른 번호를 입력했을때의 예외처리와 문구도 추가해줍니다."
   ]
  },
  {
   "cell_type": "code",
   "execution_count": null,
   "id": "7d06f4bb",
   "metadata": {},
   "outputs": [],
   "source": [
    "# 지불 메서드\n",
    "def pay(self):\n",
    "    # menu_select에서 누적된 가격정보(price_sum) 받아오기\n",
    "    print(\"총 지불 금액: \", self.price_sum, \"원\") \n",
    "    \n",
    "    # 무한 루프 시작\n",
    "    while True:\n",
    "        # 지불 방식 선택 받기\n",
    "        # 각 분기에 맞는 print문 출력 후 break\n",
    "        payment = input(\"지불 방식을 선택하세요 (현금은 'cash' 또는 1, 카드는 'card' 또는 2): \")\n",
    "        if payment in ['cash', '1']:\n",
    "            print(\"직원을 호출하겠습니다.\")\n",
    "            break\n",
    "        elif payment in ['card', '2']:\n",
    "            print(\"IC칩 방향에 맞게 카드를 꽂아주세요.\")\n",
    "            break\n",
    "        # 지정되지 않은 지불방법 선한 경우 \n",
    "        # 문자열이든 다른 숫자이든 무조건 1/2가 아니면 출력\n",
    "        else:\n",
    "            print(\"올바른 지불 방식을 선택해주세요.\")"
   ]
  },
  {
   "cell_type": "markdown",
   "id": "2bba1de2",
   "metadata": {},
   "source": [
    "#### 주문표 출력 메서드 구현하기\n",
    "\n",
    "- 이제 메뉴판 출력, 주문받기, 지불방법 선택 까지 끝냈고, 남은 것은 주문표를 출력하는 것 뿐입니다.\n",
    "- 누적된 주문정보와(메뉴 & 가격) 을 요약해서 출력해 줘야 합니다.\n",
    "- 키오스크 만들기를 시작할때 맨 처음 입력했던 주문표의 형식을 가져와서 필요한 정보들을 입력할 곳에 지정만 해주면 됩니다."
   ]
  },
  {
   "cell_type": "code",
   "execution_count": 1,
   "id": "a2e4f75b",
   "metadata": {
    "ExecuteTime": {
     "end_time": "2023-11-18T01:40:31.003892Z",
     "start_time": "2023-11-18T01:40:30.999061Z"
    }
   },
   "outputs": [],
   "source": [
    "# 주문표 출력 메서드\n",
    "def table(self):\n",
    "    \n",
    "    # 주문표 상단 부분\n",
    "    print('⟝' + '-' * 30 + '⟞')\n",
    "    for _ in range(5):\n",
    "        print('|' + ' ' * 31 + '|')\n",
    "\n",
    "    # 주문 상품명과 금액 출력\n",
    "    for i in range(len(self.order_menu)):\n",
    "        print(self.order_menu[i], ' : ', self.order_price[i], '원')\n",
    "\n",
    "    # 합계 금액 출력\n",
    "    print('합계 금액 :', sum(self.order_price), '원')\n",
    "\n",
    "    # 주문표 하단 부분\n",
    "    for _ in range(5):\n",
    "        print('|' + ' ' * 31 + '|')\n",
    "    print('⟝' + '-' * 30 + '⟞')"
   ]
  },
  {
   "cell_type": "markdown",
   "id": "dd0674a9",
   "metadata": {},
   "source": [
    "#### Kiosk 클래스 최종 구현\n",
    "\n",
    "- 앞서 구현했던 각각의 메서드들을 합쳐서 Kiosk라는 클래스로 선언합니다."
   ]
  },
  {
   "cell_type": "code",
   "execution_count": 10,
   "id": "5ba87a88",
   "metadata": {
    "ExecuteTime": {
     "end_time": "2023-11-18T01:50:27.873192Z",
     "start_time": "2023-11-18T01:50:27.862711Z"
    }
   },
   "outputs": [],
   "source": [
    "# 문제 3-3. 클래스 업데이트  \n",
    "# 앞에서 구현했던 메서드들을 Kiosk 클래스에 추가합니다. 직접 코드를 작성해 보세요! \n",
    "\n",
    "class Kiosk:\n",
    "    def __init__(self):\n",
    "        self.menu = ['americano', 'latte', 'mocha', 'yuza_tea', 'green_tea', 'choco_latte']\n",
    "        self.price = [2000, 3000, 3000, 2500, 2500, 3000]\n",
    "        self.order_menu = []  # 주문 리스트\n",
    "        self.order_price = []  # 가격 리스트\n",
    "\n",
    "    def menu_print(self):\n",
    "        for i in range(len(self.menu)):\n",
    "            print(i + 1, self.menu[i], ' : ', self.price[i], '원')\n",
    "\n",
    "    def menu_select(self):\n",
    "        self.order_menu = []\n",
    "        self.order_price = []\n",
    "        self.price_sum = 0\n",
    "\n",
    "        while True:\n",
    "            n = int(input(\"음료 번호를 입력하세요 : \"))\n",
    "            if 1 <= n <= len(self.menu):\n",
    "                self.price_sum += self.price[n-1]\n",
    "                self.order_price.append(self.price[n-1])\n",
    "                t = int(input(\"HOT 음료는 1을, ICE 음료는 2를 입력하세요 : \"))\n",
    "                self.temp = \"HOT\" if t == 1 else \"ICE\"\n",
    "                self.order_menu.append(self.temp + ' ' + self.menu[n-1])\n",
    "                print(self.temp, self.menu[n-1], ':', self.price[n-1], '원', '합계 :', self.price_sum, '원')\n",
    "                n = int(input(\"추가 주문은 음료 번호를, 지불은 0을 누르세요 : \"))\n",
    "                if n == 0:\n",
    "                    print(\"주문이 완료되었습니다.\")\n",
    "                    break\n",
    "            else:\n",
    "                print(\"없는 메뉴입니다. 다시 주문해 주세요.\")\n",
    "\n",
    "    def pay(self):\n",
    "        print(\"총 지불 금액: \", self.price_sum, \"원\")\n",
    "        while True:\n",
    "            payment = input(\"지불 방식을 선택하세요 (현금은 'cash' 또는 1, 카드는 'card' 또는 2): \")\n",
    "            if payment in ['cash', '1']:\n",
    "                print(\"직원을 호출하겠습니다.\")\n",
    "                break\n",
    "            elif payment in ['card', '2']:\n",
    "                print(\"IC칩 방향에 맞게 카드를 꽂아주세요.\")\n",
    "                break\n",
    "            else:\n",
    "                print(\"올바른 지불 방식을 선택해주세요.\")\n",
    "\n",
    "    def table(self):\n",
    "        print('⟝' + '-' * 30 + '⟞')\n",
    "        for _ in range(5):\n",
    "            print('|' + ' ' * 31 + '|')\n",
    "        for i in range(len(self.order_menu)):\n",
    "            print(self.order_menu[i], ' : ', self.order_price[i], '원')\n",
    "        print('합계 금액 :', sum(self.order_price), '원')\n",
    "        for _ in range(5):\n",
    "            print('|' + ' ' * 31 + '|')\n",
    "        print('⟝' + '-' * 30 + '⟞')"
   ]
  },
  {
   "cell_type": "code",
   "execution_count": 9,
   "id": "18fa9ffb",
   "metadata": {
    "ExecuteTime": {
     "end_time": "2023-11-18T01:48:58.625972Z",
     "start_time": "2023-11-18T01:48:53.315794Z"
    }
   },
   "outputs": [
    {
     "name": "stdout",
     "output_type": "stream",
     "text": [
      "1 americano  :  2000 원\n",
      "2 latte  :  3000 원\n",
      "3 mocha  :  3000 원\n",
      "4 yuza_tea  :  2500 원\n",
      "5 green_tea  :  2500 원\n",
      "6 choco_latte  :  3000 원\n",
      "음료 번호를 입력하세요 : 1\n",
      "HOT 음료는 1을, ICE 음료는 2를 입력하세요 : 2\n",
      "ICE americano : 2000 원 합계 : 2000 원\n",
      "추가 주문은 음료 번호를, 지불은 0을 누르세요 : 3\n",
      "음료 번호를 입력하세요 : 3\n",
      "HOT 음료는 1을, ICE 음료는 2를 입력하세요 : 2\n",
      "ICE mocha : 3000 원 합계 : 5000 원\n",
      "추가 주문은 음료 번호를, 지불은 0을 누르세요 : 0\n",
      "주문이 완료되었습니다.\n",
      "총 지불 금액:  5000 원\n",
      "지불 방식을 선택하세요 (현금은 'cash' 또는 1, 카드는 'card' 또는 2): 2\n",
      "IC칩 방향에 맞게 카드를 꽂아주세요.\n",
      "⟝-----------------------------⟞\n",
      "|                             |\n",
      "|                             |\n",
      "|                             |\n",
      "|                             |\n",
      "|                             |\n",
      "|ICE americano : 2000원       |\n",
      "|ICE mocha : 3000원           |\n",
      "|합계 금액 : 5000원           |\n",
      "|                             |\n",
      "|                             |\n",
      "|                             |\n",
      "|                             |\n",
      "|                             |\n",
      "⟝-----------------------------⟞\n"
     ]
    }
   ],
   "source": [
    "# 작동 여부 테스트\n",
    "a = Kiosk()  # 객체 생성 \n",
    "a.menu_print()  # 메뉴 출력\n",
    "a.menu_select()  # 주문\n",
    "a.pay()  # 지불\n",
    "a.table()  # 주문표 출력"
   ]
  },
  {
   "cell_type": "markdown",
   "id": "82ed5f13",
   "metadata": {},
   "source": [
    "## Kiosk 클래스 추가 기능 구현(자체 도전)\n",
    "\n",
    "- 최대한 키오스크처럼 구현을 하고 싶어서 노드에서 학습한 내용외에 여러차례 수정을 시도 했습니다.\n",
    "- 추가된 기능번호는 시도한 순서를 의미합니다.\n",
    "- 1번 프로젝트때도 적어놨지만 아무래도 저는 정말로 EAFP(\"It's Easier to Ask Forgiveness than Permission\") 전략으로 코드를 짜는 사람인가 봅니다.\n",
    "- 모든 사항을 다 고려해서 미리 처리하려고 하지만, 하다가 생각이 꼬여서 인지 그런 작업방식이 더 어려운것 같습니다.\n",
    "- 일단 출력물을 눈으로 봐야 디버깅을 하든, 추가를 하든 가능한것 같습니다.\n",
    "- 추가로 수정한 항목들은 아래와 같습니다.\n",
    "\n",
    "---\n",
    "\n",
    "1. 클래스 호출시 한번에 모든 기능이 실행되도록 생성자 메서드 수정\n",
    "2. 추가 주문시 메뉴를 출력하고, 입력받은 메뉴번호를 그대로 menu_select의 매개변수로 입력하도록 수정(추가 주문시 2번 숫자 입력할 필요 없음)\n",
    "3. 최초 주문시 0번 누르면 바로 종료되도록 기능 추가\n",
    "4. 최초 주문시 출력문구와 추가 주문시의 출력문구를 다르게 수정\n",
    "5. 메뉴 및 가격 출력시 가격이 같은 라인에서 보이도록 수정\n",
    "6. 메뉴 및 가격 출력시 천단위에 쉼표 찍어서 출력 되도록 수정(다른 메서드에서는 self.price 계속 활용하도록 출력만 조정)\n",
    "7. HOT or ICE 선택시 1이나 2 이외의 숫자 입력시 오류문구 출력 및 재입력 요청\n",
    "8. 추가 주문시 누적 주문정보 아래 줄바꿈 추가 & 메뉴 출력시 위 아래 경계선 출력(가독성 up)\n",
    "9. 안내문구 출력시 마다 줄바꿈 추가(가독성 up)\n",
    "10. 누적주문번호 출력할때도 천단위로 쉼표 찍어서 출력하도록 수정"
   ]
  },
  {
   "cell_type": "markdown",
   "id": "54700cb5",
   "metadata": {},
   "source": [
    "#### 1. 클래스 호출시 한번에 모든 기능이 실행되도록 생성자 메서드 수정\n",
    "\n",
    "- 위에서 만든 클래스의 경우 클래스 선언을 한뒤 객체를 생성한 뒤에도, 각각의 메서드를 호출해서 사용해야 합니다.\n",
    "- 일반적으로 코딩을 위한 모듈로서 각각의 기능만을 사용할 것이라면 크게 문제가 없겠지만 'Kiosk' 라는 시스템을 구현했다면 최초 실행 한번에 작동이 되는게 좋지 않을까 생각했습니다.\n",
    "- 이를 위해 생성자를 수정했습니다.\n",
    "    - 생성자 안에 클래스의 메서드들이 자체적으로 바로 호출되도록 했습니다."
   ]
  },
  {
   "cell_type": "code",
   "execution_count": 12,
   "id": "4d1fecd4",
   "metadata": {
    "ExecuteTime": {
     "end_time": "2023-11-18T02:08:38.545202Z",
     "start_time": "2023-11-18T02:08:38.539666Z"
    }
   },
   "outputs": [],
   "source": [
    "class Kiosk:\n",
    "    def __init__(self):\n",
    "        self.menu = ['americano', 'latte', 'mocha',\n",
    "                     'yuza_tea', 'green_tea', 'choco_latte']\n",
    "        self.price = [2000, 3000, 3000, 2500, 2500, 3000]\n",
    "        self.order_menu = []  # 주문 리스트\n",
    "        self.order_price = []  # 가격 리스트\n",
    "        self.price_sum = 0\n",
    "        \n",
    "        # 하위 메서드 불러오기 및 자동 실행하도록 설정\n",
    "        self.menu_select() # 주문하기\n",
    "        self.pay()  # 지불과정 불러오기\n",
    "        self.table()  # 주문표 출력하기"
   ]
  },
  {
   "cell_type": "markdown",
   "id": "bbc99321",
   "metadata": {},
   "source": [
    "#### 2. 추가 주문시 메뉴를 출력하고, 입력받은 메뉴번호를 그대로 menu_select의 매개변수로 입력하도록 수정(추가 주문시 2번 숫자 입력할 필요 없음)\n",
    "\n",
    "- 이전 menu_select 메서드의 경우 추가 주문시 문구를 보면\n",
    "    - \"추가 주문은 음료 번호를, 지불은 0을 누르세요 : \" \n",
    "- 라고 뜨지만 번호를 누르면 다시 주문할 메뉴를 입력받도록 합니다.\n",
    "- 질문은 마치 음료 번호를 누르면 자동으로 추가 주문이 될 것 같은 뉘앙스인데, 한번 더 메뉴 선택을 요구 받는겁니다.\n",
    "- 사용자 입장에선 불편함을 느끼는 포인트라 생각했습니다.\n",
    "- 또한 추가 주문시에도 메뉴가 보이지 않아서 불편할 수 있다 생각했습니다.\n",
    "- 그래서 추가 주문 요구시에 메뉴표를 먼저 제안하면서 추가 주문의사를 확인하고, 메뉴 번호를 입력받으면 바로 주문이 되도록 하고 싶었습니다.\n",
    "\n",
    "---\n",
    "\n",
    "- 이를 위해 일단 추가 주문시에 사용될 매개변수(pre_selected) 를 추가하고 고정값으로 None을 입력하도록 했습니다.\n",
    "    - 이 변수는 추가 주문시에만 사용되며, 첫 주문의 정보가 여기에 저장되게 됩니다.\n",
    "- 두번째로, 첫주문과 두번째 주문의 로직을 조건문으로 분리 했습니다.\n",
    "    - 구분 기준은 pre_selected가 None인지 아닌지 입니다.\n",
    "    - 이것을 위해 pre_selected를 만들었습니다.\n",
    "- 첫 주문에서 주문번호를 받은 경우와, 주문을 받지 않고 종료한 경우를 구분했습니다.\n",
    "- 그리고 else문에 첫주문 이외의 경우(=추가주문) 첫 주문에 입력받은 번호(n)을 그대로 사용해서 추가 주문에 정보를 활용하도록 했습니다."
   ]
  },
  {
   "cell_type": "markdown",
   "id": "a78a2fc6",
   "metadata": {},
   "source": [
    "#### 3. 최초 주문시 0번 누르면 바로 종료되도록 기능 추가\n",
    "#### 4. 최초 주문시 출력문구와 추가 주문시의 출력문구를 다르게 수정\n",
    "\n",
    "- 위에서 만든 pre_selected와 관련 로직을 만들면서 추가적인 액션들도 함께 연동하도록 했습니다.\n",
    "- 최초 주문시에도 주문취소를 하는경우에 대한 처리, 그리고 처음 주문시와 추가 주문시의 출력문구를 각각 추가해 구분이 되도록 했습니다."
   ]
  },
  {
   "cell_type": "code",
   "execution_count": 1,
   "id": "5f810ebf",
   "metadata": {
    "ExecuteTime": {
     "end_time": "2023-11-19T03:12:12.115431Z",
     "start_time": "2023-11-19T03:12:12.105860Z"
    }
   },
   "outputs": [],
   "source": [
    "class Kiosk:\n",
    "    def __init__(self):\n",
    "        self.menu = ['americano', 'latte', 'mocha',\n",
    "                     'yuza_tea', 'green_tea', 'choco_latte']\n",
    "        self.price = [2000, 3000, 3000, 2500, 2500, 3000]\n",
    "        self.order_menu = []  # 주문 리스트\n",
    "        self.order_price = []  # 가격 리스트\n",
    "        self.price_sum = 0\n",
    "\n",
    "        # if self.menu_select() is not None: # 주문 결과가 None이 아닌 경우\n",
    "        if self.menu_select() != 'no_order':  # 주문이 있는 경우\n",
    "            self.pay()  # 지불과정 불러오기\n",
    "            self.table()  # 주문표 출력하기\n",
    "        else:\n",
    "            # 주문 없을 경우 그대로 프로그램 종료\n",
    "            return\n",
    "        \n",
    "    \n",
    "    \"\"\"\n",
    "    # 메뉴 출력 코드\n",
    "    def menu_print(self):\n",
    "    ...\n",
    "\n",
    "    \"\"\"\n",
    "        \n",
    "    def menu_select(self, pre_selected=None):\n",
    "\n",
    "        # 최초 주문시의 기능 추가\n",
    "        is_first_order = True if pre_selected is None else False\n",
    "\n",
    "        # 첫 주문에 대한 기능\n",
    "        if is_first_order:\n",
    "            self.menu_print()  # 메뉴출력\n",
    "            n = int(input(\"주문하실 음료 번호를 입력하세요. 주문을 원치 않으시면 0번을 눌러주세요: \\n\"))\n",
    "            # 주문을 하지 않고 종료한 경우\n",
    "            if n == 0:\n",
    "                print(\"다음에 또 찾아주세요~! 감사합니다.\")\n",
    "                return 'no_order'  # 메서드 종료\n",
    "\n",
    "        # 추가 주문의 경우 입력받은 메뉴 그대로 입력\n",
    "        else:\n",
    "            n = pre_selected\n",
    "\n",
    "        # 주문을 받으면 작동\n",
    "        while n != 0:\n",
    "            if 1 <= n <= len(self.menu):  # 메뉴중에 하나를 입력받은 경우\n",
    "                self.price_sum += self.price[n-1]  # 주문받은 메뉴 가격 추가\n",
    "                self.order_price.append(self.price[n-1])  # 최종 가격에 주문 받은가격 더하기\n",
    "\n",
    "                # 음료 온도에 다른 처리 수정\n",
    "                while True:\n",
    "                    #\n",
    "                    # HOT or ICE 입력 받기\n",
    "                    temperature = int(\n",
    "                        input(\"HOT 음료는 1을, ICE 음료는 2를 입력해주세요 : \\n\"))\n",
    "                    if temperature in [1, 2]:  # 정상적인 입력을 한 경우\n",
    "                        self.temp = \"HOT\" if temperature == 1 else \"ICE\"  # 메뉴 종류 전달\n",
    "                        self.order_menu.append(self.temp + ' ' + self.menu[n-1])  # 주문리스트에 메뉴명 전달\n",
    "                        break\n",
    "                    else:\n",
    "                        print(\"1 또는 2를 입력해주세요.\\n\")\n",
    "\n",
    "                # 메뉴에 온도 정보 추가\n",
    "                #self.order_menu.append(self.temp + ' ' + self.menu[n-1])\n",
    "\n",
    "                # 주문받은 가격정보 출력 - 천 단위 구분 기호 추가\n",
    "                formatted_price = \"{:,}\".format(self.price[n-1])  # 주문가격\n",
    "                formatted_sum = \"{:,}\".format(self.price_sum)  # 총 합계\n",
    "                # 정보 출력 후 줄바꿈 추가\n",
    "                print(\n",
    "                    f\"{self.temp} {self.menu[n-1]} : {formatted_price} 원 | 합계 : {formatted_sum} 원\\n\")\n",
    "\n",
    "                # 메뉴 추가 전후로 경계선 출력\n",
    "                print('-' * 100)\n",
    "                self.menu_print()\n",
    "                print('-' * 100)\n",
    "\n",
    "                n = int(\n",
    "                    input(\"추가 주문을 원하실 경우 주문하실 음료 번호를 입력해주세요. 지불을 원하시면 0번을 눌러주세요 : \\n\"))\n",
    "            else:\n",
    "                print(\"없는 메뉴입니다. 다시 메뉴를 선택해 주세요.\\n\")\n",
    "                self.menu_print() # 메뉴 다시 출력\n",
    "                n = int(input(\"주문하실 음료 번호를 입력해주세요. 지불을 원하시면 0번을 눌러주세요 : \\n\"))\n",
    "                continue  # 메인 반복문의 시작으로 돌아가기\n",
    "\n",
    "        if not is_first_order:\n",
    "            print(\"주문이 완료되었습니다.\\n\")"
   ]
  },
  {
   "cell_type": "markdown",
   "id": "9e8a40fb",
   "metadata": {},
   "source": [
    "#### 5. 메뉴 및 가격 출력시 가격이 같은 라인에서 보이도록 수정\n",
    "#### 6. 메뉴 및 가격 출력시 천단위에 쉼표 찍어서 출력 되도록 수정(다른 메서드에서는 self.price 계속 활용하도록 출력만 조정)\n",
    "\n",
    "- 둘다 간단한 작업이라 한번에 정리하도록 하겠습니다.\n",
    "- 메뉴 및 가격 출력에 대한 부분은 모두 menu_print 메서드에 적용되었습니다.\n",
    "    - print문 내에서 `\\t` 를 이용해 일정 간격으로 출력되도록 조정했습니다.\n",
    "- ' 천단위에 쉼표' 도 출력문에 `{:,}` 로 포맷지정을 해서 해결 했습니다. \n",
    "    - 문자열 포매팅에서 `{:,}` 가 천단위 마다 쉼표를 찍도록 하는 고정된 명령어(?) 입니다."
   ]
  },
  {
   "cell_type": "code",
   "execution_count": 2,
   "id": "9c4f463b",
   "metadata": {
    "ExecuteTime": {
     "end_time": "2023-11-19T03:28:37.063886Z",
     "start_time": "2023-11-19T03:28:37.059507Z"
    }
   },
   "outputs": [],
   "source": [
    "def menu_print(self):\n",
    "        for i in range(len(self.menu)):\n",
    "            # 메뉴이름 일정한 길이로 맞추기\n",
    "            # 가격 출력시에만 천단위로 콤마 찍어서 출력하기\n",
    "            formatted_price = \"{:,}\".format(self.price[i])  # 천 단위 구분 기호 추가\n",
    "            print(f\"{i + 1}. {self.menu[i]}\\t: {formatted_price} 원\")"
   ]
  },
  {
   "cell_type": "markdown",
   "id": "8105ebce",
   "metadata": {},
   "source": [
    "#### 7. HOT or ICE 선택시 1이나 2 이외의 숫자 입력시 오류문구 출력 및 재입력 요청\n",
    "\n",
    "- menu_select 메서드에서 온도를 선택받을때의 예외처리를 추가했습니다.\n",
    "\n",
    "\n",
    "```python\n",
    "# 음료 온도에 다른 처리 수정\n",
    "while True:\n",
    "    #\n",
    "    # HOT or ICE 입력 받기\n",
    "    temperature = int(\n",
    "        input(\"HOT 음료는 1을, ICE 음료는 2를 입력해주세요 : \\n\"))\n",
    "    if temperature in [1, 2]:  # 정상적인 입력을 한 경우\n",
    "        self.temp = \"HOT\" if temperature == 1 else \"ICE\"  # 메뉴 종류 전달\n",
    "        self.order_menu.append(self.temp + ' ' + self.menu[n-1])  # 주문리스트에 메뉴명 전달\n",
    "        break\n",
    "    else:\n",
    "        print(\"1 또는 2를 입력해주세요.\\n\")\n",
    "```"
   ]
  },
  {
   "cell_type": "markdown",
   "id": "f8da89a8",
   "metadata": {},
   "source": [
    "- 그외 출력문에 문구나 경계선을 추가하는 추가 작업을 일부 진행했습니다.\n",
    "\n",
    "8. 추가 주문시 누적 주문정보 아래 줄바꿈 추가 & 메뉴 출력시 위 아래 경계선 출력(가독성 up)\n",
    "9. 안내문구 출력시 마다 줄바꿈 추가(가독성 up)\n",
    "10. 누적주문번호 출력할때도 천단위로 쉼표 찍어서 출력하도록 수정\n",
    "\n",
    "---\n",
    "\n",
    "- 아래는 최종적으로 완성된 Kiosk의 수정 버전입니다.\n",
    "- 수정된 사항을 다시한번 정리하면 아래와 같습니다.\n",
    "---\n",
    "\n",
    "1. 클래스 호출시 한번에 모든 기능이 실행되도록 생성자 메서드 수정\n",
    "2. 추가 주문시 메뉴를 출력하고, 입력받은 메뉴번호를 그대로 menu_select의 매개변수로 입력하도록 수정(추가 주문시 2번 숫자 입력할 필요 없음)\n",
    "3. 최초 주문시 0번 누르면 바로 종료되도록 기능 추가\n",
    "4. 최초 주문시 출력문구와 추가 주문시의 출력문구를 다르게 수정\n",
    "5. 메뉴 및 가격 출력시 가격이 같은 라인에서 보이도록 수정\n",
    "6. 메뉴 및 가격 출력시 천단위에 쉼표 찍어서 출력 되도록 수정(다른 메서드에서는 self.price 계속 활용하도록 출력만 조정)\n",
    "7. HOT or ICE 선택시 1이나 2 이외의 숫자 입력시 오류문구 출력 및 재입력 요청\n",
    "8. 추가 주문시 누적 주문정보 아래 줄바꿈 추가 & 메뉴 출력시 위 아래 경계선 출력(가독성 up)\n",
    "9. 안내문구 출력시 마다 줄바꿈 추가(가독성 up)\n",
    "10. 누적주문번호 출력할때도 천단위로 쉼표 찍어서 출력하도록 수정"
   ]
  },
  {
   "cell_type": "code",
   "execution_count": 8,
   "id": "6817b8ee",
   "metadata": {
    "ExecuteTime": {
     "end_time": "2023-11-19T04:40:33.355223Z",
     "start_time": "2023-11-19T04:40:33.342094Z"
    }
   },
   "outputs": [],
   "source": [
    "class Kiosk:\n",
    "    def __init__(self):\n",
    "        self.menu = ['americano', 'latte', 'mocha',\n",
    "                     'yuza_tea', 'green_tea', 'choco_latte']\n",
    "        self.price = [2000, 3000, 3000, 2500, 2500, 3000]\n",
    "        self.order_menu = []  # 주문 리스트\n",
    "        self.order_price = []  # 가격 리스트\n",
    "        self.price_sum = 0\n",
    "\n",
    "        # if self.menu_select() is not None: # 주문 결과가 None이 아닌 경우\n",
    "        if self.menu_select() != 'no_order':  # 주문이 있는 경우\n",
    "            self.pay()  # 지불과정 불러오기\n",
    "            self.table()  # 주문표 출력하기\n",
    "        else:\n",
    "            # 주문 없을 경우 그대로 프로그램 종료\n",
    "            return\n",
    "\n",
    "    def menu_print(self):\n",
    "        for i in range(len(self.menu)):\n",
    "            # 메뉴이름 일정한 길이로 맞추기\n",
    "            # 가격 출력시에만 천단위로 콤마 찍어서 출력하기\n",
    "            formatted_price = \"{:,}\".format(self.price[i])  # 천 단위 구분 기호 추가\n",
    "            print(f\"{i + 1}. {self.menu[i]}\\t: {formatted_price} 원\")\n",
    "\n",
    "    def menu_select(self, pre_selected=None):\n",
    "\n",
    "        # 최초 주문시의 기능 추가\n",
    "        is_first_order = True if pre_selected is None else False\n",
    "\n",
    "        # 첫 주문에 대한 기능\n",
    "        if is_first_order:\n",
    "            self.menu_print()  # 메뉴출력\n",
    "            n = int(input(\"주문하실 음료 번호를 입력하세요. 주문을 원치 않으시면 0번을 눌러주세요: \\n\"))\n",
    "            if n == 0:\n",
    "                print(\"다음에 또 찾아주세요~! 감사합니다.\")\n",
    "                return 'no_order'  # 메서드 종료\n",
    "\n",
    "        # 추가 주문의 경우 입력받은 메뉴 그대로 입력\n",
    "        else:\n",
    "            n = pre_selected\n",
    "\n",
    "        # 주문을 받으면 작동\n",
    "        while n != 0:\n",
    "            if 1 <= n <= len(self.menu):  # 메뉴중에 하나를 입력받은 경우\n",
    "                self.price_sum += self.price[n-1]  # 주문받은 메뉴 가격 추가\n",
    "                self.order_price.append(self.price[n-1])  # 최종 가격에 주문 받은가격 더하기\n",
    "\n",
    "                # 음료 온도에 다른 처리 수정\n",
    "                while True:\n",
    "                    #\n",
    "                    # HOT or ICE 입력 받기\n",
    "                    temperature = int(\n",
    "                        input(\"HOT 음료는 1을, ICE 음료는 2를 입력해주세요 : \\n\"))\n",
    "                    if temperature in [1, 2]:  # 정상적인 입력을 한 경우\n",
    "                        self.temp = \"HOT\" if temperature == 1 else \"ICE\"  # 메뉴 종류 전달\n",
    "                        self.order_menu.append(self.temp + ' ' + self.menu[n-1])  # 주문리스트에 메뉴명 전달\n",
    "                        break\n",
    "                    else:\n",
    "                        print(\"1 또는 2를 입력해주세요.\\n\")\n",
    "\n",
    "                # 메뉴에 온도 정보 추가\n",
    "                #self.order_menu.append(self.temp + ' ' + self.menu[n-1])\n",
    "\n",
    "                # 주문받은 가격정보 출력 - 천 단위 구분 기호 추가\n",
    "                formatted_price = \"{:,}\".format(self.price[n-1])  # 주문가격\n",
    "                formatted_sum = \"{:,}\".format(self.price_sum)  # 총 합계\n",
    "                # 정보 출력 후 줄바꿈 추가\n",
    "                print(\n",
    "                    f\"{self.temp} {self.menu[n-1]} : {formatted_price} 원 | 합계 : {formatted_sum} 원\\n\")\n",
    "\n",
    "                # 메뉴 추가 전후로 경계선 출력\n",
    "                print('-' * 100)\n",
    "                self.menu_print()\n",
    "                print('-' * 100)\n",
    "\n",
    "                n = int(\n",
    "                    input(\"추가 주문을 원하실 경우 주문하실 음료 번호를 입력해주세요. 지불을 원하시면 0번을 눌러주세요 : \\n\"))\n",
    "            else:\n",
    "                print(\"없는 메뉴입니다. 다시 메뉴를 선택해 주세요.\\n\")\n",
    "                self.menu_print() # 메뉴 다시 출력\n",
    "                n = int(input(\"주문하실 음료 번호를 입력해주세요. 지불을 원하시면 0번을 눌러주세요 : \\n\"))\n",
    "                continue  # 메인 반복문의 시작으로 돌아가기\n",
    "\n",
    "        if not is_first_order:\n",
    "            print(\"주문이 완료되었습니다.\\n\")\n",
    "\n",
    "    def pay(self):\n",
    "        # 천단위 쉼표 추가\n",
    "        formatted_sum = \"{:,}\".format(self.price_sum)\n",
    "        print(f\"총 지불 금액: {formatted_sum} 원\\n\")\n",
    "        while True:\n",
    "            payment = input(\n",
    "                \"지불 방식을 선택하세요 (현금은 'cash' 또는 1, 카드는 'card' 또는 2): \\n\")\n",
    "            if payment in ['cash', '1']:\n",
    "                print(\"직원을 호출하겠습니다.\\n\")\n",
    "                break\n",
    "            elif payment in ['card', '2']:\n",
    "                print(\"IC칩 방향에 맞게 카드를 꽂아주세요.\\n\")\n",
    "                break\n",
    "            else:\n",
    "                print(\"올바른 지불 방식을 선택해주세요.\\n\")\n",
    "\n",
    "    def table(self):\n",
    "        print('⟝' + '-' * 30 + '⟞')\n",
    "        for _ in range(5):\n",
    "            print('|' + ' ' * 31 + '|')\n",
    "        for i in range(len(self.order_menu)):\n",
    "            # 메뉴별 가격에 천 단위 구분 쉼표 추가\n",
    "            formatted_price = \"{:,}\".format(self.order_price[i])\n",
    "            print(f\"{self.order_menu[i]} : {formatted_price} 원\\n\")\n",
    "\n",
    "        # 최종 합계 금액에 천 단위 구분 쉼표 추가\n",
    "        formatted_total = \"{:,}\".format(sum(self.order_price))\n",
    "        print(f'합계 금액 : {formatted_total} 원\\n')\n",
    "        for _ in range(5):\n",
    "            print('|' + ' ' * 31 + '|')\n",
    "        print('⟝' + '-' * 30 + '⟞')\n"
   ]
  },
  {
   "cell_type": "markdown",
   "id": "7ce7b8b7",
   "metadata": {},
   "source": [
    "### 생성한 클래스 테스트\n",
    "\n",
    "#### 첫 주문시 주문하지 않고 그만두기"
   ]
  },
  {
   "cell_type": "code",
   "execution_count": 9,
   "id": "00ad5a65",
   "metadata": {
    "ExecuteTime": {
     "end_time": "2023-11-19T04:40:39.165299Z",
     "start_time": "2023-11-19T04:40:36.889874Z"
    }
   },
   "outputs": [
    {
     "name": "stdout",
     "output_type": "stream",
     "text": [
      "1. americano\t: 2,000 원\n",
      "2. latte\t: 3,000 원\n",
      "3. mocha\t: 3,000 원\n",
      "4. yuza_tea\t: 2,500 원\n",
      "5. green_tea\t: 2,500 원\n",
      "6. choco_latte\t: 3,000 원\n",
      "주문하실 음료 번호를 입력하세요. 주문을 원치 않으시면 0번을 눌러주세요: \n",
      "0\n",
      "다음에 또 찾아주세요~! 감사합니다.\n"
     ]
    }
   ],
   "source": [
    "# 주문하지 않고 바로 종료시\n",
    "kiosk = Kiosk()  # 클래스 실행"
   ]
  },
  {
   "cell_type": "code",
   "execution_count": 11,
   "id": "6aed687c",
   "metadata": {
    "ExecuteTime": {
     "end_time": "2023-11-19T04:41:04.963443Z",
     "start_time": "2023-11-19T04:40:53.630557Z"
    },
    "scrolled": true
   },
   "outputs": [
    {
     "name": "stdout",
     "output_type": "stream",
     "text": [
      "1. americano\t: 2,000 원\n",
      "2. latte\t: 3,000 원\n",
      "3. mocha\t: 3,000 원\n",
      "4. yuza_tea\t: 2,500 원\n",
      "5. green_tea\t: 2,500 원\n",
      "6. choco_latte\t: 3,000 원\n",
      "주문하실 음료 번호를 입력하세요. 주문을 원치 않으시면 0번을 눌러주세요: \n",
      "1\n",
      "HOT 음료는 1을, ICE 음료는 2를 입력해주세요 : \n",
      "2\n",
      "ICE americano : 2,000 원 | 합계 : 2,000 원\n",
      "\n",
      "----------------------------------------------------------------------------------------------------\n",
      "1. americano\t: 2,000 원\n",
      "2. latte\t: 3,000 원\n",
      "3. mocha\t: 3,000 원\n",
      "4. yuza_tea\t: 2,500 원\n",
      "5. green_tea\t: 2,500 원\n",
      "6. choco_latte\t: 3,000 원\n",
      "----------------------------------------------------------------------------------------------------\n",
      "추가 주문을 원하실 경우 주문하실 음료 번호를 입력해주세요. 지불을 원하시면 0번을 눌러주세요 : \n",
      "3\n",
      "HOT 음료는 1을, ICE 음료는 2를 입력해주세요 : \n",
      "2\n",
      "ICE mocha : 3,000 원 | 합계 : 5,000 원\n",
      "\n",
      "----------------------------------------------------------------------------------------------------\n",
      "1. americano\t: 2,000 원\n",
      "2. latte\t: 3,000 원\n",
      "3. mocha\t: 3,000 원\n",
      "4. yuza_tea\t: 2,500 원\n",
      "5. green_tea\t: 2,500 원\n",
      "6. choco_latte\t: 3,000 원\n",
      "----------------------------------------------------------------------------------------------------\n",
      "추가 주문을 원하실 경우 주문하실 음료 번호를 입력해주세요. 지불을 원하시면 0번을 눌러주세요 : \n",
      "4\n",
      "HOT 음료는 1을, ICE 음료는 2를 입력해주세요 : \n",
      "3\n",
      "1 또는 2를 입력해주세요.\n",
      "\n",
      "HOT 음료는 1을, ICE 음료는 2를 입력해주세요 : \n",
      "2\n",
      "ICE yuza_tea : 2,500 원 | 합계 : 7,500 원\n",
      "\n",
      "----------------------------------------------------------------------------------------------------\n",
      "1. americano\t: 2,000 원\n",
      "2. latte\t: 3,000 원\n",
      "3. mocha\t: 3,000 원\n",
      "4. yuza_tea\t: 2,500 원\n",
      "5. green_tea\t: 2,500 원\n",
      "6. choco_latte\t: 3,000 원\n",
      "----------------------------------------------------------------------------------------------------\n",
      "추가 주문을 원하실 경우 주문하실 음료 번호를 입력해주세요. 지불을 원하시면 0번을 눌러주세요 : \n",
      "0\n",
      "총 지불 금액: 7,500 원\n",
      "\n",
      "지불 방식을 선택하세요 (현금은 'cash' 또는 1, 카드는 'card' 또는 2): \n",
      "1\n",
      "직원을 호출하겠습니다.\n",
      "\n",
      "⟝------------------------------⟞\n",
      "|                               |\n",
      "|                               |\n",
      "|                               |\n",
      "|                               |\n",
      "|                               |\n",
      "ICE americano : 2,000 원\n",
      "\n",
      "ICE mocha : 3,000 원\n",
      "\n",
      "ICE yuza_tea : 2,500 원\n",
      "\n",
      "합계 금액 : 7,500 원\n",
      "\n",
      "|                               |\n",
      "|                               |\n",
      "|                               |\n",
      "|                               |\n",
      "|                               |\n",
      "⟝------------------------------⟞\n"
     ]
    }
   ],
   "source": [
    "kiosk = Kiosk()  # 클래스 실행"
   ]
  },
  {
   "cell_type": "markdown",
   "id": "4da5cb0d",
   "metadata": {},
   "source": [
    "- 수정하고자 했던 사항들이 전부 잘 반영되어 작동하는 것을 확인했습니다."
   ]
  },
  {
   "cell_type": "markdown",
   "id": "d4d3f42c",
   "metadata": {},
   "source": [
    "---\n",
    "\n",
    "# 회고\n",
    "\n",
    "### KEEP\n",
    "- 클래스내에서의 메서드 수정을 하며 좀 더 현실적인 키오스크를 만든 것\n",
    "- 모르는 정보들 구글링하면서 찾고, 참고할만한 블로그들을 찾은 것\n",
    "\n",
    "### PROBLEM\n",
    "- 노드가 우선인데... 프로그래밍 팀과제 한다고 미루고 미루다 일요일까지 와버렸다..\n",
    "- 우선순위 관리, 체력관리, 시간분배를 잘해야겠다. 시간내에 과제를 완료하는 것이 가장 기본적인 덕목인데 학생(?)신분이 되었다고 맘을 너무 편하게 먹었다.\n",
    "\n",
    "### TRY\n",
    "- 우선순위 잘 정리해서 할일 계획 세우기"
   ]
  }
 ],
 "metadata": {
  "kernelspec": {
   "display_name": "Python 3 (ipykernel)",
   "language": "python",
   "name": "python3"
  },
  "language_info": {
   "codemirror_mode": {
    "name": "ipython",
    "version": 3
   },
   "file_extension": ".py",
   "mimetype": "text/x-python",
   "name": "python",
   "nbconvert_exporter": "python",
   "pygments_lexer": "ipython3",
   "version": "3.11.5"
  },
  "toc": {
   "base_numbering": 1,
   "nav_menu": {},
   "number_sections": true,
   "sideBar": true,
   "skip_h1_title": false,
   "title_cell": "Table of Contents",
   "title_sidebar": "Contents",
   "toc_cell": false,
   "toc_position": {
    "height": "calc(100% - 180px)",
    "left": "10px",
    "top": "150px",
    "width": "366.847px"
   },
   "toc_section_display": true,
   "toc_window_display": false
  },
  "varInspector": {
   "cols": {
    "lenName": 16,
    "lenType": 16,
    "lenVar": 40
   },
   "kernels_config": {
    "python": {
     "delete_cmd_postfix": "",
     "delete_cmd_prefix": "del ",
     "library": "var_list.py",
     "varRefreshCmd": "print(var_dic_list())"
    },
    "r": {
     "delete_cmd_postfix": ") ",
     "delete_cmd_prefix": "rm(",
     "library": "var_list.r",
     "varRefreshCmd": "cat(var_dic_list()) "
    }
   },
   "types_to_exclude": [
    "module",
    "function",
    "builtin_function_or_method",
    "instance",
    "_Feature"
   ],
   "window_display": false
  }
 },
 "nbformat": 4,
 "nbformat_minor": 5
}
