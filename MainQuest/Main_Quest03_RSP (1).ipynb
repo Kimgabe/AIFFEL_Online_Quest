{
 "cells": [
  {
   "cell_type": "code",
   "execution_count": 1,
   "id": "e8c9c8cf",
   "metadata": {
    "scrolled": true
   },
   "outputs": [
    {
     "name": "stdout",
     "output_type": "stream",
     "text": [
      "2.6.0\n",
      "1.22.2\n"
     ]
    }
   ],
   "source": [
    "import tensorflow as tf\n",
    "import numpy as np\n",
    "\n",
    "print(tf.__version__)\n",
    "print(np.__version__)"
   ]
  },
  {
   "cell_type": "code",
   "execution_count": 2,
   "id": "36b92ac2",
   "metadata": {},
   "outputs": [
    {
     "name": "stdout",
     "output_type": "stream",
     "text": [
      "PIL 라이브러리 import 완료!\n"
     ]
    }
   ],
   "source": [
    "from PIL import Image\n",
    "import glob\n",
    "import os\n",
    "\n",
    "print(\"PIL 라이브러리 import 완료!\")"
   ]
  },
  {
   "cell_type": "code",
   "execution_count": 3,
   "id": "27e60092",
   "metadata": {},
   "outputs": [
    {
     "name": "stdout",
     "output_type": "stream",
     "text": [
      "학습데이터(x_train)의 이미지 개수는 618 입니다.\n",
      "x_train shape: (618, 28, 28, 3)\n",
      "y_train shape: (618,)\n"
     ]
    }
   ],
   "source": [
    "import numpy as np\n",
    "\n",
    "def load_data(img_path, number_of_data=618):  # 가위바위보 이미지 개수 총합에 주의하세요.\n",
    "    # 가위 : 0, 바위 : 1, 보 : 2\n",
    "    img_size=28\n",
    "    color=3\n",
    "    #이미지 데이터와 라벨(가위 : 0, 바위 : 1, 보 : 2) 데이터를 담을 행렬(matrix) 영역을 생성합니다.\n",
    "    imgs=np.zeros(number_of_data*img_size*img_size*color,dtype=np.int32).reshape(number_of_data,img_size,img_size,color)\n",
    "    labels=np.zeros(number_of_data,dtype=np.int32)\n",
    "\n",
    "    idx=0\n",
    "    for file in glob.iglob(img_path+'/scissor/*.jpg'):\n",
    "        img = np.array(Image.open(file),dtype=np.int32)\n",
    "        imgs[idx,:,:,:]=img    # 데이터 영역에 이미지 행렬을 복사\n",
    "        labels[idx]=0   # 가위 : 0\n",
    "        idx=idx+1\n",
    "\n",
    "    for file in glob.iglob(img_path+'/rock/*.jpg'):\n",
    "        img = np.array(Image.open(file),dtype=np.int32)\n",
    "        imgs[idx,:,:,:]=img    # 데이터 영역에 이미지 행렬을 복사\n",
    "        labels[idx]=1   # 바위 : 1\n",
    "        idx=idx+1  \n",
    "    \n",
    "    for file in glob.iglob(img_path+'/paper/*.jpg'):\n",
    "        img = np.array(Image.open(file),dtype=np.int32)\n",
    "        imgs[idx,:,:,:]=img    # 데이터 영역에 이미지 행렬을 복사\n",
    "        labels[idx]=2   # 보 : 2\n",
    "        idx=idx+1\n",
    "        \n",
    "    print(\"학습데이터(x_train)의 이미지 개수는\", idx,\"입니다.\")\n",
    "    return imgs, labels\n",
    "\n",
    "image_dir_path = os.getenv(\"HOME\") + \"/aiffel/rock_scissor_paper\"\n",
    "(x_train, y_train)=load_data(image_dir_path)\n",
    "x_train_norm = x_train/255.0   # 입력은 0~1 사이의 값으로 정규화\n",
    "\n",
    "print(\"x_train shape: {}\".format(x_train.shape))\n",
    "print(\"y_train shape: {}\".format(y_train.shape))"
   ]
  },
  {
   "cell_type": "code",
   "execution_count": 4,
   "id": "482e4bd8",
   "metadata": {},
   "outputs": [
    {
     "name": "stdout",
     "output_type": "stream",
     "text": [
      "라벨:  0\n"
     ]
    },
    {
     "data": {
      "image/png": "[encoded data removed]",
      "text/plain": [
       "<Figure size 432x288 with 1 Axes>"
      ]
     },
     "metadata": {
      "needs_background": "light"
     },
     "output_type": "display_data"
    }
   ],
   "source": [
    "import matplotlib.pyplot as plt\n",
    "\n",
    "plt.imshow(x_train[0])\n",
    "print('라벨: ', y_train[0])"
   ]
  },
  {
   "cell_type": "code",
   "execution_count": 20,
   "id": "0110589f",
   "metadata": {
    "scrolled": true
   },
   "outputs": [
    {
     "name": "stdout",
     "output_type": "stream",
     "text": [
      "Model: \"sequential_1\"\n",
      "_________________________________________________________________\n",
      "Layer (type)                 Output Shape              Param #   \n",
      "=================================================================\n",
      "conv2d_2 (Conv2D)            (None, 24, 24, 16)        1216      \n",
      "_________________________________________________________________\n",
      "max_pooling2d_2 (MaxPooling2 (None, 12, 12, 16)        0         \n",
      "_________________________________________________________________\n",
      "batch_normalization_3 (Batch (None, 12, 12, 16)        64        \n",
      "_________________________________________________________________\n",
      "conv2d_3 (Conv2D)            (None, 8, 8, 32)          12832     \n",
      "_________________________________________________________________\n",
      "max_pooling2d_3 (MaxPooling2 (None, 4, 4, 32)          0         \n",
      "_________________________________________________________________\n",
      "batch_normalization_4 (Batch (None, 4, 4, 32)          128       \n",
      "_________________________________________________________________\n",
      "flatten_1 (Flatten)          (None, 512)               0         \n",
      "_________________________________________________________________\n",
      "dense_2 (Dense)              (None, 32)                16416     \n",
      "_________________________________________________________________\n",
      "batch_normalization_5 (Batch (None, 32)                128       \n",
      "_________________________________________________________________\n",
      "dropout_1 (Dropout)          (None, 32)                0         \n",
      "_________________________________________________________________\n",
      "dense_3 (Dense)              (None, 3)                 99        \n",
      "=================================================================\n",
      "Total params: 30,883\n",
      "Trainable params: 30,723\n",
      "Non-trainable params: 160\n",
      "_________________________________________________________________\n"
     ]
    }
   ],
   "source": [
    "import tensorflow as tf\n",
    "from tensorflow import keras\n",
    "import numpy as np\n",
    "import matplotlib.pyplot as plt\n",
    "import os\n",
    "from keras.layers import Dropout\n",
    "# model을 직접 만들어 보세요.\n",
    "# Hint! model의 입력/출력부에 특히 유의해 주세요. 가위바위보 데이터셋은 MNIST 데이터셋과 어떤 점이 달라졌나요?\n",
    "\n",
    "n_channel_1=16\n",
    "n_channel_2=32\n",
    "n_dense=32\n",
    "n_train_epoch=10\n",
    "\n",
    "model=keras.models.Sequential()\n",
    "model.add(keras.layers.Conv2D(n_channel_1, (5,5), activation='relu', input_shape=(28,28,3)))\n",
    "model.add(keras.layers.MaxPool2D(2,2))\n",
    "model.add(keras.layers.BatchNormalization())\n",
    "model.add(keras.layers.Conv2D(n_channel_2, (5,5), activation='relu'))\n",
    "model.add(keras.layers.MaxPooling2D((2,2)))\n",
    "model.add(keras.layers.BatchNormalization())\n",
    "model.add(keras.layers.Flatten())\n",
    "model.add(keras.layers.Dense(n_dense, activation='relu'))\n",
    "model.add(keras.layers.BatchNormalization())\n",
    "model.add(Dropout(0.5))\n",
    "model.add(keras.layers.Dense(3, activation='softmax'))\n",
    "\n",
    "model.summary()\n",
    "model.compile(optimizer='adam',\n",
    "             loss='sparse_categorical_crossentropy',\n",
    "             metrics=['accuracy'])"
   ]
  },
  {
   "cell_type": "code",
   "execution_count": 21,
   "id": "c4b396a2",
   "metadata": {
    "scrolled": true
   },
   "outputs": [
    {
     "name": "stdout",
     "output_type": "stream",
     "text": [
      "Epoch 1/10\n",
      "10/10 [==============================] - 1s 26ms/step - loss: 1.2909 - accuracy: 0.5167\n",
      "Epoch 2/10\n",
      "10/10 [==============================] - 0s 28ms/step - loss: 0.3103 - accuracy: 0.8967\n",
      "Epoch 3/10\n",
      "10/10 [==============================] - 0s 29ms/step - loss: 0.1786 - accuracy: 0.9700\n",
      "Epoch 4/10\n",
      "10/10 [==============================] - 0s 30ms/step - loss: 0.1238 - accuracy: 0.9667\n",
      "Epoch 5/10\n",
      "10/10 [==============================] - 0s 30ms/step - loss: 0.1125 - accuracy: 0.9833\n",
      "Epoch 6/10\n",
      "10/10 [==============================] - 0s 28ms/step - loss: 0.0965 - accuracy: 0.9900\n",
      "Epoch 7/10\n",
      "10/10 [==============================] - 0s 26ms/step - loss: 0.0653 - accuracy: 0.9933\n",
      "Epoch 8/10\n",
      "10/10 [==============================] - 0s 26ms/step - loss: 0.0587 - accuracy: 0.9967\n",
      "Epoch 9/10\n",
      "10/10 [==============================] - 0s 26ms/step - loss: 0.0545 - accuracy: 0.9967\n",
      "Epoch 10/10\n",
      "10/10 [==============================] - 0s 29ms/step - loss: 0.0349 - accuracy: 1.0000\n"
     ]
    },
    {
     "data": {
      "text/plain": [
       "<keras.callbacks.History at 0x7fbff9977400>"
      ]
     },
     "execution_count": 21,
     "metadata": {},
     "output_type": "execute_result"
    }
   ],
   "source": [
    "model.fit(x_train, y_train, epochs=n_train_epoch)"
   ]
  },
  {
   "cell_type": "code",
   "execution_count": 22,
   "id": "8529e476",
   "metadata": {},
   "outputs": [
    {
     "name": "stdout",
     "output_type": "stream",
     "text": [
      "학습데이터(x_test)의 이미지 개수는 300 입니다.\n",
      "x_test shape: (300, 28, 28, 3)\n",
      "y_test shape: (300,)\n"
     ]
    }
   ],
   "source": [
    "# x_test, y_test를 만드는 방법은 x_train, y_train을 만드는 방법과 아주 유사합니다.\n",
    "\n",
    "def load_data2(img_path, number_of_data=300):  # 가위바위보 이미지 개수 총합에 주의하세요.\n",
    "    # 가위 : 0, 바위 : 1, 보 : 2\n",
    "    img_size=28\n",
    "    color=3\n",
    "    #이미지 데이터와 라벨(가위 : 0, 바위 : 1, 보 : 2) 데이터를 담을 행렬(matrix) 영역을 생성합니다.\n",
    "    imgs=np.zeros(number_of_data*img_size*img_size*color,dtype=np.int32).reshape(number_of_data,img_size,img_size,color)\n",
    "    labels=np.zeros(number_of_data,dtype=np.int32)\n",
    "\n",
    "    idx=0\n",
    "    for file in glob.iglob(img_path+'/scissor/*.jpg'):\n",
    "        img = np.array(Image.open(file),dtype=np.int32)\n",
    "        imgs[idx,:,:,:]=img    # 데이터 영역에 이미지 행렬을 복사\n",
    "        labels[idx]=0   # 가위 : 0\n",
    "        idx=idx+1\n",
    "\n",
    "    for file in glob.iglob(img_path+'/rock/*.jpg'):\n",
    "        img = np.array(Image.open(file),dtype=np.int32)\n",
    "        imgs[idx,:,:,:]=img    # 데이터 영역에 이미지 행렬을 복사\n",
    "        labels[idx]=1   # 바위 : 1\n",
    "        idx=idx+1  \n",
    "    \n",
    "    for file in glob.iglob(img_path+'/paper/*.jpg'):\n",
    "        img = np.array(Image.open(file),dtype=np.int32)\n",
    "        imgs[idx,:,:,:]=img    # 데이터 영역에 이미지 행렬을 복사\n",
    "        labels[idx]=2   # 보 : 2\n",
    "        idx=idx+1\n",
    "        \n",
    "    print(\"학습데이터(x_test)의 이미지 개수는\", idx,\"입니다.\")\n",
    "    return imgs, labels\n",
    "\n",
    "image_dir_path = os.getenv(\"HOME\") + \"/aiffel/rock_scissor_paper/test\"\n",
    "(x_train, y_train)=load_data2(image_dir_path)\n",
    "x_train_norm = x_train/255.0   # 입력은 0~1 사이의 값으로 정규화\n",
    "\n",
    "print(\"x_test shape: {}\".format(x_train.shape))\n",
    "print(\"y_test shape: {}\".format(y_train.shape))"
   ]
  },
  {
   "cell_type": "code",
   "execution_count": 39,
   "id": "2c7280f4",
   "metadata": {},
   "outputs": [
    {
     "name": "stdout",
     "output_type": "stream",
     "text": [
      "10/10 - 0s - loss: 1.9115 - accuracy: 0.6667\n",
      "test_loss: 1.9115006923675537 \n",
      "test_accuracy: 0.6666666865348816\n"
     ]
    }
   ],
   "source": [
    "# model을 학습시키는 코드를 직접 작성해 보세요.\n",
    "# Hint! model.evaluate()을 사용해 봅시다.\n",
    "\n",
    "test_loss, test_accuracy = model.evaluate(x_test, y_test, verbose=2)\n",
    "print(f\"test_loss: {test_loss} \")\n",
    "print(f\"test_accuracy: {test_accuracy}\")"
   ]
  },
  {
   "cell_type": "code",
   "execution_count": 24,
   "id": "e7a562f8",
   "metadata": {},
   "outputs": [
    {
     "name": "stdout",
     "output_type": "stream",
     "text": [
      "model.predict() 결과 :  [9.9214935e-01 7.4418010e-03 4.0888690e-04]\n",
      "model이 추론한 가장 가능성이 높은 결과 :  0\n",
      "실제 데이터의 라벨 :  0\n"
     ]
    }
   ],
   "source": [
    "#테스트 회고\n",
    "predicted_result = model.predict(x_test)  # model이 추론한 확률값.\n",
    "predicted_labels = np.argmax(predicted_result, axis=1)\n",
    "\n",
    "idx=0  #1번째 x_test를 살펴보자.\n",
    "print('model.predict() 결과 : ', predicted_result[idx])\n",
    "print('model이 추론한 가장 가능성이 높은 결과 : ', predicted_labels[idx])\n",
    "print('실제 데이터의 라벨 : ', y_test[idx])"
   ]
  },
  {
   "cell_type": "code",
   "execution_count": 83,
   "id": "51db0867",
   "metadata": {},
   "outputs": [
    {
     "name": "stdout",
     "output_type": "stream",
     "text": [
      "예측확률분포: [0.8346465  0.16405459 0.00129892]\n",
      "라벨: 1, 예측결과: 0\n"
     ]
    },
    {
     "data": {
      "image/png": "[encoded data removed]",
      "text/plain": [
       "<Figure size 432x288 with 1 Axes>"
      ]
     },
     "metadata": {
      "needs_background": "light"
     },
     "output_type": "display_data"
    },
    {
     "name": "stdout",
     "output_type": "stream",
     "text": [
      "예측확률분포: [0.5795914  0.41527396 0.00513471]\n",
      "라벨: 1, 예측결과: 0\n"
     ]
    },
    {
     "data": {
      "image/png": "[encoded data removed]",
      "text/plain": [
       "<Figure size 432x288 with 1 Axes>"
      ]
     },
     "metadata": {
      "needs_background": "light"
     },
     "output_type": "display_data"
    },
    {
     "name": "stdout",
     "output_type": "stream",
     "text": [
      "예측확률분포: [0.8463986  0.1489844  0.00461706]\n",
      "라벨: 1, 예측결과: 0\n"
     ]
    },
    {
     "data": {
      "image/png": "[encoded data removed]",
      "text/plain": [
       "<Figure size 432x288 with 1 Axes>"
      ]
     },
     "metadata": {
      "needs_background": "light"
     },
     "output_type": "display_data"
    },
    {
     "name": "stdout",
     "output_type": "stream",
     "text": [
      "예측확률분포: [0.6926779  0.30599043 0.00133171]\n",
      "라벨: 1, 예측결과: 0\n"
     ]
    },
    {
     "data": {
      "image/png": "[encoded data removed]",
      "text/plain": [
       "<Figure size 432x288 with 1 Axes>"
      ]
     },
     "metadata": {
      "needs_background": "light"
     },
     "output_type": "display_data"
    },
    {
     "name": "stdout",
     "output_type": "stream",
     "text": [
      "예측확률분포: [0.7264439  0.2720604  0.00149574]\n",
      "라벨: 1, 예측결과: 0\n"
     ]
    },
    {
     "data": {
      "image/png": "[encoded data removed]",
      "text/plain": [
       "<Figure size 432x288 with 1 Axes>"
      ]
     },
     "metadata": {
      "needs_background": "light"
     },
     "output_type": "display_data"
    }
   ],
   "source": [
    "# model이 추론해 낸 숫자와 실제 라벨의 값이 다른 경우는 어떤 경우인지 직접 확인\n",
    "import random\n",
    "wrong_predict_list=[]\n",
    "for i, _ in enumerate(predicted_labels):\n",
    "    # i번째 test_labels과 y_test이 다른 경우만 모아 봅시다.\n",
    "    if predicted_labels[i] != y_test[i]:\n",
    "        wrong_predict_list.append(i)\n",
    "\n",
    "# wrong_predict_list 에서 랜덤하게 5개만 뽑아봅시다.\n",
    "samples = random.choices(population=wrong_predict_list, k=5)\n",
    "\n",
    "for n in samples:\n",
    "    print(\"예측확률분포: \" + str(predicted_result[n]))\n",
    "    print(\"라벨: \" + str(y_test[n]) + \", 예측결과: \" + str(predicted_labels[n]))\n",
    "    plt.imshow(x_test[n], cmap=plt.cm.binary)\n",
    "    plt.show()"
   ]
  },
  {
   "cell_type": "code",
   "execution_count": null,
   "id": "b15ace5e",
   "metadata": {},
   "outputs": [],
   "source": []
  },
  {
   "cell_type": "code",
   "execution_count": 59,
   "id": "8083eabb",
   "metadata": {},
   "outputs": [
    {
     "name": "stdout",
     "output_type": "stream",
     "text": [
      "Model: \"sequential_29\"\n",
      "_________________________________________________________________\n",
      "Layer (type)                 Output Shape              Param #   \n",
      "=================================================================\n",
      "conv2d_58 (Conv2D)           (None, 27, 27, 8)         104       \n",
      "_________________________________________________________________\n",
      "max_pooling2d_58 (MaxPooling (None, 13, 13, 8)         0         \n",
      "_________________________________________________________________\n",
      "batch_normalization_87 (Batc (None, 13, 13, 8)         32        \n",
      "_________________________________________________________________\n",
      "conv2d_59 (Conv2D)           (None, 12, 12, 16)        528       \n",
      "_________________________________________________________________\n",
      "max_pooling2d_59 (MaxPooling (None, 6, 6, 16)          0         \n",
      "_________________________________________________________________\n",
      "batch_normalization_88 (Batc (None, 6, 6, 16)          64        \n",
      "_________________________________________________________________\n",
      "flatten_29 (Flatten)         (None, 576)               0         \n",
      "_________________________________________________________________\n",
      "dense_58 (Dense)             (None, 32)                18464     \n",
      "_________________________________________________________________\n",
      "batch_normalization_89 (Batc (None, 32)                128       \n",
      "_________________________________________________________________\n",
      "dropout_29 (Dropout)         (None, 32)                0         \n",
      "_________________________________________________________________\n",
      "dense_59 (Dense)             (None, 3)                 99        \n",
      "=================================================================\n",
      "Total params: 19,419\n",
      "Trainable params: 19,307\n",
      "Non-trainable params: 112\n",
      "_________________________________________________________________\n",
      "Epoch 1/10\n",
      "10/10 [==============================] - 1s 13ms/step - loss: 0.7246 - accuracy: 0.6767\n",
      "Epoch 2/10\n",
      "10/10 [==============================] - 0s 16ms/step - loss: 0.2817 - accuracy: 0.9300\n",
      "Epoch 3/10\n",
      "10/10 [==============================] - 0s 14ms/step - loss: 0.1891 - accuracy: 0.9567\n",
      "Epoch 4/10\n",
      "10/10 [==============================] - 0s 15ms/step - loss: 0.1353 - accuracy: 0.9733\n",
      "Epoch 5/10\n",
      "10/10 [==============================] - 0s 14ms/step - loss: 0.0824 - accuracy: 0.9967\n",
      "Epoch 6/10\n",
      "10/10 [==============================] - 0s 16ms/step - loss: 0.0770 - accuracy: 0.9933\n",
      "Epoch 7/10\n",
      "10/10 [==============================] - 0s 16ms/step - loss: 0.0593 - accuracy: 1.0000\n",
      "Epoch 8/10\n",
      "10/10 [==============================] - 0s 14ms/step - loss: 0.0546 - accuracy: 0.9967\n",
      "Epoch 9/10\n",
      "10/10 [==============================] - 0s 14ms/step - loss: 0.0420 - accuracy: 1.0000\n",
      "Epoch 10/10\n",
      "10/10 [==============================] - 0s 17ms/step - loss: 0.0394 - accuracy: 0.9967\n",
      "10/10 - 0s - loss: 0.2099 - accuracy: 0.9367\n",
      "test_loss: 0.2099376618862152 \n",
      "test_accuracy: 0.9366666674613953\n"
     ]
    }
   ],
   "source": [
    "# 하이퍼파라미터 조정 - 채널 낮게, 드롭아웃 30%\n",
    "\n",
    "from keras.layers import Dropout\n",
    "\n",
    "n_channel_1=8\n",
    "n_channel_2=16\n",
    "n_dense=32\n",
    "n_train_epoch=10\n",
    "\n",
    "model=keras.models.Sequential()\n",
    "model.add(keras.layers.Conv2D(n_channel_1, (2,2), activation='relu', input_shape=(28,28,3)))\n",
    "model.add(keras.layers.MaxPool2D(2,2))\n",
    "model.add(keras.layers.BatchNormalization())\n",
    "model.add(keras.layers.Conv2D(n_channel_2, (2,2), activation='relu'))\n",
    "model.add(keras.layers.MaxPooling2D((2,2)))\n",
    "model.add(keras.layers.BatchNormalization())\n",
    "model.add(keras.layers.Flatten())\n",
    "model.add(keras.layers.Dense(n_dense, activation='relu'))\n",
    "model.add(keras.layers.BatchNormalization())\n",
    "model.add(Dropout(0.3))\n",
    "model.add(keras.layers.Dense(3, activation='softmax'))\n",
    "\n",
    "model.summary()\n",
    "model.compile(optimizer='adam',\n",
    "             loss='sparse_categorical_crossentropy',\n",
    "             metrics=['accuracy'])\n",
    "\n",
    "# 모델 훈련\n",
    "model.fit(x_train, y_train, epochs=n_train_epoch)\n",
    "\n",
    "# 모델 시험\n",
    "test_loss, test_accuracy = model.evaluate(x_test, y_test, verbose=2)\n",
    "print(f\"test_loss: {test_loss} \")\n",
    "print(f\"test_accuracy: {test_accuracy}\")"
   ]
  },
  {
   "cell_type": "code",
   "execution_count": 71,
   "id": "82eb4b31",
   "metadata": {},
   "outputs": [
    {
     "name": "stdout",
     "output_type": "stream",
     "text": [
      "Model: \"sequential_41\"\n",
      "_________________________________________________________________\n",
      "Layer (type)                 Output Shape              Param #   \n",
      "=================================================================\n",
      "conv2d_82 (Conv2D)           (None, 27, 27, 4)         52        \n",
      "_________________________________________________________________\n",
      "max_pooling2d_82 (MaxPooling (None, 13, 13, 4)         0         \n",
      "_________________________________________________________________\n",
      "batch_normalization_123 (Bat (None, 13, 13, 4)         16        \n",
      "_________________________________________________________________\n",
      "conv2d_83 (Conv2D)           (None, 12, 12, 8)         136       \n",
      "_________________________________________________________________\n",
      "max_pooling2d_83 (MaxPooling (None, 6, 6, 8)           0         \n",
      "_________________________________________________________________\n",
      "batch_normalization_124 (Bat (None, 6, 6, 8)           32        \n",
      "_________________________________________________________________\n",
      "flatten_41 (Flatten)         (None, 288)               0         \n",
      "_________________________________________________________________\n",
      "dense_82 (Dense)             (None, 8)                 2312      \n",
      "_________________________________________________________________\n",
      "batch_normalization_125 (Bat (None, 8)                 32        \n",
      "_________________________________________________________________\n",
      "dropout_41 (Dropout)         (None, 8)                 0         \n",
      "_________________________________________________________________\n",
      "dense_83 (Dense)             (None, 3)                 27        \n",
      "=================================================================\n",
      "Total params: 2,607\n",
      "Trainable params: 2,567\n",
      "Non-trainable params: 40\n",
      "_________________________________________________________________\n",
      "Epoch 1/20\n",
      "10/10 [==============================] - 1s 13ms/step - loss: 2.1860 - accuracy: 0.2000\n",
      "Epoch 2/20\n",
      "10/10 [==============================] - 0s 12ms/step - loss: 1.4357 - accuracy: 0.3367\n",
      "Epoch 3/20\n",
      "10/10 [==============================] - 0s 13ms/step - loss: 1.1224 - accuracy: 0.4400\n",
      "Epoch 4/20\n",
      "10/10 [==============================] - 0s 13ms/step - loss: 0.8622 - accuracy: 0.5667\n",
      "Epoch 5/20\n",
      "10/10 [==============================] - 0s 13ms/step - loss: 0.7360 - accuracy: 0.6800\n",
      "Epoch 6/20\n",
      "10/10 [==============================] - 0s 13ms/step - loss: 0.5705 - accuracy: 0.7900\n",
      "Epoch 7/20\n",
      "10/10 [==============================] - 0s 13ms/step - loss: 0.4911 - accuracy: 0.8600\n",
      "Epoch 8/20\n",
      "10/10 [==============================] - 0s 15ms/step - loss: 0.4551 - accuracy: 0.8833\n",
      "Epoch 9/20\n",
      "10/10 [==============================] - 0s 11ms/step - loss: 0.4376 - accuracy: 0.9067\n",
      "Epoch 10/20\n",
      "10/10 [==============================] - 0s 13ms/step - loss: 0.4295 - accuracy: 0.8933\n",
      "Epoch 11/20\n",
      "10/10 [==============================] - 0s 13ms/step - loss: 0.3885 - accuracy: 0.9267\n",
      "Epoch 12/20\n",
      "10/10 [==============================] - 0s 14ms/step - loss: 0.3342 - accuracy: 0.9500\n",
      "Epoch 13/20\n",
      "10/10 [==============================] - 0s 13ms/step - loss: 0.3608 - accuracy: 0.9267\n",
      "Epoch 14/20\n",
      "10/10 [==============================] - 0s 13ms/step - loss: 0.3379 - accuracy: 0.9400\n",
      "Epoch 15/20\n",
      "10/10 [==============================] - 0s 12ms/step - loss: 0.3329 - accuracy: 0.9233\n",
      "Epoch 16/20\n",
      "10/10 [==============================] - 0s 13ms/step - loss: 0.3128 - accuracy: 0.9533\n",
      "Epoch 17/20\n",
      "10/10 [==============================] - 0s 13ms/step - loss: 0.2683 - accuracy: 0.9500\n",
      "Epoch 18/20\n",
      "10/10 [==============================] - 0s 13ms/step - loss: 0.2839 - accuracy: 0.9567\n",
      "Epoch 19/20\n",
      "10/10 [==============================] - 0s 14ms/step - loss: 0.2546 - accuracy: 0.9600\n",
      "Epoch 20/20\n",
      "10/10 [==============================] - 0s 16ms/step - loss: 0.2666 - accuracy: 0.9633\n",
      "10/10 - 0s - loss: 0.1747 - accuracy: 1.0000\n",
      "test_loss: 0.17466823756694794 \n",
      "test_accuracy: 1.0\n"
     ]
    }
   ],
   "source": [
    "# 하이퍼파라미터 조정2 - 채널 낮추고 에폭 높임\n",
    "\n",
    "from keras.layers import Dropout\n",
    "\n",
    "n_channel_1=4\n",
    "n_channel_2=8\n",
    "n_dense=8\n",
    "n_train_epoch=20\n",
    "\n",
    "model2=keras.models.Sequential()\n",
    "model2.add(keras.layers.Conv2D(n_channel_1, (2,2), activation='relu', input_shape=(28,28,3)))\n",
    "model2.add(keras.layers.MaxPool2D(2,2))\n",
    "model2.add(keras.layers.BatchNormalization())\n",
    "model2.add(keras.layers.Conv2D(n_channel_2, (2,2), activation='relu'))\n",
    "model2.add(keras.layers.MaxPooling2D((2,2)))\n",
    "model2.add(keras.layers.BatchNormalization())\n",
    "model2.add(keras.layers.Flatten())\n",
    "model2.add(keras.layers.Dense(n_dense, activation='relu'))\n",
    "model2.add(keras.layers.BatchNormalization())\n",
    "model2.add(Dropout(0.3))\n",
    "model2.add(keras.layers.Dense(3, activation='softmax'))\n",
    "\n",
    "model2.summary()\n",
    "model2.compile(optimizer='adam',\n",
    "             loss='sparse_categorical_crossentropy',\n",
    "             metrics=['accuracy'])\n",
    "\n",
    "# 모델 훈련\n",
    "model2.fit(x_train, y_train, epochs=n_train_epoch)\n",
    "\n",
    "# 모델 시험\n",
    "test_loss, test_accuracy = model2.evaluate(x_test, y_test, verbose=2)\n",
    "print(f\"test_loss: {test_loss} \")\n",
    "print(f\"test_accuracy: {test_accuracy}\")"
   ]
  },
  {
   "cell_type": "code",
   "execution_count": 99,
   "id": "1b855e08",
   "metadata": {
    "scrolled": true
   },
   "outputs": [
    {
     "name": "stdout",
     "output_type": "stream",
     "text": [
      "Model: \"sequential_58\"\n",
      "_________________________________________________________________\n",
      "Layer (type)                 Output Shape              Param #   \n",
      "=================================================================\n",
      "conv2d_116 (Conv2D)          (None, 27, 27, 4)         52        \n",
      "_________________________________________________________________\n",
      "max_pooling2d_116 (MaxPoolin (None, 13, 13, 4)         0         \n",
      "_________________________________________________________________\n",
      "batch_normalization_174 (Bat (None, 13, 13, 4)         16        \n",
      "_________________________________________________________________\n",
      "conv2d_117 (Conv2D)          (None, 12, 12, 8)         136       \n",
      "_________________________________________________________________\n",
      "max_pooling2d_117 (MaxPoolin (None, 6, 6, 8)           0         \n",
      "_________________________________________________________________\n",
      "batch_normalization_175 (Bat (None, 6, 6, 8)           32        \n",
      "_________________________________________________________________\n",
      "flatten_58 (Flatten)         (None, 288)               0         \n",
      "_________________________________________________________________\n",
      "dense_116 (Dense)            (None, 3)                 867       \n",
      "_________________________________________________________________\n",
      "batch_normalization_176 (Bat (None, 3)                 12        \n",
      "_________________________________________________________________\n",
      "dropout_58 (Dropout)         (None, 3)                 0         \n",
      "_________________________________________________________________\n",
      "dense_117 (Dense)            (None, 3)                 12        \n",
      "=================================================================\n",
      "Total params: 1,127\n",
      "Trainable params: 1,097\n",
      "Non-trainable params: 30\n",
      "_________________________________________________________________\n",
      "Epoch 1/20\n",
      "10/10 [==============================] - 1s 12ms/step - loss: 0.9358 - accuracy: 0.5367\n",
      "Epoch 2/20\n",
      "10/10 [==============================] - 0s 13ms/step - loss: 0.7407 - accuracy: 0.6400\n",
      "Epoch 3/20\n",
      "10/10 [==============================] - 0s 12ms/step - loss: 0.6030 - accuracy: 0.8000\n",
      "Epoch 4/20\n",
      "10/10 [==============================] - 0s 13ms/step - loss: 0.5421 - accuracy: 0.8333\n",
      "Epoch 5/20\n",
      "10/10 [==============================] - 0s 12ms/step - loss: 0.4970 - accuracy: 0.8633\n",
      "Epoch 6/20\n",
      "10/10 [==============================] - 0s 14ms/step - loss: 0.4669 - accuracy: 0.8800\n",
      "Epoch 7/20\n",
      "10/10 [==============================] - 0s 13ms/step - loss: 0.4802 - accuracy: 0.8400\n",
      "Epoch 8/20\n",
      "10/10 [==============================] - 0s 12ms/step - loss: 0.4438 - accuracy: 0.8800\n",
      "Epoch 9/20\n",
      "10/10 [==============================] - 0s 13ms/step - loss: 0.4525 - accuracy: 0.8500\n",
      "Epoch 10/20\n",
      "10/10 [==============================] - 0s 13ms/step - loss: 0.4195 - accuracy: 0.8700\n",
      "Epoch 11/20\n",
      "10/10 [==============================] - 0s 12ms/step - loss: 0.4175 - accuracy: 0.8700\n",
      "Epoch 12/20\n",
      "10/10 [==============================] - 0s 14ms/step - loss: 0.4233 - accuracy: 0.8600\n",
      "Epoch 13/20\n",
      "10/10 [==============================] - 0s 12ms/step - loss: 0.4144 - accuracy: 0.8800\n",
      "Epoch 14/20\n",
      "10/10 [==============================] - 0s 13ms/step - loss: 0.4000 - accuracy: 0.8800\n",
      "Epoch 15/20\n",
      "10/10 [==============================] - 0s 14ms/step - loss: 0.3989 - accuracy: 0.8733\n",
      "Epoch 16/20\n",
      "10/10 [==============================] - 0s 12ms/step - loss: 0.3798 - accuracy: 0.8567\n",
      "Epoch 17/20\n",
      "10/10 [==============================] - 0s 13ms/step - loss: 0.3860 - accuracy: 0.8433\n",
      "Epoch 18/20\n",
      "10/10 [==============================] - 0s 14ms/step - loss: 0.3710 - accuracy: 0.8467\n",
      "Epoch 19/20\n",
      "10/10 [==============================] - 0s 13ms/step - loss: 0.3409 - accuracy: 0.8900\n",
      "Epoch 20/20\n",
      "10/10 [==============================] - 0s 12ms/step - loss: 0.3430 - accuracy: 0.8767\n",
      "10/10 - 0s - loss: 0.2446 - accuracy: 1.0000\n",
      "test_loss: 0.24461735785007477 \n",
      "test_accuracy: 1.0\n"
     ]
    }
   ],
   "source": [
    "# 하이퍼파라미터 조정3 - dense 3으로 맞추고 정규화 추가\n",
    "\n",
    "from keras.layers import Dropout\n",
    "from sklearn.preprocessing import StandardScaler\n",
    "\n",
    "n_channel_1=4\n",
    "n_channel_2=8\n",
    "n_dense=3\n",
    "n_train_epoch=20\n",
    "\n",
    "scaler = StandardScaler()\n",
    "x_train_normalized = scaler.fit_transform(x_train.reshape(-1, 28*28*3)).reshape(-1, 28, 28, 3)\n",
    "x_test_normalized = scaler.transform(x_test.reshape(-1, 28*28*3)).reshape(-1, 28, 28, 3)\n",
    "\n",
    "\n",
    "model3=keras.models.Sequential()\n",
    "model3.add(keras.layers.Conv2D(n_channel_1, (2,2), activation='relu', input_shape=(28,28,3)))\n",
    "model3.add(keras.layers.MaxPool2D(2,2))\n",
    "model3.add(keras.layers.BatchNormalization())\n",
    "model3.add(keras.layers.Conv2D(n_channel_2, (2,2), activation='relu'))\n",
    "model3.add(keras.layers.MaxPooling2D((2,2)))\n",
    "model3.add(keras.layers.BatchNormalization())\n",
    "model3.add(keras.layers.Flatten())\n",
    "model3.add(keras.layers.Dense(n_dense, activation='relu'))\n",
    "model3.add(keras.layers.BatchNormalization())\n",
    "model3.add(Dropout(0.3))\n",
    "model3.add(keras.layers.Dense(3, activation='softmax'))\n",
    "\n",
    "model3.summary()\n",
    "model3.compile(optimizer='adam',\n",
    "             loss='sparse_categorical_crossentropy',\n",
    "             metrics=['accuracy'])\n",
    "\n",
    "# 모델 훈련\n",
    "model3.fit(x_train_normalized, y_train, epochs=n_train_epoch)\n",
    "\n",
    "# 모델 시험\n",
    "test_loss, test_accuracy = model3.evaluate(x_test_normalized, y_test, verbose=2)\n",
    "print(f\"test_loss: {test_loss} \")\n",
    "print(f\"test_accuracy: {test_accuracy}\")"
   ]
  },
  {
   "cell_type": "code",
   "execution_count": 109,
   "id": "d417957f",
   "metadata": {
    "scrolled": true
   },
   "outputs": [
    {
     "name": "stdout",
     "output_type": "stream",
     "text": [
      "Model: \"sequential_68\"\n",
      "_________________________________________________________________\n",
      "Layer (type)                 Output Shape              Param #   \n",
      "=================================================================\n",
      "conv2d_136 (Conv2D)          (None, 27, 27, 4)         52        \n",
      "_________________________________________________________________\n",
      "max_pooling2d_136 (MaxPoolin (None, 13, 13, 4)         0         \n",
      "_________________________________________________________________\n",
      "batch_normalization_204 (Bat (None, 13, 13, 4)         16        \n",
      "_________________________________________________________________\n",
      "conv2d_137 (Conv2D)          (None, 12, 12, 8)         136       \n",
      "_________________________________________________________________\n",
      "max_pooling2d_137 (MaxPoolin (None, 6, 6, 8)           0         \n",
      "_________________________________________________________________\n",
      "batch_normalization_205 (Bat (None, 6, 6, 8)           32        \n",
      "_________________________________________________________________\n",
      "flatten_68 (Flatten)         (None, 288)               0         \n",
      "_________________________________________________________________\n",
      "dense_136 (Dense)            (None, 3)                 867       \n",
      "_________________________________________________________________\n",
      "batch_normalization_206 (Bat (None, 3)                 12        \n",
      "_________________________________________________________________\n",
      "dropout_68 (Dropout)         (None, 3)                 0         \n",
      "_________________________________________________________________\n",
      "dense_137 (Dense)            (None, 3)                 12        \n",
      "=================================================================\n",
      "Total params: 1,127\n",
      "Trainable params: 1,097\n",
      "Non-trainable params: 30\n",
      "_________________________________________________________________\n",
      "Epoch 1/20\n",
      "10/10 [==============================] - 1s 13ms/step - loss: 1.2804 - accuracy: 0.3533\n",
      "Epoch 2/20\n",
      "10/10 [==============================] - 0s 12ms/step - loss: 0.8931 - accuracy: 0.5900\n",
      "Epoch 3/20\n",
      "10/10 [==============================] - 0s 13ms/step - loss: 0.7170 - accuracy: 0.6733\n",
      "Epoch 4/20\n",
      "10/10 [==============================] - 0s 13ms/step - loss: 0.5546 - accuracy: 0.7933\n",
      "Epoch 5/20\n",
      "10/10 [==============================] - 0s 12ms/step - loss: 0.5615 - accuracy: 0.7600\n",
      "Epoch 6/20\n",
      "10/10 [==============================] - 0s 12ms/step - loss: 0.4939 - accuracy: 0.8400\n",
      "Epoch 7/20\n",
      "10/10 [==============================] - 0s 12ms/step - loss: 0.5123 - accuracy: 0.8100\n",
      "Epoch 8/20\n",
      "10/10 [==============================] - 0s 13ms/step - loss: 0.4330 - accuracy: 0.8667\n",
      "Epoch 9/20\n",
      "10/10 [==============================] - 0s 12ms/step - loss: 0.4515 - accuracy: 0.8800\n",
      "Epoch 10/20\n",
      "10/10 [==============================] - 0s 14ms/step - loss: 0.4292 - accuracy: 0.8733\n",
      "Epoch 11/20\n",
      "10/10 [==============================] - 0s 13ms/step - loss: 0.4664 - accuracy: 0.8433\n",
      "Epoch 12/20\n",
      "10/10 [==============================] - 0s 12ms/step - loss: 0.4178 - accuracy: 0.8667\n",
      "Epoch 13/20\n",
      "10/10 [==============================] - 0s 12ms/step - loss: 0.3877 - accuracy: 0.8800\n",
      "Epoch 14/20\n",
      "10/10 [==============================] - 0s 12ms/step - loss: 0.3667 - accuracy: 0.9133\n",
      "Epoch 15/20\n",
      "10/10 [==============================] - 0s 13ms/step - loss: 0.4101 - accuracy: 0.8567\n",
      "Epoch 16/20\n",
      "10/10 [==============================] - 0s 12ms/step - loss: 0.4254 - accuracy: 0.8567\n",
      "Epoch 17/20\n",
      "10/10 [==============================] - 0s 12ms/step - loss: 0.3592 - accuracy: 0.8667\n",
      "Epoch 18/20\n",
      "10/10 [==============================] - 0s 12ms/step - loss: 0.3449 - accuracy: 0.8900\n",
      "Epoch 19/20\n",
      "10/10 [==============================] - 0s 14ms/step - loss: 0.3754 - accuracy: 0.8600\n",
      "Epoch 20/20\n",
      "10/10 [==============================] - 0s 13ms/step - loss: 0.3628 - accuracy: 0.8833\n",
      "10/10 - 0s - loss: 0.2463 - accuracy: 1.0000\n",
      "test_loss: 0.24633313715457916 \n",
      "test_accuracy: 1.0\n",
      "Classification Report:\n",
      "              precision    recall  f1-score   support\n",
      "\n",
      "          가위       1.00      1.00      1.00       100\n",
      "          바위       1.00      1.00      1.00       100\n",
      "           보       1.00      1.00      1.00       100\n",
      "\n",
      "    accuracy                           1.00       300\n",
      "   macro avg       1.00      1.00      1.00       300\n",
      "weighted avg       1.00      1.00      1.00       300\n",
      "\n"
     ]
    }
   ],
   "source": [
    "# 하이퍼파라미터 조정4 - 리포트 추가\n",
    "\n",
    "from keras.layers import Dropout\n",
    "from sklearn.preprocessing import StandardScaler\n",
    "from sklearn.metrics import classification_report\n",
    "\n",
    "n_channel_1=4\n",
    "n_channel_2=8\n",
    "n_dense=3\n",
    "n_train_epoch=20\n",
    "\n",
    "scaler = StandardScaler()\n",
    "x_train_normalized = scaler.fit_transform(x_train.reshape(-1, 28*28*3)).reshape(-1, 28, 28, 3)\n",
    "x_test_normalized = scaler.transform(x_test.reshape(-1, 28*28*3)).reshape(-1, 28, 28, 3)\n",
    "\n",
    "\n",
    "model3=keras.models.Sequential()\n",
    "model3.add(keras.layers.Conv2D(n_channel_1, (2,2), activation='relu', input_shape=(28,28,3)))\n",
    "model3.add(keras.layers.MaxPool2D(2,2))\n",
    "model3.add(keras.layers.BatchNormalization())\n",
    "model3.add(keras.layers.Conv2D(n_channel_2, (2,2), activation='relu'))\n",
    "model3.add(keras.layers.MaxPooling2D((2,2)))\n",
    "model3.add(keras.layers.BatchNormalization())\n",
    "model3.add(keras.layers.Flatten())\n",
    "model3.add(keras.layers.Dense(n_dense, activation='relu'))\n",
    "model3.add(keras.layers.BatchNormalization())\n",
    "model3.add(Dropout(0.3))\n",
    "model3.add(keras.layers.Dense(3, activation='softmax'))\n",
    "\n",
    "model3.summary()\n",
    "model3.compile(optimizer='adam',\n",
    "             loss='sparse_categorical_crossentropy',\n",
    "             metrics=['accuracy'])\n",
    "\n",
    "# 모델 훈련\n",
    "model3.fit(x_train_normalized, y_train, epochs=n_train_epoch)\n",
    "\n",
    "# 모델 시험\n",
    "test_loss, test_accuracy = model3.evaluate(x_test_normalized, y_test, verbose=2)\n",
    "print(f\"test_loss: {test_loss} \")\n",
    "print(f\"test_accuracy: {test_accuracy}\")\n",
    "\n",
    "\n",
    "# 예측 수행\n",
    "y_pred = model3.predict(x_test_normalized)\n",
    "y_pred_classes = np.argmax(y_pred, axis=1)\n",
    "\n",
    "# 분류 보고서 출력\n",
    "class_names = [\"가위\", \"바위\", \"보\"]  # 클래스 이름을 적절히 변경하세요\n",
    "print(\"Classification Report:\")\n",
    "print(classification_report(y_test, y_pred_classes, target_names=class_names))"
   ]
  },
  {
   "cell_type": "code",
   "execution_count": null,
   "id": "d7515a44",
   "metadata": {},
   "outputs": [],
   "source": [
    "# # 회고\n",
    "# - 책 한권을 2주만에 끝내고 어느새 내가 만든 데이터로 딥러닝 모델을 만들고 있다니.... 가슴이 웅장해 진다.\n",
    "# - 겨우 한달 반 전만 해도 파이썬의 P도 모르던 내가 여기까지 온것이 신기하고, 앞으로의 성장이 기대된다.\n",
    "\n",
    "# # 회고\n",
    "\n",
    "# ### KEEP\n",
    "\n",
    "# - 지금 배우고 있는 내용이라도 집중해서 제대로 이해하기. 모르는 채로 넘어가지 않기. 모르는 코드 나오면 꼭 검색해보기\n",
    "# - 주변 동료들과 이야기를 주고 받으며 성장하기\n",
    "# - 기록으로 남겨두기\n",
    "# ---\n",
    "\n",
    "# ### PROBLEM\n",
    "\n",
    "# - 솔직히 노드나 가이드 자료 없이 온전히 내손으로 구현하라고 하면 못할것 같다. 진짜 내 것인가 의문이 든다.\n",
    "# - 진도나가는 속도도 느리고, 동료들에게 거의 도움을 받기만 하지 주지는 못하는 것 같다. \n",
    "# ---\n",
    "\n",
    "# ### TRY\n",
    "# - 최대한 내가 타이핑하자.\n",
    "# - 동료들에게 도움이 되자"
   ]
  }
 ],
 "metadata": {
  "kernelspec": {
   "display_name": "Python 3 (ipykernel)",
   "language": "python",
   "name": "python3"
  },
  "language_info": {
   "codemirror_mode": {
    "name": "ipython",
    "version": 3
   },
   "file_extension": ".py",
   "mimetype": "text/x-python",
   "name": "python",
   "nbconvert_exporter": "python",
   "pygments_lexer": "ipython3",
   "version": "3.9.7"
  }
 },
 "nbformat": 4,
 "nbformat_minor": 5
}
