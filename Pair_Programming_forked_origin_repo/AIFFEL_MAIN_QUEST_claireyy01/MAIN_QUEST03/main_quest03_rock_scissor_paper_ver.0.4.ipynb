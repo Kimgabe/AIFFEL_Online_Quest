{
 "cells": [
  {
   "cell_type": "markdown",
   "id": "9a7811e5",
   "metadata": {},
   "source": [
    "# 가위바위보 분류기 만들기\n",
    "\n",
    "---\n",
    "## 목차\n",
    "0. 개선사항\n",
    "1. 데이터 준비하기\n",
    "2. 모델 만들기\n",
    "3. trainer 만들기\n",
    "4. 모델 테스트\n",
    "5. 모델 성능 개선 - 하이퍼파라미터 튜닝 및 모델 만들기\n",
    "6. 회고\n",
    "---"
   ]
  },
  {
   "cell_type": "markdown",
   "id": "4c70c0d8",
   "metadata": {},
   "source": [
    "## 0. 개선사항\n",
    "- 오버피팅 억제를 위해 train 데이터셋 양을 늘림 : 300개에서 3600개로\n",
    "- 오버피팅 여부의 정확한 확인을 위해\n",
    "    - accuracy와 val_loss를 함께 고려\n",
    "    - train_loss와 val_loss의 흐름이 유사한지를 확인\n",
    "- 일반화 성능 향상을 위해 \n",
    "    - layer 수, 에폭, 배치 사이즈 늘림\n",
    "    - learning rate=0.00001로 작게 조정\n",
    "- validation data의 성능이 정확도 93으로 높은 결과가 나왔으나, test accuracy가 66 이상으로 개선되지 않음\n",
    "    - 모델의 일반화 성능 향상을 위해 train 데이터셋을 다양한 데이터의 구성으로 변경하여 다시 시도해 볼 예정"
   ]
  },
  {
   "cell_type": "markdown",
   "id": "e49cb03d",
   "metadata": {},
   "source": [
    "## 1. 데이터 준비하기\n",
    "### 라이브러리 버전 확인"
   ]
  },
  {
   "cell_type": "code",
   "execution_count": 31,
   "id": "d567326e",
   "metadata": {},
   "outputs": [
    {
     "name": "stdout",
     "output_type": "stream",
     "text": [
      "2.6.0\n",
      "1.22.2\n"
     ]
    }
   ],
   "source": [
    "import tensorflow as tf\n",
    "import numpy as np\n",
    "\n",
    "print(tf.__version__)\n",
    "print(np.__version__)"
   ]
  },
  {
   "cell_type": "markdown",
   "id": "356b084a",
   "metadata": {},
   "source": [
    "### 데이터 준비하기\n",
    "- 데이터 불러오기 + Resize 하기   \n",
    "    - train, test data 모두 Resize\n",
    "    - 224x224 를 28x28 사이즈로"
   ]
  },
  {
   "cell_type": "code",
   "execution_count": 32,
   "id": "2296a928",
   "metadata": {},
   "outputs": [
    {
     "name": "stdout",
     "output_type": "stream",
     "text": [
      "PIL 라이브러리 import 완료!\n"
     ]
    }
   ],
   "source": [
    "from PIL import Image\n",
    "import glob\n",
    "import os\n",
    "\n",
    "print(\"PIL 라이브러리 import 완료!\")"
   ]
  },
  {
   "cell_type": "code",
   "execution_count": 44,
   "id": "c67076b9",
   "metadata": {},
   "outputs": [
    {
     "name": "stdout",
     "output_type": "stream",
     "text": [
      "1200  images resized.\n",
      "1200  images resized.\n",
      "가위 이미지 resize 완료!\n",
      "1200  images resized.\n",
      "1200  images resized.\n",
      "바위 이미지 resize 완료!\n",
      "1200  images resized.\n",
      "1200  images resized.\n",
      "보 이미지 resize 완료!\n",
      "167  images resized.\n",
      "167  images resized.\n",
      "가위 이미지 resize 완료!\n",
      "200  images resized.\n",
      "200  images resized.\n",
      "바위 이미지 resize 완료!\n",
      "200  images resized.\n",
      "200  images resized.\n",
      "보 이미지 resize 완료!\n"
     ]
    }
   ],
   "source": [
    "# 이미지 사이즈 224x224에서 28x28로 변경하기\n",
    "\n",
    "def resize_images(img_path):\n",
    "    images=glob.glob(img_path + \"/*.jpg\")\n",
    "    \n",
    "    print(len(images), \" images resized.\")\n",
    "    \n",
    "    # 파일마다 모두 28x28 사이즈로 바꾸어 저장\n",
    "    target_size=(28,28)\n",
    "    for img in images:\n",
    "        old_img=Image.open(img)\n",
    "        new_img=old_img.resize(target_size,Image.ANTIALIAS)\n",
    "        new_img.save(img, \"JPEG\")\n",
    "        \n",
    "    print(len(images), \" images resized.\")\n",
    "    \n",
    "# 가위 이미지가 저장된 디렉토리 아래의 모든 jpg 파일을 읽어들여서\n",
    "image_dir_path = os.getenv(\"HOME\") + \"/aiffel/rock_scissor_paper/scissor3\"\n",
    "resize_images(image_dir_path)\n",
    "\n",
    "print(\"가위 이미지 resize 완료!\")\n",
    "\n",
    "\n",
    "# 바위 이미지가 저장된 디렉토리 아래의 모든 jpg 파일을 읽어들여서 28x28 사이즈로 변경\n",
    "image_dir_path = os.getenv(\"HOME\") + \"/aiffel/rock_scissor_paper/rock3\"\n",
    "resize_images(image_dir_path)\n",
    "\n",
    "print(\"바위 이미지 resize 완료!\")\n",
    "\n",
    "\n",
    "# 보 이미지가 저장된 디렉토리 아래의 모든 jpg 파일을 읽어들여서 28x28 사이즈로 변경\n",
    "image_dir_path = os.getenv(\"HOME\") + \"/aiffel/rock_scissor_paper/paper3\"\n",
    "resize_images(image_dir_path)\n",
    "\n",
    "print(\"보 이미지 resize 완료!\")\n",
    "\n",
    "# 가위 이미지가 저장된 디렉토리 아래의 모든 jpg 파일을 읽어들여서\n",
    "image_dir_path = os.getenv(\"HOME\") + \"/aiffel/rock_scissor_paper/validation/scissor3\"\n",
    "resize_images(image_dir_path)\n",
    "\n",
    "print(\"가위 이미지 resize 완료!\")\n",
    "\n",
    "\n",
    "# 바위 이미지가 저장된 디렉토리 아래의 모든 jpg 파일을 읽어들여서 28x28 사이즈로 변경\n",
    "image_dir_path = os.getenv(\"HOME\") + \"/aiffel/rock_scissor_paper/validation/rock3\"\n",
    "resize_images(image_dir_path)\n",
    "\n",
    "print(\"바위 이미지 resize 완료!\")\n",
    "\n",
    "\n",
    "# 보 이미지가 저장된 디렉토리 아래의 모든 jpg 파일을 읽어들여서 28x28 사이즈로 변경\n",
    "image_dir_path = os.getenv(\"HOME\") + \"/aiffel/rock_scissor_paper/validation/paper3\"\n",
    "resize_images(image_dir_path)\n",
    "\n",
    "print(\"보 이미지 resize 완료!\")"
   ]
  },
  {
   "cell_type": "code",
   "execution_count": 34,
   "id": "17d4408e",
   "metadata": {},
   "outputs": [
    {
     "name": "stdout",
     "output_type": "stream",
     "text": [
      "<PIL.JpegImagePlugin.JpegImageFile image mode=RGB size=28x28 at 0x7F136111FB50>\n"
     ]
    }
   ],
   "source": [
    "# 이미지 사이즈 확인\n",
    "\n",
    "image1 = Image.open( os.getenv(\"HOME\") + \"/aiffel/rock_scissor_paper/paper3/0.jpg\")\n",
    "print(image1)"
   ]
  },
  {
   "cell_type": "markdown",
   "id": "91bebb47",
   "metadata": {},
   "source": [
    "### 가위, 바위, 보 데이터를 읽을 수 있는 load_data() 함수 만들기\n",
    "- load_data() 함수는 입력으로 이미지가 있는 폴더 위치를 받는다.(rock_scissor_paper 폴더 위치를 적어주기)\n",
    "- 가위바위보는 3개의 클래스 즉, 가위: 0, 바위: 1, 보: 2 로 라벨링이 될 것"
   ]
  },
  {
   "cell_type": "code",
   "execution_count": 45,
   "id": "66b823e2",
   "metadata": {},
   "outputs": [
    {
     "name": "stdout",
     "output_type": "stream",
     "text": [
      "Scissors: 1200\n",
      "Rocks: 1200\n",
      "Papers: 1200\n",
      "학습데이터(x_train)의 이미지 개수는 3600 입니다.\n",
      "Scissors: 167\n",
      "Rocks: 200\n",
      "Papers: 200\n",
      "학습데이터(x_train)의 이미지 개수는 567 입니다.\n",
      "x_train shape: (3600, 28, 28, 3)\n",
      "y_train shape: (3600,)\n"
     ]
    }
   ],
   "source": [
    "import numpy as np\n",
    "\n",
    "def load_data(img_path, number_of_data=3600):   # 1200개씩 총 3600장의 이미지 데이터\n",
    "    # 가위 : 0, 바위 : 1, 보 : 2\n",
    "    img_size=28\n",
    "    color=3\n",
    "    \n",
    "    import glob\n",
    "    import os\n",
    "\n",
    "    s_images = glob.glob(img_path + \"/scissor3/*.jpg\")\n",
    "    r_images = glob.glob(img_path + \"/rock3/*.jpg\")\n",
    "    p_images = glob.glob(img_path + \"/paper3/*.jpg\")\n",
    "    print(\"Scissors:\", len(s_images))\n",
    "    print(\"Rocks:\", len(r_images))\n",
    "    print(\"Papers:\", len(p_images))\n",
    "    \n",
    "    # 이미지 데이터와 라벨(가위 : 0, 바위 : 1, 보 : 2) 데이터를 담을 행렬(matrix) 영역을 생성\n",
    "    imgs=np.zeros(number_of_data*img_size*img_size*color,dtype=np.int32).reshape(number_of_data,img_size,img_size,color)\n",
    "    labels=np.zeros(number_of_data,dtype=np.int32)\n",
    "    \n",
    "    idx=0\n",
    "    for file in glob.iglob(img_path+'/scissor3/*.jpg'):\n",
    "        img = np.array(Image.open(file),dtype=np.int32)\n",
    "        imgs[idx,:,:,:]=img   # 데이터 영역에 이미지 행렬을 복사\n",
    "        labels[idx]=0   # 가위 : 0\n",
    "        idx=idx+1\n",
    "        \n",
    "    for file in glob.iglob(img_path+'/rock3/*.jpg'):\n",
    "        img = np.array(Image.open(file),dtype=np.int32)\n",
    "        imgs[idx,:,:,:]=img   # 데이터 영역에 이미지 행렬을 복사\n",
    "        labels[idx]=1   # 바위 : 1\n",
    "        idx=idx+1\n",
    "        \n",
    "    for file in glob.iglob(img_path+'/paper3/*.jpg'):\n",
    "        img = np.array(Image.open(file),dtype=np.int32)\n",
    "        imgs[idx,:,:,:]=img   # 데이터 영역에 이미지 행렬을 복사\n",
    "        labels[idx]=2   # 보 : 2\n",
    "        idx=idx+1\n",
    "        \n",
    "    print(\"학습데이터(x_train)의 이미지 개수는\", idx,\"입니다.\")\n",
    "    return imgs, labels\n",
    "\n",
    "image_dir_path = os.getenv(\"HOME\") + \"/aiffel/rock_scissor_paper\"\n",
    "(x_train, y_train)=load_data(image_dir_path)\n",
    "image_dir_path = os.getenv(\"HOME\") + \"/aiffel/rock_scissor_paper/validation\"\n",
    "(x_valid, y_valid)=load_data(image_dir_path, number_of_data=567)\n",
    "x_train_norm = x_train/255.0     # 입력은 0~1 사이의 값으로 정규화\n",
    "x_valid_norm = x_valid/255.0\n",
    "\n",
    "print(\"x_train shape: {}\".format(x_train.shape))\n",
    "print(\"y_train shape: {}\".format(y_train.shape))"
   ]
  },
  {
   "cell_type": "markdown",
   "id": "10da7fae",
   "metadata": {},
   "source": [
    "### 이미지 불러와서 확인하기\n",
    "- np.random.randint : 전체 이미지를 리스트로 불러와 그 중 랜덤으로 1개 선택하여 확인\n",
    "- 현재 가위(0), 바위(1), 보(2) 순서로 나열되어있는 이미지가 잘 라벨링 되어있는지 확인"
   ]
  },
  {
   "cell_type": "code",
   "execution_count": 37,
   "id": "def87f91",
   "metadata": {},
   "outputs": [
    {
     "name": "stdout",
     "output_type": "stream",
     "text": [
      "471\n",
      "라벨:  0\n",
      "라벨:  1\n",
      "라벨:  2\n"
     ]
    },
    {
     "data": {
      "image/png": "[encoded data removed]",
      "text/plain": [
       "<Figure size 432x288 with 1 Axes>"
      ]
     },
     "metadata": {
      "needs_background": "light"
     },
     "output_type": "display_data"
    }
   ],
   "source": [
    "import matplotlib.pyplot as plt\n",
    "\n",
    "idx=np.random.randint(low=0, high=1200, size=1)[0]\n",
    "print(idx)\n",
    "\n",
    "plt.imshow(x_train[0])\n",
    "print('라벨: ', y_train[0])\n",
    "plt.imshow(x_train[idx+1200])\n",
    "print('라벨: ', y_train[idx+1200])\n",
    "plt.imshow(x_train[idx+2400])\n",
    "print('라벨: ', y_train[idx+2400])"
   ]
  },
  {
   "cell_type": "markdown",
   "id": "200e90fe",
   "metadata": {},
   "source": [
    "## 2. 모델 만들기   \n",
    "오버피팅 억제를 위해 아래 3가지를 활용하였다.  \n",
    "- 가중치 초기화 : Relu에 특화된 He 초기값 사용. 모든 층에서 활성화값들을 균일하게 분포시킴\n",
    "- 배치 정규화 : 각 층이 활성화를 적당히 퍼트리도록 강제하는 역할. 아래와 같은 이점이 있다.\n",
    "    - 학습 속도를 개선\n",
    "    - 초기값에 크게 의존하지 않음\n",
    "    - 오버피팅을 억제\n",
    "- 드롭아웃 : 신경망 모델이 복잡해진 경우 오버피팅을 억제하는 방식  "
   ]
  },
  {
   "cell_type": "code",
   "execution_count": 38,
   "id": "c34e637c",
   "metadata": {},
   "outputs": [
    {
     "name": "stdout",
     "output_type": "stream",
     "text": [
      "Model에 추가된 Layer 개수:  10\n",
      "Model: \"sequential\"\n",
      "_________________________________________________________________\n",
      "Layer (type)                 Output Shape              Param #   \n",
      "=================================================================\n",
      "conv2d (Conv2D)              (None, 28, 28, 16)        448       \n",
      "_________________________________________________________________\n",
      "batch_normalization (BatchNo (None, 28, 28, 16)        64        \n",
      "_________________________________________________________________\n",
      "max_pooling2d (MaxPooling2D) (None, 14, 14, 16)        0         \n",
      "_________________________________________________________________\n",
      "conv2d_1 (Conv2D)            (None, 14, 14, 32)        4640      \n",
      "_________________________________________________________________\n",
      "batch_normalization_1 (Batch (None, 14, 14, 32)        128       \n",
      "_________________________________________________________________\n",
      "max_pooling2d_1 (MaxPooling2 (None, 7, 7, 32)          0         \n",
      "_________________________________________________________________\n",
      "flatten (Flatten)            (None, 1568)              0         \n",
      "_________________________________________________________________\n",
      "dense (Dense)                (None, 32)                50208     \n",
      "_________________________________________________________________\n",
      "dropout (Dropout)            (None, 32)                0         \n",
      "_________________________________________________________________\n",
      "dense_1 (Dense)              (None, 3)                 99        \n",
      "=================================================================\n",
      "Total params: 55,587\n",
      "Trainable params: 55,491\n",
      "Non-trainable params: 96\n",
      "_________________________________________________________________\n"
     ]
    }
   ],
   "source": [
    "import tensorflow as tf\n",
    "from tensorflow import keras\n",
    "import numpy as np\n",
    "from tensorflow.keras.layers import BatchNormalization, Dropout\n",
    "from tensorflow.keras import optimizers\n",
    "\n",
    "model=keras.models.Sequential()\n",
    "model.add(keras.layers.Conv2D(input_shape=(28,28,3), filters=16, kernel_size=(3,3), strides=(1,1), activation='relu', padding='same', kernel_initializer='he_normal'))\n",
    "model.add(BatchNormalization())\n",
    "model.add(keras.layers.MaxPool2D(2,2))\n",
    "model.add(keras.layers.Conv2D(input_shape=(28,28,3), filters=32, kernel_size=(3,3), strides=(1,1), activation='relu', padding='same', kernel_initializer='he_normal'))\n",
    "model.add(BatchNormalization())\n",
    "model.add(keras.layers.MaxPool2D(2,2))\n",
    "model.add(keras.layers.Flatten())\n",
    "model.add(keras.layers.Dense(32, activation='relu', kernel_initializer='he_normal'))\n",
    "model.add(Dropout(0.5))\n",
    "model.add(keras.layers.Dense(3, activation='softmax', kernel_initializer='he_normal'))\n",
    "          \n",
    "print('Model에 추가된 Layer 개수: ', len(model.layers))\n",
    "\n",
    "model.summary()"
   ]
  },
  {
   "cell_type": "markdown",
   "id": "3f46cf8c",
   "metadata": {},
   "source": [
    "## 3. trainer 만들기\n",
    "- 학습률 0.001에서 0.00001로 조정\n",
    "- Adam을 활용하여 매개변수 최적화를 시도"
   ]
  },
  {
   "cell_type": "code",
   "execution_count": 39,
   "id": "3a128ee0",
   "metadata": {},
   "outputs": [],
   "source": [
    "learning_rate = 0.00001\n",
    "adam = optimizers.Adam(learning_rate = learning_rate)\n",
    "model.compile(loss = 'sparse_categorical_crossentropy', optimizer = 'adam', metrics = ['accuracy'])"
   ]
  },
  {
   "cell_type": "code",
   "execution_count": 46,
   "id": "848b4963",
   "metadata": {},
   "outputs": [
    {
     "name": "stdout",
     "output_type": "stream",
     "text": [
      "Epoch 1/20\n",
      "57/57 [==============================] - 5s 76ms/step - loss: 0.0357 - accuracy: 0.9922 - val_loss: 5.3136 - val_accuracy: 0.4727\n",
      "Epoch 2/20\n",
      "57/57 [==============================] - 4s 75ms/step - loss: 0.0337 - accuracy: 0.9906 - val_loss: 2.6629 - val_accuracy: 0.7672\n",
      "Epoch 3/20\n",
      "57/57 [==============================] - 4s 75ms/step - loss: 0.0204 - accuracy: 0.9950 - val_loss: 1.6349 - val_accuracy: 0.8871\n",
      "Epoch 4/20\n",
      "57/57 [==============================] - 4s 74ms/step - loss: 0.0177 - accuracy: 0.9944 - val_loss: 2.6543 - val_accuracy: 0.8624\n",
      "Epoch 5/20\n",
      "57/57 [==============================] - 4s 74ms/step - loss: 0.0226 - accuracy: 0.9950 - val_loss: 2.7253 - val_accuracy: 0.7901\n",
      "Epoch 6/20\n",
      "57/57 [==============================] - 4s 73ms/step - loss: 0.0187 - accuracy: 0.9956 - val_loss: 4.5948 - val_accuracy: 0.8219\n",
      "Epoch 7/20\n",
      "57/57 [==============================] - 5s 82ms/step - loss: 0.0141 - accuracy: 0.9967 - val_loss: 3.7233 - val_accuracy: 0.8695\n",
      "Epoch 8/20\n",
      "57/57 [==============================] - 4s 74ms/step - loss: 0.0137 - accuracy: 0.9972 - val_loss: 2.8721 - val_accuracy: 0.8307\n",
      "Epoch 9/20\n",
      "57/57 [==============================] - 4s 75ms/step - loss: 0.0159 - accuracy: 0.9950 - val_loss: 2.5744 - val_accuracy: 0.8854\n",
      "Epoch 10/20\n",
      "57/57 [==============================] - 4s 74ms/step - loss: 0.0142 - accuracy: 0.9958 - val_loss: 2.6354 - val_accuracy: 0.8889\n",
      "Epoch 11/20\n",
      "57/57 [==============================] - 4s 73ms/step - loss: 0.0127 - accuracy: 0.9964 - val_loss: 2.1045 - val_accuracy: 0.8748\n",
      "Epoch 12/20\n",
      "57/57 [==============================] - 4s 74ms/step - loss: 0.0090 - accuracy: 0.9981 - val_loss: 3.6417 - val_accuracy: 0.8395\n",
      "Epoch 13/20\n",
      "57/57 [==============================] - 4s 73ms/step - loss: 0.0130 - accuracy: 0.9964 - val_loss: 2.2261 - val_accuracy: 0.8642\n",
      "Epoch 14/20\n",
      "57/57 [==============================] - 4s 75ms/step - loss: 0.0102 - accuracy: 0.9975 - val_loss: 2.8140 - val_accuracy: 0.8730\n",
      "Epoch 15/20\n",
      "57/57 [==============================] - 4s 74ms/step - loss: 0.0096 - accuracy: 0.9981 - val_loss: 2.7712 - val_accuracy: 0.8818\n",
      "Epoch 16/20\n",
      "57/57 [==============================] - 4s 76ms/step - loss: 0.0059 - accuracy: 0.9989 - val_loss: 3.1269 - val_accuracy: 0.8660\n",
      "Epoch 17/20\n",
      "57/57 [==============================] - 4s 74ms/step - loss: 0.0077 - accuracy: 0.9989 - val_loss: 2.8920 - val_accuracy: 0.8748\n",
      "Epoch 18/20\n",
      "57/57 [==============================] - 4s 74ms/step - loss: 0.0082 - accuracy: 0.9989 - val_loss: 3.0256 - val_accuracy: 0.8713\n",
      "Epoch 19/20\n",
      "57/57 [==============================] - 4s 75ms/step - loss: 0.0069 - accuracy: 0.9989 - val_loss: 3.6241 - val_accuracy: 0.8554\n",
      "Epoch 20/20\n",
      "57/57 [==============================] - 4s 75ms/step - loss: 0.0065 - accuracy: 0.9992 - val_loss: 2.4278 - val_accuracy: 0.8889\n"
     ]
    },
    {
     "name": "stderr",
     "output_type": "stream",
     "text": [
      "Exception ignored in: <function IteratorResourceDeleter.__del__ at 0x7f13852c4ca0>\n",
      "Traceback (most recent call last):\n",
      "  File \"/opt/conda/lib/python3.9/site-packages/tensorflow/python/data/ops/iterator_ops.py\", line 545, in __del__\n",
      "    gen_dataset_ops.delete_iterator(\n",
      "  File \"/opt/conda/lib/python3.9/site-packages/tensorflow/python/ops/gen_dataset_ops.py\", line 1263, in delete_iterator\n",
      "    _result = pywrap_tfe.TFE_Py_FastPathExecute(\n",
      "KeyboardInterrupt: \n"
     ]
    }
   ],
   "source": [
    "history = model.fit(x_train_norm, y_train, batch_size = 64, validation_data=(x_valid_norm, y_valid), epochs = 20, verbose = 1)"
   ]
  },
  {
   "cell_type": "markdown",
   "id": "f989c3b2",
   "metadata": {},
   "source": [
    "- train, validation data의 정확도 시각화"
   ]
  },
  {
   "cell_type": "code",
   "execution_count": 47,
   "id": "46a481c6",
   "metadata": {
    "scrolled": true
   },
   "outputs": [
    {
     "data": {
      "image/png": "[encoded data removed]",
      "text/plain": [
       "<Figure size 432x288 with 1 Axes>"
      ]
     },
     "metadata": {
      "needs_background": "light"
     },
     "output_type": "display_data"
    }
   ],
   "source": [
    "plt.plot(history.history['accuracy'], label='Train Accuracy', marker='o')\n",
    "plt.plot(history.history['val_accuracy'], label='Val Accuracy', marker='o')\n",
    "plt.title('training curve')\n",
    "plt.xlabel('Epochs')\n",
    "plt.ylabel('Accuracy')\n",
    "plt.legend()\n",
    "plt.grid(True)\n",
    "plt.show()"
   ]
  },
  {
   "cell_type": "markdown",
   "id": "d33e5ca2",
   "metadata": {},
   "source": [
    "## 4. 모델 테스트\n",
    "- test data 만들기"
   ]
  },
  {
   "cell_type": "code",
   "execution_count": 48,
   "id": "cc18b25c",
   "metadata": {},
   "outputs": [
    {
     "name": "stdout",
     "output_type": "stream",
     "text": [
      "테스트 데이터(x_test)의 이미지 개수는 300 입니다.\n",
      "x_test shape: (300, 28, 28, 3)\n",
      "y_test shape: (300,)\n",
      "라벨:  0\n"
     ]
    },
    {
     "data": {
      "image/png": "[encoded data removed]",
      "text/plain": [
       "<Figure size 432x288 with 1 Axes>"
      ]
     },
     "metadata": {
      "needs_background": "light"
     },
     "output_type": "display_data"
    }
   ],
   "source": [
    "# x_test, y_test 만들기\n",
    "\n",
    "import numpy as np\n",
    "\n",
    "def load_data(img_path, number_of_data=300):  # 가위바위보 이미지 개수 총합에 주의하세요.\n",
    "    # 가위 : 0, 바위 : 1, 보 : 2\n",
    "    img_size=28\n",
    "    color=3\n",
    "    #이미지 데이터와 라벨(가위 : 0, 바위 : 1, 보 : 2) 데이터를 담을 행렬(matrix) 영역을 생성합니다.\n",
    "    imgs=np.zeros(number_of_data*img_size*img_size*color,dtype=np.int32).reshape(number_of_data,img_size,img_size,color)\n",
    "    labels=np.zeros(number_of_data,dtype=np.int32)\n",
    "\n",
    "    idx=0\n",
    "    for file in glob.iglob(img_path+'/scissor/*.jpg'):\n",
    "        img = np.array(Image.open(file),dtype=np.int32)\n",
    "        imgs[idx,:,:,:]=img    # 데이터 영역에 이미지 행렬을 복사\n",
    "        labels[idx]=0   # 가위 : 0\n",
    "        idx=idx+1\n",
    "\n",
    "    for file in glob.iglob(img_path+'/rock/*.jpg'):\n",
    "        img = np.array(Image.open(file),dtype=np.int32)\n",
    "        imgs[idx,:,:,:]=img    # 데이터 영역에 이미지 행렬을 복사\n",
    "        labels[idx]=1   # 바위 : 1\n",
    "        idx=idx+1  \n",
    "    \n",
    "    for file in glob.iglob(img_path+'/paper/*.jpg'):\n",
    "        img = np.array(Image.open(file),dtype=np.int32)\n",
    "        imgs[idx,:,:,:]=img    # 데이터 영역에 이미지 행렬을 복사\n",
    "        labels[idx]=2   # 보 : 2\n",
    "        idx=idx+1\n",
    "        \n",
    "    print(\"테스트 데이터(x_test)의 이미지 개수는\", idx,\"입니다.\")\n",
    "    return imgs, labels\n",
    "\n",
    "image_dir_path = os.getenv(\"HOME\") + \"/aiffel/rock_scissor_paper/test\"\n",
    "(x_test, y_test)=load_data(image_dir_path)\n",
    "x_test_norm = x_test/255.0   # 입력은 0~1 사이의 값으로 정규화\n",
    "\n",
    "print(\"x_test shape: {}\".format(x_test.shape))\n",
    "print(\"y_test shape: {}\".format(y_test.shape))\n",
    "\n",
    "# 이미지 불러오기\n",
    "import matplotlib.pyplot as plt\n",
    "\n",
    "plt.imshow(x_test[0])\n",
    "print('라벨: ', y_test[0])"
   ]
  },
  {
   "cell_type": "markdown",
   "id": "11e73280",
   "metadata": {},
   "source": [
    "- test 정확도 측정하기"
   ]
  },
  {
   "cell_type": "code",
   "execution_count": 49,
   "id": "5e31ef03",
   "metadata": {},
   "outputs": [
    {
     "name": "stdout",
     "output_type": "stream",
     "text": [
      "10/10 - 0s - loss: 18.3230 - accuracy: 0.2300\n",
      "test_loss: 18.32297134399414\n",
      "test_accuracy: 0.23000000417232513\n",
      "model.predict() 결과 :  [4.7770163e-01 5.2229828e-01 4.3926662e-13]\n",
      "model이 추론한 가장 가능성이 높은 결과 :  1\n",
      "실제 데이터의 라벨 :  0\n"
     ]
    }
   ],
   "source": [
    "test_loss, test_accuracy = model.evaluate(x_test_norm,y_test, verbose=2)\n",
    "print(f\"test_loss: {test_loss}\")\n",
    "print(f\"test_accuracy: {test_accuracy}\")\n",
    "\n",
    "predicted_result = model.predict(x_test_norm)  # model이 추론한 확률값. \n",
    "predicted_labels = np.argmax(predicted_result, axis=1)\n",
    "\n",
    "idx=0  #1번째 x_test를 살펴보자. \n",
    "print('model.predict() 결과 : ', predicted_result[idx])\n",
    "print('model이 추론한 가장 가능성이 높은 결과 : ', predicted_labels[idx])\n",
    "print('실제 데이터의 라벨 : ', y_test[idx])"
   ]
  },
  {
   "cell_type": "markdown",
   "id": "256e92a2",
   "metadata": {},
   "source": [
    "## 5. 모델 성능 개선\n",
    "### 정확도 0.23 : 정확도 올리기 위해 배치 사이즈 64->128, 에폭 20->50으로 조정"
   ]
  },
  {
   "cell_type": "code",
   "execution_count": 50,
   "id": "4ca6a8bc",
   "metadata": {},
   "outputs": [
    {
     "name": "stdout",
     "output_type": "stream",
     "text": [
      "Epoch 1/50\n",
      "29/29 [==============================] - 4s 141ms/step - loss: 0.0079 - accuracy: 0.9981 - val_loss: 3.0718 - val_accuracy: 0.8765\n",
      "Epoch 2/50\n",
      "29/29 [==============================] - 4s 139ms/step - loss: 0.0093 - accuracy: 0.9978 - val_loss: 2.8878 - val_accuracy: 0.8836\n",
      "Epoch 3/50\n",
      "29/29 [==============================] - 4s 137ms/step - loss: 0.0071 - accuracy: 0.9986 - val_loss: 2.3310 - val_accuracy: 0.8924\n",
      "Epoch 4/50\n",
      "29/29 [==============================] - 4s 139ms/step - loss: 0.0055 - accuracy: 0.9997 - val_loss: 2.2729 - val_accuracy: 0.8907\n",
      "Epoch 5/50\n",
      "29/29 [==============================] - 4s 139ms/step - loss: 0.0074 - accuracy: 0.9983 - val_loss: 2.5070 - val_accuracy: 0.8801\n",
      "Epoch 6/50\n",
      "29/29 [==============================] - 4s 141ms/step - loss: 0.0059 - accuracy: 0.9989 - val_loss: 2.4965 - val_accuracy: 0.8871\n",
      "Epoch 7/50\n",
      "29/29 [==============================] - 4s 139ms/step - loss: 0.0065 - accuracy: 0.9983 - val_loss: 2.8296 - val_accuracy: 0.8783\n",
      "Epoch 8/50\n",
      "29/29 [==============================] - 4s 139ms/step - loss: 0.0060 - accuracy: 0.9994 - val_loss: 2.9745 - val_accuracy: 0.8713\n",
      "Epoch 9/50\n",
      "29/29 [==============================] - 4s 141ms/step - loss: 0.0065 - accuracy: 0.9986 - val_loss: 2.9286 - val_accuracy: 0.8695\n",
      "Epoch 10/50\n",
      "29/29 [==============================] - 4s 137ms/step - loss: 0.0056 - accuracy: 0.9992 - val_loss: 2.9651 - val_accuracy: 0.8677\n",
      "Epoch 11/50\n",
      "29/29 [==============================] - 4s 140ms/step - loss: 0.0046 - accuracy: 0.9994 - val_loss: 3.0565 - val_accuracy: 0.8677\n",
      "Epoch 12/50\n",
      "29/29 [==============================] - 4s 138ms/step - loss: 0.0053 - accuracy: 0.9997 - val_loss: 2.9391 - val_accuracy: 0.8660\n",
      "Epoch 13/50\n",
      "29/29 [==============================] - 4s 139ms/step - loss: 0.0056 - accuracy: 0.9989 - val_loss: 2.9273 - val_accuracy: 0.8748\n",
      "Epoch 14/50\n",
      "29/29 [==============================] - 4s 139ms/step - loss: 0.0058 - accuracy: 0.9992 - val_loss: 2.8549 - val_accuracy: 0.8730\n",
      "Epoch 15/50\n",
      "29/29 [==============================] - 4s 139ms/step - loss: 0.0061 - accuracy: 0.9983 - val_loss: 2.9170 - val_accuracy: 0.8730\n",
      "Epoch 16/50\n",
      "29/29 [==============================] - 4s 139ms/step - loss: 0.0060 - accuracy: 0.9986 - val_loss: 3.0189 - val_accuracy: 0.8765\n",
      "Epoch 17/50\n",
      "29/29 [==============================] - 4s 138ms/step - loss: 0.0061 - accuracy: 0.9986 - val_loss: 3.0712 - val_accuracy: 0.8748\n",
      "Epoch 18/50\n",
      "29/29 [==============================] - 4s 136ms/step - loss: 0.0058 - accuracy: 0.9986 - val_loss: 2.8818 - val_accuracy: 0.8730\n",
      "Epoch 19/50\n",
      "29/29 [==============================] - 4s 139ms/step - loss: 0.0065 - accuracy: 0.9986 - val_loss: 3.0475 - val_accuracy: 0.8589\n",
      "Epoch 20/50\n",
      "29/29 [==============================] - 4s 138ms/step - loss: 0.0047 - accuracy: 0.9994 - val_loss: 3.0897 - val_accuracy: 0.8589\n",
      "Epoch 21/50\n",
      "29/29 [==============================] - 4s 142ms/step - loss: 0.0087 - accuracy: 0.9981 - val_loss: 3.3485 - val_accuracy: 0.8695\n",
      "Epoch 22/50\n",
      "29/29 [==============================] - 4s 139ms/step - loss: 0.0053 - accuracy: 0.9992 - val_loss: 2.9012 - val_accuracy: 0.8677\n",
      "Epoch 23/50\n",
      "29/29 [==============================] - 4s 138ms/step - loss: 0.0055 - accuracy: 0.9994 - val_loss: 2.6352 - val_accuracy: 0.8730\n",
      "Epoch 24/50\n",
      "29/29 [==============================] - 4s 138ms/step - loss: 0.0071 - accuracy: 0.9981 - val_loss: 2.9399 - val_accuracy: 0.8748\n",
      "Epoch 25/50\n",
      "29/29 [==============================] - 4s 140ms/step - loss: 0.0093 - accuracy: 0.9981 - val_loss: 3.3348 - val_accuracy: 0.8624\n",
      "Epoch 26/50\n",
      "29/29 [==============================] - 4s 141ms/step - loss: 0.0062 - accuracy: 0.9983 - val_loss: 3.2505 - val_accuracy: 0.8748\n",
      "Epoch 27/50\n",
      "29/29 [==============================] - 4s 138ms/step - loss: 0.0066 - accuracy: 0.9981 - val_loss: 3.2190 - val_accuracy: 0.8818\n",
      "Epoch 28/50\n",
      "29/29 [==============================] - 4s 139ms/step - loss: 0.0049 - accuracy: 0.9994 - val_loss: 3.1279 - val_accuracy: 0.8818\n",
      "Epoch 29/50\n",
      "29/29 [==============================] - 4s 138ms/step - loss: 0.0033 - accuracy: 0.9997 - val_loss: 3.1519 - val_accuracy: 0.8818\n",
      "Epoch 30/50\n",
      "29/29 [==============================] - 4s 139ms/step - loss: 0.0036 - accuracy: 0.9997 - val_loss: 3.0586 - val_accuracy: 0.8854\n",
      "Epoch 31/50\n",
      "29/29 [==============================] - 4s 140ms/step - loss: 0.0046 - accuracy: 0.9992 - val_loss: 3.1311 - val_accuracy: 0.8854\n",
      "Epoch 32/50\n",
      "29/29 [==============================] - 4s 140ms/step - loss: 0.0045 - accuracy: 0.9992 - val_loss: 3.3286 - val_accuracy: 0.8818\n",
      "Epoch 33/50\n",
      "29/29 [==============================] - 4s 142ms/step - loss: 0.0042 - accuracy: 0.9994 - val_loss: 3.2696 - val_accuracy: 0.8836\n",
      "Epoch 34/50\n",
      "29/29 [==============================] - 4s 138ms/step - loss: 0.0038 - accuracy: 0.9992 - val_loss: 3.3859 - val_accuracy: 0.8836\n",
      "Epoch 35/50\n",
      "29/29 [==============================] - 4s 139ms/step - loss: 0.0038 - accuracy: 0.9994 - val_loss: 3.4427 - val_accuracy: 0.8836\n",
      "Epoch 36/50\n",
      "29/29 [==============================] - 4s 141ms/step - loss: 0.0030 - accuracy: 1.0000 - val_loss: 3.4853 - val_accuracy: 0.8854\n",
      "Epoch 37/50\n",
      "29/29 [==============================] - 4s 140ms/step - loss: 0.0049 - accuracy: 0.9992 - val_loss: 3.4762 - val_accuracy: 0.8871\n",
      "Epoch 38/50\n",
      "29/29 [==============================] - 4s 140ms/step - loss: 0.0040 - accuracy: 0.9997 - val_loss: 3.3337 - val_accuracy: 0.8854\n",
      "Epoch 39/50\n",
      "29/29 [==============================] - 4s 140ms/step - loss: 0.0047 - accuracy: 0.9992 - val_loss: 3.1714 - val_accuracy: 0.8907\n",
      "Epoch 40/50\n",
      "29/29 [==============================] - 4s 140ms/step - loss: 0.0039 - accuracy: 0.9994 - val_loss: 3.3490 - val_accuracy: 0.8836\n",
      "Epoch 41/50\n",
      "29/29 [==============================] - 4s 141ms/step - loss: 0.0044 - accuracy: 0.9994 - val_loss: 3.4762 - val_accuracy: 0.8836\n",
      "Epoch 42/50\n",
      "29/29 [==============================] - 4s 143ms/step - loss: 0.0046 - accuracy: 0.9992 - val_loss: 4.2010 - val_accuracy: 0.8765\n",
      "Epoch 43/50\n",
      "29/29 [==============================] - 4s 145ms/step - loss: 0.0046 - accuracy: 0.9992 - val_loss: 4.1362 - val_accuracy: 0.8730\n",
      "Epoch 44/50\n",
      "29/29 [==============================] - 4s 141ms/step - loss: 0.0021 - accuracy: 1.0000 - val_loss: 4.0596 - val_accuracy: 0.8730\n",
      "Epoch 45/50\n",
      "29/29 [==============================] - 4s 141ms/step - loss: 0.0061 - accuracy: 0.9986 - val_loss: 3.9793 - val_accuracy: 0.8783\n",
      "Epoch 46/50\n",
      "29/29 [==============================] - 4s 143ms/step - loss: 0.0049 - accuracy: 0.9989 - val_loss: 3.9248 - val_accuracy: 0.8730\n",
      "Epoch 47/50\n",
      "29/29 [==============================] - 4s 140ms/step - loss: 0.0045 - accuracy: 0.9992 - val_loss: 3.7678 - val_accuracy: 0.8730\n",
      "Epoch 48/50\n",
      "29/29 [==============================] - 4s 142ms/step - loss: 0.0029 - accuracy: 0.9997 - val_loss: 3.8110 - val_accuracy: 0.8765\n",
      "Epoch 49/50\n",
      "29/29 [==============================] - 4s 141ms/step - loss: 0.0039 - accuracy: 0.9994 - val_loss: 3.7954 - val_accuracy: 0.8765\n",
      "Epoch 50/50\n",
      "29/29 [==============================] - 4s 139ms/step - loss: 0.0028 - accuracy: 1.0000 - val_loss: 3.7729 - val_accuracy: 0.8783\n"
     ]
    }
   ],
   "source": [
    "history = model.fit(x_train_norm, y_train, batch_size = 128, validation_data=(x_valid_norm, y_valid), epochs = 50, verbose = 1)"
   ]
  },
  {
   "cell_type": "code",
   "execution_count": 51,
   "id": "8c310f62",
   "metadata": {
    "scrolled": true
   },
   "outputs": [
    {
     "data": {
      "image/png": "[encoded data removed]",
      "text/plain": [
       "<Figure size 432x288 with 1 Axes>"
      ]
     },
     "metadata": {
      "needs_background": "light"
     },
     "output_type": "display_data"
    }
   ],
   "source": [
    "plt.plot(history.history['loss'], label='Train Loss', marker='o')\n",
    "plt.plot(history.history['val_loss'], label='Val Loss', marker='o')\n",
    "plt.title('training curve')\n",
    "plt.xlabel('Epochs')\n",
    "plt.ylabel('Loss')\n",
    "plt.legend()\n",
    "plt.grid(True)\n",
    "plt.show()"
   ]
  },
  {
   "cell_type": "markdown",
   "id": "6ca5c4f5",
   "metadata": {},
   "source": [
    "### 시각화 결과\n",
    "- loss가 상승하며 종료되어 오버피팅 발생.   \n",
    "- 모델의 layer를 한 층 추가하여(더 깊게 쌓아) 성능 향상 시도"
   ]
  },
  {
   "cell_type": "code",
   "execution_count": 52,
   "id": "bfa8898b",
   "metadata": {},
   "outputs": [
    {
     "name": "stdout",
     "output_type": "stream",
     "text": [
      "Model에 추가된 Layer 개수:  13\n",
      "Model: \"sequential_1\"\n",
      "_________________________________________________________________\n",
      "Layer (type)                 Output Shape              Param #   \n",
      "=================================================================\n",
      "conv2d_2 (Conv2D)            (None, 28, 28, 16)        448       \n",
      "_________________________________________________________________\n",
      "batch_normalization_2 (Batch (None, 28, 28, 16)        64        \n",
      "_________________________________________________________________\n",
      "max_pooling2d_2 (MaxPooling2 (None, 14, 14, 16)        0         \n",
      "_________________________________________________________________\n",
      "conv2d_3 (Conv2D)            (None, 14, 14, 32)        4640      \n",
      "_________________________________________________________________\n",
      "batch_normalization_3 (Batch (None, 14, 14, 32)        128       \n",
      "_________________________________________________________________\n",
      "max_pooling2d_3 (MaxPooling2 (None, 7, 7, 32)          0         \n",
      "_________________________________________________________________\n",
      "conv2d_4 (Conv2D)            (None, 7, 7, 64)          18496     \n",
      "_________________________________________________________________\n",
      "batch_normalization_4 (Batch (None, 7, 7, 64)          256       \n",
      "_________________________________________________________________\n",
      "max_pooling2d_4 (MaxPooling2 (None, 3, 3, 64)          0         \n",
      "_________________________________________________________________\n",
      "flatten_1 (Flatten)          (None, 576)               0         \n",
      "_________________________________________________________________\n",
      "dense_2 (Dense)              (None, 32)                18464     \n",
      "_________________________________________________________________\n",
      "dropout_1 (Dropout)          (None, 32)                0         \n",
      "_________________________________________________________________\n",
      "dense_3 (Dense)              (None, 3)                 99        \n",
      "=================================================================\n",
      "Total params: 42,595\n",
      "Trainable params: 42,371\n",
      "Non-trainable params: 224\n",
      "_________________________________________________________________\n"
     ]
    }
   ],
   "source": [
    "import tensorflow as tf\n",
    "from tensorflow import keras\n",
    "import numpy as np\n",
    "from tensorflow.keras.layers import BatchNormalization, Dropout\n",
    "from tensorflow.keras import optimizers\n",
    "\n",
    "model=keras.models.Sequential()\n",
    "model.add(keras.layers.Conv2D(input_shape=(28,28,3), filters=16, kernel_size=(3,3), strides=(1,1), activation='relu', padding='same', kernel_initializer='he_normal'))\n",
    "model.add(BatchNormalization())\n",
    "model.add(keras.layers.MaxPool2D(2,2))\n",
    "model.add(keras.layers.Conv2D(input_shape=(28,28,3), filters=32, kernel_size=(3,3), strides=(1,1), activation='relu', padding='same', kernel_initializer='he_normal'))\n",
    "model.add(BatchNormalization())\n",
    "model.add(keras.layers.MaxPool2D(2,2))\n",
    "model.add(keras.layers.Conv2D(input_shape=(28,28,3), filters=64, kernel_size=(3,3), strides=(1,1), activation='relu', padding='same', kernel_initializer='he_normal'))\n",
    "model.add(BatchNormalization())\n",
    "model.add(keras.layers.MaxPool2D(2,2))\n",
    "model.add(keras.layers.Flatten())\n",
    "model.add(keras.layers.Dense(32, activation='relu', kernel_initializer='he_normal'))\n",
    "model.add(Dropout(0.5))\n",
    "model.add(keras.layers.Dense(3, activation='softmax', kernel_initializer='he_normal'))\n",
    "          \n",
    "print('Model에 추가된 Layer 개수: ', len(model.layers))\n",
    "\n",
    "model.summary()"
   ]
  },
  {
   "cell_type": "code",
   "execution_count": 53,
   "id": "2d85d779",
   "metadata": {},
   "outputs": [],
   "source": [
    "learning_rate = 0.00001\n",
    "adam = optimizers.Adam(learning_rate = learning_rate)\n",
    "model.compile(loss = 'sparse_categorical_crossentropy', optimizer = 'adam', metrics = ['accuracy'])"
   ]
  },
  {
   "cell_type": "code",
   "execution_count": 54,
   "id": "bbe2f28c",
   "metadata": {},
   "outputs": [
    {
     "name": "stdout",
     "output_type": "stream",
     "text": [
      "Epoch 1/20\n",
      "57/57 [==============================] - 6s 93ms/step - loss: 0.5598 - accuracy: 0.7894 - val_loss: 1.0052 - val_accuracy: 0.4921\n",
      "Epoch 2/20\n",
      "57/57 [==============================] - 5s 91ms/step - loss: 0.1502 - accuracy: 0.9481 - val_loss: 0.6943 - val_accuracy: 0.7319\n",
      "Epoch 3/20\n",
      "57/57 [==============================] - 5s 90ms/step - loss: 0.0854 - accuracy: 0.9728 - val_loss: 0.7692 - val_accuracy: 0.6596\n",
      "Epoch 4/20\n",
      "57/57 [==============================] - 5s 91ms/step - loss: 0.0627 - accuracy: 0.9825 - val_loss: 0.9205 - val_accuracy: 0.6720\n",
      "Epoch 5/20\n",
      "57/57 [==============================] - 5s 90ms/step - loss: 0.0427 - accuracy: 0.9856 - val_loss: 0.5128 - val_accuracy: 0.8060\n",
      "Epoch 6/20\n",
      "57/57 [==============================] - 5s 91ms/step - loss: 0.0385 - accuracy: 0.9889 - val_loss: 0.4348 - val_accuracy: 0.8413\n",
      "Epoch 7/20\n",
      "57/57 [==============================] - 5s 90ms/step - loss: 0.0304 - accuracy: 0.9892 - val_loss: 0.3126 - val_accuracy: 0.8959\n",
      "Epoch 8/20\n",
      "57/57 [==============================] - 5s 91ms/step - loss: 0.0249 - accuracy: 0.9908 - val_loss: 0.3754 - val_accuracy: 0.9012\n",
      "Epoch 9/20\n",
      "57/57 [==============================] - 5s 90ms/step - loss: 0.0229 - accuracy: 0.9922 - val_loss: 0.4485 - val_accuracy: 0.8995\n",
      "Epoch 10/20\n",
      "57/57 [==============================] - 5s 90ms/step - loss: 0.0159 - accuracy: 0.9942 - val_loss: 0.2047 - val_accuracy: 0.9189\n",
      "Epoch 11/20\n",
      "57/57 [==============================] - 5s 91ms/step - loss: 0.0135 - accuracy: 0.9964 - val_loss: 0.2967 - val_accuracy: 0.9153\n",
      "Epoch 12/20\n",
      "57/57 [==============================] - 5s 90ms/step - loss: 0.0111 - accuracy: 0.9961 - val_loss: 0.2185 - val_accuracy: 0.9153\n",
      "Epoch 13/20\n",
      "57/57 [==============================] - 5s 89ms/step - loss: 0.0112 - accuracy: 0.9956 - val_loss: 0.2694 - val_accuracy: 0.9242\n",
      "Epoch 14/20\n",
      "57/57 [==============================] - 5s 89ms/step - loss: 0.0136 - accuracy: 0.9953 - val_loss: 0.3548 - val_accuracy: 0.9083\n",
      "Epoch 15/20\n",
      "57/57 [==============================] - 5s 90ms/step - loss: 0.0128 - accuracy: 0.9958 - val_loss: 0.3395 - val_accuracy: 0.8924\n",
      "Epoch 16/20\n",
      "57/57 [==============================] - 5s 90ms/step - loss: 0.0110 - accuracy: 0.9947 - val_loss: 0.5036 - val_accuracy: 0.8836\n",
      "Epoch 17/20\n",
      "57/57 [==============================] - 5s 91ms/step - loss: 0.0090 - accuracy: 0.9961 - val_loss: 0.3830 - val_accuracy: 0.9189\n",
      "Epoch 18/20\n",
      "57/57 [==============================] - 5s 90ms/step - loss: 0.0057 - accuracy: 0.9978 - val_loss: 0.4012 - val_accuracy: 0.9118\n",
      "Epoch 19/20\n",
      "57/57 [==============================] - 5s 91ms/step - loss: 0.0098 - accuracy: 0.9953 - val_loss: 0.3865 - val_accuracy: 0.8942\n",
      "Epoch 20/20\n",
      "57/57 [==============================] - 5s 91ms/step - loss: 0.0080 - accuracy: 0.9964 - val_loss: 0.5092 - val_accuracy: 0.9189\n"
     ]
    }
   ],
   "source": [
    "history = model.fit(x_train_norm, y_train, batch_size = 64, validation_data=(x_valid_norm, y_valid), epochs = 20, verbose = 1)"
   ]
  },
  {
   "cell_type": "code",
   "execution_count": 55,
   "id": "59714230",
   "metadata": {},
   "outputs": [
    {
     "data": {
      "image/png": "[encoded data removed]",
      "text/plain": [
       "<Figure size 432x288 with 1 Axes>"
      ]
     },
     "metadata": {
      "needs_background": "light"
     },
     "output_type": "display_data"
    }
   ],
   "source": [
    "plt.plot(history.history['loss'], label='Train Loss', marker='o')\n",
    "plt.plot(history.history['val_loss'], label='Val Loss', marker='o')\n",
    "plt.title('training curve')\n",
    "plt.xlabel('Epochs')\n",
    "plt.ylabel('Loss')\n",
    "plt.legend()\n",
    "plt.grid(True)\n",
    "plt.show()"
   ]
  },
  {
   "cell_type": "code",
   "execution_count": 56,
   "id": "a99ba66b",
   "metadata": {
    "scrolled": true
   },
   "outputs": [
    {
     "data": {
      "image/png": "[encoded data removed]",
      "text/plain": [
       "<Figure size 432x288 with 1 Axes>"
      ]
     },
     "metadata": {
      "needs_background": "light"
     },
     "output_type": "display_data"
    }
   ],
   "source": [
    "plt.plot(history.history['accuracy'], label='Train Accuracy', marker='o')\n",
    "plt.plot(history.history['val_accuracy'], label='Val Accuracy', marker='o')\n",
    "plt.title('training curve')\n",
    "plt.xlabel('Epochs')\n",
    "plt.ylabel('Accuracy')\n",
    "plt.legend()\n",
    "plt.grid(True)\n",
    "plt.show()"
   ]
  },
  {
   "cell_type": "code",
   "execution_count": 57,
   "id": "443f85b6",
   "metadata": {
    "scrolled": true
   },
   "outputs": [
    {
     "name": "stdout",
     "output_type": "stream",
     "text": [
      "10/10 - 0s - loss: 14.7215 - accuracy: 0.3333\n",
      "test_loss: 14.721549034118652\n",
      "test_accuracy: 0.3333333432674408\n",
      "model.predict() 결과 :  [9.9999988e-01 9.9540635e-08 4.5860468e-10]\n",
      "model이 추론한 가장 가능성이 높은 결과 :  0\n",
      "실제 데이터의 라벨 :  0\n"
     ]
    }
   ],
   "source": [
    "test_loss, test_accuracy = model.evaluate(x_test_norm,y_test, verbose=2)\n",
    "print(f\"test_loss: {test_loss}\")\n",
    "print(f\"test_accuracy: {test_accuracy}\")\n",
    "\n",
    "predicted_result = model.predict(x_test_norm)  # model이 추론한 확률값. \n",
    "predicted_labels = np.argmax(predicted_result, axis=1)\n",
    "\n",
    "idx=0  #1번째 x_test를 살펴보자. \n",
    "print('model.predict() 결과 : ', predicted_result[idx])\n",
    "print('model이 추론한 가장 가능성이 높은 결과 : ', predicted_labels[idx])\n",
    "print('실제 데이터의 라벨 : ', y_test[idx])"
   ]
  },
  {
   "cell_type": "markdown",
   "id": "cb5c0d80",
   "metadata": {},
   "source": [
    "### 시각화 및 정확도 결과\n",
    "- 시각화하여 그래프를 본 결과 이전 모델보다는 제대로 학습을 하는 것으로 보임\n",
    "- test accuracy도 23에서 33으로 상승\n",
    "- 층을 2개 더 쌓아 모델 성능 개선 시도 (총 5개의 층)"
   ]
  },
  {
   "cell_type": "code",
   "execution_count": 59,
   "id": "1323a04b",
   "metadata": {},
   "outputs": [
    {
     "name": "stdout",
     "output_type": "stream",
     "text": [
      "Model에 추가된 Layer 개수:  17\n",
      "Model: \"sequential_3\"\n",
      "_________________________________________________________________\n",
      "Layer (type)                 Output Shape              Param #   \n",
      "=================================================================\n",
      "conv2d_10 (Conv2D)           (None, 28, 28, 16)        448       \n",
      "_________________________________________________________________\n",
      "batch_normalization_10 (Batc (None, 28, 28, 16)        64        \n",
      "_________________________________________________________________\n",
      "conv2d_11 (Conv2D)           (None, 28, 28, 32)        4640      \n",
      "_________________________________________________________________\n",
      "batch_normalization_11 (Batc (None, 28, 28, 32)        128       \n",
      "_________________________________________________________________\n",
      "conv2d_12 (Conv2D)           (None, 28, 28, 64)        18496     \n",
      "_________________________________________________________________\n",
      "batch_normalization_12 (Batc (None, 28, 28, 64)        256       \n",
      "_________________________________________________________________\n",
      "max_pooling2d_10 (MaxPooling (None, 14, 14, 64)        0         \n",
      "_________________________________________________________________\n",
      "conv2d_13 (Conv2D)           (None, 14, 14, 96)        55392     \n",
      "_________________________________________________________________\n",
      "batch_normalization_13 (Batc (None, 14, 14, 96)        384       \n",
      "_________________________________________________________________\n",
      "max_pooling2d_11 (MaxPooling (None, 7, 7, 96)          0         \n",
      "_________________________________________________________________\n",
      "conv2d_14 (Conv2D)           (None, 7, 7, 64)          55360     \n",
      "_________________________________________________________________\n",
      "batch_normalization_14 (Batc (None, 7, 7, 64)          256       \n",
      "_________________________________________________________________\n",
      "max_pooling2d_12 (MaxPooling (None, 3, 3, 64)          0         \n",
      "_________________________________________________________________\n",
      "flatten_2 (Flatten)          (None, 576)               0         \n",
      "_________________________________________________________________\n",
      "dense_4 (Dense)              (None, 32)                18464     \n",
      "_________________________________________________________________\n",
      "dropout_2 (Dropout)          (None, 32)                0         \n",
      "_________________________________________________________________\n",
      "dense_5 (Dense)              (None, 3)                 99        \n",
      "=================================================================\n",
      "Total params: 153,987\n",
      "Trainable params: 153,443\n",
      "Non-trainable params: 544\n",
      "_________________________________________________________________\n"
     ]
    }
   ],
   "source": [
    "import tensorflow as tf\n",
    "from tensorflow import keras\n",
    "import numpy as np\n",
    "from tensorflow.keras.layers import BatchNormalization, Dropout\n",
    "from tensorflow.keras import optimizers\n",
    "\n",
    "model=keras.models.Sequential()\n",
    "model.add(keras.layers.Conv2D(input_shape=(28,28,3), filters=16, kernel_size=(3,3), strides=(1,1), activation='relu', padding='same', kernel_initializer='he_normal'))\n",
    "model.add(BatchNormalization())\n",
    "model.add(keras.layers.Conv2D(input_shape=(28,28,3), filters=32, kernel_size=(3,3), strides=(1,1), activation='relu', padding='same', kernel_initializer='he_normal'))\n",
    "model.add(BatchNormalization())\n",
    "model.add(keras.layers.Conv2D(input_shape=(28,28,3), filters=64, kernel_size=(3,3), strides=(1,1), activation='relu', padding='same', kernel_initializer='he_normal'))\n",
    "model.add(BatchNormalization())\n",
    "model.add(keras.layers.MaxPool2D(2,2))\n",
    "model.add(keras.layers.Conv2D(input_shape=(28,28,3), filters=96, kernel_size=(3,3), strides=(1,1), activation='relu', padding='same', kernel_initializer='he_normal'))\n",
    "model.add(BatchNormalization())\n",
    "model.add(keras.layers.MaxPool2D(2,2))\n",
    "model.add(keras.layers.Conv2D(input_shape=(28,28,3), filters=64, kernel_size=(3,3), strides=(1,1), activation='relu', padding='same', kernel_initializer='he_normal'))\n",
    "model.add(BatchNormalization())\n",
    "model.add(keras.layers.MaxPool2D(2,2))\n",
    "model.add(keras.layers.Flatten())\n",
    "model.add(keras.layers.Dense(32, activation='relu', kernel_initializer='he_normal'))\n",
    "model.add(Dropout(0.5))\n",
    "model.add(keras.layers.Dense(3, activation='softmax', kernel_initializer='he_normal'))\n",
    "          \n",
    "print('Model에 추가된 Layer 개수: ', len(model.layers))\n",
    "\n",
    "model.summary()"
   ]
  },
  {
   "cell_type": "code",
   "execution_count": 60,
   "id": "56a5733c",
   "metadata": {},
   "outputs": [],
   "source": [
    "learning_rate = 0.00001\n",
    "adam = optimizers.Adam(learning_rate = learning_rate)\n",
    "model.compile(loss = 'sparse_categorical_crossentropy', optimizer = 'adam', metrics = ['accuracy'])"
   ]
  },
  {
   "cell_type": "code",
   "execution_count": 61,
   "id": "f044564a",
   "metadata": {},
   "outputs": [
    {
     "name": "stdout",
     "output_type": "stream",
     "text": [
      "Epoch 1/20\n",
      "57/57 [==============================] - 34s 589ms/step - loss: 0.3570 - accuracy: 0.8594 - val_loss: 0.9245 - val_accuracy: 0.5520\n",
      "Epoch 2/20\n",
      "57/57 [==============================] - 33s 585ms/step - loss: 0.1124 - accuracy: 0.9631 - val_loss: 2.1658 - val_accuracy: 0.3527\n",
      "Epoch 3/20\n",
      "57/57 [==============================] - 33s 579ms/step - loss: 0.0674 - accuracy: 0.9753 - val_loss: 2.4017 - val_accuracy: 0.4427\n",
      "Epoch 4/20\n",
      "57/57 [==============================] - 33s 582ms/step - loss: 0.0461 - accuracy: 0.9861 - val_loss: 1.9588 - val_accuracy: 0.5185\n",
      "Epoch 5/20\n",
      "57/57 [==============================] - 33s 579ms/step - loss: 0.0286 - accuracy: 0.9900 - val_loss: 1.3873 - val_accuracy: 0.6720\n",
      "Epoch 6/20\n",
      "57/57 [==============================] - 33s 581ms/step - loss: 0.0241 - accuracy: 0.9881 - val_loss: 0.8726 - val_accuracy: 0.8236\n",
      "Epoch 7/20\n",
      "57/57 [==============================] - 33s 581ms/step - loss: 0.0217 - accuracy: 0.9914 - val_loss: 0.5334 - val_accuracy: 0.8307\n",
      "Epoch 8/20\n",
      "57/57 [==============================] - 33s 585ms/step - loss: 0.0287 - accuracy: 0.9922 - val_loss: 0.2958 - val_accuracy: 0.9136\n",
      "Epoch 9/20\n",
      "57/57 [==============================] - 33s 584ms/step - loss: 0.0209 - accuracy: 0.9922 - val_loss: 0.6178 - val_accuracy: 0.8307\n",
      "Epoch 10/20\n",
      "57/57 [==============================] - 33s 579ms/step - loss: 0.0349 - accuracy: 0.9897 - val_loss: 0.2441 - val_accuracy: 0.9471\n",
      "Epoch 11/20\n",
      "57/57 [==============================] - 33s 582ms/step - loss: 0.0186 - accuracy: 0.9933 - val_loss: 0.3897 - val_accuracy: 0.9101\n",
      "Epoch 12/20\n",
      "57/57 [==============================] - 33s 581ms/step - loss: 0.0143 - accuracy: 0.9953 - val_loss: 0.2871 - val_accuracy: 0.9242\n",
      "Epoch 13/20\n",
      "57/57 [==============================] - 33s 580ms/step - loss: 0.0131 - accuracy: 0.9961 - val_loss: 0.3582 - val_accuracy: 0.9400\n",
      "Epoch 14/20\n",
      "57/57 [==============================] - 33s 580ms/step - loss: 0.0064 - accuracy: 0.9978 - val_loss: 0.5310 - val_accuracy: 0.9224\n",
      "Epoch 15/20\n",
      "57/57 [==============================] - 32s 568ms/step - loss: 0.0046 - accuracy: 0.9983 - val_loss: 0.5419 - val_accuracy: 0.9083\n",
      "Epoch 16/20\n",
      "57/57 [==============================] - 32s 566ms/step - loss: 0.0061 - accuracy: 0.9975 - val_loss: 0.6011 - val_accuracy: 0.9118\n",
      "Epoch 17/20\n",
      "57/57 [==============================] - 32s 566ms/step - loss: 0.0047 - accuracy: 0.9986 - val_loss: 0.6213 - val_accuracy: 0.9065\n",
      "Epoch 18/20\n",
      "57/57 [==============================] - 33s 570ms/step - loss: 0.0122 - accuracy: 0.9961 - val_loss: 0.8322 - val_accuracy: 0.8748\n",
      "Epoch 19/20\n",
      "57/57 [==============================] - 33s 582ms/step - loss: 0.0291 - accuracy: 0.9908 - val_loss: 0.4296 - val_accuracy: 0.9189\n",
      "Epoch 20/20\n",
      "57/57 [==============================] - 33s 577ms/step - loss: 0.0174 - accuracy: 0.9925 - val_loss: 1.0240 - val_accuracy: 0.8483\n"
     ]
    }
   ],
   "source": [
    "history = model.fit(x_train_norm, y_train, batch_size = 64, validation_data=(x_valid_norm, y_valid), epochs = 20, verbose = 1)"
   ]
  },
  {
   "cell_type": "markdown",
   "id": "f706ffec",
   "metadata": {},
   "source": [
    "### 새로 배운 점\n",
    "- loss와 val_loss의 트렌드(흐름)이 같아지면 학습을 잘하고 있다고 판단(일반화 성능이 좋다.)할 수 있음을 새로 알게 됨.\n",
    "- epoch 11 정도면 충분했던 상황으로 차후 early stopping에 대해 더 알아보기로 (오버피팅 나기 전에 일찍 실험을 종료시키기)"
   ]
  },
  {
   "cell_type": "code",
   "execution_count": 62,
   "id": "6b51c0f6",
   "metadata": {},
   "outputs": [
    {
     "data": {
      "image/png": "[encoded data removed]",
      "text/plain": [
       "<Figure size 432x288 with 1 Axes>"
      ]
     },
     "metadata": {
      "needs_background": "light"
     },
     "output_type": "display_data"
    }
   ],
   "source": [
    "plt.plot(history.history['loss'], label='Train Loss', marker='o')\n",
    "plt.plot(history.history['val_loss'], label='Val Loss', marker='o')\n",
    "plt.title('training curve')\n",
    "plt.xlabel('Epochs')\n",
    "plt.ylabel('Loss')\n",
    "plt.legend()\n",
    "plt.grid(True)\n",
    "plt.show()"
   ]
  },
  {
   "cell_type": "code",
   "execution_count": 63,
   "id": "8f02b52a",
   "metadata": {},
   "outputs": [
    {
     "data": {
      "image/png": "[encoded data removed]",
      "text/plain": [
       "<Figure size 432x288 with 1 Axes>"
      ]
     },
     "metadata": {
      "needs_background": "light"
     },
     "output_type": "display_data"
    }
   ],
   "source": [
    "plt.plot(history.history['accuracy'], label='Train Accuracy', marker='o')\n",
    "plt.plot(history.history['val_accuracy'], label='Val Accuracy', marker='o')\n",
    "plt.title('training curve')\n",
    "plt.xlabel('Epochs')\n",
    "plt.ylabel('Accuracy')\n",
    "plt.legend()\n",
    "plt.grid(True)\n",
    "plt.show()"
   ]
  },
  {
   "cell_type": "code",
   "execution_count": 64,
   "id": "b9d3df7b",
   "metadata": {
    "scrolled": true
   },
   "outputs": [
    {
     "name": "stdout",
     "output_type": "stream",
     "text": [
      "10/10 - 1s - loss: 3.9873 - accuracy: 0.6667\n",
      "test_loss: 3.987347364425659\n",
      "test_accuracy: 0.6666666865348816\n",
      "model.predict() 결과 :  [9.9557942e-01 4.4205519e-03 3.0699105e-09]\n",
      "model이 추론한 가장 가능성이 높은 결과 :  0\n",
      "실제 데이터의 라벨 :  0\n"
     ]
    }
   ],
   "source": [
    "test_loss, test_accuracy = model.evaluate(x_test_norm,y_test, verbose=2)\n",
    "print(f\"test_loss: {test_loss}\")\n",
    "print(f\"test_accuracy: {test_accuracy}\")\n",
    "\n",
    "predicted_result = model.predict(x_test_norm)  # model이 추론한 확률값. \n",
    "predicted_labels = np.argmax(predicted_result, axis=1)\n",
    "\n",
    "idx=0  #1번째 x_test를 살펴보자. \n",
    "print('model.predict() 결과 : ', predicted_result[idx])\n",
    "print('model이 추론한 가장 가능성이 높은 결과 : ', predicted_labels[idx])\n",
    "print('실제 데이터의 라벨 : ', y_test[idx])"
   ]
  },
  {
   "cell_type": "markdown",
   "id": "ab433299",
   "metadata": {},
   "source": [
    "## test data 정확도 66 달성\n",
    "- test_accuracy: 0.66  \n",
    "더 높은 모델 성능을 위해 \n",
    "    - Conv2D layer 1층 추가\n",
    "    - MaxPool2D 연달아 나오지 않도록 배치"
   ]
  },
  {
   "cell_type": "code",
   "execution_count": 65,
   "id": "cbed9160",
   "metadata": {},
   "outputs": [
    {
     "name": "stdout",
     "output_type": "stream",
     "text": [
      "Model에 추가된 Layer 개수:  19\n",
      "Model: \"sequential_4\"\n",
      "_________________________________________________________________\n",
      "Layer (type)                 Output Shape              Param #   \n",
      "=================================================================\n",
      "conv2d_15 (Conv2D)           (None, 28, 28, 16)        448       \n",
      "_________________________________________________________________\n",
      "batch_normalization_15 (Batc (None, 28, 28, 16)        64        \n",
      "_________________________________________________________________\n",
      "conv2d_16 (Conv2D)           (None, 28, 28, 32)        4640      \n",
      "_________________________________________________________________\n",
      "batch_normalization_16 (Batc (None, 28, 28, 32)        128       \n",
      "_________________________________________________________________\n",
      "conv2d_17 (Conv2D)           (None, 28, 28, 64)        18496     \n",
      "_________________________________________________________________\n",
      "batch_normalization_17 (Batc (None, 28, 28, 64)        256       \n",
      "_________________________________________________________________\n",
      "max_pooling2d_13 (MaxPooling (None, 14, 14, 64)        0         \n",
      "_________________________________________________________________\n",
      "conv2d_18 (Conv2D)           (None, 14, 14, 96)        55392     \n",
      "_________________________________________________________________\n",
      "batch_normalization_18 (Batc (None, 14, 14, 96)        384       \n",
      "_________________________________________________________________\n",
      "max_pooling2d_14 (MaxPooling (None, 7, 7, 96)          0         \n",
      "_________________________________________________________________\n",
      "conv2d_19 (Conv2D)           (None, 7, 7, 64)          55360     \n",
      "_________________________________________________________________\n",
      "batch_normalization_19 (Batc (None, 7, 7, 64)          256       \n",
      "_________________________________________________________________\n",
      "conv2d_20 (Conv2D)           (None, 7, 7, 32)          18464     \n",
      "_________________________________________________________________\n",
      "batch_normalization_20 (Batc (None, 7, 7, 32)          128       \n",
      "_________________________________________________________________\n",
      "max_pooling2d_15 (MaxPooling (None, 3, 3, 32)          0         \n",
      "_________________________________________________________________\n",
      "flatten_3 (Flatten)          (None, 288)               0         \n",
      "_________________________________________________________________\n",
      "dense_6 (Dense)              (None, 32)                9248      \n",
      "_________________________________________________________________\n",
      "dropout_3 (Dropout)          (None, 32)                0         \n",
      "_________________________________________________________________\n",
      "dense_7 (Dense)              (None, 3)                 99        \n",
      "=================================================================\n",
      "Total params: 163,363\n",
      "Trainable params: 162,755\n",
      "Non-trainable params: 608\n",
      "_________________________________________________________________\n"
     ]
    }
   ],
   "source": [
    "import tensorflow as tf\n",
    "from tensorflow import keras\n",
    "import numpy as np\n",
    "from tensorflow.keras.layers import BatchNormalization, Dropout\n",
    "from tensorflow.keras import optimizers\n",
    "\n",
    "model=keras.models.Sequential()\n",
    "model.add(keras.layers.Conv2D(input_shape=(28,28,3), filters=16, kernel_size=(3,3), strides=(1,1), activation='relu', padding='same', kernel_initializer='he_normal'))\n",
    "model.add(BatchNormalization())\n",
    "model.add(keras.layers.Conv2D(input_shape=(28,28,3), filters=32, kernel_size=(3,3), strides=(1,1), activation='relu', padding='same', kernel_initializer='he_normal'))\n",
    "model.add(BatchNormalization())\n",
    "model.add(keras.layers.Conv2D(input_shape=(28,28,3), filters=64, kernel_size=(3,3), strides=(1,1), activation='relu', padding='same', kernel_initializer='he_normal'))\n",
    "model.add(BatchNormalization())\n",
    "model.add(keras.layers.MaxPool2D(2,2))\n",
    "model.add(keras.layers.Conv2D(input_shape=(28,28,3), filters=96, kernel_size=(3,3), strides=(1,1), activation='relu', padding='same', kernel_initializer='he_normal'))\n",
    "model.add(BatchNormalization())\n",
    "model.add(keras.layers.MaxPool2D(2,2))\n",
    "model.add(keras.layers.Conv2D(input_shape=(28,28,3), filters=64, kernel_size=(3,3), strides=(1,1), activation='relu', padding='same', kernel_initializer='he_normal'))\n",
    "model.add(BatchNormalization())\n",
    "model.add(keras.layers.Conv2D(input_shape=(28,28,3), filters=32, kernel_size=(3,3), strides=(1,1), activation='relu', padding='same', kernel_initializer='he_normal'))\n",
    "model.add(BatchNormalization())\n",
    "model.add(keras.layers.MaxPool2D(2,2))\n",
    "model.add(keras.layers.Flatten())\n",
    "model.add(keras.layers.Dense(32, activation='relu', kernel_initializer='he_normal'))\n",
    "model.add(Dropout(0.5))\n",
    "model.add(keras.layers.Dense(3, activation='softmax', kernel_initializer='he_normal'))\n",
    "          \n",
    "print('Model에 추가된 Layer 개수: ', len(model.layers))\n",
    "\n",
    "model.summary()"
   ]
  },
  {
   "cell_type": "code",
   "execution_count": 66,
   "id": "4a46dc1c",
   "metadata": {},
   "outputs": [],
   "source": [
    "learning_rate = 0.00001\n",
    "adam = optimizers.Adam(learning_rate = learning_rate)\n",
    "model.compile(loss = 'sparse_categorical_crossentropy', optimizer = 'adam', metrics = ['accuracy'])"
   ]
  },
  {
   "cell_type": "markdown",
   "id": "388b0487",
   "metadata": {},
   "source": [
    "### layer를 한 층 더 쌓은 만큼 에폭도 20에서 30으로 조정"
   ]
  },
  {
   "cell_type": "code",
   "execution_count": 67,
   "id": "482e807f",
   "metadata": {},
   "outputs": [
    {
     "name": "stdout",
     "output_type": "stream",
     "text": [
      "Epoch 1/30\n",
      "57/57 [==============================] - 35s 600ms/step - loss: 0.4088 - accuracy: 0.8492 - val_loss: 1.0656 - val_accuracy: 0.3351\n",
      "Epoch 2/30\n",
      "57/57 [==============================] - 34s 595ms/step - loss: 0.0929 - accuracy: 0.9689 - val_loss: 1.2139 - val_accuracy: 0.4480\n",
      "Epoch 3/30\n",
      "57/57 [==============================] - 34s 599ms/step - loss: 0.0468 - accuracy: 0.9861 - val_loss: 1.0314 - val_accuracy: 0.5785\n",
      "Epoch 4/30\n",
      "57/57 [==============================] - 34s 596ms/step - loss: 0.0409 - accuracy: 0.9853 - val_loss: 1.2990 - val_accuracy: 0.5750\n",
      "Epoch 5/30\n",
      "57/57 [==============================] - 34s 597ms/step - loss: 0.0727 - accuracy: 0.9767 - val_loss: 0.7883 - val_accuracy: 0.7284\n",
      "Epoch 6/30\n",
      "57/57 [==============================] - 34s 589ms/step - loss: 0.0245 - accuracy: 0.9936 - val_loss: 0.4584 - val_accuracy: 0.8519\n",
      "Epoch 7/30\n",
      "57/57 [==============================] - 34s 595ms/step - loss: 0.0135 - accuracy: 0.9950 - val_loss: 0.3978 - val_accuracy: 0.9012\n",
      "Epoch 8/30\n",
      "57/57 [==============================] - 33s 586ms/step - loss: 0.0107 - accuracy: 0.9958 - val_loss: 0.3826 - val_accuracy: 0.8907\n",
      "Epoch 9/30\n",
      "57/57 [==============================] - 33s 582ms/step - loss: 0.0080 - accuracy: 0.9969 - val_loss: 0.4371 - val_accuracy: 0.9030\n",
      "Epoch 10/30\n",
      "57/57 [==============================] - 33s 579ms/step - loss: 0.0080 - accuracy: 0.9983 - val_loss: 0.4045 - val_accuracy: 0.8836\n",
      "Epoch 11/30\n",
      "57/57 [==============================] - 34s 596ms/step - loss: 0.0102 - accuracy: 0.9964 - val_loss: 0.3805 - val_accuracy: 0.8818\n",
      "Epoch 12/30\n",
      "57/57 [==============================] - 34s 602ms/step - loss: 0.0105 - accuracy: 0.9972 - val_loss: 0.4726 - val_accuracy: 0.9048\n",
      "Epoch 13/30\n",
      "57/57 [==============================] - 34s 597ms/step - loss: 0.0104 - accuracy: 0.9958 - val_loss: 0.2731 - val_accuracy: 0.9471\n",
      "Epoch 14/30\n",
      "57/57 [==============================] - 34s 599ms/step - loss: 0.0133 - accuracy: 0.9961 - val_loss: 0.5530 - val_accuracy: 0.8995\n",
      "Epoch 15/30\n",
      "57/57 [==============================] - 34s 597ms/step - loss: 0.0089 - accuracy: 0.9986 - val_loss: 0.3060 - val_accuracy: 0.9206\n",
      "Epoch 16/30\n",
      "57/57 [==============================] - 34s 596ms/step - loss: 0.0045 - accuracy: 0.9981 - val_loss: 0.2710 - val_accuracy: 0.9471\n",
      "Epoch 17/30\n",
      "57/57 [==============================] - 34s 593ms/step - loss: 0.0028 - accuracy: 0.9994 - val_loss: 0.2189 - val_accuracy: 0.9524\n",
      "Epoch 18/30\n",
      "57/57 [==============================] - 34s 601ms/step - loss: 0.0035 - accuracy: 0.9989 - val_loss: 0.2243 - val_accuracy: 0.9418\n",
      "Epoch 19/30\n",
      "57/57 [==============================] - 35s 610ms/step - loss: 0.0058 - accuracy: 0.9983 - val_loss: 0.4101 - val_accuracy: 0.9259\n",
      "Epoch 20/30\n",
      "57/57 [==============================] - 34s 597ms/step - loss: 0.0076 - accuracy: 0.9967 - val_loss: 0.4599 - val_accuracy: 0.8959\n",
      "Epoch 21/30\n",
      "57/57 [==============================] - 34s 602ms/step - loss: 0.0066 - accuracy: 0.9975 - val_loss: 0.5237 - val_accuracy: 0.9242\n",
      "Epoch 22/30\n",
      "57/57 [==============================] - 33s 583ms/step - loss: 0.0048 - accuracy: 0.9983 - val_loss: 0.9295 - val_accuracy: 0.8801\n",
      "Epoch 23/30\n",
      "57/57 [==============================] - 33s 587ms/step - loss: 0.0060 - accuracy: 0.9978 - val_loss: 1.0612 - val_accuracy: 0.8624\n",
      "Epoch 24/30\n",
      "57/57 [==============================] - 34s 596ms/step - loss: 0.0037 - accuracy: 0.9989 - val_loss: 0.5774 - val_accuracy: 0.9277\n",
      "Epoch 25/30\n",
      "57/57 [==============================] - 34s 596ms/step - loss: 0.0021 - accuracy: 1.0000 - val_loss: 0.4487 - val_accuracy: 0.9365\n",
      "Epoch 26/30\n",
      "57/57 [==============================] - 34s 596ms/step - loss: 0.0018 - accuracy: 0.9992 - val_loss: 0.5065 - val_accuracy: 0.9242\n",
      "Epoch 27/30\n",
      "57/57 [==============================] - 34s 597ms/step - loss: 0.0023 - accuracy: 0.9986 - val_loss: 0.4271 - val_accuracy: 0.9277\n",
      "Epoch 28/30\n",
      "57/57 [==============================] - 34s 601ms/step - loss: 0.0020 - accuracy: 0.9997 - val_loss: 0.4667 - val_accuracy: 0.9365\n",
      "Epoch 29/30\n",
      "57/57 [==============================] - 34s 592ms/step - loss: 0.0026 - accuracy: 0.9986 - val_loss: 0.5388 - val_accuracy: 0.9312\n",
      "Epoch 30/30\n",
      "57/57 [==============================] - 34s 589ms/step - loss: 0.0086 - accuracy: 0.9969 - val_loss: 3.2613 - val_accuracy: 0.6684\n"
     ]
    }
   ],
   "source": [
    "history = model.fit(x_train_norm, y_train, batch_size = 64, validation_data=(x_valid_norm, y_valid), epochs = 30, verbose = 1)"
   ]
  },
  {
   "cell_type": "code",
   "execution_count": 69,
   "id": "18205f60",
   "metadata": {},
   "outputs": [
    {
     "data": {
      "image/png": "[encoded data removed]",
      "text/plain": [
       "<Figure size 432x288 with 1 Axes>"
      ]
     },
     "metadata": {
      "needs_background": "light"
     },
     "output_type": "display_data"
    }
   ],
   "source": [
    "plt.plot(history.history['loss'], label='Train Loss', marker='o')\n",
    "plt.plot(history.history['val_loss'], label='Val Loss', marker='o')\n",
    "plt.title('training curve')\n",
    "plt.xlabel('Epochs')\n",
    "plt.ylabel('Loss')\n",
    "plt.legend()\n",
    "plt.grid(True)\n",
    "plt.show()"
   ]
  },
  {
   "cell_type": "code",
   "execution_count": 70,
   "id": "769a43e7",
   "metadata": {},
   "outputs": [
    {
     "data": {
      "image/png": "[encoded data removed]",
      "text/plain": [
       "<Figure size 432x288 with 1 Axes>"
      ]
     },
     "metadata": {
      "needs_background": "light"
     },
     "output_type": "display_data"
    }
   ],
   "source": [
    "plt.plot(history.history['accuracy'], label='Train Accuracy', marker='o')\n",
    "plt.plot(history.history['val_accuracy'], label='Val Accuracy', marker='o')\n",
    "plt.title('training curve')\n",
    "plt.xlabel('Epochs')\n",
    "plt.ylabel('Accuracy')\n",
    "plt.legend()\n",
    "plt.grid(True)\n",
    "plt.show()"
   ]
  },
  {
   "cell_type": "code",
   "execution_count": 71,
   "id": "bc75a2ad",
   "metadata": {
    "scrolled": true
   },
   "outputs": [
    {
     "name": "stdout",
     "output_type": "stream",
     "text": [
      "10/10 - 1s - loss: 3.3131 - accuracy: 0.6367\n",
      "test_loss: 3.313122510910034\n",
      "test_accuracy: 0.6366666555404663\n",
      "model.predict() 결과 :  [9.9999905e-01 2.2908949e-07 6.7289182e-07]\n",
      "model이 추론한 가장 가능성이 높은 결과 :  0\n",
      "실제 데이터의 라벨 :  0\n"
     ]
    }
   ],
   "source": [
    "test_loss, test_accuracy = model.evaluate(x_test_norm,y_test, verbose=2)\n",
    "print(f\"test_loss: {test_loss}\")\n",
    "print(f\"test_accuracy: {test_accuracy}\")\n",
    "\n",
    "predicted_result = model.predict(x_test_norm)  # model이 추론한 확률값. \n",
    "predicted_labels = np.argmax(predicted_result, axis=1)\n",
    "\n",
    "idx=0  #1번째 x_test를 살펴보자. \n",
    "print('model.predict() 결과 : ', predicted_result[idx])\n",
    "print('model이 추론한 가장 가능성이 높은 결과 : ', predicted_labels[idx])\n",
    "print('실제 데이터의 라벨 : ', y_test[idx])"
   ]
  },
  {
   "cell_type": "markdown",
   "id": "cd2851ec",
   "metadata": {},
   "source": [
    "### 시각화 및 정확도 결과\n",
    "- loss, accuracy가 마지막에 튀면서 test accuracy가 66에서 63으로 소폭 감소\n",
    "- layer 추가하여 총 7개 층으로 다시 모델링"
   ]
  },
  {
   "cell_type": "code",
   "execution_count": 72,
   "id": "1c0a8955",
   "metadata": {},
   "outputs": [
    {
     "name": "stdout",
     "output_type": "stream",
     "text": [
      "Model에 추가된 Layer 개수:  21\n",
      "Model: \"sequential_5\"\n",
      "_________________________________________________________________\n",
      "Layer (type)                 Output Shape              Param #   \n",
      "=================================================================\n",
      "conv2d_21 (Conv2D)           (None, 28, 28, 16)        448       \n",
      "_________________________________________________________________\n",
      "batch_normalization_21 (Batc (None, 28, 28, 16)        64        \n",
      "_________________________________________________________________\n",
      "conv2d_22 (Conv2D)           (None, 28, 28, 32)        4640      \n",
      "_________________________________________________________________\n",
      "batch_normalization_22 (Batc (None, 28, 28, 32)        128       \n",
      "_________________________________________________________________\n",
      "conv2d_23 (Conv2D)           (None, 28, 28, 64)        18496     \n",
      "_________________________________________________________________\n",
      "batch_normalization_23 (Batc (None, 28, 28, 64)        256       \n",
      "_________________________________________________________________\n",
      "max_pooling2d_16 (MaxPooling (None, 14, 14, 64)        0         \n",
      "_________________________________________________________________\n",
      "conv2d_24 (Conv2D)           (None, 14, 14, 64)        36928     \n",
      "_________________________________________________________________\n",
      "batch_normalization_24 (Batc (None, 14, 14, 64)        256       \n",
      "_________________________________________________________________\n",
      "conv2d_25 (Conv2D)           (None, 14, 14, 96)        55392     \n",
      "_________________________________________________________________\n",
      "batch_normalization_25 (Batc (None, 14, 14, 96)        384       \n",
      "_________________________________________________________________\n",
      "max_pooling2d_17 (MaxPooling (None, 7, 7, 96)          0         \n",
      "_________________________________________________________________\n",
      "conv2d_26 (Conv2D)           (None, 7, 7, 64)          55360     \n",
      "_________________________________________________________________\n",
      "batch_normalization_26 (Batc (None, 7, 7, 64)          256       \n",
      "_________________________________________________________________\n",
      "conv2d_27 (Conv2D)           (None, 7, 7, 32)          18464     \n",
      "_________________________________________________________________\n",
      "batch_normalization_27 (Batc (None, 7, 7, 32)          128       \n",
      "_________________________________________________________________\n",
      "max_pooling2d_18 (MaxPooling (None, 3, 3, 32)          0         \n",
      "_________________________________________________________________\n",
      "flatten_4 (Flatten)          (None, 288)               0         \n",
      "_________________________________________________________________\n",
      "dense_8 (Dense)              (None, 32)                9248      \n",
      "_________________________________________________________________\n",
      "dropout_4 (Dropout)          (None, 32)                0         \n",
      "_________________________________________________________________\n",
      "dense_9 (Dense)              (None, 3)                 99        \n",
      "=================================================================\n",
      "Total params: 200,547\n",
      "Trainable params: 199,811\n",
      "Non-trainable params: 736\n",
      "_________________________________________________________________\n"
     ]
    }
   ],
   "source": [
    "import tensorflow as tf\n",
    "from tensorflow import keras\n",
    "import numpy as np\n",
    "from tensorflow.keras.layers import BatchNormalization, Dropout\n",
    "from tensorflow.keras import optimizers\n",
    "\n",
    "model=keras.models.Sequential()\n",
    "model.add(keras.layers.Conv2D(input_shape=(28,28,3), filters=16, kernel_size=(3,3), strides=(1,1), activation='relu', padding='same', kernel_initializer='he_normal'))\n",
    "model.add(BatchNormalization())\n",
    "model.add(keras.layers.Conv2D(input_shape=(28,28,3), filters=32, kernel_size=(3,3), strides=(1,1), activation='relu', padding='same', kernel_initializer='he_normal'))\n",
    "model.add(BatchNormalization())\n",
    "model.add(keras.layers.Conv2D(input_shape=(28,28,3), filters=64, kernel_size=(3,3), strides=(1,1), activation='relu', padding='same', kernel_initializer='he_normal'))\n",
    "model.add(BatchNormalization())\n",
    "model.add(keras.layers.MaxPool2D(2,2))\n",
    "model.add(keras.layers.Conv2D(input_shape=(28,28,3), filters=64, kernel_size=(3,3), strides=(1,1), activation='relu', padding='same', kernel_initializer='he_normal'))\n",
    "model.add(BatchNormalization())\n",
    "model.add(keras.layers.Conv2D(input_shape=(28,28,3), filters=96, kernel_size=(3,3), strides=(1,1), activation='relu', padding='same', kernel_initializer='he_normal'))\n",
    "model.add(BatchNormalization())\n",
    "model.add(keras.layers.MaxPool2D(2,2))\n",
    "model.add(keras.layers.Conv2D(input_shape=(28,28,3), filters=64, kernel_size=(3,3), strides=(1,1), activation='relu', padding='same', kernel_initializer='he_normal'))\n",
    "model.add(BatchNormalization())\n",
    "model.add(keras.layers.Conv2D(input_shape=(28,28,3), filters=32, kernel_size=(3,3), strides=(1,1), activation='relu', padding='same', kernel_initializer='he_normal'))\n",
    "model.add(BatchNormalization())\n",
    "model.add(keras.layers.MaxPool2D(2,2))\n",
    "model.add(keras.layers.Flatten())\n",
    "model.add(keras.layers.Dense(32, activation='relu', kernel_initializer='he_normal'))\n",
    "model.add(Dropout(0.5))\n",
    "model.add(keras.layers.Dense(3, activation='softmax', kernel_initializer='he_normal'))\n",
    "          \n",
    "print('Model에 추가된 Layer 개수: ', len(model.layers))\n",
    "\n",
    "model.summary()"
   ]
  },
  {
   "cell_type": "code",
   "execution_count": 73,
   "id": "aeb2b1c1",
   "metadata": {},
   "outputs": [],
   "source": [
    "learning_rate = 0.00001\n",
    "adam = optimizers.Adam(learning_rate = learning_rate)\n",
    "model.compile(loss = 'sparse_categorical_crossentropy', optimizer = 'adam', metrics = ['accuracy'])"
   ]
  },
  {
   "cell_type": "markdown",
   "id": "e80047b1",
   "metadata": {},
   "source": [
    "### 모델 층을 키운 만큼 배치 사이즈 64 -> 128, 에폭 30 -> 40으로 조정"
   ]
  },
  {
   "cell_type": "code",
   "execution_count": 75,
   "id": "219ee4c3",
   "metadata": {},
   "outputs": [
    {
     "name": "stdout",
     "output_type": "stream",
     "text": [
      "Epoch 1/40\n",
      "29/29 [==============================] - 40s 1s/step - loss: 0.0765 - accuracy: 0.9736 - val_loss: 2.0647 - val_accuracy: 0.3527\n",
      "Epoch 2/40\n",
      "29/29 [==============================] - 40s 1s/step - loss: 0.0557 - accuracy: 0.9822 - val_loss: 2.2169 - val_accuracy: 0.3527\n",
      "Epoch 3/40\n",
      "29/29 [==============================] - 40s 1s/step - loss: 0.0346 - accuracy: 0.9900 - val_loss: 3.3442 - val_accuracy: 0.3527\n",
      "Epoch 4/40\n",
      "29/29 [==============================] - 41s 1s/step - loss: 0.0188 - accuracy: 0.9947 - val_loss: 4.3048 - val_accuracy: 0.3527\n",
      "Epoch 5/40\n",
      "29/29 [==============================] - 40s 1s/step - loss: 0.0126 - accuracy: 0.9961 - val_loss: 5.1030 - val_accuracy: 0.3527\n",
      "Epoch 6/40\n",
      "29/29 [==============================] - 41s 1s/step - loss: 0.0168 - accuracy: 0.9947 - val_loss: 6.6406 - val_accuracy: 0.3527\n",
      "Epoch 7/40\n",
      "29/29 [==============================] - 41s 1s/step - loss: 0.0122 - accuracy: 0.9947 - val_loss: 6.3540 - val_accuracy: 0.3545\n",
      "Epoch 8/40\n",
      "29/29 [==============================] - 41s 1s/step - loss: 0.0106 - accuracy: 0.9969 - val_loss: 4.1110 - val_accuracy: 0.4321\n",
      "Epoch 9/40\n",
      "29/29 [==============================] - 41s 1s/step - loss: 0.0076 - accuracy: 0.9972 - val_loss: 3.4844 - val_accuracy: 0.5115\n",
      "Epoch 10/40\n",
      "29/29 [==============================] - 41s 1s/step - loss: 0.0076 - accuracy: 0.9967 - val_loss: 2.6033 - val_accuracy: 0.6314\n",
      "Epoch 11/40\n",
      "29/29 [==============================] - 40s 1s/step - loss: 0.0062 - accuracy: 0.9978 - val_loss: 2.1003 - val_accuracy: 0.6737\n",
      "Epoch 12/40\n",
      "29/29 [==============================] - 40s 1s/step - loss: 0.0071 - accuracy: 0.9961 - val_loss: 1.4818 - val_accuracy: 0.7407\n",
      "Epoch 13/40\n",
      "29/29 [==============================] - 41s 1s/step - loss: 0.0043 - accuracy: 0.9989 - val_loss: 1.4510 - val_accuracy: 0.7672\n",
      "Epoch 14/40\n",
      "29/29 [==============================] - 41s 1s/step - loss: 0.0128 - accuracy: 0.9944 - val_loss: 1.0654 - val_accuracy: 0.7725\n",
      "Epoch 15/40\n",
      "29/29 [==============================] - 41s 1s/step - loss: 0.0137 - accuracy: 0.9964 - val_loss: 0.9913 - val_accuracy: 0.8272\n",
      "Epoch 16/40\n",
      "29/29 [==============================] - 41s 1s/step - loss: 0.0100 - accuracy: 0.9967 - val_loss: 0.9217 - val_accuracy: 0.8060\n",
      "Epoch 17/40\n",
      "29/29 [==============================] - 41s 1s/step - loss: 0.0230 - accuracy: 0.9911 - val_loss: 0.3813 - val_accuracy: 0.9224\n",
      "Epoch 18/40\n",
      "29/29 [==============================] - 41s 1s/step - loss: 0.0150 - accuracy: 0.9953 - val_loss: 0.4368 - val_accuracy: 0.8907\n",
      "Epoch 19/40\n",
      "29/29 [==============================] - 41s 1s/step - loss: 0.0126 - accuracy: 0.9975 - val_loss: 0.5426 - val_accuracy: 0.9065\n",
      "Epoch 20/40\n",
      "29/29 [==============================] - 41s 1s/step - loss: 0.0086 - accuracy: 0.9956 - val_loss: 0.3131 - val_accuracy: 0.9206\n",
      "Epoch 21/40\n",
      "29/29 [==============================] - 40s 1s/step - loss: 0.0058 - accuracy: 0.9983 - val_loss: 0.2893 - val_accuracy: 0.9330\n",
      "Epoch 22/40\n",
      "29/29 [==============================] - 41s 1s/step - loss: 0.0038 - accuracy: 0.9989 - val_loss: 0.3288 - val_accuracy: 0.9347\n",
      "Epoch 23/40\n",
      "29/29 [==============================] - 41s 1s/step - loss: 0.0043 - accuracy: 0.9983 - val_loss: 0.5362 - val_accuracy: 0.9012\n",
      "Epoch 24/40\n",
      "29/29 [==============================] - 41s 1s/step - loss: 0.0044 - accuracy: 0.9975 - val_loss: 0.1521 - val_accuracy: 0.9541\n",
      "Epoch 25/40\n",
      "29/29 [==============================] - 41s 1s/step - loss: 0.0027 - accuracy: 0.9994 - val_loss: 0.1913 - val_accuracy: 0.9594\n",
      "Epoch 26/40\n",
      "29/29 [==============================] - 41s 1s/step - loss: 0.0028 - accuracy: 0.9989 - val_loss: 0.2393 - val_accuracy: 0.9489\n",
      "Epoch 27/40\n",
      "29/29 [==============================] - 42s 1s/step - loss: 0.0028 - accuracy: 0.9986 - val_loss: 0.2473 - val_accuracy: 0.9453\n",
      "Epoch 28/40\n",
      "29/29 [==============================] - 42s 1s/step - loss: 0.0021 - accuracy: 0.9994 - val_loss: 0.2287 - val_accuracy: 0.9559\n",
      "Epoch 29/40\n",
      "29/29 [==============================] - 41s 1s/step - loss: 0.0028 - accuracy: 0.9986 - val_loss: 0.3386 - val_accuracy: 0.9365\n",
      "Epoch 30/40\n",
      "29/29 [==============================] - 41s 1s/step - loss: 0.0019 - accuracy: 0.9994 - val_loss: 0.2530 - val_accuracy: 0.9524\n",
      "Epoch 31/40\n",
      "29/29 [==============================] - 41s 1s/step - loss: 0.0018 - accuracy: 0.9992 - val_loss: 0.2826 - val_accuracy: 0.9436\n",
      "Epoch 32/40\n",
      "29/29 [==============================] - 42s 1s/step - loss: 0.0014 - accuracy: 0.9992 - val_loss: 0.2509 - val_accuracy: 0.9506\n",
      "Epoch 33/40\n",
      "29/29 [==============================] - 42s 1s/step - loss: 0.0023 - accuracy: 0.9989 - val_loss: 0.2332 - val_accuracy: 0.9612\n",
      "Epoch 34/40\n",
      "29/29 [==============================] - 42s 1s/step - loss: 0.0016 - accuracy: 0.9994 - val_loss: 0.2527 - val_accuracy: 0.9541\n",
      "Epoch 35/40\n",
      "29/29 [==============================] - 41s 1s/step - loss: 0.0020 - accuracy: 0.9992 - val_loss: 0.4164 - val_accuracy: 0.9330\n",
      "Epoch 36/40\n",
      "29/29 [==============================] - 41s 1s/step - loss: 0.0022 - accuracy: 0.9989 - val_loss: 0.2763 - val_accuracy: 0.9453\n",
      "Epoch 37/40\n",
      "29/29 [==============================] - 41s 1s/step - loss: 0.0018 - accuracy: 0.9992 - val_loss: 0.4551 - val_accuracy: 0.9400\n",
      "Epoch 38/40\n",
      "29/29 [==============================] - 41s 1s/step - loss: 0.0028 - accuracy: 0.9981 - val_loss: 0.3470 - val_accuracy: 0.9312\n",
      "Epoch 39/40\n",
      "29/29 [==============================] - 41s 1s/step - loss: 0.0013 - accuracy: 0.9997 - val_loss: 0.3666 - val_accuracy: 0.9347\n",
      "Epoch 40/40\n",
      "29/29 [==============================] - 41s 1s/step - loss: 0.0021 - accuracy: 0.9992 - val_loss: 0.4125 - val_accuracy: 0.9330\n"
     ]
    }
   ],
   "source": [
    "history = model.fit(x_train_norm, y_train, batch_size = 128, validation_data=(x_valid_norm, y_valid), epochs = 40, workers=4, verbose = 1)"
   ]
  },
  {
   "cell_type": "code",
   "execution_count": 76,
   "id": "1bba8c17",
   "metadata": {},
   "outputs": [
    {
     "data": {
      "image/png": "[encoded data removed]",
      "text/plain": [
       "<Figure size 432x288 with 1 Axes>"
      ]
     },
     "metadata": {
      "needs_background": "light"
     },
     "output_type": "display_data"
    }
   ],
   "source": [
    "plt.plot(history.history['loss'], label='Train Loss', marker='o')\n",
    "plt.plot(history.history['val_loss'], label='Val Loss', marker='o')\n",
    "plt.title('training curve')\n",
    "plt.xlabel('Epochs')\n",
    "plt.ylabel('Loss')\n",
    "plt.legend()\n",
    "plt.grid(True)\n",
    "plt.show()"
   ]
  },
  {
   "cell_type": "code",
   "execution_count": 77,
   "id": "c0e228af",
   "metadata": {},
   "outputs": [
    {
     "data": {
      "image/png": "[encoded data removed]",
      "text/plain": [
       "<Figure size 432x288 with 1 Axes>"
      ]
     },
     "metadata": {
      "needs_background": "light"
     },
     "output_type": "display_data"
    }
   ],
   "source": [
    "plt.plot(history.history['accuracy'], label='Train Accuracy', marker='o')\n",
    "plt.plot(history.history['val_accuracy'], label='Val Accuracy', marker='o')\n",
    "plt.title('training curve')\n",
    "plt.xlabel('Epochs')\n",
    "plt.ylabel('Accuracy')\n",
    "plt.legend()\n",
    "plt.grid(True)\n",
    "plt.show()"
   ]
  },
  {
   "cell_type": "code",
   "execution_count": 81,
   "id": "13d7147f",
   "metadata": {},
   "outputs": [
    {
     "name": "stdout",
     "output_type": "stream",
     "text": [
      "10/10 - 1s - loss: 12.1589 - accuracy: 0.3333\n",
      "test_loss: 12.158921241760254\n",
      "test_accuracy: 0.3333333432674408\n",
      "model.predict() 결과 :  [8.587555e-08 9.999999e-01 1.588253e-08]\n",
      "model이 추론한 가장 가능성이 높은 결과 :  1\n",
      "실제 데이터의 라벨 :  0\n"
     ]
    }
   ],
   "source": [
    "test_loss, test_accuracy = model.evaluate(x_test_norm,y_test, verbose=2)\n",
    "print(f\"test_loss: {test_loss}\")\n",
    "print(f\"test_accuracy: {test_accuracy}\")\n",
    "\n",
    "predicted_result = model.predict(x_test_norm)  # model이 추론한 확률값. \n",
    "predicted_labels = np.argmax(predicted_result, axis=1)\n",
    "\n",
    "idx=0  #1번째 x_test를 살펴보자. \n",
    "print('model.predict() 결과 : ', predicted_result[idx])\n",
    "print('model이 추론한 가장 가능성이 높은 결과 : ', predicted_labels[idx])\n",
    "print('실제 데이터의 라벨 : ', y_test[idx])"
   ]
  },
  {
   "cell_type": "code",
   "execution_count": 80,
   "id": "ed8ac71d",
   "metadata": {},
   "outputs": [
    {
     "name": "stdout",
     "output_type": "stream",
     "text": [
      "18/18 - 1s - loss: 0.4125 - accuracy: 0.9330\n",
      "test_loss: 0.41246622800827026\n",
      "test_accuracy: 0.9329805970191956\n",
      "model.predict() 결과 :  [8.587555e-08 9.999999e-01 1.588253e-08]\n",
      "model이 추론한 가장 가능성이 높은 결과 :  1\n",
      "실제 데이터의 라벨 :  0\n"
     ]
    }
   ],
   "source": [
    "test_loss, test_accuracy = model.evaluate(x_valid_norm,y_valid, verbose=2)\n",
    "print(f\"test_loss: {test_loss}\")\n",
    "print(f\"test_accuracy: {test_accuracy}\")\n",
    "\n",
    "predicted_result = model.predict(x_test_norm)  # model이 추론한 확률값. \n",
    "predicted_labels = np.argmax(predicted_result, axis=1)\n",
    "\n",
    "idx=0  #1번째 x_test를 살펴보자. \n",
    "print('model.predict() 결과 : ', predicted_result[idx])\n",
    "print('model이 추론한 가장 가능성이 높은 결과 : ', predicted_labels[idx])\n",
    "print('실제 데이터의 라벨 : ', y_test[idx])"
   ]
  },
  {
   "cell_type": "markdown",
   "id": "cf6b51c4",
   "metadata": {},
   "source": [
    "### 시각화 및 정확도 결과\n",
    "- test accuracy는 33으로 하락\n",
    "- validation accuracy는 93으로 높은 수준을 보여줌  \n",
    "- 사용한 test data를 확인해보니 모든 사진이 거의 똑같은 형태라 test data를 교체해보기로 함."
   ]
  },
  {
   "cell_type": "markdown",
   "id": "2fda44b6",
   "metadata": {},
   "source": [
    "### test data 교체"
   ]
  },
  {
   "cell_type": "code",
   "execution_count": 82,
   "id": "1ddea806",
   "metadata": {},
   "outputs": [
    {
     "name": "stdout",
     "output_type": "stream",
     "text": [
      "1200  images resized.\n",
      "1200  images resized.\n",
      "가위 이미지 resize 완료!\n",
      "1200  images resized.\n",
      "1200  images resized.\n",
      "바위 이미지 resize 완료!\n",
      "1200  images resized.\n",
      "1200  images resized.\n",
      "보 이미지 resize 완료!\n",
      "167  images resized.\n",
      "167  images resized.\n",
      "가위 이미지 resize 완료!\n",
      "200  images resized.\n",
      "200  images resized.\n",
      "바위 이미지 resize 완료!\n",
      "200  images resized.\n",
      "200  images resized.\n",
      "보 이미지 resize 완료!\n",
      "100  images resized.\n",
      "100  images resized.\n",
      "가위 이미지 resize 완료!\n",
      "100  images resized.\n",
      "100  images resized.\n",
      "바위 이미지 resize 완료!\n",
      "100  images resized.\n",
      "100  images resized.\n",
      "보 이미지 resize 완료!\n"
     ]
    }
   ],
   "source": [
    "# 이미지 사이즈 224x224에서 28x28로 변경하기\n",
    "\n",
    "def resize_images(img_path):\n",
    "    images=glob.glob(img_path + \"/*.jpg\")\n",
    "    \n",
    "    print(len(images), \" images resized.\")\n",
    "    \n",
    "    # 파일마다 모두 28x28 사이즈로 바꾸어 저장\n",
    "    target_size=(28,28)\n",
    "    for img in images:\n",
    "        old_img=Image.open(img)\n",
    "        new_img=old_img.resize(target_size,Image.ANTIALIAS)\n",
    "        new_img.save(img, \"JPEG\")\n",
    "        \n",
    "    print(len(images), \" images resized.\")\n",
    "    \n",
    "# 가위 이미지가 저장된 디렉토리 아래의 모든 jpg 파일을 읽어들여서\n",
    "image_dir_path = os.getenv(\"HOME\") + \"/aiffel/rock_scissor_paper/scissor3\"\n",
    "resize_images(image_dir_path)\n",
    "\n",
    "print(\"가위 이미지 resize 완료!\")\n",
    "\n",
    "\n",
    "# 바위 이미지가 저장된 디렉토리 아래의 모든 jpg 파일을 읽어들여서 28x28 사이즈로 변경\n",
    "image_dir_path = os.getenv(\"HOME\") + \"/aiffel/rock_scissor_paper/rock3\"\n",
    "resize_images(image_dir_path)\n",
    "\n",
    "print(\"바위 이미지 resize 완료!\")\n",
    "\n",
    "\n",
    "# 보 이미지가 저장된 디렉토리 아래의 모든 jpg 파일을 읽어들여서 28x28 사이즈로 변경\n",
    "image_dir_path = os.getenv(\"HOME\") + \"/aiffel/rock_scissor_paper/paper3\"\n",
    "resize_images(image_dir_path)\n",
    "\n",
    "print(\"보 이미지 resize 완료!\")\n",
    "\n",
    "# 가위 이미지가 저장된 디렉토리 아래의 모든 jpg 파일을 읽어들여서\n",
    "image_dir_path = os.getenv(\"HOME\") + \"/aiffel/rock_scissor_paper/validation/scissor3\"\n",
    "resize_images(image_dir_path)\n",
    "\n",
    "print(\"가위 이미지 resize 완료!\")\n",
    "\n",
    "\n",
    "# 바위 이미지가 저장된 디렉토리 아래의 모든 jpg 파일을 읽어들여서 28x28 사이즈로 변경\n",
    "image_dir_path = os.getenv(\"HOME\") + \"/aiffel/rock_scissor_paper/validation/rock3\"\n",
    "resize_images(image_dir_path)\n",
    "\n",
    "print(\"바위 이미지 resize 완료!\")\n",
    "\n",
    "\n",
    "# 보 이미지가 저장된 디렉토리 아래의 모든 jpg 파일을 읽어들여서 28x28 사이즈로 변경\n",
    "image_dir_path = os.getenv(\"HOME\") + \"/aiffel/rock_scissor_paper/validation/paper3\"\n",
    "resize_images(image_dir_path)\n",
    "\n",
    "print(\"보 이미지 resize 완료!\")\n",
    "\n",
    "# 가위 이미지가 저장된 디렉토리 아래의 모든 jpg 파일을 읽어들여서\n",
    "image_dir_path = os.getenv(\"HOME\") + \"/aiffel/rock_scissor_paper/test2/scissor\"\n",
    "resize_images(image_dir_path)\n",
    "\n",
    "print(\"가위 이미지 resize 완료!\")\n",
    "\n",
    "\n",
    "# 바위 이미지가 저장된 디렉토리 아래의 모든 jpg 파일을 읽어들여서 28x28 사이즈로 변경\n",
    "image_dir_path = os.getenv(\"HOME\") + \"/aiffel/rock_scissor_paper/test2/rock\"\n",
    "resize_images(image_dir_path)\n",
    "\n",
    "print(\"바위 이미지 resize 완료!\")\n",
    "\n",
    "\n",
    "# 보 이미지가 저장된 디렉토리 아래의 모든 jpg 파일을 읽어들여서 28x28 사이즈로 변경\n",
    "image_dir_path = os.getenv(\"HOME\") + \"/aiffel/rock_scissor_paper/test2/paper\"\n",
    "resize_images(image_dir_path)\n",
    "\n",
    "print(\"보 이미지 resize 완료!\")"
   ]
  },
  {
   "cell_type": "code",
   "execution_count": 83,
   "id": "af7667a0",
   "metadata": {},
   "outputs": [
    {
     "name": "stdout",
     "output_type": "stream",
     "text": [
      "테스트 데이터(x_test)의 이미지 개수는 300 입니다.\n",
      "x_test shape: (300, 28, 28, 3)\n",
      "y_test shape: (300,)\n",
      "라벨:  0\n"
     ]
    },
    {
     "data": {
      "image/png": "[encoded data removed]",
      "text/plain": [
       "<Figure size 432x288 with 1 Axes>"
      ]
     },
     "metadata": {
      "needs_background": "light"
     },
     "output_type": "display_data"
    }
   ],
   "source": [
    "# x_test, y_test 만들기\n",
    "\n",
    "import numpy as np\n",
    "\n",
    "def load_data(img_path, number_of_data=300):  # 가위바위보 이미지 개수 총합에 주의하세요.\n",
    "    # 가위 : 0, 바위 : 1, 보 : 2\n",
    "    img_size=28\n",
    "    color=3\n",
    "    #이미지 데이터와 라벨(가위 : 0, 바위 : 1, 보 : 2) 데이터를 담을 행렬(matrix) 영역을 생성합니다.\n",
    "    imgs=np.zeros(number_of_data*img_size*img_size*color,dtype=np.int32).reshape(number_of_data,img_size,img_size,color)\n",
    "    labels=np.zeros(number_of_data,dtype=np.int32)\n",
    "\n",
    "    idx=0\n",
    "    for file in glob.iglob(img_path+'/scissor/*.jpg'):\n",
    "        img = np.array(Image.open(file),dtype=np.int32)\n",
    "        imgs[idx,:,:,:]=img    # 데이터 영역에 이미지 행렬을 복사\n",
    "        labels[idx]=0   # 가위 : 0\n",
    "        idx=idx+1\n",
    "\n",
    "    for file in glob.iglob(img_path+'/rock/*.jpg'):\n",
    "        img = np.array(Image.open(file),dtype=np.int32)\n",
    "        imgs[idx,:,:,:]=img    # 데이터 영역에 이미지 행렬을 복사\n",
    "        labels[idx]=1   # 바위 : 1\n",
    "        idx=idx+1  \n",
    "    \n",
    "    for file in glob.iglob(img_path+'/paper/*.jpg'):\n",
    "        img = np.array(Image.open(file),dtype=np.int32)\n",
    "        imgs[idx,:,:,:]=img    # 데이터 영역에 이미지 행렬을 복사\n",
    "        labels[idx]=2   # 보 : 2\n",
    "        idx=idx+1\n",
    "        \n",
    "    print(\"테스트 데이터(x_test)의 이미지 개수는\", idx,\"입니다.\")\n",
    "    return imgs, labels\n",
    "\n",
    "image_dir_path = os.getenv(\"HOME\") + \"/aiffel/rock_scissor_paper/test2\"\n",
    "(x_test, y_test)=load_data(image_dir_path)\n",
    "x_test_norm = x_test/255.0   # 입력은 0~1 사이의 값으로 정규화\n",
    "\n",
    "print(\"x_test shape: {}\".format(x_test.shape))\n",
    "print(\"y_test shape: {}\".format(y_test.shape))\n",
    "\n",
    "# 이미지 불러오기\n",
    "import matplotlib.pyplot as plt\n",
    "\n",
    "plt.imshow(x_test[0])\n",
    "print('라벨: ', y_test[0])"
   ]
  },
  {
   "cell_type": "code",
   "execution_count": 84,
   "id": "083a4ecd",
   "metadata": {},
   "outputs": [
    {
     "name": "stdout",
     "output_type": "stream",
     "text": [
      "10/10 - 1s - loss: 9.7349 - accuracy: 0.1667\n",
      "test_loss: 9.734923362731934\n",
      "test_accuracy: 0.1666666716337204\n",
      "model.predict() 결과 :  [9.9987364e-01 1.9555010e-07 1.2607695e-04]\n",
      "model이 추론한 가장 가능성이 높은 결과 :  0\n",
      "실제 데이터의 라벨 :  0\n"
     ]
    }
   ],
   "source": [
    "test_loss, test_accuracy = model.evaluate(x_test_norm,y_test, verbose=2)\n",
    "print(f\"test_loss: {test_loss}\")\n",
    "print(f\"test_accuracy: {test_accuracy}\")\n",
    "\n",
    "predicted_result = model.predict(x_test_norm)  # model이 추론한 확률값. \n",
    "predicted_labels = np.argmax(predicted_result, axis=1)\n",
    "\n",
    "idx=0  #1번째 x_test를 살펴보자. \n",
    "print('model.predict() 결과 : ', predicted_result[idx])\n",
    "print('model이 추론한 가장 가능성이 높은 결과 : ', predicted_labels[idx])\n",
    "print('실제 데이터의 라벨 : ', y_test[idx])"
   ]
  },
  {
   "cell_type": "markdown",
   "id": "8d0d4750",
   "metadata": {},
   "source": [
    "## 정확도 결과 및 차후 개선사항\n",
    "test accuracy가 개선되지 않는 것으로 보아\n",
    "- train data의 이미지들을 다양하게 교체해보기로 (그루분들의 데이터를 모두 섞는 등)\n",
    "    - 모델 층 1~2개 추가\n",
    "    - 에폭 많이 늘려서 다시 돌려보기"
   ]
  },
  {
   "cell_type": "markdown",
   "id": "c5616754",
   "metadata": {},
   "source": [
    "---\n",
    "## 6. 회고\n",
    "### KEEP\n",
    "- 추상적으로만 느껴졌던 (모델을 만들고 학습, 검증하는) 과정들이 처음으로 와닿아 신기했다.\n",
    "- 스스로 고민해봐야 한다는 생각에 도움 요청을 지양했지만, 처음 배우는 단계에서는 적극적으로 도움을 요청하여 설명을 듣는 것도 좋은 방법이라는 것을 알았다.\n",
    "- accuracy 결과만 생각했었는데 모델 지표인 validation loss도 함께 보는 것이 중요하다는 것을 알게 되었다.  \n",
    " \n",
    "\n",
    "### PROBLEM\n",
    "- 정확도가 66까지 올라갔다가 다시 하락하는 상황이 발생하였다.\n",
    "- train, test data의 결과값이 널뛰는 것을 보며 데이터 전처리의 중요성을 절실히 느꼈다.\n",
    "    - 깨끗한 배경, 대상이 잘 보이게 나온 사진 등\n",
    "    - train, validation, test 데이터 모두 다양한 사진으로 구성하기 (너무 같은 사진만 많으면 모델 생성, 학습, 성능에 악영향을 미침)\n",
    "    - 모델의 규모에 따라 다르겠지만 dataset이 생각 이상으로 많아야 한다는 점\n",
    "    - 데이터 전처리가 8할이다!!\n",
    "\n",
    "### TRY\n",
    "- dataset을 다양하게 구성하여 정확도 85이상으로 올려보기!"
   ]
  }
 ],
 "metadata": {
  "kernelspec": {
   "display_name": "Python 3 (ipykernel)",
   "language": "python",
   "name": "python3"
  },
  "language_info": {
   "codemirror_mode": {
    "name": "ipython",
    "version": 3
   },
   "file_extension": ".py",
   "mimetype": "text/x-python",
   "name": "python",
   "nbconvert_exporter": "python",
   "pygments_lexer": "ipython3",
   "version": "3.9.7"
  }
 },
 "nbformat": 4,
 "nbformat_minor": 5
}
