{
  "nbformat": 4,
  "nbformat_minor": 0,
  "metadata": {
    "colab": {
      "provenance": [],
      "authorship_tag": "ABX9TyNlUf8rZ3Wb4U/Ho82BupUh",
      "include_colab_link": true
    },
    "kernelspec": {
      "name": "python3",
      "display_name": "Python 3"
    },
    "language_info": {
      "name": "python"
    }
  },
  "cells": [
    {
      "cell_type": "markdown",
      "metadata": {
        "id": "view-in-github",
        "colab_type": "text"
      },
      "source": [
        "<a href=\"https://colab.research.google.com/github/ImOWJ/AIFFEL_Online_Quest/blob/main/MainQuest1/MainQuest1.ipynb\" target=\"_parent\"><img src=\"https://colab.research.google.com/assets/colab-badge.svg\" alt=\"Open In Colab\"/></a>"
      ]
    },
    {
      "cell_type": "code",
      "source": [
        "import random as r\n",
        "import math as m\n",
        "import datetime as date\n",
        "customList = []\n",
        "\n",
        "def eja(money):\n",
        "    eja = money * 0.01\n",
        "    result = m.floor(money + eja)\n",
        "    return result\n",
        "\n",
        "class Account:\n",
        "    counter = 0\n",
        "\n",
        "    def __init__(self):\n",
        "      self.log = {}\n",
        "      self.log[date.datetime.now().strftime(\"%Y-%m-%d %H:%M:%S\")] = \"Init\"\n",
        "      print(type(self.log))\n",
        "      ran_num = [\"0\", \"0\", \"0\",\"0\",\"0\",\"0\",\"0\",\"0\",\"0\",\"0\",\"0\",\"0\",\"0\",\"0\"]\n",
        "      for i in range(14):\n",
        "        ran_num[i] = r.randrange(1,9,1)\n",
        "      ran_num[3]='-'\n",
        "      ran_num[7]='-'\n",
        "      self.account_num=\"\"\n",
        "      for i in range(14):\n",
        "        self.account_num += str(ran_num[i])\n",
        "      self.name=input(\"예금주 입력 : \")\n",
        "      self.cost=int(input(\"입금 금액 입력 : \"))\n",
        "      self.banknm = \"SC은행\"\n",
        "      self.depositCnt = 0\n",
        "      Account.counter += 1\n",
        "      customList.append(self)\n",
        "\n",
        "    def get_account_eja():\n",
        "        print(Account.counter)\n",
        "\n",
        "    def deposit(self, deposit):\n",
        "        if deposit > 0:\n",
        "            self.cost += deposit\n",
        "            self.depositCnt += 1\n",
        "            #이자\n",
        "            if self.depositCnt % 5 == 0:\n",
        "                self.cost = eja(self.cost)\n",
        "                print(\"이자가 입금되었습니다.\")\n",
        "            self.log[date.datetime.now().strftime(\"%Y-%m-%d %H:%M:%S\")] = \"Deposit\"\n",
        "        else:\n",
        "            print(\"0원이상 금액을 입력하세요\")\n",
        "\n",
        "    def withdraw(self, withdraw):\n",
        "        if withdraw > self.cost:\n",
        "            print(\"출금할 금액이 잔액보다 큽니다 현재잔액 : \", self.cost)\n",
        "        else:\n",
        "            self.cost -= withdraw\n",
        "            print(withdraw, \"원이 출금 완료 되었습니다.\")\n",
        "            self.log[date.datetime.now().strftime(\"%Y-%m-%d %H:%M:%S\")] = \"Withdraw\"\n",
        "\n",
        "    def display_info(self):\n",
        "        print(\"은행이름 : \",self.banknm)\n",
        "        print(\"예금주 : \",self.name)\n",
        "        print(\"계좌번호 : \", self.account_num)\n",
        "        print(format(self.cost,','))\n",
        "\n",
        "    def deposit_history(self):\n",
        "        for key, value in self.log.items():\n",
        "            keys = []\n",
        "            if value == \"Deposit\":\n",
        "                keys.append(key)\n",
        "            print(keys)\n",
        "\n",
        "    def withdraw_history(self):\n",
        "        for key, value in self.log.items():\n",
        "            if value == \"Withdraw\":\n",
        "                print(key)\n",
        "\n",
        "def milionPrint(customList):\n",
        "    for i in customList:\n",
        "       if i.cost > 1000000:\n",
        "          i.display_info()\n",
        "\n",
        "\n",
        "custom_1 = Account()\n",
        "print(custom_1.depositCnt)\n",
        "\n",
        "print(custom_1.banknm,custom_1.name,custom_1.account_num,custom_1.cost)\n",
        "Account.get_account_eja()\n",
        "custom_1.deposit(-3)\n",
        "print(custom_1.cost)\n",
        "custom_1.withdraw(10000000000)\n",
        "print(custom_1.cost)\n",
        "custom_1.display_info()\n",
        "custom_1.deposit(10000)\n",
        "print(custom_1.depositCnt)\n",
        "custom_1.display_info()\n",
        "custom_1.deposit(40000)\n",
        "custom_1.display_info()\n",
        "custom_1.deposit(1000000)\n",
        "custom_1.display_info()\n",
        "custom_1.deposit(10000)\n",
        "custom_1.display_info()\n",
        "custom_1.deposit(20000)\n",
        "custom_1.display_info()\n",
        "custom_1.deposit(30000)\n",
        "custom_1.withdraw(10000)\n",
        "print(custom_1.depositCnt)\n",
        "custom_1.display_info()\n",
        "\n",
        "print(\"279\")\n",
        "milionPrint(customList)\n",
        "\n",
        "custom_1.deposit_history()\n",
        ""
      ],
      "metadata": {
        "colab": {
          "base_uri": "https://localhost:8080/"
        },
        "id": "V27eaujSFCQI",
        "outputId": "23146044-d50a-4853-92a7-0b22d7feea9a"
      },
      "execution_count": 19,
      "outputs": [
        {
          "output_type": "stream",
          "name": "stdout",
          "text": [
            "<class 'dict'>\n",
            "예금주 입력 : 오우진\n",
            "입금 금액 입력 : 100000\n",
            "0\n",
            "SC은행 오우진 256-155-655118 100000\n",
            "1\n",
            "0원이상 금액을 입력하세요\n",
            "100000\n",
            "출금할 금액이 잔액보다 큽니다 현재잔액 :  100000\n",
            "100000\n",
            "은행이름 :  SC은행\n",
            "예금주 :  오우진\n",
            "계좌번호 :  256-155-655118\n",
            "100,000\n",
            "1\n",
            "은행이름 :  SC은행\n",
            "예금주 :  오우진\n",
            "계좌번호 :  256-155-655118\n",
            "110,000\n",
            "은행이름 :  SC은행\n",
            "예금주 :  오우진\n",
            "계좌번호 :  256-155-655118\n",
            "120,000\n",
            "은행이름 :  SC은행\n",
            "예금주 :  오우진\n",
            "계좌번호 :  256-155-655118\n",
            "1,120,000\n",
            "은행이름 :  SC은행\n",
            "예금주 :  오우진\n",
            "계좌번호 :  256-155-655118\n",
            "1,130,000\n",
            "이자가 입금되었습니다.\n",
            "은행이름 :  SC은행\n",
            "예금주 :  오우진\n",
            "계좌번호 :  256-155-655118\n",
            "1,151,400\n",
            "10000 원이 출금 완료 되었습니다.\n",
            "6\n",
            "은행이름 :  SC은행\n",
            "예금주 :  오우진\n",
            "계좌번호 :  256-155-655118\n",
            "1,151,400\n",
            "279\n",
            "은행이름 :  SC은행\n",
            "예금주 :  오우진\n",
            "계좌번호 :  256-155-655118\n",
            "1,151,400\n",
            "[]\n",
            "[]\n",
            "2023-11-17 06:06:22\n"
          ]
        }
      ]
    },
    {
      "cell_type": "code",
      "source": [
        "custom_1.withdraw(100)\n",
        "custom_1.log"
      ],
      "metadata": {
        "colab": {
          "base_uri": "https://localhost:8080/"
        },
        "id": "L1kZoqZ3X2Wg",
        "outputId": "e24575b6-6381-45c6-860f-4db06df2d5df"
      },
      "execution_count": 20,
      "outputs": [
        {
          "output_type": "stream",
          "name": "stdout",
          "text": [
            "100 원이 출금 완료 되었습니다.\n"
          ]
        },
        {
          "output_type": "execute_result",
          "data": {
            "text/plain": [
              "{'2023-11-17 06:06:19': 'Init',\n",
              " '2023-11-17 06:06:22': 'Withdraw',\n",
              " '2023-11-17 06:07:17': 'Withdraw'}"
            ]
          },
          "metadata": {},
          "execution_count": 20
        }
      ]
    },
    {
      "cell_type": "code",
      "source": [
        "custom_1.deposit(100000)\n",
        "custom_1.deposit_history()\n",
        "custom_1.log"
      ],
      "metadata": {
        "colab": {
          "base_uri": "https://localhost:8080/"
        },
        "id": "M9oI1ys_5AbZ",
        "outputId": "7ca45d83-8474-49ea-b912-f9c9b41c350b"
      },
      "execution_count": 21,
      "outputs": [
        {
          "output_type": "stream",
          "name": "stdout",
          "text": [
            "[]\n",
            "[]\n",
            "[]\n",
            "['2023-11-17 06:07:50']\n"
          ]
        },
        {
          "output_type": "execute_result",
          "data": {
            "text/plain": [
              "{'2023-11-17 06:06:19': 'Init',\n",
              " '2023-11-17 06:06:22': 'Withdraw',\n",
              " '2023-11-17 06:07:17': 'Withdraw',\n",
              " '2023-11-17 06:07:50': 'Deposit'}"
            ]
          },
          "metadata": {},
          "execution_count": 21
        }
      ]
    },
    {
      "cell_type": "code",
      "source": [],
      "metadata": {
        "id": "jMWw3ZbO5IhC"
      },
      "execution_count": null,
      "outputs": []
    }
  ]
}