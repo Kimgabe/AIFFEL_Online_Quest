{
 "cells": [
  {
   "cell_type": "markdown",
   "id": "f76b9ddf",
   "metadata": {},
   "source": [
    "## 14-1. 프로젝트: 이제까지 만들었던 모델을 튜닝하고 배포하기!\n",
    "\n",
    "이번 프로젝트는 여러분들이 배운 프로젝트중에서 CIFAR10 프로젝트를 기반으로 데이터를 수정하고 하이퍼파라미터 튜닝을 한 다음 배포하는 미션입니다!"
   ]
  },
  {
   "cell_type": "code",
   "execution_count": 1,
   "id": "7f7edbbe",
   "metadata": {},
   "outputs": [
    {
     "name": "stdout",
     "output_type": "stream",
     "text": [
      "Collecting keras-tuner\n",
      "  Downloading keras_tuner-1.4.6-py3-none-any.whl (128 kB)\n",
      "     |████████████████████████████████| 128 kB 5.7 MB/s            \n",
      "\u001b[?25hRequirement already satisfied: packaging in /opt/conda/lib/python3.9/site-packages (from keras-tuner) (21.3)\n",
      "Collecting kt-legacy\n",
      "  Downloading kt_legacy-1.0.5-py3-none-any.whl (9.6 kB)\n",
      "Requirement already satisfied: keras in /opt/conda/lib/python3.9/site-packages (from keras-tuner) (2.6.0)\n",
      "Requirement already satisfied: requests in /opt/conda/lib/python3.9/site-packages (from keras-tuner) (2.26.0)\n",
      "Requirement already satisfied: pyparsing!=3.0.5,>=2.0.2 in /opt/conda/lib/python3.9/site-packages (from packaging->keras-tuner) (3.0.6)\n",
      "Requirement already satisfied: certifi>=2017.4.17 in /opt/conda/lib/python3.9/site-packages (from requests->keras-tuner) (2023.5.7)\n",
      "Requirement already satisfied: idna<4,>=2.5 in /opt/conda/lib/python3.9/site-packages (from requests->keras-tuner) (2.10)\n",
      "Requirement already satisfied: urllib3<1.27,>=1.21.1 in /opt/conda/lib/python3.9/site-packages (from requests->keras-tuner) (1.26.7)\n",
      "Requirement already satisfied: charset-normalizer~=2.0.0 in /opt/conda/lib/python3.9/site-packages (from requests->keras-tuner) (2.0.8)\n",
      "Installing collected packages: kt-legacy, keras-tuner\n",
      "Successfully installed keras-tuner-1.4.6 kt-legacy-1.0.5\n",
      "\u001b[33mWARNING: Running pip as the 'root' user can result in broken permissions and conflicting behaviour with the system package manager. It is recommended to use a virtual environment instead: https://pip.pypa.io/warnings/venv\u001b[0m\n"
     ]
    }
   ],
   "source": [
    "!pip install keras-tuner"
   ]
  },
  {
   "cell_type": "markdown",
   "id": "2e3649e9",
   "metadata": {},
   "source": [
    "# 1. Data Centric AI 맛보기\n",
    "\n",
    "Data Centric AI를 공부했으니 한번 맛은 봐야겠죠? Data Centric AI를 정석적으로 진행한다면 훈련 데이터셋과 테스트 데이터셋을 전부 열어서 확인해서 틀린 것이 없는지 검수해야 합니다.\n",
    "하지만 우리에게는 일일이 해볼만한 시간은 존재하지 않으니 사람들이 미리 검수했던 내용들을 기반으로 프로젝트를 진행하겠습니다.\n",
    "\n",
    "## labelerrors.com\n",
    "\n",
    "labelerrors.com은 Data Centric AI에서 가장 많이 활용하고 있는 파이썬 라이브러리인 cleanlab을 만든 개발자들이 공개한 사이트입니다. labelerrors.com은 이름에서 알 수 있듯이 테스트 데이터와 label이 잘못 붙어 있는 사례를 모아 보여줍니다.\n",
    "labelerrors.com에서 CIFAR10 테스트 데이터셋을 확인하고 아래 조그맣게 있는 ID를 기준으로 직접 데이터셋을 시각화하고 실제 label이 잘못 붙어있다면 label을 수정해주세요."
   ]
  },
  {
   "cell_type": "code",
   "execution_count": 2,
   "id": "30470e1f",
   "metadata": {},
   "outputs": [],
   "source": [
    "import tensorflow as tf\n",
    "from tensorflow import keras\n",
    "import keras_tuner as kt\n",
    "from sklearn.model_selection import train_test_split\n",
    "import os\n",
    "import matplotlib.pyplot as plt"
   ]
  },
  {
   "cell_type": "code",
   "execution_count": 3,
   "id": "366938c5",
   "metadata": {},
   "outputs": [
    {
     "name": "stdout",
     "output_type": "stream",
     "text": [
      "Downloading data from https://www.cs.toronto.edu/~kriz/cifar-10-python.tar.gz\n",
      "170500096/170498071 [==============================] - 4s 0us/step\n",
      "170508288/170498071 [==============================] - 4s 0us/step\n"
     ]
    }
   ],
   "source": [
    "# CIFAR10 데이터 로드 및 전처리\n",
    "(x_train, y_train), (x_test, y_test) = keras.datasets.cifar10.load_data()\n",
    "x_train, x_test = x_train / 255.0, x_test / 255.0\n",
    "y_train = keras.utils.to_categorical(y_train, 10)\n",
    "y_test = keras.utils.to_categorical(y_test, 10)"
   ]
  },
  {
   "cell_type": "code",
   "execution_count": 4,
   "id": "5e852a15",
   "metadata": {},
   "outputs": [],
   "source": [
    "# 데이터 분할\n",
    "X_train, X_val, y_train, y_val = train_test_split(x_train, y_train, test_size=0.2)"
   ]
  },
  {
   "cell_type": "code",
   "execution_count": 5,
   "id": "385f0767",
   "metadata": {},
   "outputs": [],
   "source": [
    "# 잘못된 레이블 수정\n",
    "incorrect_label_id = 4794  # ID 4794의 레이블을 'bird'로 수정\n",
    "correct_label = keras.utils.to_categorical([2], 10)  # CIFAR-10에서 'bird'의 레이블은 2입니다.\n",
    "y_test[incorrect_label_id] = correct_label"
   ]
  },
  {
   "cell_type": "code",
   "execution_count": 6,
   "id": "d494300d",
   "metadata": {},
   "outputs": [
    {
     "data": {
      "image/png": "[encoded data removed]",
      "text/plain": [
       "<Figure size 432x288 with 1 Axes>"
      ]
     },
     "metadata": {
      "needs_background": "light"
     },
     "output_type": "display_data"
    }
   ],
   "source": [
    "# 수정된 데이터 포인트 시각화\n",
    "plt.imshow(x_test[incorrect_label_id])\n",
    "plt.title(f\"Corrected Label: Bird\")\n",
    "plt.axis('off')\n",
    "plt.show()"
   ]
  },
  {
   "cell_type": "code",
   "execution_count": 7,
   "id": "f3056c89",
   "metadata": {},
   "outputs": [],
   "source": [
    "# 고정된 모델 구조에 맞춘 모델 빌더 함수\n",
    "def build_model(hp):\n",
    "    model = tf.keras.Sequential([\n",
    "        tf.keras.layers.Input(shape=(32, 32, 3), name='inputs'),\n",
    "        tf.keras.layers.Conv2D(32, (3, 3), padding='same', activation='relu'),\n",
    "        tf.keras.layers.AveragePooling2D(),\n",
    "        tf.keras.layers.BatchNormalization(),\n",
    "        tf.keras.layers.Conv2D(64, (3, 3), padding='same', activation='relu'),\n",
    "        tf.keras.layers.AveragePooling2D(),\n",
    "        tf.keras.layers.BatchNormalization(),\n",
    "        tf.keras.layers.Flatten(),\n",
    "        tf.keras.layers.Dense(hp.Choice('dense_units', [256, 512, 1024]), activation='relu'),\n",
    "        tf.keras.layers.Dropout(hp.Float('dropout', min_value=0.0, max_value=0.5, default=0.25, step=0.05)),\n",
    "        tf.keras.layers.Dense(10, activation='softmax', name='outputs')\n",
    "    ])\n",
    "    \n",
    "    # 'batch_size' 하이퍼파라미터를 튜닝 과정에서 설정\n",
    "    batch_size = hp.Choice('batch_size', values=[32, 64, 128])\n",
    "\n",
    "    model.compile(optimizer='adam', loss='categorical_crossentropy', metrics=['accuracy'])\n",
    "    return model"
   ]
  },
  {
   "cell_type": "markdown",
   "id": "9f72ea28",
   "metadata": {},
   "source": [
    "# 2. 하이퍼파라미터 튜닝\n",
    "위에 있는 모델을 기반으로 KerasTuner로 하이퍼파라미터 튜닝을 진행합니다. 튜닝한 하이퍼 파라미터로 학습을 진행하고 모델을 SavedModel 형식으로 저장해주세요.\n",
    "\n",
    "## (주의사항)\n",
    "하이퍼 파라미터를 어느정도 범위로 주는지에 따라서 모델 튜닝속도가 달라집니다.\n",
    "학습시간을 고려해서 하이퍼 파라미터 튜닝을 세팅해주세요!"
   ]
  },
  {
   "cell_type": "code",
   "execution_count": 8,
   "id": "4c06fb80",
   "metadata": {},
   "outputs": [
    {
     "name": "stdout",
     "output_type": "stream",
     "text": [
      "Reloading Tuner from /aiffel/aiffel/mlops/cifar10_keras_tuner/tuner0.json\n"
     ]
    }
   ],
   "source": [
    "# Keras Tuner 설정\n",
    "tuner = kt.Hyperband(\n",
    "    build_model,\n",
    "    objective='val_accuracy',\n",
    "    max_epochs=10,\n",
    "    directory=os.path.join(os.getenv('HOME'), 'aiffel/mlops'),\n",
    "    project_name='cifar10_keras_tuner'\n",
    ")"
   ]
  },
  {
   "cell_type": "code",
   "execution_count": 9,
   "id": "458b3615",
   "metadata": {},
   "outputs": [],
   "source": [
    "# 튜너 검색\n",
    "tuner.search(X_train, y_train, validation_data=(X_val, y_val), epochs=10)"
   ]
  },
  {
   "cell_type": "code",
   "execution_count": 10,
   "id": "0cc4ad53",
   "metadata": {},
   "outputs": [
    {
     "name": "stdout",
     "output_type": "stream",
     "text": [
      "Model: \"sequential\"\n",
      "_________________________________________________________________\n",
      "Layer (type)                 Output Shape              Param #   \n",
      "=================================================================\n",
      "conv2d (Conv2D)              (None, 32, 32, 32)        896       \n",
      "_________________________________________________________________\n",
      "average_pooling2d (AveragePo (None, 16, 16, 32)        0         \n",
      "_________________________________________________________________\n",
      "batch_normalization (BatchNo (None, 16, 16, 32)        128       \n",
      "_________________________________________________________________\n",
      "conv2d_1 (Conv2D)            (None, 16, 16, 64)        18496     \n",
      "_________________________________________________________________\n",
      "average_pooling2d_1 (Average (None, 8, 8, 64)          0         \n",
      "_________________________________________________________________\n",
      "batch_normalization_1 (Batch (None, 8, 8, 64)          256       \n",
      "_________________________________________________________________\n",
      "flatten (Flatten)            (None, 4096)              0         \n",
      "_________________________________________________________________\n",
      "dense (Dense)                (None, 512)               2097664   \n",
      "_________________________________________________________________\n",
      "dropout (Dropout)            (None, 512)               0         \n",
      "_________________________________________________________________\n",
      "outputs (Dense)              (None, 10)                5130      \n",
      "=================================================================\n",
      "Total params: 2,122,570\n",
      "Trainable params: 2,122,378\n",
      "Non-trainable params: 192\n",
      "_________________________________________________________________\n"
     ]
    }
   ],
   "source": [
    "# 최적의 하이퍼파라미터로 모델 재구축\n",
    "best_hps = tuner.get_best_hyperparameters(num_trials=1)[0]\n",
    "model = build_model(best_hps)\n",
    "model.summary()"
   ]
  },
  {
   "cell_type": "code",
   "execution_count": 11,
   "id": "ae677fa7",
   "metadata": {},
   "outputs": [
    {
     "name": "stdout",
     "output_type": "stream",
     "text": [
      "Epoch 1/10\n",
      "1250/1250 [==============================] - 45s 5ms/step - loss: 1.5033 - accuracy: 0.4820 - val_loss: 1.5218 - val_accuracy: 0.4758\n",
      "Epoch 2/10\n",
      "1250/1250 [==============================] - 5s 4ms/step - loss: 1.0639 - accuracy: 0.6274 - val_loss: 1.1703 - val_accuracy: 0.5968\n",
      "Epoch 3/10\n",
      "1250/1250 [==============================] - 5s 4ms/step - loss: 0.8549 - accuracy: 0.6994 - val_loss: 0.9781 - val_accuracy: 0.6624\n",
      "Epoch 4/10\n",
      "1250/1250 [==============================] - 5s 4ms/step - loss: 0.6818 - accuracy: 0.7612 - val_loss: 0.9867 - val_accuracy: 0.6698\n",
      "Epoch 5/10\n",
      "1250/1250 [==============================] - 5s 4ms/step - loss: 0.5275 - accuracy: 0.8166 - val_loss: 1.0893 - val_accuracy: 0.6599\n",
      "Epoch 6/10\n",
      "1250/1250 [==============================] - 5s 4ms/step - loss: 0.4093 - accuracy: 0.8573 - val_loss: 1.1883 - val_accuracy: 0.6604\n",
      "Epoch 7/10\n",
      "1250/1250 [==============================] - 5s 4ms/step - loss: 0.3220 - accuracy: 0.8881 - val_loss: 1.3636 - val_accuracy: 0.6687\n",
      "Epoch 8/10\n",
      "1250/1250 [==============================] - 5s 4ms/step - loss: 0.2722 - accuracy: 0.9068 - val_loss: 1.4330 - val_accuracy: 0.6426\n",
      "Epoch 9/10\n",
      "1250/1250 [==============================] - 5s 4ms/step - loss: 0.2316 - accuracy: 0.9216 - val_loss: 1.6086 - val_accuracy: 0.6523\n",
      "Epoch 10/10\n",
      "1250/1250 [==============================] - 5s 4ms/step - loss: 0.2035 - accuracy: 0.9302 - val_loss: 1.2295 - val_accuracy: 0.6934\n"
     ]
    },
    {
     "data": {
      "text/plain": [
       "<keras.callbacks.History at 0x7fb44d27e580>"
      ]
     },
     "execution_count": 11,
     "metadata": {},
     "output_type": "execute_result"
    }
   ],
   "source": [
    "# 모델훈련\n",
    "model.fit(X_train, y_train, batch_size=best_hps.get('batch_size'), epochs=10, validation_data=(X_val, y_val))"
   ]
  },
  {
   "cell_type": "code",
   "execution_count": 12,
   "id": "fd3d8549",
   "metadata": {},
   "outputs": [
    {
     "name": "stdout",
     "output_type": "stream",
     "text": [
      "313/313 [==============================] - 1s 3ms/step - loss: 1.2989 - accuracy: 0.6873\n",
      "[Test Loss, Test Accuracy]: [1.298948049545288, 0.6873000264167786]\n"
     ]
    }
   ],
   "source": [
    "# 모델 평가\n",
    "eval_result = model.evaluate(x_test, y_test)\n",
    "print(f\"[Test Loss, Test Accuracy]: {eval_result}\")"
   ]
  },
  {
   "cell_type": "code",
   "execution_count": 13,
   "id": "df497ac6",
   "metadata": {},
   "outputs": [
    {
     "name": "stdout",
     "output_type": "stream",
     "text": [
      "INFO:tensorflow:Assets written to: /aiffel/aiffel/mlops/cifar10_model/1/assets\n"
     ]
    }
   ],
   "source": [
    "# 모델 저장\n",
    "save_path = os.path.join(os.getenv('HOME'), 'aiffel/mlops/cifar10_model')\n",
    "fname = os.path.join(save_path, '1')\n",
    "model.save(fname)"
   ]
  },
  {
   "cell_type": "markdown",
   "id": "67d7c74e",
   "metadata": {},
   "source": [
    "# 3. 모델 배포하기 (옵션)\n",
    "하이퍼파라미터 튜닝을 끝낸 모델을 Docker 혹은 WSL2 환경에서 TFServing을 진행해 모델을 배포하세요! 모델 배포가 성공했다면 해당 코드쉘을 캡쳐해서 이미지를 주피터 노트북에 넣어주세요!"
   ]
  },
  {
   "cell_type": "markdown",
   "id": "8a08fd95",
   "metadata": {},
   "source": [
    "- 해당부분은 클라우드 쉘에 보안상문제로 네트워크가 막혀있어 불가능함 만약하려면 로컬에서 진행해야하는데\n",
    "  셋팅하는데도 시간이 오래걸려서 퍼실님도 나중에 프로젝트 할 때 할 기회가 있다고 하시면서 지금은 지나가라고 하심"
   ]
  },
  {
   "cell_type": "markdown",
   "id": "45a14b8d",
   "metadata": {},
   "source": [
    "## TFServing 우분투 터미널로 실습하기\n",
    "우선 우분투 터미널 실습부터 진행하겠습니다!\n",
    "\n",
    "클라우드 쉘을 열고 해당 스크립트를 넣어주세요!\n",
    "\n",
    "$ echo \"deb [arch=amd64] http://storage.googleapis.com/tensorflow-serving-apt stable tensorflow-model-server tensorflow-model-server-universal\" | sudo tee /etc/apt/sources.list.d/tensorflow-serving.list && \\\n",
    "curl https://storage.googleapis.com/tensorflow-serving-apt/tensorflow-serving.release.pub.gpg | sudo apt-key add -\n",
    "\n",
    "$ sudo apt update\n",
    "\n",
    "$ sudo apt install tensorflow-model-server\n",
    "\n",
    "해당 스크립트는 우분투에 tensorflow-model-server를 설치해 배포용 텐서플로우 서버를 구축하는 것입니다!\n",
    "\n",
    "그 다음 스크립트는 모델을 배포하는 스크립트입니다.\n",
    "\n",
    "$ tensorflow_model_server --port=8500 \\\n",
    "\t\t\t\t\t\t --rest_api_port=8501 \\\n",
    "\t\t\t\t\t\t --model_name=my_model \\\n",
    "\t\t\t\t\t\t --model_base_path=/aiffel/mlops/best_model/model \n",
    "여기서 model_base_path는 실제 SavedModel을 넣은 디렉토리로 바꿔주세요! (주의사항) SavedModel을 넣을 때 model 디렉토리 내부에 숫자 '1' 폴더를 만들고 넣어주세요!\n",
    "\n",
    "## TFServing Docker로 실습하기\n",
    "Docker를 설치하셨다면\n",
    "\n",
    "docker pull tensorflow/serving\n",
    "을 WSL2 쉘에 실행시켜주세요 (맥북은 터미널에서도 가능합니다!)\n",
    "\n",
    "docker run -p 8500:8500 \\\n",
    "\t\t\t-p 8501:8501 \\\n",
    "\t\t\t--mount type=bind, source=/tmp/models, target=/models/my_model\n",
    "\t\t\t-e MODEL_NAME=my_model \\\n",
    "\t\t\t-e MODEL_BASE_PATH=/models/my_model \\\n",
    "\t\t\t-t tensorflow/serving\n",
    "그 다음 도커를 지정해주고 실행시켜 주세요\n",
    "\n",
    "해당 명령어의 경우 첫번째 줄은 기본 포트를 지정하는 것이며 2번째줄은 API 포트를 의미합니다. 3번째 줄은 모델 티렉토리를 마운트하는 것입니다. 4번째 줄은 모델 이름을 지정해주고 5번째 줄은 모델의 기본 경로를 의미합니다. 마지막 줄은 tensorflow/serving을 사용한다는 뜻입니다!"
   ]
  },
  {
   "cell_type": "code",
   "execution_count": 14,
   "id": "1783a17c",
   "metadata": {},
   "outputs": [],
   "source": [
    "load_path = os.getenv('HOME') + '/aiffel/mlops/cifar10_model/1'\n",
    "best_model = tf.keras.models.load_model(load_path)"
   ]
  },
  {
   "cell_type": "code",
   "execution_count": 15,
   "id": "bd62b2bf",
   "metadata": {},
   "outputs": [
    {
     "name": "stdout",
     "output_type": "stream",
     "text": [
      "Model: \"sequential\"\n",
      "_________________________________________________________________\n",
      "Layer (type)                 Output Shape              Param #   \n",
      "=================================================================\n",
      "conv2d (Conv2D)              (None, 32, 32, 32)        896       \n",
      "_________________________________________________________________\n",
      "average_pooling2d (AveragePo (None, 16, 16, 32)        0         \n",
      "_________________________________________________________________\n",
      "batch_normalization (BatchNo (None, 16, 16, 32)        128       \n",
      "_________________________________________________________________\n",
      "conv2d_1 (Conv2D)            (None, 16, 16, 64)        18496     \n",
      "_________________________________________________________________\n",
      "average_pooling2d_1 (Average (None, 8, 8, 64)          0         \n",
      "_________________________________________________________________\n",
      "batch_normalization_1 (Batch (None, 8, 8, 64)          256       \n",
      "_________________________________________________________________\n",
      "flatten (Flatten)            (None, 4096)              0         \n",
      "_________________________________________________________________\n",
      "dense (Dense)                (None, 512)               2097664   \n",
      "_________________________________________________________________\n",
      "dropout (Dropout)            (None, 512)               0         \n",
      "_________________________________________________________________\n",
      "outputs (Dense)              (None, 10)                5130      \n",
      "=================================================================\n",
      "Total params: 2,122,570\n",
      "Trainable params: 2,122,378\n",
      "Non-trainable params: 192\n",
      "_________________________________________________________________\n"
     ]
    }
   ],
   "source": [
    "best_model.summary()"
   ]
  },
  {
   "cell_type": "markdown",
   "id": "be9a4121",
   "metadata": {},
   "source": [
    "# 4. TFLite 모델 만들기 (옵션)\n",
    "여러분들이 만든 모델을 TFLite 모델로 만들어서 저장하고 서명을 확인하는 메소드까지 입력해주세요!"
   ]
  },
  {
   "cell_type": "code",
   "execution_count": 16,
   "id": "db76e4a3",
   "metadata": {},
   "outputs": [
    {
     "name": "stdout",
     "output_type": "stream",
     "text": [
      "INFO:tensorflow:Assets written to: /tmp/tmpn_qkic66/assets\n"
     ]
    }
   ],
   "source": [
    "converter = tf.lite.TFLiteConverter.from_keras_model(model)\n",
    "tflite_model = converter.convert()"
   ]
  },
  {
   "cell_type": "code",
   "execution_count": 17,
   "id": "a411ec53",
   "metadata": {},
   "outputs": [],
   "source": [
    "with open('model.tflite', 'wb') as f:\n",
    "  f.write(tflite_model)\n",
    "\n",
    "interpreter = tf.lite.Interpreter(model_content=tflite_model)\n",
    "\n",
    "signatures = interpreter.get_signature_list()"
   ]
  },
  {
   "cell_type": "code",
   "execution_count": 18,
   "id": "c9f26be4",
   "metadata": {},
   "outputs": [
    {
     "ename": "ValueError",
     "evalue": "Invalid signature_def_name provided.",
     "output_type": "error",
     "traceback": [
      "\u001b[0;31m---------------------------------------------------------------------------\u001b[0m",
      "\u001b[0;31mValueError\u001b[0m                                Traceback (most recent call last)",
      "\u001b[0;32m/tmp/ipykernel_32/4227817743.py\u001b[0m in \u001b[0;36m<module>\u001b[0;34m\u001b[0m\n\u001b[0;32m----> 1\u001b[0;31m \u001b[0mclassify_lite\u001b[0m \u001b[0;34m=\u001b[0m \u001b[0minterpreter\u001b[0m\u001b[0;34m.\u001b[0m\u001b[0mget_signature_runner\u001b[0m\u001b[0;34m(\u001b[0m\u001b[0;34m'serving_default'\u001b[0m\u001b[0;34m)\u001b[0m\u001b[0;34m\u001b[0m\u001b[0;34m\u001b[0m\u001b[0m\n\u001b[0m\u001b[1;32m      2\u001b[0m \u001b[0mclassify_lite\u001b[0m\u001b[0;34m\u001b[0m\u001b[0;34m\u001b[0m\u001b[0m\n",
      "\u001b[0;32m/opt/conda/lib/python3.9/site-packages/tensorflow/lite/python/interpreter.py\u001b[0m in \u001b[0;36mget_signature_runner\u001b[0;34m(self, method_name)\u001b[0m\n\u001b[1;32m    793\u001b[0m           \u001b[0;34m'Proper support is coming soon.'\u001b[0m\u001b[0;34m\u001b[0m\u001b[0;34m\u001b[0m\u001b[0m\n\u001b[1;32m    794\u001b[0m       )\n\u001b[0;32m--> 795\u001b[0;31m     \u001b[0;32mreturn\u001b[0m \u001b[0mSignatureRunner\u001b[0m\u001b[0;34m(\u001b[0m\u001b[0minterpreter\u001b[0m\u001b[0;34m=\u001b[0m\u001b[0mself\u001b[0m\u001b[0;34m,\u001b[0m \u001b[0msignature_def_name\u001b[0m\u001b[0;34m=\u001b[0m\u001b[0mmethod_name\u001b[0m\u001b[0;34m)\u001b[0m\u001b[0;34m\u001b[0m\u001b[0;34m\u001b[0m\u001b[0m\n\u001b[0m\u001b[1;32m    796\u001b[0m \u001b[0;34m\u001b[0m\u001b[0m\n\u001b[1;32m    797\u001b[0m   \u001b[0;32mdef\u001b[0m \u001b[0mget_tensor\u001b[0m\u001b[0;34m(\u001b[0m\u001b[0mself\u001b[0m\u001b[0;34m,\u001b[0m \u001b[0mtensor_index\u001b[0m\u001b[0;34m)\u001b[0m\u001b[0;34m:\u001b[0m\u001b[0;34m\u001b[0m\u001b[0;34m\u001b[0m\u001b[0m\n",
      "\u001b[0;32m/opt/conda/lib/python3.9/site-packages/tensorflow/lite/python/interpreter.py\u001b[0m in \u001b[0;36m__init__\u001b[0;34m(self, interpreter, signature_def_name)\u001b[0m\n\u001b[1;32m    199\u001b[0m     \u001b[0msignature_defs\u001b[0m \u001b[0;34m=\u001b[0m \u001b[0minterpreter\u001b[0m\u001b[0;34m.\u001b[0m\u001b[0m_get_full_signature_list\u001b[0m\u001b[0;34m(\u001b[0m\u001b[0;34m)\u001b[0m\u001b[0;34m\u001b[0m\u001b[0;34m\u001b[0m\u001b[0m\n\u001b[1;32m    200\u001b[0m     \u001b[0;32mif\u001b[0m \u001b[0msignature_def_name\u001b[0m \u001b[0;32mnot\u001b[0m \u001b[0;32min\u001b[0m \u001b[0msignature_defs\u001b[0m\u001b[0;34m:\u001b[0m\u001b[0;34m\u001b[0m\u001b[0;34m\u001b[0m\u001b[0m\n\u001b[0;32m--> 201\u001b[0;31m       \u001b[0;32mraise\u001b[0m \u001b[0mValueError\u001b[0m\u001b[0;34m(\u001b[0m\u001b[0;34m'Invalid signature_def_name provided.'\u001b[0m\u001b[0;34m)\u001b[0m\u001b[0;34m\u001b[0m\u001b[0;34m\u001b[0m\u001b[0m\n\u001b[0m\u001b[1;32m    202\u001b[0m     \u001b[0mself\u001b[0m\u001b[0;34m.\u001b[0m\u001b[0m_signature_def\u001b[0m \u001b[0;34m=\u001b[0m \u001b[0msignature_defs\u001b[0m\u001b[0;34m[\u001b[0m\u001b[0msignature_def_name\u001b[0m\u001b[0;34m]\u001b[0m\u001b[0;34m\u001b[0m\u001b[0;34m\u001b[0m\u001b[0m\n\u001b[1;32m    203\u001b[0m     \u001b[0mself\u001b[0m\u001b[0;34m.\u001b[0m\u001b[0m_outputs\u001b[0m \u001b[0;34m=\u001b[0m \u001b[0mself\u001b[0m\u001b[0;34m.\u001b[0m\u001b[0m_signature_def\u001b[0m\u001b[0;34m[\u001b[0m\u001b[0;34m'outputs'\u001b[0m\u001b[0;34m]\u001b[0m\u001b[0;34m.\u001b[0m\u001b[0mitems\u001b[0m\u001b[0;34m(\u001b[0m\u001b[0;34m)\u001b[0m\u001b[0;34m\u001b[0m\u001b[0;34m\u001b[0m\u001b[0m\n",
      "\u001b[0;31mValueError\u001b[0m: Invalid signature_def_name provided."
     ]
    }
   ],
   "source": [
    "classify_lite = interpreter.get_signature_runner('serving_default')\n",
    "classify_lite"
   ]
  },
  {
   "cell_type": "markdown",
   "id": "e62621db",
   "metadata": {},
   "source": [
    "### - 쥬피터 노트북에서는 서명이 안되는 문제가 있음"
   ]
  },
  {
   "cell_type": "markdown",
   "id": "fd369379",
   "metadata": {},
   "source": [
    "# 회고\n",
    "\n",
    "- 이번에는 LMS에서 진행하는데 한계가 있어 모든 실습을 하지못해 아쉬웠다\n",
    "- 시간이 없어서 프로젝트 목표달성 정확도 개선을 위한 하이퍼 파라미터 튜닝을\n",
    "  많이 하지못해 아쉬웠다\n",
    "- abelerrors.com을 통해 테스트 데이터셋의 잘못된 라벨을 확인하고, 이를 수정하는 것이 재미있었다\n",
    "- 이 프로젝트를 통해 딥 러닝 모델 개발 및 배포의 기본 원리를 배웠습니다. 앞으로는 실제 응용 분야에서 더 많은 경험을 쌓고, 다양한 프로젝트에 참여하여 실력을 향상시킬 계획입니다."
   ]
  },
  {
   "cell_type": "code",
   "execution_count": null,
   "id": "b46fc6cf",
   "metadata": {},
   "outputs": [],
   "source": []
  }
 ],
 "metadata": {
  "kernelspec": {
   "display_name": "Python 3 (ipykernel)",
   "language": "python",
   "name": "python3"
  },
  "language_info": {
   "codemirror_mode": {
    "name": "ipython",
    "version": 3
   },
   "file_extension": ".py",
   "mimetype": "text/x-python",
   "name": "python",
   "nbconvert_exporter": "python",
   "pygments_lexer": "ipython3",
   "version": "3.9.7"
  }
 },
 "nbformat": 4,
 "nbformat_minor": 5
}
