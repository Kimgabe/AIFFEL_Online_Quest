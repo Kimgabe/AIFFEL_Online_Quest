{
  "nbformat": 4,
  "nbformat_minor": 0,
  "metadata": {
    "colab": {
      "provenance": [],
      "include_colab_link": true
    },
    "kernelspec": {
      "name": "python3",
      "display_name": "Python 3"
    },
    "language_info": {
      "name": "python"
    }
  },
  "cells": [
    {
      "cell_type": "markdown",
      "metadata": {
        "id": "view-in-github",
        "colab_type": "text"
      },
      "source": [
        "<a href=\"https://colab.research.google.com/github/ImOWJ/AIFFEL_Online_Quest/blob/main/Quest02.ipynb\" target=\"_parent\"><img src=\"https://colab.research.google.com/assets/colab-badge.svg\" alt=\"Open In Colab\"/></a>"
      ]
    },
    {
      "cell_type": "code",
      "execution_count": 46,
      "metadata": {
        "colab": {
          "base_uri": "https://localhost:8080/"
        },
        "id": "j3yAa21SrjtI",
        "outputId": "88a242dc-5190-4a32-a5e1-0788f4068325"
      },
      "outputs": [
        {
          "output_type": "stream",
          "name": "stdout",
          "text": [
            "입력값 : nemo 3\n",
            "입력값 : nemo 2\n",
            "[['nemo', '3'], ['nemo', '2']]\n"
          ]
        },
        {
          "output_type": "execute_result",
          "data": {
            "text/plain": [
              "<generator object show_fish_movement_Generator at 0x7f1a93b7d930>"
            ]
          },
          "metadata": {},
          "execution_count": 46
        }
      ],
      "source": [
        "#def show_fish_movement_comprehension(fish_list):\n",
        "#  num=[[x,y] for x in fish_list for y in fish_list]\n",
        "#    print(num)\n",
        "\n",
        "def show_fish_movement_Generator(fish_list):\n",
        "\n",
        "  if fish_list:\n",
        "        yield 0\n",
        "  for index, letter in enumerate(fish_list):\n",
        "    if letter == ' ':\n",
        "      yield index + 1\n",
        "\n",
        "\n",
        "    print(\"Using Generator\")\n",
        "    print(next(index),\"is swimming at \",next(letter),\" m/s\")\n",
        "\n",
        "\n",
        "fish_list=[list(input('입력값 : ').split()) for i in range(2)]\n",
        "print(fish_list)\n",
        "fish_dic = {\"이름\" : fish_list[0], \"speed\":fish_list[1]}\n",
        "x = \"\"\n",
        "y = \"\"\n",
        "\n",
        "show_fish_movement_Generator(fish_list)\n",
        "#show_fish_movement_comprehension(fish_list)\n",
        "\n"
      ]
    },
    {
      "cell_type": "code",
      "source": [
        "def show_fish_movement_comprehension(fish_list):\n",
        "    for fish in fish_list:\n",
        "        print(f\"{fish['이름']}은 속도 {fish['속도']}로 수영합니다.\")\n",
        "\n",
        "fish_list = []\n",
        "fish_list = [{'이름': input('물고기 이름 입력: '), '속도': int(input('물고기 속도 입력: '))} for _ in range(2)]\n",
        "\n",
        "show_fish_movement_comprehension(fish_list)\n"
      ],
      "metadata": {
        "id": "LN61HHtq5Bzb",
        "colab": {
          "base_uri": "https://localhost:8080/"
        },
        "outputId": "795c9a26-c442-4fcb-8bd9-b497689b3bfb"
      },
      "execution_count": 45,
      "outputs": [
        {
          "output_type": "stream",
          "name": "stdout",
          "text": [
            "물고기 이름 입력: memo\n",
            "물고기 속도 입력: 123\n",
            "물고기 이름 입력: mem2\n",
            "물고기 속도 입력: 12\n",
            "memo은 속도 123로 수영합니다.\n",
            "mem2은 속도 12로 수영합니다.\n"
          ]
        }
      ]
    },
    {
      "cell_type": "code",
      "source": [],
      "metadata": {
        "id": "AzlOmAGlsXow"
      },
      "execution_count": null,
      "outputs": []
    }
  ]
}