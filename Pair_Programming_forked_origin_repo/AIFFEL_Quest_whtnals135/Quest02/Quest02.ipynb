{
  "nbformat": 4,
  "nbformat_minor": 0,
  "metadata": {
    "colab": {
      "provenance": [],
      "include_colab_link": true
    },
    "kernelspec": {
      "name": "python3",
      "display_name": "Python 3"
    },
    "language_info": {
      "name": "python"
    }
  },
  "cells": [
    {
      "cell_type": "markdown",
      "metadata": {
        "id": "view-in-github",
        "colab_type": "text"
      },
      "source": [
        "<a href=\"https://colab.research.google.com/github/whtnals135/AIFFEL_Online_Quest/blob/main/Quest02/Quest02.ipynb\" target=\"_parent\"><img src=\"https://colab.research.google.com/assets/colab-badge.svg\" alt=\"Open In Colab\"/></a>"
      ]
    },
    {
      "cell_type": "code",
      "source": [
        "fish_list = [{\"이름\": \"Nemo\", \"speed\":3},{\"이름\": \"Dory\", \"speed\":5},{\"이름\": \"Sam\", \"speed\":10}]\n",
        "\n",
        "def show_fish_movement_comprehension(fish_list):\n",
        "    # 각 물고기가 얼마나 움직이는지를 출력\n",
        "    [print(f\"{fish['이름']} is swimming at {fish['speed']} m/s\") for fish in fish_list]\n",
        "\n",
        "def show_fish_movement_generator(fish_list):\n",
        "    # 각 물고기가 얼마나 움직이는지를 출력하는 제너레이터\n",
        "    def fish_movement(fish_list):\n",
        "        for fish in fish_list:\n",
        "            yield f\"{fish['이름']} is swimming at {fish['speed']} m/s\"\n",
        "\n",
        "    # 제너레이터를 사용하여 출력\n",
        "    for movement in fish_movement(fish_list):\n",
        "        print(movement)\n",
        "\n",
        "print(\"Using Comprehension:\")\n",
        "show_fish_movement_comprehension(fish_list)\n",
        "\n",
        "print(\"Using Generator:\")\n",
        "show_fish_movement_generator(fish_list)"
      ],
      "metadata": {
        "colab": {
          "base_uri": "https://localhost:8080/"
        },
        "id": "h5aJx67U4grt",
        "outputId": "aab49fee-6c41-4262-fafc-25ee94b2f801"
      },
      "execution_count": null,
      "outputs": [
        {
          "output_type": "stream",
          "name": "stdout",
          "text": [
            "Using Comprehension:\n",
            "Nemo is swimming at 3 m/s\n",
            "Dory is swimming at 5 m/s\n",
            "Sam is swimming at 10 m/s\n",
            "Using Generator:\n",
            "Nemo is swimming at 3 m/s\n",
            "Dory is swimming at 5 m/s\n",
            "Sam is swimming at 10 m/s\n"
          ]
        }
      ]
    }
  ]
}