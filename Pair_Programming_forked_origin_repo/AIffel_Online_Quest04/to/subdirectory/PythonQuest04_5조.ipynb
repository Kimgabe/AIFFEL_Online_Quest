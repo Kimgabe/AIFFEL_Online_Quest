{
  "nbformat": 4,
  "nbformat_minor": 0,
  "metadata": {
    "colab": {
      "provenance": [],
      "include_colab_link": true
    },
    "kernelspec": {
      "name": "python3",
      "display_name": "Python 3"
    },
    "language_info": {
      "name": "python"
    }
  },
  "cells": [
    {
      "cell_type": "markdown",
      "metadata": {
        "id": "view-in-github",
        "colab_type": "text"
      },
      "source": [
        "<a href=\"https://colab.research.google.com/github/PurinYun/AIffel_Online_Quest04/blob/main/PythonQuest04_5%EC%A1%B0.ipynb\" target=\"_parent\"><img src=\"https://colab.research.google.com/assets/colab-badge.svg\" alt=\"Open In Colab\"/></a>"
      ]
    },
    {
      "cell_type": "markdown",
      "source": [
        "[파이썬] 퀘스트: 거북이 미로찾기\n",
        "\n",
        "난이도: ★★★☆☆\n",
        "\n",
        "장르: ColabTurtlePlus, 함수, 조건문 활용\n",
        "\n",
        "---\n",
        "\n",
        "다음은 ColabTurtle을 사용하여 미로를 찾는 문제.\n",
        "조건을 확인하여 거북이가 미로를 헤매지 않도록 출구를 찾아주도록 하자.\n",
        "\n",
        "조건 :\n",
        "미로는 5x5의 2차원 리스트로 주어진다.\n",
        "시작 위치는 (0,0)이고 목적지는 (4,4)이다.\n",
        "터틀은 상하좌우로 움직일 수 있다.\n",
        "미로 내에서 갈 수 있는 길은 0으로 표시되어 있다.\n",
        "터틀이 이미 지나간 길은 2로 표시해야한다.\n",
        "거북이가 미로를 찾아 나가면 \"미로를 찾았습니다.\",\n",
        "미로를 찾을 수 없으면 \"미로를 찾을 수 없습니다.\"가 나올 수 있도록 만들어보자!\n",
        "\n",
        "- 주석으로 구현 내용이 써있는 부분을 코드로 채워주세요!!\n",
        "- 코드를 해석해주세요 부분은 코드에 대한 설명을 주석으로 써주세요!!\n",
        "\n",
        "결과물은 다음과 같아야 합니다 :)\n",
        "\n",
        "![image.png](data:image/png;base64,iVBORw0KGgoAAAANSUhEUgAAAGkAAABpCAIAAAC24JptAAACrElEQVR4nO3dP2vqUBzG8dNLUSg46CTZzeauo27OOutLEMRJIQpxyStwFWddXBxEcHMIDiFb3BycEqIiKDikg8Pt9WpaHu6NR3g+S0P+4OHLryFtKH3L5XKCIL+evYAX9n79slwun7uOF5LP568bnDsc2+HYDsd2OLa7ValUKpXKT858/99LeS22bU8mkyAIbNvOZrPhJ3Pu/tBqtS6XSyKRqNfr357Mdr/NZrP5fC6E8H1/tVrNZrPw8+X9nu12u+v1WlXVu0cdxxFC/Nuj/X7/dDpdtw+HQ7PZtCwrZIXyzt16vd5ut5F9nGVZ+/3+657NZjMcDkMukXfuVFVVVbXT6UTzcel0+nw+f92z2+3a7Xa1Wn10ibxzFyXDMI7H43U7Foslk8nrtu/7hmE8uorthOu6mqYFQSCEqNVq0+l0PB6Xy2UhRBAEmqa5rnv3QrYTpmnG4/Fer+d53mAwKBaLhUJhNBp5ntdoND4+PkzTvHuhvPe7yJRKpcPh8Pf+VCql67qu648u5Nzh2A7Hdjh573fXp3+Zce5w8s7do59G5cG5w7Edju1wbIdjOxzb4dgOJ+/zneM4Ib9zdxwnk8l0u90ol3RD3naZTCbkaJSvMh6Rt91zZ+oneL/DsR2O7XBsh2M7HNvh2A4n7/NdOBneZnDucK86dzK8zeDc4dgOx3Y4tsOxHY7tcGyHk/f5LvzvKxaLhaIoES/pxqvOnaIo4S80IiD13D17Cd941bmTAdvh2A7Hdji2w7Edju1wbIdjOxzb4dgOx3Y4tsOxHY7tcGyHYzsc2+HYDsd2OLbDsR2O7XBsh2M7HNvh2A7Hdji2w7Edju1wbIdjOxzb4dgOx3Y4tsOxHY7tcGyHYzsc2+HYDsd2OLbDsR2O7XBsh3vj/3mHce5wbIf7BCpkq4fB2TGFAAAAAElFTkSuQmCC)"
      ],
      "metadata": {
        "id": "rcY0QgqgHWur"
      }
    },
    {
      "cell_type": "code",
      "source": [
        "!pip install ColabTurtlePlus # ColabTurtle 라이브러리 설치\n",
        "from ColabTurtlePlus.Turtle import * # ColabTurtle 라이브러리에서 Turtle 클래스를 import\n",
        "\n",
        "\n",
        "# 미로 데이터\n",
        "maze = [\n",
        "    [0, 1, 0, 0, 0],\n",
        "    [0, 0, 0, 1, 0],\n",
        "    [0, 1, 1, 0, 0],\n",
        "    [0, 0, 1, 1, 0],\n",
        "    [0, 0, 0, 0, 0]\n",
        "]\n",
        "\n",
        "# 시작 위치와 목적지 위치\n",
        "start_x, start_y = 0, 0\n",
        "end_x, end_y = 4, 4\n",
        "\n",
        "# 터틀 초기 설정\n",
        "# 'logo'가 거북이 이름?, 속도는 1\n",
        "window = (100, 100)\n",
        "initializeTurtle(window, 'logo')\n",
        "speed(1)\n",
        "\n",
        "\n",
        "\n",
        "\n",
        "# 미로 찾기 알고리즘\n",
        "def solve_maze(x, y):\n",
        "  # 목적지에 도착한 경우\n",
        "  if solve_maze():\n",
        "\n",
        "      # \"미로를 찾았습니다\" 라는 문장을 출력하고\n",
        "      print(\"미로를 찾았습니다\")\n",
        "\n",
        "      # True를 반환한다.\n",
        "      return True\n",
        "\n",
        "\n",
        "  # 현재 위치에서 갈 수 있는 방향 탐색\n",
        "  for dx, dy in [(0, 1), (1, 0), (0, -1), (-1, 0)]:\n",
        "      nx, ny = x + dx, y + dy\n",
        "\n",
        "      # 미로 범위(0,0 ~ 4,4) 내에 있고, 갈 수 있는 길인 경우\n",
        "      goto(nx*10, ny*10)\n",
        "\n",
        "          # 갔던 길 표시\n",
        "\n",
        "          pendown()             #거북이가 움직일 때 선을 그리도록 설정하는 함수\n",
        "          # 다음 위치로 이동\n",
        "          goto(nx*10, ny*10)  # 거북이 다음 위치로 이동\n",
        "\n",
        "          penup()             #거북이가 움직일 때 선을 그리지 않도록 설정하는 함수\n",
        "\n",
        "          # solve_maze(nx, ny)는 solve_maze 함수를 재귀 호출하는 함수로,\n",
        "          # 미로에서 다음으로 이동할 위치(nx, ny)로 이동한 후,\n",
        "          # 해당 위치에서 다시 solve_maze 함수를 호출하여\n",
        "          # 반복적으로 미로를 탐색하게 한다.\n",
        "          if solve_maze(nx, ny):\n",
        "              return True\n",
        "          else:\n",
        "              # 다시 이전으로 돌아가기\n",
        "\n",
        "              # 표시된 길 0표시(지우기)\n",
        "              penup()\n",
        "\n",
        "  # 길을 찾지 못한 경우\n",
        "  # \"길을 찾을 수 없습니다\"를 출력하고\n",
        "  # False를 리턴\n",
        "\n",
        "  print(\"길을 찾을 수 없습니다.\")\n",
        "  return False\n",
        "\n",
        "# 시작 위치에서 미로 찾기 시작\n",
        "goto(start_x, start_y)\n",
        "solve_maze(start_x, start_y)\n",
        "import pprint  #pprint는 구조화된 형태로 데이터 출력해주는 함수\n",
        "pprint.pprint(maze)"
      ],
      "metadata": {
        "id": "2j2x3thdGexU",
        "colab": {
          "base_uri": "https://localhost:8080/",
          "height": 146
        },
        "outputId": "fd2c44c3-33f9-4f43-e13f-b2e417028f23"
      },
      "execution_count": null,
      "outputs": [
        {
          "output_type": "error",
          "ename": "IndentationError",
          "evalue": "ignored",
          "traceback": [
            "\u001b[0;36m  File \u001b[0;32m\"<ipython-input-21-55223a0dc6d2>\"\u001b[0;36m, line \u001b[0;32m47\u001b[0m\n\u001b[0;31m    goto(nx*10, ny*10)\u001b[0m\n\u001b[0m    ^\u001b[0m\n\u001b[0;31mIndentationError\u001b[0m\u001b[0;31m:\u001b[0m unexpected indent\n"
          ]
        }
      ]
    },
    {
      "cell_type": "code",
      "source": [
        "!pip install ColabTurtlePlus # ColabTurtle 라이브러리 설치\n",
        "from ColabTurtlePlus.Turtle import * # ColabTurtle 라이브러리에서 Turtle 클래스를 import\n",
        "\n",
        "# 미로 데이터\n",
        "maze = [\n",
        "    [0, 1, 0, 0, 0],\n",
        "    [0, 0, 0, 1, 0],\n",
        "    [0, 1, 1, 0, 0],\n",
        "    [0, 0, 1, 1, 0],\n",
        "    [0, 0, 0, 0, 0]\n",
        "]\n",
        "\n",
        "# 시작 위치와 목적지 위치\n",
        "start_x, start_y = 0, 0\n",
        "end_x, end_y = 4, 4\n",
        "\n",
        "# 터틀 초기 설정\n",
        "# 'logo'가 거북이 이름?, 속도는 1\n",
        "window = (100, 100)\n",
        "initializeTurtle(window, 'logo')\n",
        "speed(1)\n",
        "x=0\n",
        "y=0\n",
        "\n",
        "# 미로 찾기 알고리즘\n",
        "def solve_maze(x, y):\n",
        "  # 목적지에 도착한 경우\n",
        "  if x==4 and y==4 :\n",
        "      # \"미로를 찾았습니다\" 라는 문장을 출력하고\n",
        "    print(\"미로를 찾았습니다\")\n",
        "      # True를 반환한다.\n",
        "    return Ture\n",
        "  # 현재 위치에서 갈 수 있는 방향 탐색\n",
        "  for dx, dy in [(0, 1), (1, 0), (0, -1), (-1, 0)]:\n",
        "    nx, ny = x + dx, y + dy\n",
        "    # 미로 범위(0,0 ~ 4,4) 내에 있고, 갈 수 있는 길인 경우\n",
        "    if start_x <= nx and end_x >= nx and start_y <= ny and end_y >= ny and maze[nx][ny] == 0:\n",
        "      # 갔던 길 표시\n",
        "      print(nx,ny)\n",
        "      print(maze[nx][ny])\n",
        "      maze[nx][ny] = 2\n",
        "      pendown()           #거북이가 움직일 때 선을 그리도록 설정하는 함수\n",
        "      # 다음 위치로 이동\n",
        "      goto(nx*10, ny*10)  # 거북이 다음 위치로 이동\n",
        "      penup()             #거북이가 움직일 때 선을 그리지 않도록 설정하는 함수\n",
        "\n",
        " # 코드를 해석해주세요!!\n",
        "#if solve_maze(nx, ny):\n",
        "  #return True\n",
        "  #else:\n",
        "              # 다시 이전으로 돌아가기\n",
        "\n",
        "              # 표시된 길 0표시(지우기)\n",
        "\n",
        "\n",
        "  # 길을 찾지 못한 경우\n",
        "  # \"길을 찾을 수 없습니다\"를 출력하고\n",
        "  # False를 리턴\n",
        "\n",
        "#print(\"길을 찾을 수 없습니다.\")\n",
        "#return False\n",
        "\n",
        "# 시작 위치에서 미로 찾기 시작\n",
        "goto(start_x, start_y)\n",
        "solve_maze(start_x, start_y)\n",
        "import pprint                           #pprint는 구조화된 형태로 데이터 출력해주는 함수\n",
        "pprint.pprint(maze)"
      ],
      "metadata": {
        "id": "oLNzgGeay30C",
        "colab": {
          "base_uri": "https://localhost:8080/",
          "height": 285
        },
        "outputId": "6067b933-8d4c-4b97-e605-b52805ea66fa"
      },
      "execution_count": null,
      "outputs": [
        {
          "output_type": "stream",
          "name": "stdout",
          "text": [
            "Requirement already satisfied: ColabTurtlePlus in /usr/local/lib/python3.10/dist-packages (2.0.1)\n"
          ]
        },
        {
          "output_type": "display_data",
          "data": {
            "text/plain": [
              "<IPython.core.display.HTML object>"
            ],
            "text/html": [
              "\n",
              "      <svg width=\"100\" height=\"100\">  \n",
              "        <rect width=\"100%\" height=\"100%\" style=\"fill:white;stroke:;stroke-width:1\"/>\n",
              "        \n",
              "        \n",
              "        <line x1=\"50.0\" y1=\"50.0\" x2=\"50.0\" y2=\"50.0\" stroke-linecap=\"round\" style=\"stroke:black;stroke-width:1\" /><line x1=\"50.0\" y1=\"50.0\" x2=\"60.0\" y2=\"50.0\" stroke-linecap=\"round\" style=\"stroke:black;stroke-width:1\" />\n",
              "        \n",
              "        \n",
              "        <g id=\"classic\" visibility=\"visible\" transform=\"rotate(-180.0,60.0,50.0) translate(60.0, 50.0)\">\n",
              "<polygon points=\"-5,-4.5 0,-2.5 5,-4.5 0,4.5\" transform=\"skewX(0) scale(1,1)\" style=\"stroke:black;fill:black;stroke-width:1\" />\n",
              "</g>\n",
              "      </svg>\n",
              "    "
            ]
          },
          "metadata": {}
        },
        {
          "output_type": "stream",
          "name": "stdout",
          "text": [
            "1 0\n",
            "0\n",
            "[[0, 1, 0, 0, 0],\n",
            " [2, 0, 0, 1, 0],\n",
            " [0, 1, 1, 0, 0],\n",
            " [0, 0, 1, 1, 0],\n",
            " [0, 0, 0, 0, 0]]\n"
          ]
        }
      ]
    }
  ]
}