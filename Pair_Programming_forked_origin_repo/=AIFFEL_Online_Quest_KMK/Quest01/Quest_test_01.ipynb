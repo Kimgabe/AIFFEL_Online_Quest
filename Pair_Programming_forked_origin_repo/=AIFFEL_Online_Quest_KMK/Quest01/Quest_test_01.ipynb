{
  "nbformat": 4,
  "nbformat_minor": 0,
  "metadata": {
    "colab": {
      "private_outputs": true,
      "provenance": [],
      "include_colab_link": true
    },
    "kernelspec": {
      "name": "python3",
      "display_name": "Python 3"
    },
    "language_info": {
      "name": "python"
    }
  },
  "cells": [
    {
      "cell_type": "markdown",
      "metadata": {
        "id": "view-in-github",
        "colab_type": "text"
      },
      "source": [
        "<a href=\"https://colab.research.google.com/github/NeatyNut/AIFFEL_Online_Quest/blob/main/Quest01/Quest_test_01.ipynb\" target=\"_parent\"><img src=\"https://colab.research.google.com/assets/colab-badge.svg\" alt=\"Open In Colab\"/></a>"
      ]
    },
    {
      "cell_type": "code",
      "source": [
        "# 첫번째 코드로 확인해주세요"
      ],
      "metadata": {
        "id": "h1q-rhZj2d6X"
      },
      "execution_count": null,
      "outputs": []
    },
    {
      "cell_type": "code",
      "source": [
        "word = input('단어를 입력해주세요 ')\n",
        "word_reverse = word[::-1]\n",
        "\n",
        "  if word == word_reverse :\n",
        "      print('뒤집힌 단어는 : ', word_reverse)\n",
        "      print('입력된 단어는 회문입니다.')"
      ],
      "metadata": {
        "id": "2370r8IoDdl7"
      },
      "execution_count": null,
      "outputs": []
    },
    {
      "cell_type": "code",
      "source": [
        "def word(a) :\n",
        "    if type(a) != str:\n",
        "      a = str(a)\n",
        "\n",
        "    a_reverse = \"\"\n",
        "\n",
        "    for i in reversed(a) :\n",
        "        a_reverse += i\n",
        "\n",
        "    if a == a_reverse :\n",
        "        print('뒤집힌 단어는 :', a_reverse)\n",
        "        print('입력된 단어는 회문입니다.')"
      ],
      "metadata": {
        "id": "8oyi9PyJeo2q"
      },
      "execution_count": null,
      "outputs": []
    },
    {
      "cell_type": "markdown",
      "source": [
        "회문하는 방법을 간결하게 사용하였다. 회문 여부 결과가 출력되게 하였다. 다른 프로젝트 결과물을 상세히 살피는 회고시간이 도움이 되는것같다"
      ],
      "metadata": {
        "id": "F4YTpLaYZptO"
      }
    }
  ]
}