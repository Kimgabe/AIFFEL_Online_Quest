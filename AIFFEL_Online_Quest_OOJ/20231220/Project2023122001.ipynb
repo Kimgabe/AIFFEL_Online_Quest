{
 "cells": [
  {
   "cell_type": "code",
   "execution_count": 1,
   "id": "54d5f3f8",
   "metadata": {},
   "outputs": [],
   "source": [
    "from tensorflow.keras import models, layers\n",
    "import matplotlib.pyplot as plt"
   ]
  },
  {
   "cell_type": "code",
   "execution_count": 2,
   "id": "8f4bfa15",
   "metadata": {},
   "outputs": [
    {
     "name": "stdout",
     "output_type": "stream",
     "text": [
      "Downloading data from https://storage.googleapis.com/tensorflow/tf-keras-datasets/boston_housing.npz\n",
      "57344/57026 [==============================] - 0s 0us/step\n",
      "65536/57026 [==================================] - 0s 0us/step\n",
      "404\n",
      "102\n"
     ]
    }
   ],
   "source": [
    "# keras.datasets 안에 boston_housing 데이터셋을 로드합니다.\n",
    "from keras.datasets import boston_housing\n",
    "\n",
    "(train_data, train_labels), (test_data, test_labels) = boston_housing.load_data()\n",
    "\n",
    "# 데이터셋의 크기를 확인합니다.\n",
    "print(len(train_data))\n",
    "print(len(test_data))"
   ]
  },
  {
   "cell_type": "code",
   "execution_count": 3,
   "id": "5fad6672",
   "metadata": {},
   "outputs": [],
   "source": [
    "# 문제 1-1: 데이터셋의 전처리를 위해 표준화 작업을 수행합니다.\n",
    "# 먼저 입력 데이터의 각 특성의 평균을 뺍니다.\n",
    "mean = train_data.mean(axis=0)\n",
    "train_data -= mean\n",
    "\n",
    "# 평균을 뺀 입력 데이터에서 표준편차를 나눕니다.\n",
    "# 데이터 특성의 중앙이 0에 가깝게 만들고, 표준편차가 1이 되게 만듭니다.\n",
    "std = train_data.std(axis=0)\n",
    "train_data /= std\n",
    "\n",
    "# 테스트 데이터셋도 마찬가지로 평균을 빼고, 표준편차로 나눕니다.\n",
    "test_data -= mean\n",
    "test_data /= std"
   ]
  },
  {
   "cell_type": "code",
   "execution_count": 4,
   "id": "2a8e95a2",
   "metadata": {},
   "outputs": [
    {
     "name": "stdout",
     "output_type": "stream",
     "text": [
      "Model: \"sequential\"\n",
      "_________________________________________________________________\n",
      "Layer (type)                 Output Shape              Param #   \n",
      "=================================================================\n",
      "dense (Dense)                (None, 64)                896       \n",
      "_________________________________________________________________\n",
      "dense_1 (Dense)              (None, 64)                4160      \n",
      "=================================================================\n",
      "Total params: 5,056\n",
      "Trainable params: 5,056\n",
      "Non-trainable params: 0\n",
      "_________________________________________________________________\n"
     ]
    }
   ],
   "source": [
    "# 문제 1-2: 주택 가격 예측을 위한 딥러닝 모델 구성 및 컴파일합니다.\n",
    "# input_shape은 (train_data.shape[1], )으로 구성합니다.\n",
    "# 회귀(예측)을 위한 모델이므로 loss를 mse, metrics를 mae로 사용합니다.\n",
    "from tensorflow.keras import models, layers\n",
    "\n",
    "model = models.Sequential()\n",
    "model.add(layers.Input(shape=(train_data.shape[1], )))\n",
    "model.add(layers.Dense(64, activation='relu'))\n",
    "model.add(layers.Dense(64, activation='softmax'))\n",
    "model.summary()\n",
    "\n",
    "model.compile(loss='mse',\n",
    "              optimizer='rmsprop',\n",
    "              metrics=['mae'])"
   ]
  },
  {
   "cell_type": "code",
   "execution_count": 5,
   "id": "9649e058",
   "metadata": {},
   "outputs": [
    {
     "name": "stdout",
     "output_type": "stream",
     "text": [
      "Epoch 1/60\n",
      "1/1 [==============================] - 1s 1s/step - loss: 571.0565 - mae: 22.0658 - val_loss: 642.9010 - val_mae: 23.6301\n",
      "Epoch 2/60\n",
      "1/1 [==============================] - 0s 19ms/step - loss: 571.0565 - mae: 22.0658 - val_loss: 642.9009 - val_mae: 23.6301\n",
      "Epoch 3/60\n",
      "1/1 [==============================] - 0s 20ms/step - loss: 571.0564 - mae: 22.0658 - val_loss: 642.9010 - val_mae: 23.6301\n",
      "Epoch 4/60\n",
      "1/1 [==============================] - 0s 19ms/step - loss: 571.0565 - mae: 22.0658 - val_loss: 642.9009 - val_mae: 23.6301\n",
      "Epoch 5/60\n",
      "1/1 [==============================] - 0s 18ms/step - loss: 571.0564 - mae: 22.0658 - val_loss: 642.9010 - val_mae: 23.6301\n",
      "Epoch 6/60\n",
      "1/1 [==============================] - 0s 19ms/step - loss: 571.0565 - mae: 22.0658 - val_loss: 642.9009 - val_mae: 23.6301\n",
      "Epoch 7/60\n",
      "1/1 [==============================] - 0s 20ms/step - loss: 571.0565 - mae: 22.0658 - val_loss: 642.9009 - val_mae: 23.6301\n",
      "Epoch 8/60\n",
      "1/1 [==============================] - 0s 19ms/step - loss: 571.0565 - mae: 22.0658 - val_loss: 642.9010 - val_mae: 23.6301\n",
      "Epoch 9/60\n",
      "1/1 [==============================] - 0s 19ms/step - loss: 571.0565 - mae: 22.0658 - val_loss: 642.9010 - val_mae: 23.6301\n",
      "Epoch 10/60\n",
      "1/1 [==============================] - 0s 18ms/step - loss: 571.0565 - mae: 22.0658 - val_loss: 642.9009 - val_mae: 23.6301\n",
      "Epoch 11/60\n",
      "1/1 [==============================] - 0s 20ms/step - loss: 571.0564 - mae: 22.0658 - val_loss: 642.9009 - val_mae: 23.6301\n",
      "Epoch 12/60\n",
      "1/1 [==============================] - 0s 20ms/step - loss: 571.0564 - mae: 22.0658 - val_loss: 642.9010 - val_mae: 23.6301\n",
      "Epoch 13/60\n",
      "1/1 [==============================] - 0s 19ms/step - loss: 571.0565 - mae: 22.0658 - val_loss: 642.9009 - val_mae: 23.6301\n",
      "Epoch 14/60\n",
      "1/1 [==============================] - 0s 19ms/step - loss: 571.0564 - mae: 22.0658 - val_loss: 642.9009 - val_mae: 23.6301\n",
      "Epoch 15/60\n",
      "1/1 [==============================] - 0s 18ms/step - loss: 571.0564 - mae: 22.0658 - val_loss: 642.9009 - val_mae: 23.6301\n",
      "Epoch 16/60\n",
      "1/1 [==============================] - 0s 19ms/step - loss: 571.0564 - mae: 22.0658 - val_loss: 642.9009 - val_mae: 23.6301\n",
      "Epoch 17/60\n",
      "1/1 [==============================] - 0s 19ms/step - loss: 571.0565 - mae: 22.0658 - val_loss: 642.9010 - val_mae: 23.6301\n",
      "Epoch 18/60\n",
      "1/1 [==============================] - 0s 19ms/step - loss: 571.0565 - mae: 22.0658 - val_loss: 642.9010 - val_mae: 23.6301\n",
      "Epoch 19/60\n",
      "1/1 [==============================] - 0s 19ms/step - loss: 571.0564 - mae: 22.0658 - val_loss: 642.9010 - val_mae: 23.6301\n",
      "Epoch 20/60\n",
      "1/1 [==============================] - 0s 23ms/step - loss: 571.0564 - mae: 22.0658 - val_loss: 642.9010 - val_mae: 23.6301\n",
      "Epoch 21/60\n",
      "1/1 [==============================] - 0s 22ms/step - loss: 571.0565 - mae: 22.0658 - val_loss: 642.9010 - val_mae: 23.6301\n",
      "Epoch 22/60\n",
      "1/1 [==============================] - 0s 20ms/step - loss: 571.0565 - mae: 22.0658 - val_loss: 642.9010 - val_mae: 23.6301\n",
      "Epoch 23/60\n",
      "1/1 [==============================] - 0s 19ms/step - loss: 571.0564 - mae: 22.0658 - val_loss: 642.9010 - val_mae: 23.6301\n",
      "Epoch 24/60\n",
      "1/1 [==============================] - 0s 19ms/step - loss: 571.0565 - mae: 22.0658 - val_loss: 642.9009 - val_mae: 23.6301\n",
      "Epoch 25/60\n",
      "1/1 [==============================] - 0s 20ms/step - loss: 571.0565 - mae: 22.0658 - val_loss: 642.9009 - val_mae: 23.6301\n",
      "Epoch 26/60\n",
      "1/1 [==============================] - 0s 18ms/step - loss: 571.0564 - mae: 22.0658 - val_loss: 642.9009 - val_mae: 23.6301\n",
      "Epoch 27/60\n",
      "1/1 [==============================] - 0s 18ms/step - loss: 571.0564 - mae: 22.0658 - val_loss: 642.9009 - val_mae: 23.6301\n",
      "Epoch 28/60\n",
      "1/1 [==============================] - 0s 19ms/step - loss: 571.0564 - mae: 22.0658 - val_loss: 642.9009 - val_mae: 23.6301\n",
      "Epoch 29/60\n",
      "1/1 [==============================] - 0s 20ms/step - loss: 571.0564 - mae: 22.0658 - val_loss: 642.9010 - val_mae: 23.6301\n",
      "Epoch 30/60\n",
      "1/1 [==============================] - 0s 19ms/step - loss: 571.0564 - mae: 22.0658 - val_loss: 642.9009 - val_mae: 23.6301\n",
      "Epoch 31/60\n",
      "1/1 [==============================] - 0s 19ms/step - loss: 571.0564 - mae: 22.0658 - val_loss: 642.9009 - val_mae: 23.6301\n",
      "Epoch 32/60\n",
      "1/1 [==============================] - 0s 18ms/step - loss: 571.0564 - mae: 22.0658 - val_loss: 642.9009 - val_mae: 23.6301\n",
      "Epoch 33/60\n",
      "1/1 [==============================] - 0s 19ms/step - loss: 571.0564 - mae: 22.0658 - val_loss: 642.9009 - val_mae: 23.6301\n",
      "Epoch 34/60\n",
      "1/1 [==============================] - 0s 18ms/step - loss: 571.0565 - mae: 22.0658 - val_loss: 642.9009 - val_mae: 23.6301\n",
      "Epoch 35/60\n",
      "1/1 [==============================] - 0s 18ms/step - loss: 571.0565 - mae: 22.0658 - val_loss: 642.9009 - val_mae: 23.6301\n",
      "Epoch 36/60\n",
      "1/1 [==============================] - 0s 20ms/step - loss: 571.0564 - mae: 22.0658 - val_loss: 642.9009 - val_mae: 23.6301\n",
      "Epoch 37/60\n",
      "1/1 [==============================] - 0s 20ms/step - loss: 571.0564 - mae: 22.0658 - val_loss: 642.9010 - val_mae: 23.6301\n",
      "Epoch 38/60\n",
      "1/1 [==============================] - 0s 21ms/step - loss: 571.0565 - mae: 22.0658 - val_loss: 642.9009 - val_mae: 23.6301\n",
      "Epoch 39/60\n",
      "1/1 [==============================] - 0s 20ms/step - loss: 571.0564 - mae: 22.0658 - val_loss: 642.9009 - val_mae: 23.6301\n",
      "Epoch 40/60\n",
      "1/1 [==============================] - 0s 21ms/step - loss: 571.0564 - mae: 22.0658 - val_loss: 642.9009 - val_mae: 23.6301\n",
      "Epoch 41/60\n",
      "1/1 [==============================] - 0s 19ms/step - loss: 571.0564 - mae: 22.0658 - val_loss: 642.9010 - val_mae: 23.6301\n",
      "Epoch 42/60\n",
      "1/1 [==============================] - 0s 19ms/step - loss: 571.0564 - mae: 22.0658 - val_loss: 642.9009 - val_mae: 23.6301\n",
      "Epoch 43/60\n",
      "1/1 [==============================] - 0s 20ms/step - loss: 571.0565 - mae: 22.0658 - val_loss: 642.9010 - val_mae: 23.6301\n",
      "Epoch 44/60\n",
      "1/1 [==============================] - 0s 19ms/step - loss: 571.0565 - mae: 22.0658 - val_loss: 642.9009 - val_mae: 23.6301\n",
      "Epoch 45/60\n",
      "1/1 [==============================] - 0s 19ms/step - loss: 571.0565 - mae: 22.0658 - val_loss: 642.9009 - val_mae: 23.6301\n",
      "Epoch 46/60\n",
      "1/1 [==============================] - 0s 27ms/step - loss: 571.0564 - mae: 22.0658 - val_loss: 642.9009 - val_mae: 23.6301\n",
      "Epoch 47/60\n",
      "1/1 [==============================] - 0s 25ms/step - loss: 571.0565 - mae: 22.0658 - val_loss: 642.9009 - val_mae: 23.6301\n",
      "Epoch 48/60\n",
      "1/1 [==============================] - 0s 20ms/step - loss: 571.0565 - mae: 22.0658 - val_loss: 642.9009 - val_mae: 23.6301\n",
      "Epoch 49/60\n",
      "1/1 [==============================] - 0s 19ms/step - loss: 571.0565 - mae: 22.0658 - val_loss: 642.9009 - val_mae: 23.6301\n",
      "Epoch 50/60\n",
      "1/1 [==============================] - 0s 20ms/step - loss: 571.0565 - mae: 22.0658 - val_loss: 642.9009 - val_mae: 23.6301\n",
      "Epoch 51/60\n",
      "1/1 [==============================] - 0s 21ms/step - loss: 571.0564 - mae: 22.0658 - val_loss: 642.9010 - val_mae: 23.6301\n",
      "Epoch 52/60\n",
      "1/1 [==============================] - 0s 22ms/step - loss: 571.0565 - mae: 22.0658 - val_loss: 642.9009 - val_mae: 23.6301\n",
      "Epoch 53/60\n",
      "1/1 [==============================] - 0s 22ms/step - loss: 571.0565 - mae: 22.0658 - val_loss: 642.9010 - val_mae: 23.6301\n",
      "Epoch 54/60\n",
      "1/1 [==============================] - 0s 21ms/step - loss: 571.0565 - mae: 22.0658 - val_loss: 642.9009 - val_mae: 23.6301\n",
      "Epoch 55/60\n",
      "1/1 [==============================] - 0s 23ms/step - loss: 571.0564 - mae: 22.0658 - val_loss: 642.9009 - val_mae: 23.6301\n",
      "Epoch 56/60\n",
      "1/1 [==============================] - 0s 24ms/step - loss: 571.0565 - mae: 22.0658 - val_loss: 642.9009 - val_mae: 23.6301\n",
      "Epoch 57/60\n",
      "1/1 [==============================] - 0s 24ms/step - loss: 571.0563 - mae: 22.0658 - val_loss: 642.9010 - val_mae: 23.6301\n",
      "Epoch 58/60\n",
      "1/1 [==============================] - 0s 20ms/step - loss: 571.0564 - mae: 22.0658 - val_loss: 642.9009 - val_mae: 23.6301\n",
      "Epoch 59/60\n",
      "1/1 [==============================] - 0s 20ms/step - loss: 571.0565 - mae: 22.0658 - val_loss: 642.9010 - val_mae: 23.6301\n",
      "Epoch 60/60\n",
      "1/1 [==============================] - 0s 21ms/step - loss: 571.0565 - mae: 22.0658 - val_loss: 642.9009 - val_mae: 23.6301\n"
     ]
    }
   ],
   "source": [
    "# 문제 1-3: 예측을 위한 딥러닝 모델을 학습합니다.\n",
    "history = model.fit(train_data, train_labels,\n",
    "                    epochs=60,\n",
    "                    batch_size=512,\n",
    "                    validation_split=0.2)"
   ]
  },
  {
   "cell_type": "code",
   "execution_count": 6,
   "id": "a330842b",
   "metadata": {},
   "outputs": [
    {
     "data": {
      "image/png": "[encoded data removed]",
      "text/plain": [
       "<Figure size 864x360 with 2 Axes>"
      ]
     },
     "metadata": {},
     "output_type": "display_data"
    }
   ],
   "source": [
    "# 모델 학습 히스토리에서 loss, val_loss, mae, val_mae를 차트로 보여줍니다.\n",
    "plt.style.use('seaborn-white')\n",
    "\n",
    "history_dict = history.history\n",
    "\n",
    "loss = history_dict['loss']\n",
    "val_loss = history_dict['val_loss']\n",
    "\n",
    "epochs = range(1, len(loss) + 1)\n",
    "fig = plt.figure(figsize=(12, 5))\n",
    "\n",
    "ax1 = fig.add_subplot(1, 2, 1)\n",
    "ax1.plot(epochs, loss, 'b-', label='train_loss')\n",
    "ax1.plot(epochs, val_loss, 'r-', label='val_loss')\n",
    "ax1.set_title('Train and Validation Loss')\n",
    "ax1.set_xlabel('Epochs')\n",
    "ax1.set_ylabel('Loss')\n",
    "ax1.grid()\n",
    "ax1.legend()\n",
    "\n",
    "mae = history_dict['mae']\n",
    "val_mae = history_dict['val_mae']\n",
    "\n",
    "ax2 = fig.add_subplot(1, 2, 2)\n",
    "ax2.plot(epochs, mae, 'b-', label='train_mae')\n",
    "ax2.plot(epochs, val_mae, 'r-', label='val_mae')\n",
    "ax2.set_title('Train and Validation MAE')\n",
    "ax2.set_xlabel('Epochs')\n",
    "ax2.set_ylabel('Accuracy')\n",
    "ax2.grid()\n",
    "ax2.legend()\n",
    "\n",
    "plt.show()"
   ]
  },
  {
   "cell_type": "code",
   "execution_count": 7,
   "id": "c5d96144",
   "metadata": {},
   "outputs": [
    {
     "name": "stdout",
     "output_type": "stream",
     "text": [
      "4/4 [==============================] - 0s 2ms/step - loss: 615.1369 - mae: 23.0628\n"
     ]
    }
   ],
   "source": [
    "# 문제 1-4: 테스트 데이터셋을 이용해 모델을 평가합니다.\n",
    "test_loss, test_mae = model.evaluate(test_data, test_labels)"
   ]
  },
  {
   "cell_type": "code",
   "execution_count": null,
   "id": "04349092",
   "metadata": {},
   "outputs": [],
   "source": []
  }
 ],
 "metadata": {
  "kernelspec": {
   "display_name": "Python 3 (ipykernel)",
   "language": "python",
   "name": "python3"
  },
  "language_info": {
   "codemirror_mode": {
    "name": "ipython",
    "version": 3
   },
   "file_extension": ".py",
   "mimetype": "text/x-python",
   "name": "python",
   "nbconvert_exporter": "python",
   "pygments_lexer": "ipython3",
   "version": "3.9.7"
  }
 },
 "nbformat": 4,
 "nbformat_minor": 5
}
