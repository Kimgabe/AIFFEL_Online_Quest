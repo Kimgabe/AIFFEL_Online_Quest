{
  "nbformat": 4,
  "nbformat_minor": 0,
  "metadata": {
    "colab": {
      "provenance": [],
      "include_colab_link": true
    },
    "kernelspec": {
      "name": "python3",
      "display_name": "Python 3"
    },
    "language_info": {
      "name": "python"
    }
  },
  "cells": [
    {
      "cell_type": "markdown",
      "metadata": {
        "id": "view-in-github",
        "colab_type": "text"
      },
      "source": [
        "<a href=\"https://colab.research.google.com/github/ImOWJ/AIFFEL_Online_Quest/blob/main/Quest01.ipynb\" target=\"_parent\"><img src=\"https://colab.research.google.com/assets/colab-badge.svg\" alt=\"Open In Colab\"/></a>"
      ]
    },
    {
      "cell_type": "code",
      "source": [
        "import re\n",
        "\n",
        "# 단어 입력받는 함수\n",
        "def getWord():\n",
        "  return(input('입력값 : '))\n",
        "\n",
        "# 회문을 확인하기 전 필요없는 부분을 치환해주는 함수\n",
        "def palindromes(word, p_word):\n",
        "  #공백 및 대소문자 변환\n",
        "  word = word.replace(' ','').lower()\n",
        "  p_word = p_word.replace(' ','').lower()\n",
        "\n",
        "  # 특수문자 제거\n",
        "  word = re.sub(r\"[^\\uAC00-\\uD7A30-9a-zA-Z\\s]\", \"\", word)\n",
        "  p_word = re.sub(r\"[^\\uAC00-\\uD7A30-9a-zA-Z\\s]\", \"\", p_word)\n",
        "\n",
        "  return(word, p_word)\n",
        "\n",
        "word = getWord()\n",
        "\n",
        "p_word = ''\n",
        "\n",
        "# 단어 뒤집는 반복문\n",
        "for i in word[::-1]:\n",
        "    p_word += i\n",
        "\n",
        "# 뒤집한 단어 출력\n",
        "print('뒤집힌 단어는 :', p_word)\n",
        "\n",
        "word, p_word = palindromes(word, p_word)\n",
        "\n",
        "# 입력값과 출력값을 비교하고, 회문을 판단하는 조건문\n",
        "if word == p_word:\n",
        "  print('입력된 단어는 회문입니다')\n",
        "else:\n",
        "  print('입력된 단어는 회문이 아닙니다')"
      ],
      "metadata": {
        "id": "TTkh695lW8U0",
        "colab": {
          "base_uri": "https://localhost:8080/"
        },
        "outputId": "e1089b6f-04fa-4a36-8ede-18565c06109f"
      },
      "execution_count": null,
      "outputs": [
        {
          "output_type": "stream",
          "name": "stdout",
          "text": [
            "입력값 : Cigar? Toss it in a can. It is so tragic.\n",
            "뒤집힌 단어는 : .cigart os si tI .nac a ni ti ssoT ?ragiC\n",
            "입력된 단어는 회문입니다\n"
          ]
        }
      ]
    },
    {
      "cell_type": "code",
      "source": [],
      "metadata": {
        "id": "Xc8PH25Vaq7q"
      },
      "execution_count": null,
      "outputs": []
    }
  ]
}