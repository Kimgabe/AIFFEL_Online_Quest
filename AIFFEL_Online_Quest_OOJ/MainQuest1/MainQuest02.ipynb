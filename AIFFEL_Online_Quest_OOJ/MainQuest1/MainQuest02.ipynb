{
  "nbformat": 4,
  "nbformat_minor": 0,
  "metadata": {
    "colab": {
      "provenance": [],
      "authorship_tag": "ABX9TyMtTSqv0oLHQo7+qdYIfFY2",
      "include_colab_link": true
    },
    "kernelspec": {
      "name": "python3",
      "display_name": "Python 3"
    },
    "language_info": {
      "name": "python"
    }
  },
  "cells": [
    {
      "cell_type": "markdown",
      "metadata": {
        "id": "view-in-github",
        "colab_type": "text"
      },
      "source": [
        "<a href=\"https://colab.research.google.com/github/ImOWJ/AIFFEL_Online_Quest/blob/main/MainQuest1/MainQuest02.ipynb\" target=\"_parent\"><img src=\"https://colab.research.google.com/assets/colab-badge.svg\" alt=\"Open In Colab\"/></a>"
      ]
    },
    {
      "cell_type": "code",
      "execution_count": null,
      "metadata": {
        "id": "bUVUAKEsKf6K"
      },
      "outputs": [],
      "source": [
        "import pandas as pd\n",
        "import os\n",
        "\n",
        "studentList = []\n",
        "\n",
        "class Aiffel:\n",
        "    def __init__(self, name):\n",
        "        coreStudent = {'강영현': 0, '김경민':0, '김민기': 0, '김승순': 0,\n",
        "                '김양희': 0, '김영신':0, '오우진': 0, '윤혜윤': 0,\n",
        "                '이상원': 0, '이선재': 0, '이슬': 0, '이승환': 0,\n",
        "                '전민규': 0, '조보겸': 0, '조수민': 0, '최강훈': 0\n",
        "                , '한현종': 0, '홍채림': 0}\n",
        "\n",
        "        coreStudent.update({'강영현': '2329201', '김경민': '2329101', '김민기': '2329202', '김승순': '2329203',\n",
        "                '김양희': '2329204', '김영신': '2329102', '오우진': '2329205', '윤혜윤': '2329206',\n",
        "                '이상원': '2329207', '이선재': '2329208', '이슬': '2329209', '이승환': '2329210',\n",
        "                '전민규': '2329211', '조보겸': '2329212', '조수민': '2329213', '최강훈': '2329214'\n",
        "                , '한현종': '2329215', '홍채림': '2329216'})\n",
        "\n",
        "        self.name = name\n",
        "        self.id_num = coreStudent.get(self.name)\n",
        "        self.score = 0\n",
        "        self.penalty = 0\n",
        "        self.tot = 0\n",
        "        self.coreStudent = coreStudent\n",
        "        studentList.append(self)\n",
        "\n",
        "        def get_id_num(self):\n",
        "            values = self.coreStudent.values()\n",
        "            print('총 학번은? : ')\n",
        "            print('현재 학번은? : ',self.coreStudent.get(self.name))\n",
        "\n",
        "        def score(self):\n",
        "            result = 0\n",
        "            while result != 1 and result != 2 and result != 3:\n",
        "                result = int(input('퀘스트 점수를 입력하세요 (1~3점) : '))\n",
        "                if 0 < result < 4:\n",
        "                    self.score += result\n",
        "                    self.tot += result\n",
        "                else:\n",
        "                    print(\"1~3점 으로 점수를 입력해주세요\")\n",
        "\n",
        "        def penalty(self):\n",
        "            result = 0\n",
        "            while result <= 0:\n",
        "                result = int(input('패널티 점수를 입력하세요 : '))\n",
        "                if penalty > 0:\n",
        "                    self.penalty += result\n",
        "                    self.tot -= result\n",
        "                else:\n",
        "                    print(\"0이상으로 점수를 입력해주세요\")\n",
        "\n",
        "        def display_info(self):\n",
        "            if self.id_num[4] == '1':\n",
        "              category = 'Reserch'\n",
        "            else:\n",
        "              category == 'Core'\n",
        "            df = pd.DataFrame({'이름':self.name, '학번':self.id_num, '과정종류':category, '퀘스트 점수 총점':self.tot, '퀘스트 입력 총점':self.score, '퀘스트 penalty':self.penalty})\n",
        "            os.chdir('D:/visualcode')\n",
        "            df.to_csv('displayInfo.csv')\n",
        "\n",
        "        def delete(self):\n",
        "          self.coreStudent.pop('김경민')\n",
        "          self.coreStudent.pop('김영신')\n",
        "          print(self.coreStudent)\n",
        "\n",
        "class Aiffel_Group(Aiffel):\n",
        "\n",
        "\n",
        "\n",
        "\n",
        "\n",
        "\n",
        "\n",
        "\n",
        "\n",
        ""
      ]
    }
  ]
}