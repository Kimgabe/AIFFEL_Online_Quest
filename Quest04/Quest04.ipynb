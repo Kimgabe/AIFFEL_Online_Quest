{
  "nbformat": 4,
  "nbformat_minor": 0,
  "metadata": {
    "colab": {
      "provenance": [],
      "include_colab_link": true
    },
    "kernelspec": {
      "name": "python3",
      "display_name": "Python 3"
    },
    "language_info": {
      "name": "python"
    }
  },
  "cells": [
    {
      "cell_type": "markdown",
      "metadata": {
        "id": "view-in-github",
        "colab_type": "text"
      },
      "source": [
        "<a href=\"https://colab.research.google.com/github/Kimgabe/AIFFEL_Online_Quest/blob/main/Quest04/Quest04.ipynb\" target=\"_parent\"><img src=\"https://colab.research.google.com/assets/colab-badge.svg\" alt=\"Open In Colab\"/></a>"
      ]
    },
    {
      "cell_type": "markdown",
      "source": [
        "# 문제 정의"
      ],
      "metadata": {
        "id": "A-4qDs2wjest"
      }
    },
    {
      "cell_type": "markdown",
      "source": [
        "코더 : 김양희, 김승순\n",
        "\n",
        "\n",
        "[파이썬] 퀘스트: 거북이 미로찾기\n",
        "\n",
        "난이도: ★★★☆☆\n",
        "\n",
        "장르: ColabTurtlePlus, 함수, 조건문 활용\n",
        "\n",
        "---\n",
        "\n",
        "다음은 ColabTurtle을 사용하여 미로를 찾는 문제.\n",
        "조건을 확인하여 거북이가 미로를 헤매지 않도록 출구를 찾아주도록 하자.\n",
        "\n",
        "조건 :\n",
        "미로는 5x5의 2차원 리스트로 주어진다.\n",
        "시작 위치는 (0,0)이고 목적지는 (4,4)이다.\n",
        "터틀은 상하좌우로 움직일 수 있다.\n",
        "미로 내에서 갈 수 있는 길은 0으로 표시되어 있다.\n",
        "터틀이 이미 지나간 길은 2로 표시해야한다.\n",
        "거북이가 미로를 찾아 나가면 \"미로를 찾았습니다.\",\n",
        "미로를 찾을 수 없으면 \"미로를 찾을 수 없습니다.\"가 나올 수 있도록 만들어보자!\n",
        "\n",
        "- 주석으로 구현 내용이 써있는 부분을 코드로 채워주세요!!\n",
        "- 코드를 해석해주세요 부분은 코드에 대한 설명을 주석으로 써주세요!!\n",
        "\n",
        "결과물은 다음과 같아야 합니다 :)\n",
        "\n",
        "![image.png](data:image/png;base64,iVBORw0KGgoAAAANSUhEUgAAAGkAAABpCAIAAAC24JptAAACrElEQVR4nO3dP2vqUBzG8dNLUSg46CTZzeauo27OOutLEMRJIQpxyStwFWddXBxEcHMIDiFb3BycEqIiKDikg8Pt9WpaHu6NR3g+S0P+4OHLryFtKH3L5XKCIL+evYAX9n79slwun7uOF5LP568bnDsc2+HYDsd2OLa7ValUKpXKT858/99LeS22bU8mkyAIbNvOZrPhJ3Pu/tBqtS6XSyKRqNfr357Mdr/NZrP5fC6E8H1/tVrNZrPw8+X9nu12u+v1WlXVu0cdxxFC/Nuj/X7/dDpdtw+HQ7PZtCwrZIXyzt16vd5ut5F9nGVZ+/3+657NZjMcDkMukXfuVFVVVbXT6UTzcel0+nw+f92z2+3a7Xa1Wn10ibxzFyXDMI7H43U7Foslk8nrtu/7hmE8uorthOu6mqYFQSCEqNVq0+l0PB6Xy2UhRBAEmqa5rnv3QrYTpmnG4/Fer+d53mAwKBaLhUJhNBp5ntdoND4+PkzTvHuhvPe7yJRKpcPh8Pf+VCql67qu648u5Nzh2A7Hdjh573fXp3+Zce5w8s7do59G5cG5w7Edju1wbIdjOxzb4dgOJ+/zneM4Ib9zdxwnk8l0u90ol3RD3naZTCbkaJSvMh6Rt91zZ+oneL/DsR2O7XBsh2M7HNvh2A4n7/NdOBneZnDucK86dzK8zeDc4dgOx3Y4tsOxHY7tcGyHk/f5LvzvKxaLhaIoES/pxqvOnaIo4S80IiD13D17Cd941bmTAdvh2A7Hdji2w7Edju1wbIdjOxzb4dgOx3Y4tsOxHY7tcGyHYzsc2+HYDsd2OLbDsR2O7XBsh2M7HNvh2A7Hdji2w7Edju1wbIdjOxzb4dgOx3Y4tsOxHY7tcGyHYzsc2+HYDsd2OLbDsR2O7XBsh3vj/3mHce5wbIf7BCpkq4fB2TGFAAAAAElFTkSuQmCC)"
      ],
      "metadata": {
        "id": "rcY0QgqgHWur"
      }
    },
    {
      "cell_type": "markdown",
      "source": [
        "## 문제 풀이 방법\n",
        "- 아래의 샘플 코드에 코드를 입력해야할 부분, 또는 주석을 달아야 할 부분에 정답을 입력하여 제출"
      ],
      "metadata": {
        "id": "n92D4dp7jpFw"
      }
    },
    {
      "cell_type": "code",
      "source": [
        "!pip install ColabTurtlePlus # ColabTurtle 라이브러리 설치\n",
        "from ColabTurtlePlus.Turtle import * # ColabTurtle 라이브러리에서 Turtle 클래스를 import"
      ],
      "metadata": {
        "colab": {
          "base_uri": "https://localhost:8080/"
        },
        "id": "bXM8ZD6qj0Rw",
        "outputId": "3289505b-245c-4687-b0d9-a447297b7cc8"
      },
      "execution_count": 2,
      "outputs": [
        {
          "output_type": "stream",
          "name": "stdout",
          "text": [
            "Requirement already satisfied: ColabTurtlePlus in /usr/local/lib/python3.10/dist-packages (2.0.1)\n"
          ]
        }
      ]
    },
    {
      "cell_type": "markdown",
      "source": [
        "함수구조\n",
        "- 재귀함수 구조인것 같음\n",
        "- 목적지 도착 여부 확인하는 함수를 지속적으로 호출\n",
        "- for문에서 길찾기 작업을 지속 시행\n",
        "  - 갈수있는길(좌표값이 0인지) 확인\n",
        "  - 갈수있는길이면 이동 후 좌표값 변경\n",
        "  - 갔던길로 표시 -> 2로 변경\n",
        "  - 갈수 없는길이면 2로 변경했던 값을 다시 0으로 바꾸고 이전 자리로 되돌아오기\n",
        "  - 함수 재호출\n",
        "- 의 과정을 (4,4) 에 도달할때 까지 반복"
      ],
      "metadata": {
        "id": "eHoBIoW2mUCx"
      }
    },
    {
      "cell_type": "code",
      "source": [
        "# 미로 데이터\n",
        "maze = [\n",
        "    [0, 1, 0, 0, 0],\n",
        "    [0, 0, 0, 1, 0],\n",
        "    [0, 1, 1, 0, 0],\n",
        "    [0, 0, 1, 1, 0],\n",
        "    [0, 0, 0, 0, 0]\n",
        "]\n",
        "\n",
        "# 시작 위치와 목적지 위치\n",
        "start_x, start_y = 0, 0 # 좌표 형태로 값 입력\n",
        "end_x, end_y = 4, 4\n",
        "\n",
        "# 터틀 초기 설정\n",
        "window = (100, 100)\n",
        "initializeTurtle(window, 'logo')\n",
        "speed(1)\n",
        "\n",
        "\n",
        "# 미로 찾기 알고리즘 구현\n",
        "def solve_maze(x,y):\n",
        "    # 목적지에 도착한 경우 -> 조건문(목적지 좌표와 동일한 경우 True)\n",
        "    if x == end_x and y == end_y:\n",
        "      # \"미로를 찾았습니다\" 라는 문장을 출력하고\n",
        "      print(\"미로를 찾았습니다.\")\n",
        "\n",
        "      # True를 반환한다.\n",
        "      return True\n",
        "\n",
        "    # 현재 위치에서 갈 수 있는 방향\n",
        "    \"\"\"\n",
        "    좌표값의 의미가 뭘까..?! -> 2차원 배열의 행과 열!\n",
        "    오른쪽 1칸 : (0,1) -> 열idx + 1\n",
        "    왼쪽 1칸 : (0, -1) -> 행 idx -1\n",
        "    아래쪽 1칸 : (1,0) -> 행 idx + 1\n",
        "    위쪽 1칸 (-1, 0) -> 열 idx -1\n",
        "    아래 for문은 실제 움직일 액션 부분\n",
        "    dx, dy에 tuple로 list안의 값이 2개씩 할당\n",
        "    dx = (0,1) , dy = (1,0) 1 set\n",
        "    dx = (0,-1) , dy = (-1,0) 1 set\n",
        "    \"\"\"\n",
        "    for dx, dy in [(0, 1), (1, 0), (0, -1), (-1, 0)]:\n",
        "    # dx = direction_x, dy = direction_y\n",
        "    # nx = next_x , ny = next_y -> 이동할 좌표란 의미\n",
        "      nx, ny = x + dx, y + dy\n",
        "\n",
        "      # 미로 범위(0,0 ~ 4,4) 내에 있고, 갈 수 있는 길인 경우 -> 조건문\n",
        "\n",
        "      if 0 <= nx < 5 and 0 <= ny < 5 and maze[nx][ny] == 0:\n",
        "\n",
        "        # 갔던 길 표시 -> 갔던길 = 지나온길 = 다음위치 이동 직전 위치 = 현재위치\n",
        "        maze[nx][ny] = 2\n",
        "\n",
        "        pendown() # 팬 종이에 놓기\n",
        "        # 다음 위치로 이동\n",
        "        # window범위가 100(pixel단위) 이고 1칸 이동했으므로 각 idx값에 10 곱해서 1칸 이동\n",
        "        goto(nx*10, ny*10)  # 거북이 다음 위치로 이동\n",
        "\n",
        "        penup() # 팬 종이에서 떼기\n",
        "\n",
        "        # 코드를 해석해주세요!!\n",
        "        \"\"\"\n",
        "        <코드해석>\n",
        "        solve_maze라는 함수를 재귀함수로 사용해 True가 나오는 값(이동할 수 있는 값 = 0)을 계속 찾는 작업을 수행\n",
        "        True반환시 목적지에 도달했음을 의미하며, 재귀 호출이 종료됨\n",
        "        아래 if문은 액션의 결과(목적지에 도착했는지?)를 판단하고 다음 행동을 결정할 파트.\n",
        "        solve_maze(x,y) 에서 (x,y)는 거북이의 현재 위치임.\n",
        "        이 현 위치에서 nx, ny 만큼 이동한 이후 이동 가능한 곳인지 판단.\n",
        "        이동 가능한 곳이면 이동 후 지나온 자리를 2로 업데이트 -> 되돌아 갈 수 없게 만듦.\n",
        "        이동이 불가능한 곳이면 이동을 취소하고 원래 자리로 되돌아 와서 다시 solve_maze를 재귀호출하여 탐색\n",
        "        \"\"\"\n",
        "        # for문으로 이동 액션 이후 solve_maze호출 -> 현 위치가 미로범위안인지, 이동가능한 곳인지 파악\n",
        "        if solve_maze(nx, ny):\n",
        "            return True\n",
        "        # 결과값이 True = 목적지 도착 / False이면 아직 도착하지 않음 = 지속 탐색(else 문 실행)\n",
        "        else:\n",
        "            # 다시 이전으로 돌아가기 (이동했던 만큼 다시 돌아가야 함으로 같은 값 입력)\n",
        "            goto(nx*10, ny*10) # 원래 위치로 거북이를 되돌리기 위해 '이전위치'로 이동한 것\n",
        "            maze[nx][ny] = 0 # 표시된 길 0표시(지우기) -> 위에 2로 업데이트한 값을 다시 0으로 -> 다른 경로 탐색시 그 길을 다시 시도하도록 하기 위함\n",
        "\n",
        "\n",
        "    # 길을 찾지 못한 경우\n",
        "    # \"길을 찾을 수 없습니다\"를 출력하고\n",
        "    # False를 리턴\n",
        "    print(\"길을 찾을 수 없습니다.\")\n",
        "    return False\n",
        "\n",
        "# 실행파트\n",
        "# 시작 위치에서 미로 찾기 시작\n",
        "goto(start_x, start_y)\n",
        "solve_maze(start_x, start_y)\n",
        "import pprint\n",
        "pprint.pprint(maze)"
      ],
      "metadata": {
        "colab": {
          "base_uri": "https://localhost:8080/",
          "height": 227
        },
        "id": "SOvvJmRZohlg",
        "outputId": "ccb40516-91e8-400e-d015-2f778ea3e871"
      },
      "execution_count": 3,
      "outputs": [
        {
          "output_type": "display_data",
          "data": {
            "text/plain": [
              "<IPython.core.display.HTML object>"
            ],
            "text/html": [
              "\n",
              "      <svg width=\"100\" height=\"100\">  \n",
              "        <rect width=\"100%\" height=\"100%\" style=\"fill:white;stroke:;stroke-width:1\"/>\n",
              "        \n",
              "        \n",
              "        <line x1=\"50.0\" y1=\"50.0\" x2=\"50.0\" y2=\"50.0\" stroke-linecap=\"round\" style=\"stroke:black;stroke-width:1\" /><line x1=\"50.0\" y1=\"50.0\" x2=\"60.0\" y2=\"50.0\" stroke-linecap=\"round\" style=\"stroke:black;stroke-width:1\" /><line x1=\"60.0\" y1=\"50.0\" x2=\"60.0\" y2=\"40.0\" stroke-linecap=\"round\" style=\"stroke:black;stroke-width:1\" /><line x1=\"60.0\" y1=\"40.0\" x2=\"60.0\" y2=\"30.0\" stroke-linecap=\"round\" style=\"stroke:black;stroke-width:1\" /><line x1=\"60.0\" y1=\"30.0\" x2=\"50.0\" y2=\"30.0\" stroke-linecap=\"round\" style=\"stroke:black;stroke-width:1\" /><line x1=\"50.0\" y1=\"30.0\" x2=\"50.0\" y2=\"20.0\" stroke-linecap=\"round\" style=\"stroke:black;stroke-width:1\" /><line x1=\"50.0\" y1=\"20.0\" x2=\"50.0\" y2=\"10.0\" stroke-linecap=\"round\" style=\"stroke:black;stroke-width:1\" /><line x1=\"50.0\" y1=\"10.0\" x2=\"60.0\" y2=\"10.0\" stroke-linecap=\"round\" style=\"stroke:black;stroke-width:1\" /><line x1=\"60.0\" y1=\"10.0\" x2=\"70.0\" y2=\"10.0\" stroke-linecap=\"round\" style=\"stroke:black;stroke-width:1\" /><line x1=\"70.0\" y1=\"10.0\" x2=\"80.0\" y2=\"10.0\" stroke-linecap=\"round\" style=\"stroke:black;stroke-width:1\" /><line x1=\"80.0\" y1=\"10.0\" x2=\"90.0\" y2=\"10.0\" stroke-linecap=\"round\" style=\"stroke:black;stroke-width:1\" />\n",
              "        \n",
              "        \n",
              "        <g id=\"classic\" visibility=\"visible\" transform=\"rotate(-180.0,90.0,10.0) translate(90.0, 10.0)\">\n",
              "<polygon points=\"-5,-4.5 0,-2.5 5,-4.5 0,4.5\" transform=\"skewX(0) scale(1,1)\" style=\"stroke:black;fill:black;stroke-width:1\" />\n",
              "</g>\n",
              "      </svg>\n",
              "    "
            ]
          },
          "metadata": {}
        },
        {
          "output_type": "stream",
          "name": "stdout",
          "text": [
            "미로를 찾았습니다.\n",
            "[[0, 1, 2, 2, 2],\n",
            " [2, 2, 2, 1, 2],\n",
            " [0, 1, 1, 0, 2],\n",
            " [0, 0, 1, 1, 2],\n",
            " [0, 0, 0, 0, 2]]\n"
          ]
        }
      ]
    },
    {
      "cell_type": "markdown",
      "source": [
        "## 정답지 수정\n",
        "- 재귀의 작동과정이 눈에 직관적으로 보이지 않고, 설명이 너무 많은 코드라서 코드를 직관적으로 이해하기 위해 각 단계별 액션을 출력하도록 print문을 추가하고 주석을 최대한 간결하게 수정\n",
        "- 추가로, else문의 액션도 확인하고 싶어서 일부러 (4,4)로 갈수 없는 미로 생성"
      ],
      "metadata": {
        "id": "0cMGAAYBoUta"
      }
    },
    {
      "cell_type": "code",
      "source": [
        "# 미로 데이터 else문이 출력되는 결과와 길찾기 실패를 보기 위해 일부러 (4,4)로 갈 수 없는 미로를 만듬\n",
        "maze = [\n",
        "    [0, 1, 0, 0, 0], # 0은 갈 수 있는 길, 1은 벽을 의미\n",
        "    [0, 0, 0, 1, 0],\n",
        "    [0, 1, 1, 0, 0],\n",
        "    [0, 0, 1, 1, 1],\n",
        "    [0, 0, 0, 1, 0]\n",
        "]\n",
        "\n",
        "# 시작 위치와 목적지 위치를 설정\n",
        "start_x, start_y = 0, 0 # 시작 위치는 (0,0)\n",
        "end_x, end_y = 4, 4 # 목적지 위치는 (4,4)\n",
        "\n",
        "# 터틀 초기 설정 : 터틀 그래픽 윈도우의 크기와 속도를 설정\n",
        "window = (100, 100) # 윈도우 크기를 100x100으로 설정\n",
        "initializeTurtle(window, 'logo') # 터틀을 초기화\n",
        "speed(1) # 터틀의 속도를 설정 (1은 가장 느린 속도)\n",
        "\n",
        "# 미로 찾기 알고리즘을 정의한 함수\n",
        "def solve_maze(x, y):\n",
        "    # 만약 현재 위치가 목적지(4,4)와 같다면, 미로를 찾았다는 메시지를 출력하고 True를 반환\n",
        "    if x == end_x and y == end_y:\n",
        "        print(\"미로를 찾았습니다.\")\n",
        "        return True\n",
        "\n",
        "    # 현재 위치에서 이동할 수 있는 네 방향을 검사\n",
        "    directions = [(0, 1, '오른쪽'), (1, 0, '아래'), (0, -1, '왼쪽'), (-1, 0, '위')]\n",
        "    for dx, dy, direction in directions:\n",
        "    #for dx, dy in [(0, 1), (1, 0), (0, -1), (-1, 0)]:\n",
        "        nx, ny = x + dx, y + dy # 다음 위치를 계산\n",
        "\n",
        "        # 만약 다음 위치가 미로 범위 내에 있고 갈 수 있는 길이라면(즉, maze[nx][ny]가 0이라면),\n",
        "        # 다음 위치로 이동\n",
        "        if 0 <= nx < 5 and 0 <= ny < 5 and maze[nx][ny] == 0:\n",
        "            print(f\"이동 시도: 현재 위치 ({x}, {y}) -> 다음 위치 ({nx}, {ny}), 방향: {direction}\")\n",
        "            maze[nx][ny] = 2 # 다음 위치를 '이미 지나간 길(문제에서 2로 지정)'로 표시\n",
        "\n",
        "            pendown() # 종이에 펜을 내린다.\n",
        "            goto(nx*10, ny*10) # 터틀을 다음 위치로 이동시킨다.\n",
        "\n",
        "            penup() # 터틀의 펜을 종이에서 뗀다.\n",
        "\n",
        "            # 재귀적으로 다음 위치에서 미로 찾기를 계속 진행\n",
        "            if solve_maze(nx, ny):\n",
        "                return True # 길을 찾으면 True를 반환\n",
        "            else:\n",
        "                # 길을 찾지 못한 경우, 다시 원래 위치로 돌아감\n",
        "                print(f\"막힘: 다음 위치 ({nx}, {ny}) -> 되돌아감 ({x}, {y}), 방향: {direction}\")\n",
        "                goto(x*10, y*10) # 터틀을 원래 위치로 이동\n",
        "                maze[nx][ny] = 0 # 지나온 길을 다시 '갈 수 있는 길'로 표시\n",
        "                # 0으로 바꾸는 이유는 해당 위치에서 '한방향' 으로만 시도했으므로, 나머지 방향에 대한 시도를 하도록 하기 위함\n",
        "\n",
        "    # 모든 방향을 검사했음에도 길을 찾지 못했다면, 실패 메시지를 출력하고 False를 반환\n",
        "    print(f\"길을 찾을 수 없습니다: 현재 위치 ({x}, {y})\")\n",
        "    return False\n",
        "\n",
        "# 실행 파트: 시작 위치에서 미로 찾기를 시작합니다\n",
        "# 시작 위치에서 미로 찾기 시작\n",
        "goto(start_x, start_y)\n",
        "solve_maze(start_x, start_y)\n",
        "import pprint\n",
        "pprint.pprint(maze)"
      ],
      "metadata": {
        "colab": {
          "base_uri": "https://localhost:8080/",
          "height": 1000
        },
        "id": "TP-tMfLpoU3n",
        "outputId": "2123e9cc-5646-4e7b-cf78-fff0788d1421"
      },
      "execution_count": 4,
      "outputs": [
        {
          "output_type": "display_data",
          "data": {
            "text/plain": [
              "<IPython.core.display.HTML object>"
            ],
            "text/html": [
              "\n",
              "      <svg width=\"100\" height=\"100\">  \n",
              "        <rect width=\"100%\" height=\"100%\" style=\"fill:white;stroke:;stroke-width:1\"/>\n",
              "        \n",
              "        \n",
              "        <line x1=\"50.0\" y1=\"50.0\" x2=\"50.0\" y2=\"50.0\" stroke-linecap=\"round\" style=\"stroke:black;stroke-width:1\" /><line x1=\"50.0\" y1=\"50.0\" x2=\"60.0\" y2=\"50.0\" stroke-linecap=\"round\" style=\"stroke:black;stroke-width:1\" /><line x1=\"60.0\" y1=\"50.0\" x2=\"60.0\" y2=\"40.0\" stroke-linecap=\"round\" style=\"stroke:black;stroke-width:1\" /><line x1=\"60.0\" y1=\"40.0\" x2=\"60.0\" y2=\"30.0\" stroke-linecap=\"round\" style=\"stroke:black;stroke-width:1\" /><line x1=\"60.0\" y1=\"30.0\" x2=\"50.0\" y2=\"30.0\" stroke-linecap=\"round\" style=\"stroke:black;stroke-width:1\" /><line x1=\"50.0\" y1=\"30.0\" x2=\"50.0\" y2=\"20.0\" stroke-linecap=\"round\" style=\"stroke:black;stroke-width:1\" /><line x1=\"50.0\" y1=\"20.0\" x2=\"50.0\" y2=\"10.0\" stroke-linecap=\"round\" style=\"stroke:black;stroke-width:1\" /><line x1=\"50.0\" y1=\"10.0\" x2=\"60.0\" y2=\"10.0\" stroke-linecap=\"round\" style=\"stroke:black;stroke-width:1\" /><line x1=\"60.0\" y1=\"10.0\" x2=\"70.0\" y2=\"10.0\" stroke-linecap=\"round\" style=\"stroke:black;stroke-width:1\" /><line x1=\"70.0\" y1=\"10.0\" x2=\"70.0\" y2=\"20.0\" stroke-linecap=\"round\" style=\"stroke:black;stroke-width:1\" /><line x1=\"60.0\" y1=\"50.0\" x2=\"70.0\" y2=\"50.0\" stroke-linecap=\"round\" style=\"stroke:black;stroke-width:1\" /><line x1=\"70.0\" y1=\"50.0\" x2=\"80.0\" y2=\"50.0\" stroke-linecap=\"round\" style=\"stroke:black;stroke-width:1\" /><line x1=\"80.0\" y1=\"50.0\" x2=\"80.0\" y2=\"40.0\" stroke-linecap=\"round\" style=\"stroke:black;stroke-width:1\" /><line x1=\"80.0\" y1=\"40.0\" x2=\"90.0\" y2=\"40.0\" stroke-linecap=\"round\" style=\"stroke:black;stroke-width:1\" /><line x1=\"90.0\" y1=\"40.0\" x2=\"90.0\" y2=\"30.0\" stroke-linecap=\"round\" style=\"stroke:black;stroke-width:1\" /><line x1=\"90.0\" y1=\"40.0\" x2=\"90.0\" y2=\"50.0\" stroke-linecap=\"round\" style=\"stroke:black;stroke-width:1\" /><line x1=\"80.0\" y1=\"50.0\" x2=\"90.0\" y2=\"50.0\" stroke-linecap=\"round\" style=\"stroke:black;stroke-width:1\" /><line x1=\"90.0\" y1=\"50.0\" x2=\"90.0\" y2=\"40.0\" stroke-linecap=\"round\" style=\"stroke:black;stroke-width:1\" /><line x1=\"90.0\" y1=\"40.0\" x2=\"90.0\" y2=\"30.0\" stroke-linecap=\"round\" style=\"stroke:black;stroke-width:1\" /><line x1=\"90.0\" y1=\"40.0\" x2=\"80.0\" y2=\"40.0\" stroke-linecap=\"round\" style=\"stroke:black;stroke-width:1\" /><line x1=\"60.0\" y1=\"50.0\" x2=\"50.0\" y2=\"50.0\" stroke-linecap=\"round\" style=\"stroke:black;stroke-width:1\" />\n",
              "        \n",
              "        \n",
              "        <g id=\"classic\" visibility=\"visible\" transform=\"rotate(-180.0,50.0,50.0) translate(50.0, 50.0)\">\n",
              "<polygon points=\"-5,-4.5 0,-2.5 5,-4.5 0,4.5\" transform=\"skewX(0) scale(1,1)\" style=\"stroke:black;fill:black;stroke-width:1\" />\n",
              "</g>\n",
              "      </svg>\n",
              "    "
            ]
          },
          "metadata": {}
        },
        {
          "output_type": "stream",
          "name": "stdout",
          "text": [
            "이동 시도: 현재 위치 (0, 0) -> 다음 위치 (1, 0), 방향: 아래\n",
            "이동 시도: 현재 위치 (1, 0) -> 다음 위치 (1, 1), 방향: 오른쪽\n",
            "이동 시도: 현재 위치 (1, 1) -> 다음 위치 (1, 2), 방향: 오른쪽\n",
            "이동 시도: 현재 위치 (1, 2) -> 다음 위치 (0, 2), 방향: 위\n",
            "이동 시도: 현재 위치 (0, 2) -> 다음 위치 (0, 3), 방향: 오른쪽\n",
            "이동 시도: 현재 위치 (0, 3) -> 다음 위치 (0, 4), 방향: 오른쪽\n",
            "이동 시도: 현재 위치 (0, 4) -> 다음 위치 (1, 4), 방향: 아래\n",
            "이동 시도: 현재 위치 (1, 4) -> 다음 위치 (2, 4), 방향: 아래\n",
            "이동 시도: 현재 위치 (2, 4) -> 다음 위치 (2, 3), 방향: 왼쪽\n",
            "길을 찾을 수 없습니다: 현재 위치 (2, 3)\n",
            "막힘: 다음 위치 (2, 3) -> 되돌아감 (2, 4), 방향: 왼쪽\n",
            "길을 찾을 수 없습니다: 현재 위치 (2, 4)\n",
            "막힘: 다음 위치 (2, 4) -> 되돌아감 (1, 4), 방향: 아래\n",
            "길을 찾을 수 없습니다: 현재 위치 (1, 4)\n",
            "막힘: 다음 위치 (1, 4) -> 되돌아감 (0, 4), 방향: 아래\n",
            "길을 찾을 수 없습니다: 현재 위치 (0, 4)\n",
            "막힘: 다음 위치 (0, 4) -> 되돌아감 (0, 3), 방향: 오른쪽\n",
            "길을 찾을 수 없습니다: 현재 위치 (0, 3)\n",
            "막힘: 다음 위치 (0, 3) -> 되돌아감 (0, 2), 방향: 오른쪽\n",
            "길을 찾을 수 없습니다: 현재 위치 (0, 2)\n",
            "막힘: 다음 위치 (0, 2) -> 되돌아감 (1, 2), 방향: 위\n",
            "길을 찾을 수 없습니다: 현재 위치 (1, 2)\n",
            "막힘: 다음 위치 (1, 2) -> 되돌아감 (1, 1), 방향: 오른쪽\n",
            "길을 찾을 수 없습니다: 현재 위치 (1, 1)\n",
            "막힘: 다음 위치 (1, 1) -> 되돌아감 (1, 0), 방향: 오른쪽\n",
            "이동 시도: 현재 위치 (1, 0) -> 다음 위치 (2, 0), 방향: 아래\n",
            "이동 시도: 현재 위치 (2, 0) -> 다음 위치 (3, 0), 방향: 아래\n",
            "이동 시도: 현재 위치 (3, 0) -> 다음 위치 (3, 1), 방향: 오른쪽\n",
            "이동 시도: 현재 위치 (3, 1) -> 다음 위치 (4, 1), 방향: 아래\n",
            "이동 시도: 현재 위치 (4, 1) -> 다음 위치 (4, 2), 방향: 오른쪽\n",
            "길을 찾을 수 없습니다: 현재 위치 (4, 2)\n",
            "막힘: 다음 위치 (4, 2) -> 되돌아감 (4, 1), 방향: 오른쪽\n",
            "이동 시도: 현재 위치 (4, 1) -> 다음 위치 (4, 0), 방향: 왼쪽\n",
            "길을 찾을 수 없습니다: 현재 위치 (4, 0)\n",
            "막힘: 다음 위치 (4, 0) -> 되돌아감 (4, 1), 방향: 왼쪽\n",
            "길을 찾을 수 없습니다: 현재 위치 (4, 1)\n",
            "막힘: 다음 위치 (4, 1) -> 되돌아감 (3, 1), 방향: 아래\n",
            "길을 찾을 수 없습니다: 현재 위치 (3, 1)\n",
            "막힘: 다음 위치 (3, 1) -> 되돌아감 (3, 0), 방향: 오른쪽\n",
            "이동 시도: 현재 위치 (3, 0) -> 다음 위치 (4, 0), 방향: 아래\n",
            "이동 시도: 현재 위치 (4, 0) -> 다음 위치 (4, 1), 방향: 오른쪽\n",
            "이동 시도: 현재 위치 (4, 1) -> 다음 위치 (4, 2), 방향: 오른쪽\n",
            "길을 찾을 수 없습니다: 현재 위치 (4, 2)\n",
            "막힘: 다음 위치 (4, 2) -> 되돌아감 (4, 1), 방향: 오른쪽\n",
            "이동 시도: 현재 위치 (4, 1) -> 다음 위치 (3, 1), 방향: 위\n",
            "길을 찾을 수 없습니다: 현재 위치 (3, 1)\n",
            "막힘: 다음 위치 (3, 1) -> 되돌아감 (4, 1), 방향: 위\n",
            "길을 찾을 수 없습니다: 현재 위치 (4, 1)\n",
            "막힘: 다음 위치 (4, 1) -> 되돌아감 (4, 0), 방향: 오른쪽\n",
            "길을 찾을 수 없습니다: 현재 위치 (4, 0)\n",
            "막힘: 다음 위치 (4, 0) -> 되돌아감 (3, 0), 방향: 아래\n",
            "길을 찾을 수 없습니다: 현재 위치 (3, 0)\n",
            "막힘: 다음 위치 (3, 0) -> 되돌아감 (2, 0), 방향: 아래\n",
            "길을 찾을 수 없습니다: 현재 위치 (2, 0)\n",
            "막힘: 다음 위치 (2, 0) -> 되돌아감 (1, 0), 방향: 아래\n",
            "이동 시도: 현재 위치 (1, 0) -> 다음 위치 (0, 0), 방향: 위\n",
            "길을 찾을 수 없습니다: 현재 위치 (0, 0)\n",
            "막힘: 다음 위치 (0, 0) -> 되돌아감 (1, 0), 방향: 위\n",
            "길을 찾을 수 없습니다: 현재 위치 (1, 0)\n",
            "막힘: 다음 위치 (1, 0) -> 되돌아감 (0, 0), 방향: 아래\n",
            "길을 찾을 수 없습니다: 현재 위치 (0, 0)\n",
            "[[0, 1, 0, 0, 0],\n",
            " [0, 0, 0, 1, 0],\n",
            " [0, 1, 1, 0, 0],\n",
            " [0, 0, 1, 1, 1],\n",
            " [0, 0, 0, 1, 0]]\n"
          ]
        }
      ]
    },
    {
      "cell_type": "markdown",
      "source": [
        "## 시행착오\n",
        "\n",
        "- 처음에 문제 이해를 하기 위해 많은 시간 소요\n",
        "- 특히 2차원 배열 및 배열에 대한 접근, dx, dy의 범위지정 이유 등\n",
        "- 이후 for문 아래 조건문 정의 하는 파트에서 조건 설정을 잘못하여 시행착오를 겪음\n",
        "  - `if 0 <= nx < 5 and 0 <= ny < 5 and maze[nx][ny] == 0:` 가 올바른 코드인데\n",
        "  - `if 0 <= nx < 5 and 0 <= ny < 5 and nx == 0 and ny == 0 and maze[nx][ny] == 0:` 로 작성하여 if문 자체가 계속 False가 되어 solve_maze()가 재귀하지 못하고 바로 종료되는 현상 발생\n",
        "\n",
        "- + for문 내부에 지나온길을 '2' 로 업데이트하는 코드에서 '='잘 못작성하여 if문이 지속적으로 False가 되어 solve_maze()가 재귀하지 못하고 바로 종료되는 현상 발생을 또 겪음\n",
        "```ptyhon\n",
        "# 갔던 길 표시\n",
        "maze[nx][ny] = 2 # 0을 2로 update ## '==' 로 썼었음!!!\n",
        "```\n",
        "\n"
      ],
      "metadata": {
        "id": "0D1drStC3rAi"
      }
    },
    {
      "cell_type": "markdown",
      "source": [
        "## 회고\n",
        "\n",
        "### 김양희\n",
        "\n",
        "KEEP\n",
        "- 코드 작성에 필요한 turtle메서드인 goto(), penup(), pendown() 등을 구글링하여 활용하였다.\n",
        "\n",
        "PROBLEM\n",
        "- `def solve_maze(x,y)`에서의 x, y와 `for dx, dy in [(0, 1), (1, 0), (0, -1), (-1, 0)]:` 구문의 의미를 이해하기 어려웠다.\n",
        "- 예를 들어 2차원 리스트에서의 인덱싱은 리스트명[행][열]로 알고 있는데 다르게 표현된 for문에서 이해하기 어려웠다.\n",
        "\n",
        "TRY\n",
        "- 페어하는 동료 그루의 설명으로 1차적인 이해가 되었으나, 처음부터 끝까지 다시 한 번 혼자 작성해보면서 완전히 습득해야겠다.\n",
        "\n"
      ],
      "metadata": {
        "id": "xJaPItLf4_6B"
      }
    },
    {
      "cell_type": "markdown",
      "source": [
        "### 김승순\n",
        "\n",
        "KEEP\n",
        "- 문제 내용을 파악하고, 샘플 코드의 풀이 과정을 이해하고 빈칸 채우기에 접근했다.\n",
        "\n",
        "PROBLEM\n",
        "- '='를 '=='로 입력한다던가 하는 잔실수가 많았다.\n",
        "- 페어 프로그래밍인데 너무 혼자 문제를 빨리 풀려고 혼자 생각해두고, 그대로만 풀이를 접근하려고 한게 아닌가 싶다.\n",
        "\n",
        "TRY\n",
        "- 페어하는 동료 그루와 의견 교류를 더 많이 하고, 풀이 과정에 대한 논의를 하고 시작해야겠다."
      ],
      "metadata": {
        "id": "EEqNjE3d5OGl"
      }
    }
  ]
}