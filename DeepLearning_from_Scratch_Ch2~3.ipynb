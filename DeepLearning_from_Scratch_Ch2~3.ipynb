{
  "nbformat": 4,
  "nbformat_minor": 0,
  "metadata": {
    "colab": {
      "provenance": [],
      "authorship_tag": "ABX9TyOyA43najyC90Qx8nVNRENl",
      "include_colab_link": true
    },
    "kernelspec": {
      "name": "python3",
      "display_name": "Python 3"
    },
    "language_info": {
      "name": "python"
    }
  },
  "cells": [
    {
      "cell_type": "markdown",
      "metadata": {
        "id": "view-in-github",
        "colab_type": "text"
      },
      "source": [
        "<a href=\"https://colab.research.google.com/github/hjhan1201/AIFFEL_Online_Quest/blob/main/DeepLearning_from_Scratch_Ch2~3.ipynb\" target=\"_parent\"><img src=\"https://colab.research.google.com/assets/colab-badge.svg\" alt=\"Open In Colab\"/></a>"
      ]
    },
    {
      "cell_type": "code",
      "execution_count": 3,
      "metadata": {
        "colab": {
          "base_uri": "https://localhost:8080/"
        },
        "id": "VLv96bmDoAY8",
        "outputId": "9f007553-49b8-484c-c9a9-2e300ae91d7d"
      },
      "outputs": [
        {
          "output_type": "stream",
          "name": "stdout",
          "text": [
            "[ 1.34985881 18.17414537 54.59815003]\n",
            "74.1221542101633\n"
          ]
        },
        {
          "output_type": "stream",
          "name": "stderr",
          "text": [
            "<ipython-input-3-fcd4cfb06f1b>:94: DeprecationWarning: `np.int` is a deprecated alias for the builtin `int`. To silence this warning, use `int` by itself. Doing this will not modify any behavior and is safe. When replacing `np.int`, you may wish to use e.g. `np.int64` or `np.int32` to specify the precision. If you wish to review your current use, check the release note link for additional information.\n",
            "Deprecated in NumPy 1.20; for more details and guidance: https://numpy.org/devdocs/release/1.20.0-notes.html#deprecations\n",
            "  return np.array(x>0,dtype=np.int)\n"
          ]
        }
      ],
      "source": [
        "#퍼셉트론 구현하기\n",
        "def AND(x1, x2) :\n",
        "  w1, w2, theta = 0.5,0.5,0.7\n",
        "  tmp = x1*w1 + x2*w2\n",
        "  if tmp <= theta:\n",
        "    return 0\n",
        "  elif tmp >theta:\n",
        "    return 1\n",
        "\n",
        "AND(1,1)\n",
        "\n",
        "#넘파이와 b(bias,편향) 적용\n",
        "import numpy as np\n",
        "x = np.array([0,1])\n",
        "w = np.array([0.5,0.5])\n",
        "b = -0.7\n",
        "w*x\n",
        "np.sum(w*x)\n",
        "np.sum(w*x)+b\n",
        "\n",
        "#가중치와 편향을 도입한 AND게이트\n",
        "def AND(x1, x2) :\n",
        "  x = np.array([x1,x2])\n",
        "  w = np.array([0.5,0.5])\n",
        "  b = -0.7\n",
        "  tmp = np.sum(w*x)+b\n",
        "  if tmp <= 0:\n",
        "    return 0\n",
        "  elif tmp > 0:\n",
        "    return 1\n",
        "\n",
        "AND(1,1)\n",
        "\n",
        "#NAND 게이트\n",
        "def NAND(x1, x2) :\n",
        "  x = np.array([x1,x2])\n",
        "  w = np.array([-0.5,-0.5])\n",
        "  b = 0.7\n",
        "  tmp = np.sum(w*x)+b\n",
        "  if tmp <= 0:\n",
        "    return 0\n",
        "  elif tmp > 0:\n",
        "    return 1\n",
        "\n",
        "#OR 게이트\n",
        "def OR(x1, x2) :\n",
        "  x = np.array([x1,x2])\n",
        "  w = np.array([0.5,0.5])\n",
        "  b = -0.2\n",
        "  tmp = np.sum(w*x)+b\n",
        "  if tmp <= 0:\n",
        "    return 0\n",
        "  elif tmp > 0:\n",
        "    return 1\n",
        "\n",
        "OR(0,1)\n",
        "\n",
        "#XOR(단층 퍼셉트론으로 구현 불가)\n",
        "def XOR(x1,x2):\n",
        "  s1 = NAND(x1, x2)\n",
        "  s2 = OR(x1, x2)\n",
        "  y = AND(s1, s2)\n",
        "  return y\n",
        "\n",
        "\n",
        "XOR(0,0)\n",
        "XOR(0,1)\n",
        "XOR(1,0)\n",
        "XOR(1,1)\n",
        "\n",
        "#Ch3\n",
        "#계단함수 구현하기\n",
        "def setp_function(x):\n",
        "  if x>0:\n",
        "    return 1\n",
        "  elif x<=0:\n",
        "    return 0\n",
        "\n",
        "#넘파이 배열도 인수로 넣고 싶다\n",
        "def step_function(x):\n",
        "  y=x>0\n",
        "  return y.astype(np.int)\n",
        "\n",
        "x=np.array([-1.0,1.0,2.0])\n",
        "x\n",
        "y=x>0\n",
        "y = y.astype(int)\n",
        "y\n",
        "\n",
        "#계단함수 그려보기\n",
        "import matplotlib.pylab as plt\n",
        "\n",
        "def step_function(x):\n",
        "  return np.array(x>0,dtype=np.int)\n",
        "x = np.arange(-5.0,5.0,0.1)\n",
        "y = step_function(x)\n",
        "# plt.plot(x, y, ls='--')\n",
        "# plt.ylim(-0.1,1.1) #y축의 범위 지정\n",
        "# plt.show\n",
        "\n",
        "#시그모이드 함수 구현하기\n",
        "def sigmoid(x):\n",
        "  return 1/(1+np.exp(-x))\n",
        "x = np.array([-1.0,1.0,2.0])\n",
        "sigmoid(x)\n",
        "\n",
        "#넘파이 브로드캐스트\n",
        "t = np.array([1.0,2.0,3.0])\n",
        "1.0/t\n",
        "\n",
        "#시그모이드함수 그려보기\n",
        "x = np.arange(-5.0,5.0,0.1)\n",
        "y = sigmoid(x)\n",
        "# plt.plot(x,y)\n",
        "# plt.ylim(-0.1,1.1) #y축의 범위 지정\n",
        "# plt.show\n",
        "\n",
        "#ReLU 함수\n",
        "def relu(x):\n",
        "  return np.maximum(0,x)\n",
        "\n",
        "#행렬의 곱\n",
        "A = np.array([[1,2],[3,4]])\n",
        "B = np.array([[5,6],[7,8]])\n",
        "np.dot(A,B)\n",
        "\n",
        "A = np.array([[1,2],[3,4],[5,6]])\n",
        "B = np.array([7,8])\n",
        "np.dot(A,B)\n",
        "\n",
        "X = np.array([1,2])\n",
        "W = np.array([[1,3,5],[2,4,6]])\n",
        "Y = np.dot(X,W)\n",
        "Y\n",
        "\n",
        "#신경망 행렬곱\n",
        "X = np.array([1.0,0.5])\n",
        "W1 = np.array([[0.1,0.3,0.5],[0.2,0.4,0.6]])\n",
        "B1 = np.array([0.1,0.2,0.3])\n",
        "\n",
        "A1 = np.dot(X,W1)+B1\n",
        "Z1 = sigmoid(A1)\n",
        "Z1\n",
        "\n",
        "W2 = np.array([[0.1,0.4],[0.2,0.5],[0.3,0.6]])\n",
        "B2 = np.array([0.1,0.2])\n",
        "A2 = np.dot(Z1,W2)+B2\n",
        "Z2 = sigmoid(A2)\n",
        "Z2\n",
        "\n",
        "def identity_function(x): #굳이 필요 없음\n",
        "  return x\n",
        "\n",
        "W3 = np.array([[0.1,0.3],[0.2,0.4]])\n",
        "B3 = np.array([0.1,0.2])\n",
        "A3 = np.dot(Z2,W3)+B3\n",
        "Z3 = sigmoid(A3)\n",
        "Y = identity_function(A3)\n",
        "# print(Y)\n",
        "# print(Z3)\n",
        "\n",
        "#신경망 구현 정리\n",
        "def init_network():\n",
        "    network = {}\n",
        "    network['W1'] = np.array([[0.1, 0.3, 0.5], [0.2, 0.4, 0.6]])\n",
        "    network['b1'] = np.array([0.1, 0.2, 0.3])\n",
        "    network['W2'] = np.array([[0.1, 0.4], [0.2, 0.5], [0.3, 0.6]])\n",
        "    network['b2'] = np.array([0.1, 0.2])\n",
        "    network['W3'] = np.array([[0.1, 0.3], [0.2, 0.4]])\n",
        "    network['b3'] = np.array([0.1, 0.2])\n",
        "\n",
        "    return network\n",
        "\n",
        "def forward(network, x):\n",
        "    W1, W2, W3 = network['W1'], network['W2'], network['W3']\n",
        "    b1, b2, b3 = network['b1'], network['b2'], network['b3']\n",
        "\n",
        "    a1 = np.dot(x, W1) + b1\n",
        "    z1 = sigmoid(a1)\n",
        "    a2 = np.dot(z1, W2) + b2\n",
        "    z2 = sigmoid(a2)\n",
        "    a3 = np.dot(z2, W3) + b3\n",
        "    y = identity_function(a3)\n",
        "\n",
        "    return y\n",
        "\n",
        "network = init_network()\n",
        "x = np.array([1.0, 0.5])\n",
        "y = forward(network, x)\n",
        "# print(y) # [0.31682708 0.69627909]\n",
        "\n"
      ]
    },
    {
      "cell_type": "code",
      "source": [
        "#소프트맥스 함수 구현\n",
        "a = np.array([0.3,2.9,4.0])\n",
        "\n",
        "exp_a = np.exp(a)\n",
        "print(exp_a)\n",
        "sum_exp_a = np.sum(exp_a)\n",
        "print(sum_exp_a)\n",
        "\n",
        "y = exp_a / sum_exp_a\n",
        "print(y)\n",
        "\n",
        "def softmax(a) :\n",
        "  exp_a = np.exp(a)\n",
        "  sum_exp_a = np.sum(exp_a)\n",
        "  y = exp_a / sum_exp_a\n",
        "  return y\n",
        "\n"
      ],
      "metadata": {
        "colab": {
          "base_uri": "https://localhost:8080/"
        },
        "id": "lY-nyUrAs8ss",
        "outputId": "7b53a663-cca7-4eac-a875-45a20dad839b"
      },
      "execution_count": 8,
      "outputs": [
        {
          "output_type": "stream",
          "name": "stdout",
          "text": [
            "[ 1.34985881 18.17414537 54.59815003]\n",
            "74.1221542101633\n",
            "[0.01821127 0.24519181 0.73659691]\n"
          ]
        }
      ]
    },
    {
      "cell_type": "code",
      "source": [
        "a = np.array([1010, 1000, 990])\n",
        "np.exp(a) / np.sum(np.exp(a)) # 소프트맥스 함수의 계산\n",
        "# array([ nan,  nan,  nan])   # 제대로 계산되지 않는다.\n",
        "\n",
        "c = np.max(a)\n",
        "a - c\n",
        "np.exp(a - c) / np.sum(np.exp(a - c))\n",
        "\n",
        "\n",
        "def softmax(a):\n",
        "    c = np.max(a)\n",
        "    exp_a = np.exp(a-c) # 오버플로 대책\n",
        "    sum_exp_a = np.sum(exp_a)\n",
        "    y = exp_a / sum_exp_a\n",
        "\n",
        "    return y\n",
        "\n",
        "a = np.array([0.3, 2.9, 4.0])\n",
        "y = softmax(a)\n",
        "print(y)\n",
        "np.sum(y)"
      ],
      "metadata": {
        "colab": {
          "base_uri": "https://localhost:8080/"
        },
        "id": "yIecYbGytdmU",
        "outputId": "3c1dc77e-0224-4418-fc77-2c977b0634a1"
      },
      "execution_count": 11,
      "outputs": [
        {
          "output_type": "stream",
          "name": "stdout",
          "text": [
            "[0.01821127 0.24519181 0.73659691]\n"
          ]
        },
        {
          "output_type": "stream",
          "name": "stderr",
          "text": [
            "<ipython-input-11-493c4fba24de>:2: RuntimeWarning: overflow encountered in exp\n",
            "  np.exp(a) / np.sum(np.exp(a)) # 소프트맥스 함수의 계산\n",
            "<ipython-input-11-493c4fba24de>:2: RuntimeWarning: invalid value encountered in divide\n",
            "  np.exp(a) / np.sum(np.exp(a)) # 소프트맥스 함수의 계산\n"
          ]
        },
        {
          "output_type": "execute_result",
          "data": {
            "text/plain": [
              "1.0"
            ]
          },
          "metadata": {},
          "execution_count": 11
        }
      ]
    },
    {
      "cell_type": "markdown",
      "source": [
        "소프트맥스 함수 출력의 총합은 1. 출력을 '확률'로 해석할 수 있음.\n",
        "\n",
        "y[0]의 확률 0.018(1.8%), y[1]의 확률 0.245(24.5%), y[2]의 확률 0.737(73.7%)로 해석가능\n",
        "\n",
        "\"2번째 원소의 확률이 가장 높으니, 답은 2번 클래스다\"\n",
        "\n",
        "소프트맥스 함수를 이용함으로써 문제를 확률적(통계적)으로 대응할 수 있게 됨\n",
        "\n",
        "소프트맥스를 적용해도 각 원소의 대소 관계는 변하지 않음\n",
        "\n",
        "이유: 단조 증가함수(a<=b일 때 f(a)<=f(b)가 성립하는 함수)이기 때문\n",
        "\n",
        "추론 단계에서는 출력층의 소프트맥스 함수를 생략하는 것이 일반적\n",
        "\n",
        "학습 시킬 때에는 출력층에서 소프트맥스 함수를 사용"
      ],
      "metadata": {
        "id": "sEPSq5yX8QrG"
      }
    },
    {
      "cell_type": "code",
      "source": [],
      "metadata": {
        "id": "hW9cG2Ae8WYg"
      },
      "execution_count": null,
      "outputs": []
    }
  ]
}