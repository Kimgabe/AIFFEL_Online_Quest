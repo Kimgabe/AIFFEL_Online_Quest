{
  "nbformat": 4,
  "nbformat_minor": 0,
  "metadata": {
    "colab": {
      "provenance": [],
      "authorship_tag": "ABX9TyNAiNT3mJxJNRM+Jo2jEylj",
      "include_colab_link": true
    },
    "kernelspec": {
      "name": "python3",
      "display_name": "Python 3"
    },
    "language_info": {
      "name": "python"
    }
  },
  "cells": [
    {
      "cell_type": "markdown",
      "metadata": {
        "id": "view-in-github",
        "colab_type": "text"
      },
      "source": [
        "<a href=\"https://colab.research.google.com/github/hjhan1201/AIFFEL_Online_Quest/blob/main/DeepLearning_from_Scratch_Ch2~3.ipynb\" target=\"_parent\"><img src=\"https://colab.research.google.com/assets/colab-badge.svg\" alt=\"Open In Colab\"/></a>"
      ]
    },
    {
      "cell_type": "code",
      "execution_count": null,
      "metadata": {
        "colab": {
          "base_uri": "https://localhost:8080/"
        },
        "id": "VLv96bmDoAY8",
        "outputId": "1ec350f4-df41-4841-d047-42186525f144"
      },
      "outputs": [
        {
          "output_type": "execute_result",
          "data": {
            "text/plain": [
              "array([0, 1, 1])"
            ]
          },
          "metadata": {},
          "execution_count": 7
        }
      ],
      "source": [
        "#퍼셉트론 구현하기\n",
        "def AND(x1, x2) :\n",
        "  w1, w2, theta = 0.5,0.5,0.7\n",
        "  tmp = x1*w1 + x2*w2\n",
        "  if tmp <= theta:\n",
        "    return 0\n",
        "  elif tmp >theta:\n",
        "    return 1\n",
        "\n",
        "AND(1,1)\n",
        "\n",
        "#넘파이와 b(bias,편향) 적용\n",
        "import numpy as np\n",
        "x = np.array([0,1])\n",
        "w = np.array([0.5,0.5])\n",
        "b = -0.7\n",
        "w*x\n",
        "np.sum(w*x)\n",
        "np.sum(w*x)+b\n",
        "\n",
        "#가중치와 편향을 도입한 AND게이트\n",
        "def AND(x1, x2) :\n",
        "  x = np.array([x1,x2])\n",
        "  w = np.array([0.5,0.5])\n",
        "  b = -0.7\n",
        "  tmp = np.sum(w*x)+b\n",
        "  if tmp <= 0:\n",
        "    return 0\n",
        "  elif tmp > 0:\n",
        "    return 1\n",
        "\n",
        "AND(1,1)\n",
        "\n",
        "#NAND 게이트\n",
        "def NAND(x1, x2) :\n",
        "  x = np.array([x1,x2])\n",
        "  w = np.array([-0.5,-0.5])\n",
        "  b = 0.7\n",
        "  tmp = np.sum(w*x)+b\n",
        "  if tmp <= 0:\n",
        "    return 0\n",
        "  elif tmp > 0:\n",
        "    return 1\n",
        "\n",
        "#OR 게이트\n",
        "def OR(x1, x2) :\n",
        "  x = np.array([x1,x2])\n",
        "  w = np.array([0.5,0.5])\n",
        "  b = -0.2\n",
        "  tmp = np.sum(w*x)+b\n",
        "  if tmp <= 0:\n",
        "    return 0\n",
        "  elif tmp > 0:\n",
        "    return 1\n",
        "\n",
        "OR(0,1)\n",
        "\n",
        "#XOR(단층 퍼셉트론으로 구현 불가)\n",
        "def XOR(x1,x2):\n",
        "  s1 = NAND(x1, x2)\n",
        "  s2 = OR(x1, x2)\n",
        "  y = AND(s1, s2)\n",
        "  return y\n",
        "\n",
        "\n",
        "XOR(0,0)\n",
        "XOR(0,1)\n",
        "XOR(1,0)\n",
        "XOR(1,1)\n",
        "\n",
        "#Ch3\n",
        "#계단함수 구현하기\n",
        "def setp_function(x):\n",
        "  if x>0:\n",
        "    return 1\n",
        "  elif x<=0:\n",
        "    return 0\n",
        "\n",
        "#넘파이 배열도 인수로 넣고 싶다\n",
        "def step_function(x):\n",
        "  y=x>0\n",
        "  return y.astype(np.int)\n",
        "\n",
        "x=np.array([-1.0,1.0,2.0])\n",
        "x\n",
        "y=x>0\n",
        "y = y.astype(int)\n",
        "y\n",
        "\n",
        "#계단함수 그려보기\n",
        "import matplotlib.pylab as plt\n"
      ]
    }
  ]
}