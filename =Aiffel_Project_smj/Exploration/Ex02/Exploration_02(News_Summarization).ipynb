{
 "cells": [
  {
   "cell_type": "markdown",
   "id": "282b0b8c",
   "metadata": {},
   "source": [
    "# 😀뉴스 요약본 만들기 [Exploration 02]  \n",
    "---"
   ]
  },
  {
   "cell_type": "code",
   "execution_count": 3,
   "id": "eda56b17",
   "metadata": {
    "scrolled": true
   },
   "outputs": [
    {
     "name": "stdout",
     "output_type": "stream",
     "text": [
      "3.6.5\n",
      "2.6.0\n",
      "1.3.3\n",
      "1.2.0\n"
     ]
    }
   ],
   "source": [
    "from importlib.metadata import version\n",
    "import nltk\n",
    "import tensorflow\n",
    "import summa\n",
    "import pandas\n",
    "import pandas as pd\n",
    "\n",
    "print(nltk.__version__)\n",
    "print(tensorflow.__version__)\n",
    "print(pandas.__version__)\n",
    "print(version('summa'))"
   ]
  },
  {
   "cell_type": "code",
   "execution_count": 4,
   "id": "c706f1fb",
   "metadata": {},
   "outputs": [
    {
     "name": "stderr",
     "output_type": "stream",
     "text": [
      "[nltk_data] Downloading package stopwords to /aiffel/nltk_data...\n",
      "[nltk_data]   Unzipping corpora/stopwords.zip.\n"
     ]
    }
   ],
   "source": [
    "import nltk\n",
    "nltk.download('stopwords')\n",
    "\n",
    "import numpy as np\n",
    "import pandas as pd\n",
    "import os\n",
    "import re\n",
    "import matplotlib.pyplot as plt\n",
    "from nltk.corpus import stopwords\n",
    "from bs4 import BeautifulSoup \n",
    "from tensorflow.keras.preprocessing.text import Tokenizer \n",
    "from tensorflow.keras.preprocessing.sequence import pad_sequences\n",
    "import urllib.request\n",
    "import warnings\n",
    "warnings.filterwarnings(\"ignore\", category=UserWarning, module='bs4')\n"
   ]
  },
  {
   "cell_type": "markdown",
   "id": "0dbd2c33",
   "metadata": {},
   "source": [
    "---\n",
    "\n",
    "## ⛓️Step 1. 데이터 수집하기\n",
    "---"
   ]
  },
  {
   "cell_type": "code",
   "execution_count": 5,
   "id": "712f6af1",
   "metadata": {},
   "outputs": [],
   "source": [
    "import urllib.request\n",
    "urllib.request.urlretrieve(\"https://raw.githubusercontent.com/sunnysai12345/News_Summary/master/news_summary_more.csv\", filename=\"news_summary_more.csv\")\n",
    "data = pd.read_csv('news_summary_more.csv', encoding='iso-8859-1')"
   ]
  },
  {
   "cell_type": "code",
   "execution_count": 6,
   "id": "df184623",
   "metadata": {},
   "outputs": [
    {
     "data": {
      "text/html": [
       "<div>\n",
       "<style scoped>\n",
       "    .dataframe tbody tr th:only-of-type {\n",
       "        vertical-align: middle;\n",
       "    }\n",
       "\n",
       "    .dataframe tbody tr th {\n",
       "        vertical-align: top;\n",
       "    }\n",
       "\n",
       "    .dataframe thead th {\n",
       "        text-align: right;\n",
       "    }\n",
       "</style>\n",
       "<table border=\"1\" class=\"dataframe\">\n",
       "  <thead>\n",
       "    <tr style=\"text-align: right;\">\n",
       "      <th></th>\n",
       "      <th>headlines</th>\n",
       "      <th>text</th>\n",
       "    </tr>\n",
       "  </thead>\n",
       "  <tbody>\n",
       "    <tr>\n",
       "      <th>65728</th>\n",
       "      <td>Pranab Mukherjee was more qualified to be PM: ...</td>\n",
       "      <td>Former Prime Minister Manmohan Singh on Friday...</td>\n",
       "    </tr>\n",
       "    <tr>\n",
       "      <th>77634</th>\n",
       "      <td>Bengaluru to get double-decker buses by year-end</td>\n",
       "      <td>The Bangalore Metropolitan Transport Corporati...</td>\n",
       "    </tr>\n",
       "    <tr>\n",
       "      <th>46828</th>\n",
       "      <td>6 executives accused in PNB fraud sent to poli...</td>\n",
       "      <td>A special CBI court on Wednesday sent six accu...</td>\n",
       "    </tr>\n",
       "    <tr>\n",
       "      <th>40717</th>\n",
       "      <td>Opp'n parties call for Tamil Nadu Bandh over C...</td>\n",
       "      <td>DMK-led opposition parties have called for a s...</td>\n",
       "    </tr>\n",
       "    <tr>\n",
       "      <th>92558</th>\n",
       "      <td>Pak SC quotes 'The Godfather' in its Panama Pa...</td>\n",
       "      <td>Pakistan Supreme Court's verdict on the Panama...</td>\n",
       "    </tr>\n",
       "    <tr>\n",
       "      <th>4814</th>\n",
       "      <td>PM Modi inaugurates India's longest road-cum-r...</td>\n",
       "      <td>Prime Minister Narendra Modi today inaugurated...</td>\n",
       "    </tr>\n",
       "    <tr>\n",
       "      <th>49119</th>\n",
       "      <td>RCom challenges TRAI directive on refunding un...</td>\n",
       "      <td>Reliance Communications has sought withdrawal ...</td>\n",
       "    </tr>\n",
       "    <tr>\n",
       "      <th>32739</th>\n",
       "      <td>Journo booked for using false info to access s...</td>\n",
       "      <td>CBI has booked ex-Tehelka editor Upendrra Rai ...</td>\n",
       "    </tr>\n",
       "    <tr>\n",
       "      <th>24542</th>\n",
       "      <td>Body of freelance journo found after boat caps...</td>\n",
       "      <td>The body of a freelance journalist working wit...</td>\n",
       "    </tr>\n",
       "    <tr>\n",
       "      <th>21635</th>\n",
       "      <td>Jet Airways has not yet asked the bank for fun...</td>\n",
       "      <td>Jet Airways has not yet approached the SBI for...</td>\n",
       "    </tr>\n",
       "  </tbody>\n",
       "</table>\n",
       "</div>"
      ],
      "text/plain": [
       "                                               headlines  \\\n",
       "65728  Pranab Mukherjee was more qualified to be PM: ...   \n",
       "77634   Bengaluru to get double-decker buses by year-end   \n",
       "46828  6 executives accused in PNB fraud sent to poli...   \n",
       "40717  Opp'n parties call for Tamil Nadu Bandh over C...   \n",
       "92558  Pak SC quotes 'The Godfather' in its Panama Pa...   \n",
       "4814   PM Modi inaugurates India's longest road-cum-r...   \n",
       "49119  RCom challenges TRAI directive on refunding un...   \n",
       "32739  Journo booked for using false info to access s...   \n",
       "24542  Body of freelance journo found after boat caps...   \n",
       "21635  Jet Airways has not yet asked the bank for fun...   \n",
       "\n",
       "                                                    text  \n",
       "65728  Former Prime Minister Manmohan Singh on Friday...  \n",
       "77634  The Bangalore Metropolitan Transport Corporati...  \n",
       "46828  A special CBI court on Wednesday sent six accu...  \n",
       "40717  DMK-led opposition parties have called for a s...  \n",
       "92558  Pakistan Supreme Court's verdict on the Panama...  \n",
       "4814   Prime Minister Narendra Modi today inaugurated...  \n",
       "49119  Reliance Communications has sought withdrawal ...  \n",
       "32739  CBI has booked ex-Tehelka editor Upendrra Rai ...  \n",
       "24542  The body of a freelance journalist working wit...  \n",
       "21635  Jet Airways has not yet approached the SBI for...  "
      ]
     },
     "execution_count": 6,
     "metadata": {},
     "output_type": "execute_result"
    }
   ],
   "source": [
    "data.sample(10)"
   ]
  },
  {
   "cell_type": "code",
   "execution_count": 7,
   "id": "5fb2a550",
   "metadata": {},
   "outputs": [
    {
     "name": "stdout",
     "output_type": "stream",
     "text": [
      "text 열에서 중복을 배제한 유일한 샘플의 수 : 98360\n",
      "headlines 열에서 중복을 배제한 유일한 샘플의 수 : 98280\n"
     ]
    }
   ],
   "source": [
    "# 데이터의 중복 샘플 유무를 확인\n",
    "print('text 열에서 중복을 배제한 유일한 샘플의 수 :', data['text'].nunique())\n",
    "print('headlines 열에서 중복을 배제한 유일한 샘플의 수 :', data['headlines'].nunique())"
   ]
  },
  {
   "cell_type": "code",
   "execution_count": 8,
   "id": "aa4fa416",
   "metadata": {},
   "outputs": [
    {
     "name": "stdout",
     "output_type": "stream",
     "text": [
      "전체 샘플수 : 98360\n"
     ]
    }
   ],
   "source": [
    "# inplace=True 를 설정하면 DataFrame 타입 값을 return 하지 않고 data 내부를 직접적으로 바꿉니다\n",
    "data.drop_duplicates(subset = ['text'], inplace=True)\n",
    "print('전체 샘플수 :', (len(data)))"
   ]
  },
  {
   "cell_type": "code",
   "execution_count": 9,
   "id": "b348a552",
   "metadata": {},
   "outputs": [
    {
     "name": "stdout",
     "output_type": "stream",
     "text": [
      "headlines    0\n",
      "text         0\n",
      "dtype: int64\n"
     ]
    }
   ],
   "source": [
    "# 데이터프레임에 Null 값이 있는지 확인\n",
    "print(data.isnull().sum())"
   ]
  },
  {
   "cell_type": "code",
   "execution_count": 10,
   "id": "7511fbec",
   "metadata": {},
   "outputs": [
    {
     "name": "stdout",
     "output_type": "stream",
     "text": [
      "정규화 사전의 수:  120\n"
     ]
    }
   ],
   "source": [
    "# 텍스트 정규화와 불용어 제거\n",
    "contractions = {\"ain't\": \"is not\", \"aren't\": \"are not\",\"can't\": \"cannot\", \"'cause\": \"because\", \"could've\": \"could have\", \"couldn't\": \"could not\",\n",
    "                           \"didn't\": \"did not\",  \"doesn't\": \"does not\", \"don't\": \"do not\", \"hadn't\": \"had not\", \"hasn't\": \"has not\", \"haven't\": \"have not\",\n",
    "                           \"he'd\": \"he would\",\"he'll\": \"he will\", \"he's\": \"he is\", \"how'd\": \"how did\", \"how'd'y\": \"how do you\", \"how'll\": \"how will\", \"how's\": \"how is\",\n",
    "                           \"I'd\": \"I would\", \"I'd've\": \"I would have\", \"I'll\": \"I will\", \"I'll've\": \"I will have\",\"I'm\": \"I am\", \"I've\": \"I have\", \"i'd\": \"i would\",\n",
    "                           \"i'd've\": \"i would have\", \"i'll\": \"i will\",  \"i'll've\": \"i will have\",\"i'm\": \"i am\", \"i've\": \"i have\", \"isn't\": \"is not\", \"it'd\": \"it would\",\n",
    "                           \"it'd've\": \"it would have\", \"it'll\": \"it will\", \"it'll've\": \"it will have\",\"it's\": \"it is\", \"let's\": \"let us\", \"ma'am\": \"madam\",\n",
    "                           \"mayn't\": \"may not\", \"might've\": \"might have\",\"mightn't\": \"might not\",\"mightn't've\": \"might not have\", \"must've\": \"must have\",\n",
    "                           \"mustn't\": \"must not\", \"mustn't've\": \"must not have\", \"needn't\": \"need not\", \"needn't've\": \"need not have\",\"o'clock\": \"of the clock\",\n",
    "                           \"oughtn't\": \"ought not\", \"oughtn't've\": \"ought not have\", \"shan't\": \"shall not\", \"sha'n't\": \"shall not\", \"shan't've\": \"shall not have\",\n",
    "                           \"she'd\": \"she would\", \"she'd've\": \"she would have\", \"she'll\": \"she will\", \"she'll've\": \"she will have\", \"she's\": \"she is\",\n",
    "                           \"should've\": \"should have\", \"shouldn't\": \"should not\", \"shouldn't've\": \"should not have\", \"so've\": \"so have\",\"so's\": \"so as\",\n",
    "                           \"this's\": \"this is\",\"that'd\": \"that would\", \"that'd've\": \"that would have\", \"that's\": \"that is\", \"there'd\": \"there would\",\n",
    "                           \"there'd've\": \"there would have\", \"there's\": \"there is\", \"here's\": \"here is\",\"they'd\": \"they would\", \"they'd've\": \"they would have\",\n",
    "                           \"they'll\": \"they will\", \"they'll've\": \"they will have\", \"they're\": \"they are\", \"they've\": \"they have\", \"to've\": \"to have\",\n",
    "                           \"wasn't\": \"was not\", \"we'd\": \"we would\", \"we'd've\": \"we would have\", \"we'll\": \"we will\", \"we'll've\": \"we will have\", \"we're\": \"we are\",\n",
    "                           \"we've\": \"we have\", \"weren't\": \"were not\", \"what'll\": \"what will\", \"what'll've\": \"what will have\", \"what're\": \"what are\",\n",
    "                           \"what's\": \"what is\", \"what've\": \"what have\", \"when's\": \"when is\", \"when've\": \"when have\", \"where'd\": \"where did\", \"where's\": \"where is\",\n",
    "                           \"where've\": \"where have\", \"who'll\": \"who will\", \"who'll've\": \"who will have\", \"who's\": \"who is\", \"who've\": \"who have\",\n",
    "                           \"why's\": \"why is\", \"why've\": \"why have\", \"will've\": \"will have\", \"won't\": \"will not\", \"won't've\": \"will not have\",\n",
    "                           \"would've\": \"would have\", \"wouldn't\": \"would not\", \"wouldn't've\": \"would not have\", \"y'all\": \"you all\",\n",
    "                           \"y'all'd\": \"you all would\",\"y'all'd've\": \"you all would have\",\"y'all're\": \"you all are\",\"y'all've\": \"you all have\",\n",
    "                           \"you'd\": \"you would\", \"you'd've\": \"you would have\", \"you'll\": \"you will\", \"you'll've\": \"you will have\",\n",
    "                           \"you're\": \"you are\", \"you've\": \"you have\"}\n",
    "\n",
    "print(\"정규화 사전의 수: \", len(contractions))"
   ]
  },
  {
   "cell_type": "code",
   "execution_count": 11,
   "id": "32d62e85",
   "metadata": {},
   "outputs": [
    {
     "name": "stdout",
     "output_type": "stream",
     "text": [
      "불용어 개수 : 179\n",
      "['i', 'me', 'my', 'myself', 'we', 'our', 'ours', 'ourselves', 'you', \"you're\", \"you've\", \"you'll\", \"you'd\", 'your', 'yours', 'yourself', 'yourselves', 'he', 'him', 'his', 'himself', 'she', \"she's\", 'her', 'hers', 'herself', 'it', \"it's\", 'its', 'itself', 'they', 'them', 'their', 'theirs', 'themselves', 'what', 'which', 'who', 'whom', 'this', 'that', \"that'll\", 'these', 'those', 'am', 'is', 'are', 'was', 'were', 'be', 'been', 'being', 'have', 'has', 'had', 'having', 'do', 'does', 'did', 'doing', 'a', 'an', 'the', 'and', 'but', 'if', 'or', 'because', 'as', 'until', 'while', 'of', 'at', 'by', 'for', 'with', 'about', 'against', 'between', 'into', 'through', 'during', 'before', 'after', 'above', 'below', 'to', 'from', 'up', 'down', 'in', 'out', 'on', 'off', 'over', 'under', 'again', 'further', 'then', 'once', 'here', 'there', 'when', 'where', 'why', 'how', 'all', 'any', 'both', 'each', 'few', 'more', 'most', 'other', 'some', 'such', 'no', 'nor', 'not', 'only', 'own', 'same', 'so', 'than', 'too', 'very', 's', 't', 'can', 'will', 'just', 'don', \"don't\", 'should', \"should've\", 'now', 'd', 'll', 'm', 'o', 're', 've', 'y', 'ain', 'aren', \"aren't\", 'couldn', \"couldn't\", 'didn', \"didn't\", 'doesn', \"doesn't\", 'hadn', \"hadn't\", 'hasn', \"hasn't\", 'haven', \"haven't\", 'isn', \"isn't\", 'ma', 'mightn', \"mightn't\", 'mustn', \"mustn't\", 'needn', \"needn't\", 'shan', \"shan't\", 'shouldn', \"shouldn't\", 'wasn', \"wasn't\", 'weren', \"weren't\", 'won', \"won't\", 'wouldn', \"wouldn't\"]\n"
     ]
    }
   ],
   "source": [
    "print('불용어 개수 :', len(stopwords.words('english') ))\n",
    "print(stopwords.words('english'))"
   ]
  },
  {
   "cell_type": "code",
   "execution_count": 12,
   "id": "f15e858e",
   "metadata": {},
   "outputs": [],
   "source": [
    "# 데이터 전처리 함수\n",
    "def preprocess_sentence(sentence, remove_stopwords=True):\n",
    "    sentence = sentence.lower() # 텍스트 소문자화\n",
    "    sentence = BeautifulSoup(sentence, \"lxml\").text # <br />, <a href = ...> 등의 html 태그 제거\n",
    "    sentence = re.sub(r'\\([^)]*\\)', '', sentence) # 괄호로 닫힌 문자열 (...) 제거 Ex) my husband (and myself!) for => my husband for\n",
    "    sentence = re.sub('\"','', sentence) # 쌍따옴표 \" 제거\n",
    "    sentence = ' '.join([contractions[t] if t in contractions else t for t in sentence.split(\" \")]) # 약어 정규화\n",
    "    sentence = re.sub(r\"'s\\b\",\"\", sentence) # 소유격 제거. Ex) roland's -> roland\n",
    "    sentence = re.sub(\"[^a-zA-Z]\", \" \", sentence) # 영어 외 문자(숫자, 특수문자 등) 공백으로 변환\n",
    "    sentence = re.sub('[m]{2,}', 'mm', sentence) # m이 3개 이상이면 2개로 변경. Ex) ummmmmmm yeah -> umm yeah\n",
    "    \n",
    "    # 불용어 제거 (text)\n",
    "    if remove_stopwords:\n",
    "        tokens = ' '.join(word for word in sentence.split() if not word in stopwords.words('english') if len(word) > 1)\n",
    "    # 불용어 미제거 (headlines)\n",
    "    else:\n",
    "        tokens = ' '.join(word for word in sentence.split() if len(word) > 1)\n",
    "    return tokens"
   ]
  },
  {
   "cell_type": "code",
   "execution_count": 13,
   "id": "3c43035e",
   "metadata": {},
   "outputs": [
    {
     "name": "stdout",
     "output_type": "stream",
     "text": [
      "text:  everything bought great infact ordered twice third ordered wasfor mother father\n",
      "headlines: great way to start the day\n"
     ]
    }
   ],
   "source": [
    "temp_text = 'Everything I bought was great, infact I ordered twice and the third ordered was<br />for my mother and father.'\n",
    "temp_headlines = 'Great way to start (or finish) the day!!!'\n",
    "\n",
    "print(\"text: \", preprocess_sentence(temp_text))\n",
    "print(\"headlines:\", preprocess_sentence(temp_headlines, False)) # 불용어를 제거하지 않습니다."
   ]
  },
  {
   "cell_type": "markdown",
   "id": "0316113c",
   "metadata": {},
   "source": [
    "---\n",
    "\n",
    "## ⛓️Step 2. 데이터 전처리하기 (추상적 요약) \n",
    "실습에서 사용된 전처리를 참고하여 각자 필요하다고 생각하는 **전처리를 추가 사용**하여 텍스트를 정규화 또는 정제해 보자.   \n",
    "만약, 불용어 제거를 선택한다면 상대적으로 길이가 짧은 요약 데이터에 대해서도 불용어를 제거하는 것이 좋을지 고민해 보자."
   ]
  },
  {
   "cell_type": "code",
   "execution_count": 14,
   "id": "9b972a60",
   "metadata": {},
   "outputs": [
    {
     "name": "stdout",
     "output_type": "stream",
     "text": [
      "text 전처리 후 결과:  0    saurav kant alumnus upgrad iiit pg program mac...\n",
      "1    kunal shah credit card bill payment platform c...\n",
      "2    new zealand defeated india wickets fourth odi ...\n",
      "3    aegon life iterm insurance plan customers enjo...\n",
      "4    speaking sexual harassment allegations rajkuma...\n",
      "Name: text, dtype: object\n"
     ]
    }
   ],
   "source": [
    "# 전체 text 데이터에 대한 전처리 \n",
    "clean_text = []\n",
    "\n",
    "clean_text = data['text'].apply(lambda x:preprocess_sentence(x))\n",
    "\n",
    "# 전처리 후 출력\n",
    "print(\"text 전처리 후 결과: \", clean_text[:5])"
   ]
  },
  {
   "cell_type": "code",
   "execution_count": 15,
   "id": "5d1d1967",
   "metadata": {},
   "outputs": [
    {
     "name": "stdout",
     "output_type": "stream",
     "text": [
      "headlines 전처리 후 결과:  0    upgrad learner switches to career in ml al wit...\n",
      "1    delhi techie wins free food from swiggy for on...\n",
      "2    new zealand end rohit sharma led india match w...\n",
      "3    aegon life iterm insurance plan helps customer...\n",
      "4    have known hirani for yrs what if metoo claims...\n",
      "Name: headlines, dtype: object\n"
     ]
    }
   ],
   "source": [
    "clean_headlines = []\n",
    "\n",
    "clean_headlines = data['headlines'].apply(lambda x:preprocess_sentence(x, False))\n",
    "\n",
    "print(\"headlines 전처리 후 결과: \", clean_headlines[:5])"
   ]
  },
  {
   "cell_type": "code",
   "execution_count": 16,
   "id": "cc3f75b3",
   "metadata": {},
   "outputs": [
    {
     "name": "stdout",
     "output_type": "stream",
     "text": [
      "전체 샘플수 : 98360\n"
     ]
    }
   ],
   "source": [
    "data.dropna(axis=0, inplace=True)\n",
    "print('전체 샘플수 :', (len(data)))"
   ]
  },
  {
   "cell_type": "code",
   "execution_count": 17,
   "id": "620c613b",
   "metadata": {},
   "outputs": [
    {
     "name": "stdout",
     "output_type": "stream",
     "text": [
      "텍스트의 최소 길이 : 1\n",
      "텍스트의 최대 길이 : 91\n",
      "텍스트의 평균 길이 : 58.23813542090281\n",
      "헤드라인의 최소 길이 : 1\n",
      "헤드라인의 최대 길이 : 18\n",
      "헤드라인의 평균 길이 : 9.553660024400163\n"
     ]
    },
    {
     "data": {
      "image/png": "[encoded data removed]",
      "text/plain": [
       "<Figure size 432x288 with 2 Axes>"
      ]
     },
     "metadata": {
      "needs_background": "light"
     },
     "output_type": "display_data"
    },
    {
     "data": {
      "image/png": "[encoded data removed]",
      "text/plain": [
       "<Figure size 432x288 with 1 Axes>"
      ]
     },
     "metadata": {
      "needs_background": "light"
     },
     "output_type": "display_data"
    },
    {
     "data": {
      "image/png": "[encoded data removed]",
      "text/plain": [
       "<Figure size 432x288 with 1 Axes>"
      ]
     },
     "metadata": {
      "needs_background": "light"
     },
     "output_type": "display_data"
    }
   ],
   "source": [
    "# 샘플의 최대 길이 정하기\n",
    "# 길이 분포 출력\n",
    "import matplotlib.pyplot as plt\n",
    "\n",
    "text_len = [len(s.split()) for s in data['text']]\n",
    "headlines_len = [len(s.split()) for s in data['headlines']]\n",
    "\n",
    "print('텍스트의 최소 길이 : {}'.format(np.min(text_len)))\n",
    "print('텍스트의 최대 길이 : {}'.format(np.max(text_len)))\n",
    "print('텍스트의 평균 길이 : {}'.format(np.mean(text_len)))\n",
    "print('헤드라인의 최소 길이 : {}'.format(np.min(headlines_len)))\n",
    "print('헤드라인의 최대 길이 : {}'.format(np.max(headlines_len)))\n",
    "print('헤드라인의 평균 길이 : {}'.format(np.mean(headlines_len)))\n",
    "\n",
    "plt.subplot(1,2,1)\n",
    "plt.boxplot(text_len)\n",
    "plt.title('text')\n",
    "plt.subplot(1,2,2)\n",
    "plt.boxplot(headlines_len)\n",
    "plt.title('headlines')\n",
    "plt.tight_layout()\n",
    "plt.show()\n",
    "\n",
    "plt.title('text')\n",
    "plt.hist(text_len, bins = 40)\n",
    "plt.xlabel('length of samples')\n",
    "plt.ylabel('number of samples')\n",
    "plt.show()\n",
    "\n",
    "plt.title('headlines')\n",
    "plt.hist(headlines_len, bins = 40)\n",
    "plt.xlabel('length of samples')\n",
    "plt.ylabel('number of samples')\n",
    "plt.show()"
   ]
  },
  {
   "cell_type": "code",
   "execution_count": 18,
   "id": "706f07a8",
   "metadata": {},
   "outputs": [],
   "source": [
    "# headlines의 적절한 최대 길이를 임의로 정해보자\n",
    "text_max_len = 50\n",
    "headlines_max_len = 8"
   ]
  },
  {
   "cell_type": "code",
   "execution_count": 19,
   "id": "984c9def",
   "metadata": {},
   "outputs": [],
   "source": [
    "# 데이터의 몇 %가 해당하는지 계산하는 함수를 만들어서 좀 더 정확하게 판단하기\n",
    "def below_threshold_len(max_len, nested_list):\n",
    "    cnt = 0\n",
    "    for s in nested_list:\n",
    "        if(len(s.split()) <= max_len):\n",
    "            cnt = cnt + 1\n",
    "    print('전체 샘플 중 길이가 %s 이하인 샘플의 비율: %s'%(max_len, (cnt / len(nested_list))))"
   ]
  },
  {
   "cell_type": "code",
   "execution_count": 20,
   "id": "6d09555a",
   "metadata": {},
   "outputs": [
    {
     "name": "stdout",
     "output_type": "stream",
     "text": [
      "전체 샘플 중 길이가 50 이하인 샘플의 비율: 0.011752745018300122\n",
      "전체 샘플 중 길이가 8 이하인 샘플의 비율: 0.2279686864579097\n"
     ]
    }
   ],
   "source": [
    "below_threshold_len(text_max_len, data['text'])\n",
    "below_threshold_len(headlines_max_len,  data['headlines'])"
   ]
  },
  {
   "cell_type": "markdown",
   "id": "da6482fd",
   "metadata": {},
   "source": [
    "---\n",
    "\n",
    "**data 데이터프레임을 위에서 임의로 정의한 text_max_len과 headlines_max_len의 길이보다 큰 샘플을 제외하는 코드를 작성해보자**"
   ]
  },
  {
   "cell_type": "code",
   "execution_count": 21,
   "id": "6f854ad8",
   "metadata": {},
   "outputs": [
    {
     "name": "stdout",
     "output_type": "stream",
     "text": [
      "전체 샘플수 : 98360\n"
     ]
    }
   ],
   "source": [
    "# data 복사\n",
    "df = data.copy()\n",
    "\n",
    "# text와 headlines의 길이가 각각 text_max_len과 headlines_max_len보다 작거나 같은 경우만 남김\n",
    "df['text'] = df['text'].apply(lambda x: x if len(x.split()) <= text_max_len else '')\n",
    "df['headlines'] = df['headlines'].apply(lambda x: x if len(x.split()) <= headlines_max_len else '')\n",
    "\n",
    "\n",
    "print('전체 샘플수 :', (len(df)))"
   ]
  },
  {
   "cell_type": "code",
   "execution_count": 22,
   "id": "33897c26",
   "metadata": {},
   "outputs": [
    {
     "data": {
      "text/html": [
       "<div>\n",
       "<style scoped>\n",
       "    .dataframe tbody tr th:only-of-type {\n",
       "        vertical-align: middle;\n",
       "    }\n",
       "\n",
       "    .dataframe tbody tr th {\n",
       "        vertical-align: top;\n",
       "    }\n",
       "\n",
       "    .dataframe thead th {\n",
       "        text-align: right;\n",
       "    }\n",
       "</style>\n",
       "<table border=\"1\" class=\"dataframe\">\n",
       "  <thead>\n",
       "    <tr style=\"text-align: right;\">\n",
       "      <th></th>\n",
       "      <th>headlines</th>\n",
       "      <th>text</th>\n",
       "      <th>decoder_input</th>\n",
       "      <th>decoder_target</th>\n",
       "    </tr>\n",
       "  </thead>\n",
       "  <tbody>\n",
       "    <tr>\n",
       "      <th>0</th>\n",
       "      <td>upGrad learner switches to career in ML &amp; Al w...</td>\n",
       "      <td>Saurav Kant, an alumnus of upGrad and IIIT-B's...</td>\n",
       "      <td>sostoken upGrad learner switches to career in ...</td>\n",
       "      <td>upGrad learner switches to career in ML &amp; Al w...</td>\n",
       "    </tr>\n",
       "    <tr>\n",
       "      <th>1</th>\n",
       "      <td>Delhi techie wins free food from Swiggy for on...</td>\n",
       "      <td>Kunal Shah's credit card bill payment platform...</td>\n",
       "      <td>sostoken Delhi techie wins free food from Swig...</td>\n",
       "      <td>Delhi techie wins free food from Swiggy for on...</td>\n",
       "    </tr>\n",
       "    <tr>\n",
       "      <th>2</th>\n",
       "      <td>New Zealand end Rohit Sharma-led India's 12-ma...</td>\n",
       "      <td>New Zealand defeated India by 8 wickets in the...</td>\n",
       "      <td>sostoken New Zealand end Rohit Sharma-led Indi...</td>\n",
       "      <td>New Zealand end Rohit Sharma-led India's 12-ma...</td>\n",
       "    </tr>\n",
       "    <tr>\n",
       "      <th>3</th>\n",
       "      <td>Aegon life iTerm insurance plan helps customer...</td>\n",
       "      <td>With Aegon Life iTerm Insurance plan, customer...</td>\n",
       "      <td>sostoken Aegon life iTerm insurance plan helps...</td>\n",
       "      <td>Aegon life iTerm insurance plan helps customer...</td>\n",
       "    </tr>\n",
       "    <tr>\n",
       "      <th>4</th>\n",
       "      <td>Have known Hirani for yrs, what if MeToo claim...</td>\n",
       "      <td>Speaking about the sexual harassment allegatio...</td>\n",
       "      <td>sostoken Have known Hirani for yrs, what if Me...</td>\n",
       "      <td>Have known Hirani for yrs, what if MeToo claim...</td>\n",
       "    </tr>\n",
       "  </tbody>\n",
       "</table>\n",
       "</div>"
      ],
      "text/plain": [
       "                                           headlines  \\\n",
       "0  upGrad learner switches to career in ML & Al w...   \n",
       "1  Delhi techie wins free food from Swiggy for on...   \n",
       "2  New Zealand end Rohit Sharma-led India's 12-ma...   \n",
       "3  Aegon life iTerm insurance plan helps customer...   \n",
       "4  Have known Hirani for yrs, what if MeToo claim...   \n",
       "\n",
       "                                                text  \\\n",
       "0  Saurav Kant, an alumnus of upGrad and IIIT-B's...   \n",
       "1  Kunal Shah's credit card bill payment platform...   \n",
       "2  New Zealand defeated India by 8 wickets in the...   \n",
       "3  With Aegon Life iTerm Insurance plan, customer...   \n",
       "4  Speaking about the sexual harassment allegatio...   \n",
       "\n",
       "                                       decoder_input  \\\n",
       "0  sostoken upGrad learner switches to career in ...   \n",
       "1  sostoken Delhi techie wins free food from Swig...   \n",
       "2  sostoken New Zealand end Rohit Sharma-led Indi...   \n",
       "3  sostoken Aegon life iTerm insurance plan helps...   \n",
       "4  sostoken Have known Hirani for yrs, what if Me...   \n",
       "\n",
       "                                      decoder_target  \n",
       "0  upGrad learner switches to career in ML & Al w...  \n",
       "1  Delhi techie wins free food from Swiggy for on...  \n",
       "2  New Zealand end Rohit Sharma-led India's 12-ma...  \n",
       "3  Aegon life iTerm insurance plan helps customer...  \n",
       "4  Have known Hirani for yrs, what if MeToo claim...  "
      ]
     },
     "execution_count": 22,
     "metadata": {},
     "output_type": "execute_result"
    }
   ],
   "source": [
    "# 시작 토큰과 종료 토큰 추가하기\n",
    "# 요약 데이터에는 시작 토큰과 종료 토큰을 추가한다.\n",
    "data['decoder_input'] = data['headlines'].apply(lambda x : 'sostoken '+ x)\n",
    "data['decoder_target'] = data['headlines'].apply(lambda x : x + ' eostoken')\n",
    "data.head()"
   ]
  },
  {
   "cell_type": "code",
   "execution_count": 23,
   "id": "a2f2cad9",
   "metadata": {},
   "outputs": [],
   "source": [
    "# 인코더의 입력, 디코더의 입력과 레이블을 각각 다시 Numpy 타입으로 저장\n",
    "encoder_input = np.array(data['text']) # 인코더의 입력\n",
    "decoder_input = np.array(data['decoder_input']) # 디코더의 입력\n",
    "decoder_target = np.array(data['decoder_target']) # 디코더의 레이블"
   ]
  },
  {
   "cell_type": "code",
   "execution_count": 24,
   "id": "0646e3d6",
   "metadata": {},
   "outputs": [
    {
     "name": "stdout",
     "output_type": "stream",
     "text": [
      "[14926 39138 87897 ... 34453 51545 94777]\n"
     ]
    }
   ],
   "source": [
    "# encoder_input과 크기와 형태가 같은 순서가 섞인 정수 시퀀스를 만들어\n",
    "indices = np.arange(encoder_input.shape[0])\n",
    "np.random.shuffle(indices)\n",
    "print(indices)"
   ]
  },
  {
   "cell_type": "code",
   "execution_count": 25,
   "id": "181557ac",
   "metadata": {},
   "outputs": [],
   "source": [
    "# 이 정수 시퀀스를 이용해 다시 데이터의 샘플 순서를 정의\n",
    "encoder_input = encoder_input[indices]\n",
    "decoder_input = decoder_input[indices]\n",
    "decoder_target = decoder_target[indices]"
   ]
  },
  {
   "cell_type": "code",
   "execution_count": 26,
   "id": "3b92da1d",
   "metadata": {},
   "outputs": [
    {
     "name": "stdout",
     "output_type": "stream",
     "text": [
      "테스트 데이터의 수 : 19672\n"
     ]
    }
   ],
   "source": [
    "#  데이터를 8:2의 비율로 훈련 데이터와 테스트 데이터로 분리\n",
    "n_of_val = int(len(encoder_input)*0.2)\n",
    "print('테스트 데이터의 수 :', n_of_val)"
   ]
  },
  {
   "cell_type": "code",
   "execution_count": 27,
   "id": "ec0d3063",
   "metadata": {},
   "outputs": [
    {
     "name": "stdout",
     "output_type": "stream",
     "text": [
      "훈련 데이터의 개수 : 78688\n",
      "훈련 레이블의 개수 : 78688\n",
      "테스트 데이터의 개수 : 19672\n",
      "테스트 레이블의 개수 : 19672\n"
     ]
    }
   ],
   "source": [
    "# 이렇게 정의한 테스트 데이터의 개수를 이용해 전체 데이터를 양분\n",
    "encoder_input_train = encoder_input[:-n_of_val]\n",
    "decoder_input_train = decoder_input[:-n_of_val]\n",
    "decoder_target_train = decoder_target[:-n_of_val]\n",
    "\n",
    "encoder_input_test = encoder_input[-n_of_val:]\n",
    "decoder_input_test = decoder_input[-n_of_val:]\n",
    "decoder_target_test = decoder_target[-n_of_val:]\n",
    "\n",
    "print('훈련 데이터의 개수 :', len(encoder_input_train))\n",
    "print('훈련 레이블의 개수 :', len(decoder_input_train))\n",
    "print('테스트 데이터의 개수 :', len(encoder_input_test))\n",
    "print('테스트 레이블의 개수 :', len(decoder_input_test))"
   ]
  },
  {
   "cell_type": "code",
   "execution_count": 28,
   "id": "01c5f161",
   "metadata": {},
   "outputs": [],
   "source": [
    "# Keras의 토크나이저를 사용\n",
    "src_tokenizer = Tokenizer() # 토크나이저 정의\n",
    "src_tokenizer.fit_on_texts(encoder_input_train) # 입력된 데이터로부터 단어 집합 생성"
   ]
  },
  {
   "cell_type": "code",
   "execution_count": 29,
   "id": "4703ee7e",
   "metadata": {},
   "outputs": [
    {
     "name": "stdout",
     "output_type": "stream",
     "text": [
      "단어 집합(vocabulary)의 크기 : 91340\n",
      "등장 빈도가 6번 이하인 희귀 단어의 수: 66580\n",
      "단어 집합에서 희귀 단어를 제외시킬 경우의 단어 집합의 크기 24760\n",
      "단어 집합에서 희귀 단어의 비율: 72.89248959929932\n",
      "전체 등장 빈도에서 희귀 단어 등장 빈도 비율: 2.7360521083743317\n"
     ]
    }
   ],
   "source": [
    "threshold = 7\n",
    "total_cnt = len(src_tokenizer.word_index) # 단어의 수\n",
    "rare_cnt = 0 # 등장 빈도수가 threshold보다 작은 단어의 개수를 카운트\n",
    "total_freq = 0 # 훈련 데이터의 전체 단어 빈도수 총 합\n",
    "rare_freq = 0 # 등장 빈도수가 threshold보다 작은 단어의 등장 빈도수의 총 합\n",
    "\n",
    "# 단어와 빈도수의 쌍(pair)을 key와 value로 받는다.\n",
    "for key, value in src_tokenizer.word_counts.items():\n",
    "    total_freq = total_freq + value\n",
    "\n",
    "    # 단어의 등장 빈도수가 threshold보다 작으면\n",
    "    if(value < threshold):\n",
    "        rare_cnt = rare_cnt + 1\n",
    "        rare_freq = rare_freq + value\n",
    "\n",
    "print('단어 집합(vocabulary)의 크기 :', total_cnt)\n",
    "print('등장 빈도가 %s번 이하인 희귀 단어의 수: %s'%(threshold - 1, rare_cnt))\n",
    "print('단어 집합에서 희귀 단어를 제외시킬 경우의 단어 집합의 크기 %s'%(total_cnt - rare_cnt))\n",
    "print(\"단어 집합에서 희귀 단어의 비율:\", (rare_cnt / total_cnt)*100)\n",
    "print(\"전체 등장 빈도에서 희귀 단어 등장 빈도 비율:\", (rare_freq / total_freq)*100)"
   ]
  },
  {
   "cell_type": "code",
   "execution_count": 30,
   "id": "b84e6850",
   "metadata": {},
   "outputs": [],
   "source": [
    "src_vocab = 8000\n",
    "src_tokenizer = Tokenizer(num_words=src_vocab) # 단어 집합의 크기를 8,000으로 제한\n",
    "src_tokenizer.fit_on_texts(encoder_input_train) # 단어 집합 재생성"
   ]
  },
  {
   "cell_type": "code",
   "execution_count": 31,
   "id": "ed6029f8",
   "metadata": {},
   "outputs": [
    {
     "name": "stdout",
     "output_type": "stream",
     "text": [
      "[[6196, 196, 963, 5671, 8, 1070, 2, 1137, 3, 1569, 868, 4, 170, 92, 1037, 1148, 192, 1, 105, 23, 1137, 1, 868, 4, 1, 192, 9, 2162, 57, 6, 23, 40, 386, 983, 57, 7055, 88, 1210, 265, 1, 349, 963, 5671, 23, 1221, 2519, 3818, 868, 4, 6, 21, 23, 282, 3, 4301, 5, 1, 105, 3537, 150], [3948, 3, 170, 1028, 49, 442, 28, 1356, 1960, 17, 1546, 4, 2889, 9, 125, 107, 376, 1693, 2153, 142, 4084, 167, 38, 227, 25, 397, 1112, 3174, 78, 4084, 5, 1546, 3819, 14, 29, 85, 538, 2, 3551, 226, 5, 6260, 3, 131, 802, 2308, 31, 55, 711, 17, 1546, 295, 171, 7723, 4, 1465], [53, 1666, 292, 28, 409, 849, 7, 4009, 5723, 12, 152, 595, 4, 3, 698, 1833, 18, 3, 54, 101, 1113, 7, 124, 116, 2, 3336, 1, 3336, 26, 10, 1, 937, 31, 7237, 358, 20, 3, 4276, 5, 306, 949, 1620, 23, 25, 6, 700, 255, 4033, 104, 54, 118, 24, 435, 6, 40, 360, 7, 5723]]\n"
     ]
    }
   ],
   "source": [
    "# 텍스트 시퀀스를 정수 시퀀스로 변환\n",
    "encoder_input_train = src_tokenizer.texts_to_sequences(encoder_input_train) \n",
    "encoder_input_test = src_tokenizer.texts_to_sequences(encoder_input_test)\n",
    "\n",
    "# 잘 진행되었는지 샘플 출력\n",
    "print(encoder_input_train[:3])"
   ]
  },
  {
   "cell_type": "code",
   "execution_count": 32,
   "id": "ead20ba5",
   "metadata": {},
   "outputs": [],
   "source": [
    "tar_tokenizer = Tokenizer()\n",
    "tar_tokenizer.fit_on_texts(decoder_input_train)"
   ]
  },
  {
   "cell_type": "code",
   "execution_count": 33,
   "id": "d4fb159a",
   "metadata": {},
   "outputs": [
    {
     "name": "stdout",
     "output_type": "stream",
     "text": [
      "단어 집합(vocabulary)의 크기 : 40750\n",
      "등장 빈도가 5번 이하인 희귀 단어의 수: 29485\n",
      "단어 집합에서 희귀 단어를 제외시킬 경우의 단어 집합의 크기 11265\n",
      "단어 집합에서 희귀 단어의 비율: 72.3558282208589\n",
      "전체 등장 빈도에서 희귀 단어 등장 빈도 비율: 6.179242180820579\n"
     ]
    }
   ],
   "source": [
    "threshold = 6\n",
    "total_cnt = len(tar_tokenizer.word_index) # 단어의 수\n",
    "rare_cnt = 0 # 등장 빈도수가 threshold보다 작은 단어의 개수를 카운트\n",
    "total_freq = 0 # 훈련 데이터의 전체 단어 빈도수 총 합\n",
    "rare_freq = 0 # 등장 빈도수가 threshold보다 작은 단어의 등장 빈도수의 총 합\n",
    "\n",
    "# 단어와 빈도수의 쌍(pair)을 key와 value로 받는다.\n",
    "for key, value in tar_tokenizer.word_counts.items():\n",
    "    total_freq = total_freq + value\n",
    "\n",
    "    # 단어의 등장 빈도수가 threshold보다 작으면\n",
    "    if(value < threshold):\n",
    "        rare_cnt = rare_cnt + 1\n",
    "        rare_freq = rare_freq + value\n",
    "\n",
    "print('단어 집합(vocabulary)의 크기 :', total_cnt)\n",
    "print('등장 빈도가 %s번 이하인 희귀 단어의 수: %s'%(threshold - 1, rare_cnt))\n",
    "print('단어 집합에서 희귀 단어를 제외시킬 경우의 단어 집합의 크기 %s'%(total_cnt - rare_cnt))\n",
    "print(\"단어 집합에서 희귀 단어의 비율:\", (rare_cnt / total_cnt)*100)\n",
    "print(\"전체 등장 빈도에서 희귀 단어 등장 빈도 비율:\", (rare_freq / total_freq)*100)"
   ]
  },
  {
   "cell_type": "code",
   "execution_count": 34,
   "id": "067b5fc0",
   "metadata": {},
   "outputs": [
    {
     "name": "stdout",
     "output_type": "stream",
     "text": [
      "input\n",
      "input  [[1, 1176, 3, 401, 656, 4, 11], [1, 908, 1382, 1907, 506, 41, 4, 1848, 5, 27, 1153], [1, 30, 41, 1488, 427, 7, 105, 134, 10, 27, 156], [1, 38, 564, 6, 65, 305], [1, 217, 1154, 4, 155, 13, 213, 416, 4, 9, 1205]]\n",
      "target\n",
      "decoder  [[1176, 3, 401, 656, 4, 11, 2], [908, 1382, 1907, 506, 41, 4, 1848, 5, 27, 1153, 2], [30, 41, 1488, 427, 7, 105, 134, 10, 27, 156, 2], [38, 564, 6, 65, 305, 2], [217, 1154, 4, 155, 13, 213, 416, 4, 9, 1205, 2]]\n"
     ]
    }
   ],
   "source": [
    "tar_vocab = 2000\n",
    "tar_tokenizer = Tokenizer(num_words=tar_vocab) \n",
    "tar_tokenizer.fit_on_texts(decoder_input_train)\n",
    "tar_tokenizer.fit_on_texts(decoder_target_train)\n",
    "\n",
    "# 텍스트 시퀀스를 정수 시퀀스로 변환\n",
    "decoder_input_train = tar_tokenizer.texts_to_sequences(decoder_input_train) \n",
    "decoder_target_train = tar_tokenizer.texts_to_sequences(decoder_target_train)\n",
    "decoder_input_test = tar_tokenizer.texts_to_sequences(decoder_input_test)\n",
    "decoder_target_test = tar_tokenizer.texts_to_sequences(decoder_target_test)\n",
    "\n",
    "# 잘 변환되었는지 확인\n",
    "print('input')\n",
    "print('input ',decoder_input_train[:5])\n",
    "print('target')\n",
    "print('decoder ',decoder_target_train[:5])"
   ]
  },
  {
   "cell_type": "code",
   "execution_count": 35,
   "id": "ed1efb69",
   "metadata": {},
   "outputs": [
    {
     "name": "stdout",
     "output_type": "stream",
     "text": [
      "삭제할 훈련 데이터의 개수 : 17\n",
      "삭제할 테스트 데이터의 개수 : 5\n",
      "훈련 데이터의 개수 : 78671\n",
      "훈련 레이블의 개수 : 78671\n",
      "테스트 데이터의 개수 : 19667\n",
      "테스트 레이블의 개수 : 19667\n"
     ]
    }
   ],
   "source": [
    "# 훈련 데이터와 테스트 데이터에 대해서 요약문의 길이가 1인 경우의 인덱스를 \n",
    "# 각각 drop_train과 drop_test에 라는 변수에 저장. 이 샘플들은 모두 삭제\n",
    "\n",
    "drop_train = [index for index, sentence in enumerate(decoder_input_train) if len(sentence) == 1]\n",
    "drop_test = [index for index, sentence in enumerate(decoder_input_test) if len(sentence) == 1]\n",
    "\n",
    "print('삭제할 훈련 데이터의 개수 :', len(drop_train))\n",
    "print('삭제할 테스트 데이터의 개수 :', len(drop_test))\n",
    "\n",
    "encoder_input_train = [sentence for index, sentence in enumerate(encoder_input_train) if index not in drop_train]\n",
    "decoder_input_train = [sentence for index, sentence in enumerate(decoder_input_train) if index not in drop_train]\n",
    "decoder_target_train = [sentence for index, sentence in enumerate(decoder_target_train) if index not in drop_train]\n",
    "\n",
    "encoder_input_test = [sentence for index, sentence in enumerate(encoder_input_test) if index not in drop_test]\n",
    "decoder_input_test = [sentence for index, sentence in enumerate(decoder_input_test) if index not in drop_test]\n",
    "decoder_target_test = [sentence for index, sentence in enumerate(decoder_target_test) if index not in drop_test]\n",
    "\n",
    "print('훈련 데이터의 개수 :', len(encoder_input_train))\n",
    "print('훈련 레이블의 개수 :', len(decoder_input_train))\n",
    "print('테스트 데이터의 개수 :', len(encoder_input_test))\n",
    "print('테스트 레이블의 개수 :', len(decoder_input_test))"
   ]
  },
  {
   "cell_type": "code",
   "execution_count": 36,
   "id": "b34d8d7a",
   "metadata": {},
   "outputs": [],
   "source": [
    "# 패딩하기\n",
    "encoder_input_train = pad_sequences(encoder_input_train, maxlen=text_max_len, padding='post')\n",
    "encoder_input_test = pad_sequences(encoder_input_test, maxlen=text_max_len, padding='post')\n",
    "decoder_input_train = pad_sequences(decoder_input_train, maxlen=headlines_max_len, padding='post')\n",
    "decoder_target_train = pad_sequences(decoder_target_train, maxlen=headlines_max_len, padding='post')\n",
    "decoder_input_test = pad_sequences(decoder_input_test, maxlen=headlines_max_len, padding='post')\n",
    "decoder_target_test = pad_sequences(decoder_target_test, maxlen=headlines_max_len, padding='post')\n"
   ]
  },
  {
   "cell_type": "code",
   "execution_count": 37,
   "id": "5e7621be",
   "metadata": {},
   "outputs": [],
   "source": [
    "from tensorflow.keras.layers import Input, LSTM, Embedding, Dense, Concatenate, TimeDistributed\n",
    "from tensorflow.keras.models import Model\n",
    "from tensorflow.keras.callbacks import EarlyStopping, ModelCheckpoint\n",
    "\n",
    "\n",
    "# 인코더 설계 시작\n",
    "embedding_dim = 128\n",
    "hidden_size = 256\n",
    "\n",
    "# 인코더\n",
    "encoder_inputs = Input(shape=(text_max_len,))\n",
    "\n",
    "# 인코더의 임베딩 층\n",
    "enc_emb = Embedding(src_vocab, embedding_dim)(encoder_inputs)\n",
    "\n",
    "# 인코더의 LSTM 1\n",
    "# encoder_lstm1 = LSTM(hidden_size, return_sequences=True, return_state=True ,dropout = 0.4, recurrent_dropout = 0.4)\n",
    "encoder_lstm1 = LSTM(hidden_size, return_sequences=True, return_state=True ,dropout = 0.4)\n",
    "encoder_output1, state_h1, state_c1 = encoder_lstm1(enc_emb)\n",
    "\n",
    "# 인코더의 LSTM 2\n",
    "encoder_lstm2 = LSTM(hidden_size, return_sequences=True, return_state=True, dropout=0.4)\n",
    "encoder_output2, state_h2, state_c2 = encoder_lstm2(encoder_output1)\n",
    "\n",
    "# 인코더의 LSTM 3\n",
    "encoder_lstm3 = LSTM(hidden_size, return_state=True, return_sequences=True, dropout=0.4)\n",
    "encoder_outputs, state_h, state_c = encoder_lstm3(encoder_output2)"
   ]
  },
  {
   "cell_type": "code",
   "execution_count": 38,
   "id": "2ee0377a",
   "metadata": {},
   "outputs": [],
   "source": [
    "# 디코더 설계\n",
    "decoder_inputs = Input(shape=(None,))\n",
    "\n",
    "# 디코더의 임베딩 층\n",
    "dec_emb_layer = Embedding(tar_vocab, embedding_dim)\n",
    "dec_emb = dec_emb_layer(decoder_inputs)\n",
    "\n",
    "# 디코더의 LSTM\n",
    "# decoder_lstm = LSTM(hidden_size, return_sequences=True, return_state=True, dropout=0.4, recurrent_dropout=0.2)\n",
    "decoder_lstm = LSTM(hidden_size, return_sequences=True, return_state=True, dropout=0.4)\n",
    "decoder_outputs, _, _ = decoder_lstm(dec_emb, initial_state=[state_h, state_c])"
   ]
  },
  {
   "cell_type": "code",
   "execution_count": 39,
   "id": "58f87b56",
   "metadata": {},
   "outputs": [
    {
     "name": "stdout",
     "output_type": "stream",
     "text": [
      "Model: \"model\"\n",
      "__________________________________________________________________________________________________\n",
      "Layer (type)                    Output Shape         Param #     Connected to                     \n",
      "==================================================================================================\n",
      "input_1 (InputLayer)            [(None, 50)]         0                                            \n",
      "__________________________________________________________________________________________________\n",
      "embedding (Embedding)           (None, 50, 128)      1024000     input_1[0][0]                    \n",
      "__________________________________________________________________________________________________\n",
      "lstm (LSTM)                     [(None, 50, 256), (N 394240      embedding[0][0]                  \n",
      "__________________________________________________________________________________________________\n",
      "input_2 (InputLayer)            [(None, None)]       0                                            \n",
      "__________________________________________________________________________________________________\n",
      "lstm_1 (LSTM)                   [(None, 50, 256), (N 525312      lstm[0][0]                       \n",
      "__________________________________________________________________________________________________\n",
      "embedding_1 (Embedding)         (None, None, 128)    256000      input_2[0][0]                    \n",
      "__________________________________________________________________________________________________\n",
      "lstm_2 (LSTM)                   [(None, 50, 256), (N 525312      lstm_1[0][0]                     \n",
      "__________________________________________________________________________________________________\n",
      "lstm_3 (LSTM)                   [(None, None, 256),  394240      embedding_1[0][0]                \n",
      "                                                                 lstm_2[0][1]                     \n",
      "                                                                 lstm_2[0][2]                     \n",
      "__________________________________________________________________________________________________\n",
      "dense (Dense)                   (None, None, 2000)   514000      lstm_3[0][0]                     \n",
      "==================================================================================================\n",
      "Total params: 3,633,104\n",
      "Trainable params: 3,633,104\n",
      "Non-trainable params: 0\n",
      "__________________________________________________________________________________________________\n"
     ]
    }
   ],
   "source": [
    "# 디코더의 출력층\n",
    "decoder_softmax_layer = Dense(tar_vocab, activation='softmax')\n",
    "decoder_softmax_outputs = decoder_softmax_layer(decoder_outputs) \n",
    "\n",
    "# 모델 정의\n",
    "model = Model([encoder_inputs, decoder_inputs], decoder_softmax_outputs)\n",
    "model.summary()"
   ]
  },
  {
   "cell_type": "markdown",
   "id": "246f9169",
   "metadata": {},
   "source": [
    "---\n",
    "\n",
    "## ⛓️Step 3. 어텐션 메커니즘 사용하기 (추상적 요약)  \n",
    "일반적인 seq2seq보다는 어텐션 메커니즘을 사용한 seq2seq를 사용하는 것이 더 나은 성능을 얻을 수 있다.   \n",
    "실습 내용을 참고하여 어텐션 메커니즘을 사용한 seq2seq를 설계해 보자."
   ]
  },
  {
   "cell_type": "code",
   "execution_count": 40,
   "id": "8503cb71",
   "metadata": {},
   "outputs": [
    {
     "name": "stdout",
     "output_type": "stream",
     "text": [
      "Model: \"model_1\"\n",
      "__________________________________________________________________________________________________\n",
      "Layer (type)                    Output Shape         Param #     Connected to                     \n",
      "==================================================================================================\n",
      "input_1 (InputLayer)            [(None, 50)]         0                                            \n",
      "__________________________________________________________________________________________________\n",
      "embedding (Embedding)           (None, 50, 128)      1024000     input_1[0][0]                    \n",
      "__________________________________________________________________________________________________\n",
      "lstm (LSTM)                     [(None, 50, 256), (N 394240      embedding[0][0]                  \n",
      "__________________________________________________________________________________________________\n",
      "input_2 (InputLayer)            [(None, None)]       0                                            \n",
      "__________________________________________________________________________________________________\n",
      "lstm_1 (LSTM)                   [(None, 50, 256), (N 525312      lstm[0][0]                       \n",
      "__________________________________________________________________________________________________\n",
      "embedding_1 (Embedding)         (None, None, 128)    256000      input_2[0][0]                    \n",
      "__________________________________________________________________________________________________\n",
      "lstm_2 (LSTM)                   [(None, 50, 256), (N 525312      lstm_1[0][0]                     \n",
      "__________________________________________________________________________________________________\n",
      "lstm_3 (LSTM)                   [(None, None, 256),  394240      embedding_1[0][0]                \n",
      "                                                                 lstm_2[0][1]                     \n",
      "                                                                 lstm_2[0][2]                     \n",
      "__________________________________________________________________________________________________\n",
      "attention_layer (AdditiveAttent (None, None, 256)    256         lstm_3[0][0]                     \n",
      "                                                                 lstm_2[0][0]                     \n",
      "__________________________________________________________________________________________________\n",
      "concat_layer (Concatenate)      (None, None, 512)    0           lstm_3[0][0]                     \n",
      "                                                                 attention_layer[0][0]            \n",
      "__________________________________________________________________________________________________\n",
      "dense_1 (Dense)                 (None, None, 2000)   1026000     concat_layer[0][0]               \n",
      "==================================================================================================\n",
      "Total params: 4,145,360\n",
      "Trainable params: 4,145,360\n",
      "Non-trainable params: 0\n",
      "__________________________________________________________________________________________________\n"
     ]
    }
   ],
   "source": [
    "# 어텐션 메커니즘\n",
    "from tensorflow.keras.layers import AdditiveAttention\n",
    "\n",
    "# 어텐션 층(어텐션 함수)\n",
    "attn_layer = AdditiveAttention(name='attention_layer')\n",
    "\n",
    "# 인코더와 디코더의 모든 time step의 hidden state를 어텐션 층에 전달하고 결과를 리턴\n",
    "attn_out = attn_layer([decoder_outputs, encoder_outputs])\n",
    "\n",
    "\n",
    "# 어텐션의 결과와 디코더의 hidden state들을 연결\n",
    "decoder_concat_input = Concatenate(axis=-1, name='concat_layer')([decoder_outputs, attn_out])\n",
    "\n",
    "# 디코더의 출력층\n",
    "decoder_softmax_layer = Dense(tar_vocab, activation='softmax')\n",
    "decoder_softmax_outputs = decoder_softmax_layer(decoder_concat_input)\n",
    "\n",
    "# 모델 정의\n",
    "model = Model([encoder_inputs, decoder_inputs], decoder_softmax_outputs)\n",
    "model.summary()"
   ]
  },
  {
   "cell_type": "code",
   "execution_count": 41,
   "id": "9538de94",
   "metadata": {},
   "outputs": [
    {
     "name": "stdout",
     "output_type": "stream",
     "text": [
      "Epoch 1/50\n",
      "308/308 [==============================] - 29s 71ms/step - loss: 5.2002 - val_loss: 4.8736\n",
      "Epoch 2/50\n",
      "308/308 [==============================] - 21s 67ms/step - loss: 4.7488 - val_loss: 4.5872\n",
      "Epoch 3/50\n",
      "308/308 [==============================] - 21s 68ms/step - loss: 4.4165 - val_loss: 4.2696\n",
      "Epoch 4/50\n",
      "308/308 [==============================] - 21s 68ms/step - loss: 4.1348 - val_loss: 4.0685\n",
      "Epoch 5/50\n",
      "308/308 [==============================] - 21s 69ms/step - loss: 3.9344 - val_loss: 3.9129\n",
      "Epoch 6/50\n",
      "308/308 [==============================] - 21s 70ms/step - loss: 3.7790 - val_loss: 3.8210\n",
      "Epoch 7/50\n",
      "308/308 [==============================] - 22s 70ms/step - loss: 3.6526 - val_loss: 3.7465\n",
      "Epoch 8/50\n",
      "308/308 [==============================] - 22s 70ms/step - loss: 3.5439 - val_loss: 3.6763\n",
      "Epoch 9/50\n",
      "308/308 [==============================] - 22s 70ms/step - loss: 3.4479 - val_loss: 3.6200\n",
      "Epoch 10/50\n",
      "308/308 [==============================] - 22s 70ms/step - loss: 3.3624 - val_loss: 3.5791\n",
      "Epoch 11/50\n",
      "308/308 [==============================] - 22s 70ms/step - loss: 3.2844 - val_loss: 3.5354\n",
      "Epoch 12/50\n",
      "308/308 [==============================] - 22s 70ms/step - loss: 3.2137 - val_loss: 3.5159\n",
      "Epoch 13/50\n",
      "308/308 [==============================] - 21s 70ms/step - loss: 3.1486 - val_loss: 3.4870\n",
      "Epoch 14/50\n",
      "308/308 [==============================] - 21s 69ms/step - loss: 3.0878 - val_loss: 3.4778\n",
      "Epoch 15/50\n",
      "308/308 [==============================] - 22s 70ms/step - loss: 3.0322 - val_loss: 3.4576\n",
      "Epoch 16/50\n",
      "308/308 [==============================] - 22s 70ms/step - loss: 2.9799 - val_loss: 3.4524\n",
      "Epoch 17/50\n",
      "308/308 [==============================] - 22s 70ms/step - loss: 2.9315 - val_loss: 3.4435\n",
      "Epoch 18/50\n",
      "308/308 [==============================] - 22s 70ms/step - loss: 2.8859 - val_loss: 3.4435\n",
      "Epoch 19/50\n",
      "308/308 [==============================] - 22s 70ms/step - loss: 2.8438 - val_loss: 3.4388\n",
      "Epoch 20/50\n",
      "308/308 [==============================] - 22s 70ms/step - loss: 2.8039 - val_loss: 3.4335\n",
      "Epoch 21/50\n",
      "308/308 [==============================] - 22s 70ms/step - loss: 2.7653 - val_loss: 3.4369\n",
      "Epoch 22/50\n",
      "308/308 [==============================] - 22s 70ms/step - loss: 2.7275 - val_loss: 3.4376\n",
      "Epoch 00022: early stopping\n"
     ]
    }
   ],
   "source": [
    "# 모델 훈련하기\n",
    "model.compile(optimizer='rmsprop', loss='sparse_categorical_crossentropy')\n",
    "es = EarlyStopping(monitor='val_loss', patience=2, verbose=1)\n",
    "history = model.fit(x=[encoder_input_train, decoder_input_train], y=decoder_target_train, \\\n",
    "          validation_data=([encoder_input_test, decoder_input_test], decoder_target_test), \\\n",
    "          batch_size=256, callbacks=[es], epochs=50)"
   ]
  },
  {
   "cell_type": "code",
   "execution_count": 42,
   "id": "65f64395",
   "metadata": {},
   "outputs": [
    {
     "data": {
      "image/png": "[encoded data removed]",
      "text/plain": [
       "<Figure size 432x288 with 1 Axes>"
      ]
     },
     "metadata": {
      "needs_background": "light"
     },
     "output_type": "display_data"
    }
   ],
   "source": [
    "# 훈련 데이터의 손실과 검증 데이터의 손실이 줄어드는 과정을 시각화\n",
    "plt.plot(history.history['loss'], label='train')\n",
    "plt.plot(history.history['val_loss'], label='test')\n",
    "plt.legend()\n",
    "plt.show()"
   ]
  },
  {
   "cell_type": "code",
   "execution_count": 43,
   "id": "0be82859",
   "metadata": {},
   "outputs": [],
   "source": [
    "# 인퍼런스 모델 구현하기\n",
    "# 필요한 3개의 사전 준비하기\n",
    "src_index_to_word = src_tokenizer.index_word # 원문 단어 집합에서 정수 -> 단어를 얻음\n",
    "tar_word_to_index = tar_tokenizer.word_index # 요약 단어 집합에서 단어 -> 정수를 얻음\n",
    "tar_index_to_word = tar_tokenizer.index_word # 요약 단어 집합에서 정수 -> 단어를 얻음\n"
   ]
  },
  {
   "cell_type": "code",
   "execution_count": 44,
   "id": "fc38aba5",
   "metadata": {},
   "outputs": [],
   "source": [
    "# 인코더 설계\n",
    "encoder_model = Model(inputs=encoder_inputs, outputs=[encoder_outputs, state_h, state_c])\n",
    "\n",
    "# 이전 시점의 상태들을 저장하는 텐서\n",
    "decoder_state_input_h = Input(shape=(hidden_size,))\n",
    "decoder_state_input_c = Input(shape=(hidden_size,))\n",
    "\n",
    "dec_emb2 = dec_emb_layer(decoder_inputs)\n",
    "\n",
    "# 문장의 다음 단어를 예측하기 위해서 초기 상태(initial_state)를 이전 시점의 상태로 사용. 이는 뒤의 함수 decode_sequence()에 구현\n",
    "# 훈련 과정에서와 달리 LSTM의 리턴하는 은닉 상태와 셀 상태인 state_h와 state_c를 버리지 않음.\n",
    "decoder_outputs2, state_h2, state_c2 = decoder_lstm(dec_emb2, initial_state=[decoder_state_input_h, decoder_state_input_c])"
   ]
  },
  {
   "cell_type": "code",
   "execution_count": 45,
   "id": "a69a54ab",
   "metadata": {},
   "outputs": [],
   "source": [
    "# 어텐션 함수\n",
    "decoder_hidden_state_input = Input(shape=(text_max_len, hidden_size))\n",
    "attn_out_inf = attn_layer([decoder_outputs2, decoder_hidden_state_input])\n",
    "decoder_inf_concat = Concatenate(axis=-1, name='concat')([decoder_outputs2, attn_out_inf])\n",
    "\n",
    "# 디코더의 출력층\n",
    "decoder_outputs2 = decoder_softmax_layer(decoder_inf_concat) \n",
    "\n",
    "# 최종 디코더 모델\n",
    "decoder_model = Model(\n",
    "    [decoder_inputs] + [decoder_hidden_state_input,decoder_state_input_h, decoder_state_input_c],\n",
    "    [decoder_outputs2] + [state_h2, state_c2])\n"
   ]
  },
  {
   "cell_type": "code",
   "execution_count": 46,
   "id": "6d69b1e4",
   "metadata": {},
   "outputs": [],
   "source": [
    "def decode_sequence(input_seq):\n",
    "    # 입력으로부터 인코더의 상태를 얻음\n",
    "    e_out, e_h, e_c = encoder_model.predict(input_seq)\n",
    "\n",
    "     # <SOS>에 해당하는 토큰 생성\n",
    "    target_seq = np.zeros((1,1))\n",
    "    target_seq[0, 0] = tar_word_to_index['sostoken']\n",
    "\n",
    "    stop_condition = False\n",
    "    decoded_sentence = ''\n",
    "    while not stop_condition: # stop_condition이 True가 될 때까지 루프 반복\n",
    "\n",
    "        output_tokens, h, c = decoder_model.predict([target_seq] + [e_out, e_h, e_c])\n",
    "        sampled_token_index = np.argmax(output_tokens[0, -1, :])\n",
    "        sampled_token = tar_index_to_word[sampled_token_index]\n",
    "\n",
    "        if (sampled_token!='eostoken'):\n",
    "            decoded_sentence += ' '+sampled_token\n",
    "\n",
    "        #  <eos>에 도달하거나 최대 길이를 넘으면 중단.\n",
    "        if (sampled_token == 'eostoken'  or len(decoded_sentence.split()) >= (headlines_max_len-1)):\n",
    "            stop_condition = True\n",
    "\n",
    "        # 길이가 1인 타겟 시퀀스를 업데이트\n",
    "        target_seq = np.zeros((1,1))\n",
    "        target_seq[0, 0] = sampled_token_index\n",
    "\n",
    "        # 상태를 업데이트 합니다.\n",
    "        e_h, e_c = h, c\n",
    "\n",
    "    return decoded_sentence"
   ]
  },
  {
   "cell_type": "markdown",
   "id": "3a876053",
   "metadata": {},
   "source": [
    "---\n",
    "\n",
    "##  ⛓️Step 4. 실제 결과와 요약문 비교하기 (추상적 요약)  \n",
    "원래의 요약문(headlines 열)과 학습을 통해 얻은 추상적 요약의 결과를 비교해 보자."
   ]
  },
  {
   "cell_type": "code",
   "execution_count": 47,
   "id": "4b71f331",
   "metadata": {},
   "outputs": [],
   "source": [
    "# 모델테스트하기\n",
    "# 원문의 정수 시퀀스를 텍스트 시퀀스로 변환\n",
    "def seq2text(input_seq):\n",
    "    temp=''\n",
    "    for i in input_seq:\n",
    "        if (i!=0):\n",
    "            temp = temp + src_index_to_word[i]+' '\n",
    "    return temp\n",
    "\n",
    "# 요약문의 정수 시퀀스를 텍스트 시퀀스로 변환\n",
    "def seq2headlines(input_seq):\n",
    "    temp=''\n",
    "    for i in input_seq:\n",
    "        if ((i!=0 and i!=tar_word_to_index['sostoken']) and i!=tar_word_to_index['eostoken']):\n",
    "            temp = temp + tar_index_to_word[i] + ' '\n",
    "    return temp"
   ]
  },
  {
   "cell_type": "code",
   "execution_count": 48,
   "id": "68100fb4",
   "metadata": {},
   "outputs": [
    {
     "name": "stdout",
     "output_type": "stream",
     "text": [
      "원문 : president has banned black cars in the capital city of those already black cars will be required to get it painted white or silver the leader reportedly believes white things bring good luck and had previously ordered his staff to only purchase white cars \n",
      "실제 요약 : bans black cars as prez white \n",
      "예측 요약 :  bans cars from cars\n",
      "\n",
      "\n",
      "원문 : a japanese probe successfully landed a new observation robot 10 days after two were deployed on the same asteroid 300 million km away from the earth the 10 kilogram box shaped has many sensors it can take images at multiple investigate with a surface temperatures and measure magnetic fields \n",
      "실제 요약 : robot after 2 on same in 10 days \n",
      "예측 요약 :  world's largest discovered\n",
      "\n",
      "\n",
      "원문 : supremo mayawati said congress leaders like digvijaya singh don't wish for a congress bsp alliance they're afraid of agencies like ed cbi also announced under no circumstances would her party come into alliance with congress for the upcoming madhya pradesh and rajasthan assembly elections stating that the party is getting \n",
      "실제 요약 : cong mp singh a bjp of ed cbi \n",
      "예측 요약 :  congress should be given congress mp\n",
      "\n",
      "\n",
      "원문 : rate at which banks from rbi at 6 during its fourth monthly monetary policy review on wednesday the status comes after retail inflation hit a 5 month high of 3 36 in august in the last review policy in august rbi reduced the rate by 25 basis points to 6 \n",
      "실제 요약 : rbi rate at 6 \n",
      "예측 요약 :  rbi to become of second\n",
      "\n",
      "\n",
      "원문 : the mother to twin boys through said not everybody who for is doing that to save their figure people have genuine problems she added that giving up was not an option for her and she still wants to experience getting pregnant herself her twins and turned one on june 3 \n",
      "실제 요약 : doesn't for to save \n",
      "예측 요약 :  i don't want to protect people\n",
      "\n",
      "\n",
      "원문 : date an actor as there's just too much going on in an actor's life it's you have to be someone who can take a lot i don't want that stress in my life she added jacqueline further said as for me i'm independent so i need someone who can that \n",
      "실제 요약 : i be to date an actor \n",
      "예측 요약 :  i am a on\n",
      "\n",
      "\n",
      "원문 : swaraj has said the survivor who claimed to have seen 39 indians being by isis in iraq was lying claimed that he escaped by to be dead after militants shot other indian workers however swaraj said that he escaped with a group of bangladeshi men by changing his name to \n",
      "실제 요약 : about indians get killed govt \n",
      "예측 요약 :  indian is missing in afghanistan\n",
      "\n",
      "\n",
      "원문 : the final of the french open women's singles event in 2012 has been banned for two months after failing a doping test the 30 year old who tested positive for the cancer treatment drug claimed that she must have accidentally drugs being used by her mother to treat breast cancer \n",
      "실제 요약 : former french open banned for 2 months over \n",
      "예측 요약 :  banned after being banned from\n",
      "\n",
      "\n",
      "원문 : sculpture designed by west bengal cm mamata banerjee installed outside the salt lake stadium for the fifa under 17 world cup a user tweeted even on his another tweet read my eyes looks like a defender mistakenly headed a ball it his head down his shorts didi stick to politics \n",
      "실제 요약 : mamata for u 17 wc gets trolled online \n",
      "예측 요약 :  tweets user on stadium\n",
      "\n",
      "\n",
      "원문 : bjp president amit shah's public meeting venue in uttar pradesh's on saturday the fire caused by an electrical short circuit was controlled quickly when something good is about to happen some do come the fire is a sign that something big is about to take place in amit shah said \n",
      "실제 요약 : fire breaks out at amit meeting in up \n",
      "예측 요약 :  amit shah breaks out at airport\n",
      "\n",
      "\n",
      "원문 : to use electric vehicles made by mahindra and mahindra and tata motors citing low and poor performance the battery capacity was reportedly not up to global standards failing to return even 80 82 km on a single charge energy services a public sector unit under the power ministry the vehicles \n",
      "실제 요약 : govt officials to use by mahindra tata \n",
      "예측 요약 :  no cars to electric cars mahindra\n",
      "\n",
      "\n",
      "원문 : not recover the central core of the falcon heavy rocket which was supposed to land on a drone ship after the launch on tuesday musk said the core ran out of which kept it from being able to slow down for landing however the two side were recovered as planned \n",
      "실제 요약 : spacex lost 1 of 3 of heavy rocket \n",
      "예측 요약 :  spacex rocket to launch drone\n",
      "\n",
      "\n",
      "원문 : singer b has won a court order that bans her estranged husband stephen from sex and other material in a potential revenge porn attack had reportedly threatened to release material on numerous occasions the singer filed for divorce last month after accusing him of domestic violence and sexual \n",
      "실제 요약 : court order that bans ex from selling sex \n",
      "예측 요약 :  sex sex with sex\n",
      "\n",
      "\n",
      "원문 : firm snap has announced that its global head of sales jeff has quit the company this comes weeks after vice president of product tom announced that he will leave the company in march had joined snap earlier in 2016 after serving media company as its head of sales and marketing \n",
      "실제 요약 : after vp of head of sales quits \n",
      "예측 요약 :  facebook co founder quits as\n",
      "\n",
      "\n",
      "원문 : held that the central bureau of investigation cannot claim absolute from information on allegations of corruption and human rights violations under the rti act the cbi had been reportedly denying information citing a provision security organisations however the provision does not apply to information on corruption and human rights violations \n",
      "실제 요약 : to cbi from rti act delhi high court \n",
      "예측 요약 :  of in case\n",
      "\n",
      "\n",
      "원문 : a single aadhaar number in maharashtra while the authorities were attempting their online registration for the implementation of the state government's loan waiver we always thought that the aadhaar number will be our key to check fake beneficiaries now we donã¢âât know how to address this challenge an official said \n",
      "실제 요약 : farmers linked to single aadhaar number in maharashtra \n",
      "예측 요약 :  aadhaar at in maharashtra\n",
      "\n",
      "\n",
      "원문 : monthly average earnings of ã¢ââ¹10 000 or less according to a report released by university the report stated that people earning ã¢ââ¹50 000 or more just 1 6 of the indian workforce it also said that a 10 increase in gdp results in less than 1 increase in employment currently \n",
      "실제 요약 : earn less than ã¢ââ¹10 000 a month report \n",
      "예측 요약 :  reliance jio lakh in\n",
      "\n",
      "\n",
      "원문 : missile test fired by north korea earlier in the day the show of force involved four fighter jets dropping multi purpose bombs on a shooting range near the inter korean border reports said notably south korea the us and japan have jointly requested a emergency meeting over north korean threats \n",
      "실제 요약 : responds to n korean missile test with bomb \n",
      "예측 요약 :  north korea missile test\n",
      "\n",
      "\n",
      "원문 : in assam has reportedly been suspended by the party for organising a prayer meeting against the killings of rohingya refugees in myanmar without discussing it within the party bjp further alleged that she had used the party's social media forum for seeking support for a programme organised by another organisation \n",
      "실제 요약 : assam bjp leader suspended for rohingya \n",
      "예측 요약 :  suspended for 2 months over\n",
      "\n",
      "\n",
      "원문 : can't believe his luck after the taxi driver of a taxi in which he forgot ã¢ââ¹7 lakh returned the money back to him had taken the taxi to a bangkok airport but cancelled his flight on he lost his cash the driver with the police and returned the money to \n",
      "실제 요약 : can't my on driver left in \n",
      "예측 요약 :  man arrested for stealing\n",
      "\n",
      "\n",
      "원문 : to 1 5 billion ã¢ââ¹10 000 crore by listing 25 stake in its africa unit in london or south africa by early 2019 the proceeds will be used to cut some debt reports said notably profit from africa business touched an all time high of crore in the march quarter \n",
      "실제 요약 : plans to raise 1 by africa unit reports \n",
      "예측 요약 :  to buy india's largest firm\n",
      "\n",
      "\n",
      "원문 : the supreme court on tuesday ordered the demolition of illegal at hotels and in himachal pradesh's adding that the were people's lives for money it was hearing a plea filed by a group of hotel owners challenging the national green order to that were extended without government approval \n",
      "실제 요약 : you are lives for money sc to \n",
      "예측 요약 :  sc orders of in\n",
      "\n",
      "\n",
      "원문 : kapoor while speaking about in relationships on the chat show said someone very famous once cheated on him shahid also admitted to having fallen in love with two of his co stars it has been that kareena kapoor who was earlier dating shahid cheated on him with saif ali khan \n",
      "실제 요약 : very once on me shahid kapoor \n",
      "예측 요약 :  i am the of the shahid kapoor\n",
      "\n",
      "\n",
      "원문 : on her head west bengal cm mamata banerjee responded by saying that she was regularly targeted with such offensive words t he more they say such things the more we will progress she added earlier a kolkata based made a counter offer of ã¢ââ¹22 lakh on the bjp youth head \n",
      "실제 요약 : with mamata on \n",
      "예측 요약 :  mamata calls mamata over\n",
      "\n",
      "\n",
      "원문 : has sued general motors over alleged racial harassment at a us plant after finding hanging and only bathroom signs the lawsuit filed last year the workers were called racial and told to go back to africa the workers were told to handle the matter themselves after they reported it to \n",
      "실제 요약 : black workers general harassment \n",
      "예측 요약 :  sued for using of\n",
      "\n",
      "\n",
      "원문 : a study by the centre for advanced facial and plastic surgery one direction singer harry has the world's most eyes and the study uses the golden ratio to assess of faces of celebrities and rank them in order of meanwhile actor ryan won in the world's most nose category n \n",
      "실제 요약 : harry has world's most study \n",
      "예측 요약 :  scientists find of\n",
      "\n",
      "\n",
      "원문 : leading in the rajkot west constituency by 7 600 votes after the election commission started counting votes on monday congress candidate who is contesting against rupani had won the rajkot east seat in the 2012 elections prime minister narendra modi contested his first ever elections from rajkot west in 2002 \n",
      "실제 요약 : cm vijay by 7 600 votes in west \n",
      "예측 요약 :  ec declares in gujarat\n",
      "\n",
      "\n",
      "원문 : an advertisement for a meet in bengaluru titled 'the grand national young has gone viral after it listed beautiful girls under the category of the ad published in the bengaluru edition described the for the meet to be those from ultra rich families youngsters from or civil services \n",
      "실제 요약 : ad calling girls goes viral \n",
      "예측 요약 :  slammed for ad on\n",
      "\n",
      "\n",
      "원문 : speaking on husband irrfan khan's health said my best friend and my partner is a and he is fighting every with tremendous grace and beauty i'm truly and for the wishes prayers and concern from all over the world irrfan had earlier revealed that he has contracted a rare disease \n",
      "실제 요약 : a on husband irrfan khan's \n",
      "예측 요약 :  my is a actor\n",
      "\n",
      "\n",
      "원문 : dry cleaning to a cleaning process for clothes that uses a chemical other than water after clothes are loaded into a device a machine it is filled with a chemical in the machine the are removed and the is separated from the after removal of a machine all the \n",
      "실제 요약 : what is the of \n",
      "예측 요약 :  can help to help\n",
      "\n",
      "\n",
      "원문 : from calling him a legend or a veteran actor while adding that he feels and wants to do more work he further said there's just so much work to do these days i've been getting a lot of good work as i get older and i don't want to stop \n",
      "실제 요약 : to be called want to do more work \n",
      "예측 요약 :  i am to be a\n",
      "\n",
      "\n",
      "원문 : general electric ceo in his farewell letter to employees asked them to be willing to experiment and fail because winning requires doing and not talking he advised executives to be more of needs as they determine their success he further said that success in the market must be like oxygen \n",
      "실제 요약 : more and talk less ex ceo in letter \n",
      "예측 요약 :  i am not to ceo\n",
      "\n",
      "\n",
      "원문 : of sexual harassment in november had allegedly told another female ex employee she needs sex every day and can't live without it reportedly also asked her how long she had gone without sex after her husband another ex employee hamid alleged she tried to kiss him at a birthday party \n",
      "실제 요약 : sex every day female manager told ex employee \n",
      "예측 요약 :  sexual harassment by\n",
      "\n",
      "\n",
      "원문 : summoned us ambassador david to register protest following us president donald trump's tweet slamming it over its against terrorism trump had said that the us handed pakistan 33 billion worth aid pakistan foreign minister khawaja m asif had dismissed trump's remarks saying borne out of over the us' in afghanistan \n",
      "실제 요약 : us envoy after trump slams pakistan \n",
      "예측 요약 :  trump us for trump's\n",
      "\n",
      "\n",
      "원문 : 30 lakh in a couple of hours by selling ice cream and fruit juice on friday this comes after the cm asked party leaders and workers to work as a labourer for two days to raise money to hold a meeting to mark the 16th anniversary of trs foundation day \n",
      "실제 요약 : cm's son ã¢ââ¹7 3 lakh by selling ice \n",
      "예측 요약 :  couple in pictures of hole\n",
      "\n",
      "\n",
      "원문 : warner on monday became the batsman with the most number of in ipl after he smashed his against kings xi punjab playing in his match warner overtook kolkata knight riders captain gautam record of 33 mumbai indians' rohit sharma and gujarat suresh raina have scored third most with 29 each \n",
      "실제 요약 : warner sets record for most in ipl \n",
      "예측 요약 :  becomes most expensive bowler in ipl\n",
      "\n",
      "\n",
      "원문 : kerala congress president rahul gandhi has urged people to help by to the chief minister's relief fund stating that kerala is in great pain he tweeted thousands are stranded many have lost their loved ones it's time to step up help over 80 deaths have been reported in the state \n",
      "실제 요약 : up help rahul to people amid kerala floods \n",
      "예측 요약 :  kerala cm slams kerala for kerala floods\n",
      "\n",
      "\n",
      "원문 : a hit and run case by a court on friday the convict had rammed his bmw car into a motorcycle in south delhi's area in 2008 killing one person he has been convicted of causing death by negligence which a maximum punishment of two years or a fine or both \n",
      "실제 요약 : son convicted in hit and run case \n",
      "예측 요약 :  car shot in car in car\n",
      "\n",
      "\n",
      "원문 : officer reportedly wore while travelling on an international flight ai chief directed staff to dress properly and maintain proper while travelling with the carrier employees were asked to behave since they represent ai after a further inspection revealed that most of them wore and even when flying for official work \n",
      "실제 요약 : air india staff told to dress on flights \n",
      "예측 요약 :  air india flight to\n",
      "\n",
      "\n",
      "원문 : a of the puri express derailed near station in west bengal on tuesday morning a south eastern railway spokesman said an accident relief train and senior officers rushed to the spot although no one was injured in the accident the train will resume its journey after the affected coach is \n",
      "실제 요약 : express no reported \n",
      "예측 요약 :  train in up train accident\n",
      "\n",
      "\n",
      "원문 : england's who had proposed to virat kohli on twitter posted a video of herself enjoying a punjabi song alongside india's harmanpreet kaur and her teammates for today's one off women's t20 exhibition match the match between the ipl and ipl is featuring 26 players including 10 foreign cricketers \n",
      "실제 요약 : player who to kohli song with h \n",
      "예측 요약 :  kohli shares video of kohli's\n",
      "\n",
      "\n",
      "원문 : to reach 19 000 international runs achieving the feat in his innings during the fourth test against australia on thursday kohli surpassed former india batsman sachin tendulkar who had reached the feat in innings kohli had become the fastest to reach 18 000 international runs innings in september last year \n",
      "실제 요약 : fastest to 19 000 international runs breaks record \n",
      "예측 요약 :  kohli fastest to reach odi ton\n",
      "\n",
      "\n",
      "원문 : us based researchers have developed a that solar energy to generate hydrogen from were onto the surface of an film of a the material energy from visible to near light making it at least twice as efficient as current said researchers \n",
      "실제 요약 : fuel from using solar power \n",
      "예측 요약 :  scientists new of\n",
      "\n",
      "\n",
      "원문 : ms dhoni said lot of people talk about numbers so is my jersey number is seven and this is seventh final enough reasons to win but none of these reasons matter what matters is that we've won in the end he added notably dhoni considers seven as his lucky number \n",
      "실제 요약 : date no 7 final dhoni after win \n",
      "예측 요약 :  dhoni is a lot of virat kohli\n",
      "\n",
      "\n",
      "원문 : authorities in have been forced to close the 15th century after tourists climbing the 1 steps were attacked by a mother bear and her three an official said the four would be captured and moved elsewhere was used by prince the who inspired the novel \n",
      "실제 요약 : shut due to attacks by mother \n",
      "예측 요약 :  navy tourists from\n",
      "\n",
      "\n",
      "원문 : supreme court on thursday ordered a fresh round of bidding for jaypee and allowed rbi to initiate insolvency proceedings against parent firm associates it ordered of committee of to include homebuyers according to in bankruptcy law the court also barred associates and its promoters from participating in the bidding process \n",
      "실제 요약 : sc orders of for \n",
      "예측 요약 :  sc to plea against in\n",
      "\n",
      "\n",
      "원문 : the uk's findings that source of the nerve agent used to poison ex spy sergei and his daughter originally came from russia the organisation for the of chemical weapons did not name the chemical but confirmed its identity the uk had blamed russia of the nerve agent used to poison \n",
      "실제 요약 : russia made used on ex spy \n",
      "예측 요약 :  uk spy uk ex spy uk spy\n",
      "\n",
      "\n",
      "원문 : european space agency astronaut and current iss resident alexander has discovered old nasa on the space station i found a on the space station that probably hasn't been opened for a while tweeted while one of the is as containing for windows 95 98 some have nasa on the \n",
      "실제 요약 : astronaut finds old nasa on space station \n",
      "예측 요약 :  nasa probe of space\n",
      "\n",
      "\n",
      "원문 : my father runs a restaurant business in delhi so if i had chosen to sell it would be easier for me she added also have to work hard for success in bollywood huma however pointed out that it's easier for them to get opportunities and even the projects are bigger \n",
      "실제 요약 : be if i to sell on \n",
      "예측 요약 :  i was bought for my son\n",
      "\n",
      "\n",
      "원문 : odi score by an english player after slamming 180 as england defeated australia by 5 wickets in the first odi on sunday roy overtook alex who had slammed against pakistan in 2016 to record the then highest individual score by an england player knock included 16 fours and 5 sixes \n",
      "실제 요약 : record as england defeat australia in 1st odi \n",
      "예측 요약 :  kohli slams odi for odis\n",
      "\n",
      "\n"
     ]
    }
   ],
   "source": [
    "for i in range(50, 100):\n",
    "    print(\"원문 :\", seq2text(encoder_input_test[i]))\n",
    "    print(\"실제 요약 :\", seq2headlines(decoder_input_test[i]))\n",
    "    print(\"예측 요약 :\", decode_sequence(encoder_input_test[i].reshape(1, text_max_len)))\n",
    "    print(\"\\n\")"
   ]
  },
  {
   "cell_type": "markdown",
   "id": "da288251",
   "metadata": {},
   "source": [
    "---\n",
    "\n",
    "##  ⛓️Step 5. Summa을 이용해서 추출적 요약해보기 \n",
    "추상적 요약은 추출적 요약과는 달리 문장의 표현력을 다양하게 가져갈 수 있지만, 추출적 요약에 비해서 난이도가 높다. 반대로 말하면 추출적 요약은 추상적 요약에 비해 난이도가 낮고 기존 문장에서 문장을 꺼내오는 것이므로 잘못된 요약이 나올 가능성이 낮다.  \n",
    "\n",
    "<br>  \n",
    "\n",
    "Summa의 summarize를 사용하여 추출적 요약을 해보자."
   ]
  },
  {
   "cell_type": "code",
   "execution_count": 87,
   "id": "3711c6f4",
   "metadata": {},
   "outputs": [],
   "source": [
    "import requests\n",
    "from summa.summarizer import summarize"
   ]
  },
  {
   "cell_type": "code",
   "execution_count": 92,
   "id": "f74c6f1e",
   "metadata": {},
   "outputs": [],
   "source": [
    "# data2 = pd.read_csv('news_summary_more.csv', encoding='iso-8859-1')\n",
    "# for idx, text in enumerate(data2['text'][:3]):\n",
    "#     print(f'<Original_{idx+1}:> \\n{text}')\n",
    "#     print(f'[Summary:] \\n{summarize(text, words=20)}\\n')"
   ]
  },
  {
   "cell_type": "code",
   "execution_count": 93,
   "id": "168ea563",
   "metadata": {},
   "outputs": [
    {
     "name": "stdout",
     "output_type": "stream",
     "text": [
      "<Original_1:> \n",
      "Saurav Kant, an alumnus of upGrad and IIIT-B's PG Program in Machine learning and Artificial Intelligence, was a Sr Systems Engineer at Infosys with almost 5 years of work experience. The program and upGrad's 360-degree career support helped him transition to a Data Scientist at Tech Mahindra with 90% salary hike. upGrad's Online Power Learning has powered 3 lakh+ careers.\n",
      "[Summary:] \n",
      "The program and upGrad's 360-degree career support helped him transition to a Data Scientist at Tech Mahindra with 90% salary hike.\n",
      "upGrad's Online Power Learning has powered 3 lakh+ careers.\n",
      "\n",
      "<Original_2:> \n",
      "Kunal Shah's credit card bill payment platform, CRED, gave users a chance to win free food from Swiggy for one year. Pranav Kaushik, a Delhi techie, bagged this reward after spending 2000 CRED coins. Users get one CRED coin per rupee of bill paid, which can be used to avail rewards from brands like Ixigo, BookMyShow, UberEats, Cult.Fit and more.\n",
      "[Summary:] \n",
      "Users get one CRED coin per rupee of bill paid, which can be used to avail rewards from brands like Ixigo, BookMyShow, UberEats, Cult.Fit and more.\n",
      "\n",
      "<Original_3:> \n",
      "New Zealand defeated India by 8 wickets in the fourth ODI at Hamilton on Thursday to win their first match of the five-match ODI series. India lost an international match under Rohit Sharma's captaincy after 12 consecutive victories dating back to March 2018. The match witnessed India getting all out for 92, their seventh lowest total in ODI cricket history.\n",
      "[Summary:] \n",
      "The match witnessed India getting all out for 92, their seventh lowest total in ODI cricket history.\n",
      "\n"
     ]
    }
   ],
   "source": [
    "# 데이터 불러오기\n",
    "data3 = pd.read_csv('news_summary_more.csv', encoding='iso-8859-1')\n",
    "\n",
    "# 일부 데이터만 사용\n",
    "for idx, (head, text) in enumerate(zip(data3['headlines'][:3], data3['text'][:3])):\n",
    "    print(f'<Original_{idx+1}:> \\n{text}')\n",
    "    print(f'[Summary:] \\n{summarize(text, words=20)}\\n')\n"
   ]
  },
  {
   "cell_type": "code",
   "execution_count": 94,
   "id": "374ab453",
   "metadata": {},
   "outputs": [],
   "source": [
    "def recall_summarize(summarize, sentence, words):\n",
    "    return_sentence = summarize(sentence, words=words)\n",
    "    if len(return_sentence) == 0:\n",
    "        words += 1\n",
    "        return recall_summarize(summarize, sentence, words)\n",
    "    else:\n",
    "        return return_sentence"
   ]
  },
  {
   "cell_type": "code",
   "execution_count": 95,
   "id": "424bf104",
   "metadata": {},
   "outputs": [
    {
     "name": "stdout",
     "output_type": "stream",
     "text": [
      "원문 : Saurav Kant, an alumnus of upGrad and IIIT-B's PG Program in Machine learning and Artificial Intelligence, was a Sr Systems Engineer at Infosys with almost 5 years of work experience. The program and upGrad's 360-degree career support helped him transition to a Data Scientist at Tech Mahindra with 90% salary hike. upGrad's Online Power Learning has powered 3 lakh+ careers.\n",
      "실제 요약 : upGrad learner switches to career in ML & Al with 90% salary hike\n",
      "추출적 요약 : upGrad's Online Power Learning has powered 3 lakh+ careers.\n",
      "\n",
      "\n",
      "원문 : Kunal Shah's credit card bill payment platform, CRED, gave users a chance to win free food from Swiggy for one year. Pranav Kaushik, a Delhi techie, bagged this reward after spending 2000 CRED coins. Users get one CRED coin per rupee of bill paid, which can be used to avail rewards from brands like Ixigo, BookMyShow, UberEats, Cult.Fit and more.\n",
      "실제 요약 : Delhi techie wins free food from Swiggy for one year on CRED\n",
      "추출적 요약 : Users get one CRED coin per rupee of bill paid, which can be used to avail rewards from brands like Ixigo, BookMyShow, UberEats, Cult.Fit and more.\n",
      "\n",
      "\n",
      "원문 : New Zealand defeated India by 8 wickets in the fourth ODI at Hamilton on Thursday to win their first match of the five-match ODI series. India lost an international match under Rohit Sharma's captaincy after 12 consecutive victories dating back to March 2018. The match witnessed India getting all out for 92, their seventh lowest total in ODI cricket history.\n",
      "실제 요약 : New Zealand end Rohit Sharma-led India's 12-match winning streak\n",
      "추출적 요약 : The match witnessed India getting all out for 92, their seventh lowest total in ODI cricket history.\n",
      "\n",
      "\n",
      "원문 : With Aegon Life iTerm Insurance plan, customers can enjoy tax benefits on your premiums paid and save up to Ã¢ÂÂ¹46,800^ on taxes. The plan provides life cover up to the age of 100 years. Also, customers have options to insure against Critical Illnesses, Disability and Accidental Death Benefit Rider with a life cover up to the age of 80 years.\n",
      "실제 요약 : Aegon life iTerm insurance plan helps customers save tax\n",
      "추출적 요약 : Also, customers have options to insure against Critical Illnesses, Disability and Accidental Death Benefit Rider with a life cover up to the age of 80 years.\n",
      "\n",
      "\n",
      "원문 : Speaking about the sexual harassment allegations against Rajkumar Hirani, Sonam Kapoor said, \"I've known Hirani for many years...What if it's not true, the [#MeToo] movement will get derailed.\" \"In the #MeToo movement, I always believe a woman. But in this case, we need to reserve our judgment,\" she added. Hirani has been accused by an assistant who worked in 'Sanju'.\n",
      "실제 요약 : Have known Hirani for yrs, what if MeToo claims are not true: Sonam\n",
      "추출적 요약 : Speaking about the sexual harassment allegations against Rajkumar Hirani, Sonam Kapoor said, \"I've known Hirani for many years...What if it's not true, the [#MeToo] movement will get derailed.\" \"In the #MeToo movement, I always believe a woman.\n",
      "\n",
      "\n",
      "원문 : Pakistani singer Rahat Fateh Ali Khan has denied receiving any notice from the Enforcement Directorate over allegedly smuggling foreign currency out of India. \"It would have been better if the authorities would have served the notice first if any and then publicised this,\" reads a press release issued on behalf of Rahat. The statement further called the allegation \"bizarre\".\n",
      "실제 요약 : Rahat Fateh Ali Khan denies getting notice for smuggling currency\n",
      "추출적 요약 : Pakistani singer Rahat Fateh Ali Khan has denied receiving any notice from the Enforcement Directorate over allegedly smuggling foreign currency out of India.\n",
      "\n",
      "\n",
      "원문 : India recorded their lowest ODI total in New Zealand after getting all out for 92 runs in 30.5 overs in the fourth ODI at Hamilton on Thursday. Seven of India's batsmen were dismissed for single-digit scores, while their number ten batsman Yuzvendra Chahal top-scored with 18*(37). India's previous lowest ODI total in New Zealand was 108.\n",
      "실제 요약 : India get all out for 92, their lowest ODI total in New Zealand\n",
      "추출적 요약 : India's previous lowest ODI total in New Zealand was 108.\n",
      "\n",
      "\n",
      "원문 : Weeks after ex-CBI Director Alok Verma told the Department of Personnel and Training to consider him retired, the Home Ministry asked him to join work on the last day of his fixed tenure as Director on Thursday. The ministry directed him to immediately join as DG, Fire Services, the post he was transferred to after his removal as CBI chief.\n",
      "실제 요약 : Govt directs Alok Verma to join work 1 day before his retirement\n",
      "추출적 요약 : Weeks after ex-CBI Director Alok Verma told the Department of Personnel and Training to consider him retired, the Home Ministry asked him to join work on the last day of his fixed tenure as Director on Thursday.\n",
      "\n",
      "\n",
      "원문 : Andhra Pradesh CM N Chandrababu Naidu has said, \"When I met then US President Bill Clinton, I addressed him as Mr Clinton, not as 'sir'. (PM Narendra) Modi is my junior in politics...I addressed him as sir 10 times.\" \"I did this...to satisfy his ego in the hope that he will do justice to the state,\" he added.\n",
      "실제 요약 : Called PM Modi 'sir' 10 times to satisfy his ego: Andhra CM\n",
      "추출적 요약 : Andhra Pradesh CM N Chandrababu Naidu has said, \"When I met then US President Bill Clinton, I addressed him as Mr Clinton, not as 'sir'.\n",
      "\n",
      "\n",
      "원문 : Congress candidate Shafia Zubair won the Ramgarh Assembly seat in Rajasthan, by defeating BJP's Sukhwant Singh with a margin of 12,228 votes in the bypoll. With this victory, Congress has taken its total to 100 seats in the 200-member assembly. The election to the Ramgarh seat was delayed due to the death of sitting MLA and BSP candidate Laxman Singh.\n",
      "실제 요약 : Cong wins Ramgarh bypoll in Rajasthan, takes total to 100 seats\n",
      "추출적 요약 : Congress candidate Shafia Zubair won the Ramgarh Assembly seat in Rajasthan, by defeating BJP's Sukhwant Singh with a margin of 12,228 votes in the bypoll.\n",
      "\n",
      "\n"
     ]
    }
   ],
   "source": [
    "for i in range(0, 10):\n",
    "    print(\"원문 :\", data3['text'][i])\n",
    "    print(\"실제 요약 :\", data3['headlines'][i])\n",
    "    print(\"추출적 요약 :\", recall_summarize(summarize, data3['text'][i], 5))\n",
    "    print(\"\\n\")"
   ]
  },
  {
   "cell_type": "markdown",
   "id": "65b32b3c",
   "metadata": {},
   "source": [
    "- 예상하긴 했지만.. 역시나... 추출적 요약은 제대로 나오지 않는 것 같다."
   ]
  },
  {
   "cell_type": "markdown",
   "id": "91ff01fd",
   "metadata": {},
   "source": [
    "---\n",
    "\n",
    "###  ⛓️Secret Bonus Step. Rouge score 확인해보기\n",
    "\n",
    "---"
   ]
  },
  {
   "cell_type": "code",
   "execution_count": 2,
   "id": "725b3ef9",
   "metadata": {},
   "outputs": [
    {
     "name": "stdout",
     "output_type": "stream",
     "text": [
      "Collecting py-rouge\n",
      "  Downloading py_rouge-1.1-py3-none-any.whl (56 kB)\n",
      "     |████████████████████████████████| 56 kB 4.3 MB/s             \n",
      "\u001b[?25hInstalling collected packages: py-rouge\n",
      "Successfully installed py-rouge-1.1\n",
      "\u001b[33mWARNING: Running pip as the 'root' user can result in broken permissions and conflicting behaviour with the system package manager. It is recommended to use a virtual environment instead: https://pip.pypa.io/warnings/venv\u001b[0m\n",
      "Note: you may need to restart the kernel to use updated packages.\n"
     ]
    }
   ],
   "source": [
    "# 라이브러리 설치\n",
    "pip install py-rouge"
   ]
  },
  {
   "cell_type": "code",
   "execution_count": 5,
   "id": "811eedbf",
   "metadata": {},
   "outputs": [
    {
     "name": "stdout",
     "output_type": "stream",
     "text": [
      "ROUGE Scores: {}\n"
     ]
    }
   ],
   "source": [
    "from rouge import Rouge\n",
    "\n",
    "def pad_short_text(text, min_length=50):\n",
    "    # 최소 길이에 도달할 때까지 텍스트를 반복해서 추가합니다.\n",
    "    while len(text) < min_length:\n",
    "        text += \" \" + text\n",
    "    return text\n",
    "\n",
    "def calculate_rouge_scores(hypothesis, reference):\n",
    "    rouge = Rouge()\n",
    "    scores = rouge.get_scores(hypothesis, reference)\n",
    "    return scores\n",
    "\n",
    "# 실제 요약과 예측 요약을 가져옵니다.\n",
    "reference_summary = \"Cong wins Ramgarh bypoll in Rajasthan, takes total to 100 seats.\"\n",
    "predicted_summary = \"Congress candidate Shafia Zubair won the Ramgarh Assembly seat in Rajasthan, by defeating BJP's Sukhwant Singh with a margin of 12,228 votes in the bypoll.\"\n",
    "\n",
    "# 텍스트 패딩\n",
    "reference_summary_padded = pad_short_text(reference_summary)\n",
    "predicted_summary_padded = pad_short_text(predicted_summary)\n",
    "\n",
    "# ROUGE 점수 계산\n",
    "rouge_scores = calculate_rouge_scores(predicted_summary_padded, reference_summary_padded)\n",
    "\n",
    "# ROUGE 점수 출력\n",
    "print(\"ROUGE Scores:\", rouge_scores)"
   ]
  },
  {
   "cell_type": "markdown",
   "id": "4b87901d",
   "metadata": {},
   "source": [
    "- **Rouge는 일정 길이 이상의 문장이 들어가야 점수 계산이 가능하다. 빈 괄호가 출력되는 이유는 실제 요약과 예측 요약 두 문장의 길이가 짧아서 제대로 출력이 되지 않는 것으로 판단되어 패딩값을 넣어봤는데 그래도 출력이 되지 않는다 😓**"
   ]
  },
  {
   "cell_type": "markdown",
   "id": "18115e76",
   "metadata": {},
   "source": [
    "<br>  \n",
    "<br>  \n",
    "<br>  \n",
    "<br>  \n",
    "\n",
    "---\n",
    "\n",
    "## 🤖회고\n",
    "<br>\n",
    "\n",
    "### - **Keep :**\n",
    "    구글링을 열심히 해보았고 튜토리얼 노드에서 진행했던 코드들을 잘 활용하였다..\n",
    "\n",
    "### - **Problem :**\n",
    "    작성하면서도 무슨 내용인지 이해가 잘 되지 않는 부분이 많았다..😓  \n",
    "    \n",
    "\n",
    "### - **Try :**\n",
    "     Rouge score를 사용해보려했다. 시간이 부족해 더 시도해보지 못한 것이 아쉽다.   \n",
    "     또한 이해가 되지 않는 코드들이지만 일단 사용해보았다..💧"
   ]
  }
 ],
 "metadata": {
  "kernelspec": {
   "display_name": "Python 3 (ipykernel)",
   "language": "python",
   "name": "python3"
  },
  "language_info": {
   "codemirror_mode": {
    "name": "ipython",
    "version": 3
   },
   "file_extension": ".py",
   "mimetype": "text/x-python",
   "name": "python",
   "nbconvert_exporter": "python",
   "pygments_lexer": "ipython3",
   "version": "3.9.7"
  }
 },
 "nbformat": 4,
 "nbformat_minor": 5
}
