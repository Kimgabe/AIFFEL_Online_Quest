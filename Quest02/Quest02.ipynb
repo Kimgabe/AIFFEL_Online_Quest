{
  "nbformat": 4,
  "nbformat_minor": 0,
  "metadata": {
    "colab": {
      "provenance": [],
      "toc_visible": true,
      "authorship_tag": "ABX9TyPjkTACzURrpvXSjrepQ82L",
      "include_colab_link": true
    },
    "kernelspec": {
      "name": "python3",
      "display_name": "Python 3"
    },
    "language_info": {
      "name": "python"
    }
  },
  "cells": [
    {
      "cell_type": "markdown",
      "metadata": {
        "id": "view-in-github",
        "colab_type": "text"
      },
      "source": [
        "<a href=\"https://colab.research.google.com/github/Kimgabe/AIFFEL_Online_Quest/blob/main/Quest02/Quest02.ipynb\" target=\"_parent\"><img src=\"https://colab.research.google.com/assets/colab-badge.svg\" alt=\"Open In Colab\"/></a>"
      ]
    },
    {
      "cell_type": "markdown",
      "source": [
        "# 코드 페어프로그래밍 2회차\n",
        "\n",
        "작성자 : 김승순, 최강훈\n",
        "\n",
        "## 문제설명\n",
        "다음 조건을 활용하여 물고기가 물 속에서 움직이는 것을 시뮬레이션해보자!\n",
        "\n",
        "---\n",
        "\n",
        "### 요구사항\n",
        "1. 아래 물고기 리스트(fish_list)를 입력값으로 넣었을 때 물고기의 움직임을 출력값으로 뱉어내도록 만들어봅시다.\n",
        "\n",
        "2. 물고기의 움직임을 출력하는 함수 2개(컴프리헨션, 제너레이터)를 만듭니다.\n",
        "\n",
        "3. 컴프리헨션 함수에는 이름, 속도를 조합하고 제너레이터 함수에는 for문과 yield를 활용합니다.\n",
        "\n",
        "4. 물고기 리스트를 입력받으면, 2개의 함수는 물고기 이름과, 속도를 출력해야 합니다.\n",
        "\n",
        "5. 물고기 객체의 움직임은 일정 시간 간격으로 반복되어야 합니다.\n",
        "\n",
        "\n",
        "---\n",
        "```python\n",
        "fish_list = [\n",
        "{\"이름\": \"Nemo\", \"speed\": 3}, # key = 이름 & speed\n",
        "{\"이름\": \"Dory\", \"speed\": 5}\n",
        "]\n",
        "```"
      ],
      "metadata": {
        "id": "rM7-o5heprm5"
      }
    },
    {
      "cell_type": "markdown",
      "source": [
        "---\n",
        "\n",
        "**[Table of Contents]**\n",
        "\n",
        "- 핵심기능 구현을 위해 [조건 1.~4.]를 먼저 구현\n",
        "  - 이후 제너레이터 함수 구현과정에서 겪은 시행착오 3가지를 정리\n",
        "- 마지막으로 [조건 5.]를 충족하는 코드를 최종 답안지로 작성함"
      ],
      "metadata": {
        "id": "G9K_bZiopUaP"
      }
    },
    {
      "cell_type": "markdown",
      "source": [
        "### 정답지\n",
        "- [조건 1.~4.] 까지만 구현된 코드"
      ],
      "metadata": {
        "id": "R_zqYbS6s0fy"
      }
    },
    {
      "cell_type": "code",
      "execution_count": null,
      "metadata": {
        "id": "xRMgdCfqj_BY",
        "colab": {
          "base_uri": "https://localhost:8080/"
        },
        "outputId": "4369a509-e2e4-42a9-b48e-84531510b0c1"
      },
      "outputs": [
        {
          "output_type": "stream",
          "name": "stdout",
          "text": [
            "Using Comprehension:\n",
            "Nemo is swimming at 3 m/s\n",
            "Dory is swimming at 5 m/s\n",
            "강훈 is swimming at 10 m/s\n",
            "승순 is swimming at 15 m/s\n",
            "Using Generator:\n",
            "Nemo is swimmming at 3 m/s\n",
            "Dory is swimmming at 5 m/s\n",
            "강훈 is swimmming at 10 m/s\n",
            "승순 is swimmming at 15 m/s\n"
          ]
        }
      ],
      "source": [
        "# fish 리스트 생성 (테스트용으로 list 2개 더 추가)\n",
        "\n",
        "fish_list = [\n",
        "{\"이름\": \"Nemo\", \"speed\": 3}, # key = 이름 & speed\n",
        "{\"이름\": \"Dory\", \"speed\": 5},\n",
        "{\"이름\": \"강훈\", \"speed\": 10},\n",
        "{\"이름\": \"승순\", \"speed\": 15}\n",
        "]\n",
        "\n",
        "# 함수 생성\n",
        "## 컴프리헨션 함수 : 이름, 속도 조합\n",
        "# list comprehension\n",
        "def show_fish_movement_comprehension(fish_list):\n",
        "    # 리스트 컴프리헨션을 사용해 각 물고기의 움직임을 문자열로 만들고 list로 저장\n",
        "    movements = [f\"{fish['이름']} is swimming at {fish['speed']} m/s\" for fish in fish_list ]\n",
        "\n",
        "    # 생성된 움직임 리스트를 순회하며 각 움직임 출력\n",
        "    for movement in movements:  # list에서 값을 1개씩 출력\n",
        "      print(movement)\n",
        "\n",
        "\n",
        "## 제너레이터 함수 : for문 & yield 사용\n",
        "def show_fish_movement_generator(fish_list):\n",
        "  # 내부함수 (제너레이터) 정의\n",
        "  def generator_(fish_list):\n",
        "    # 각 물고기에 대해 이름과 속도를 tuple로 return\n",
        "    for fish in fish_list:\n",
        "      #yield f\"{fish['이름']} is swimming at {fish['speed']} m/s\"  # fstring 쓰고싶은 욕구의 미련을 못버림...ㅋㅋㅋ\n",
        "      yield (fish['이름'], fish['speed']) # 이름, speed를 각각 추출하여 tuple형태로 return\n",
        "\n",
        "  # 제너레이터 객체 생성\n",
        "  movements = generator_(fish_list)\n",
        "\n",
        "  # 제너레이터를 순회하며 각 움직임을 출력\n",
        "  for movement in movements:\n",
        "    print(f\"{movement[0]} is swimmming at {movement[1]} m/s\") # tuple형태의 값에서 indexing으로 접근\n",
        "    #print(movement)\n",
        "\n",
        "\n",
        "# 출력코드\n",
        "print(\"Using Comprehension:\")\n",
        "show_fish_movement_comprehension(fish_list)\n",
        "print(\"Using Generator:\")\n",
        "show_fish_movement_generator(fish_list)"
      ]
    },
    {
      "cell_type": "markdown",
      "source": [
        "### 문제 논의 과정\n",
        "\n",
        "1. 컴프리헨션 함수 만들기\n",
        "- 한번에 fstring으로 구현 완료\n",
        "- list comprehension을 사용해 fstirng과 결합해 fish_list 라는 dict에서 각각의 key와 그에 대응하는 vlaue를 추출해서 문장으로 생성후 리스트로 담아서 movement 변수에 할당\n",
        "- 할당된 변수(list)를 iteration하면서 저장된 문장 출력하도록 구현함(위 정답지 코드)\n",
        "\n",
        "2. 제너레이터 함수만들기\n",
        "- 한번에 fstring으로 구현하려 했으나 제너레이터만 생성이 되고 fstring의 값이 나오지 않음\n",
        "- 제너레이터 함수의 각각의 값을 출력하려면 데코레이터 개념을 적용하거나 제너레이터의 값을 하나씩 출력하는 next()메서드, 또는 for문을 사용한 제너레이터의 Iterable한 변수를 출력하도록 했어야 함\n",
        "- 하지만 list comprehension에서 생성된 fstirng이 들어간 제너레이터를 그대로 print하는 실수를 자꾸 해서 시행착오를 겪음\n",
        "- 이에 대한 3가지 시행착오에서 완성한 코드들을 아래에 정리함\n"
      ],
      "metadata": {
        "id": "njhyviJmrjsa"
      }
    },
    {
      "cell_type": "markdown",
      "source": [
        "#### generator 함수 1차 구현\n",
        "\n",
        "- yield로 fish_list에서 문장으로 출력할 값을 먼저 추출하는 함수를 만든다.(강훈 아이디어)\n",
        "- 생성한 함수를 사용해 fish_list라는 dict에 담긴 모든 값을 추출해 제너레이터를 만들어 movements 라는 변수에 저장한다.\n",
        "- 저장한 제너레이터를 순환하며 각각의 값을 추출해 fstring으로 문장을 만들어 print()한다.\n",
        "  - 문제 조건인 yield 와 for문 사용 모두 충족\n",
        "\n",
        "---\n",
        "🤔 코드 작동은 이상없이 잘 되었지만 한가지 의문이 생김.\n",
        "\n",
        "- generator_함수로 만든 값이 과연 제너레이터가 맞을까?\n",
        "- 제너레이터 개념 학습때 배운 next() 를 이용해 확인해보기로 함\n",
        "- 제너레이터에서 next()로 출력할 값이 없으면 StopIteration에러가 나는 것을 응용해보기로 함\n",
        "  - movements라는 변수에는 iterable한 tuple형태의 제너레이터가 담겨 있음\n",
        "  - 이를 for문으로 각각 출력을 하면서 제너레이터의 모든 변수가 출력된 이후 next()를 하면 출력할 값이 없어서 StopIterationd에러가 발생해야 한다고 생각함\n",
        "  - 이를 검증한 결과 정상적으로 제너레이터를 생성했었음을 확인했음"
      ],
      "metadata": {
        "id": "Taok9KynRIvK"
      }
    },
    {
      "cell_type": "code",
      "source": [
        "## 제너레이터 함수 : for문 & yield 사용\n",
        "def show_fish_movement_generator(fish_list):\n",
        "  def generator_(fish_list):\n",
        "    for fish in fish_list:\n",
        "      yield (fish['이름'], fish['speed']) # 이름, speed를 각각 추출하여 tuple형태로 return\n",
        "  movements = generator_(fish_list)\n",
        "  for movement in movements:\n",
        "    print(f\"{movement[0]} is swimmming at {movement[1]} m/s\") # tuple형태의 값에서 indexing으로 접근\n",
        "\n",
        "  # show_fish_movement_generator가 generator 함수임을 확인하기 위한 시도\n",
        "  # for문이 모두 작동한후 next()로 generator의 다음 값을 return하도록 요청\n",
        "  # 이미 모든 값이 for문에서 출력되어서 빈 generator이므로 StopIteration 예외 발생\n",
        "  print(next(movements))\n",
        "\n",
        "print(\"Using Generator:\")\n",
        "show_fish_movement_generator(fish_list)"
      ],
      "metadata": {
        "id": "PWyWVsXms3hh",
        "colab": {
          "base_uri": "https://localhost:8080/",
          "height": 436
        },
        "outputId": "68eecf31-58a8-4906-a3d2-8c531e5af8cc"
      },
      "execution_count": null,
      "outputs": [
        {
          "output_type": "stream",
          "name": "stdout",
          "text": [
            "Using Generator:\n",
            "Nemo is swimmming at 3 m/s\n",
            "Dory is swimmming at 5 m/s\n",
            "강훈 is swimmming at 10 m/s\n",
            "승순 is swimmming at 15 m/s\n"
          ]
        },
        {
          "output_type": "error",
          "ename": "StopIteration",
          "evalue": "ignored",
          "traceback": [
            "\u001b[0;31m---------------------------------------------------------------------------\u001b[0m",
            "\u001b[0;31mStopIteration\u001b[0m                             Traceback (most recent call last)",
            "\u001b[0;32m<ipython-input-2-61355992ba9a>\u001b[0m in \u001b[0;36m<cell line: 16>\u001b[0;34m()\u001b[0m\n\u001b[1;32m     14\u001b[0m \u001b[0;34m\u001b[0m\u001b[0m\n\u001b[1;32m     15\u001b[0m \u001b[0mprint\u001b[0m\u001b[0;34m(\u001b[0m\u001b[0;34m\"Using Generator:\"\u001b[0m\u001b[0;34m)\u001b[0m\u001b[0;34m\u001b[0m\u001b[0;34m\u001b[0m\u001b[0m\n\u001b[0;32m---> 16\u001b[0;31m \u001b[0mshow_fish_movement_generator\u001b[0m\u001b[0;34m(\u001b[0m\u001b[0mfish_list\u001b[0m\u001b[0;34m)\u001b[0m\u001b[0;34m\u001b[0m\u001b[0;34m\u001b[0m\u001b[0m\n\u001b[0m",
            "\u001b[0;32m<ipython-input-2-61355992ba9a>\u001b[0m in \u001b[0;36mshow_fish_movement_generator\u001b[0;34m(fish_list)\u001b[0m\n\u001b[1;32m     11\u001b[0m   \u001b[0;31m# for문이 모두 작동한후 next()로 generator의 다음 값을 return하도록 요청\u001b[0m\u001b[0;34m\u001b[0m\u001b[0;34m\u001b[0m\u001b[0m\n\u001b[1;32m     12\u001b[0m   \u001b[0;31m# 이미 모든 값이 for문에서 출력되어서 빈 generator이므로 StopIteration 예외 발생\u001b[0m\u001b[0;34m\u001b[0m\u001b[0;34m\u001b[0m\u001b[0m\n\u001b[0;32m---> 13\u001b[0;31m   \u001b[0mprint\u001b[0m\u001b[0;34m(\u001b[0m\u001b[0mnext\u001b[0m\u001b[0;34m(\u001b[0m\u001b[0mmovements\u001b[0m\u001b[0;34m)\u001b[0m\u001b[0;34m)\u001b[0m\u001b[0;34m\u001b[0m\u001b[0;34m\u001b[0m\u001b[0m\n\u001b[0m\u001b[1;32m     14\u001b[0m \u001b[0;34m\u001b[0m\u001b[0m\n\u001b[1;32m     15\u001b[0m \u001b[0mprint\u001b[0m\u001b[0;34m(\u001b[0m\u001b[0;34m\"Using Generator:\"\u001b[0m\u001b[0;34m)\u001b[0m\u001b[0;34m\u001b[0m\u001b[0;34m\u001b[0m\u001b[0m\n",
            "\u001b[0;31mStopIteration\u001b[0m: "
          ]
        }
      ]
    },
    {
      "cell_type": "markdown",
      "source": [
        "- 중첩함수(generator_)로 생성되는 movements가 제너레이터임을 확인하기 위해 일부러 `print(next( ~` 를 넣어서 오류의 내용을 확인함"
      ],
      "metadata": {
        "id": "qSiDY318IF3f"
      }
    },
    {
      "cell_type": "markdown",
      "source": [
        "#### generator 함수 2차 구현\n",
        "- 미련을 버리지 못한 fstring의 길을 찾아서..\n",
        "- 앞서 generator_함수로 yield로 fish_list라는 dict에서 각각 key, value를 뽑아 그 값만을 담은 tuple형태의 제너레이터를 만듬\n",
        "- 처음부터 fstring을 이용해 출력할 문장을 조합한 상태로 제너레이터를 만들고 출력되게 하고자 시도함\n",
        "\n",
        "---\n",
        "\n",
        "✔️ 시도 결과\n",
        "- 결국 1차 구현과 동일한 로직인데 fstring을 어디에 두는것의 차이일 뿐이라는걸 여기서 깨달음\n",
        "- yield로 뽑아내는 데이터가 어떤식으로 제너레이터로서 저장이 되는지를 잘 알지 못했던게 가장 큰 원인이었다고 생각함\n",
        "- 1차 코드와 모두 동일하며 yield에 fstring을 적용하느냐, 함수의 최종 return인 print문에 fstring을 적용하느냐의 차이일 뿐이었음"
      ],
      "metadata": {
        "id": "Jd4r2dvN71G3"
      }
    },
    {
      "cell_type": "code",
      "source": [
        "## 제너레이터 함수 : for문 & yield 사용\n",
        "def show_fish_movement_generator(fish_list):\n",
        "  def generator_(fish_list):\n",
        "    for fish in fish_list:\n",
        "      yield f\"{fish['이름']} is swimming at {fish['speed']} m/s\"  # 출력할 문장 미리 생성\n",
        "  movements = generator_(fish_list)\n",
        "  for movement in movements:\n",
        "    print(movement)\n",
        "  # show_fish_movement_generator가 generator 함수임을 확인하기 위한 시도\n",
        "  # for문이 모두 작동한후 next()로 generator의 다음 값을 return하도록 요청\n",
        "  # 이미 모든 값이 for문에서 출력되어서 빈 generator이므로 StopIteration 예외 발생\n",
        "  print(next(movements))\n",
        "\n",
        "# 출력코드\n",
        "print(\"Using Generator:\")\n",
        "show_fish_movement_generator(fish_list)"
      ],
      "metadata": {
        "colab": {
          "base_uri": "https://localhost:8080/",
          "height": 436
        },
        "id": "jS_S2uXt7MKv",
        "outputId": "d4b563d2-5a3a-4dc4-84c5-aaf11afc8d60"
      },
      "execution_count": null,
      "outputs": [
        {
          "output_type": "stream",
          "name": "stdout",
          "text": [
            "Using Generator:\n",
            "Nemo is swimming at 3 m/s\n",
            "Dory is swimming at 5 m/s\n",
            "강훈 is swimming at 10 m/s\n",
            "승순 is swimming at 15 m/s\n"
          ]
        },
        {
          "output_type": "error",
          "ename": "StopIteration",
          "evalue": "ignored",
          "traceback": [
            "\u001b[0;31m---------------------------------------------------------------------------\u001b[0m",
            "\u001b[0;31mStopIteration\u001b[0m                             Traceback (most recent call last)",
            "\u001b[0;32m<ipython-input-3-b7d8744099b8>\u001b[0m in \u001b[0;36m<cell line: 16>\u001b[0;34m()\u001b[0m\n\u001b[1;32m     14\u001b[0m \u001b[0;31m# 출력코드\u001b[0m\u001b[0;34m\u001b[0m\u001b[0;34m\u001b[0m\u001b[0m\n\u001b[1;32m     15\u001b[0m \u001b[0mprint\u001b[0m\u001b[0;34m(\u001b[0m\u001b[0;34m\"Using Generator:\"\u001b[0m\u001b[0;34m)\u001b[0m\u001b[0;34m\u001b[0m\u001b[0;34m\u001b[0m\u001b[0m\n\u001b[0;32m---> 16\u001b[0;31m \u001b[0mshow_fish_movement_generator\u001b[0m\u001b[0;34m(\u001b[0m\u001b[0mfish_list\u001b[0m\u001b[0;34m)\u001b[0m\u001b[0;34m\u001b[0m\u001b[0;34m\u001b[0m\u001b[0m\n\u001b[0m",
            "\u001b[0;32m<ipython-input-3-b7d8744099b8>\u001b[0m in \u001b[0;36mshow_fish_movement_generator\u001b[0;34m(fish_list)\u001b[0m\n\u001b[1;32m     10\u001b[0m   \u001b[0;31m# for문이 모두 작동한후 next()로 generator의 다음 값을 return하도록 요청\u001b[0m\u001b[0;34m\u001b[0m\u001b[0;34m\u001b[0m\u001b[0m\n\u001b[1;32m     11\u001b[0m   \u001b[0;31m# 이미 모든 값이 for문에서 출력되어서 빈 generator이므로 StopIteration 예외 발생\u001b[0m\u001b[0;34m\u001b[0m\u001b[0;34m\u001b[0m\u001b[0m\n\u001b[0;32m---> 12\u001b[0;31m   \u001b[0mprint\u001b[0m\u001b[0;34m(\u001b[0m\u001b[0mnext\u001b[0m\u001b[0;34m(\u001b[0m\u001b[0mmovements\u001b[0m\u001b[0;34m)\u001b[0m\u001b[0;34m)\u001b[0m\u001b[0;34m\u001b[0m\u001b[0;34m\u001b[0m\u001b[0m\n\u001b[0m\u001b[1;32m     13\u001b[0m \u001b[0;34m\u001b[0m\u001b[0m\n\u001b[1;32m     14\u001b[0m \u001b[0;31m# 출력코드\u001b[0m\u001b[0;34m\u001b[0m\u001b[0;34m\u001b[0m\u001b[0m\n",
            "\u001b[0;31mStopIteration\u001b[0m: "
          ]
        }
      ]
    },
    {
      "cell_type": "markdown",
      "source": [
        "#### generator 함수 3차 구현\n",
        "- movements가 generator인건 확인하고 싶지만 에러로 코드가 멈추게 하고 싶지는 않아서 아래의 개념을 적용함(승순 아이디어)\n",
        "- while, try, except로 에러 없이 결과 나오도록 구현"
      ],
      "metadata": {
        "id": "Hw7iGjM_LDb-"
      }
    },
    {
      "cell_type": "code",
      "source": [
        "## 제너레이터 함수 : for문 & yield 사용\n",
        "def show_fish_movement_generator(fish_list):\n",
        "  def generator_(fish_list):\n",
        "    for fish in fish_list:\n",
        "      yield (fish['이름'], fish['speed']) # 이름, speed를 각각 추출하여 tuple형태로 return\n",
        "  movements = generator_(fish_list)\n",
        "  for movement in movements:\n",
        "    print(f\"{movement[0]} is swimming at {movement[1]} m/s\") # tuple형태의 값에서 indexing으로 접근\n",
        "\n",
        "  # 모든 움직임을 출력한 뒤에 다음 움직임을 요청\n",
        "  # 이 시점에서 movements 제너레이터는 모든 요소를 이미 반환했기 때문에\n",
        "  # StopIteration 예외가 발생하여 더 이상의 값을 얻을 수 없음\n",
        "  try:\n",
        "    print(next(movements)) # 제너레이터의 남은 값 출력 시도\n",
        "  except StopIteration as e: # StopIteration 에러발생시 지정된 문구 출력\n",
        "     print(\"StopIteration 예외 발생: 더 이상 출력할 움직임이 없습니다.\")\n",
        "\n",
        "print(\"Using Generator:\")\n",
        "show_fish_movement_generator(fish_list)"
      ],
      "metadata": {
        "colab": {
          "base_uri": "https://localhost:8080/"
        },
        "id": "WTmcCmZQLCoq",
        "outputId": "69c8268e-df89-4773-b2b7-3b226184627a"
      },
      "execution_count": null,
      "outputs": [
        {
          "output_type": "stream",
          "name": "stdout",
          "text": [
            "Using Generator:\n",
            "Nemo is swimming at 3 m/s\n",
            "Dory is swimming at 5 m/s\n",
            "강훈 is swimming at 10 m/s\n",
            "승순 is swimming at 15 m/s\n",
            "StopIteration 예외 발생: 더 이상 출력할 움직임이 없습니다.\n"
          ]
        }
      ]
    },
    {
      "cell_type": "markdown",
      "source": [
        "## 추가 작업(최종답안지)\n",
        "\"5. 물고기 객체의 움직임은 일정 시간 간격으로 반복되어야 합니다.\" 조건을 구현 최종 Ver.\n",
        "\n",
        "- '일정간격' 은 time 을 사용해서 구현\n",
        "  - time.sleep(2) 로 2초의 간격을 두고 실행되게 함\n",
        "  - 실제로 2초마다 실행되는지 확인하기 위해 time.time()를 사용해 시작시간과 종료시간 간의 차를 이용해 실제 지연된 시간을 출력하도록함\n",
        "\n",
        "\n",
        "- '반복' 은 for문을 사용해서 구현\n",
        "  - repeat = 3 을 기본 매개변수로 지정해둠으로써 함수 실행시 3번 반복되게 지정\n",
        "  - show_fish_movement_generator(fish_list, 숫자) 와 같이 인자를 입력하면 입력된 숫자만큼 출력이 반복됨\n",
        "  - 조건문을 사용해 매 반복회차마다 몇 회차인지 출력하도록함\n",
        "  - 또한, 마지막 회차에는 else문으로 조건을 지정해 마지막 회차임을 명시하도록 함\n",
        "\n",
        "- 그외 가독성을 높이기 위해 줄바꿈, 경계선 등을 추가함"
      ],
      "metadata": {
        "id": "FK3jwjHUBsuo"
      }
    },
    {
      "cell_type": "code",
      "source": [
        "\"\"\"\n",
        "- 배우지 않은 개념이지만 time이라는 모듈을 사용함\n",
        "- 이 코드에서 time모듈은 2가지 기능을 수행함\n",
        "  1) time.time() 으로 코드가 실행되는 just right time에 대한 시간을 생성\n",
        "  2) sleep()함수로 괄호안에 지정된 sec만큼 코드의 실행을 멈춤\n",
        "\"\"\"\n",
        "import time # 일정'간격'을 구현할 모듈\n",
        "\n",
        "# fish 리스트 생성 (테스트용으로 list 2개 더 추가)\n",
        "fish_list = [\n",
        "{\"이름\": \"Nemo\", \"speed\": 3}, # key = 이름 & speed\n",
        "{\"이름\": \"Dory\", \"speed\": 5},\n",
        "{\"이름\": \"강훈\", \"speed\": 10},\n",
        "{\"이름\": \"승순\", \"speed\": 15}\n",
        "]\n",
        "\n",
        "# 함수 생성\n",
        "## 컴프리헨션 함수 : 이름, 속도 조합해서 return해야 함\n",
        "# list comprehension\n",
        "\"\"\"\n",
        "- 함수의 return값이 이름, 속도의 value를 조합해서 return되어야 한다.\n",
        "- 매개변수 : 문제에 제공된 dict와 함수의 반복실행을 위한 최소한의 횟수(repeat=3)을 지정\n",
        "  - repeat = 기본매개변수\n",
        "- for문으로 정해진 횟수(repeat)만큼 반복하면서 실행\n",
        "\"\"\"\n",
        "def show_fish_movement_comprehension(fish_list, repeat=3):\n",
        "  # 정해진 횟수만큼 반복\n",
        "  for num in range(repeat):\n",
        "\n",
        "    # 마지막 반복인경우와 아닌 경우를 각각 나눠서 진행상태 출력\n",
        "    if num == repeat -1:\n",
        "      print(\"마지막 반복입니다.\")\n",
        "    else:\n",
        "      print(f\"현재 {num+1}번째 반복을 실행중입니다.\")\n",
        "\n",
        "    # 출력할 문장을 list comprehension을 사용해 문장으로 만들어 movement에 할당\n",
        "    # movement에는 생성된 문장이 str으로 각각 list 형태로 담긴다. (fstring에 [] 를 둘러서 리스트화 시켰기 때문)\n",
        "    movements = [f\"{fish['이름']} is swimming at {fish['speed']} m/s\" for fish in fish_list ] # 출력할 문장 생성해 변수에 list로 할당\n",
        "    # iterable한 객체(movement)에 접근하여 순차적으로 한개씩 출력\n",
        "    for movement in movements:\n",
        "      print(movement)\n",
        "      start_time = time.time() # 시작시간 저장\n",
        "      print(\"time sleep 지정 for 2 sec\")\n",
        "      time.sleep(2)\n",
        "      end_time = time.time() # 종료시간 저장\n",
        "      \"\"\"\n",
        "      실제 경과 시간 체크를 위한 로직\n",
        "      - time.time()을 활용해 각각 시작시간(statr_time)과 종료시간(end_time)이라는 변수에 저장\n",
        "      - time.time()를 하면\n",
        "      - 저장된 시간변수를 사용해서 실제 경과 시간 계산 (종료시점 시간 - 시작시점 시간 = 경과 시간)\n",
        "      \"\"\"\n",
        "      elapsed_time = end_time - start_time  # 경과시간\n",
        "      print(f\"실제 지연 시간: {elapsed_time:.2f}초\",'\\n') # 실제 지연시간 출력\n",
        "    print('='*60) # 경계선 출력\n",
        "\n",
        "\n",
        "\"\"\"\n",
        "- generator_ 함수는 사실 show_fish_movement_generator함수를 사용할때마다 매번 호출되어 재정의되는 방식이라 메모리 효율성이 떨어짐\n",
        "- 외부에서 generator_함수를 미리 선언해두고 사용하는 것이 더 효과적\n",
        "- 다만 코드 전체 흐름을 이해하기 위해 generator_를 show_fish_movement_generator 내부에서 호출하도록 함\n",
        "\"\"\"\n",
        "## 제너레이터 함수 : for문 & yield 사용\n",
        "def show_fish_movement_generator(fish_list, repeat=3):\n",
        "  # comprehension 함수와 동일\n",
        "  for num in range(repeat):\n",
        "    if num == repeat -1:\n",
        "      print(\"마지막 반복입니다.\")\n",
        "    else:\n",
        "      print(f\"현재 {num+1}번째 반복을 실행중입니다.\")\n",
        "\n",
        "    # 제너레이터를 생성하는 함수(중첩함수)\n",
        "    # yield를 통해 fish_list라는 dict에서 이름과 speed를 출력해 tuple형태로 return\n",
        "    def generator_(fish_list):\n",
        "      for fish in fish_list:\n",
        "        #yield f\"{fish['이름']} is swimming at {fish['speed']} m/s\"  # fstring 쓰고싶은 욕구의 미련을 못버림...ㅋㅋㅋ\n",
        "        yield (fish['이름'], fish['speed']) # 이름, speed를 각각 추출하여 tuple형태로 return\n",
        "\n",
        "    # 중첩함수로 추출한 tuple 데이터를 movements에 할당\n",
        "    movements = generator_(fish_list)\n",
        "\n",
        "    # movements를 iteration하면서 tuple에서 물고기 이름과, speed를 Indexing해서 문장으로 생성하여 print\n",
        "    for movement in movements:\n",
        "      print(f\"{movement[0]} is swimmming at {movement[1]} m/s\") # tuple형태의 값에서 indexing으로 접근\n",
        "      #print(movement)\n",
        "      start_time = time.time() # 시작시간 저장\n",
        "      print(\"time sleep 지정 for 2 sec\")\n",
        "      time.sleep(2)\n",
        "      end_time = time.time() # 종료시간 저장\n",
        "      elapsed_time = end_time - start_time # 경과시간\n",
        "      print(f\"실제 지연 시간: {elapsed_time:.2f}초\",'\\n') # 실제 지연시간 출력\n",
        "    print('='*60) # 경계선 출력\n",
        "\n",
        "\n",
        "\n",
        "# 출력코드(반복)\n",
        "print(\"Using Comprehension:\")\n",
        "show_fish_movement_comprehension(fish_list, 5)\n",
        "print('\\n') # 줄바꿈(가독성up)\n",
        "print(\"Using Generator:\")\n",
        "show_fish_movement_generator(fish_list)"
      ],
      "metadata": {
        "id": "gNmVupjxButE",
        "colab": {
          "base_uri": "https://localhost:8080/"
        },
        "outputId": "9798f487-6a21-46b0-de2e-52b40fe8fe00"
      },
      "execution_count": null,
      "outputs": [
        {
          "output_type": "stream",
          "name": "stdout",
          "text": [
            "Using Comprehension:\n",
            "현재 1번째 반복을 실행중입니다.\n",
            "Nemo is swimming at 3 m/s\n",
            "time sleep 지정 for 2 sec\n",
            "실제 지연 시간: 2.00초 \n",
            "\n",
            "Dory is swimming at 5 m/s\n",
            "time sleep 지정 for 2 sec\n",
            "실제 지연 시간: 2.00초 \n",
            "\n",
            "강훈 is swimming at 10 m/s\n",
            "time sleep 지정 for 2 sec\n",
            "실제 지연 시간: 2.00초 \n",
            "\n",
            "승순 is swimming at 15 m/s\n",
            "time sleep 지정 for 2 sec\n",
            "실제 지연 시간: 2.00초 \n",
            "\n",
            "============================================================\n",
            "현재 2번째 반복을 실행중입니다.\n",
            "Nemo is swimming at 3 m/s\n",
            "time sleep 지정 for 2 sec\n",
            "실제 지연 시간: 2.00초 \n",
            "\n",
            "Dory is swimming at 5 m/s\n",
            "time sleep 지정 for 2 sec\n",
            "실제 지연 시간: 2.00초 \n",
            "\n",
            "강훈 is swimming at 10 m/s\n",
            "time sleep 지정 for 2 sec\n",
            "실제 지연 시간: 2.00초 \n",
            "\n",
            "승순 is swimming at 15 m/s\n",
            "time sleep 지정 for 2 sec\n",
            "실제 지연 시간: 2.00초 \n",
            "\n",
            "============================================================\n",
            "현재 3번째 반복을 실행중입니다.\n",
            "Nemo is swimming at 3 m/s\n",
            "time sleep 지정 for 2 sec\n",
            "실제 지연 시간: 2.00초 \n",
            "\n",
            "Dory is swimming at 5 m/s\n",
            "time sleep 지정 for 2 sec\n",
            "실제 지연 시간: 2.00초 \n",
            "\n",
            "강훈 is swimming at 10 m/s\n",
            "time sleep 지정 for 2 sec\n",
            "실제 지연 시간: 2.00초 \n",
            "\n",
            "승순 is swimming at 15 m/s\n",
            "time sleep 지정 for 2 sec\n",
            "실제 지연 시간: 2.00초 \n",
            "\n",
            "============================================================\n",
            "현재 4번째 반복을 실행중입니다.\n",
            "Nemo is swimming at 3 m/s\n",
            "time sleep 지정 for 2 sec\n",
            "실제 지연 시간: 2.00초 \n",
            "\n",
            "Dory is swimming at 5 m/s\n",
            "time sleep 지정 for 2 sec\n",
            "실제 지연 시간: 2.00초 \n",
            "\n",
            "강훈 is swimming at 10 m/s\n",
            "time sleep 지정 for 2 sec\n",
            "실제 지연 시간: 2.00초 \n",
            "\n",
            "승순 is swimming at 15 m/s\n",
            "time sleep 지정 for 2 sec\n",
            "실제 지연 시간: 2.00초 \n",
            "\n",
            "============================================================\n",
            "마지막 반복입니다.\n",
            "Nemo is swimming at 3 m/s\n",
            "time sleep 지정 for 2 sec\n",
            "실제 지연 시간: 2.00초 \n",
            "\n",
            "Dory is swimming at 5 m/s\n",
            "time sleep 지정 for 2 sec\n",
            "실제 지연 시간: 2.00초 \n",
            "\n",
            "강훈 is swimming at 10 m/s\n",
            "time sleep 지정 for 2 sec\n",
            "실제 지연 시간: 2.00초 \n",
            "\n",
            "승순 is swimming at 15 m/s\n",
            "time sleep 지정 for 2 sec\n",
            "실제 지연 시간: 2.00초 \n",
            "\n",
            "============================================================\n",
            "\n",
            "\n",
            "Using Generator:\n",
            "현재 1번째 반복을 실행중입니다.\n",
            "Nemo is swimmming at 3 m/s\n",
            "time sleep 지정 for 2 sec\n",
            "실제 지연 시간: 2.00초 \n",
            "\n",
            "Dory is swimmming at 5 m/s\n",
            "time sleep 지정 for 2 sec\n",
            "실제 지연 시간: 2.00초 \n",
            "\n",
            "강훈 is swimmming at 10 m/s\n",
            "time sleep 지정 for 2 sec\n",
            "실제 지연 시간: 2.00초 \n",
            "\n",
            "승순 is swimmming at 15 m/s\n",
            "time sleep 지정 for 2 sec\n",
            "실제 지연 시간: 2.00초 \n",
            "\n",
            "============================================================\n",
            "현재 2번째 반복을 실행중입니다.\n",
            "Nemo is swimmming at 3 m/s\n",
            "time sleep 지정 for 2 sec\n",
            "실제 지연 시간: 2.00초 \n",
            "\n",
            "Dory is swimmming at 5 m/s\n",
            "time sleep 지정 for 2 sec\n",
            "실제 지연 시간: 2.00초 \n",
            "\n",
            "강훈 is swimmming at 10 m/s\n",
            "time sleep 지정 for 2 sec\n",
            "실제 지연 시간: 2.00초 \n",
            "\n",
            "승순 is swimmming at 15 m/s\n",
            "time sleep 지정 for 2 sec\n",
            "실제 지연 시간: 2.00초 \n",
            "\n",
            "============================================================\n",
            "마지막 반복입니다.\n",
            "Nemo is swimmming at 3 m/s\n",
            "time sleep 지정 for 2 sec\n",
            "실제 지연 시간: 2.00초 \n",
            "\n",
            "Dory is swimmming at 5 m/s\n",
            "time sleep 지정 for 2 sec\n",
            "실제 지연 시간: 2.00초 \n",
            "\n",
            "강훈 is swimmming at 10 m/s\n",
            "time sleep 지정 for 2 sec\n",
            "실제 지연 시간: 2.00초 \n",
            "\n",
            "승순 is swimmming at 15 m/s\n",
            "time sleep 지정 for 2 sec\n",
            "실제 지연 시간: 2.00초 \n",
            "\n",
            "============================================================\n"
          ]
        }
      ]
    },
    {
      "cell_type": "markdown",
      "source": [
        "## 회고\n",
        "\n",
        "1. KEEP\n",
        "- 그동안 배운 개념을 잘 적용해서 문제풀이 계획을 세우고 풀었다.\n",
        "2. PROBLEM\n",
        "- fstring에 매몰되어서 제너레이터 함수의 yield값을 한번에 출력하려고 했다.\n",
        "- comprehension의 코드를 너무 그대로 이용하려고만 했다.\n",
        "- 제너레이터 함수때 데코레이터를 써먹지 못했다.(나중에 시도해보자)\n",
        "- 맨 마지막 조건을 보지 못하고 일정간격마다 반복이라는 문제해결을 늦게 했다.\n",
        "3. TRY\n",
        "- 제너레이터 함수에 대한 개념을 다시 정리(논의)했다.\n",
        "- 제너레이터 함수의 yield를 추출하기 위해 바인딩을 새로 하고 indexing으로 원하는 값을 추출했다.\n",
        "- 이 결과를 바탕으로 fstring을 써서 구현하는 것을 시도했다(미저리 탈출 성공😀)\n",
        "- 항상 문제의 요구사항을 모두 파악하고 문제를 이해한 이후에 접근하기\n",
        "- 데코레이터 사용해서 제너레이너 함수 구현 다시 시도해보기\n",
        "\n",
        "---\n",
        "<br>\n",
        "\n",
        "**4. 차후 복습 및 코드 수정하며 느낀점(승순)**\n",
        "- [요구조건 5.]를 미처 인지하지 못하고 [요구조건 1.~4.]를 구현하는것에 치중함\n",
        "- 결론적으론 핵심기능인 [요구조건 1.~4.]을 충족하고, 그 기능의 부가적 기능인 [조건 5.] 를 구성하는 식으로 답안을 작성했는데, 이런 방식으로 프로그래밍을 해야겠다고 느낌\n",
        "- 코드 작성 방식의 스타일 차이겠으나 위와 같이 *핵심 기능(데이터 추출 및 문장 생성)을 먼저 구현하고, 부가적인 기능(반복, 간격 등) 을 구현*하는 것이 코드의 전체 구성을 살피고, 기능적으로 원하는대로 작동하게 하는것을 위해 필요하다고 느낌\n",
        "---\n",
        "<br>\n",
        "\n",
        "- \\+ generator_ 함수를 show_fish_movement_generator 내부에서 호출하는데, 메모리 사용측면에서 매우 비효율적임\n",
        "- generator_함수는 show_fish_movement_generator 함수 밖에서 선언하고 사용하는 것이 더 효율적이 었음\n",
        "- 다만 당시에는 show_fish_movement_generator 함수의 작동 과정을 직관적으로 만드려고 하다보니 이점을 고려하지 못함\n",
        "\n",
        "---\n",
        "<br>\n",
        "\n",
        " - \\+ 퀘스트의 목적은 페어 프로그래밍이라 한명이 타이핑을하고, 한명이 입코딩(?)을 하는 방식인데, 타이핑할때 내 생각을 말하면서 보여주기 위해 코드를 작성하다보니 다소 퀘스트 목적에는 맞지 않게 작업을 수행하지 않았나.. 라는 생각을 함🫡\n",
        "  - 다음 퀘스트때부터는 각자의 역할에 좀 더 충실해 보는 걸로!\n",
        "\n",
        "- \\+ 이와는 별개로 서로 생각하는 바를 커뮤니케이션하고, 개념에대해 하나 하나 되짚어가면서 구현방안을 논의한것은 복습 및 코드이해에 엄청 큰 도움이 된것 같다.\n",
        "- 모두 작성이 완료된 이후에 차근 차근 톺아보면서 코드를 분해해보니 시간에 쫒겨 미처 보지 못한 여러 부분을 보고 수정하면서 다시 또 배울 수 있었다.\n",
        "- 가능하다면 차후에 블로그에 이런 스스로 진행한 퀘스트를 하나 하나 뜯어보고 수정하는걸 기록해봐야겠다."
      ],
      "metadata": {
        "id": "ldZa0kiQ9krY"
      }
    }
  ]
}