{
  "nbformat": 4,
  "nbformat_minor": 0,
  "metadata": {
    "colab": {
      "provenance": [],
      "authorship_tag": "ABX9TyMkZgI1UD7K2VNeAKaOJYlA",
      "include_colab_link": true
    },
    "kernelspec": {
      "name": "python3",
      "display_name": "Python 3"
    },
    "language_info": {
      "name": "python"
    }
  },
  "cells": [
    {
      "cell_type": "markdown",
      "metadata": {
        "id": "view-in-github",
        "colab_type": "text"
      },
      "source": [
        "<a href=\"https://colab.research.google.com/github/Kimgabe/AIFFEL_Online_Quest/blob/main/Quest02/Quest02.ipynb\" target=\"_parent\"><img src=\"https://colab.research.google.com/assets/colab-badge.svg\" alt=\"Open In Colab\"/></a>"
      ]
    },
    {
      "cell_type": "markdown",
      "source": [],
      "metadata": {
        "id": "Sk6Ys0b1pqif"
      }
    },
    {
      "cell_type": "markdown",
      "source": [
        "# 코드 페어프로그래밍 2회차\n",
        "\n",
        "## 문제설명\n",
        "다음 조건을 활용하여 물고기가 물 속에서 움직이는 것을 시뮬레이션해보자!\n",
        "\n",
        "### 요구사항\n",
        "- 아래 물고기 리스트를 입력값으로 넣었을때 물고기의 움직임을 출력값으로 뱉어내도록 만들어봅시다.\n",
        "- 물고기의 움직임을 출력하는 함수 2개(컴프리헨션, 제너레이터)를 만듭니다.\n",
        "- 컴프리헨션 함수에는 이름, 속도를 조합하고 제너레티어 함수에는 for문과 yield를 활용합니다.\n",
        "- 물고기 리스트를 입력받으면, 2개의 함수는 물고기 이름과, 속도를 출력해야 합니다.\n",
        "- 물고기 객체의 움직임은 일정 시간 간격으로 반복되어야 합니다.\n",
        "\n"
      ],
      "metadata": {
        "id": "rM7-o5heprm5"
      }
    },
    {
      "cell_type": "markdown",
      "source": [
        "### 정답지"
      ],
      "metadata": {
        "id": "R_zqYbS6s0fy"
      }
    },
    {
      "cell_type": "code",
      "execution_count": 1,
      "metadata": {
        "id": "xRMgdCfqj_BY",
        "colab": {
          "base_uri": "https://localhost:8080/"
        },
        "outputId": "291617e5-717c-47a8-a9ee-c817141c8cd2"
      },
      "outputs": [
        {
          "output_type": "stream",
          "name": "stdout",
          "text": [
            "Using Comprehension:\n",
            "Nemo is swimming at 3 m/s\n",
            "Dory is swimming at 5 m/s\n",
            "강훈 is swimming at 10 m/s\n",
            "승순 is swimming at 15 m/s\n",
            "Using Generator:\n",
            "Nemo is swimmming at 3 m/s\n",
            "Dory is swimmming at 5 m/s\n",
            "강훈 is swimmming at 10 m/s\n",
            "승순 is swimmming at 15 m/s\n"
          ]
        }
      ],
      "source": [
        "# fish 리스트 생성 (테스트용으로 list 2개 더 추가)\n",
        "\n",
        "fish_list = [\n",
        "{\"이름\": \"Nemo\", \"speed\": 3}, # key = 이름 & speed\n",
        "{\"이름\": \"Dory\", \"speed\": 5},\n",
        "{\"이름\": \"강훈\", \"speed\": 10},\n",
        "{\"이름\": \"승순\", \"speed\": 15}\n",
        "]\n",
        "\n",
        "# 함수 생성\n",
        "## 컴프리헨션 함수 : 이름, 속도 조합\n",
        "# list comprehension\n",
        "def show_fish_movement_comprehension(fish_list):\n",
        "    # 리스트 컴프리헨션을 사용해 각 물고기의 움직임을 문자열로 만들고 리스트에 저장\n",
        "    movements = [f\"{fish['이름']} is swimming at {fish['speed']} m/s\" for fish in fish_list ] # 출력할 문장 생성해 변수에 list로 할당\n",
        "\n",
        "    # 생성된 움직임 리스트를 순회하며 각 움직임 출력\n",
        "    for movement in movements:  # list에서 값을 1개씩 출력\n",
        "      print(movement)\n",
        "\n",
        "\n",
        "## 제너레이터 함수 : for문 & yield 사용\n",
        "def show_fish_movement_generator(fish_list):\n",
        "  # 내부함수 (제너레이터) 정의\n",
        "  def generator_(fish_list):\n",
        "    # 각 물고기에 대해 이름과 속도를 tuple로 return\n",
        "    for fish in fish_list:\n",
        "      #yield f\"{fish['이름']} is swimming at {fish['speed']} m/s\"  # fstring 쓰고싶은 욕구의 미련을 못버림...ㅋㅋㅋ\n",
        "      yield (fish['이름'], fish['speed']) # 이름, speed를 각각 추출하여 tuple형태로 return\n",
        "\n",
        "  # 제너레이터 객체 생성\n",
        "  movements = generator_(fish_list)\n",
        "\n",
        "  # 제너레이터를 순회하며 각 움직임을 출력\n",
        "  for movement in movements:\n",
        "    print(f\"{movement[0]} is swimmming at {movement[1]} m/s\") # tuple형태의 값에서 indexing으로 접근\n",
        "    #print(movement)\n",
        "\n",
        "\n",
        "# 출력코드\n",
        "print(\"Using Comprehension:\")\n",
        "show_fish_movement_comprehension(fish_list)\n",
        "print(\"Using Generator:\")\n",
        "show_fish_movement_generator(fish_list)"
      ]
    },
    {
      "cell_type": "markdown",
      "source": [
        "### 문제 논의 과정\n",
        "\n",
        "1. 컴프리헨션 함수 만들기\n",
        "- 한번에 fstring으로 구현 완료\n",
        "\n",
        "2. 제너레이터 함수만들기\n",
        "- 한번에 fstring으로 구현하려 했으나 제너레이터만 생성이 되고 fstring의 값이 나오지 않음\n",
        "- 제너레이터 함수의 각각의 값을 출력하려면 데코레이터 개념을 적용해서 나눠서 접근했어야 함\n"
      ],
      "metadata": {
        "id": "njhyviJmrjsa"
      }
    },
    {
      "cell_type": "markdown",
      "source": [
        "#### generator 함수 1차 구현"
      ],
      "metadata": {
        "id": "Taok9KynRIvK"
      }
    },
    {
      "cell_type": "code",
      "source": [
        "## 제너레이터 함수 : for문 & yield 사용\n",
        "def show_fish_movement_generator(fish_list):\n",
        "  def generator_(fish_list):\n",
        "    for fish in fish_list:\n",
        "      yield (fish['이름'], fish['speed']) # 이름, speed를 각각 추출하여 tuple형태로 return\n",
        "  movements = generator_(fish_list)\n",
        "  for movement in movements:\n",
        "    print(f\"{movement[0]} is swimmming at {movement[1]} m/s\") # tuple형태의 값에서 indexing으로 접근\n",
        "\n",
        "  # show_fish_movement_generator가 generator 함수임을 확인하기 위한 시도\n",
        "  # for문이 끝나는 순간 마지막 값이 출력되어서 movement가 변수가 아닌 string이 되어버림\n",
        "  # 이때문에 next()는 제너레이터의 값을 출력하는 함수이므로 str 에러가 발생\n",
        "  print(next(f\"{movement[0]} is swimmming at {movement[1]} m/s\")) # 위의 for문에서 이미 모든 문자열을 출력해서 next로 추출할게 없어서 에러 발생\n",
        "\n",
        "print(\"Using Generator:\")\n",
        "show_fish_movement_generator(fish_list)"
      ],
      "metadata": {
        "id": "PWyWVsXms3hh",
        "colab": {
          "base_uri": "https://localhost:8080/",
          "height": 436
        },
        "outputId": "877ccca0-529d-4179-d9ac-6e8669444014"
      },
      "execution_count": 2,
      "outputs": [
        {
          "output_type": "stream",
          "name": "stdout",
          "text": [
            "Using Generator:\n",
            "Nemo is swimmming at 3 m/s\n",
            "Dory is swimmming at 5 m/s\n",
            "강훈 is swimmming at 10 m/s\n",
            "승순 is swimmming at 15 m/s\n"
          ]
        },
        {
          "output_type": "error",
          "ename": "TypeError",
          "evalue": "ignored",
          "traceback": [
            "\u001b[0;31m---------------------------------------------------------------------------\u001b[0m",
            "\u001b[0;31mTypeError\u001b[0m                                 Traceback (most recent call last)",
            "\u001b[0;32m<ipython-input-2-ea9ed3921cb9>\u001b[0m in \u001b[0;36m<cell line: 16>\u001b[0;34m()\u001b[0m\n\u001b[1;32m     14\u001b[0m \u001b[0;34m\u001b[0m\u001b[0m\n\u001b[1;32m     15\u001b[0m \u001b[0mprint\u001b[0m\u001b[0;34m(\u001b[0m\u001b[0;34m\"Using Generator:\"\u001b[0m\u001b[0;34m)\u001b[0m\u001b[0;34m\u001b[0m\u001b[0;34m\u001b[0m\u001b[0m\n\u001b[0;32m---> 16\u001b[0;31m \u001b[0mshow_fish_movement_generator\u001b[0m\u001b[0;34m(\u001b[0m\u001b[0mfish_list\u001b[0m\u001b[0;34m)\u001b[0m\u001b[0;34m\u001b[0m\u001b[0;34m\u001b[0m\u001b[0m\n\u001b[0m",
            "\u001b[0;32m<ipython-input-2-ea9ed3921cb9>\u001b[0m in \u001b[0;36mshow_fish_movement_generator\u001b[0;34m(fish_list)\u001b[0m\n\u001b[1;32m     11\u001b[0m   \u001b[0;31m# for문이 끝나는 순간 마지막 값이 출력되어서 movement가 변수가 아닌 string이 되어버림\u001b[0m\u001b[0;34m\u001b[0m\u001b[0;34m\u001b[0m\u001b[0m\n\u001b[1;32m     12\u001b[0m   \u001b[0;31m# 이때문에 next()는 제너레이터의 값을 출력하는 함수이므로 str 에러가 발생\u001b[0m\u001b[0;34m\u001b[0m\u001b[0;34m\u001b[0m\u001b[0m\n\u001b[0;32m---> 13\u001b[0;31m   \u001b[0mprint\u001b[0m\u001b[0;34m(\u001b[0m\u001b[0mnext\u001b[0m\u001b[0;34m(\u001b[0m\u001b[0;34mf\"{movement[0]} is swimmming at {movement[1]} m/s\"\u001b[0m\u001b[0;34m)\u001b[0m\u001b[0;34m)\u001b[0m \u001b[0;31m# 위의 for문에서 이미 모든 문자열을 출력해서 next로 추출할게 없어서 에러 발생\u001b[0m\u001b[0;34m\u001b[0m\u001b[0;34m\u001b[0m\u001b[0m\n\u001b[0m\u001b[1;32m     14\u001b[0m \u001b[0;34m\u001b[0m\u001b[0m\n\u001b[1;32m     15\u001b[0m \u001b[0mprint\u001b[0m\u001b[0;34m(\u001b[0m\u001b[0;34m\"Using Generator:\"\u001b[0m\u001b[0;34m)\u001b[0m\u001b[0;34m\u001b[0m\u001b[0;34m\u001b[0m\u001b[0m\n",
            "\u001b[0;31mTypeError\u001b[0m: 'str' object is not an iterator"
          ]
        }
      ]
    },
    {
      "cell_type": "markdown",
      "source": [
        "#### generator 함수 2차 구현\n",
        "- 미련을 버리지 못한 fstring의 길을 찾아서.."
      ],
      "metadata": {
        "id": "Jd4r2dvN71G3"
      }
    },
    {
      "cell_type": "code",
      "source": [
        "## 제너레이터 함수 : for문 & yield 사용\n",
        "def show_fish_movement_generator(fish_list):\n",
        "  def generator_(fish_list):\n",
        "    for fish in fish_list:\n",
        "      yield f\"{fish['이름']} is swimming at {fish['speed']} m/s\"  # 출력할 문장 미리 생성\n",
        "  movements = generator_(fish_list)\n",
        "  for movement in movements:\n",
        "    print(movement)\n",
        "  # show_fish_movement_generator가 generator 함수임을 확인하기 위한 시도\n",
        "  # for문이 끝나는 순간 마지막 값이 출력되어서 movement가 변수가 아닌 string이 되어버림\n",
        "  # 이때문에 next()는 제너레이터의 값을 출력하는 함수이므로 str 에러가 발생\n",
        "  print(next(movement)) # 위의 for문에서 이미 모든 문자열을 출력해서 next로 추출할게 없어서 에러 발생\n",
        "\n",
        "\n",
        "# 출력코드\n",
        "print(\"Using Generator:\")\n",
        "show_fish_movement_generator(fish_list)"
      ],
      "metadata": {
        "colab": {
          "base_uri": "https://localhost:8080/",
          "height": 436
        },
        "id": "jS_S2uXt7MKv",
        "outputId": "3ebbed7f-90f1-4ba6-fe6d-1a4e9c16b6f5"
      },
      "execution_count": 3,
      "outputs": [
        {
          "output_type": "stream",
          "name": "stdout",
          "text": [
            "Using Generator:\n",
            "Nemo is swimming at 3 m/s\n",
            "Dory is swimming at 5 m/s\n",
            "강훈 is swimming at 10 m/s\n",
            "승순 is swimming at 15 m/s\n"
          ]
        },
        {
          "output_type": "error",
          "ename": "TypeError",
          "evalue": "ignored",
          "traceback": [
            "\u001b[0;31m---------------------------------------------------------------------------\u001b[0m",
            "\u001b[0;31mTypeError\u001b[0m                                 Traceback (most recent call last)",
            "\u001b[0;32m<ipython-input-3-30833aa18b51>\u001b[0m in \u001b[0;36m<cell line: 17>\u001b[0;34m()\u001b[0m\n\u001b[1;32m     15\u001b[0m \u001b[0;31m# 출력코드\u001b[0m\u001b[0;34m\u001b[0m\u001b[0;34m\u001b[0m\u001b[0m\n\u001b[1;32m     16\u001b[0m \u001b[0mprint\u001b[0m\u001b[0;34m(\u001b[0m\u001b[0;34m\"Using Generator:\"\u001b[0m\u001b[0;34m)\u001b[0m\u001b[0;34m\u001b[0m\u001b[0;34m\u001b[0m\u001b[0m\n\u001b[0;32m---> 17\u001b[0;31m \u001b[0mshow_fish_movement_generator\u001b[0m\u001b[0;34m(\u001b[0m\u001b[0mfish_list\u001b[0m\u001b[0;34m)\u001b[0m\u001b[0;34m\u001b[0m\u001b[0;34m\u001b[0m\u001b[0m\n\u001b[0m",
            "\u001b[0;32m<ipython-input-3-30833aa18b51>\u001b[0m in \u001b[0;36mshow_fish_movement_generator\u001b[0;34m(fish_list)\u001b[0m\n\u001b[1;32m     10\u001b[0m   \u001b[0;31m# for문이 끝나는 순간 마지막 값이 출력되어서 movement가 변수가 아닌 string이 되어버림\u001b[0m\u001b[0;34m\u001b[0m\u001b[0;34m\u001b[0m\u001b[0m\n\u001b[1;32m     11\u001b[0m   \u001b[0;31m# 이때문에 next()는 제너레이터의 값을 출력하는 함수이므로 str 에러가 발생\u001b[0m\u001b[0;34m\u001b[0m\u001b[0;34m\u001b[0m\u001b[0m\n\u001b[0;32m---> 12\u001b[0;31m   \u001b[0mprint\u001b[0m\u001b[0;34m(\u001b[0m\u001b[0mnext\u001b[0m\u001b[0;34m(\u001b[0m\u001b[0mmovement\u001b[0m\u001b[0;34m)\u001b[0m\u001b[0;34m)\u001b[0m \u001b[0;31m# 위의 for문에서 이미 모든 문자열을 출력해서 next로 추출할게 없어서 에러 발생\u001b[0m\u001b[0;34m\u001b[0m\u001b[0;34m\u001b[0m\u001b[0m\n\u001b[0m\u001b[1;32m     13\u001b[0m \u001b[0;34m\u001b[0m\u001b[0m\n\u001b[1;32m     14\u001b[0m \u001b[0;34m\u001b[0m\u001b[0m\n",
            "\u001b[0;31mTypeError\u001b[0m: 'str' object is not an iterator"
          ]
        }
      ]
    },
    {
      "cell_type": "markdown",
      "source": [
        "## 추가 작업(최종답안지)\n",
        "\"물고기 객체의 움직임은 일정 시간 간격으로 반복되어야 합니다.\" 구현\n",
        "\n",
        "- '일정간격' 은 time 을 사용해서 구현\n",
        "- '반복' 은 for문을 사용해서 구현"
      ],
      "metadata": {
        "id": "FK3jwjHUBsuo"
      }
    },
    {
      "cell_type": "code",
      "source": [
        "import time # 일정'간격'을 구현할 모듈 -> sleep()함수로 지정한 만큼 코드 실행을 멈춘다.\n",
        "\n",
        "# fish 리스트 생성 (테스트용으로 list 2개 더 추가)\n",
        "fish_list = [\n",
        "{\"이름\": \"Nemo\", \"speed\": 3}, # key = 이름 & speed\n",
        "{\"이름\": \"Dory\", \"speed\": 5},\n",
        "{\"이름\": \"강훈\", \"speed\": 10},\n",
        "{\"이름\": \"승순\", \"speed\": 15}\n",
        "]\n",
        "\n",
        "# 함수 생성\n",
        "## 컴프리헨션 함수 : 이름, 속도 조합해서 return해야 함\n",
        "# list comprehension\n",
        "\"\"\"\n",
        "- 함수의 return값이 이름, 속도의 value를 조합해서 return되어야 한다.\n",
        "- 매개변수 : 문제에 제공된 dict와 함수의 반복실행을 위한 최소한의 횟수(repeat=3)을 지정\n",
        "  - repeat = 기본매개변수\n",
        "- for문으로 정해진 횟수(repeat)만큼 반복하면서 실행\n",
        "\"\"\"\n",
        "def show_fish_movement_comprehension(fish_list, repeat=3):\n",
        "  # 정해진 횟수만큼 반복\n",
        "  for num in range(repeat):\n",
        "\n",
        "    # 마지막 반복인경우와 아닌 경우를 각각 나눠서 진행상태 출력\n",
        "    if num == repeat -1:\n",
        "      print(\"마지막 반복입니다.\")\n",
        "    else:\n",
        "      print(f\"현재 {num+1}번째 반복을 실행중입니다.\")\n",
        "\n",
        "    # 출력할 문장을 list comprehension을 사용해 문장으로 만들어 movement에 할당\n",
        "    # movement에는 생성된 문장이 str으로 각각 list 형태로 담긴다. (fstring에 [] 를 둘러서 리스트화 시켰기 때문)\n",
        "    movements = [f\"{fish['이름']} is swimming at {fish['speed']} m/s\" for fish in fish_list ] # 출력할 문장 생성해 변수에 list로 할당\n",
        "    # iterable한 객체(movement)에 접근하여 순차적으로 한개씩 출력\n",
        "    for movement in movements:\n",
        "      print(movement)\n",
        "      time.sleep(2) # 문장 출력후 2초간 stop\n",
        "      print(\"time sleep 지정 for 2 sec\") # status 출력\n",
        "    print('='*60) # 경계선 출력\n",
        "\n",
        "\n",
        "## 제너레이터 함수 : for문 & yield 사용\n",
        "def show_fish_movement_generator(fish_list, repeat=3):\n",
        "  # comprehension 함수와 동일\n",
        "  for num in range(repeat):\n",
        "    if num == repeat -1:\n",
        "      print(\"마지막 반복입니다.\")\n",
        "    else:\n",
        "      print(f\"현재 {num+1}번째 반복을 실행중입니다.\")\n",
        "\n",
        "    # 제너레이터를 생성하는 함수(중첩함수)\n",
        "    # yield를 통해 fish_list라는 dict에서 이름과 speed를 출력해 tuple형태로 return\n",
        "    def generator_(fish_list):\n",
        "      for fish in fish_list:\n",
        "        #yield f\"{fish['이름']} is swimming at {fish['speed']} m/s\"  # fstring 쓰고싶은 욕구의 미련을 못버림...ㅋㅋㅋ\n",
        "        yield (fish['이름'], fish['speed']) # 이름, speed를 각각 추출하여 tuple형태로 return\n",
        "\n",
        "    # 중첩함수로 추출한 tuple 데이터를 movements에 할당\n",
        "    movements = generator_(fish_list)\n",
        "\n",
        "    # movements를 iteration하면서 tuple에서 물고기 이름과, speed를 Indexing해서 문장으로 생성하여 print\n",
        "    for movement in movements:\n",
        "      print(f\"{movement[0]} is swimmming at {movement[1]} m/s\") # tuple형태의 값에서 indexing으로 접근\n",
        "      #print(movement)\n",
        "    time.sleep(2)\n",
        "    print(\"time sleep 지정 for 2 sec\")\n",
        "\n",
        "\n",
        "# 출력코드(반복)\n",
        "print(\"Using Comprehension:\")\n",
        "show_fish_movement_comprehension(fish_list, 5)\n",
        "print(\"Using Generator:\")\n",
        "show_fish_movement_generator(fish_list)"
      ],
      "metadata": {
        "colab": {
          "base_uri": "https://localhost:8080/"
        },
        "id": "gNmVupjxButE",
        "outputId": "776f9970-d78a-464e-b6e9-c56d15b98bc5"
      },
      "execution_count": 7,
      "outputs": [
        {
          "output_type": "stream",
          "name": "stdout",
          "text": [
            "Using Comprehension:\n",
            "현재 1번째 반복을 실행중입니다.\n",
            "Nemo is swimming at 3 m/s\n",
            "time sleep 지정 for 2 sec\n",
            "Dory is swimming at 5 m/s\n",
            "time sleep 지정 for 2 sec\n",
            "강훈 is swimming at 10 m/s\n",
            "time sleep 지정 for 2 sec\n",
            "승순 is swimming at 15 m/s\n",
            "time sleep 지정 for 2 sec\n",
            "============================================================\n",
            "현재 2번째 반복을 실행중입니다.\n",
            "Nemo is swimming at 3 m/s\n",
            "time sleep 지정 for 2 sec\n",
            "Dory is swimming at 5 m/s\n",
            "time sleep 지정 for 2 sec\n",
            "강훈 is swimming at 10 m/s\n",
            "time sleep 지정 for 2 sec\n",
            "승순 is swimming at 15 m/s\n",
            "time sleep 지정 for 2 sec\n",
            "============================================================\n",
            "마지막 반복입니다.\n",
            "Nemo is swimming at 3 m/s\n",
            "time sleep 지정 for 2 sec\n",
            "Dory is swimming at 5 m/s\n",
            "time sleep 지정 for 2 sec\n",
            "강훈 is swimming at 10 m/s\n",
            "time sleep 지정 for 2 sec\n",
            "승순 is swimming at 15 m/s\n",
            "time sleep 지정 for 2 sec\n",
            "============================================================\n",
            "Using Generator:\n",
            "현재 1번째 반복을 실행중입니다.\n",
            "Nemo is swimmming at 3 m/s\n",
            "Dory is swimmming at 5 m/s\n",
            "강훈 is swimmming at 10 m/s\n",
            "승순 is swimmming at 15 m/s\n",
            "time sleep 지정 for 2 sec\n",
            "현재 2번째 반복을 실행중입니다.\n",
            "Nemo is swimmming at 3 m/s\n",
            "Dory is swimmming at 5 m/s\n",
            "강훈 is swimmming at 10 m/s\n",
            "승순 is swimmming at 15 m/s\n",
            "time sleep 지정 for 2 sec\n",
            "마지막 반복입니다.\n",
            "Nemo is swimmming at 3 m/s\n",
            "Dory is swimmming at 5 m/s\n",
            "강훈 is swimmming at 10 m/s\n",
            "승순 is swimmming at 15 m/s\n",
            "time sleep 지정 for 2 sec\n"
          ]
        }
      ]
    },
    {
      "cell_type": "markdown",
      "source": [
        "## 회고\n",
        "\n",
        "1. KEEP\n",
        "- 그동안 배운 개념을 잘 적용해서 문제풀이 계획을 세우고 풀었다.\n",
        "2. PROBLEM\n",
        "- fstring에 매몰되어서 제너레이터 함수의 yield값을 한번에 출력하려고 했다.\n",
        "- comprehension의 코드를 너무 그대로 이용하려고만 했다.\n",
        "- 제너레이터 함수때 데코레이터를 써먹지 못했다.(나중에 시도해보자)\n",
        "- 맨 마지막 조건을 보지 못하고 일정간격마다 반복이라는 문제해결을 늦게 했다.\n",
        "3. TRY\n",
        "- 제너레이터 함수에 대한 개념을 다시 정리(논의)했다.\n",
        "- 제너레이터 함수의 yield를 추출하기 위해 바인딩을 새로 하고 indexing으로 원하는 값을 추출했다.\n",
        "- 이 결과를 바탕으로 fstring을 써서 구현하는 것을 시도했다(미저리 탈출 성공😀)\n",
        "- 항상 문제의 요구사항을 모두 파악하고 문제를 이해한 이후에 접근하기\n",
        "- 데코레이터 사용해서 제너레이너 함수 구현 다시 시도해보기\n",
        "\n"
      ],
      "metadata": {
        "id": "ldZa0kiQ9krY"
      }
    }
  ]
}