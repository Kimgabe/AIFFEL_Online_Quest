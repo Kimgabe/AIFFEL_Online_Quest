{
  "nbformat": 4,
  "nbformat_minor": 0,
  "metadata": {
    "colab": {
      "provenance": [],
      "authorship_tag": "ABX9TyPamM+w6T6tap1RPSVej1Q2",
      "include_colab_link": true
    },
    "kernelspec": {
      "name": "python3",
      "display_name": "Python 3"
    },
    "language_info": {
      "name": "python"
    }
  },
  "cells": [
    {
      "cell_type": "markdown",
      "metadata": {
        "id": "view-in-github",
        "colab_type": "text"
      },
      "source": [
        "<a href=\"https://colab.research.google.com/github/hjhan1201/AIFFEL_Online_Quest/blob/main/ML_Practice3_scikit_learn.ipynb\" target=\"_parent\"><img src=\"https://colab.research.google.com/assets/colab-badge.svg\" alt=\"Open In Colab\"/></a>"
      ]
    },
    {
      "cell_type": "code",
      "execution_count": 23,
      "metadata": {
        "colab": {
          "base_uri": "https://localhost:8080/"
        },
        "id": "RdAxEfe0FPaJ",
        "outputId": "edf330db-9af9-4218-f786-b2679bef7c47"
      },
      "outputs": [
        {
          "output_type": "stream",
          "name": "stderr",
          "text": [
            "/usr/local/lib/python3.10/dist-packages/sklearn/preprocessing/_encoders.py:868: FutureWarning: `sparse` was renamed to `sparse_output` in version 1.2 and will be removed in 1.4. `sparse_output` is ignored unless you leave `sparse` to its default value.\n",
            "  warnings.warn(\n",
            "/usr/local/lib/python3.10/dist-packages/sklearn/preprocessing/_encoders.py:868: FutureWarning: `sparse` was renamed to `sparse_output` in version 1.2 and will be removed in 1.4. `sparse_output` is ignored unless you leave `sparse` to its default value.\n",
            "  warnings.warn(\n"
          ]
        },
        {
          "output_type": "execute_result",
          "data": {
            "text/plain": [
              "array([[ 1.54246993,  0.84887469, -0.57792049],\n",
              "       [ 0.94150762,  1.940285  ,  0.62237591],\n",
              "       [ 0.34054531, -1.33394594,  1.02247472],\n",
              "       [ 0.34054531, -1.33394594,  1.82267232],\n",
              "       [ 0.34054531,  0.84887469, -0.17782169],\n",
              "       [-0.260417  , -0.24253563,  0.22227711],\n",
              "       [-0.260417  , -0.24253563, -0.17782169],\n",
              "       [-0.86137931, -0.24253563, -1.3781181 ],\n",
              "       [-2.12340016, -0.24253563, -1.3781181 ]])"
            ]
          },
          "metadata": {},
          "execution_count": 23
        }
      ],
      "source": [
        "#사이킷런\n",
        "\n",
        "import pandas as pd\n",
        "import numpy as np\n",
        "data = pd.DataFrame({\n",
        "    '메뉴': ['[인기]아이펠치킨','닭강정','간장치킨','마늘치킨','파닭','승일양념치킨','양념반후라이드반','황금후라이드','[베스트]풀잎치킨'],\n",
        "    '가격': [16000,15000,14000,14000,14000,13000,13000,12000,9900],\n",
        "    '호수' : [11,12,9,9,11,10,10,10,10],\n",
        "    '칼로리' : [1200.0,1500.0,1600.0,1800.0,1300.0,1400.0,1300.0,1000.0,1000.0],\n",
        "    '할인율' : [0.5,0.2,0.2,0.2,0.2,0.2,0.2,0.2,np.nan],\n",
        "    '할인가' : [8000.0,12000.0,11200.0,11200.0,11200.0,10400.0,10400.0,9600.0,np.nan],\n",
        "    '원산지' : ['국내산','브라질','국내산','국내산','브라질','국내산','국내산','국내산','국내산'],\n",
        "    '살찔까요' : ['no','yes','yes','yes','yes','yes','yes','no','no'],\n",
        "    '고민' : ['무조건먹자','먹지말자','먹지말자','먹지말자','먹지말자','먹지말자','먹지말자','무조건먹자','무조건먹자']\n",
        "})\n",
        "data.to_csv('final_modudak.csv', index=False)\n",
        "data.loc[2,'원산지']='미국'\n",
        "df= data[['가격','호수','칼로리','원산지','살찔까요']].copy()\n",
        "\n",
        "#데이터 전처리_범주형 데이터\n",
        "#레이블인코딩(1,2,3)\n",
        "from sklearn.preprocessing import LabelEncoder\n",
        "le = LabelEncoder()\n",
        "le.fit(df['원산지'])\n",
        "le.transform(df['원산지'])\n",
        "le.fit_transform(df['원산지'])\n",
        "df['원산지'] = le.fit_transform(df['원산지'])\n",
        "df['살찔까요'] = le.fit_transform(df['살찔까요'])\n",
        "#여러개를 한번에 레이블인코딩\n",
        "#칼럼 선택하여 한번에 인코딩\n",
        "cols = ['원산지','살찔까요']\n",
        "for col in cols:\n",
        "  le = LabelEncoder()\n",
        "  df[col]=le.fit_transform(df[col])\n",
        "#object로 지정하여 인코딩\n",
        "cols= df.select_dtypes(include='object').columns\n",
        "for col in cols:\n",
        "  le = LabelEncoder()\n",
        "  df[col]=le.fit_transform(df[col])\n",
        "df\n",
        "\n",
        "#원핫인코딩(100,010,001)\n",
        "#데이터새로 불러옴\n",
        "df= data[['가격','호수','칼로리','원산지','살찔까요']].copy()\n",
        "#라이브러리 임포트\n",
        "from sklearn.preprocessing import OneHotEncoder\n",
        "ohe = OneHotEncoder(sparse=False)\n",
        "#인코딩\n",
        "cat = ohe.fit_transform(df[['원산지']])\n",
        "cat\n",
        "ohe.categories_\n",
        "ohe.get_feature_names_out()\n",
        "#칼럼추가\n",
        "df_cat = pd.DataFrame(cat, columns=ohe.get_feature_names_out())\n",
        "#데이터프레임 붙이기(합치기)\n",
        "df=pd.concat([df,df_cat],axis=1)\n",
        "df.drop(['원산지'],axis=1)\n",
        "#여러개 한번에 원핫인코딩\n",
        "df= data[['가격','호수','칼로리','원산지','살찔까요']].copy()\n",
        "cols = df.select_dtypes(include='object').columns\n",
        "ohe = OneHotEncoder(sparse=False)\n",
        "cat = ohe.fit_transform(df[cols])\n",
        "df_cat=pd.DataFrame(cat, columns=ohe.get_feature_names_out())\n",
        "df = pd.concat([df,df_cat],axis=1)\n",
        "df= df.drop(cols,axis=1)\n",
        "#판다스를 활용한 원핫인코딩\n",
        "df= data[['가격','호수','칼로리','원산지','살찔까요']].copy()\n",
        "pd.get_dummies(df)\n",
        "\n",
        "#수치형 데이터의 전처리\n",
        "#표준화\n",
        "from sklearn.preprocessing import  StandardScaler\n",
        "scaler= StandardScaler()\n",
        "scaler.fit_transform(df[['가격']])\n",
        "#왜 표준화 하냐? 단위가 달라서  1~16000 처럼 범위가 크니까\n",
        "#머신러닝이 이해하기 좋은 숫자로 변환해야 좋은 결과가 나온다고 함.\n",
        "cols = ['가격','호수','칼로리']\n",
        "df[cols] = scaler.fit_transform(df[cols])\n",
        "#민맥스(MIn-Max Scaler) #0~1 사이값으로\n",
        "from sklearn.preprocessing import  MinMaxScaler\n",
        "scaler= MinMaxScaler()"
      ]
    }
  ]
}