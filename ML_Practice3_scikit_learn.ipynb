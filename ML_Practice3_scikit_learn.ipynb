{
  "nbformat": 4,
  "nbformat_minor": 0,
  "metadata": {
    "colab": {
      "provenance": [],
      "authorship_tag": "ABX9TyMPwRg/GMKQe6/QKkAn2XC4",
      "include_colab_link": true
    },
    "kernelspec": {
      "name": "python3",
      "display_name": "Python 3"
    },
    "language_info": {
      "name": "python"
    }
  },
  "cells": [
    {
      "cell_type": "markdown",
      "metadata": {
        "id": "view-in-github",
        "colab_type": "text"
      },
      "source": [
        "<a href=\"https://colab.research.google.com/github/hjhan1201/AIFFEL_Online_Quest/blob/main/ML_Practice3_scikit_learn.ipynb\" target=\"_parent\"><img src=\"https://colab.research.google.com/assets/colab-badge.svg\" alt=\"Open In Colab\"/></a>"
      ]
    },
    {
      "cell_type": "code",
      "execution_count": 62,
      "metadata": {
        "colab": {
          "base_uri": "https://localhost:8080/"
        },
        "id": "RdAxEfe0FPaJ",
        "outputId": "a86e794e-e35c-42b5-b6e5-484a28646885"
      },
      "outputs": [
        {
          "output_type": "stream",
          "name": "stderr",
          "text": [
            "/usr/local/lib/python3.10/dist-packages/sklearn/preprocessing/_encoders.py:868: FutureWarning: `sparse` was renamed to `sparse_output` in version 1.2 and will be removed in 1.4. `sparse_output` is ignored unless you leave `sparse` to its default value.\n",
            "  warnings.warn(\n"
          ]
        },
        {
          "output_type": "execute_result",
          "data": {
            "text/plain": [
              "[array(['국내산', '미국', '브라질'], dtype=object)]"
            ]
          },
          "metadata": {},
          "execution_count": 62
        }
      ],
      "source": [
        "#사이킷런\n",
        "\n",
        "import pandas as pd\n",
        "import numpy as np\n",
        "data = pd.DataFrame({\n",
        "    '메뉴': ['[인기]아이펠치킨','닭강정','간장치킨','마늘치킨','파닭','승일양념치킨','양념반후라이드반','황금후라이드','[베스트]풀잎치킨'],\n",
        "    '가격': [16000,15000,14000,14000,14000,13000,13000,12000,9900],\n",
        "    '호수' : [11,12,9,9,11,10,10,10,10],\n",
        "    '칼로리' : [1200.0,1500.0,1600.0,1800.0,1300.0,1400.0,1300.0,1000.0,1000.0],\n",
        "    '할인율' : [0.5,0.2,0.2,0.2,0.2,0.2,0.2,0.2,np.nan],\n",
        "    '할인가' : [8000.0,12000.0,11200.0,11200.0,11200.0,10400.0,10400.0,9600.0,np.nan],\n",
        "    '원산지' : ['국내산','브라질','국내산','국내산','브라질','국내산','국내산','국내산','국내산'],\n",
        "    '살찔까요' : ['no','yes','yes','yes','yes','yes','yes','no','no'],\n",
        "    '고민' : ['무조건먹자','먹지말자','먹지말자','먹지말자','먹지말자','먹지말자','먹지말자','무조건먹자','무조건먹자']\n",
        "})\n",
        "data.to_csv('final_modudak.csv', index=False)\n",
        "data.loc[2,'원산지']='미국'\n",
        "df= data[['가격','호수','칼로리','원산지','살찔까요']].copy()\n",
        "\n",
        "#데이터 전처리_범주형 데이터\n",
        "#레이블인코딩(1,2,3)\n",
        "from sklearn.preprocessing import LabelEncoder\n",
        "le = LabelEncoder()\n",
        "le.fit(df['원산지'])\n",
        "le.transform(df['원산지'])\n",
        "le.fit_transform(df['원산지'])\n",
        "df['원산지'] = le.fit_transform(df['원산지'])\n",
        "df['살찔까요'] = le.fit_transform(df['살찔까요'])\n",
        "#여러개를 한번에 레이블인코딩\n",
        "#칼럼 선택하여 한번에 인코딩\n",
        "cols = ['원산지','살찔까요']\n",
        "for col in cols:\n",
        "  le = LabelEncoder()\n",
        "  df[col]=le.fit_transform(df[col])\n",
        "#object로 지정하여 인코딩\n",
        "cols= df.select_dtypes(include='object').columns\n",
        "for col in cols:\n",
        "  le = LabelEncoder()\n",
        "  df[col]=le.fit_transform(df[col])\n",
        "df\n",
        "\n",
        "#원핫인코딩(100,010,001)\n",
        "#데이터새로 불러옴\n",
        "df= data[['가격','호수','칼로리','원산지','살찔까요']].copy()\n",
        "#라이브러리 임포트\n",
        "from sklearn.preprocessing import OneHotEncoder\n",
        "ohe = OneHotEncoder(sparse=False)\n",
        "cat = ohe.fit_transform(df[['원산지']])\n",
        "#cat2 = ohe.fit_transform(df[['살찔까요']])\n",
        "cat\n",
        "ohe.categories_\n",
        "# ohe.get_feature_names_out()\n",
        "# df.cat = pd.DataFrame(cat, columns=ohe.get_feature_names_out())\n",
        "# #데이터프레임 붙이기(합치기)\n",
        "# ㅔㅇ.채ㅜㅊㅁㅅ"
      ]
    }
  ]
}