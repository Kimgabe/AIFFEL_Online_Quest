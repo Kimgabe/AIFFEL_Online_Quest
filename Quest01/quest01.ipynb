{
  "nbformat": 4,
  "nbformat_minor": 0,
  "metadata": {
    "colab": {
      "provenance": [],
      "authorship_tag": "ABX9TyN8G065CIC35jDSDEKJ/Mxl",
      "include_colab_link": true
    },
    "kernelspec": {
      "name": "python3",
      "display_name": "Python 3"
    },
    "language_info": {
      "name": "python"
    }
  },
  "cells": [
    {
      "cell_type": "markdown",
      "metadata": {
        "id": "view-in-github",
        "colab_type": "text"
      },
      "source": [
        "<a href=\"https://colab.research.google.com/github/Kimgabe/AIFFEL_Online_Quest/blob/main/Quest01/quest01.ipynb\" target=\"_parent\"><img src=\"https://colab.research.google.com/assets/colab-badge.svg\" alt=\"Open In Colab\"/></a>"
      ]
    },
    {
      "cell_type": "markdown",
      "source": [
        "# [퀘스트 1] 회문인지 아닌지 확인하는 프로그램\n",
        "\n",
        "- 회문 : 앞에서부터 읽어도 뒤에서부터 읽어도 같은 단어, 구, 문장, 숫자, 혹은 문단\n",
        "- 조건\n",
        "  - 단어를 입력받을 수 있게 한다.\n",
        "  - 입력된 단어를 뒤집어서 출력할 수 있게 한다.\n",
        "  - 입력된 단어가 회문이 맞는지 확인하여 출력할 수 있게 한다.\n",
        "  - 자료형, 제어문, 함수를 활용한다.\n",
        "\n",
        "\n",
        "  출력 예시\n",
        "  ===\n",
        "  입력값 :\n",
        "  우성우\n",
        "\n",
        "  출력값 :\n",
        "  뒤집한 단어는 : 우성우\n",
        "  입력된 단어는 회문입니다."
      ],
      "metadata": {
        "id": "NMei1-vuYnwp"
      }
    },
    {
      "cell_type": "markdown",
      "source": [
        "## 문제 풀이"
      ],
      "metadata": {
        "id": "JcALFlVYmcvu"
      }
    },
    {
      "cell_type": "code",
      "source": [
        "# 승순 풀이 아이디어\n",
        "\"\"\"\n",
        "- 입력받은 단어(word)을 전체 뒤집어서 새로운 변수(reversed_word)에 담는다\n",
        "- word와 reversed_word를 비교한다.\n",
        "- 둘이 같다면 회문, 다르면 비회문\n",
        "\"\"\"\n",
        "\n",
        "# word = input('회문을 판별할 문장을 입력하세요') # 단어/문장 입력받기\n",
        "word = '이상한 나라의 우영우'\n",
        "\n",
        "reversed_word = word[::-1] # 입력받은 문장을 전체 뒤집기\n",
        "\n",
        "# 뒤집힌 문장과 원문(word)를 비교해서 회문 여부 판별\n",
        "if word == reversed_word:\n",
        "  print('뒤집힌 단어는:', reversed_word, '입니다.')\n",
        "  print('입력된 단어는 회문입니다.')\n",
        "else:\n",
        "  print('뒤집힌 단어는:', reversed_word, '입니다.')\n",
        "  print('입력된 단어는 회문이 아닙니다.')"
      ],
      "metadata": {
        "colab": {
          "base_uri": "https://localhost:8080/"
        },
        "id": "uHHWoLOPZ4hX",
        "outputId": "2e6e90fa-260b-4a3a-948f-5944d295b531"
      },
      "execution_count": null,
      "outputs": [
        {
          "output_type": "stream",
          "name": "stdout",
          "text": [
            "뒤집힌 단어는: 우영우 의라나 한상이 입니다.\n",
            "입력된 단어는 회문이 아닙니다.\n"
          ]
        }
      ]
    },
    {
      "cell_type": "code",
      "source": [
        "# 승순 아이디어 함수로 만들기\n",
        "\n",
        "def check_palindrome(word):\n",
        "  word = word.lower() # 대소문자 상관없이 회문으로 만들기 위함\n",
        "  reversed_word = word[::-1] # 입력받은 문장을 전체 뒤집기\n",
        "\n",
        "  # 뒤집힌 문장과 원문(word)를 비교해서 회문 여부 판별\n",
        "  if word == reversed_word:\n",
        "    return('뒤집힌 단어는:', reversed_word, '입니다.')\n",
        "    return('입력된 단어는 회문입니다.')\n",
        "  else:\n",
        "    return('뒤집힌 단어는:', reversed_word, '입니다.')\n",
        "    return('입력된 단어는 회문이 아닙니다.')"
      ],
      "metadata": {
        "id": "tOIcAyIOmD64"
      },
      "execution_count": null,
      "outputs": []
    },
    {
      "cell_type": "code",
      "source": [
        "# 보겸님 풀이 아이디어\n",
        "\"\"\"\n",
        "- 입력받은 단어를 반으로 나눈다.\n",
        "- 두번재 반쪽을 뒤집는다.\n",
        "- 뒤집어진 반쪽(1)과 첫번재 반쪽(2)을 비교한다.\n",
        "- for문으로 각 문자 하나 하나를 비교\n",
        "- (1)과 (2)가 같다면 회문 , 아니면 비회문\n",
        "\"\"\"\n",
        "\n",
        "#word = input('회문을 판별할 문장을 입력하세요')\n",
        "word = '이상한 나라의 우영우'\n",
        "\n",
        "is_palindrome = True # 회문 여부 판별할 bool 변수 생성\n",
        "\n",
        "middle = len(word) // 2 # 입력받은 문장의 중간 지점 index 계산\n",
        "\n",
        "reversed_word = \"\" # 뒤집은 문자를 입력할 빈 변수 생성\n",
        "\n",
        "for i in range(middle):\n",
        "  \"\"\"\n",
        "  for loop으로 word에 대해 index를 0부터 순차적으로 증가하며 문자열 return\n",
        "  word[i] : word의 각 문자를 i부터 return (0, 1, 2,...)\n",
        "  word[-i -1] : word의 각 문자를 -i -1 번째 문자부터 return -> -1해야 에러가 안남(맨뒤의 idx는-1 이므로)\n",
        "  word[i] 는 앞부터 한글자씩, word[-i-1]은 뒤부터 한글자씩 middle의 위치까지 비교\n",
        "  둘이 같지 않은 경우에만 아래의 is_palindrome 값이 업데이트\n",
        "  \"\"\"\n",
        "  if word[i] != word[-i -1]:\n",
        "    is_palindrome = False\n",
        "    break  # is_palindrome 값이 변환되면 break (회문이 아닐경우만 if문이 성립 = 추가적인 비교 필요 없음)\n",
        "\n",
        "# 뒤집힌 단어 생성\n",
        "for i in range(len(word)):\n",
        "  reversed_word += word[-i -1]\n",
        "\n",
        "\n",
        "# is_palindrome 의 결과로 회문 여부 출력\n",
        "if is_palindrome: # is_palindrome이 True인 경우\n",
        "  print('뒤집힌 단어는:', reversed_word, '입니다.')\n",
        "  print('입력된 단어는 회문입니다.')\n",
        "else:\n",
        "  print('뒤집힌 단어는:', reversed_word, '입니다.')\n",
        "  print('입력된 단어는 회문이 아닙니다.')"
      ],
      "metadata": {
        "colab": {
          "base_uri": "https://localhost:8080/"
        },
        "id": "THm-m_7bcoWb",
        "outputId": "0617c2db-6c4b-421c-800c-05a0701d892a"
      },
      "execution_count": null,
      "outputs": [
        {
          "output_type": "stream",
          "name": "stdout",
          "text": [
            "뒤집힌 단어는: 우영우 의라나 한상이 입니다.\n",
            "입력된 단어는 회문이 아닙니다.\n"
          ]
        }
      ]
    },
    {
      "cell_type": "code",
      "source": [
        "# 보겸님 아이디어 함수화\n",
        "\n",
        "def check_palindrome2(word):\n",
        "  word = word.lower() # 대소문자 상관없이 회문으로 만들기 위함\n",
        "  is_palindrome = True # 회문 여부 판별할 bool 변수 생성\n",
        "\n",
        "  middle = len(word) // 2 # 입력받은 문장의 중간 지점 index 계산\n",
        "\n",
        "  reversed_word = \"\" # 뒤집은 문자를 입력할 빈 변수 생성\n",
        "\n",
        "  for i in range(middle):\n",
        "    \"\"\"\n",
        "    for loop으로 word에 대해 index를 0부터 순차적으로 증가하며 문자열 return\n",
        "    word[i] : word의 각 문자를 i부터 return (0, 1, 2,...)\n",
        "    word[-i -1] : word의 각 문자를 -i -1 번째 문자부터 return -> -1해야 에러가 안남(맨뒤의 idx는-1 이므로)\n",
        "    word[i] 는 앞부터 한글자씩, word[-i-1]은 뒤부터 한글자씩 middle의 위치까지 비교\n",
        "    둘이 같지 않은 경우에만 아래의 is_palindrome 값이 업데이트\n",
        "    \"\"\"\n",
        "    if word[i] != word[-i -1]:\n",
        "      is_palindrome = False\n",
        "      break  # is_palindrome 값이 변환되면 break (회문이 아닐경우만 if문이 성립 = 추가적인 비교 필요 없음)\n",
        "\n",
        "  # 뒤집힌 단어 생성\n",
        "  for i in range(len(word)):\n",
        "    reversed_word += word[-i -1]\n",
        "\n",
        "\n",
        "  # is_palindrome 의 결과로 회문 여부 출력\n",
        "  if word == reversed_word:\n",
        "    return('뒤집힌 단어는:', reversed_word, '입니다.')\n",
        "    return('입력된 단어는 회문입니다.')\n",
        "  else:\n",
        "    return('뒤집힌 단어는:', reversed_word, '입니다.')\n",
        "    return('입력된 단어는 회문이 아닙니다.')"
      ],
      "metadata": {
        "id": "c7wnz05aaD-q"
      },
      "execution_count": null,
      "outputs": []
    },
    {
      "cell_type": "markdown",
      "source": [
        "## 다양한 예제로 코드 검증"
      ],
      "metadata": {
        "id": "KMGQXxhUmgIJ"
      }
    },
    {
      "cell_type": "code",
      "source": [
        "# 회문 샘플\n",
        "palindromes = {\n",
        "    \"한글단어1\": \"기러기\",\n",
        "    \"한글단어2\": \"토마토\",\n",
        "    \"영어단어1\": \"deified\",\n",
        "    \"영어단어2\": \"civic\",\n",
        "    \"한글문장\": \"소주 만병만 주소\",\n",
        "    \"영어문장\": \"A man, a plan, a canal, Panama\"\n",
        "}\n",
        "\n",
        "# 비회문 샘플\n",
        "non_palindromes = {\n",
        "    \"한글단어1\": \"컴퓨터\",\n",
        "    \"한글단어2\": \"스마트폰\",\n",
        "    \"영어단어1\": \"computer\",\n",
        "    \"영어단어2\": \"smartphone\",\n",
        "    \"한글문장\": \"이것은 회문이 아닙니다\",\n",
        "    \"영어문장\": \"This is not a palindrome\"\n",
        "}\n",
        "\n",
        "\n",
        "# 두 함수에 대한 결과를 for문으로 확인\n",
        "for key, sentence in {**palindromes, **non_palindromes}.items():\n",
        "    result1 = check_palindrome(sentence)\n",
        "    result2 = check_palindrome2(sentence)\n",
        "    print(f\"{key}에 대한 is_palindrome 결과:\\n{result1}\\n\")\n",
        "    print('='*60)\n",
        "    print(f\"{key}에 대한 is_palindrome2 결과:\\n{result2}\\n\")"
      ],
      "metadata": {
        "colab": {
          "base_uri": "https://localhost:8080/"
        },
        "id": "h_hRjPBrmauf",
        "outputId": "96c49bb3-4a3e-45ae-8520-c35cce9d42d8"
      },
      "execution_count": null,
      "outputs": [
        {
          "output_type": "stream",
          "name": "stdout",
          "text": [
            "한글단어1에 대한 is_palindrome 결과:\n",
            "('뒤집힌 단어는:', '터퓨컴', '입니다.')\n",
            "\n",
            "============================================================\n",
            "한글단어1에 대한 is_palindrome2 결과:\n",
            "('뒤집힌 단어는:', '터퓨컴', '입니다.')\n",
            "\n",
            "한글단어2에 대한 is_palindrome 결과:\n",
            "('뒤집힌 단어는:', '폰트마스', '입니다.')\n",
            "\n",
            "============================================================\n",
            "한글단어2에 대한 is_palindrome2 결과:\n",
            "('뒤집힌 단어는:', '폰트마스', '입니다.')\n",
            "\n",
            "영어단어1에 대한 is_palindrome 결과:\n",
            "('뒤집힌 단어는:', 'retupmoc', '입니다.')\n",
            "\n",
            "============================================================\n",
            "영어단어1에 대한 is_palindrome2 결과:\n",
            "('뒤집힌 단어는:', 'retupmoc', '입니다.')\n",
            "\n",
            "영어단어2에 대한 is_palindrome 결과:\n",
            "('뒤집힌 단어는:', 'enohptrams', '입니다.')\n",
            "\n",
            "============================================================\n",
            "영어단어2에 대한 is_palindrome2 결과:\n",
            "('뒤집힌 단어는:', 'enohptrams', '입니다.')\n",
            "\n",
            "한글문장에 대한 is_palindrome 결과:\n",
            "('뒤집힌 단어는:', '다니닙아 이문회 은것이', '입니다.')\n",
            "\n",
            "============================================================\n",
            "한글문장에 대한 is_palindrome2 결과:\n",
            "('뒤집힌 단어는:', '다니닙아 이문회 은것이', '입니다.')\n",
            "\n",
            "영어문장에 대한 is_palindrome 결과:\n",
            "('뒤집힌 단어는:', 'emordnilap a ton si siht', '입니다.')\n",
            "\n",
            "============================================================\n",
            "영어문장에 대한 is_palindrome2 결과:\n",
            "('뒤집힌 단어는:', 'emordnilap a ton si siht', '입니다.')\n",
            "\n"
          ]
        }
      ]
    },
    {
      "cell_type": "code",
      "source": [],
      "metadata": {
        "id": "sPbE6N9Do0g5"
      },
      "execution_count": null,
      "outputs": []
    }
  ]
}