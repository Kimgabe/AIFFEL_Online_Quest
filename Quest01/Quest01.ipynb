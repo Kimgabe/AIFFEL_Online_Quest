{
  "cells": [
    {
      "cell_type": "markdown",
      "metadata": {
        "colab_type": "text",
        "id": "view-in-github"
      },
      "source": [
        "<a href=\"https://colab.research.google.com/github/Kimgabe/AIFFEL_Online_Quest/blob/main/Quest01/Quest01.ipynb\" target=\"_parent\"><img src=\"https://colab.research.google.com/assets/colab-badge.svg\" alt=\"Open In Colab\"/></a>\n"
      ]
    },
    {
      "cell_type": "markdown",
      "metadata": {
        "id": "NMei1-vuYnwp"
      },
      "source": [
        "# [퀘스트 1] 회문인지 아닌지 확인하는 프로그램\n",
        "\n",
        "- 회문 : 앞에서부터 읽어도 뒤에서부터 읽어도 같은 단어, 구, 문장, 숫자, 혹은 문단\n",
        "- 조건\n",
        "\n",
        "  - 단어를 입력받을 수 있게 한다.\n",
        "  - 입력된 단어를 뒤집어서 출력할 수 있게 한다.\n",
        "  - 입력된 단어가 회문이 맞는지 확인하여 출력할 수 있게 한다.\n",
        "  - 자료형, 제어문, 함수를 활용한다.\n",
        "\n",
        "  # 출력 예시\n",
        "\n",
        "  입력값 :\n",
        "  우성우\n",
        "\n",
        "  출력값 :\n",
        "  뒤집한 단어는 : 우성우\n",
        "  입력된 단어는 회문입니다.\n"
      ]
    },
    {
      "cell_type": "markdown",
      "metadata": {
        "id": "JcALFlVYmcvu"
      },
      "source": [
        "## 문제 풀이\n"
      ]
    },
    {
      "cell_type": "markdown",
      "metadata": {
        "id": "L9eUqf3prCJ7"
      },
      "source": [
        "## 승순 풀이 아이디어\n",
        "\n",
        "- 입력받은 단어(word)을 전체 뒤집어서 새로운 변수(reversed_word)에 담는다\n",
        "- word와 reversed_word를 비교한다.\n",
        "- 둘이 같다면 회문, 다르면 비회문\n",
        "\n",
        "reversed_word를 한번에 잘 만들어서 시행착오가 없었...🫡\n"
      ]
    },
    {
      "cell_type": "code",
      "execution_count": 6,
      "metadata": {
        "colab": {
          "base_uri": "https://localhost:8080/"
        },
        "id": "uHHWoLOPZ4hX",
        "outputId": "bc0a965c-7788-49af-b7d8-7b847a592970"
      },
      "outputs": [
        {
          "name": "stdout",
          "output_type": "stream",
          "text": [
            "회문을 판별할 문장을 입력하세요이상한 나라의 우영우\n",
            "뒤집힌 단어는: 우영우 의라나 한상이 입니다.\n",
            "입력된 단어는 회문이 아닙니다.\n"
          ]
        }
      ],
      "source": [
        "word = input('회문을 판별할 문장을 입력하세요') # 단어/문장 입력받기\n",
        "#word = '이상한 나라의 우영우' # 바로 바로 테스트 위해 input말고 입력된 문장 사용\n",
        "\n",
        "reversed_word = word[::-1] # 입력받은 문장을 전체 뒤집기\n",
        "\n",
        "# 뒤집힌 문장과 원문(word)를 비교해서 회문 여부 판별\n",
        "if word == reversed_word:\n",
        "  print('뒤집힌 단어는:', reversed_word, '입니다.')\n",
        "  print('입력된 단어는 회문입니다.')\n",
        "else:\n",
        "  print('뒤집힌 단어는:', reversed_word, '입니다.')\n",
        "  print('입력된 단어는 회문이 아닙니다.')"
      ]
    },
    {
      "cell_type": "markdown",
      "metadata": {
        "id": "rxkKawOsrZKa"
      },
      "source": [
        "## 보겸님 풀이 아이디어\n",
        "\n",
        "- 입력받은 단어를 반으로 나눈다.\n",
        "- 두번재 반쪽을 뒤집는다.\n",
        "- 뒤집어진 반쪽(1)과 첫번재 반쪽(2)을 비교한다.\n",
        "- for문으로 각 문자 하나 하나를 비교\n",
        "- (1)과 (2)가 같다면 회문 , 아니면 비회문\n"
      ]
    },
    {
      "cell_type": "markdown",
      "metadata": {
        "id": "tsoTNsA-rtT0"
      },
      "source": [
        "### 시행착오들\n"
      ]
    },
    {
      "cell_type": "markdown",
      "metadata": {
        "id": "Ctczt4bTsTP-"
      },
      "source": [
        "- 입력받은 글자수를 각각 일단 카운트 해봐야겠다.\n"
      ]
    },
    {
      "cell_type": "code",
      "execution_count": 8,
      "metadata": {
        "colab": {
          "base_uri": "https://localhost:8080/"
        },
        "id": "_NrYSh4LsJYO",
        "outputId": "2d475ae6-a75d-4814-bc38-d06bd0317a4a"
      },
      "outputs": [
        {
          "name": "stdout",
          "output_type": "stream",
          "text": [
            "이상한: 3 글자\n",
            "나라의: 3 글자\n",
            "우영우: 3 글자\n"
          ]
        }
      ],
      "source": [
        "\n",
        "\n",
        "# 입력된 문장을 공백을 기준으로 단어로 분리\n",
        "sentence = '이상한 나라의 우영우'\n",
        "\n",
        "words = sentence.split()\n",
        "\n",
        "# 각 단어의 길이를 카운트하고 출력합니다.\n",
        "for word in words:\n",
        "    word_length = len(word)\n",
        "    print(f\"{word}: {word_length} 글자\")"
      ]
    },
    {
      "cell_type": "markdown",
      "metadata": {
        "id": "z0SYFIuMsb9d"
      },
      "source": [
        "- 입력받은 word의 문장의 길이를 반으로 나누는 것을 어떻게 할 것인가?\n",
        "- len으로 문자열 길이를 출력하고, 몫 개념을 이용해서 중간 값을 찾는다.\n"
      ]
    },
    {
      "cell_type": "code",
      "execution_count": 12,
      "metadata": {
        "colab": {
          "base_uri": "https://localhost:8080/",
          "height": 35
        },
        "id": "wYL68scKsYPd",
        "outputId": "e276f736-0bf3-41d3-8bff-54c80c2e19d6"
      },
      "outputs": [
        {
          "data": {
            "text/plain": [
              "5"
            ]
          },
          "metadata": {},
          "output_type": "display_data"
        }
      ],
      "source": [
        "word = '이상한 나라의 우영우'\n",
        "\n",
        "# 결과를 저장할 빈 리스트를 생성\n",
        "answer = []\n",
        "\n",
        "# len(word) : 단어 길이 계산\n",
        "# //2 는 반으로 나눈 것의 몫 = 문장의 중간 idx\n",
        "middle = len(word) //2\n",
        "display(middle)\n",
        "\n"
      ]
    },
    {
      "cell_type": "markdown",
      "metadata": {
        "id": "9J1Wgc19teSK"
      },
      "source": [
        "- 반으로 나눌 index의 위치는 구했는데.. 이걸로 어떻게 문장을 2개로 나누지?\n",
        "- 문자열 인덱싱을 써서 나눠야 할것 같다.\n"
      ]
    },
    {
      "cell_type": "code",
      "execution_count": 13,
      "metadata": {
        "colab": {
          "base_uri": "https://localhost:8080/"
        },
        "id": "XUs-Extfsaca",
        "outputId": "c5450f8b-f7bb-41e2-a173-256edb9aebe0"
      },
      "outputs": [
        {
          "name": "stdout",
          "output_type": "stream",
          "text": [
            "이상한 나\n",
            "의 우영우\n"
          ]
        }
      ],
      "source": [
        "word = '이상한 나라의 우영우'\n",
        "\n",
        "middle = len(word) //2\n",
        "\n",
        "front_word = word[:middle]\n",
        "back_word = word[-middle:]\n",
        "\n",
        "print(front_word)\n",
        "print(back_word)"
      ]
    },
    {
      "cell_type": "markdown",
      "metadata": {
        "id": "rKY2YUHavbjw"
      },
      "source": [
        "- '라' 가 빠진다. 문자길이가 홀수인 경우 중간값을 미처 카운드 못하는 것 같다.\n",
        "- 홀수인 경우를 고려해야 한다고 생각했는데, 생각해보니 middle을 제외하고 좌우 대칭으로 비교하는 것이라 굳이 고려할 필요 없다.\n",
        "\n",
        "- 뒤집어진 반쪽과 원문의 앞쪽반쪽을 한글자씩 비교하는걸 구현해야 한다.\n",
        "- for문과 indexing을 사용해서 구현이 가능할 것 같다.\n"
      ]
    },
    {
      "cell_type": "code",
      "execution_count": 18,
      "metadata": {
        "colab": {
          "base_uri": "https://localhost:8080/"
        },
        "id": "jZDsVqHQsaeh",
        "outputId": "2cc0bf33-d07f-4a21-8fb1-54f0a194cbd4"
      },
      "outputs": [
        {
          "name": "stdout",
          "output_type": "stream",
          "text": [
            "이 우\n",
            "상 영\n",
            "한 우\n",
            "나 의\n"
          ]
        }
      ],
      "source": [
        "word = '이상한 나라의 우영우'\n",
        "\n",
        "middle = len(word) //2\n",
        "\n",
        "for i in range(middle):\n",
        "  if word[i] != word[-i -1]:  # middle기준 앞쪽 반과 뒤쪽반을 뒤집은것을 각각 한글자씩 추출해서 비교\n",
        "    print(word[i], word[-i -1])"
      ]
    },
    {
      "cell_type": "markdown",
      "metadata": {
        "id": "Y36PNpFxxB-9"
      },
      "source": [
        "- 한글자씩 비교가 되는것 같다.\n",
        "- 두 글자가 다른 경우와 같은 경우에 대해 어떻게 처리할지를 지정해줘야 할거같다.\n",
        "- 둘이 같으면 회문, 다르면 비회문이므로 bool을 쓰면 어떨까?\n",
        "  - bool을 쓰려면 사전에 bool 변수를 만들어 두고, 비교결과에 따라 업데이트를 해야 할것 같다.\n"
      ]
    },
    {
      "cell_type": "code",
      "execution_count": 20,
      "metadata": {
        "colab": {
          "base_uri": "https://localhost:8080/"
        },
        "id": "6zwaXTmbsag3",
        "outputId": "c5e143ec-3565-4cf3-dafa-d5340920659a"
      },
      "outputs": [
        {
          "data": {
            "text/plain": [
              "False"
            ]
          },
          "execution_count": 20,
          "metadata": {},
          "output_type": "execute_result"
        }
      ],
      "source": [
        "word = '이상한 나라의 우영우'\n",
        "\n",
        "is_palindrome = True # 회문 여부 판별할 bool 변수 생성\n",
        "\n",
        "middle = len(word) // 2 # 입력받은 문장의 중간 지점 index 계산\n",
        "\n",
        "for i in range(middle):\n",
        "  if word[i] != word[-i -1]:\n",
        "    is_palindrome = False\n",
        "    break  # is_palindrome 값이 변환되면 break (회문이 아닐경우만 if문이 성립 = 추가적인 비교 필요 없음)\n",
        "\n",
        "is_palindrome # 모든 글자가 다르다 보니 바로 break가 뜨는 듯"
      ]
    },
    {
      "cell_type": "code",
      "execution_count": 22,
      "metadata": {
        "colab": {
          "base_uri": "https://localhost:8080/"
        },
        "id": "7J-PM2-Isai4",
        "outputId": "d5bb62da-5d35-40df-a70e-8d518de9320f"
      },
      "outputs": [
        {
          "data": {
            "text/plain": [
              "True"
            ]
          },
          "execution_count": 22,
          "metadata": {},
          "output_type": "execute_result"
        }
      ],
      "source": [
        "word = '우영우'\n",
        "\n",
        "is_palindrome = True # 회문 여부 판별할 bool 변수 생성\n",
        "\n",
        "middle = len(word) // 2 # 입력받은 문장의 중간 지점 index 계산\n",
        "\n",
        "for i in range(middle):\n",
        "  if word[i] != word[-i -1]:\n",
        "    is_palindrome = False\n",
        "    break  # is_palindrome 값이 변환되면 break (회문이 아닐경우만 if문이 성립 = 추가적인 비교 필요 없음)\n",
        "\n",
        "is_palindrome # 회문이어서 True가 뜬다."
      ]
    },
    {
      "cell_type": "markdown",
      "metadata": {
        "id": "7ZmlC5ytyIN4"
      },
      "source": [
        "- 출력문에 원문을 뒤집은 문장이 출력되어야 해서 뒤집힌 단어를 생성하는 코드를 추가해야 한다.\n"
      ]
    },
    {
      "cell_type": "code",
      "execution_count": 23,
      "metadata": {
        "colab": {
          "base_uri": "https://localhost:8080/"
        },
        "id": "UELj5IQ-sak9",
        "outputId": "28d7f46b-5452-4463-f379-33b11fbdf8f0"
      },
      "outputs": [
        {
          "name": "stdout",
          "output_type": "stream",
          "text": [
            "우영우우영우\n"
          ]
        }
      ],
      "source": [
        "word = '우영우'\n",
        "\n",
        "is_palindrome = True # 회문 여부 판별할 bool 변수 생성\n",
        "\n",
        "middle = len(word) // 2 # 입력받은 문장의 중간 지점 index 계산\n",
        "\n",
        "reversed_word = \"\" # 뒤집은 문장 들어갈 함수 초기화\n",
        "\n",
        "for i in range(middle):\n",
        "  if word[i] != word[-i -1]:\n",
        "    is_palindrome = False\n",
        "    break  # is_palindrome 값이 변환되면 break (회문이 아닐경우만 if문이 성립 = 추가적인 비교 필요 없음)\n",
        "\n",
        "is_palindrome # 회문이어서 True가 뜬다.\n",
        "\n",
        "# 뒤집힌 단어 생성\n",
        "for i in range(len(word)):\n",
        "  reversed_word += word[-i -1]\n",
        "\n",
        "print(reversed_word)"
      ]
    },
    {
      "cell_type": "code",
      "execution_count": 7,
      "metadata": {
        "colab": {
          "base_uri": "https://localhost:8080/"
        },
        "id": "THm-m_7bcoWb",
        "outputId": "e0b91fb2-6b0f-4de7-a81f-83ddd91f9d85"
      },
      "outputs": [
        {
          "name": "stdout",
          "output_type": "stream",
          "text": [
            "회문을 판별할 문장을 입력하세요우영우\n",
            "뒤집힌 단어는: 우영우 입니다.\n",
            "입력된 단어는 회문입니다.\n"
          ]
        }
      ],
      "source": [
        "word = input('회문을 판별할 문장을 입력하세요') # 단어/문장 입력받기\n",
        "# # 바로 바로 테스트 위해 input말고 입력된 문장 사용\n",
        "\n",
        "is_palindrome = True # 회문 여부 판별할 bool 변수 생성\n",
        "\n",
        "middle = len(word) // 2 # 입력받은 문장의 중간 지점 index 계산\n",
        "\n",
        "reversed_word = \"\" # 뒤집은 문자를 입력할 빈 변수 생성\n",
        "\n",
        "for i in range(middle):\n",
        "  \"\"\"\n",
        "  for loop으로 word에 대해 index를 0부터 순차적으로 증가하며 문자열 return\n",
        "  word[i] : word의 각 문자를 i부터 return (0, 1, 2,...)\n",
        "  word[-i -1] : word의 각 문자를 -i -1 번째 문자부터 return -> -1해야 에러가 안남(맨뒤의 idx는-1 이므로)\n",
        "  word[i] 는 앞부터 한글자씩, word[-i-1]은 뒤부터 한글자씩 middle의 위치까지 비교\n",
        "  둘이 같지 않은 경우에만 아래의 is_palindrome 값이 업데이트\n",
        "  \"\"\"\n",
        "  if word[i] != word[-i -1]:\n",
        "    is_palindrome = False\n",
        "    break  # is_palindrome 값이 변환되면 break (회문이 아닐경우만 if문이 성립 = 추가적인 비교 필요 없음)\n",
        "\n",
        "# 뒤집힌 단어 생성\n",
        "for i in range(len(word)):\n",
        "  reversed_word += word[-i -1]\n",
        "\n",
        "\n",
        "# is_palindrome 의 결과로 회문 여부 출력\n",
        "if is_palindrome: # is_palindrome이 True인 경우\n",
        "  print('뒤집힌 단어는:', reversed_word, '입니다.')\n",
        "  print('입력된 단어는 회문입니다.')\n",
        "else:\n",
        "  print('뒤집힌 단어는:', reversed_word, '입니다.')\n",
        "  print('입력된 단어는 회문이 아닙니다.')"
      ]
    },
    {
      "cell_type": "markdown",
      "metadata": {
        "id": "pwmGvB0ysBVS"
      },
      "source": [
        "# 생성한 코드 작동 여부 일괄 테스트\n",
        "\n",
        "## 함수화\n"
      ]
    },
    {
      "cell_type": "code",
      "execution_count": 2,
      "metadata": {
        "id": "tOIcAyIOmD64"
      },
      "outputs": [],
      "source": [
        "# 승순 아이디어 함수로 만들기 (맨 밑에 일괄 테스트용)\n",
        "\n",
        "def check_palindrome(word):\n",
        "  word = word.lower() # 대소문자 상관없이 회문으로 만들기 위함\n",
        "  reversed_word = word[::-1] # 입력받은 문장을 전체 뒤집기\n",
        "\n",
        "  # 뒤집힌 문장과 원문(word)를 비교해서 회문 여부 판별\n",
        "  if word == reversed_word:\n",
        "    return('뒤집힌 단어는:', reversed_word, '입니다.')\n",
        "    return('입력된 단어는 회문입니다.')\n",
        "  else:\n",
        "    return('뒤집힌 단어는:', reversed_word, '입니다.')\n",
        "    return('입력된 단어는 회문이 아닙니다.')"
      ]
    },
    {
      "cell_type": "code",
      "execution_count": 4,
      "metadata": {
        "id": "c7wnz05aaD-q"
      },
      "outputs": [],
      "source": [
        "# 보겸님 아이디어 함수화 (맨 밑에 일괄 테스트용)\n",
        "\n",
        "def check_palindrome2():\n",
        "  word = word.lower() # 대소문자 상관없이 회문으로 만들기 위함\n",
        "  is_palindrome = True # 회문 여부 판별할 bool 변수 생성\n",
        "\n",
        "  middle = len(word) // 2 # 입력받은 문장의 중간 지점 index 계산\n",
        "\n",
        "  reversed_word = \"\" # 뒤집은 문자를 입력할 빈 변수 생성\n",
        "\n",
        "  for i in range(middle):\n",
        "    \"\"\"\n",
        "    for loop으로 word에 대해 index를 0부터 순차적으로 증가하며 문자열 return\n",
        "    word[i] : word의 각 문자를 i부터 return (0, 1, 2,...)\n",
        "    word[-i -1] : word의 각 문자를 -i -1 번째 문자부터 return -> -1해야 에러가 안남(맨뒤의 idx는-1 이므로)\n",
        "    word[i] 는 앞부터 한글자씩, word[-i-1]은 뒤부터 한글자씩 middle의 위치까지 비교\n",
        "    둘이 같지 않은 경우에만 아래의 is_palindrome 값이 업데이트\n",
        "    \"\"\"\n",
        "    if word[i] != word[-i -1]:\n",
        "      is_palindrome = False\n",
        "      break  # is_palindrome 값이 변환되면 break (회문이 아닐경우만 if문이 성립 = 추가적인 비교 필요 없음)\n",
        "\n",
        "  # 뒤집힌 단어 생성\n",
        "  for i in range(len(word)):\n",
        "    reversed_word += word[-i -1]\n",
        "\n",
        "\n",
        "  # is_palindrome 의 결과로 회문 여부 출력\n",
        "  if word == reversed_word:\n",
        "    return('뒤집힌 단어는:', reversed_word, '입니다.')\n",
        "    return('입력된 단어는 회문입니다.')\n",
        "  else:\n",
        "    return('뒤집힌 단어는:', reversed_word, '입니다.')\n",
        "    return('입력된 단어는 회문이 아닙니다.')"
      ]
    },
    {
      "cell_type": "markdown",
      "metadata": {
        "id": "KMGQXxhUmgIJ"
      },
      "source": [
        "## 다양한 예제로 코드 검증\n"
      ]
    },
    {
      "cell_type": "code",
      "execution_count": 5,
      "metadata": {
        "colab": {
          "base_uri": "https://localhost:8080/"
        },
        "id": "h_hRjPBrmauf",
        "outputId": "96c49bb3-4a3e-45ae-8520-c35cce9d42d8"
      },
      "outputs": [
        {
          "name": "stdout",
          "output_type": "stream",
          "text": [
            "한글단어1에 대한 is_palindrome 결과:\n",
            "('뒤집힌 단어는:', '터퓨컴', '입니다.')\n",
            "\n",
            "============================================================\n",
            "한글단어1에 대한 is_palindrome2 결과:\n",
            "('뒤집힌 단어는:', '터퓨컴', '입니다.')\n",
            "\n",
            "한글단어2에 대한 is_palindrome 결과:\n",
            "('뒤집힌 단어는:', '폰트마스', '입니다.')\n",
            "\n",
            "============================================================\n",
            "한글단어2에 대한 is_palindrome2 결과:\n",
            "('뒤집힌 단어는:', '폰트마스', '입니다.')\n",
            "\n",
            "영어단어1에 대한 is_palindrome 결과:\n",
            "('뒤집힌 단어는:', 'retupmoc', '입니다.')\n",
            "\n",
            "============================================================\n",
            "영어단어1에 대한 is_palindrome2 결과:\n",
            "('뒤집힌 단어는:', 'retupmoc', '입니다.')\n",
            "\n",
            "영어단어2에 대한 is_palindrome 결과:\n",
            "('뒤집힌 단어는:', 'enohptrams', '입니다.')\n",
            "\n",
            "============================================================\n",
            "영어단어2에 대한 is_palindrome2 결과:\n",
            "('뒤집힌 단어는:', 'enohptrams', '입니다.')\n",
            "\n",
            "한글문장에 대한 is_palindrome 결과:\n",
            "('뒤집힌 단어는:', '다니닙아 이문회 은것이', '입니다.')\n",
            "\n",
            "============================================================\n",
            "한글문장에 대한 is_palindrome2 결과:\n",
            "('뒤집힌 단어는:', '다니닙아 이문회 은것이', '입니다.')\n",
            "\n",
            "영어문장에 대한 is_palindrome 결과:\n",
            "('뒤집힌 단어는:', 'emordnilap a ton si siht', '입니다.')\n",
            "\n",
            "============================================================\n",
            "영어문장에 대한 is_palindrome2 결과:\n",
            "('뒤집힌 단어는:', 'emordnilap a ton si siht', '입니다.')\n",
            "\n"
          ]
        }
      ],
      "source": [
        "# 회문 샘플\n",
        "palindromes = {\n",
        "    \"한글단어1\": \"기러기\",\n",
        "    \"한글단어2\": \"토마토\",\n",
        "    \"영어단어1\": \"deified\",\n",
        "    \"영어단어2\": \"civic\",\n",
        "    \"한글문장\": \"소주 만병만 주소\",\n",
        "    \"영어문장\": \"A man, a plan, a canal, Panama\"\n",
        "}\n",
        "\n",
        "# 비회문 샘플\n",
        "non_palindromes = {\n",
        "    \"한글단어1\": \"컴퓨터\",\n",
        "    \"한글단어2\": \"스마트폰\",\n",
        "    \"영어단어1\": \"computer\",\n",
        "    \"영어단어2\": \"smartphone\",\n",
        "    \"한글문장\": \"이것은 회문이 아닙니다\",\n",
        "    \"영어문장\": \"This is not a palindrome\"\n",
        "}\n",
        "\n",
        "# 두 함수에 대한 결과를 for문으로 확인\n",
        "for key, sentence in {**palindromes, **non_palindromes}.items():\n",
        "    result1 = check_palindrome(sentence)\n",
        "    result2 = check_palindrome2(sentence)\n",
        "    print(f\"{key}에 대한 check_palindrome 결과:\\n{result1}\\n\")\n",
        "    print('='*60)\n",
        "    print(f\"{key}에 대한 check_palindrome2 결과:\\n{result2}\\n\")"
      ]
    },
    {
      "cell_type": "markdown",
      "metadata": {
        "id": "mzMGaaML03c0"
      },
      "source": [
        "## 회고\n",
        "\n",
        "- 처음 풀어보는 문제라 그런지 조금 막막했다.\n",
        "- 생각보다 5분이란 시간이 엄청 짧아서 어떻게 의논할지 고민이 많았다.\n",
        "- 다행히 첫번째 논의에서 간단하게 해결방안이 도출이 되어서 빠르게 풀수 있었다.\n",
        "- 두번째로 받은 컨셉인 문장을 반으로 나눠서 각 글자 하나별로 비교한다는걸 구현하는게 상당히 복잡해서 구현하는데 꽤 애를 먹었다.\n",
        "- 시행착오도 많았는데, 여러 개념을 사용하면서 만들어내서 하면서 복습을 하는 기회가 되어서 오히려 좋았던것 같다.\n"
      ]
    }
  ],
  "metadata": {
    "colab": {
      "authorship_tag": "ABX9TyMeu5Vhx1AoXSLsmjDeOSKg",
      "include_colab_link": true,
      "provenance": [],
      "toc_visible": true
    },
    "kernelspec": {
      "display_name": "Python 3",
      "name": "python3"
    },
    "language_info": {
      "name": "python"
    }
  },
  "nbformat": 4,
  "nbformat_minor": 0
}
