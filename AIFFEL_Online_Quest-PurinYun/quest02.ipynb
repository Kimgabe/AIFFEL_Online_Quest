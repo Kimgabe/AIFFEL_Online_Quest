{
  "nbformat": 4,
  "nbformat_minor": 0,
  "metadata": {
    "colab": {
      "provenance": [],
      "authorship_tag": "ABX9TyPq4XvWEwFPvxef/na5hFmr",
      "include_colab_link": true
    },
    "kernelspec": {
      "name": "python3",
      "display_name": "Python 3"
    },
    "language_info": {
      "name": "python"
    }
  },
  "cells": [
    {
      "cell_type": "markdown",
      "metadata": {
        "id": "view-in-github",
        "colab_type": "text"
      },
      "source": [
        "<a href=\"https://colab.research.google.com/github/PurinYun/AIFFEL_Online_Quest-2/blob/main/quest02.ipynb\" target=\"_parent\"><img src=\"https://colab.research.google.com/assets/colab-badge.svg\" alt=\"Open In Colab\"/></a>"
      ]
    },
    {
      "cell_type": "code",
      "execution_count": null,
      "metadata": {
        "id": "S1e6hqS99KVR"
      },
      "outputs": [],
      "source": [
        "fish_list = [\n",
        "    {\"이름\": \"Nemo\", \"speed\": 3},\n",
        "    {\"이름\": \"Dory\", \"speed\": 5}\n",
        "\n",
        "\n",
        "\n",
        "\n",
        "\n",
        "print(\"Using Comprehension:\")\n",
        "show_fish_movement_comprehension(fish_list)\n",
        "print(\"Using Generator:\")\n",
        "show_fish_movement_Generator(fish_list)\n"
      ]
    }
  ]
}