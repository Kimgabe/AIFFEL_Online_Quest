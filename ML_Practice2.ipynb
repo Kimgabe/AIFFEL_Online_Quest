{
  "nbformat": 4,
  "nbformat_minor": 0,
  "metadata": {
    "colab": {
      "provenance": [],
      "authorship_tag": "ABX9TyNg0n4Avnu64xlysGgWZ8mw",
      "include_colab_link": true
    },
    "kernelspec": {
      "name": "python3",
      "display_name": "Python 3"
    },
    "language_info": {
      "name": "python"
    }
  },
  "cells": [
    {
      "cell_type": "markdown",
      "metadata": {
        "id": "view-in-github",
        "colab_type": "text"
      },
      "source": [
        "<a href=\"https://colab.research.google.com/github/hjhan1201/AIFFEL_Online_Quest/blob/main/ML_Practice2.ipynb\" target=\"_parent\"><img src=\"https://colab.research.google.com/assets/colab-badge.svg\" alt=\"Open In Colab\"/></a>"
      ]
    },
    {
      "cell_type": "code",
      "execution_count": 119,
      "metadata": {
        "colab": {
          "base_uri": "https://localhost:8080/"
        },
        "id": "b6noFcGOHXBE",
        "outputId": "439ab039-c2d3-4f98-9dcf-4e8ec24c04d7"
      },
      "outputs": [
        {
          "output_type": "stream",
          "name": "stderr",
          "text": [
            "<ipython-input-119-5ddc4648574d>:84: FutureWarning: The default value of numeric_only in DataFrame.corr is deprecated. In a future version, it will default to False. Select only valid columns or specify the value of numeric_only to silence this warning.\n",
            "  df.corr()\n"
          ]
        },
        {
          "output_type": "execute_result",
          "data": {
            "text/plain": [
              "10    4\n",
              "11    2\n",
              "9     2\n",
              "12    1\n",
              "Name: 호수, dtype: int64"
            ]
          },
          "metadata": {},
          "execution_count": 119
        }
      ],
      "source": [
        "#데이터 불러오기 만들기\n",
        "import pandas as pd\n",
        "import numpy as np\n",
        "df = pd.DataFrame({\n",
        "    'Unnamed: 0': [0,1,2,3,4,5,6,'new',10],\n",
        "    '메뉴': ['황금후라이드','승일양념치킨','간장치킨','마늘치킨','파닭','닭강정','양념반후라이드반','[인기]아이펠치킨','[베스트]풀잎치킨'],\n",
        "    '가격': [12000,13000,14000,14000,14000,15000,13000,16000,9900],\n",
        "    '호수' : ['10호','10호','9호','9호','11호','12호','10호','11호','10호'],\n",
        "    '칼로리' : [1000.0,1400.0,1600.0,1800.0,1300.0,1500.0,1300.0,1200.0,np.nan],\n",
        "    '할인율' : [0.2,0.2,0.2,0.2,0.2,0.2,0.2,0.5,np.nan],\n",
        "    '할인가' : [9600.0,10400.0,11200.0,11200.0,11200.0,12000.0,10400.0,8000.0,np.nan],\n",
        "    '원산지' : ['국내산',np.nan,np.nan,np.nan,'브라질','브라질',np.nan,'국내산',np.nan]\n",
        "})\n",
        "df.to_csv('new_modudak.csv', index=False)\n",
        "#인덱스 변경\n",
        "pd.read_csv('new_modudak.csv', index_col='Unnamed: 0')\n",
        "\n",
        "#데이터프레임 복사(df를 data로 복사)\n",
        "data=df.copy()\n",
        "data\n",
        "\n",
        "#데이터 삭제(컬럼:Unnamed:0') drop(axis=1)\n",
        "#axis=0(행), axis=1(열)\n",
        "data= data.drop('Unnamed: 0',axis=1)\n",
        "data=df.copy()\n",
        "data=data.drop(columns=['Unnamed: 0'])\n",
        "df= data.copy()\n",
        "#행삭제\n",
        "data=data.drop(4,axis=0)\n",
        "data.drop(6,axis=0,inplace=True)\n",
        "#조건삭제\n",
        "cond=data['가격'] >=14000\n",
        "data[cond].index\n",
        "data.drop(data[cond].index, axis=0,inplace=True)\n",
        "#결측치 삭제\n",
        "data=df.copy()\n",
        "data.dropna()\n",
        "data.dropna(axis=0)\n",
        "data.dropna(axis=1)\n",
        "#결측치 채우기\n",
        "#결측치 확인\n",
        "df.isnull().sum()\n",
        "#결측치 알수 없음으로 채우기\n",
        "df['원산지'].fillna('알수없음')\n",
        "#원산지 채우고 대입\n",
        "df['원산지']=df['원산지'].fillna('국내산')\n",
        "#칼로리\n",
        "df['칼로리'].fillna(900)\n",
        "#최소값으로\n",
        "df['칼로리'].fillna(df['칼로리'].min())\n",
        "df['칼로리'] = df['칼로리'].fillna(df['칼로리'].min())\n",
        "df\n",
        "\n",
        "#정렬\n",
        "#인덱스 기준(기본값 ascending=True)< 오름차순\n",
        "df.sort_index(ascending=False) # 내림차순\n",
        "df.sort_values('가격', ascending=False)\n",
        "#여러개 기준\n",
        "df=df.sort_values(['가격','원산지'], ascending=[False,True])\n",
        "df\n",
        "#인덱스 새로 설정\n",
        "df=df.reset_index(drop=True)\n",
        "df\n",
        "\n",
        "#자료형 변환\n",
        "#데이터 확인\n",
        "#df.info()\n",
        "#호수 칼럼에서 호 삭제\n",
        "df['호수']=df['호수'].str.replace('호','')\n",
        "df['호수']=df['호수'].astype(int)\n",
        "df['호수']\n",
        "#호수 평균\n",
        "df['호수'].mean()\n",
        "\n",
        "#데이터 탐색\n",
        "#데이터 프레임 크기\n",
        "df.shape\n",
        "#데이터 샘플\n",
        "df.head()\n",
        "#기초통계\n",
        "df.describe()\n",
        "df.describe(include=['object'])\n",
        "#상관관계\n",
        "df.corr()\n",
        "#항목종류수\n",
        "df.nunique()\n",
        "#항목종류\n",
        "df['호수'].unique()\n",
        "df['호수'].value_counts()"
      ]
    }
  ]
}