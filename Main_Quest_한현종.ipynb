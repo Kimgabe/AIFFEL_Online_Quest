{
  "nbformat": 4,
  "nbformat_minor": 0,
  "metadata": {
    "colab": {
      "provenance": [],
      "authorship_tag": "ABX9TyPekgCh6S2YexmXS103L1Y1",
      "include_colab_link": true
    },
    "kernelspec": {
      "name": "python3",
      "display_name": "Python 3"
    },
    "language_info": {
      "name": "python"
    }
  },
  "cells": [
    {
      "cell_type": "markdown",
      "metadata": {
        "id": "view-in-github",
        "colab_type": "text"
      },
      "source": [
        "<a href=\"https://colab.research.google.com/github/hjhan1201/AIFFEL_Online_Quest/blob/main/Main_Quest_%ED%95%9C%ED%98%84%EC%A2%85.ipynb\" target=\"_parent\"><img src=\"https://colab.research.google.com/assets/colab-badge.svg\" alt=\"Open In Colab\"/></a>"
      ]
    },
    {
      "cell_type": "code",
      "execution_count": 28,
      "metadata": {
        "colab": {
          "base_uri": "https://localhost:8080/"
        },
        "id": "Arz7GIp56dUB",
        "outputId": "4d123903-914b-4261-d10c-b67001ff0e8c"
      },
      "outputs": [
        {
          "output_type": "stream",
          "name": "stdout",
          "text": [
            "\n",
            "한현종의 입금 히스토리:\n",
            "입금: 50000원\n",
            "입금: 50000원\n",
            "입금: 50000원\n",
            "입금: 50000원\n",
            "\n",
            "한현종의 출금 히스토리:\n",
            "출금: 20000원\n",
            "\n",
            "전체 계정 정보:\n",
            "은행이름:  SC은행   예금주:  한현종   계좌번호:  695-78-507407   잔고:  1,000,180,000 원\n",
            "은행이름:  SC은행   예금주:  한태종   계좌번호:  450-32-594273   잔고:  10,000 원\n",
            "은행이름:  SC은행   예금주:  한세종   계좌번호:  784-93-709794   잔고:  10,000,000 원\n",
            "\n",
            "잔고가 1백만원 이상인 계정 정보:\n",
            "은행이름:  SC은행   예금주:  한현종   계좌번호:  695-78-507407   잔고:  1,000,180,000 원\n",
            "은행이름:  SC은행   예금주:  한세종   계좌번호:  784-93-709794   잔고:  10,000,000 원\n"
          ]
        }
      ],
      "source": [
        "import random\n",
        "\n",
        "class Account:\n",
        "  count_ac = 0  #객체 수 세기\n",
        "  list_ac=[]\n",
        "\n",
        "  def __init__(self, name, balance): #이닛 만들기\n",
        "    self.bank = 'SC은행'\n",
        "    self.name = name\n",
        "    self.balance = balance\n",
        "    self.count_deposit = 0\n",
        "    self.history_deposit = []\n",
        "    self.history_withdraw =[]\n",
        "    n1 = random.randint(0, 999)\n",
        "    n2 = random.randint(0, 99)\n",
        "    n3 = random.randint(0, 999999)\n",
        "    n1 = str(n1).zfill(3)\n",
        "    n2 = str(n2).zfill(2)\n",
        "    n3 = str(n3).zfill(6)\n",
        "    self.ac_num = n1 + '-' + n2 + '-' + n3\n",
        "    Account.count_ac += 1\n",
        "    Account.list_ac.append(self)\n",
        "\n",
        "  def __str__(self):\n",
        "    return f\"은행이름: {self.bank}, 예금주: {self.name}, 계좌번호: {self.ac_num}, 잔고: {format(self.balance, ',')}원\"\n",
        "\n",
        "  def deposit(self, money):\n",
        "    self.balance +=  money\n",
        "    self.count_deposit += 1\n",
        "    if money == 0 :\n",
        "      raise ValueError('1원 이상 입금 가능합니다.')\n",
        "    if self.count_deposit%5 ==0 : #이자지급\n",
        "      self.balance = self.balance *  1.01\n",
        "    self.history_deposit.append(f\"입금: {money}원\")  # 이 부분 추가\n",
        "\n",
        "\n",
        "  def h_deposit(self):\n",
        "        for money in self.history_deposit:\n",
        "            print(money)\n",
        "\n",
        "  def withdraw(self, money):\n",
        "    self.balance -=  money\n",
        "    if money > self.balance :\n",
        "      raise ValueError(f'한도 초과!')\n",
        "    self.history_withdraw.append(f\"출금: {money}원\")\n",
        "\n",
        "  def h_withdraw(self):\n",
        "        for money in self.history_withdraw:\n",
        "            print(money)\n",
        "\n",
        "  def display_info(self):\n",
        "    print('은행이름: ', self.bank ,'  예금주: ',self.name, '  계좌번호: ',self.ac_num ,'  잔고: ',format(self.balance, ','),'원')\n",
        "\n",
        "  def display_info_1m(self):\n",
        "      if self.balance >=100000:\n",
        "        print('은행이름: ', self.bank ,'  예금주: ',self.name, '  계좌번호: ',self.ac_num ,'  잔고: ',format(self.balance, ','),'원')\n",
        "\n",
        "for i in Account.list_ac:\n",
        "        print(i)\n",
        "\n",
        "\n",
        "hj = Account(\"한현종\", 1000000000)\n",
        "tj = Account(\"한태종\", 10000)\n",
        "sj = Account(\"한세종\", 10000000)\n",
        "\n",
        "# 한현종 계정에 입금과 출금 수행\n",
        "hj.deposit(50000)\n",
        "hj.deposit(50000)\n",
        "hj.deposit(50000)\n",
        "hj.deposit(50000)\n",
        "hj.withdraw(20000)\n",
        "\n",
        "# 한현종의 입금 히스토리 출력\n",
        "print(\"\\n한현종의 입금 히스토리:\")\n",
        "hj.h_deposit()\n",
        "\n",
        "# 한현종의 출금 히스토리 출력\n",
        "print(\"\\n한현종의 출금 히스토리:\")\n",
        "hj.h_withdraw()\n",
        "\n",
        "# 모든 계정의 정보 출력\n",
        "print(\"\\n전체 계정 정보:\")\n",
        "for acc in Account.list_ac:\n",
        "    acc.display_info()\n",
        "\n",
        "# 잔고가 1백만원 이상인 계정 정보 출력\n",
        "print(\"\\n잔고가 1백만원 이상인 계정 정보:\")\n",
        "for acc in Account.list_ac:\n",
        "    acc.display_info_1m()\n"
      ]
    }
  ]
}