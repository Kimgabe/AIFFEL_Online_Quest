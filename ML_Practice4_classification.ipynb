{
  "nbformat": 4,
  "nbformat_minor": 0,
  "metadata": {
    "colab": {
      "provenance": [],
      "authorship_tag": "ABX9TyO+VAeT8W7AnlTMHnVw6+UE",
      "include_colab_link": true
    },
    "kernelspec": {
      "name": "python3",
      "display_name": "Python 3"
    },
    "language_info": {
      "name": "python"
    }
  },
  "cells": [
    {
      "cell_type": "markdown",
      "metadata": {
        "id": "view-in-github",
        "colab_type": "text"
      },
      "source": [
        "<a href=\"https://colab.research.google.com/github/hjhan1201/AIFFEL_Online_Quest/blob/main/ML_Practice4_classification.ipynb\" target=\"_parent\"><img src=\"https://colab.research.google.com/assets/colab-badge.svg\" alt=\"Open In Colab\"/></a>"
      ]
    },
    {
      "cell_type": "code",
      "execution_count": 2,
      "metadata": {
        "colab": {
          "base_uri": "https://localhost:8080/"
        },
        "id": "sKkx7ZSGcnC4",
        "outputId": "f6da3b5f-6730-493b-8923-477f9cbbef3d"
      },
      "outputs": [
        {
          "output_type": "execute_result",
          "data": {
            "text/plain": [
              "0.9263157894736842"
            ]
          },
          "metadata": {},
          "execution_count": 2
        }
      ],
      "source": [
        "#의사결정나무\n",
        "import pandas as pd\n",
        "from sklearn.model_selection import train_test_split\n",
        "from sklearn.metrics import accuracy_score\n",
        "#데이터 생성\n",
        "from sklearn.datasets import load_breast_cancer\n",
        "def make_dataset():\n",
        "  iris = load_breast_cancer()\n",
        "  df = pd.DataFrame(iris.data, columns = iris.feature_names)\n",
        "  df['target'] = iris.target\n",
        "  X_train, X_test, y_train, y_test = train_test_split(\n",
        "      df.drop('target',axis=1), df['target'],test_size=0.5,random_state=1004)\n",
        "  return X_train, X_test, y_train, y_test\n",
        "\n",
        "X_train, X_test, y_train, y_test = make_dataset()\n",
        "X_train.shape, X_test.shape, y_train.shape, y_test.shape\n",
        "#타겟확인\n",
        "y_train.value_counts()\n",
        "#의사결정나무\n",
        "from sklearn.tree import DecisionTreeClassifier\n",
        "model = DecisionTreeClassifier(random_state=0)\n",
        "model.fit(X_train,y_train)\n",
        "pred = model.predict(X_test)\n",
        "accuracy_score(y_test,pred)\n",
        "#의사결정나무하이퍼 파라미터 설정\n",
        "from sklearn.tree import DecisionTreeClassifier\n",
        "model = DecisionTreeClassifier(random_state=0)\n",
        "model.fit(X_train,y_train)\n",
        "pred = model.predict(X_test)\n",
        "accuracy_score(y_test,pred)\n"
      ]
    }
  ]
}