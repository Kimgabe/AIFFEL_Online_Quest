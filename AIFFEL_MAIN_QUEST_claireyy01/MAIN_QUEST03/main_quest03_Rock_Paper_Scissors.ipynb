{
 "cells": [
  {
   "cell_type": "markdown",
   "id": "9dfe4c28",
   "metadata": {},
   "source": [
    "# 가위바위보 분류기 만들기"
   ]
  },
  {
   "cell_type": "markdown",
   "id": "078ff88f",
   "metadata": {},
   "source": [
    "---\n",
    "## 목차\n",
    "1. 데이터 준비하기\n",
    "2. 딥러닝 네트워크 설계하기\n",
    "3. 딥러닝 네트워크 학습시키기\n",
    "4. 모델 테스트\n",
    "5. 모델 성능 개선 - 하이퍼파라미터 튜닝\n",
    "6. 회고\n",
    "---"
   ]
  },
  {
   "cell_type": "markdown",
   "id": "77ebecea",
   "metadata": {},
   "source": [
    "## 1. 데이터 준비하기\n",
    "### 라이브러리 버전 확인"
   ]
  },
  {
   "cell_type": "code",
   "execution_count": 10,
   "id": "3872c163",
   "metadata": {},
   "outputs": [
    {
     "name": "stdout",
     "output_type": "stream",
     "text": [
      "2.6.0\n",
      "1.22.2\n"
     ]
    }
   ],
   "source": [
    "import tensorflow as tf\n",
    "import numpy as np\n",
    "\n",
    "print(tf.__version__)\n",
    "print(np.__version__)"
   ]
  },
  {
   "cell_type": "markdown",
   "id": "32caeab6",
   "metadata": {},
   "source": [
    "### 데이터 준비하기\n",
    "- 데이터 불러오기 + Resize 하기   \n",
    "224x224 를 28x28 사이즈로"
   ]
  },
  {
   "cell_type": "code",
   "execution_count": 11,
   "id": "76c7af1b",
   "metadata": {},
   "outputs": [
    {
     "name": "stdout",
     "output_type": "stream",
     "text": [
      "PIL 라이브러리 import 완료!\n"
     ]
    }
   ],
   "source": [
    "from PIL import Image\n",
    "import glob\n",
    "import os\n",
    "\n",
    "print(\"PIL 라이브러리 import 완료!\")"
   ]
  },
  {
   "cell_type": "code",
   "execution_count": 12,
   "id": "bbf8e6ca",
   "metadata": {},
   "outputs": [
    {
     "name": "stdout",
     "output_type": "stream",
     "text": [
      "100  images to be resized.\n",
      "100  images resized.\n",
      "가위 이미지 resize 완료!\n"
     ]
    }
   ],
   "source": [
    "# 가위 이미지 불러와서 28*28 사이즈로 변경하기\n",
    "\n",
    "def resize_images(img_path):\n",
    "\timages=glob.glob(img_path + \"/*.jpg\")  \n",
    "    \n",
    "\tprint(len(images), \" images to be resized.\")\n",
    "\n",
    "    # 파일마다 모두 28x28 사이즈로 바꾸어 저장합니다.\n",
    "\ttarget_size=(28,28)\n",
    "\tfor img in images:\n",
    "\t\told_img=Image.open(img)\n",
    "\t\tnew_img=old_img.resize(target_size,Image.ANTIALIAS)\n",
    "\t\tnew_img.save(img, \"JPEG\")\n",
    "    \n",
    "\tprint(len(images), \" images resized.\")\n",
    "\t\n",
    "# 가위 이미지가 저장된 디렉토리 아래의 모든 jpg 파일을 읽어들여서\n",
    "image_dir_path = os.getenv(\"HOME\") + \"/aiffel/rock_scissor_paper/scissor\"\n",
    "resize_images(image_dir_path)\n",
    "\n",
    "print(\"가위 이미지 resize 완료!\")"
   ]
  },
  {
   "cell_type": "code",
   "execution_count": 13,
   "id": "89218040",
   "metadata": {},
   "outputs": [
    {
     "name": "stdout",
     "output_type": "stream",
     "text": [
      "100  images to be resized.\n",
      "100  images resized.\n",
      "바위 이미지 resize 완료!\n"
     ]
    }
   ],
   "source": [
    "# 바위 이미지 불러와서 28*28 사이즈로 변경하기\n",
    "\n",
    "# 바위 이미지가 저장된 디렉토리 아래의 모든 jpg 파일을 읽어들여서\n",
    "def resize_images(img_path):\n",
    "\timages=glob.glob(img_path + \"/*.jpg\")  \n",
    "    \n",
    "\tprint(len(images), \" images to be resized.\")\n",
    "\n",
    "# 파일마다 모두 28x28 사이즈로 바꾸어 저장\n",
    "\ttarget_size=(28,28)\n",
    "\tfor img in images:\n",
    "\t\told_img=Image.open(img)\n",
    "\t\tnew_img=old_img.resize(target_size,Image.ANTIALIAS)\n",
    "\t\tnew_img.save(img, \"JPEG\")\n",
    "    \n",
    "\tprint(len(images), \" images resized.\")\n",
    "\t\n",
    "# 바위 이미지가 저장된 디렉토리 아래의 모든 jpg 파일을 읽어들여서\n",
    "image_dir_path = os.getenv(\"HOME\") + \"/aiffel/rock_scissor_paper/rock\"\n",
    "resize_images(image_dir_path)\n",
    "\n",
    "print(\"바위 이미지 resize 완료!\")"
   ]
  },
  {
   "cell_type": "code",
   "execution_count": 14,
   "id": "4ef29a91",
   "metadata": {},
   "outputs": [
    {
     "name": "stdout",
     "output_type": "stream",
     "text": [
      "100  images to be resized.\n",
      "100  images resized.\n",
      "보 이미지 resize 완료!\n"
     ]
    }
   ],
   "source": [
    "# 보 이미지 불러와서 28*28 사이즈로 변경하기\n",
    "\n",
    "# 보 이미지가 저장된 디렉토리 아래의 모든 jpg 파일을 읽어들여서\n",
    "def resize_images(img_path):\n",
    "\timages=glob.glob(img_path + \"/*.jpg\")  \n",
    "    \n",
    "\tprint(len(images), \" images to be resized.\")\n",
    "\n",
    "# 파일마다 모두 28x28 사이즈로 바꾸어 저장합니다.\n",
    "\ttarget_size=(28,28)\n",
    "\tfor img in images:\n",
    "\t\told_img=Image.open(img)\n",
    "\t\tnew_img=old_img.resize(target_size,Image.ANTIALIAS)\n",
    "\t\tnew_img.save(img, \"JPEG\")\n",
    "    \n",
    "\tprint(len(images), \" images resized.\")\n",
    "\t\n",
    "# 보 이미지가 저장된 디렉토리 아래의 모든 jpg 파일을 읽어들여서\n",
    "image_dir_path = os.getenv(\"HOME\") + \"/aiffel/rock_scissor_paper/paper\"\n",
    "resize_images(image_dir_path)\n",
    "\n",
    "print(\"보 이미지 resize 완료!\")"
   ]
  },
  {
   "cell_type": "markdown",
   "id": "bcd5b693",
   "metadata": {},
   "source": [
    "### 가위, 바위, 보 데이터를 읽을 수 있는 load_data() 함수 만들기\n",
    "- load_data() 함수는 입력으로 이미지가 있는 폴더 위치를 받는다.(rock_scissor_paper 폴더 위치를 적어주기)\n",
    "- 가위바위보는 3개의 클래스 즉, 가위: 0, 바위: 1, 보: 2 로 라벨링이 될 것"
   ]
  },
  {
   "cell_type": "code",
   "execution_count": 15,
   "id": "21e443f8",
   "metadata": {},
   "outputs": [
    {
     "name": "stdout",
     "output_type": "stream",
     "text": [
      "학습데이터(x_train)의 이미지 개수는 300 입니다.\n",
      "x_train shape: (300, 28, 28, 3)\n",
      "y_train shape: (300,)\n"
     ]
    }
   ],
   "source": [
    "import numpy as np\n",
    "\n",
    "def load_data(img_path, number_of_data=300):  # 가위바위보 이미지 개수 총합에 주의하세요.\n",
    "    # 가위 : 0, 바위 : 1, 보 : 2\n",
    "    img_size=28\n",
    "    color=3\n",
    "    #이미지 데이터와 라벨(가위 : 0, 바위 : 1, 보 : 2) 데이터를 담을 행렬(matrix) 영역을 생성합니다.\n",
    "    imgs=np.zeros(number_of_data*img_size*img_size*color,dtype=np.int32).reshape(number_of_data,img_size,img_size,color)\n",
    "    labels=np.zeros(number_of_data,dtype=np.int32)\n",
    "\n",
    "    idx=0\n",
    "    for file in glob.iglob(img_path+'/scissor/*.jpg'):\n",
    "        img = np.array(Image.open(file),dtype=np.int32)\n",
    "        imgs[idx,:,:,:]=img    # 데이터 영역에 이미지 행렬을 복사\n",
    "        labels[idx]=0   # 가위 : 0\n",
    "        idx=idx+1\n",
    "\n",
    "    for file in glob.iglob(img_path+'/rock/*.jpg'):\n",
    "        img = np.array(Image.open(file),dtype=np.int32)\n",
    "        imgs[idx,:,:,:]=img    # 데이터 영역에 이미지 행렬을 복사\n",
    "        labels[idx]=1   # 바위 : 1\n",
    "        idx=idx+1  \n",
    "    \n",
    "    for file in glob.iglob(img_path+'/paper/*.jpg'):\n",
    "        img = np.array(Image.open(file),dtype=np.int32)\n",
    "        imgs[idx,:,:,:]=img    # 데이터 영역에 이미지 행렬을 복사\n",
    "        labels[idx]=2   # 보 : 2\n",
    "        idx=idx+1\n",
    "        \n",
    "    print(\"학습데이터(x_train)의 이미지 개수는\", idx,\"입니다.\")\n",
    "    return imgs, labels\n",
    "\n",
    "image_dir_path = os.getenv(\"HOME\") + \"/aiffel/rock_scissor_paper\"\n",
    "(x_train, y_train)=load_data(image_dir_path)\n",
    "x_train_norm = x_train/255.0   # 입력은 0~1 사이의 값으로 정규화\n",
    "\n",
    "print(\"x_train shape: {}\".format(x_train.shape))\n",
    "print(\"y_train shape: {}\".format(y_train.shape))"
   ]
  },
  {
   "cell_type": "code",
   "execution_count": 16,
   "id": "1ed87f61",
   "metadata": {},
   "outputs": [
    {
     "name": "stdout",
     "output_type": "stream",
     "text": [
      "라벨:  0\n"
     ]
    },
    {
     "data": {
      "image/png": "[encoded data removed]",
      "text/plain": [
       "<Figure size 432x288 with 1 Axes>"
      ]
     },
     "metadata": {
      "needs_background": "light"
     },
     "output_type": "display_data"
    }
   ],
   "source": [
    "# 이미지 불러오기\n",
    "\n",
    "import matplotlib.pyplot as plt\n",
    "\n",
    "plt.imshow(x_train[0])\n",
    "print('라벨: ', y_train[0])"
   ]
  },
  {
   "cell_type": "markdown",
   "id": "89ae252a",
   "metadata": {},
   "source": [
    "## 2. 딥러닝 네트워크 설계하기"
   ]
  },
  {
   "cell_type": "code",
   "execution_count": 17,
   "id": "64e17a21",
   "metadata": {},
   "outputs": [
    {
     "name": "stdout",
     "output_type": "stream",
     "text": [
      "Model에 추가된 Layer 개수:  7\n",
      "Model: \"sequential_1\"\n",
      "_________________________________________________________________\n",
      "Layer (type)                 Output Shape              Param #   \n",
      "=================================================================\n",
      "conv2d_2 (Conv2D)            (None, 26, 26, 16)        448       \n",
      "_________________________________________________________________\n",
      "max_pooling2d_2 (MaxPooling2 (None, 13, 13, 16)        0         \n",
      "_________________________________________________________________\n",
      "conv2d_3 (Conv2D)            (None, 11, 11, 32)        4640      \n",
      "_________________________________________________________________\n",
      "max_pooling2d_3 (MaxPooling2 (None, 5, 5, 32)          0         \n",
      "_________________________________________________________________\n",
      "flatten_1 (Flatten)          (None, 800)               0         \n",
      "_________________________________________________________________\n",
      "dense_2 (Dense)              (None, 32)                25632     \n",
      "_________________________________________________________________\n",
      "dense_3 (Dense)              (None, 3)                 99        \n",
      "=================================================================\n",
      "Total params: 30,819\n",
      "Trainable params: 30,819\n",
      "Non-trainable params: 0\n",
      "_________________________________________________________________\n"
     ]
    }
   ],
   "source": [
    "# tf.keras의 Sequential API를 이용\n",
    "\n",
    "import tensorflow as tf\n",
    "from tensorflow import keras\n",
    "import numpy as np\n",
    "\n",
    "model=keras.models.Sequential()\n",
    "model.add(keras.layers.Conv2D(16, (3,3), activation='relu', input_shape=(28,28,3)))\n",
    "model.add(keras.layers.MaxPool2D(2,2))\n",
    "model.add(keras.layers.Conv2D(32, (3,3), activation='relu'))\n",
    "model.add(keras.layers.MaxPooling2D((2,2)))\n",
    "model.add(keras.layers.Flatten())\n",
    "model.add(keras.layers.Dense(32, activation='relu'))\n",
    "model.add(keras.layers.Dense(3, activation='softmax'))\n",
    "\n",
    "print('Model에 추가된 Layer 개수: ', len(model.layers))\n",
    "\n",
    "model.summary()"
   ]
  },
  {
   "cell_type": "markdown",
   "id": "024ac636",
   "metadata": {},
   "source": [
    "## 3. 딥러닝 네트워크 학습시키기"
   ]
  },
  {
   "cell_type": "code",
   "execution_count": 18,
   "id": "e13fcde0",
   "metadata": {
    "scrolled": true
   },
   "outputs": [
    {
     "name": "stdout",
     "output_type": "stream",
     "text": [
      "Epoch 1/10\n",
      "10/10 [==============================] - 1s 17ms/step - loss: 28.3829 - accuracy: 0.3033\n",
      "Epoch 2/10\n",
      "10/10 [==============================] - 0s 17ms/step - loss: 9.6960 - accuracy: 0.3500\n",
      "Epoch 3/10\n",
      "10/10 [==============================] - 0s 19ms/step - loss: 3.4645 - accuracy: 0.5233\n",
      "Epoch 4/10\n",
      "10/10 [==============================] - 0s 21ms/step - loss: 1.7340 - accuracy: 0.6433\n",
      "Epoch 5/10\n",
      "10/10 [==============================] - 0s 17ms/step - loss: 0.6676 - accuracy: 0.7867\n",
      "Epoch 6/10\n",
      "10/10 [==============================] - 0s 20ms/step - loss: 0.2422 - accuracy: 0.8933\n",
      "Epoch 7/10\n",
      "10/10 [==============================] - 0s 19ms/step - loss: 0.1602 - accuracy: 0.9333\n",
      "Epoch 8/10\n",
      "10/10 [==============================] - 0s 18ms/step - loss: 0.0473 - accuracy: 0.9833\n",
      "Epoch 9/10\n",
      "10/10 [==============================] - 0s 18ms/step - loss: 0.0296 - accuracy: 0.9933\n",
      "Epoch 10/10\n",
      "10/10 [==============================] - 0s 17ms/step - loss: 0.0131 - accuracy: 1.0000\n"
     ]
    },
    {
     "data": {
      "text/plain": [
       "<keras.callbacks.History at 0x7f6c7ec16430>"
      ]
     },
     "execution_count": 18,
     "metadata": {},
     "output_type": "execute_result"
    }
   ],
   "source": [
    "model.compile(optimizer='adam',\n",
    "             loss='sparse_categorical_crossentropy',\n",
    "             metrics=['accuracy'])\n",
    "\n",
    "model.fit(x_train, y_train, epochs=10)"
   ]
  },
  {
   "cell_type": "markdown",
   "id": "9bcfa786",
   "metadata": {},
   "source": [
    "- 훈련 데이터의 정확도 : 1.0으로 오버피팅됨"
   ]
  },
  {
   "cell_type": "code",
   "execution_count": 42,
   "id": "806f0a4a",
   "metadata": {},
   "outputs": [
    {
     "name": "stdout",
     "output_type": "stream",
     "text": [
      "Epoch 1/10\n",
      "10/10 [==============================] - 0s 23ms/step - loss: 0.0317 - accuracy: 0.9967 - val_loss: 7.2312 - val_accuracy: 0.3333\n",
      "Epoch 2/10\n",
      "10/10 [==============================] - 0s 26ms/step - loss: 0.0219 - accuracy: 0.9933 - val_loss: 7.2030 - val_accuracy: 0.3333\n",
      "Epoch 3/10\n",
      "10/10 [==============================] - 0s 23ms/step - loss: 0.0162 - accuracy: 1.0000 - val_loss: 7.7471 - val_accuracy: 0.3333\n",
      "Epoch 4/10\n",
      "10/10 [==============================] - 0s 24ms/step - loss: 0.0128 - accuracy: 1.0000 - val_loss: 7.7815 - val_accuracy: 0.3333\n",
      "Epoch 5/10\n",
      "10/10 [==============================] - 0s 26ms/step - loss: 0.0091 - accuracy: 1.0000 - val_loss: 7.7443 - val_accuracy: 0.3333\n",
      "Epoch 6/10\n",
      "10/10 [==============================] - 0s 24ms/step - loss: 0.0072 - accuracy: 1.0000 - val_loss: 8.0500 - val_accuracy: 0.3333\n",
      "Epoch 7/10\n",
      "10/10 [==============================] - 0s 26ms/step - loss: 0.0061 - accuracy: 1.0000 - val_loss: 8.3206 - val_accuracy: 0.3333\n",
      "Epoch 8/10\n",
      "10/10 [==============================] - 0s 25ms/step - loss: 0.0053 - accuracy: 1.0000 - val_loss: 8.1912 - val_accuracy: 0.3333\n",
      "Epoch 9/10\n",
      "10/10 [==============================] - 0s 24ms/step - loss: 0.0048 - accuracy: 1.0000 - val_loss: 8.3707 - val_accuracy: 0.3333\n",
      "Epoch 10/10\n",
      "10/10 [==============================] - 0s 24ms/step - loss: 0.0043 - accuracy: 1.0000 - val_loss: 8.8095 - val_accuracy: 0.3333\n"
     ]
    },
    {
     "data": {
      "image/png": "[encoded data removed]",
      "text/plain": [
       "<Figure size 720x432 with 1 Axes>"
      ]
     },
     "metadata": {
      "needs_background": "light"
     },
     "output_type": "display_data"
    }
   ],
   "source": [
    "import matplotlib.pyplot as plt\n",
    "\n",
    "# 모델 훈련\n",
    "history = model.fit(x_train, y_train, epochs=10, validation_data=(x_test, y_test))\n",
    "\n",
    "# 에폭에 따른 정확도 추이\n",
    "train_accuracy_history = history.history['accuracy']\n",
    "test_accuracy_history = history.history['val_accuracy']\n",
    "\n",
    "# 에폭 수\n",
    "epochs = np.arange(1, len(train_accuracy_history) + 1)\n",
    "\n",
    "# 정확도 그래프 그리기\n",
    "plt.figure(figsize=(10, 6))\n",
    "plt.plot(epochs, train_accuracy_history, label='Train Accuracy', marker='o')\n",
    "plt.plot(epochs, test_accuracy_history, label='Test Accuracy', marker='o')\n",
    "plt.title('Training and Test Accuracy Over Epochs')\n",
    "plt.xlabel('Epochs')\n",
    "plt.ylabel('Accuracy')\n",
    "plt.legend()\n",
    "plt.grid(True)\n",
    "plt.show()"
   ]
  },
  {
   "cell_type": "markdown",
   "id": "446c9058",
   "metadata": {},
   "source": [
    "## 4. 모델 테스트   \n",
    "다른 친구의 이미지 데이터 300장을 test data로 하여 test accuracy 측정해보기"
   ]
  },
  {
   "cell_type": "markdown",
   "id": "7f7393a9",
   "metadata": {},
   "source": [
    "- 오우진님 이미지 데이터 불러오기 + Resize"
   ]
  },
  {
   "cell_type": "code",
   "execution_count": 19,
   "id": "d520c527",
   "metadata": {},
   "outputs": [
    {
     "name": "stdout",
     "output_type": "stream",
     "text": [
      "PIL 라이브러리 import 완료!\n"
     ]
    }
   ],
   "source": [
    "# 데이터 불러오기\n",
    "\n",
    "from PIL import Image\n",
    "import glob\n",
    "import os\n",
    "\n",
    "print(\"PIL 라이브러리 import 완료!\")"
   ]
  },
  {
   "cell_type": "code",
   "execution_count": 20,
   "id": "d187eb21",
   "metadata": {},
   "outputs": [
    {
     "name": "stdout",
     "output_type": "stream",
     "text": [
      "100  images to be resized.\n",
      "100  images resized.\n",
      "가위 이미지 resize 완료!\n"
     ]
    }
   ],
   "source": [
    "# 가위 이미지 불러와서 28x28 사이즈로 변경하기\n",
    "\n",
    "def resize_images(img_path):\n",
    "\timages=glob.glob(img_path + \"/*.jpg\")  \n",
    "    \n",
    "\tprint(len(images), \" images to be resized.\")\n",
    "\n",
    "    # 파일마다 모두 28x28 사이즈로 바꾸어 저장합니다.\n",
    "\ttarget_size=(28,28)\n",
    "\tfor img in images:\n",
    "\t\told_img=Image.open(img)\n",
    "\t\tnew_img=old_img.resize(target_size,Image.ANTIALIAS)\n",
    "\t\tnew_img.save(img, \"JPEG\")\n",
    "    \n",
    "\tprint(len(images), \" images resized.\")\n",
    "\t\n",
    "# 가위 이미지가 저장된 디렉토리 아래의 모든 jpg 파일을 읽어들여서\n",
    "image_dir_path = os.getenv(\"HOME\") + \"/aiffel/rock_scissor_paper/test/scissor\"\n",
    "resize_images(image_dir_path)\n",
    "\n",
    "print(\"가위 이미지 resize 완료!\")"
   ]
  },
  {
   "cell_type": "code",
   "execution_count": 21,
   "id": "77210aaa",
   "metadata": {},
   "outputs": [
    {
     "name": "stdout",
     "output_type": "stream",
     "text": [
      "100  images to be resized.\n",
      "100  images resized.\n",
      "바위 이미지 resize 완료!\n"
     ]
    }
   ],
   "source": [
    "# 바위 이미지 불러와서 28x28 사이즈로 변경하기\n",
    "\n",
    "# 바위 이미지가 저장된 디렉토리 아래의 모든 jpg 파일을 읽어들여서\n",
    "def resize_images(img_path):\n",
    "\timages=glob.glob(img_path + \"/*.jpg\")  \n",
    "    \n",
    "\tprint(len(images), \" images to be resized.\")\n",
    "\n",
    "# 파일마다 모두 28x28 사이즈로 바꾸어 저장합니다.\n",
    "\ttarget_size=(28,28)\n",
    "\tfor img in images:\n",
    "\t\told_img=Image.open(img)\n",
    "\t\tnew_img=old_img.resize(target_size,Image.ANTIALIAS)\n",
    "\t\tnew_img.save(img, \"JPEG\")\n",
    "    \n",
    "\tprint(len(images), \" images resized.\")\n",
    "\t\n",
    "# 바위 이미지가 저장된 디렉토리 아래의 모든 jpg 파일을 읽어들여서\n",
    "image_dir_path = os.getenv(\"HOME\") + \"/aiffel/rock_scissor_paper/test/rock\"\n",
    "resize_images(image_dir_path)\n",
    "\n",
    "print(\"바위 이미지 resize 완료!\")"
   ]
  },
  {
   "cell_type": "code",
   "execution_count": 22,
   "id": "91540a9f",
   "metadata": {},
   "outputs": [
    {
     "name": "stdout",
     "output_type": "stream",
     "text": [
      "100  images to be resized.\n",
      "100  images resized.\n",
      "보 이미지 resize 완료!\n"
     ]
    }
   ],
   "source": [
    "# 보 이미지 불러와서 28x28 사이즈로 변경하기\n",
    "\n",
    "# 보 이미지가 저장된 디렉토리 아래의 모든 jpg 파일을 읽어들여서\n",
    "def resize_images(img_path):\n",
    "\timages=glob.glob(img_path + \"/*.jpg\")  \n",
    "    \n",
    "\tprint(len(images), \" images to be resized.\")\n",
    "\n",
    "# 파일마다 모두 28x28 사이즈로 바꾸어 저장합니다.\n",
    "\ttarget_size=(28,28)\n",
    "\tfor img in images:\n",
    "\t\told_img=Image.open(img)\n",
    "\t\tnew_img=old_img.resize(target_size,Image.ANTIALIAS)\n",
    "\t\tnew_img.save(img, \"JPEG\")\n",
    "    \n",
    "\tprint(len(images), \" images resized.\")\n",
    "\t\n",
    "# 보 이미지가 저장된 디렉토리 아래의 모든 jpg 파일을 읽어들여서\n",
    "image_dir_path = os.getenv(\"HOME\") + \"/aiffel/rock_scissor_paper/test/paper\"\n",
    "resize_images(image_dir_path)\n",
    "\n",
    "print(\"보 이미지 resize 완료!\")"
   ]
  },
  {
   "cell_type": "code",
   "execution_count": 23,
   "id": "61490731",
   "metadata": {},
   "outputs": [
    {
     "name": "stdout",
     "output_type": "stream",
     "text": [
      "테스트 데이터(x_test)의 이미지 개수는 300 입니다.\n",
      "x_test shape: (300, 28, 28, 3)\n",
      "y_test shape: (300,)\n"
     ]
    }
   ],
   "source": [
    "# x_test, y_test 만들기\n",
    "\n",
    "import numpy as np\n",
    "\n",
    "def load_data(img_path, number_of_data=300):  # 가위바위보 이미지 개수 총합에 주의하세요.\n",
    "    # 가위 : 0, 바위 : 1, 보 : 2\n",
    "    img_size=28\n",
    "    color=3\n",
    "    #이미지 데이터와 라벨(가위 : 0, 바위 : 1, 보 : 2) 데이터를 담을 행렬(matrix) 영역을 생성합니다.\n",
    "    imgs=np.zeros(number_of_data*img_size*img_size*color,dtype=np.int32).reshape(number_of_data,img_size,img_size,color)\n",
    "    labels=np.zeros(number_of_data,dtype=np.int32)\n",
    "\n",
    "    idx=0\n",
    "    for file in glob.iglob(img_path+'/scissor/*.jpg'):\n",
    "        img = np.array(Image.open(file),dtype=np.int32)\n",
    "        imgs[idx,:,:,:]=img    # 데이터 영역에 이미지 행렬을 복사\n",
    "        labels[idx]=0   # 가위 : 0\n",
    "        idx=idx+1\n",
    "\n",
    "    for file in glob.iglob(img_path+'/rock/*.jpg'):\n",
    "        img = np.array(Image.open(file),dtype=np.int32)\n",
    "        imgs[idx,:,:,:]=img    # 데이터 영역에 이미지 행렬을 복사\n",
    "        labels[idx]=1   # 바위 : 1\n",
    "        idx=idx+1  \n",
    "    \n",
    "    for file in glob.iglob(img_path+'/paper/*.jpg'):\n",
    "        img = np.array(Image.open(file),dtype=np.int32)\n",
    "        imgs[idx,:,:,:]=img    # 데이터 영역에 이미지 행렬을 복사\n",
    "        labels[idx]=2   # 보 : 2\n",
    "        idx=idx+1\n",
    "        \n",
    "    print(\"테스트 데이터(x_test)의 이미지 개수는\", idx,\"입니다.\")\n",
    "    return imgs, labels\n",
    "\n",
    "image_dir_path = os.getenv(\"HOME\") + \"/aiffel/rock_scissor_paper/test\"\n",
    "(x_test, y_test)=load_data(image_dir_path)\n",
    "x_test_norm = x_test/255.0   # 입력은 0~1 사이의 값으로 정규화\n",
    "\n",
    "print(\"x_test shape: {}\".format(x_test.shape))\n",
    "print(\"y_test shape: {}\".format(y_test.shape))"
   ]
  },
  {
   "cell_type": "code",
   "execution_count": 24,
   "id": "1bfae9f0",
   "metadata": {},
   "outputs": [
    {
     "name": "stdout",
     "output_type": "stream",
     "text": [
      "라벨:  0\n"
     ]
    },
    {
     "data": {
      "image/png": "[encoded data removed]",
      "text/plain": [
       "<Figure size 432x288 with 1 Axes>"
      ]
     },
     "metadata": {
      "needs_background": "light"
     },
     "output_type": "display_data"
    }
   ],
   "source": [
    "# 이미지 불러오기\n",
    "\n",
    "import matplotlib.pyplot as plt\n",
    "\n",
    "plt.imshow(x_test[0])\n",
    "print('라벨: ', y_test[0])"
   ]
  },
  {
   "cell_type": "code",
   "execution_count": 68,
   "id": "bca961b8",
   "metadata": {},
   "outputs": [
    {
     "name": "stdout",
     "output_type": "stream",
     "text": [
      "model.predict() 결과 :  [0.02861635 0.01296378 0.95841986]\n",
      "model이 추론한 가장 가능성이 높은 결과 :  2\n",
      "실제 데이터의 라벨 :  0\n"
     ]
    }
   ],
   "source": [
    "# 잘못 추론한 데이터가 무엇인지 찾아보기\n",
    "\n",
    "predicted_result = model.predict(x_test)  # model이 추론한 확률값. \n",
    "predicted_labels = np.argmax(predicted_result, axis=1)\n",
    "\n",
    "idx=0  #1번째 x_test를 살펴보자. \n",
    "print('model.predict() 결과 : ', predicted_result[idx])\n",
    "print('model이 추론한 가장 가능성이 높은 결과 : ', predicted_labels[idx])\n",
    "print('실제 데이터의 라벨 : ', y_test[idx])"
   ]
  },
  {
   "cell_type": "code",
   "execution_count": 69,
   "id": "2a2b414b",
   "metadata": {},
   "outputs": [
    {
     "name": "stdout",
     "output_type": "stream",
     "text": [
      "예측확률분포: [5.4129574e-04 1.5930140e-03 9.9786574e-01]\n",
      "라벨: 0, 예측결과: 2\n"
     ]
    },
    {
     "data": {
      "image/png": "[encoded data removed]",
      "text/plain": [
       "<Figure size 432x288 with 1 Axes>"
      ]
     },
     "metadata": {
      "needs_background": "light"
     },
     "output_type": "display_data"
    },
    {
     "name": "stdout",
     "output_type": "stream",
     "text": [
      "예측확률분포: [0.15100725 0.06784655 0.7811462 ]\n",
      "라벨: 0, 예측결과: 2\n"
     ]
    },
    {
     "data": {
      "image/png": "[encoded data removed]",
      "text/plain": [
       "<Figure size 432x288 with 1 Axes>"
      ]
     },
     "metadata": {
      "needs_background": "light"
     },
     "output_type": "display_data"
    },
    {
     "name": "stdout",
     "output_type": "stream",
     "text": [
      "예측확률분포: [0.00727881 0.00521403 0.9875072 ]\n",
      "라벨: 0, 예측결과: 2\n"
     ]
    },
    {
     "data": {
      "image/png": "[encoded data removed]",
      "text/plain": [
       "<Figure size 432x288 with 1 Axes>"
      ]
     },
     "metadata": {
      "needs_background": "light"
     },
     "output_type": "display_data"
    },
    {
     "name": "stdout",
     "output_type": "stream",
     "text": [
      "예측확률분포: [0.06460609 0.03691304 0.89848083]\n",
      "라벨: 0, 예측결과: 2\n"
     ]
    },
    {
     "data": {
      "image/png": "[encoded data removed]",
      "text/plain": [
       "<Figure size 432x288 with 1 Axes>"
      ]
     },
     "metadata": {
      "needs_background": "light"
     },
     "output_type": "display_data"
    },
    {
     "name": "stdout",
     "output_type": "stream",
     "text": [
      "예측확률분포: [0.01835207 0.00166627 0.9799817 ]\n",
      "라벨: 0, 예측결과: 2\n"
     ]
    },
    {
     "data": {
      "image/png": "[encoded data removed]",
      "text/plain": [
       "<Figure size 432x288 with 1 Axes>"
      ]
     },
     "metadata": {
      "needs_background": "light"
     },
     "output_type": "display_data"
    }
   ],
   "source": [
    "# model이 추론해 낸 숫자와 실제 라벨의 값이 다른 경우는 어떤 경우인가?\n",
    "\n",
    "import random\n",
    "wrong_predict_list=[]\n",
    "for i, _ in enumerate(predicted_labels):\n",
    "    # i번째 test_labels과 y_test이 다른 경우만 모아 봅시다. \n",
    "    if predicted_labels[i] != y_test[i]:\n",
    "        wrong_predict_list.append(i)\n",
    "\n",
    "# wrong_predict_list 에서 랜덤하게 5개만 뽑아봅시다.\n",
    "samples = random.choices(population=wrong_predict_list, k=5)\n",
    "\n",
    "for n in samples:\n",
    "    print(\"예측확률분포: \" + str(predicted_result[n]))\n",
    "    print(\"라벨: \" + str(y_test[n]) + \", 예측결과: \" + str(predicted_labels[n]))\n",
    "    plt.imshow(x_test[n], cmap=plt.cm.binary)\n",
    "    plt.show()"
   ]
  },
  {
   "cell_type": "markdown",
   "id": "7556a6cc",
   "metadata": {},
   "source": [
    "### test accuracy 측정"
   ]
  },
  {
   "cell_type": "code",
   "execution_count": 28,
   "id": "d4839ab5",
   "metadata": {
    "scrolled": true
   },
   "outputs": [
    {
     "name": "stdout",
     "output_type": "stream",
     "text": [
      "10/10 - 0s - loss: 4.0632 - accuracy: 0.3333\n",
      "test_loss: 4.063240051269531\n",
      "test_accuracy: 0.3333333432674408\n",
      "model.predict() 결과 :  [2.5572383e-04 2.9384077e-01 7.0590353e-01]\n",
      "model이 추론한 가장 가능성이 높은 결과 :  2\n",
      "실제 데이터의 라벨 :  0\n"
     ]
    }
   ],
   "source": [
    "test_loss, test_accuracy = model.evaluate(x_test,y_test, verbose=2)\n",
    "print(f\"test_loss: {test_loss}\")\n",
    "print(f\"test_accuracy: {test_accuracy}\")\n",
    "\n",
    "predicted_result = model.predict(x_test)  # model이 추론한 확률값. \n",
    "predicted_labels = np.argmax(predicted_result, axis=1)\n",
    "\n",
    "idx=0  #1번째 x_test를 살펴보자. \n",
    "print('model.predict() 결과 : ', predicted_result[idx])\n",
    "print('model이 추론한 가장 가능성이 높은 결과 : ', predicted_labels[idx])\n",
    "print('실제 데이터의 라벨 : ', y_test[idx])"
   ]
  },
  {
   "cell_type": "markdown",
   "id": "359ea2b8",
   "metadata": {},
   "source": [
    "- test accuracy가 33\n",
    "- 훈련 데이터 개수를 늘려서 성능을 개선해보기로 함.\n",
    "- 데이터 이미지 모양이 다양하고 개수가 많은 이선재님 데이터셋을 활용함."
   ]
  },
  {
   "cell_type": "markdown",
   "id": "b478676b",
   "metadata": {},
   "source": [
    "> 기존의 train데이터의 이름들과 추가할 데이터의 이름이 겹침 (0.jpg~99.jpg)   \n",
    "아래는 추가할 데이터의 이름 변경 작업"
   ]
  },
  {
   "cell_type": "code",
   "execution_count": 36,
   "id": "8553eb6d",
   "metadata": {},
   "outputs": [
    {
     "ename": "FileNotFoundError",
     "evalue": "[Errno 2] No such file or directory: '/aiffel/rock_scissor_paper/lsj_paper'",
     "output_type": "error",
     "traceback": [
      "\u001b[0;31m---------------------------------------------------------------------------\u001b[0m",
      "\u001b[0;31mFileNotFoundError\u001b[0m                         Traceback (most recent call last)",
      "\u001b[0;32m/tmp/ipykernel_368/2692113899.py\u001b[0m in \u001b[0;36m<module>\u001b[0;34m\u001b[0m\n\u001b[1;32m      2\u001b[0m \u001b[0;34m\u001b[0m\u001b[0m\n\u001b[1;32m      3\u001b[0m \u001b[0mpaper_file_path\u001b[0m \u001b[0;34m=\u001b[0m \u001b[0;34m'/aiffel/rock_scissor_paper/lsj_paper'\u001b[0m\u001b[0;34m\u001b[0m\u001b[0;34m\u001b[0m\u001b[0m\n\u001b[0;32m----> 4\u001b[0;31m \u001b[0mpaper_file_names\u001b[0m \u001b[0;34m=\u001b[0m \u001b[0mos\u001b[0m\u001b[0;34m.\u001b[0m\u001b[0mlistdir\u001b[0m\u001b[0;34m(\u001b[0m\u001b[0mpaper_file_path\u001b[0m\u001b[0;34m)\u001b[0m\u001b[0;34m\u001b[0m\u001b[0;34m\u001b[0m\u001b[0m\n\u001b[0m\u001b[1;32m      5\u001b[0m \u001b[0mpaper_file_names\u001b[0m\u001b[0;34m\u001b[0m\u001b[0;34m\u001b[0m\u001b[0m\n",
      "\u001b[0;31mFileNotFoundError\u001b[0m: [Errno 2] No such file or directory: '/aiffel/rock_scissor_paper/lsj_paper'"
     ]
    }
   ],
   "source": [
    "import os\n",
    "\n",
    "paper_file_path = '/aiffel/rock_scissor_paper/lsj_paper'\n",
    "paper_file_names = os.listdir(paper_file_path)\n",
    "paper_file_names"
   ]
  },
  {
   "cell_type": "code",
   "execution_count": 37,
   "id": "168cc561",
   "metadata": {},
   "outputs": [
    {
     "data": {
      "text/plain": [
       "['95.jpg',\n",
       " '151.jpg',\n",
       " '219.jpg',\n",
       " '132.jpg',\n",
       " '227.jpg',\n",
       " '73.jpg',\n",
       " '78.jpg',\n",
       " '111.jpg',\n",
       " '.ipynb_checkpoints',\n",
       " '187.jpg',\n",
       " '32.jpg',\n",
       " '106.jpg',\n",
       " '136.jpg',\n",
       " '21.jpg',\n",
       " '81.jpg',\n",
       " '94.jpg',\n",
       " '176.jpg',\n",
       " '154.jpg',\n",
       " '200.jpg',\n",
       " '148.jpg',\n",
       " '47.jpg',\n",
       " '122.jpg',\n",
       " '33.jpg',\n",
       " '234.jpg',\n",
       " '174.jpg',\n",
       " '202.jpg',\n",
       " '126.jpg',\n",
       " '143.jpg',\n",
       " '155.jpg',\n",
       " '16.jpg',\n",
       " '186.jpg',\n",
       " '188.jpg',\n",
       " '11.jpg',\n",
       " '181.jpg',\n",
       " '26.jpg',\n",
       " '212.jpg',\n",
       " '72.jpg',\n",
       " '42.jpg',\n",
       " '177.jpg',\n",
       " '207.jpg',\n",
       " '201.jpg',\n",
       " '58.jpg',\n",
       " '172.jpg',\n",
       " '193.jpg',\n",
       " '120.jpg',\n",
       " '121.jpg',\n",
       " '196.jpg',\n",
       " '240.jpg',\n",
       " '79.jpg',\n",
       " '179.jpg',\n",
       " '116.jpg',\n",
       " '84.jpg',\n",
       " '198.jpg',\n",
       " '211.jpg',\n",
       " '204.jpg',\n",
       " '108.jpg',\n",
       " '112.jpg',\n",
       " '141.jpg',\n",
       " '144.jpg',\n",
       " '62.jpg',\n",
       " '185.jpg',\n",
       " '24.jpg',\n",
       " '105.jpg',\n",
       " '138.jpg',\n",
       " '140.jpg',\n",
       " '158.jpg',\n",
       " '83.jpg',\n",
       " '197.jpg',\n",
       " '189.jpg',\n",
       " '137.jpg',\n",
       " '127.jpg',\n",
       " '91.jpg',\n",
       " '2.jpg',\n",
       " '223.jpg',\n",
       " '159.jpg',\n",
       " '115.jpg',\n",
       " '46.jpg',\n",
       " '110.jpg',\n",
       " '92.jpg',\n",
       " '15.jpg',\n",
       " '12.jpg',\n",
       " '63.jpg',\n",
       " '74.jpg',\n",
       " '165.jpg',\n",
       " '4.jpg',\n",
       " '107.jpg',\n",
       " '162.jpg',\n",
       " '80.jpg',\n",
       " '103.jpg',\n",
       " '29.jpg',\n",
       " '101.jpg',\n",
       " '100.jpg',\n",
       " '67.jpg',\n",
       " '59.jpg',\n",
       " '5.jpg',\n",
       " '233.jpg',\n",
       " '13.jpg',\n",
       " '7.jpg',\n",
       " '117.jpg',\n",
       " '1.jpg',\n",
       " '60.jpg',\n",
       " '145.jpg',\n",
       " '98.jpg',\n",
       " '10.jpg',\n",
       " '19.jpg',\n",
       " '221.jpg',\n",
       " '205.jpg',\n",
       " '64.jpg',\n",
       " '231.jpg',\n",
       " '55.jpg',\n",
       " '102.jpg',\n",
       " '208.jpg',\n",
       " '31.jpg',\n",
       " '210.jpg',\n",
       " '75.jpg',\n",
       " '134.jpg',\n",
       " '68.jpg',\n",
       " '150.jpg',\n",
       " '52.jpg',\n",
       " '226.jpg',\n",
       " '124.jpg',\n",
       " '169.jpg',\n",
       " '135.jpg',\n",
       " '45.jpg',\n",
       " '50.jpg',\n",
       " '199.jpg',\n",
       " '37.jpg',\n",
       " '192.jpg',\n",
       " '85.jpg',\n",
       " '213.jpg',\n",
       " '164.jpg',\n",
       " '182.jpg',\n",
       " '195.jpg',\n",
       " '153.jpg',\n",
       " '71.jpg',\n",
       " '206.jpg',\n",
       " '104.jpg',\n",
       " '61.jpg',\n",
       " '90.jpg',\n",
       " '119.jpg',\n",
       " '160.jpg',\n",
       " '239.jpg',\n",
       " '38.jpg',\n",
       " '142.jpg',\n",
       " '69.jpg',\n",
       " '3.jpg',\n",
       " '48.jpg',\n",
       " '191.jpg',\n",
       " '57.jpg',\n",
       " '70.jpg',\n",
       " '27.jpg',\n",
       " '89.jpg',\n",
       " '77.jpg',\n",
       " '238.jpg',\n",
       " '147.jpg',\n",
       " '163.jpg',\n",
       " '232.jpg',\n",
       " '6.jpg',\n",
       " '36.jpg',\n",
       " '149.jpg',\n",
       " '175.jpg',\n",
       " '171.jpg',\n",
       " '237.jpg',\n",
       " '18.jpg',\n",
       " '113.jpg',\n",
       " '76.jpg',\n",
       " '82.jpg',\n",
       " '168.jpg',\n",
       " '130.jpg',\n",
       " '93.jpg',\n",
       " '209.jpg',\n",
       " '28.jpg',\n",
       " '114.jpg',\n",
       " '25.jpg',\n",
       " '228.jpg',\n",
       " '131.jpg',\n",
       " '128.jpg',\n",
       " '53.jpg',\n",
       " '146.jpg',\n",
       " '170.jpg',\n",
       " '17.jpg',\n",
       " '9.jpg',\n",
       " '167.jpg',\n",
       " '51.jpg',\n",
       " '44.jpg',\n",
       " '118.jpg',\n",
       " '125.jpg',\n",
       " '235.jpg',\n",
       " '66.jpg',\n",
       " '43.jpg',\n",
       " '86.jpg',\n",
       " '34.jpg',\n",
       " '173.jpg',\n",
       " '39.jpg',\n",
       " '87.jpg',\n",
       " '0.jpg',\n",
       " '236.jpg',\n",
       " '97.jpg',\n",
       " '123.jpg',\n",
       " '22.jpg',\n",
       " '218.jpg',\n",
       " '178.jpg',\n",
       " '20.jpg',\n",
       " '96.jpg',\n",
       " '157.jpg',\n",
       " '30.jpg',\n",
       " '215.jpg',\n",
       " '194.jpg',\n",
       " '49.jpg',\n",
       " '203.jpg',\n",
       " '225.jpg',\n",
       " '41.jpg',\n",
       " '8.jpg',\n",
       " '139.jpg',\n",
       " '88.jpg',\n",
       " '152.jpg',\n",
       " '184.jpg',\n",
       " '222.jpg',\n",
       " '129.jpg',\n",
       " '40.jpg',\n",
       " '23.jpg',\n",
       " '216.jpg',\n",
       " '56.jpg',\n",
       " '230.jpg',\n",
       " '166.jpg',\n",
       " '224.jpg',\n",
       " '35.jpg',\n",
       " '190.jpg',\n",
       " '229.jpg',\n",
       " '183.jpg',\n",
       " '109.jpg',\n",
       " '156.jpg',\n",
       " '54.jpg',\n",
       " '14.jpg',\n",
       " '99.jpg',\n",
       " '214.jpg',\n",
       " '161.jpg',\n",
       " '217.jpg',\n",
       " '220.jpg',\n",
       " '180.jpg',\n",
       " '133.jpg',\n",
       " '65.jpg']"
      ]
     },
     "execution_count": 37,
     "metadata": {},
     "output_type": "execute_result"
    }
   ],
   "source": [
    "import os\n",
    "\n",
    "paper_file_path = os.getenv(\"HOME\") + '/aiffel/rock_scissor_paper/lsj_paper'\n",
    "paper_file_names = os.listdir(paper_file_path)\n",
    "paper_file_names"
   ]
  },
  {
   "cell_type": "code",
   "execution_count": 46,
   "id": "30b42793",
   "metadata": {},
   "outputs": [
    {
     "ename": "FileNotFoundError",
     "evalue": "[Errno 2] No such file or directory: '/aiffel/aiffel/rock_scissor_paper/lsj_paper/95.jpg' -> '/aiffel/aiffel/rock_scissor_paper/lsj_paper/100.jpg'",
     "output_type": "error",
     "traceback": [
      "\u001b[0;31m---------------------------------------------------------------------------\u001b[0m",
      "\u001b[0;31mFileNotFoundError\u001b[0m                         Traceback (most recent call last)",
      "\u001b[0;32m/tmp/ipykernel_368/3980320753.py\u001b[0m in \u001b[0;36m<module>\u001b[0;34m\u001b[0m\n\u001b[1;32m      4\u001b[0m     \u001b[0mdst\u001b[0m \u001b[0;34m=\u001b[0m \u001b[0mstr\u001b[0m\u001b[0;34m(\u001b[0m\u001b[0mi\u001b[0m\u001b[0;34m)\u001b[0m \u001b[0;34m+\u001b[0m \u001b[0;34m'.jpg'\u001b[0m\u001b[0;34m\u001b[0m\u001b[0;34m\u001b[0m\u001b[0m\n\u001b[1;32m      5\u001b[0m     \u001b[0mdst\u001b[0m \u001b[0;34m=\u001b[0m \u001b[0mos\u001b[0m\u001b[0;34m.\u001b[0m\u001b[0mpath\u001b[0m\u001b[0;34m.\u001b[0m\u001b[0mjoin\u001b[0m\u001b[0;34m(\u001b[0m\u001b[0mpaper_file_path\u001b[0m\u001b[0;34m,\u001b[0m \u001b[0mdst\u001b[0m\u001b[0;34m)\u001b[0m\u001b[0;34m\u001b[0m\u001b[0;34m\u001b[0m\u001b[0m\n\u001b[0;32m----> 6\u001b[0;31m     \u001b[0mos\u001b[0m\u001b[0;34m.\u001b[0m\u001b[0mrename\u001b[0m\u001b[0;34m(\u001b[0m\u001b[0msrc\u001b[0m\u001b[0;34m,\u001b[0m \u001b[0mdst\u001b[0m\u001b[0;34m)\u001b[0m\u001b[0;34m\u001b[0m\u001b[0;34m\u001b[0m\u001b[0m\n\u001b[0m\u001b[1;32m      7\u001b[0m     \u001b[0mi\u001b[0m \u001b[0;34m+=\u001b[0m \u001b[0;36m1\u001b[0m\u001b[0;34m\u001b[0m\u001b[0;34m\u001b[0m\u001b[0m\n",
      "\u001b[0;31mFileNotFoundError\u001b[0m: [Errno 2] No such file or directory: '/aiffel/aiffel/rock_scissor_paper/lsj_paper/95.jpg' -> '/aiffel/aiffel/rock_scissor_paper/lsj_paper/100.jpg'"
     ]
    }
   ],
   "source": [
    "i = 100\n",
    "for name in paper_file_names:\n",
    "    src = os.path.join(paper_file_path, name)\n",
    "    dst = str(i) + '.jpg'\n",
    "    dst = os.path.join(paper_file_path, dst)\n",
    "    os.rename(src, dst)\n",
    "    i += 1"
   ]
  },
  {
   "cell_type": "markdown",
   "id": "9a0df073",
   "metadata": {},
   "source": [
    "## 5. 모델 성능 개선\n",
    "### 하이퍼파라미터 튜닝"
   ]
  },
  {
   "cell_type": "code",
   "execution_count": 29,
   "id": "1e23fd75",
   "metadata": {},
   "outputs": [
    {
     "name": "stdout",
     "output_type": "stream",
     "text": [
      "Model: \"sequential_2\"\n",
      "_________________________________________________________________\n",
      "Layer (type)                 Output Shape              Param #   \n",
      "=================================================================\n",
      "conv2d_4 (Conv2D)            (None, 26, 26, 16)        448       \n",
      "_________________________________________________________________\n",
      "max_pooling2d_4 (MaxPooling2 (None, 13, 13, 16)        0         \n",
      "_________________________________________________________________\n",
      "conv2d_5 (Conv2D)            (None, 11, 11, 32)        4640      \n",
      "_________________________________________________________________\n",
      "max_pooling2d_5 (MaxPooling2 (None, 5, 5, 32)          0         \n",
      "_________________________________________________________________\n",
      "flatten_2 (Flatten)          (None, 800)               0         \n",
      "_________________________________________________________________\n",
      "dense_4 (Dense)              (None, 32)                25632     \n",
      "_________________________________________________________________\n",
      "dense_5 (Dense)              (None, 3)                 99        \n",
      "=================================================================\n",
      "Total params: 30,819\n",
      "Trainable params: 30,819\n",
      "Non-trainable params: 0\n",
      "_________________________________________________________________\n",
      "Epoch 1/10\n",
      "10/10 [==============================] - 1s 18ms/step - loss: 12.8844 - accuracy: 0.3633\n",
      "Epoch 2/10\n",
      "10/10 [==============================] - 0s 18ms/step - loss: 2.5916 - accuracy: 0.5967\n",
      "Epoch 3/10\n",
      "10/10 [==============================] - 0s 20ms/step - loss: 0.5321 - accuracy: 0.8200\n",
      "Epoch 4/10\n",
      "10/10 [==============================] - 0s 19ms/step - loss: 0.1469 - accuracy: 0.9367\n",
      "Epoch 5/10\n",
      "10/10 [==============================] - 0s 20ms/step - loss: 0.0911 - accuracy: 0.9767\n",
      "Epoch 6/10\n",
      "10/10 [==============================] - 0s 21ms/step - loss: 0.0365 - accuracy: 0.9933\n",
      "Epoch 7/10\n",
      "10/10 [==============================] - 0s 22ms/step - loss: 0.0167 - accuracy: 0.9967\n",
      "Epoch 8/10\n",
      "10/10 [==============================] - 0s 18ms/step - loss: 0.0084 - accuracy: 1.0000\n",
      "Epoch 9/10\n",
      "10/10 [==============================] - 0s 19ms/step - loss: 0.0074 - accuracy: 1.0000\n",
      "Epoch 10/10\n",
      "10/10 [==============================] - 0s 20ms/step - loss: 0.0052 - accuracy: 1.0000\n",
      "10/10 - 0s - loss: 5.1788 - accuracy: 0.3333\n",
      "test_loss: 5.178752899169922 \n",
      "test_accuracy: 0.3333333432674408\n"
     ]
    }
   ],
   "source": [
    "# 하이퍼파라미터 튜닝\n",
    "n_channel_1=16\n",
    "n_channel_2=32\n",
    "n_dense=32\n",
    "n_train_epoch=10\n",
    "\n",
    "model=keras.models.Sequential()\n",
    "model.add(keras.layers.Conv2D(n_channel_1, (3,3), activation='relu', input_shape=(28,28,3)))\n",
    "model.add(keras.layers.MaxPool2D(2,2))\n",
    "model.add(keras.layers.Conv2D(n_channel_2, (3,3), activation='relu'))\n",
    "model.add(keras.layers.MaxPooling2D((2,2)))\n",
    "model.add(keras.layers.Flatten())\n",
    "model.add(keras.layers.Dense(n_dense, activation='relu'))\n",
    "model.add(keras.layers.Dense(3, activation='softmax'))\n",
    "\n",
    "model.summary()\n",
    "model.compile(optimizer='adam',\n",
    "             loss='sparse_categorical_crossentropy',\n",
    "             metrics=['accuracy'])\n",
    "\n",
    "# 모델 훈련\n",
    "model.fit(x_train, y_train, epochs=n_train_epoch)\n",
    "\n",
    "# 모델 시험\n",
    "test_loss, test_accuracy = model.evaluate(x_test, y_test, verbose=2)\n",
    "print(f\"test_loss: {test_loss} \")\n",
    "print(f\"test_accuracy: {test_accuracy}\")"
   ]
  },
  {
   "cell_type": "code",
   "execution_count": 30,
   "id": "601bb632",
   "metadata": {},
   "outputs": [
    {
     "name": "stdout",
     "output_type": "stream",
     "text": [
      "Model: \"sequential_3\"\n",
      "_________________________________________________________________\n",
      "Layer (type)                 Output Shape              Param #   \n",
      "=================================================================\n",
      "conv2d_6 (Conv2D)            (None, 26, 26, 32)        896       \n",
      "_________________________________________________________________\n",
      "max_pooling2d_6 (MaxPooling2 (None, 13, 13, 32)        0         \n",
      "_________________________________________________________________\n",
      "conv2d_7 (Conv2D)            (None, 11, 11, 32)        9248      \n",
      "_________________________________________________________________\n",
      "max_pooling2d_7 (MaxPooling2 (None, 5, 5, 32)          0         \n",
      "_________________________________________________________________\n",
      "flatten_3 (Flatten)          (None, 800)               0         \n",
      "_________________________________________________________________\n",
      "dense_6 (Dense)              (None, 32)                25632     \n",
      "_________________________________________________________________\n",
      "dense_7 (Dense)              (None, 3)                 99        \n",
      "=================================================================\n",
      "Total params: 35,875\n",
      "Trainable params: 35,875\n",
      "Non-trainable params: 0\n",
      "_________________________________________________________________\n",
      "Epoch 1/10\n",
      "10/10 [==============================] - 1s 25ms/step - loss: 15.5390 - accuracy: 0.3867\n",
      "Epoch 2/10\n",
      "10/10 [==============================] - 0s 28ms/step - loss: 4.0112 - accuracy: 0.6000\n",
      "Epoch 3/10\n",
      "10/10 [==============================] - 0s 26ms/step - loss: 1.1785 - accuracy: 0.7100\n",
      "Epoch 4/10\n",
      "10/10 [==============================] - 0s 26ms/step - loss: 0.3749 - accuracy: 0.8867\n",
      "Epoch 5/10\n",
      "10/10 [==============================] - 0s 28ms/step - loss: 0.0998 - accuracy: 0.9567\n",
      "Epoch 6/10\n",
      "10/10 [==============================] - 0s 29ms/step - loss: 0.0293 - accuracy: 0.9933\n",
      "Epoch 7/10\n",
      "10/10 [==============================] - 0s 29ms/step - loss: 0.0151 - accuracy: 1.0000\n",
      "Epoch 8/10\n",
      "10/10 [==============================] - 0s 26ms/step - loss: 0.0070 - accuracy: 1.0000\n",
      "Epoch 9/10\n",
      "10/10 [==============================] - 0s 27ms/step - loss: 0.0046 - accuracy: 1.0000\n",
      "Epoch 10/10\n",
      "10/10 [==============================] - 0s 26ms/step - loss: 0.0027 - accuracy: 1.0000\n",
      "10/10 - 0s - loss: 5.1786 - accuracy: 0.3333\n",
      "test_loss: 5.17857551574707 \n",
      "test_accuracy: 0.3333333432674408\n"
     ]
    }
   ],
   "source": [
    "# 하이퍼파라미터 튜닝\n",
    "n_channel_1=32\n",
    "n_channel_2=32\n",
    "n_dense=32\n",
    "n_train_epoch=10\n",
    "\n",
    "model=keras.models.Sequential()\n",
    "model.add(keras.layers.Conv2D(n_channel_1, (3,3), activation='relu', input_shape=(28,28,3)))\n",
    "model.add(keras.layers.MaxPool2D(2,2))\n",
    "model.add(keras.layers.Conv2D(n_channel_2, (3,3), activation='relu'))\n",
    "model.add(keras.layers.MaxPooling2D((2,2)))\n",
    "model.add(keras.layers.Flatten())\n",
    "model.add(keras.layers.Dense(n_dense, activation='relu'))\n",
    "model.add(keras.layers.Dense(3, activation='softmax'))\n",
    "\n",
    "model.summary()\n",
    "model.compile(optimizer='adam',\n",
    "             loss='sparse_categorical_crossentropy',\n",
    "             metrics=['accuracy'])\n",
    "\n",
    "# 모델 훈련\n",
    "model.fit(x_train, y_train, epochs=n_train_epoch)\n",
    "\n",
    "# 모델 시험\n",
    "test_loss, test_accuracy = model.evaluate(x_test, y_test, verbose=2)\n",
    "print(f\"test_loss: {test_loss} \")\n",
    "print(f\"test_accuracy: {test_accuracy}\")"
   ]
  },
  {
   "cell_type": "markdown",
   "id": "a093ca33",
   "metadata": {},
   "source": [
    "> n_channel_1=32 로 높여도 변화 없음"
   ]
  },
  {
   "cell_type": "code",
   "execution_count": 31,
   "id": "b2567cc0",
   "metadata": {},
   "outputs": [
    {
     "name": "stdout",
     "output_type": "stream",
     "text": [
      "Model: \"sequential_4\"\n",
      "_________________________________________________________________\n",
      "Layer (type)                 Output Shape              Param #   \n",
      "=================================================================\n",
      "conv2d_8 (Conv2D)            (None, 26, 26, 16)        448       \n",
      "_________________________________________________________________\n",
      "max_pooling2d_8 (MaxPooling2 (None, 13, 13, 16)        0         \n",
      "_________________________________________________________________\n",
      "conv2d_9 (Conv2D)            (None, 11, 11, 16)        2320      \n",
      "_________________________________________________________________\n",
      "max_pooling2d_9 (MaxPooling2 (None, 5, 5, 16)          0         \n",
      "_________________________________________________________________\n",
      "flatten_4 (Flatten)          (None, 400)               0         \n",
      "_________________________________________________________________\n",
      "dense_8 (Dense)              (None, 32)                12832     \n",
      "_________________________________________________________________\n",
      "dense_9 (Dense)              (None, 3)                 99        \n",
      "=================================================================\n",
      "Total params: 15,699\n",
      "Trainable params: 15,699\n",
      "Non-trainable params: 0\n",
      "_________________________________________________________________\n",
      "Epoch 1/10\n",
      "10/10 [==============================] - 1s 15ms/step - loss: 11.7195 - accuracy: 0.3333\n",
      "Epoch 2/10\n",
      "10/10 [==============================] - 0s 18ms/step - loss: 2.1240 - accuracy: 0.6233\n",
      "Epoch 3/10\n",
      "10/10 [==============================] - 0s 18ms/step - loss: 1.3013 - accuracy: 0.7267\n",
      "Epoch 4/10\n",
      "10/10 [==============================] - 0s 19ms/step - loss: 0.5570 - accuracy: 0.7867\n",
      "Epoch 5/10\n",
      "10/10 [==============================] - 0s 16ms/step - loss: 0.1911 - accuracy: 0.9167\n",
      "Epoch 6/10\n",
      "10/10 [==============================] - 0s 16ms/step - loss: 0.0608 - accuracy: 0.9867\n",
      "Epoch 7/10\n",
      "10/10 [==============================] - 0s 18ms/step - loss: 0.0391 - accuracy: 0.9967\n",
      "Epoch 8/10\n",
      "10/10 [==============================] - 0s 18ms/step - loss: 0.0243 - accuracy: 0.9933\n",
      "Epoch 9/10\n",
      "10/10 [==============================] - 0s 15ms/step - loss: 0.0122 - accuracy: 1.0000\n",
      "Epoch 10/10\n",
      "10/10 [==============================] - 0s 16ms/step - loss: 0.0128 - accuracy: 1.0000\n",
      "10/10 - 0s - loss: 1.0777 - accuracy: 0.5500\n",
      "test_loss: 1.0776680707931519 \n",
      "test_accuracy: 0.550000011920929\n"
     ]
    }
   ],
   "source": [
    "# 하이퍼파라미터 튜닝\n",
    "n_channel_1=16\n",
    "n_channel_2=16\n",
    "n_dense=32\n",
    "n_train_epoch=10\n",
    "\n",
    "model=keras.models.Sequential()\n",
    "model.add(keras.layers.Conv2D(n_channel_1, (3,3), activation='relu', input_shape=(28,28,3)))\n",
    "model.add(keras.layers.MaxPool2D(2,2))\n",
    "model.add(keras.layers.Conv2D(n_channel_2, (3,3), activation='relu'))\n",
    "model.add(keras.layers.MaxPooling2D((2,2)))\n",
    "model.add(keras.layers.Flatten())\n",
    "model.add(keras.layers.Dense(n_dense, activation='relu'))\n",
    "model.add(keras.layers.Dense(3, activation='softmax'))\n",
    "\n",
    "model.summary()\n",
    "model.compile(optimizer='adam',\n",
    "             loss='sparse_categorical_crossentropy',\n",
    "             metrics=['accuracy'])\n",
    "\n",
    "# 모델 훈련\n",
    "model.fit(x_train, y_train, epochs=n_train_epoch)\n",
    "\n",
    "# 모델 시험\n",
    "test_loss, test_accuracy = model.evaluate(x_test, y_test, verbose=2)\n",
    "print(f\"test_loss: {test_loss} \")\n",
    "print(f\"test_accuracy: {test_accuracy}\")"
   ]
  },
  {
   "cell_type": "markdown",
   "id": "1764f4c1",
   "metadata": {},
   "source": [
    "> n_channel_2=16 로 낮추니 정확도 55로 상승"
   ]
  },
  {
   "cell_type": "code",
   "execution_count": 33,
   "id": "c7bb8913",
   "metadata": {},
   "outputs": [
    {
     "name": "stdout",
     "output_type": "stream",
     "text": [
      "Model: \"sequential_5\"\n",
      "_________________________________________________________________\n",
      "Layer (type)                 Output Shape              Param #   \n",
      "=================================================================\n",
      "conv2d_10 (Conv2D)           (None, 26, 26, 16)        448       \n",
      "_________________________________________________________________\n",
      "max_pooling2d_10 (MaxPooling (None, 13, 13, 16)        0         \n",
      "_________________________________________________________________\n",
      "conv2d_11 (Conv2D)           (None, 11, 11, 16)        2320      \n",
      "_________________________________________________________________\n",
      "max_pooling2d_11 (MaxPooling (None, 5, 5, 16)          0         \n",
      "_________________________________________________________________\n",
      "flatten_5 (Flatten)          (None, 400)               0         \n",
      "_________________________________________________________________\n",
      "dense_10 (Dense)             (None, 16)                6416      \n",
      "_________________________________________________________________\n",
      "dense_11 (Dense)             (None, 3)                 51        \n",
      "=================================================================\n",
      "Total params: 9,235\n",
      "Trainable params: 9,235\n",
      "Non-trainable params: 0\n",
      "_________________________________________________________________\n",
      "Epoch 1/10\n",
      "10/10 [==============================] - 1s 15ms/step - loss: 40.5298 - accuracy: 0.3767\n",
      "Epoch 2/10\n",
      "10/10 [==============================] - 0s 18ms/step - loss: 7.7389 - accuracy: 0.3667\n",
      "Epoch 3/10\n",
      "10/10 [==============================] - 0s 17ms/step - loss: 3.2967 - accuracy: 0.4133\n",
      "Epoch 4/10\n",
      "10/10 [==============================] - 0s 16ms/step - loss: 1.9014 - accuracy: 0.5200\n",
      "Epoch 5/10\n",
      "10/10 [==============================] - 0s 16ms/step - loss: 1.2990 - accuracy: 0.6633\n",
      "Epoch 6/10\n",
      "10/10 [==============================] - 0s 17ms/step - loss: 0.8145 - accuracy: 0.7800\n",
      "Epoch 7/10\n",
      "10/10 [==============================] - 0s 18ms/step - loss: 0.6252 - accuracy: 0.8233\n",
      "Epoch 8/10\n",
      "10/10 [==============================] - 0s 16ms/step - loss: 0.4307 - accuracy: 0.8667\n",
      "Epoch 9/10\n",
      "10/10 [==============================] - 0s 16ms/step - loss: 0.2854 - accuracy: 0.9133\n",
      "Epoch 10/10\n",
      "10/10 [==============================] - 0s 18ms/step - loss: 0.2095 - accuracy: 0.9233\n",
      "10/10 - 0s - loss: 2.2131 - accuracy: 0.5867\n",
      "test_loss: 2.21305775642395 \n",
      "test_accuracy: 0.5866666436195374\n"
     ]
    }
   ],
   "source": [
    "# 하이퍼파라미터 튜닝\n",
    "n_channel_1=16\n",
    "n_channel_2=16\n",
    "n_dense=16\n",
    "n_train_epoch=10\n",
    "\n",
    "model=keras.models.Sequential()\n",
    "model.add(keras.layers.Conv2D(n_channel_1, (3,3), activation='relu', input_shape=(28,28,3)))\n",
    "model.add(keras.layers.MaxPool2D(2,2))\n",
    "model.add(keras.layers.Conv2D(n_channel_2, (3,3), activation='relu'))\n",
    "model.add(keras.layers.MaxPooling2D((2,2)))\n",
    "model.add(keras.layers.Flatten())\n",
    "model.add(keras.layers.Dense(n_dense, activation='relu'))\n",
    "model.add(keras.layers.Dense(3, activation='softmax'))\n",
    "\n",
    "model.summary()\n",
    "model.compile(optimizer='adam',\n",
    "             loss='sparse_categorical_crossentropy',\n",
    "             metrics=['accuracy'])\n",
    "\n",
    "# 모델 훈련\n",
    "model.fit(x_train, y_train, epochs=n_train_epoch)\n",
    "\n",
    "# 모델 시험\n",
    "test_loss, test_accuracy = model.evaluate(x_test, y_test, verbose=2)\n",
    "print(f\"test_loss: {test_loss} \")\n",
    "print(f\"test_accuracy: {test_accuracy}\")"
   ]
  },
  {
   "cell_type": "markdown",
   "id": "c08e3bdb",
   "metadata": {},
   "source": [
    "> n_dense=16 으로 낮추니 정확도 58로 상승"
   ]
  },
  {
   "cell_type": "markdown",
   "id": "950d0f1f",
   "metadata": {},
   "source": [
    "## 6. 회고\n",
    "### KEEP\n",
    "- 데이터 준비부터 모델 테스트 단계까지의 흐름은 어느정도 이해하고 있음\n",
    "- 최대한 다양한 데이터를 준비하기 위해 양손 촬영 및 다양한 각도에서 촬영해봄.\n",
    "\n",
    "### PROBLEM\n",
    "- train data를 추가하는 과정에서 오류 발생, 해결하지 못함.\n",
    "- 정확도를 85 이상으로 올리지 못함.\n",
    "- 위의 문제들은 전반적으로 책에서 배운 개념들을 코드로 적용할 때 어떻게 구현해야할지 매우 막막해서 발생.\n",
    "\n",
    "### TRY\n",
    "- 배운 내용을 코드로 많이 시도해보기\n",
    "\n",
    "\n",
    "### Reference\n",
    "- [파일명 일괄 변경](https://hogni.tistory.com/35)"
   ]
  }
 ],
 "metadata": {
  "kernelspec": {
   "display_name": "Python 3 (ipykernel)",
   "language": "python",
   "name": "python3"
  },
  "language_info": {
   "codemirror_mode": {
    "name": "ipython",
    "version": 3
   },
   "file_extension": ".py",
   "mimetype": "text/x-python",
   "name": "python",
   "nbconvert_exporter": "python",
   "pygments_lexer": "ipython3",
   "version": "3.9.7"
  }
 },
 "nbformat": 4,
 "nbformat_minor": 5
}
