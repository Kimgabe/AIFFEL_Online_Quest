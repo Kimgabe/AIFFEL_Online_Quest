{
  "nbformat": 4,
  "nbformat_minor": 0,
  "metadata": {
    "colab": {
      "provenance": [],
      "gpuType": "T4",
      "authorship_tag": "ABX9TyMdtNq4sudMgqKX6CDqcv+m",
      "include_colab_link": true
    },
    "kernelspec": {
      "name": "python3",
      "display_name": "Python 3"
    },
    "language_info": {
      "name": "python"
    },
    "accelerator": "GPU"
  },
  "cells": [
    {
      "cell_type": "markdown",
      "metadata": {
        "id": "view-in-github",
        "colab_type": "text"
      },
      "source": [
        "<a href=\"https://colab.research.google.com/github/NeatyNut/AIFFEL_Online_Quest/blob/main/Main_Quest/CNN_main_quest_new_model.ipynb\" target=\"_parent\"><img src=\"https://colab.research.google.com/assets/colab-badge.svg\" alt=\"Open In Colab\"/></a>"
      ]
    },
    {
      "cell_type": "markdown",
      "source": [
        "## 2-2) 미니 프로젝트 : 가위바위 분류기 만들기(새 버전)\n",
        "1. 데이터 준비\n",
        "2. 딥러닝 네트워크 설계\n",
        "3. 딥러닝 네트워크 학습\n",
        "4. 딥러닝 모델 평가\n",
        "5. 딥러닝 모델 개선"
      ],
      "metadata": {
        "id": "gDE58JBk6riR"
      }
    },
    {
      "cell_type": "markdown",
      "source": [
        "- 학습 데이터 : 강영현/김민기/김승순/김양희/오우진/윤혜윤/이상원/이슬/이승환/조보겸/조수민/최강훈/한현종/홍채림\n",
        "\n",
        "    <u>[전민규, 이선재 님 제외]</u> 님 사진\n",
        "\n",
        "- 테스트 데이터 : 이선재 님 사진\n",
        "\n",
        "  why : 단일 개수 최다 및 다양한 시도"
      ],
      "metadata": {
        "id": "cpHrxv3I60GA"
      }
    },
    {
      "cell_type": "markdown",
      "source": [
        "* ★ 이미지 데이터는 편의상 로컬에서 가공해왔습니다"
      ],
      "metadata": {
        "id": "Eb7M3Qk07pCH"
      }
    },
    {
      "cell_type": "code",
      "execution_count": null,
      "metadata": {
        "id": "1z3WQ6ps5-hb"
      },
      "outputs": [],
      "source": [
        "# 압축풀기\n",
        "\n",
        "import zipfile\n",
        "\n",
        "with zipfile.ZipFile('sample_data/rock_scissor_paper_train.zip', 'r') as zip_ref:\n",
        "    zip_ref.extractall('/content/sample_data/rock_scissor_paper_train')\n",
        "\n",
        "\n",
        "with zipfile.ZipFile('sample_data/rock_scissor_paper_test.zip', 'r') as zip_ref:\n",
        "    zip_ref.extractall('/content/sample_data/rock_scissor_paper_test')"
      ]
    },
    {
      "cell_type": "code",
      "source": [
        "paper_train_path = '/content/sample_data/rock_scissor_paper_train/paper'\n",
        "rock_train_path = '/content/sample_data/rock_scissor_paper_train/rock'\n",
        "scissor_train_path = '/content/sample_data/rock_scissor_paper_train/scissor'\n",
        "\n",
        "paper_test_path = '/content/sample_data/rock_scissor_paper_test/paper'\n",
        "rock_test_path = '/content/sample_data/rock_scissor_paper_test/rock'\n",
        "scissor_test_path = '/content/sample_data/rock_scissor_paper_test/scissor'"
      ],
      "metadata": {
        "id": "lEjQ6bQJ9qv4"
      },
      "execution_count": null,
      "outputs": []
    },
    {
      "cell_type": "code",
      "source": [
        "# 이미지 크기 확인\n",
        "\n",
        "import os\n",
        "os.listdir(paper_train_path)[0]\n",
        "image_path = os.path.join(paper_train_path, os.listdir(paper_train_path)[0])\n",
        "\n",
        "from PIL import Image\n",
        "import numpy as np\n",
        "\n",
        "pil_img = Image.open(image_path)\n",
        "im = np.array(pil_img)\n",
        "im.shape"
      ],
      "metadata": {
        "colab": {
          "base_uri": "https://localhost:8080/"
        },
        "id": "Z_1gL3Za-T31",
        "outputId": "4647e0cc-c54a-4cc4-cb4f-04f13efaca82"
      },
      "execution_count": null,
      "outputs": [
        {
          "output_type": "execute_result",
          "data": {
            "text/plain": [
              "(28, 28, 3)"
            ]
          },
          "metadata": {},
          "execution_count": 4
        }
      ]
    },
    {
      "cell_type": "code",
      "source": [
        "train_count = len(os.listdir(paper_train_path)) + len(os.listdir(scissor_train_path)) + len(os.listdir(rock_train_path))\n",
        "test_count = len(os.listdir(paper_test_path)) + len(os.listdir(scissor_test_path)) + len(os.listdir(rock_test_path))\n",
        "\n",
        "print(\"훈련 데이터 개수는\", train_count)\n",
        "print(\"테스트 데이터 개수는\", test_count)"
      ],
      "metadata": {
        "colab": {
          "base_uri": "https://localhost:8080/"
        },
        "id": "O_yT8Q3p-dc6",
        "outputId": "aa24564f-53d9-4555-9522-2b985a4d8606"
      },
      "execution_count": null,
      "outputs": [
        {
          "output_type": "stream",
          "name": "stdout",
          "text": [
            "훈련 데이터 개수는 4286\n",
            "테스트 데이터 개수는 753\n"
          ]
        }
      ]
    },
    {
      "cell_type": "code",
      "source": [
        "import numpy as np\n",
        "import glob\n",
        "from PIL import Image\n",
        "\n",
        "def load_data(img_path, number_of_data=300):  # 가위바위보 이미지 개수 총합에 주의하세요.\n",
        "    # 가위 : 0, 바위 : 1, 보 : 2\n",
        "    img_size=28\n",
        "    color=3\n",
        "    #이미지 데이터와 라벨(가위 : 0, 바위 : 1, 보 : 2) 데이터를 담을 행렬(matrix) 영역을 생성합니다.\n",
        "    imgs=np.zeros(number_of_data*img_size*img_size*color,dtype=np.int32).reshape(number_of_data,img_size,img_size,color)\n",
        "    labels=np.zeros(number_of_data,dtype=np.int32)\n",
        "\n",
        "    idx=0\n",
        "    for file in glob.iglob(img_path+'/scissor/*.jpg'):\n",
        "        img = np.array(Image.open(file),dtype=np.int32)\n",
        "        imgs[idx,:,:,:]=img    # 데이터 영역에 이미지 행렬을 복사\n",
        "        labels[idx]=0   # 가위 : 0\n",
        "        idx=idx+1\n",
        "\n",
        "    for file in glob.iglob(img_path+'/rock/*.jpg'):\n",
        "        img = np.array(Image.open(file),dtype=np.int32)\n",
        "        imgs[idx,:,:,:]=img    # 데이터 영역에 이미지 행렬을 복사\n",
        "        labels[idx]=1   # 바위 : 1\n",
        "        idx=idx+1\n",
        "\n",
        "    for file in glob.iglob(img_path+'/paper/*.jpg'):\n",
        "        img = np.array(Image.open(file),dtype=np.int32)\n",
        "        imgs[idx,:,:,:]=img    # 데이터 영역에 이미지 행렬을 복사\n",
        "        labels[idx]=2   # 보 : 2\n",
        "        idx=idx+1\n",
        "\n",
        "    print(\"학습데이터(x_train)의 이미지 개수는\", idx,\"입니다.\")\n",
        "    return imgs, labels"
      ],
      "metadata": {
        "id": "_RHQxJ8C-uU6"
      },
      "execution_count": null,
      "outputs": []
    },
    {
      "cell_type": "code",
      "source": [
        "image_dir_path = '/content/sample_data/rock_scissor_paper_train'\n",
        "(x_train, y_train)=load_data(image_dir_path, train_count)\n",
        "x_train_norm = x_train/255.0   # 입력은 0~1 사이의 값으로 정규화\n",
        "\n",
        "print(\"x_train shape: {}\".format(x_train.shape))\n",
        "print(\"y_train shape: {}\".format(y_train.shape))"
      ],
      "metadata": {
        "colab": {
          "base_uri": "https://localhost:8080/"
        },
        "id": "MVkxG5VK_Whz",
        "outputId": "06cb1f61-64ed-40a0-91e2-7536ce9c9d6f"
      },
      "execution_count": null,
      "outputs": [
        {
          "output_type": "stream",
          "name": "stdout",
          "text": [
            "학습데이터(x_train)의 이미지 개수는 4286 입니다.\n",
            "x_train shape: (4286, 28, 28, 3)\n",
            "y_train shape: (4286,)\n"
          ]
        }
      ]
    },
    {
      "cell_type": "code",
      "source": [
        "image_dir_path = '/content/sample_data/rock_scissor_paper_test'\n",
        "(x_test, y_test)=load_data(image_dir_path, test_count)\n",
        "x_test_norm = x_test/255.0   # 입력은 0~1 사이의 값으로 정규화\n",
        "\n",
        "print(\"x_test shape: {}\".format(x_test.shape))\n",
        "print(\"y_test shape: {}\".format(y_test.shape))"
      ],
      "metadata": {
        "colab": {
          "base_uri": "https://localhost:8080/"
        },
        "id": "WLead7Hr_krY",
        "outputId": "c59a9c4e-8443-4971-be19-80f42b75299d"
      },
      "execution_count": null,
      "outputs": [
        {
          "output_type": "stream",
          "name": "stdout",
          "text": [
            "학습데이터(x_train)의 이미지 개수는 753 입니다.\n",
            "x_test shape: (753, 28, 28, 3)\n",
            "y_test shape: (753,)\n"
          ]
        }
      ]
    },
    {
      "cell_type": "code",
      "source": [
        "import tensorflow as tf\n",
        "from tensorflow import keras\n",
        "\n",
        "# n_channel_1=[32, 64, 128, 256]\n",
        "# n_channel_2=[32, 64, 128, 256]\n",
        "# n_dense_1=[32, 64, 128, 256]\n",
        "# n_dense_2=[32, 64, 128, 256]\n",
        "# n_dense_3=[32, 64, 128, 256]\n",
        "# n_dense_4=[32, 64, 128, 256]\n",
        "\n",
        "# n_train_epoch=[50, 100, 150]\n",
        "# n_dropout_rate = [0.01, 0.05, 0.1]\n",
        "# n_learning_rate = [0.001, 0.01, 0.1, 0.5]\n",
        "\n",
        "\n",
        "# import random\n",
        "\n",
        "# n1 = random.randint(0, 3)\n",
        "# n2 = random.randint(0, 3)\n",
        "\n",
        "# n3 = random.randint(0, 3)\n",
        "# n4 = random.randint(0, 3)\n",
        "# n5 = random.randint(0, 3)\n",
        "# n6 = random.randint(0, 3)\n",
        "\n",
        "# n7 = random.randint(0, 2)\n",
        "# n8 = random.randint(0, 2)\n",
        "# n9 = random.randint(0, 3)\n",
        "\n",
        "model=keras.models.Sequential()\n",
        "model.add(keras.layers.Conv2D(64, (2,2), activation='relu', input_shape=(28,28,3)))\n",
        "model.add(keras.layers.Conv2D(128, (10,10), activation='relu'))\n",
        "model.add(keras.layers.MaxPooling2D((2,2)))\n",
        "model.add(keras.layers.Conv2D(64, (2,2)))\n",
        "model.add(keras.layers.MaxPooling2D((2,2)))\n",
        "model.add(keras.layers.Flatten())\n",
        "model.add(keras.layers.Dense(256, activation='relu'))\n",
        "model.add(keras.layers.Dropout(0.5))\n",
        "model.add(keras.layers.Dense(128, activation='relu'))\n",
        "model.add(keras.layers.Dropout(0.5))\n",
        "model.add(keras.layers.Dense(64, activation='relu'))\n",
        "model.add(keras.layers.Dropout(0.5))\n",
        "model.add(keras.layers.Dense(3, activation='softmax'))\n",
        "\n",
        "model.summary()\n",
        "model.compile(optimizer='adam',\n",
        "            loss='sparse_categorical_crossentropy',\n",
        "            metrics=['accuracy'])\n",
        "\n",
        "# 모델 훈련\n",
        "# model.optimizer.learning_rate = 0.5\n",
        "history = model.fit(x_train_norm, y_train, epochs=10)\n",
        "\n",
        "# 모델 시험\n",
        "test_loss, test_accuracy = model.evaluate(x_test_norm, y_test, verbose=2)\n",
        "# print(f\"n_channel_1 : {n_channel_1[n1]}, n_channel_2 : {n_channel_1[n2]}, n_dense_1 : {n_dense_1[n3]}, n_dense_2 : {n_dense_2[n4]}, n_dense_3 : {n_dense_3[n5]}, n_dense_4 : {n_dense_4[n6]}, n_train_epoch : {n_train_epoch[n7]}, n_dropout_rate : {n_dropout_rate[n8]}, n_learning_rate : {n_learning_rate[n9]}\")\n",
        "print(f\"test_loss: {test_loss} \")\n",
        "print(f\"test_accuracy: {test_accuracy}\")"
      ],
      "metadata": {
        "colab": {
          "base_uri": "https://localhost:8080/"
        },
        "id": "Z06Cbgef_ti5",
        "outputId": "606b1b7f-f0a9-4869-fd64-1a90a488b3b1"
      },
      "execution_count": null,
      "outputs": [
        {
          "output_type": "stream",
          "name": "stdout",
          "text": [
            "Model: \"sequential_27\"\n",
            "_________________________________________________________________\n",
            " Layer (type)                Output Shape              Param #   \n",
            "=================================================================\n",
            " conv2d_62 (Conv2D)          (None, 27, 27, 64)        832       \n",
            "                                                                 \n",
            " conv2d_63 (Conv2D)          (None, 18, 18, 128)       819328    \n",
            "                                                                 \n",
            " max_pooling2d_49 (MaxPooli  (None, 9, 9, 128)         0         \n",
            " ng2D)                                                           \n",
            "                                                                 \n",
            " conv2d_64 (Conv2D)          (None, 8, 8, 64)          32832     \n",
            "                                                                 \n",
            " max_pooling2d_50 (MaxPooli  (None, 4, 4, 64)          0         \n",
            " ng2D)                                                           \n",
            "                                                                 \n",
            " flatten_27 (Flatten)        (None, 1024)              0         \n",
            "                                                                 \n",
            " dense_84 (Dense)            (None, 256)               262400    \n",
            "                                                                 \n",
            " dropout_55 (Dropout)        (None, 256)               0         \n",
            "                                                                 \n",
            " dense_85 (Dense)            (None, 128)               32896     \n",
            "                                                                 \n",
            " dropout_56 (Dropout)        (None, 128)               0         \n",
            "                                                                 \n",
            " dense_86 (Dense)            (None, 64)                8256      \n",
            "                                                                 \n",
            " dropout_57 (Dropout)        (None, 64)                0         \n",
            "                                                                 \n",
            " dense_87 (Dense)            (None, 3)                 195       \n",
            "                                                                 \n",
            "=================================================================\n",
            "Total params: 1156739 (4.41 MB)\n",
            "Trainable params: 1156739 (4.41 MB)\n",
            "Non-trainable params: 0 (0.00 Byte)\n",
            "_________________________________________________________________\n",
            "Epoch 1/10\n",
            "134/134 [==============================] - 3s 9ms/step - loss: 1.1196 - accuracy: 0.3334\n",
            "Epoch 2/10\n",
            "134/134 [==============================] - 1s 8ms/step - loss: 1.1000 - accuracy: 0.3222\n",
            "Epoch 3/10\n",
            "134/134 [==============================] - 1s 8ms/step - loss: 1.0822 - accuracy: 0.3679\n",
            "Epoch 4/10\n",
            "134/134 [==============================] - 1s 9ms/step - loss: 0.7534 - accuracy: 0.6584\n",
            "Epoch 5/10\n",
            "134/134 [==============================] - 1s 10ms/step - loss: 0.3181 - accuracy: 0.8836\n",
            "Epoch 6/10\n",
            "134/134 [==============================] - 1s 9ms/step - loss: 0.1238 - accuracy: 0.9561\n",
            "Epoch 7/10\n",
            "134/134 [==============================] - 1s 8ms/step - loss: 0.0856 - accuracy: 0.9718\n",
            "Epoch 8/10\n",
            "134/134 [==============================] - 1s 8ms/step - loss: 0.0468 - accuracy: 0.9853\n",
            "Epoch 9/10\n",
            "134/134 [==============================] - 1s 8ms/step - loss: 0.0347 - accuracy: 0.9909\n",
            "Epoch 10/10\n",
            "134/134 [==============================] - 1s 8ms/step - loss: 0.0532 - accuracy: 0.9858\n",
            "24/24 - 0s - loss: 1.5541 - accuracy: 0.7238 - 227ms/epoch - 9ms/step\n",
            "test_loss: 1.5540698766708374 \n",
            "test_accuracy: 0.7237715721130371\n"
          ]
        }
      ]
    },
    {
      "cell_type": "markdown",
      "source": [
        "---\n",
        "n_channel_1 : 32, n_channel_2 : 128, n_dense_1 : 32, n_dense_2 : 64, n_dense_3 : 32, n_dense_4 : 32, n_train_epoch : 20, n_dropout_rate : 0.1, n_learning_rate : 0.01\n",
        "\n",
        "test_loss: 1.101427435874939\n",
        "\n",
        "test_accuracy: 0.32270917296409607\n",
        "\n",
        "---\n",
        "n_channel_1 : 64, n_channel_2 : 256, n_dense_1 : 64, n_dense_2 : 32, n_dense_3 : 256, n_dense_4 : 64, n_train_epoch : 100, n_dropout_rate : 0.1, n_learning_rate : 0.5\n",
        "\n",
        "test_loss: 1.0982557535171509\n",
        "\n",
        "test_accuracy: 0.35458168387413025\n",
        "\n",
        "---\n",
        "n_channel_1 : 256, n_channel_2 : 256, n_dense_1 : 256, n_dense_2 : 256, n_dense_3 : 32, n_dense_4 : 64, n_train_epoch : 50, n_dropout_rate : 0.005, n_learning_rate : 0.001\n",
        "\n",
        "test_loss: 12.72536849975586\n",
        "\n",
        "test_accuracy: 0.4608233869075775\n",
        "\n",
        "---\n",
        "n_channel_1 : 64, n_channel_2 : 32, n_dense_1 : 32, n_dense_2 : 32, n_dense_3 : 256, n_dense_4 : 256, n_train_epoch : 150, n_dropout_rate : 0.05,\n",
        "\n",
        "n_learning_rate : 0.001\n",
        "\n",
        "test_loss: 7.66087007522583\n",
        "\n",
        "test_accuracy: 0.4780876636505127"
      ],
      "metadata": {
        "id": "GnEHe3K-B3YQ"
      }
    },
    {
      "cell_type": "code",
      "source": [
        "import matplotlib.pyplot as plt\n",
        "\n",
        "def analyze_model_performance(history):\n",
        "    # 학습 손실, 학습 정확도, 검증 손실, 검증 정확도 추출\n",
        "    train_loss = history.history['loss']\n",
        "    train_accuracy = history.history['accuracy']\n",
        "    val_loss = history.history['val_loss']\n",
        "    val_accuracy = history.history['val_accuracy']\n",
        "\n",
        "plt.plot(history.history['accuracy'], label='acc')\n",
        "# plt.plot(history.history['loss'], label='loss')\n",
        "plt.xlabel('epochs')\n",
        "plt.ylabel('accuracy')\n",
        "plt.legend()"
      ],
      "metadata": {
        "colab": {
          "base_uri": "https://localhost:8080/",
          "height": 467
        },
        "id": "Ob-lYBlWAF3g",
        "outputId": "7cba4e61-3ce4-4c02-d533-c43f7d3ccb10"
      },
      "execution_count": null,
      "outputs": [
        {
          "output_type": "execute_result",
          "data": {
            "text/plain": [
              "<matplotlib.legend.Legend at 0x7e1f30254a30>"
            ]
          },
          "metadata": {},
          "execution_count": 29
        },
        {
          "output_type": "display_data",
          "data": {
            "text/plain": [
              "<Figure size 640x480 with 1 Axes>"
            ],
            "image/png": "[encoded data removed]"
          },
          "metadata": {}
        }
      ]
    },
    {
      "cell_type": "code",
      "source": [],
      "metadata": {
        "id": "ED7CPRNKP1vg"
      },
      "execution_count": null,
      "outputs": []
    }
  ]
}