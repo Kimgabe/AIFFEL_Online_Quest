{
 "cells": [
  {
   "cell_type": "markdown",
   "id": "e643cfaf",
   "metadata": {},
   "source": [
    "# 타이타닉 EDA 필사\n",
    "---"
   ]
  },
  {
   "cell_type": "markdown",
   "id": "97f4a0be",
   "metadata": {},
   "source": [
    "## 목차 및 개요\n",
    "* Q1 : 컬럼 정의 - 각 컬럼과 그 자료형을 설명해주세요\n",
    "* Q2 : 결측치와 이상치 제거 - 필요하지 않은 데이터, 결측치, 이상치를 찾고 제거해주세요\n",
    "* Q3 : 개별 특성 파악 - 다양한 방식의 그래프로, 개별 특성을 파악하고 시각화해주세요\n",
    "* Q4 : 특성간 상관관계 분석 (2점) - 다양한 방식의 그래프로, 연관 특성을 찾아주세요\n",
    "---"
   ]
  },
  {
   "cell_type": "markdown",
   "id": "0faf2c0e",
   "metadata": {},
   "source": [
    "## Q1. 칼럼 정의"
   ]
  },
  {
   "cell_type": "code",
   "execution_count": 131,
   "id": "bc589d30",
   "metadata": {},
   "outputs": [],
   "source": [
    "import pandas as pd\n",
    "\n",
    "x_test = pd.read_csv(\"https://raw.githubusercontent.com/NeatyNut/csv/main/titanic_test.csv\")\n",
    "y_test = pd.read_csv(\"https://raw.githubusercontent.com/NeatyNut/csv/main/gender_submission.csv\")\n",
    "train = pd.read_csv(\"https://raw.githubusercontent.com/NeatyNut/csv/main/titanic_train.csv\")"
   ]
  },
  {
   "cell_type": "markdown",
   "id": "55e2a203",
   "metadata": {},
   "source": [
    "* 데이터의 대략적인 모양을 파악해보겠다."
   ]
  },
  {
   "cell_type": "code",
   "execution_count": 132,
   "id": "c7897d94",
   "metadata": {},
   "outputs": [
    {
     "data": {
      "text/plain": [
       "((418, 11), (891, 12), (418, 2))"
      ]
     },
     "execution_count": 132,
     "metadata": {},
     "output_type": "execute_result"
    }
   ],
   "source": [
    "x_test.shape, train.shape, y_test.shape"
   ]
  },
  {
   "cell_type": "code",
   "execution_count": 59,
   "id": "46a5ab73",
   "metadata": {},
   "outputs": [
    {
     "name": "stdout",
     "output_type": "stream",
     "text": [
      "<class 'pandas.core.frame.DataFrame'>\n",
      "RangeIndex: 891 entries, 0 to 890\n",
      "Data columns (total 12 columns):\n",
      " #   Column       Non-Null Count  Dtype  \n",
      "---  ------       --------------  -----  \n",
      " 0   PassengerId  891 non-null    int64  \n",
      " 1   Survived     891 non-null    int64  \n",
      " 2   Pclass       891 non-null    int64  \n",
      " 3   Name         891 non-null    object \n",
      " 4   Sex          891 non-null    object \n",
      " 5   Age          714 non-null    float64\n",
      " 6   SibSp        891 non-null    int64  \n",
      " 7   Parch        891 non-null    int64  \n",
      " 8   Ticket       891 non-null    object \n",
      " 9   Fare         891 non-null    float64\n",
      " 10  Cabin        204 non-null    object \n",
      " 11  Embarked     889 non-null    object \n",
      "dtypes: float64(2), int64(5), object(5)\n",
      "memory usage: 83.7+ KB\n"
     ]
    }
   ],
   "source": [
    "train.info()"
   ]
  },
  {
   "cell_type": "code",
   "execution_count": 74,
   "id": "100a3a9c",
   "metadata": {},
   "outputs": [
    {
     "name": "stdout",
     "output_type": "stream",
     "text": [
      "숫자형 컬럼 개수 : 7\n",
      "문자형 컬럼 개수 : 5\n"
     ]
    }
   ],
   "source": [
    "print(\"숫자형 컬럼 개수 :\", len(train.select_dtypes(exclude=\"object\").columns))\n",
    "print(\"문자형 컬럼 개수 :\", len(train.select_dtypes(include=\"object\").columns))"
   ]
  },
  {
   "cell_type": "markdown",
   "id": "148226d8",
   "metadata": {},
   "source": [
    "### __숫자형 컬럼과 문자형 컬럼이 비슷한 숫자로 나뉘기 때문에 데이터 컬럼의 의미를 먼저 알아보자__"
   ]
  },
  {
   "cell_type": "markdown",
   "id": "414dd5ae",
   "metadata": {},
   "source": [
    "    - passengerId : 승객 ID / int\n",
    "    - Survived : 생존 여부 / int(0/1)\n",
    "    - Pclass : 승객등급 / int\n",
    "    - Name : 이름 / string\n",
    "    - Sex : 성별 / string\n",
    "    - Age : 숫자 / float\n",
    "    - SibSp : 함께 팁승한 형제자매, 배우자 수 / int\n",
    "    - Parch : 함께 탑승한 부모, 자녀 수 / int\n",
    "    - Ticket : 티켓 넘버 / string\n",
    "    - Fare : 요금 / float\n",
    "    - Cabin : 객실넘버 / string\n",
    "    - Embarked : 탑승항구 / string"
   ]
  },
  {
   "cell_type": "code",
   "execution_count": 86,
   "id": "2f13128a",
   "metadata": {},
   "outputs": [
    {
     "data": {
      "text/html": [
       "<div>\n",
       "<style scoped>\n",
       "    .dataframe tbody tr th:only-of-type {\n",
       "        vertical-align: middle;\n",
       "    }\n",
       "\n",
       "    .dataframe tbody tr th {\n",
       "        vertical-align: top;\n",
       "    }\n",
       "\n",
       "    .dataframe thead th {\n",
       "        text-align: right;\n",
       "    }\n",
       "</style>\n",
       "<table border=\"1\" class=\"dataframe\">\n",
       "  <thead>\n",
       "    <tr style=\"text-align: right;\">\n",
       "      <th></th>\n",
       "      <th>PassengerId</th>\n",
       "      <th>Survived</th>\n",
       "      <th>Pclass</th>\n",
       "      <th>Age</th>\n",
       "      <th>SibSp</th>\n",
       "      <th>Parch</th>\n",
       "      <th>Fare</th>\n",
       "    </tr>\n",
       "  </thead>\n",
       "  <tbody>\n",
       "    <tr>\n",
       "      <th>count</th>\n",
       "      <td>891.000000</td>\n",
       "      <td>891.000000</td>\n",
       "      <td>891.000000</td>\n",
       "      <td>714.000000</td>\n",
       "      <td>891.000000</td>\n",
       "      <td>891.000000</td>\n",
       "      <td>891.000000</td>\n",
       "    </tr>\n",
       "    <tr>\n",
       "      <th>mean</th>\n",
       "      <td>446.000000</td>\n",
       "      <td>0.383838</td>\n",
       "      <td>2.308642</td>\n",
       "      <td>29.699118</td>\n",
       "      <td>0.523008</td>\n",
       "      <td>0.381594</td>\n",
       "      <td>32.204208</td>\n",
       "    </tr>\n",
       "    <tr>\n",
       "      <th>std</th>\n",
       "      <td>257.353842</td>\n",
       "      <td>0.486592</td>\n",
       "      <td>0.836071</td>\n",
       "      <td>14.526497</td>\n",
       "      <td>1.102743</td>\n",
       "      <td>0.806057</td>\n",
       "      <td>49.693429</td>\n",
       "    </tr>\n",
       "    <tr>\n",
       "      <th>min</th>\n",
       "      <td>1.000000</td>\n",
       "      <td>0.000000</td>\n",
       "      <td>1.000000</td>\n",
       "      <td>0.420000</td>\n",
       "      <td>0.000000</td>\n",
       "      <td>0.000000</td>\n",
       "      <td>0.000000</td>\n",
       "    </tr>\n",
       "    <tr>\n",
       "      <th>25%</th>\n",
       "      <td>223.500000</td>\n",
       "      <td>0.000000</td>\n",
       "      <td>2.000000</td>\n",
       "      <td>20.125000</td>\n",
       "      <td>0.000000</td>\n",
       "      <td>0.000000</td>\n",
       "      <td>7.910400</td>\n",
       "    </tr>\n",
       "    <tr>\n",
       "      <th>50%</th>\n",
       "      <td>446.000000</td>\n",
       "      <td>0.000000</td>\n",
       "      <td>3.000000</td>\n",
       "      <td>28.000000</td>\n",
       "      <td>0.000000</td>\n",
       "      <td>0.000000</td>\n",
       "      <td>14.454200</td>\n",
       "    </tr>\n",
       "    <tr>\n",
       "      <th>75%</th>\n",
       "      <td>668.500000</td>\n",
       "      <td>1.000000</td>\n",
       "      <td>3.000000</td>\n",
       "      <td>38.000000</td>\n",
       "      <td>1.000000</td>\n",
       "      <td>0.000000</td>\n",
       "      <td>31.000000</td>\n",
       "    </tr>\n",
       "    <tr>\n",
       "      <th>max</th>\n",
       "      <td>891.000000</td>\n",
       "      <td>1.000000</td>\n",
       "      <td>3.000000</td>\n",
       "      <td>80.000000</td>\n",
       "      <td>8.000000</td>\n",
       "      <td>6.000000</td>\n",
       "      <td>512.329200</td>\n",
       "    </tr>\n",
       "  </tbody>\n",
       "</table>\n",
       "</div>"
      ],
      "text/plain": [
       "       PassengerId    Survived      Pclass         Age       SibSp  \\\n",
       "count   891.000000  891.000000  891.000000  714.000000  891.000000   \n",
       "mean    446.000000    0.383838    2.308642   29.699118    0.523008   \n",
       "std     257.353842    0.486592    0.836071   14.526497    1.102743   \n",
       "min       1.000000    0.000000    1.000000    0.420000    0.000000   \n",
       "25%     223.500000    0.000000    2.000000   20.125000    0.000000   \n",
       "50%     446.000000    0.000000    3.000000   28.000000    0.000000   \n",
       "75%     668.500000    1.000000    3.000000   38.000000    1.000000   \n",
       "max     891.000000    1.000000    3.000000   80.000000    8.000000   \n",
       "\n",
       "            Parch        Fare  \n",
       "count  891.000000  891.000000  \n",
       "mean     0.381594   32.204208  \n",
       "std      0.806057   49.693429  \n",
       "min      0.000000    0.000000  \n",
       "25%      0.000000    7.910400  \n",
       "50%      0.000000   14.454200  \n",
       "75%      0.000000   31.000000  \n",
       "max      6.000000  512.329200  "
      ]
     },
     "execution_count": 86,
     "metadata": {},
     "output_type": "execute_result"
    }
   ],
   "source": [
    "# 수치형 데이터 형태 알아보기\n",
    "train.describe()\n",
    "\n",
    "# 아이디 : 1 ~891\n",
    "# 생존여부 : 0 또는 1\n",
    "# 승객등급 : 1, 2, 3\n",
    "# 나이 : 0.42? ~ 80\n",
    "# 함께 팁승한 형제자매, 배우자 수 : 0 ~ 8\n",
    "# 함께 탑승한 부모, 자녀 수 : 0 ~ 6\n",
    "# 요금 : 0 ~ 512"
   ]
  },
  {
   "cell_type": "code",
   "execution_count": 87,
   "id": "9cf93fa7",
   "metadata": {},
   "outputs": [
    {
     "data": {
      "text/html": [
       "<div>\n",
       "<style scoped>\n",
       "    .dataframe tbody tr th:only-of-type {\n",
       "        vertical-align: middle;\n",
       "    }\n",
       "\n",
       "    .dataframe tbody tr th {\n",
       "        vertical-align: top;\n",
       "    }\n",
       "\n",
       "    .dataframe thead th {\n",
       "        text-align: right;\n",
       "    }\n",
       "</style>\n",
       "<table border=\"1\" class=\"dataframe\">\n",
       "  <thead>\n",
       "    <tr style=\"text-align: right;\">\n",
       "      <th></th>\n",
       "      <th>Name</th>\n",
       "      <th>Sex</th>\n",
       "      <th>Ticket</th>\n",
       "      <th>Cabin</th>\n",
       "      <th>Embarked</th>\n",
       "    </tr>\n",
       "  </thead>\n",
       "  <tbody>\n",
       "    <tr>\n",
       "      <th>count</th>\n",
       "      <td>891</td>\n",
       "      <td>891</td>\n",
       "      <td>891</td>\n",
       "      <td>204</td>\n",
       "      <td>889</td>\n",
       "    </tr>\n",
       "    <tr>\n",
       "      <th>unique</th>\n",
       "      <td>891</td>\n",
       "      <td>2</td>\n",
       "      <td>681</td>\n",
       "      <td>147</td>\n",
       "      <td>3</td>\n",
       "    </tr>\n",
       "    <tr>\n",
       "      <th>top</th>\n",
       "      <td>Braund, Mr. Owen Harris</td>\n",
       "      <td>male</td>\n",
       "      <td>347082</td>\n",
       "      <td>B96 B98</td>\n",
       "      <td>S</td>\n",
       "    </tr>\n",
       "    <tr>\n",
       "      <th>freq</th>\n",
       "      <td>1</td>\n",
       "      <td>577</td>\n",
       "      <td>7</td>\n",
       "      <td>4</td>\n",
       "      <td>644</td>\n",
       "    </tr>\n",
       "  </tbody>\n",
       "</table>\n",
       "</div>"
      ],
      "text/plain": [
       "                           Name   Sex  Ticket    Cabin Embarked\n",
       "count                       891   891     891      204      889\n",
       "unique                      891     2     681      147        3\n",
       "top     Braund, Mr. Owen Harris  male  347082  B96 B98        S\n",
       "freq                          1   577       7        4      644"
      ]
     },
     "execution_count": 87,
     "metadata": {},
     "output_type": "execute_result"
    }
   ],
   "source": [
    "# 문자형 데이터 조회\n",
    "\n",
    "train[list(train.select_dtypes(include=\"object\").columns)].describe()\n",
    "\n",
    "# 이름 : 중복 없음\n",
    "# 성별 : 2개\n",
    "# 티켓 : 중복 거의 없음\n",
    "# 객실넘버 : 중복 거의 없음(동승자 정보)\n",
    "# 탑승항구 : 3곳"
   ]
  },
  {
   "cell_type": "markdown",
   "id": "bcfc2a8d",
   "metadata": {},
   "source": [
    "### __데이터의 결측치들을 확인해보겠다.__"
   ]
  },
  {
   "cell_type": "code",
   "execution_count": 88,
   "id": "7851674a",
   "metadata": {},
   "outputs": [
    {
     "data": {
      "text/plain": [
       "PassengerId      0\n",
       "Survived         0\n",
       "Pclass           0\n",
       "Name             0\n",
       "Sex              0\n",
       "Age            177\n",
       "SibSp            0\n",
       "Parch            0\n",
       "Ticket           0\n",
       "Fare             0\n",
       "Cabin          687\n",
       "Embarked         2\n",
       "dtype: int64"
      ]
     },
     "execution_count": 88,
     "metadata": {},
     "output_type": "execute_result"
    }
   ],
   "source": [
    "train.isnull().sum()"
   ]
  },
  {
   "cell_type": "markdown",
   "id": "c15606ef",
   "metadata": {},
   "source": [
    "* Cabin에서 결측치가 많고, Age에서 결측치가 다소 있는 것으로 나타난다.\n",
    "* Cabin은 지우고 Age는 한번 살펴보겠다."
   ]
  },
  {
   "cell_type": "code",
   "execution_count": 94,
   "id": "a35bfd8f",
   "metadata": {},
   "outputs": [
    {
     "data": {
      "text/html": [
       "<div>\n",
       "<style scoped>\n",
       "    .dataframe tbody tr th:only-of-type {\n",
       "        vertical-align: middle;\n",
       "    }\n",
       "\n",
       "    .dataframe tbody tr th {\n",
       "        vertical-align: top;\n",
       "    }\n",
       "\n",
       "    .dataframe thead th {\n",
       "        text-align: right;\n",
       "    }\n",
       "</style>\n",
       "<table border=\"1\" class=\"dataframe\">\n",
       "  <thead>\n",
       "    <tr style=\"text-align: right;\">\n",
       "      <th></th>\n",
       "      <th>PassengerId</th>\n",
       "      <th>Survived</th>\n",
       "      <th>Pclass</th>\n",
       "      <th>Name</th>\n",
       "      <th>Sex</th>\n",
       "      <th>Age</th>\n",
       "      <th>SibSp</th>\n",
       "      <th>Parch</th>\n",
       "      <th>Ticket</th>\n",
       "      <th>Fare</th>\n",
       "      <th>Cabin</th>\n",
       "      <th>Embarked</th>\n",
       "    </tr>\n",
       "  </thead>\n",
       "  <tbody>\n",
       "    <tr>\n",
       "      <th>5</th>\n",
       "      <td>6</td>\n",
       "      <td>0</td>\n",
       "      <td>3</td>\n",
       "      <td>Moran, Mr. James</td>\n",
       "      <td>male</td>\n",
       "      <td>NaN</td>\n",
       "      <td>0</td>\n",
       "      <td>0</td>\n",
       "      <td>330877</td>\n",
       "      <td>8.4583</td>\n",
       "      <td>NaN</td>\n",
       "      <td>Q</td>\n",
       "    </tr>\n",
       "    <tr>\n",
       "      <th>17</th>\n",
       "      <td>18</td>\n",
       "      <td>1</td>\n",
       "      <td>2</td>\n",
       "      <td>Williams, Mr. Charles Eugene</td>\n",
       "      <td>male</td>\n",
       "      <td>NaN</td>\n",
       "      <td>0</td>\n",
       "      <td>0</td>\n",
       "      <td>244373</td>\n",
       "      <td>13.0000</td>\n",
       "      <td>NaN</td>\n",
       "      <td>S</td>\n",
       "    </tr>\n",
       "    <tr>\n",
       "      <th>19</th>\n",
       "      <td>20</td>\n",
       "      <td>1</td>\n",
       "      <td>3</td>\n",
       "      <td>Masselmani, Mrs. Fatima</td>\n",
       "      <td>female</td>\n",
       "      <td>NaN</td>\n",
       "      <td>0</td>\n",
       "      <td>0</td>\n",
       "      <td>2649</td>\n",
       "      <td>7.2250</td>\n",
       "      <td>NaN</td>\n",
       "      <td>C</td>\n",
       "    </tr>\n",
       "    <tr>\n",
       "      <th>26</th>\n",
       "      <td>27</td>\n",
       "      <td>0</td>\n",
       "      <td>3</td>\n",
       "      <td>Emir, Mr. Farred Chehab</td>\n",
       "      <td>male</td>\n",
       "      <td>NaN</td>\n",
       "      <td>0</td>\n",
       "      <td>0</td>\n",
       "      <td>2631</td>\n",
       "      <td>7.2250</td>\n",
       "      <td>NaN</td>\n",
       "      <td>C</td>\n",
       "    </tr>\n",
       "    <tr>\n",
       "      <th>28</th>\n",
       "      <td>29</td>\n",
       "      <td>1</td>\n",
       "      <td>3</td>\n",
       "      <td>O'Dwyer, Miss. Ellen \"Nellie\"</td>\n",
       "      <td>female</td>\n",
       "      <td>NaN</td>\n",
       "      <td>0</td>\n",
       "      <td>0</td>\n",
       "      <td>330959</td>\n",
       "      <td>7.8792</td>\n",
       "      <td>NaN</td>\n",
       "      <td>Q</td>\n",
       "    </tr>\n",
       "    <tr>\n",
       "      <th>...</th>\n",
       "      <td>...</td>\n",
       "      <td>...</td>\n",
       "      <td>...</td>\n",
       "      <td>...</td>\n",
       "      <td>...</td>\n",
       "      <td>...</td>\n",
       "      <td>...</td>\n",
       "      <td>...</td>\n",
       "      <td>...</td>\n",
       "      <td>...</td>\n",
       "      <td>...</td>\n",
       "      <td>...</td>\n",
       "    </tr>\n",
       "    <tr>\n",
       "      <th>859</th>\n",
       "      <td>860</td>\n",
       "      <td>0</td>\n",
       "      <td>3</td>\n",
       "      <td>Razi, Mr. Raihed</td>\n",
       "      <td>male</td>\n",
       "      <td>NaN</td>\n",
       "      <td>0</td>\n",
       "      <td>0</td>\n",
       "      <td>2629</td>\n",
       "      <td>7.2292</td>\n",
       "      <td>NaN</td>\n",
       "      <td>C</td>\n",
       "    </tr>\n",
       "    <tr>\n",
       "      <th>863</th>\n",
       "      <td>864</td>\n",
       "      <td>0</td>\n",
       "      <td>3</td>\n",
       "      <td>Sage, Miss. Dorothy Edith \"Dolly\"</td>\n",
       "      <td>female</td>\n",
       "      <td>NaN</td>\n",
       "      <td>8</td>\n",
       "      <td>2</td>\n",
       "      <td>CA. 2343</td>\n",
       "      <td>69.5500</td>\n",
       "      <td>NaN</td>\n",
       "      <td>S</td>\n",
       "    </tr>\n",
       "    <tr>\n",
       "      <th>868</th>\n",
       "      <td>869</td>\n",
       "      <td>0</td>\n",
       "      <td>3</td>\n",
       "      <td>van Melkebeke, Mr. Philemon</td>\n",
       "      <td>male</td>\n",
       "      <td>NaN</td>\n",
       "      <td>0</td>\n",
       "      <td>0</td>\n",
       "      <td>345777</td>\n",
       "      <td>9.5000</td>\n",
       "      <td>NaN</td>\n",
       "      <td>S</td>\n",
       "    </tr>\n",
       "    <tr>\n",
       "      <th>878</th>\n",
       "      <td>879</td>\n",
       "      <td>0</td>\n",
       "      <td>3</td>\n",
       "      <td>Laleff, Mr. Kristo</td>\n",
       "      <td>male</td>\n",
       "      <td>NaN</td>\n",
       "      <td>0</td>\n",
       "      <td>0</td>\n",
       "      <td>349217</td>\n",
       "      <td>7.8958</td>\n",
       "      <td>NaN</td>\n",
       "      <td>S</td>\n",
       "    </tr>\n",
       "    <tr>\n",
       "      <th>888</th>\n",
       "      <td>889</td>\n",
       "      <td>0</td>\n",
       "      <td>3</td>\n",
       "      <td>Johnston, Miss. Catherine Helen \"Carrie\"</td>\n",
       "      <td>female</td>\n",
       "      <td>NaN</td>\n",
       "      <td>1</td>\n",
       "      <td>2</td>\n",
       "      <td>W./C. 6607</td>\n",
       "      <td>23.4500</td>\n",
       "      <td>NaN</td>\n",
       "      <td>S</td>\n",
       "    </tr>\n",
       "  </tbody>\n",
       "</table>\n",
       "<p>177 rows × 12 columns</p>\n",
       "</div>"
      ],
      "text/plain": [
       "     PassengerId  Survived  Pclass                                      Name  \\\n",
       "5              6         0       3                          Moran, Mr. James   \n",
       "17            18         1       2              Williams, Mr. Charles Eugene   \n",
       "19            20         1       3                   Masselmani, Mrs. Fatima   \n",
       "26            27         0       3                   Emir, Mr. Farred Chehab   \n",
       "28            29         1       3             O'Dwyer, Miss. Ellen \"Nellie\"   \n",
       "..           ...       ...     ...                                       ...   \n",
       "859          860         0       3                          Razi, Mr. Raihed   \n",
       "863          864         0       3         Sage, Miss. Dorothy Edith \"Dolly\"   \n",
       "868          869         0       3               van Melkebeke, Mr. Philemon   \n",
       "878          879         0       3                        Laleff, Mr. Kristo   \n",
       "888          889         0       3  Johnston, Miss. Catherine Helen \"Carrie\"   \n",
       "\n",
       "        Sex  Age  SibSp  Parch      Ticket     Fare Cabin Embarked  \n",
       "5      male  NaN      0      0      330877   8.4583   NaN        Q  \n",
       "17     male  NaN      0      0      244373  13.0000   NaN        S  \n",
       "19   female  NaN      0      0        2649   7.2250   NaN        C  \n",
       "26     male  NaN      0      0        2631   7.2250   NaN        C  \n",
       "28   female  NaN      0      0      330959   7.8792   NaN        Q  \n",
       "..      ...  ...    ...    ...         ...      ...   ...      ...  \n",
       "859    male  NaN      0      0        2629   7.2292   NaN        C  \n",
       "863  female  NaN      8      2    CA. 2343  69.5500   NaN        S  \n",
       "868    male  NaN      0      0      345777   9.5000   NaN        S  \n",
       "878    male  NaN      0      0      349217   7.8958   NaN        S  \n",
       "888  female  NaN      1      2  W./C. 6607  23.4500   NaN        S  \n",
       "\n",
       "[177 rows x 12 columns]"
      ]
     },
     "execution_count": 94,
     "metadata": {},
     "output_type": "execute_result"
    }
   ],
   "source": [
    "train[train[\"Age\"].isnull()]"
   ]
  },
  {
   "cell_type": "markdown",
   "id": "f82aa3fb",
   "metadata": {},
   "source": [
    "* Age에선 177개의 결측치가 나타났고 앞서 Age가 소수점인 것도 있는 것으로 보였다. 이상치와 결측치 모두 제거하겠다."
   ]
  },
  {
   "cell_type": "code",
   "execution_count": 133,
   "id": "00a1dff9",
   "metadata": {},
   "outputs": [],
   "source": [
    "import numpy as np\n",
    "\n",
    "# 이상치 결측치로 바꿈\n",
    "train[\"Age\"] = train[\"Age\"].apply(lambda x:x if x % 2 in [0, 1] else np.nan)\n",
    "train = train.drop(\"Cabin\", axis=1)\n",
    "train = train.dropna()\n",
    "\n",
    "x_test[\"Age\"] = x_test[\"Age\"].apply(lambda x:x if x % 2 in [0, 1] else np.nan)\n",
    "x_test = x_test.drop(\"Cabin\", axis=1)\n",
    "x_test = x_test.dropna()"
   ]
  },
  {
   "cell_type": "code",
   "execution_count": 138,
   "id": "778f0ad6",
   "metadata": {},
   "outputs": [],
   "source": [
    "# x_test 제거, y_test반영\n",
    "y_test = y_test.loc[list(x_test.index)]"
   ]
  },
  {
   "cell_type": "code",
   "execution_count": 141,
   "id": "7fbdba33",
   "metadata": {},
   "outputs": [
    {
     "name": "stdout",
     "output_type": "stream",
     "text": [
      "PassengerId    0\n",
      "Survived       0\n",
      "Pclass         0\n",
      "Name           0\n",
      "Sex            0\n",
      "Age            0\n",
      "SibSp          0\n",
      "Parch          0\n",
      "Ticket         0\n",
      "Fare           0\n",
      "Embarked       0\n",
      "dtype: int64\n",
      "==============================\n",
      "PassengerId    0\n",
      "Pclass         0\n",
      "Name           0\n",
      "Sex            0\n",
      "Age            0\n",
      "SibSp          0\n",
      "Parch          0\n",
      "Ticket         0\n",
      "Fare           0\n",
      "Embarked       0\n",
      "dtype: int64\n"
     ]
    }
   ],
   "source": [
    "print(train.isnull().sum())\n",
    "print(\"=\"*30)\n",
    "print(x_test.isnull().sum())"
   ]
  },
  {
   "cell_type": "markdown",
   "id": "aa739ca8",
   "metadata": {},
   "source": [
    "* 모든 결측치를 제거했으니, 필요없다고 판단되는 데이터를 제거하겠다."
   ]
  },
  {
   "cell_type": "code",
   "execution_count": 142,
   "id": "eb767469",
   "metadata": {},
   "outputs": [
    {
     "data": {
      "text/plain": [
       "Index(['PassengerId', 'Survived', 'Pclass', 'Name', 'Sex', 'Age', 'SibSp',\n",
       "       'Parch', 'Ticket', 'Fare', 'Embarked'],\n",
       "      dtype='object')"
      ]
     },
     "execution_count": 142,
     "metadata": {},
     "output_type": "execute_result"
    }
   ],
   "source": [
    "train.columns"
   ]
  },
  {
   "cell_type": "code",
   "execution_count": 156,
   "id": "497b9cb4",
   "metadata": {},
   "outputs": [
    {
     "data": {
      "text/plain": [
       "<AxesSubplot:xlabel='Embarked', ylabel='count'>"
      ]
     },
     "execution_count": 156,
     "metadata": {},
     "output_type": "execute_result"
    },
    {
     "data": {
      "image/png": "[encoded data removed]",
      "text/plain": [
       "<Figure size 1080x1440 with 8 Axes>"
      ]
     },
     "metadata": {
      "needs_background": "light"
     },
     "output_type": "display_data"
    }
   ],
   "source": [
    "import seaborn as sns\n",
    "plt.figure(figsize=(15,20))\n",
    "\n",
    "plt.subplot(3,3,1)\n",
    "sns.countplot(data=train, x='Survived')\n",
    "plt.subplot(3,3,2)\n",
    "sns.countplot(data=train, x='Sex', hue=\"Survived\")\n",
    "plt.subplot(3,3,3)\n",
    "sns.countplot(data=train, x='Age')\n",
    "plt.subplot(3,3,4)\n",
    "sns.countplot(data=train, x='SibSp', hue=\"Survived\")\n",
    "plt.subplot(3,3,5)\n",
    "sns.countplot(data=train, x='Parch', hue=\"Survived\")\n",
    "plt.subplot(3,3,6)\n",
    "sns.countplot(data=train, x='Fare')\n",
    "\n",
    "plt.subplot(3,3,7)\n",
    "sns.countplot(data=train, x='Pclass', hue=\"Survived\")  # 오브젝트 시 범주별로 분류\n",
    "plt.subplot(3,3,8)\n",
    "sns.countplot(data=train, x='Embarked', hue=\"Survived\") # 오브젝트 시 범주별로 분류\n",
    "\n",
    "\n",
    "\n",
    "# 고루 분포해있는편"
   ]
  },
  {
   "cell_type": "markdown",
   "id": "9f2c0d6a",
   "metadata": {},
   "source": [
    "* 눈에 띄는 요소는 성별/티켓 클래스/항구별 다른 분포를 보인다는 점이다.\n",
    "    * 예를 들면 남자는 죽은 사람이 많은 반면 여자는 생존한 사람이 많고,\n",
    "    * 티켓클래스가 1클래스의 사람은 생존한 사람이 많은 반면, 3클래스의 사람은 죽은 사람이 월등히 많다.\n",
    "    * 항구별로도 C항구의 입항자가 살아난 경우가 많다."
   ]
  },
  {
   "cell_type": "markdown",
   "id": "80e881cb",
   "metadata": {},
   "source": [
    "* 동승자가 없을 때 더 많이 죽은 걸로 보이기 때문에\n",
    "    * SibSp와 Parch는 합산하여 0과 이외로 동승 여부의 이진 분류로만 쓰고자 한다."
   ]
  },
  {
   "cell_type": "code",
   "execution_count": 149,
   "id": "8c2b2f48",
   "metadata": {},
   "outputs": [],
   "source": [
    "train[\"With\"] = train['SibSp'] + train['Parch'] \n",
    "x_test[\"With\"] = x_test['SibSp'] + x_test['Parch'] \n",
    "\n",
    "train[\"With\"] = train[\"With\"].apply(lambda x : 1 if x > 0 else 0)\n",
    "x_test[\"With\"] = x_test[\"With\"].apply(lambda x : 1 if x > 0 else 0)"
   ]
  },
  {
   "cell_type": "markdown",
   "id": "55c8137c",
   "metadata": {},
   "source": [
    "* 실제로 혼자온 사람이 죽은 비율이 높은 것을 알 수 있다"
   ]
  },
  {
   "cell_type": "code",
   "execution_count": 153,
   "id": "1f133db5",
   "metadata": {},
   "outputs": [
    {
     "data": {
      "text/plain": [
       "<AxesSubplot:xlabel='With', ylabel='count'>"
      ]
     },
     "execution_count": 153,
     "metadata": {},
     "output_type": "execute_result"
    },
    {
     "data": {
      "image/png": "[encoded data removed]",
      "text/plain": [
       "<Figure size 432x288 with 1 Axes>"
      ]
     },
     "metadata": {
      "needs_background": "light"
     },
     "output_type": "display_data"
    }
   ],
   "source": [
    "sns.countplot(data=train, x='With', hue=\"Survived\")"
   ]
  },
  {
   "cell_type": "markdown",
   "id": "b970d49e",
   "metadata": {},
   "source": [
    "* 써야할 변수 선정\n",
    "    * Sex / String / 이진 분류\n",
    "    * Age / int \n",
    "    * Fare / int\n",
    "    * PClass / String / 다중 클래스 분류\n",
    "    * Embarked / String / 다중 클래스 분류\n",
    "    * With(파생변수) / String / 이진 분류"
   ]
  },
  {
   "cell_type": "code",
   "execution_count": 225,
   "id": "4fc4e1ce",
   "metadata": {},
   "outputs": [],
   "source": [
    "# 원핫 인코딩\n",
    "multi = [\"Pclass\", \"Embarked\"]\n",
    "train_mult = train[multi].copy()\n",
    "train_mult[\"Pclass\"] = train_mult[\"Pclass\"].astype(\"object\")\n",
    "train_mult = pd.get_dummies(train_mult)\n",
    "train_mult.reset_index(inplace=True)\n",
    "\n",
    "x_test_mult = x_test[multi].copy()\n",
    "x_test_mult[\"Pclass\"] = x_test_mult[\"Pclass\"].astype(\"object\")\n",
    "x_test_mult = pd.get_dummies(x_test_mult)\n",
    "x_test_mult.reset_index(inplace=True)\n",
    "\n",
    "# 레이블 인코딩\n",
    "from sklearn.preprocessing import LabelEncoder\n",
    "le = LabelEncoder()\n",
    "train_sex = le.fit_transform(train[\"Sex\"])\n",
    "x_test_sex = le.fit_transform(x_test[\"Sex\"])\n",
    "\n",
    "train_sex = pd.DataFrame(data=train_sex, columns=[\"Sex\"])\n",
    "x_test_sex = pd.DataFrame(data=x_test_sex, columns=[\"Sex\"])\n",
    "\n",
    "# 필요없음\n",
    "other = [\"Age\", \"Fare\", \"With\"]\n",
    "train_else = train[other].copy()\n",
    "x_test_else = x_test[other].copy()\n",
    "\n",
    "train_else.reset_index(inplace=True)\n",
    "x_test_else.reset_index(inplace=True)\n",
    "\n",
    "x_train = pd.concat([train_mult, train_sex, train_else], axis=1)\n",
    "x_test_real = pd.concat([x_test_mult, x_test_sex, x_test_else], axis=1)\n",
    "y_train = train[[\"PassengerId\", \"Survived\"]].copy()\n",
    "y_train.reset_index(inplace=True)"
   ]
  },
  {
   "cell_type": "code",
   "execution_count": 226,
   "id": "9efa688c",
   "metadata": {},
   "outputs": [
    {
     "data": {
      "text/plain": [
       "((687, 12), (687, 3), (312, 12), (312, 2))"
      ]
     },
     "execution_count": 226,
     "metadata": {},
     "output_type": "execute_result"
    }
   ],
   "source": [
    "x_train.shape, y_train.shape, x_test_real.shape, y_test.shape"
   ]
  },
  {
   "cell_type": "code",
   "execution_count": 227,
   "id": "767f9a10",
   "metadata": {},
   "outputs": [
    {
     "data": {
      "text/plain": [
       "Index(['index', 'Pclass_1', 'Pclass_2', 'Pclass_3', 'Embarked_C', 'Embarked_Q',\n",
       "       'Embarked_S', 'Sex', 'index', 'Age', 'Fare', 'With'],\n",
       "      dtype='object')"
      ]
     },
     "execution_count": 227,
     "metadata": {},
     "output_type": "execute_result"
    }
   ],
   "source": [
    "x_train.columns"
   ]
  },
  {
   "cell_type": "code",
   "execution_count": 228,
   "id": "c3da6544",
   "metadata": {},
   "outputs": [
    {
     "data": {
      "text/plain": [
       "Index(['index', 'Pclass_1', 'Pclass_2', 'Pclass_3', 'Embarked_C', 'Embarked_Q',\n",
       "       'Embarked_S', 'Sex', 'index', 'Age', 'Fare', 'With'],\n",
       "      dtype='object')"
      ]
     },
     "execution_count": 228,
     "metadata": {},
     "output_type": "execute_result"
    }
   ],
   "source": [
    "x_test_real.columns"
   ]
  },
  {
   "cell_type": "code",
   "execution_count": 230,
   "id": "2d6c6ad3",
   "metadata": {},
   "outputs": [
    {
     "name": "stdout",
     "output_type": "stream",
     "text": [
      "              precision    recall  f1-score   support\n",
      "\n",
      "           0       0.92      0.95      0.94       188\n",
      "           1       0.92      0.88      0.90       124\n",
      "\n",
      "    accuracy                           0.92       312\n",
      "   macro avg       0.92      0.92      0.92       312\n",
      "weighted avg       0.92      0.92      0.92       312\n",
      "\n"
     ]
    }
   ],
   "source": [
    "# 모델 학습\n",
    "\n",
    "from sklearn.ensemble import RandomForestClassifier\n",
    "from sklearn.metrics import classification_report\n",
    "\n",
    "model = RandomForestClassifier(random_state=1)\n",
    "model.fit(x_train, y_train[\"Survived\"])\n",
    "pred = model.predict(x_test_real)\n",
    "print(classification_report(y_test[\"Survived\"], pred))"
   ]
  },
  {
   "cell_type": "code",
   "execution_count": null,
   "id": "4d601090",
   "metadata": {},
   "outputs": [],
   "source": []
  }
 ],
 "metadata": {
  "kernelspec": {
   "display_name": "Python 3 (ipykernel)",
   "language": "python",
   "name": "python3"
  },
  "language_info": {
   "codemirror_mode": {
    "name": "ipython",
    "version": 3
   },
   "file_extension": ".py",
   "mimetype": "text/x-python",
   "name": "python",
   "nbconvert_exporter": "python",
   "pygments_lexer": "ipython3",
   "version": "3.9.7"
  }
 },
 "nbformat": 4,
 "nbformat_minor": 5
}
