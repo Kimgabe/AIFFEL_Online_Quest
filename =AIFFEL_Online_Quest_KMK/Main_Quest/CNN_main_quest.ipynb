{
  "nbformat": 4,
  "nbformat_minor": 0,
  "metadata": {
    "colab": {
      "provenance": [],
      "gpuType": "T4",
      "authorship_tag": "ABX9TyNadzp6z4YJFw/4JX1Mbz2R",
      "include_colab_link": true
    },
    "kernelspec": {
      "name": "python3",
      "display_name": "Python 3"
    },
    "language_info": {
      "name": "python"
    },
    "accelerator": "GPU"
  },
  "cells": [
    {
      "cell_type": "markdown",
      "metadata": {
        "id": "view-in-github",
        "colab_type": "text"
      },
      "source": [
        "<a href=\"https://colab.research.google.com/github/NeatyNut/AIFFEL_Online_Quest/blob/main/Main_Quest/CNN_main_quest.ipynb\" target=\"_parent\"><img src=\"https://colab.research.google.com/assets/colab-badge.svg\" alt=\"Open In Colab\"/></a>"
      ]
    },
    {
      "cell_type": "markdown",
      "source": [
        "# 2. 인공지능과 가위바위보 하기"
      ],
      "metadata": {
        "id": "eRP7dtqNYk6Y"
      }
    },
    {
      "cell_type": "markdown",
      "source": [
        "## 개요\n",
        "\n",
        "본 자료의 목적은 CNN을 숙달하기 위함입니다. 먼저 mnist_datasets을 활용한 손글씨 분류하기를 따라해보면서 cnn의 구조와 하이퍼파라미터 조절에 대한 이해를 넓히고자 하였습니다. 그리고 손글씨 분류 실습을 바탕으로 미니프로젝트인 가위바위보 분류기를 직접 만들 예정입니다.\n",
        "\n",
        "이전 손글씨 분류와 달리 가위바위보 분류기는 직접 사진 데이터를 제작한 뒤, 작업하고자 합니다.\n",
        "\n",
        "가위바위보 분류기에 사용된 데이터는 아래 링크에서 확인하실 수 있습니다.\n",
        "\n",
        "https://drive.google.com/drive/folders/1C-t2LrYZEC-2_h1sBPY7ZFhx_UONxMVw\n",
        "\n",
        "위 링크의 \"rock_scissor_paper_5인분(1535개)\"에 해당하는 폴더입니다."
      ],
      "metadata": {
        "id": "377VdwEVgcxC"
      }
    },
    {
      "cell_type": "markdown",
      "source": [
        "# 목차\n",
        "\n",
        "## 2-1) 손글씨 분류하기\n",
        "1. 데이터 준비\n",
        "2. 딥러닝 네트워크 설계\n",
        "3. 딥러닝 네트워크 학습\n",
        "4. 딥러닝 모델 평가\n",
        "5. 딥러닝 모델 개선\n",
        "\n",
        "## 2-2) 미니 프로젝트 : 가위바위 분류기 만들기\n",
        "1. 데이터 준비\n",
        "2. 딥러닝 네트워크 설계\n",
        "3. 딥러닝 네트워크 학습\n",
        "4. 딥러닝 모델 평가\n",
        "5. 딥러닝 모델 개선\n",
        "\n",
        "## 회고"
      ],
      "metadata": {
        "id": "Zk9ljhXLIv7B"
      }
    },
    {
      "cell_type": "markdown",
      "source": [
        "---\n",
        "## **2-1) 손글씨 분류하기**\n",
        "---"
      ],
      "metadata": {
        "id": "iCzQ0UOeYDbI"
      }
    },
    {
      "cell_type": "markdown",
      "source": [
        "---\n",
        "### 1. 데이터 준비\n",
        "---"
      ],
      "metadata": {
        "id": "Y7kHjRB3JHAP"
      }
    },
    {
      "cell_type": "code",
      "execution_count": null,
      "metadata": {
        "colab": {
          "base_uri": "https://localhost:8080/"
        },
        "id": "UmNWL2asIeIB",
        "outputId": "97c24d12-1606-40b7-961b-cb1686d2566d"
      },
      "outputs": [
        {
          "output_type": "stream",
          "name": "stdout",
          "text": [
            "2.15.0\n",
            "Downloading data from https://storage.googleapis.com/tensorflow/tf-keras-datasets/mnist.npz\n",
            "11490434/11490434 [==============================] - 0s 0us/step\n",
            "60000\n"
          ]
        }
      ],
      "source": [
        "import tensorflow as tf\n",
        "from tensorflow import keras\n",
        "\n",
        "import numpy as np\n",
        "import matplotlib.pyplot as plt\n",
        "import os\n",
        "\n",
        "\n",
        "print(tf.__version__)   # Tensorflow의 버전을 출력 : 2.15버전\n",
        "\n",
        "mnist = keras.datasets.mnist\n",
        "\n",
        "(x_train, y_train), (x_test, y_test) = mnist.load_data()\n",
        "\n",
        "print(len(x_train))  # x_train 배열의 크기를 출력 : 60000"
      ]
    },
    {
      "cell_type": "markdown",
      "source": [
        "- Q. 숫자 손글씨 이미지의 크기는 무엇일까요? \"nxn\"(n은 정수)의 형태로 나타내 보세요.\n",
        "\n",
        " 28x28\n",
        "- Q. MNIST dataset에는 총 몇 장의 손글씨 이미지가 있을까요?\n",
        "\n",
        " 70,000\n",
        "\n",
        "- Q. 학습용 데이터(training set)은 대략 몇명의 손글씨가 들어있을까요?\n",
        "\n",
        " 예측 60000"
      ],
      "metadata": {
        "id": "syogFLfeJ2b2"
      }
    },
    {
      "cell_type": "markdown",
      "source": [
        "    - 손글씨 이미지 개수와 크기를 확인한 모습"
      ],
      "metadata": {
        "id": "plq_BS3gcIre"
      }
    },
    {
      "cell_type": "code",
      "source": [
        "print(x_train.shape)\n",
        "print(x_test.shape)"
      ],
      "metadata": {
        "colab": {
          "base_uri": "https://localhost:8080/"
        },
        "id": "ELO-2x7ZIfwp",
        "outputId": "19f36acb-1cd3-47b4-a1fd-471293c3d5b8"
      },
      "execution_count": null,
      "outputs": [
        {
          "output_type": "stream",
          "name": "stdout",
          "text": [
            "(60000, 28, 28)\n",
            "(10000, 28, 28)\n"
          ]
        }
      ]
    },
    {
      "cell_type": "code",
      "source": [
        "# 자, 한번 불러들인 숫자 손글씨 이미지 하나를 출력해볼까요? MNIST 데이터셋의 X항목(위 코드에서는 x_train, x_test)은 이미지 데이터를 담은 행렬(matrix)입니다.\n",
        "plt.imshow(x_train[1],cmap=plt.cm.binary)\n",
        "plt.show()"
      ],
      "metadata": {
        "colab": {
          "base_uri": "https://localhost:8080/",
          "height": 430
        },
        "id": "eVVEtSsVJVJp",
        "outputId": "b620c3c2-7acb-4c4a-c3b6-7473aa384a9a"
      },
      "execution_count": null,
      "outputs": [
        {
          "output_type": "display_data",
          "data": {
            "text/plain": [
              "<Figure size 640x480 with 1 Axes>"
            ],
            "image/png": "[encoded data removed]"
          },
          "metadata": {}
        }
      ]
    },
    {
      "cell_type": "code",
      "source": [
        "# 그렇다면 Y항목에는 어떤 값이 들어 있을까요? y_train 행렬의 2번째 값을 확인해 봅시다.\n",
        "print(y_train[1])"
      ],
      "metadata": {
        "colab": {
          "base_uri": "https://localhost:8080/"
        },
        "id": "ntWbs60mJu4X",
        "outputId": "70f0d5d2-85ba-4e3e-eff0-db0692c0d6bf"
      },
      "execution_count": null,
      "outputs": [
        {
          "output_type": "stream",
          "name": "stdout",
          "text": [
            "0\n"
          ]
        }
      ]
    },
    {
      "cell_type": "code",
      "source": [
        "# 그럼 이번에는 또 다른 이미지를 출력해볼까요?\n",
        "index=10001\n",
        "plt.imshow(x_train[index],cmap=plt.cm.binary)\n",
        "plt.show()\n",
        "print( (index+1), '번째 이미지의 숫자는 바로 ',  y_train[index], '입니다.')"
      ],
      "metadata": {
        "colab": {
          "base_uri": "https://localhost:8080/",
          "height": 448
        },
        "id": "xEyBQm8XKWKn",
        "outputId": "e87fc202-9e96-42ca-97c9-776da493c225"
      },
      "execution_count": null,
      "outputs": [
        {
          "output_type": "display_data",
          "data": {
            "text/plain": [
              "<Figure size 640x480 with 1 Axes>"
            ],
            "image/png": "[encoded data removed]"
          },
          "metadata": {}
        },
        {
          "output_type": "stream",
          "name": "stdout",
          "text": [
            "10002 번째 이미지의 숫자는 바로  8 입니다.\n"
          ]
        }
      ]
    },
    {
      "cell_type": "code",
      "source": [
        "# 자 그러면 우리가 불러들인 학습용 데이터는 과연 몇 장일까요? 아래 코드를 실행시켜 봅시다.\n",
        "print(x_train.shape)\n",
        "print(x_test.shape)"
      ],
      "metadata": {
        "colab": {
          "base_uri": "https://localhost:8080/"
        },
        "id": "gZLep7SuKae-",
        "outputId": "e50fccde-d857-47c4-fafc-0aab3869dd16"
      },
      "execution_count": null,
      "outputs": [
        {
          "output_type": "stream",
          "name": "stdout",
          "text": [
            "(60000, 28, 28)\n",
            "(10000, 28, 28)\n"
          ]
        }
      ]
    },
    {
      "cell_type": "markdown",
      "source": [
        "- Q. 언제 검증용 데이터(validation set)를 사용하나요?\n",
        "\n",
        " 하이퍼 파라미터를 평가할 때 입니다."
      ],
      "metadata": {
        "id": "4ukKAuxBKluf"
      }
    },
    {
      "cell_type": "markdown",
      "source": [
        "- Q. 교차 검증(cross validation) 기법을 옆 친구와 서로 토론하며 이해해봅시다.\n",
        "\n",
        " 적당한 크기로 나눈 뒤, 각각을 시험 데이터로 사용하여 평가하는 법입니다."
      ],
      "metadata": {
        "id": "YMYCosaLKyCo"
      }
    },
    {
      "cell_type": "code",
      "source": [
        "# 숫자 손글씨 이미지의 실제 픽셀 값은 0~255 사이의 값을 가집니다. 한번 확인해 볼까요?\n",
        "print('최소값:',np.min(x_train), ' 최대값:',np.max(x_train))"
      ],
      "metadata": {
        "colab": {
          "base_uri": "https://localhost:8080/"
        },
        "id": "aVEIsVgPKhd-",
        "outputId": "41a09bc7-be92-479f-8c5f-db43db8898b5"
      },
      "execution_count": null,
      "outputs": [
        {
          "output_type": "stream",
          "name": "stdout",
          "text": [
            "최소값: 0  최대값: 255\n"
          ]
        }
      ]
    },
    {
      "cell_type": "code",
      "source": [
        "# 인공지능 모델을 훈련시키고 사용할 때, 일반적으로 입력은 0~1 사이의 값으로 정규화 시켜주는 것이 좋습니다. MNIST 데이터는 각 픽셀의 값이 0~255 사이 범위에 있으므로 데이터들을 255.0 으로 나누어주면 됩니다. 최소값이 0, 최대값이 1에 근접하도록 나오는지 확인해 봅시다.\n",
        "x_train_norm, x_test_norm = x_train / 255.0, x_test / 255.0\n",
        "print('최소값:',np.min(x_train_norm), ' 최대값:',np.max(x_train_norm))"
      ],
      "metadata": {
        "colab": {
          "base_uri": "https://localhost:8080/"
        },
        "id": "ZmOX-n9rLsXQ",
        "outputId": "a8eda005-077b-4664-d4f2-b4295af1b8e4"
      },
      "execution_count": null,
      "outputs": [
        {
          "output_type": "stream",
          "name": "stdout",
          "text": [
            "최소값: 0.0  최대값: 1.0\n"
          ]
        }
      ]
    },
    {
      "cell_type": "markdown",
      "source": [
        "---\n",
        "### 2. 딥러닝 네트워크 설계\n",
        "---"
      ],
      "metadata": {
        "id": "fIFpXqr_MBqI"
      }
    },
    {
      "cell_type": "code",
      "source": [
        "# Sequential Model을 사용\n",
        "model=keras.models.Sequential()\n",
        "model.add(keras.layers.Conv2D(16, (3,3), activation='relu', input_shape=(28,28,1)))\n",
        "model.add(keras.layers.MaxPool2D(2,2))\n",
        "model.add(keras.layers.Conv2D(32, (3,3), activation='relu'))\n",
        "model.add(keras.layers.MaxPooling2D((2,2)))\n",
        "model.add(keras.layers.Flatten())\n",
        "model.add(keras.layers.Dense(32, activation='relu'))\n",
        "model.add(keras.layers.Dense(10, activation='softmax'))\n",
        "\n",
        "print('Model에 추가된 Layer 개수: ', len(model.layers))"
      ],
      "metadata": {
        "colab": {
          "base_uri": "https://localhost:8080/"
        },
        "id": "PRdJ80V7Lxdl",
        "outputId": "72a28bf0-6395-409c-c82b-64466adf2a49"
      },
      "execution_count": null,
      "outputs": [
        {
          "output_type": "stream",
          "name": "stdout",
          "text": [
            "Model에 추가된 Layer 개수:  7\n"
          ]
        }
      ]
    },
    {
      "cell_type": "markdown",
      "source": [
        "- Q. 입력 이미지의 형태 input_shape=(28, 28, 1) 코드가 의미하는 바는 무엇일까요?\n",
        "\n",
        " 28x28 사이즈의 채널 1개의 이미지"
      ],
      "metadata": {
        "id": "yE9V9gKGMbdr"
      }
    },
    {
      "cell_type": "code",
      "source": [
        "# 모델 과정 요약\n",
        "model.summary()"
      ],
      "metadata": {
        "colab": {
          "base_uri": "https://localhost:8080/"
        },
        "id": "3TjcH-qiMKze",
        "outputId": "065ceb8c-2fa3-4627-b19c-d6a27e2fa28e"
      },
      "execution_count": null,
      "outputs": [
        {
          "output_type": "stream",
          "name": "stdout",
          "text": [
            "Model: \"sequential\"\n",
            "_________________________________________________________________\n",
            " Layer (type)                Output Shape              Param #   \n",
            "=================================================================\n",
            " conv2d (Conv2D)             (None, 26, 26, 16)        160       \n",
            "                                                                 \n",
            " max_pooling2d (MaxPooling2  (None, 13, 13, 16)        0         \n",
            " D)                                                              \n",
            "                                                                 \n",
            " conv2d_1 (Conv2D)           (None, 11, 11, 32)        4640      \n",
            "                                                                 \n",
            " max_pooling2d_1 (MaxPoolin  (None, 5, 5, 32)          0         \n",
            " g2D)                                                            \n",
            "                                                                 \n",
            " flatten (Flatten)           (None, 800)               0         \n",
            "                                                                 \n",
            " dense (Dense)               (None, 32)                25632     \n",
            "                                                                 \n",
            " dense_1 (Dense)             (None, 10)                330       \n",
            "                                                                 \n",
            "=================================================================\n",
            "Total params: 30762 (120.16 KB)\n",
            "Trainable params: 30762 (120.16 KB)\n",
            "Non-trainable params: 0 (0.00 Byte)\n",
            "_________________________________________________________________\n"
          ]
        }
      ]
    },
    {
      "cell_type": "markdown",
      "source": [
        "---\n",
        "### 3. 딥러닝 네트워크 학습\n",
        "---"
      ],
      "metadata": {
        "id": "0ZzaBlnSMw36"
      }
    },
    {
      "cell_type": "code",
      "source": [
        "print(f\"Before Reshape - x_train_norm shape: {x_train_norm.shape}\")\n",
        "print(f\"Before Reshape - x_test_norm shape: {x_test_norm.shape}\")\n",
        "\n",
        "x_train_reshaped=x_train_norm.reshape( -1, 28, 28, 1)\n",
        "x_test_reshaped=x_test_norm.reshape( -1, 28, 28, 1)\n",
        "\n",
        "print(f\"After Reshape - x_train_reshaped shape: {x_train_reshaped.shape}\")\n",
        "print(f\"After Reshape - x_test_reshaped shape: {x_test_reshaped.shape}\")"
      ],
      "metadata": {
        "colab": {
          "base_uri": "https://localhost:8080/"
        },
        "id": "y17gcNhoMn9W",
        "outputId": "20bac8a7-5df1-4261-a1ee-2bf6ed0d10dd"
      },
      "execution_count": null,
      "outputs": [
        {
          "output_type": "stream",
          "name": "stdout",
          "text": [
            "Before Reshape - x_train_norm shape: (60000, 28, 28)\n",
            "Before Reshape - x_test_norm shape: (10000, 28, 28)\n",
            "After Reshape - x_train_reshaped shape: (60000, 28, 28, 1)\n",
            "After Reshape - x_test_reshaped shape: (10000, 28, 28, 1)\n"
          ]
        }
      ]
    },
    {
      "cell_type": "code",
      "source": [
        "model.compile(optimizer='adam',\n",
        "             loss='sparse_categorical_crossentropy',\n",
        "             metrics=['accuracy'])\n",
        "\n",
        "model.fit(x_train_reshaped, y_train, epochs=10)"
      ],
      "metadata": {
        "colab": {
          "base_uri": "https://localhost:8080/"
        },
        "id": "x9tOM8woMwY0",
        "outputId": "713d2072-32ed-40a1-c479-d73624b67841"
      },
      "execution_count": null,
      "outputs": [
        {
          "output_type": "stream",
          "name": "stdout",
          "text": [
            "Epoch 1/10\n",
            "1875/1875 [==============================] - 10s 3ms/step - loss: 0.1932 - accuracy: 0.9427\n",
            "Epoch 2/10\n",
            "1875/1875 [==============================] - 7s 4ms/step - loss: 0.0689 - accuracy: 0.9782\n",
            "Epoch 3/10\n",
            "1875/1875 [==============================] - 6s 3ms/step - loss: 0.0508 - accuracy: 0.9842\n",
            "Epoch 4/10\n",
            "1875/1875 [==============================] - 7s 4ms/step - loss: 0.0389 - accuracy: 0.9878\n",
            "Epoch 5/10\n",
            "1875/1875 [==============================] - 6s 3ms/step - loss: 0.0309 - accuracy: 0.9907\n",
            "Epoch 6/10\n",
            "1875/1875 [==============================] - 6s 3ms/step - loss: 0.0259 - accuracy: 0.9915\n",
            "Epoch 7/10\n",
            "1875/1875 [==============================] - 6s 3ms/step - loss: 0.0207 - accuracy: 0.9936\n",
            "Epoch 8/10\n",
            "1875/1875 [==============================] - 6s 3ms/step - loss: 0.0182 - accuracy: 0.9941\n",
            "Epoch 9/10\n",
            "1875/1875 [==============================] - 8s 4ms/step - loss: 0.0144 - accuracy: 0.9950\n",
            "Epoch 10/10\n",
            "1875/1875 [==============================] - 7s 4ms/step - loss: 0.0129 - accuracy: 0.9957\n"
          ]
        },
        {
          "output_type": "execute_result",
          "data": {
            "text/plain": [
              "<keras.src.callbacks.History at 0x7a2dc1befa60>"
            ]
          },
          "metadata": {},
          "execution_count": 12
        }
      ]
    },
    {
      "cell_type": "markdown",
      "source": [
        "---\n",
        "### 4. 딥러닝 모델 평가\n",
        "---"
      ],
      "metadata": {
        "id": "n7ytdQ1IO9Ug"
      }
    },
    {
      "cell_type": "markdown",
      "source": [
        "- 테스트 데이터로 성능을 확인해 보자"
      ],
      "metadata": {
        "id": "m2QWTx12PPdt"
      }
    },
    {
      "cell_type": "code",
      "source": [
        "test_loss, test_accuracy = model.evaluate(x_test_reshaped,y_test, verbose=2)\n",
        "print(f\"test_loss: {test_loss}\")\n",
        "print(f\"test_accuracy: {test_accuracy}\")"
      ],
      "metadata": {
        "colab": {
          "base_uri": "https://localhost:8080/"
        },
        "id": "SpF5iZmMNHo9",
        "outputId": "0b4d3f10-0968-4746-c879-4bf5a1d1c917"
      },
      "execution_count": null,
      "outputs": [
        {
          "output_type": "stream",
          "name": "stdout",
          "text": [
            "313/313 - 1s - loss: 0.0336 - accuracy: 0.9901 - 846ms/epoch - 3ms/step\n",
            "test_loss: 0.03356703743338585\n",
            "test_accuracy: 0.9901000261306763\n"
          ]
        }
      ]
    },
    {
      "cell_type": "markdown",
      "source": [
        "- 어떤 데이터를 잘못 추론했을까? 눈으로 확인해 보자"
      ],
      "metadata": {
        "id": "bZ_jOyV0PQgY"
      }
    },
    {
      "cell_type": "code",
      "source": [
        "predicted_result = model.predict(x_test_reshaped)  # model이 추론한 확률값.\n",
        "predicted_labels = np.argmax(predicted_result, axis=1)\n",
        "\n",
        "idx=0  #1번째 x_test를 살펴보자.\n",
        "print('model.predict() 결과 : ', predicted_result[idx])\n",
        "print('model이 추론한 가장 가능성이 높은 결과 : ', predicted_labels[idx])\n",
        "print('실제 데이터의 라벨 : ', y_test[idx])"
      ],
      "metadata": {
        "colab": {
          "base_uri": "https://localhost:8080/"
        },
        "id": "dlaAST4gPEai",
        "outputId": "d6b695bd-7a75-4fff-961b-58f7d13bfbf1"
      },
      "execution_count": null,
      "outputs": [
        {
          "output_type": "stream",
          "name": "stdout",
          "text": [
            "313/313 [==============================] - 1s 2ms/step\n",
            "model.predict() 결과 :  [8.0513070e-14 5.3606456e-11 1.2492018e-08 3.9021964e-07 6.5915407e-12\n",
            " 6.6477314e-14 8.5308632e-17 9.9999952e-01 6.2288952e-10 1.3240899e-07]\n",
            "model이 추론한 가장 가능성이 높은 결과 :  7\n",
            "실제 데이터의 라벨 :  7\n"
          ]
        }
      ]
    },
    {
      "cell_type": "code",
      "source": [
        "plt.imshow(x_test[idx],cmap=plt.cm.binary)\n",
        "plt.show()"
      ],
      "metadata": {
        "colab": {
          "base_uri": "https://localhost:8080/",
          "height": 430
        },
        "id": "2W7USVKNPSuD",
        "outputId": "6efcfea5-d468-49b3-baf3-a1a7bc38f189"
      },
      "execution_count": null,
      "outputs": [
        {
          "output_type": "display_data",
          "data": {
            "text/plain": [
              "<Figure size 640x480 with 1 Axes>"
            ],
            "image/png": "[encoded data removed]"
          },
          "metadata": {}
        }
      ]
    },
    {
      "cell_type": "code",
      "source": [
        "# model이 추론해 낸 숫자와 실제 라벨의 값이 다른 경우는 어떤 경우인지 직접 확인\n",
        "\n",
        "import random\n",
        "wrong_predict_list=[]\n",
        "for i, _ in enumerate(predicted_labels):\n",
        "    # i번째 test_labels과 y_test이 다른 경우만 모아 봅시다.\n",
        "    if predicted_labels[i] != y_test[i]:\n",
        "        wrong_predict_list.append(i)\n",
        "\n",
        "# wrong_predict_list 에서 랜덤하게 5개만 뽑아봅시다.\n",
        "samples = random.choices(population=wrong_predict_list, k=5)\n",
        "\n",
        "for n in samples:\n",
        "    print(\"예측확률분포: \" + str(predicted_result[n]))\n",
        "    print(\"라벨: \" + str(y_test[n]) + \", 예측결과: \" + str(predicted_labels[n]))\n",
        "    plt.imshow(x_test[n], cmap=plt.cm.binary)\n",
        "    plt.show()"
      ],
      "metadata": {
        "colab": {
          "base_uri": "https://localhost:8080/",
          "height": 1000
        },
        "id": "jiLyPYc1Pa2y",
        "outputId": "caab7d75-9fb3-4a39-eb0f-e96cb5588532"
      },
      "execution_count": null,
      "outputs": [
        {
          "output_type": "stream",
          "name": "stdout",
          "text": [
            "예측확률분포: [3.2910566e-07 1.4915613e-02 3.1609511e-07 1.4936769e-03 3.6775071e-02\n",
            " 6.3855014e-06 1.5564425e-05 3.6193863e-01 2.9448915e-01 2.9036528e-01]\n",
            "라벨: 9, 예측결과: 7\n"
          ]
        },
        {
          "output_type": "display_data",
          "data": {
            "text/plain": [
              "<Figure size 640x480 with 1 Axes>"
            ],
            "image/png": "[encoded data removed]"
          },
          "metadata": {}
        },
        {
          "output_type": "stream",
          "name": "stdout",
          "text": [
            "예측확률분포: [2.2929595e-15 1.5209518e-11 2.2891903e-02 2.4930766e-06 8.9252509e-19\n",
            " 4.5290388e-18 4.1522646e-16 9.7710502e-01 5.4968336e-07 3.3119554e-14]\n",
            "라벨: 2, 예측결과: 7\n"
          ]
        },
        {
          "output_type": "display_data",
          "data": {
            "text/plain": [
              "<Figure size 640x480 with 1 Axes>"
            ],
            "image/png": "[encoded data removed]"
          },
          "metadata": {}
        },
        {
          "output_type": "stream",
          "name": "stdout",
          "text": [
            "예측확률분포: [4.5444867e-08 1.7882448e-06 2.5435907e-07 5.2240019e-04 8.6098012e-12\n",
            " 5.4677363e-02 7.0194318e-14 9.4479746e-01 3.6771600e-10 6.2055756e-07]\n",
            "라벨: 5, 예측결과: 7\n"
          ]
        },
        {
          "output_type": "display_data",
          "data": {
            "text/plain": [
              "<Figure size 640x480 with 1 Axes>"
            ],
            "image/png": "[encoded data removed]"
          },
          "metadata": {}
        },
        {
          "output_type": "stream",
          "name": "stdout",
          "text": [
            "예측확률분포: [1.1542970e-11 4.7618759e-08 8.2854045e-12 8.3037696e-05 3.5716850e-02\n",
            " 2.4272947e-06 2.9203842e-09 1.4692438e-08 2.2193319e-06 9.6419543e-01]\n",
            "라벨: 4, 예측결과: 9\n"
          ]
        },
        {
          "output_type": "display_data",
          "data": {
            "text/plain": [
              "<Figure size 640x480 with 1 Axes>"
            ],
            "image/png": "[encoded data removed]"
          },
          "metadata": {}
        },
        {
          "output_type": "stream",
          "name": "stdout",
          "text": [
            "예측확률분포: [4.0989775e-08 1.8065250e-05 1.3957525e-06 2.4501085e-01 2.3174567e-05\n",
            " 6.9071519e-01 3.6908904e-08 2.8392466e-04 4.2633161e-02 2.1314181e-02]\n",
            "라벨: 9, 예측결과: 5\n"
          ]
        },
        {
          "output_type": "display_data",
          "data": {
            "text/plain": [
              "<Figure size 640x480 with 1 Axes>"
            ],
            "image/png": "[encoded data removed]"
          },
          "metadata": {}
        }
      ]
    },
    {
      "cell_type": "markdown",
      "source": [
        "---\n",
        "### 5. 딥러닝 모델 개선\n",
        "---"
      ],
      "metadata": {
        "id": "iDrzjx8aQOiA"
      }
    },
    {
      "cell_type": "markdown",
      "source": [
        "- 최적의 하이퍼파라미터 찾기"
      ],
      "metadata": {
        "id": "O9fgsUncW5IJ"
      }
    },
    {
      "cell_type": "code",
      "source": [
        "# 바꿔 볼 수 있는 하이퍼파라미터들\n",
        "n_channel_1=[16, 32, 64]\n",
        "n_channel_2=[16, 32, 64]\n",
        "n_dense=[16, 32, 64]\n",
        "n_train_epoch=[10, 20]\n",
        "\n",
        "import random\n",
        "\n",
        "n1 = random.randint(0, 2)\n",
        "n2 = random.randint(0, 2)\n",
        "n3 = random.randint(0, 2)\n",
        "n4 = random.randint(0, 1)\n",
        "\n",
        "model=keras.models.Sequential()\n",
        "model.add(keras.layers.Conv2D(n_channel_1[n1], (3,3), activation='relu', input_shape=(28,28,1)))\n",
        "model.add(keras.layers.MaxPool2D(2,2))\n",
        "model.add(keras.layers.Conv2D(n_channel_2[n2], (3,3), activation='relu'))\n",
        "model.add(keras.layers.MaxPooling2D((2,2)))\n",
        "model.add(keras.layers.Flatten())\n",
        "model.add(keras.layers.Dense(n_dense[n3], activation='relu'))\n",
        "model.add(keras.layers.Dense(10, activation='softmax'))\n",
        "\n",
        "model.summary()\n",
        "model.compile(optimizer='adam',\n",
        "            loss='sparse_categorical_crossentropy',\n",
        "            metrics=['accuracy'])\n",
        "\n",
        "# 모델 훈련\n",
        "model.fit(x_train_reshaped, y_train, epochs=n_train_epoch[n4])\n",
        "\n",
        "# 모델 시험\n",
        "test_loss, test_accuracy = model.evaluate(x_test_reshaped, y_test, verbose=2)\n",
        "print(f\"n_channel_1 : {n_channel_1[n1]}, n_channel_2 : {n_channel_1[n2]}, n_dense : {n_dense[n3]}, n_train_epoch : {n_train_epoch[n4]}\")\n",
        "print(f\"test_loss: {test_loss} \")\n",
        "print(f\"test_accuracy: {test_accuracy}\")"
      ],
      "metadata": {
        "colab": {
          "base_uri": "https://localhost:8080/"
        },
        "id": "eULfcQDpPyPR",
        "outputId": "d6687fd3-21f0-4f48-ff12-70216b627ea3"
      },
      "execution_count": null,
      "outputs": [
        {
          "output_type": "stream",
          "name": "stdout",
          "text": [
            "Model: \"sequential_1\"\n",
            "_________________________________________________________________\n",
            " Layer (type)                Output Shape              Param #   \n",
            "=================================================================\n",
            " conv2d_2 (Conv2D)           (None, 26, 26, 64)        640       \n",
            "                                                                 \n",
            " max_pooling2d_2 (MaxPoolin  (None, 13, 13, 64)        0         \n",
            " g2D)                                                            \n",
            "                                                                 \n",
            " conv2d_3 (Conv2D)           (None, 11, 11, 32)        18464     \n",
            "                                                                 \n",
            " max_pooling2d_3 (MaxPoolin  (None, 5, 5, 32)          0         \n",
            " g2D)                                                            \n",
            "                                                                 \n",
            " flatten_1 (Flatten)         (None, 800)               0         \n",
            "                                                                 \n",
            " dense_2 (Dense)             (None, 32)                25632     \n",
            "                                                                 \n",
            " dense_3 (Dense)             (None, 10)                330       \n",
            "                                                                 \n",
            "=================================================================\n",
            "Total params: 45066 (176.04 KB)\n",
            "Trainable params: 45066 (176.04 KB)\n",
            "Non-trainable params: 0 (0.00 Byte)\n",
            "_________________________________________________________________\n",
            "Epoch 1/20\n",
            "1875/1875 [==============================] - 10s 4ms/step - loss: 0.1659 - accuracy: 0.9483\n",
            "Epoch 2/20\n",
            "1875/1875 [==============================] - 8s 4ms/step - loss: 0.0569 - accuracy: 0.9829\n",
            "Epoch 3/20\n",
            "1875/1875 [==============================] - 10s 5ms/step - loss: 0.0407 - accuracy: 0.9878\n",
            "Epoch 4/20\n",
            "1875/1875 [==============================] - 15s 8ms/step - loss: 0.0321 - accuracy: 0.9899\n",
            "Epoch 5/20\n",
            "1875/1875 [==============================] - 7s 4ms/step - loss: 0.0258 - accuracy: 0.9918\n",
            "Epoch 6/20\n",
            "1875/1875 [==============================] - 8s 5ms/step - loss: 0.0194 - accuracy: 0.9938\n",
            "Epoch 7/20\n",
            "1875/1875 [==============================] - 8s 4ms/step - loss: 0.0166 - accuracy: 0.9945\n",
            "Epoch 8/20\n",
            "1875/1875 [==============================] - 8s 4ms/step - loss: 0.0138 - accuracy: 0.9954\n",
            "Epoch 9/20\n",
            "1875/1875 [==============================] - 9s 5ms/step - loss: 0.0124 - accuracy: 0.9959\n",
            "Epoch 10/20\n",
            "1875/1875 [==============================] - 7s 4ms/step - loss: 0.0102 - accuracy: 0.9962\n",
            "Epoch 11/20\n",
            "1875/1875 [==============================] - 9s 5ms/step - loss: 0.0088 - accuracy: 0.9972\n",
            "Epoch 12/20\n",
            "1875/1875 [==============================] - 8s 4ms/step - loss: 0.0089 - accuracy: 0.9971\n",
            "Epoch 13/20\n",
            "1875/1875 [==============================] - 8s 4ms/step - loss: 0.0072 - accuracy: 0.9975\n",
            "Epoch 14/20\n",
            "1875/1875 [==============================] - 9s 5ms/step - loss: 0.0074 - accuracy: 0.9974\n",
            "Epoch 15/20\n",
            "1875/1875 [==============================] - 7s 4ms/step - loss: 0.0053 - accuracy: 0.9984\n",
            "Epoch 16/20\n",
            "1875/1875 [==============================] - 9s 5ms/step - loss: 0.0056 - accuracy: 0.9982\n",
            "Epoch 17/20\n",
            "1875/1875 [==============================] - 8s 4ms/step - loss: 0.0067 - accuracy: 0.9977\n",
            "Epoch 18/20\n",
            "1875/1875 [==============================] - 8s 4ms/step - loss: 0.0044 - accuracy: 0.9984\n",
            "Epoch 19/20\n",
            "1875/1875 [==============================] - 9s 5ms/step - loss: 0.0054 - accuracy: 0.9982\n",
            "Epoch 20/20\n",
            "1875/1875 [==============================] - 8s 4ms/step - loss: 0.0041 - accuracy: 0.9987\n",
            "313/313 - 1s - loss: 0.0540 - accuracy: 0.9904 - 808ms/epoch - 3ms/step\n",
            "n_channel_1 : 64, n_channel_2 : 32, n_dense : 32, n_train_epoch : 20\n",
            "test_loss: 0.05403079092502594 \n",
            "test_accuracy: 0.9904000163078308\n"
          ]
        }
      ]
    },
    {
      "cell_type": "markdown",
      "source": [
        "---\n",
        "- n_channel_1 : 64, n_channel_2 : 16, n_dense : 32, n_train_epoch : 10\n",
        "\n",
        " test_loss: <u>*0.04583282023668289*</u>, test_accuracy: <u>*0.9878000020980835*</u>\n",
        "---\n",
        " - n_channel_1 : 32, n_channel_2 : 16, n_dense : 64, n_train_epoch : 20\n",
        "\n",
        " test_loss: <u>*0.051717083901166916*</u>, test_accuracy: <u>*0.9890999794006348*</u>\n",
        "---\n",
        " - <u>**n_channel_1 : 16, n_channel_2 : 32, n_dense : 64, n_train_epoch : 10**</u>\n",
        "\n",
        " test_loss: <u>*0.03654148057103157*</u>, test_accuracy: <u>*0.9919999837875366*</u>\n",
        "---\n",
        " - n_channel_1 : 16, n_channel_2 : 32, n_dense : 16, n_train_epoch : 20\n",
        "\n",
        " test_loss: <u>*0.049409154802560806*</u>, test_accuracy: <u>*0.9894000291824341*</u>\n",
        " ---"
      ],
      "metadata": {
        "id": "7eICl23CUCFN"
      }
    },
    {
      "cell_type": "code",
      "source": [],
      "metadata": {
        "id": "TLom0NigY2ex"
      },
      "execution_count": null,
      "outputs": []
    },
    {
      "cell_type": "markdown",
      "source": [
        "---\n",
        "## **2-2) 미니 프로젝트 : 가위바위 분류기 만들기**\n",
        "---"
      ],
      "metadata": {
        "id": "oAdKGQ61YqQ4"
      }
    },
    {
      "cell_type": "markdown",
      "source": [
        "---\n",
        "### 1. 데이터 준비\n",
        "---"
      ],
      "metadata": {
        "id": "KxyunAfaY3u_"
      }
    },
    {
      "cell_type": "code",
      "source": [
        "# 라이브러리 버전 확인\n",
        "import tensorflow as tf\n",
        "import numpy as np\n",
        "\n",
        "print(tf.__version__)\n",
        "print(np.__version__)"
      ],
      "metadata": {
        "colab": {
          "base_uri": "https://localhost:8080/"
        },
        "id": "9ExNg2ucRD_p",
        "outputId": "3c63c016-5813-4242-fcaa-5d25609bfcc0"
      },
      "execution_count": null,
      "outputs": [
        {
          "output_type": "stream",
          "name": "stdout",
          "text": [
            "2.15.0\n",
            "1.23.5\n"
          ]
        }
      ]
    },
    {
      "cell_type": "markdown",
      "source": [
        "- 사진파일 업로드"
      ],
      "metadata": {
        "id": "Y13sXYKTczVD"
      }
    },
    {
      "cell_type": "code",
      "source": [
        "import zipfile\n",
        "\n",
        "# with zipfile.ZipFile('paper.zip', 'r') as zip_ref:\n",
        "#     zip_ref.extractall('/content/sample_data/rock_scissor_paper/paper')\n",
        "\n",
        "# with zipfile.ZipFile('rock.zip', 'r') as zip_ref:\n",
        "#     zip_ref.extractall('/content/sample_data/rock_scissor_paper/rock')\n",
        "\n",
        "# with zipfile.ZipFile('scissor.zip', 'r') as zip_ref:\n",
        "#     zip_ref.extractall('/content/sample_data/rock_scissor_paper/scissor')\n",
        "\n",
        "# 사용의 편의를 위해 사전에 28x28로 수정\n",
        "with zipfile.ZipFile('sample_data/rock_scissor_paper.zip', 'r') as zip_ref:\n",
        "    zip_ref.extractall('/content/sample_data/rock_scissor_paper')"
      ],
      "metadata": {
        "id": "FWLp0BY-daf8"
      },
      "execution_count": null,
      "outputs": []
    },
    {
      "cell_type": "code",
      "source": [
        "## 실수로 압축 시 삭제\n",
        "# import os\n",
        "# for i in os.listdir('/content/sample_data'):\n",
        "#   if \".jpg\" in i:\n",
        "#     os.remove('/content/sample_data/' + i)"
      ],
      "metadata": {
        "id": "dafaaG7vd23N"
      },
      "execution_count": null,
      "outputs": []
    },
    {
      "cell_type": "code",
      "source": [
        "paper_path = '/content/sample_data/rock_scissor_paper/rock_scissor_paper/paper'\n",
        "rock_path = '/content/sample_data/rock_scissor_paper/rock_scissor_paper/rock'\n",
        "scissor_path = '/content/sample_data/rock_scissor_paper/rock_scissor_paper/scissor'"
      ],
      "metadata": {
        "id": "9sA6vazufYgQ"
      },
      "execution_count": null,
      "outputs": []
    },
    {
      "cell_type": "markdown",
      "source": [
        "- 이미지 크기 확인\n",
        "\n",
        " reference : https://colab.research.google.com/drive/1l227_f3HJ4yGu_DtAkVfrGQZs1UOhQHv?usp=sharing#scrollTo=AYcE5vkJXxRp"
      ],
      "metadata": {
        "id": "PDclDE3Hh6Dt"
      }
    },
    {
      "cell_type": "code",
      "source": [
        "import os\n",
        "os.listdir(paper_path)[0]\n",
        "image_path = os.path.join(paper_path, os.listdir(paper_path)[0])\n",
        "\n",
        "from PIL import Image\n",
        "import numpy as np\n",
        "\n",
        "pil_img = Image.open(image_path)\n",
        "im = np.array(pil_img)\n",
        "im.shape"
      ],
      "metadata": {
        "colab": {
          "base_uri": "https://localhost:8080/"
        },
        "id": "yDCMINmteBsD",
        "outputId": "2a0d2edd-a249-447a-99f9-cabe6297ed6b"
      },
      "execution_count": null,
      "outputs": [
        {
          "output_type": "execute_result",
          "data": {
            "text/plain": [
              "(224, 224, 3)"
            ]
          },
          "metadata": {},
          "execution_count": 22
        }
      ]
    },
    {
      "cell_type": "markdown",
      "source": [
        "- Q. 다운로드 받은 이미지는 크기는 무엇일까요? \"nxn\"(n은 정수)의 형태로 나타내 보세요.\n",
        "\n",
        " 224x224"
      ],
      "metadata": {
        "id": "UxAQo2q8iKgA"
      }
    },
    {
      "cell_type": "markdown",
      "source": [
        "- 이제 가위 이미지를 불러와서 28x28 사이즈로 변경할 겁니다. 아래 코드를 실행해보세요. 이미지의 크기가 28x28 로 바뀌었나요?"
      ],
      "metadata": {
        "id": "UOd3C9O0jew8"
      }
    },
    {
      "cell_type": "code",
      "source": [
        "from PIL import Image\n",
        "import glob\n",
        "import os\n",
        "\n",
        "def resize_images(img_path):\n",
        "\timages=glob.glob(img_path + \"/*.jpg\")\n",
        "\n",
        "\tprint(len(images), \" images to be resized.\")\n",
        "\n",
        "    # 파일마다 모두 28x28 사이즈로 바꾸어 저장합니다.\n",
        "\ttarget_size=(28,28)\n",
        "\tfor img in images:\n",
        "\t\told_img=Image.open(img)\n",
        "\t\tnew_img=old_img.resize(target_size,Image.ANTIALIAS)\n",
        "\t\tnew_img.save(img, \"JPEG\")\n",
        "\n",
        "\tprint(len(images), \" images resized.\")"
      ],
      "metadata": {
        "id": "WpPu_DbIf0aK"
      },
      "execution_count": null,
      "outputs": []
    },
    {
      "cell_type": "code",
      "source": [
        "image_dir_path = scissor_path\n",
        "resize_images(image_dir_path)\n",
        "print(\"가위 이미지 resize 완료!\")\n",
        "\n",
        "image_dir_path = rock_path\n",
        "resize_images(image_dir_path)\n",
        "print(\"바위 이미지 resize 완료!\")\n",
        "\n",
        "image_dir_path = paper_path\n",
        "resize_images(image_dir_path)\n",
        "print(\"보 이미지 resize 완료!\")"
      ],
      "metadata": {
        "colab": {
          "base_uri": "https://localhost:8080/"
        },
        "id": "CZK0d_IAiWxn",
        "outputId": "90808bfe-402b-43d7-f994-7f4a41667d30"
      },
      "execution_count": null,
      "outputs": [
        {
          "output_type": "stream",
          "name": "stdout",
          "text": [
            "103  images to be resized.\n",
            "103  images resized.\n",
            "가위 이미지 resize 완료!\n",
            "100  images to be resized.\n"
          ]
        },
        {
          "output_type": "stream",
          "name": "stderr",
          "text": [
            "<ipython-input-23-924b3cd6b916>:14: DeprecationWarning: ANTIALIAS is deprecated and will be removed in Pillow 10 (2023-07-01). Use LANCZOS or Resampling.LANCZOS instead.\n",
            "  new_img=old_img.resize(target_size,Image.ANTIALIAS)\n"
          ]
        },
        {
          "output_type": "stream",
          "name": "stdout",
          "text": [
            "100  images resized.\n",
            "바위 이미지 resize 완료!\n",
            "101  images to be resized.\n",
            "101  images resized.\n",
            "보 이미지 resize 완료!\n"
          ]
        }
      ]
    },
    {
      "cell_type": "markdown",
      "source": [
        "---\n",
        "- 편의상 로컬에서 그림 취합 및 resize를 해온 상태라 일부코드는 실질적으론 제외합니다.\n",
        "\n",
        "- (로컬에서 아래 코드를 이용해 5명 제작분(김민기/최강훈/조수민/홍채림/김승순)을 취합하고 resize함)\n",
        "---"
      ],
      "metadata": {
        "id": "HkT2xHQsdslg"
      }
    },
    {
      "cell_type": "code",
      "source": [
        "import os\n",
        "import glob\n",
        "from PIL import Image\n",
        "import shutil\n",
        "import itertools\n",
        "\n",
        "main_path = \"C:/Users/uilov/Downloads/새 폴더/other\"  # 자기에 맞게 변경할 주소\n",
        "\n",
        "try :\n",
        "    os.mkdir(main_path + '/rock_scissor_paper_result')\n",
        "    os.mkdir(main_path + '/rock_scissor_paper_result/paper')\n",
        "    os.mkdir(main_path + '/rock_scissor_paper_result/rock')\n",
        "    os.mkdir(main_path + '/rock_scissor_paper_result/scissor')\n",
        "except :\n",
        "    pass\n",
        "\n",
        "paper_path = main_path + '/rock_scissor_paper_result/paper'\n",
        "rock_path = main_path + '/rock_scissor_paper_result/rock'\n",
        "scissor_path = main_path + '/rock_scissor_paper_result/scissor'\n",
        "\n",
        "paper_list = []\n",
        "rock_list = []\n",
        "scissor_list = []\n",
        "\n",
        "# 폴더 내부 탐색 후 jpg리스트 뽑기\n",
        "# zip경우의 수는 솔직히 시간이 짧아서 안함.ㅜ 그것 정도 직접 압축 풀자!\n",
        "def jpg_finder(path):\n",
        "    if glob.glob(path+\"/*.jpg\"):\n",
        "        return glob.glob(path+\"/*.jpg\")\n",
        "    else :\n",
        "        for item in os.listdir(path):\n",
        "            sub_folder = os.path.join(path, item)\n",
        "            if os.path.isdir(sub_folder):\n",
        "                # 재귀함수 : 서브폴더 탐색\n",
        "                return jpg_finder(sub_folder)\n",
        "\n",
        "# 폴더별로 담기\n",
        "for i in os.listdir(main_path):\n",
        "    if 'rock_scossor_paper_result' == i:\n",
        "        pass\n",
        "    elif 'paper' in i:\n",
        "        paper_list.append(jpg_finder(main_path + '/' + i))\n",
        "    elif 'rock' in i :\n",
        "        rock_list.append(jpg_finder(main_path + '/' + i))\n",
        "    elif 'scissor' in i:\n",
        "        scissor_list.append(jpg_finder(main_path + '/' + i))\n",
        "\n",
        "paper_num = 0\n",
        "rock_num = 0\n",
        "scissor_num = 0\n",
        "\n",
        "# 1차원 리스트화\n",
        "paper_list = list(itertools.chain(*paper_list))\n",
        "rock_list = list(itertools.chain(*rock_list))\n",
        "scissor_list = list(itertools.chain(*scissor_list))\n",
        "\n",
        "# 그림 사이즈 조절\n",
        "while paper_list:\n",
        "    paper_part = paper_list.pop()\n",
        "    shutil.copy(paper_part, paper_path + '/' + str(paper_num) + '.jpg')\n",
        "    paper_num += 1\n",
        "\n",
        "while rock_list:\n",
        "    rock_part = rock_list.pop()\n",
        "    shutil.copy(rock_part, rock_path + '/' + str(rock_num) + '.jpg')\n",
        "    rock_num += 1\n",
        "\n",
        "while scissor_list:\n",
        "    scissor_part = scissor_list.pop()\n",
        "    shutil.copy(scissor_part, scissor_path + '/' + str(scissor_num) + '.jpg')\n",
        "    scissor_num += 1\n",
        "\n",
        "# 그림 사이즈 조절\n",
        "def resize_images(img_path):\n",
        "\timages=glob.glob(img_path + \"/*.jpg\")\n",
        "\n",
        "\tprint(len(images), \" images to be resized.\")\n",
        "\n",
        "\ttarget_size=(28,28)\n",
        "\tfor img in images:\n",
        "\t\told_img=Image.open(img)\n",
        "\t\tnew_img=old_img.resize(target_size,Image.AFFINE) ## ANTIALIAS\n",
        "\t\tnew_img.save(img, \"JPEG\")\n",
        "\n",
        "\tprint(len(images), \" images resized.\")\n",
        "\n",
        "# 그림 사이즈 조절\n",
        "resize_images(paper_path)\n",
        "resize_images(rock_path)\n",
        "resize_images(scissor_path)"
      ],
      "metadata": {
        "id": "lLDKwk0dd08d"
      },
      "execution_count": null,
      "outputs": []
    },
    {
      "cell_type": "code",
      "source": [
        "import numpy as np\n",
        "import glob\n",
        "from PIL import Image\n",
        "\n",
        "def load_data(img_path, number_of_data=300):  # 가위바위보 이미지 개수 총합에 주의하세요.\n",
        "    # 가위 : 0, 바위 : 1, 보 : 2\n",
        "    img_size=28\n",
        "    color=3\n",
        "    #이미지 데이터와 라벨(가위 : 0, 바위 : 1, 보 : 2) 데이터를 담을 행렬(matrix) 영역을 생성합니다.\n",
        "    imgs=np.zeros(number_of_data*img_size*img_size*color,dtype=np.int32).reshape(number_of_data,img_size,img_size,color)\n",
        "    labels=np.zeros(number_of_data,dtype=np.int32)\n",
        "\n",
        "    idx=0\n",
        "    for file in glob.iglob(img_path+'/scissor/*.jpg'):\n",
        "        img = np.array(Image.open(file),dtype=np.int32)\n",
        "        imgs[idx,:,:,:]=img    # 데이터 영역에 이미지 행렬을 복사\n",
        "        labels[idx]=0   # 가위 : 0\n",
        "        idx=idx+1\n",
        "\n",
        "    for file in glob.iglob(img_path+'/rock/*.jpg'):\n",
        "        img = np.array(Image.open(file),dtype=np.int32)\n",
        "        imgs[idx,:,:,:]=img    # 데이터 영역에 이미지 행렬을 복사\n",
        "        labels[idx]=1   # 바위 : 1\n",
        "        idx=idx+1\n",
        "\n",
        "    for file in glob.iglob(img_path+'/paper/*.jpg'):\n",
        "        img = np.array(Image.open(file),dtype=np.int32)\n",
        "        imgs[idx,:,:,:]=img    # 데이터 영역에 이미지 행렬을 복사\n",
        "        labels[idx]=2   # 보 : 2\n",
        "        idx=idx+1\n",
        "\n",
        "    print(\"학습데이터(x_train)의 이미지 개수는\", idx,\"입니다.\")\n",
        "    return imgs, labels\n",
        "\n",
        "image_dir_path = '/content/sample_data/rock_scissor_paper/rock_scissor_paper'\n",
        "(x_train, y_train)=load_data(image_dir_path, 1535)\n",
        "x_train_norm = x_train/255.0   # 입력은 0~1 사이의 값으로 정규화\n",
        "\n",
        "print(\"x_train shape: {}\".format(x_train.shape))\n",
        "print(\"y_train shape: {}\".format(y_train.shape))"
      ],
      "metadata": {
        "colab": {
          "base_uri": "https://localhost:8080/"
        },
        "id": "73g08fhVj8ic",
        "outputId": "c22d5a76-20c6-40ce-f182-8c0e2a2fc0c2"
      },
      "execution_count": null,
      "outputs": [
        {
          "output_type": "stream",
          "name": "stdout",
          "text": [
            "학습데이터(x_train)의 이미지 개수는 1535 입니다.\n",
            "x_train shape: (1535, 28, 28, 3)\n",
            "y_train shape: (1535,)\n"
          ]
        }
      ]
    },
    {
      "cell_type": "markdown",
      "source": [
        "- test데이터 및 검증 데이터 분리"
      ],
      "metadata": {
        "id": "z5IWgwc3CpyG"
      }
    },
    {
      "cell_type": "code",
      "source": [
        "from sklearn.model_selection import train_test_split\n",
        "x_train, x_test, y_train, y_test = train_test_split(x_train_norm, y_train, test_size=0.3, random_state=1)"
      ],
      "metadata": {
        "id": "Zuf0AQzUCpMV"
      },
      "execution_count": null,
      "outputs": []
    },
    {
      "cell_type": "code",
      "source": [
        "n_channel_1=[16, 32, 64]\n",
        "n_channel_2=[16, 32, 64]\n",
        "n_dense=[16, 32, 64]\n",
        "n_train_epoch=[10, 20]\n",
        "\n",
        "import random\n",
        "\n",
        "n1 = random.randint(0, 2)\n",
        "n2 = random.randint(0, 2)\n",
        "n3 = random.randint(0, 2)\n",
        "n4 = random.randint(0, 1)\n",
        "\n",
        "model=keras.models.Sequential()\n",
        "model.add(keras.layers.Conv2D(n_channel_1[n1], (3,3), activation='relu', input_shape=(28,28,3)))\n",
        "model.add(keras.layers.MaxPool2D(2,2))\n",
        "model.add(keras.layers.Conv2D(n_channel_2[n2], (3,3), activation='relu'))\n",
        "model.add(keras.layers.MaxPooling2D((2,2)))\n",
        "model.add(keras.layers.Flatten())\n",
        "model.add(keras.layers.Dense(n_dense[n3], activation='relu'))\n",
        "model.add(keras.layers.Dense(3, activation='softmax'))\n",
        "\n",
        "model.summary()\n",
        "model.compile(optimizer='adam',\n",
        "            loss='sparse_categorical_crossentropy',\n",
        "            metrics=['accuracy'])\n",
        "\n",
        "# 모델 훈련\n",
        "model.fit(x_train, y_train, epochs=n_train_epoch[n4])\n",
        "\n",
        "# 모델 시험\n",
        "test_loss, test_accuracy = model.evaluate(x_test, y_test, verbose=2)\n",
        "print(f\"n_channel_1 : {n_channel_1[n1]}, n_channel_2 : {n_channel_1[n2]}, n_dense : {n_dense[n3]}, n_train_epoch : {n_train_epoch[n4]}\")\n",
        "print(f\"test_loss: {test_loss} \")\n",
        "print(f\"test_accuracy: {test_accuracy}\")"
      ],
      "metadata": {
        "colab": {
          "base_uri": "https://localhost:8080/"
        },
        "id": "H2Gq996PmB59",
        "outputId": "5939f7b3-28c1-49fc-b14b-bd47c0c674f7"
      },
      "execution_count": null,
      "outputs": [
        {
          "output_type": "stream",
          "name": "stdout",
          "text": [
            "Model: \"sequential_4\"\n",
            "_________________________________________________________________\n",
            " Layer (type)                Output Shape              Param #   \n",
            "=================================================================\n",
            " conv2d_8 (Conv2D)           (None, 26, 26, 64)        1792      \n",
            "                                                                 \n",
            " max_pooling2d_8 (MaxPoolin  (None, 13, 13, 64)        0         \n",
            " g2D)                                                            \n",
            "                                                                 \n",
            " conv2d_9 (Conv2D)           (None, 11, 11, 64)        36928     \n",
            "                                                                 \n",
            " max_pooling2d_9 (MaxPoolin  (None, 5, 5, 64)          0         \n",
            " g2D)                                                            \n",
            "                                                                 \n",
            " flatten_4 (Flatten)         (None, 1600)              0         \n",
            "                                                                 \n",
            " dense_8 (Dense)             (None, 32)                51232     \n",
            "                                                                 \n",
            " dense_9 (Dense)             (None, 3)                 99        \n",
            "                                                                 \n",
            "=================================================================\n",
            "Total params: 90051 (351.76 KB)\n",
            "Trainable params: 90051 (351.76 KB)\n",
            "Non-trainable params: 0 (0.00 Byte)\n",
            "_________________________________________________________________\n",
            "Epoch 1/20\n",
            "34/34 [==============================] - 2s 10ms/step - loss: 1.0878 - accuracy: 0.3892\n",
            "Epoch 2/20\n",
            "34/34 [==============================] - 0s 4ms/step - loss: 0.9304 - accuracy: 0.5885\n",
            "Epoch 3/20\n",
            "34/34 [==============================] - 0s 4ms/step - loss: 0.6517 - accuracy: 0.7328\n",
            "Epoch 4/20\n",
            "34/34 [==============================] - 0s 4ms/step - loss: 0.4391 - accuracy: 0.8240\n",
            "Epoch 5/20\n",
            "34/34 [==============================] - 0s 4ms/step - loss: 0.3194 - accuracy: 0.8976\n",
            "Epoch 6/20\n",
            "34/34 [==============================] - 0s 4ms/step - loss: 0.2652 - accuracy: 0.8994\n",
            "Epoch 7/20\n",
            "34/34 [==============================] - 0s 4ms/step - loss: 0.2071 - accuracy: 0.9264\n",
            "Epoch 8/20\n",
            "34/34 [==============================] - 0s 4ms/step - loss: 0.1545 - accuracy: 0.9479\n",
            "Epoch 9/20\n",
            "34/34 [==============================] - 0s 4ms/step - loss: 0.1239 - accuracy: 0.9609\n",
            "Epoch 10/20\n",
            "34/34 [==============================] - 0s 4ms/step - loss: 0.1292 - accuracy: 0.9618\n",
            "Epoch 11/20\n",
            "34/34 [==============================] - 0s 4ms/step - loss: 0.0968 - accuracy: 0.9702\n",
            "Epoch 12/20\n",
            "34/34 [==============================] - 0s 4ms/step - loss: 0.0802 - accuracy: 0.9749\n",
            "Epoch 13/20\n",
            "34/34 [==============================] - 0s 4ms/step - loss: 0.0592 - accuracy: 0.9870\n",
            "Epoch 14/20\n",
            "34/34 [==============================] - 0s 4ms/step - loss: 0.0563 - accuracy: 0.9851\n",
            "Epoch 15/20\n",
            "34/34 [==============================] - 0s 4ms/step - loss: 0.0445 - accuracy: 0.9898\n",
            "Epoch 16/20\n",
            "34/34 [==============================] - 0s 4ms/step - loss: 0.0476 - accuracy: 0.9879\n",
            "Epoch 17/20\n",
            "34/34 [==============================] - 0s 4ms/step - loss: 0.0471 - accuracy: 0.9851\n",
            "Epoch 18/20\n",
            "34/34 [==============================] - 0s 4ms/step - loss: 0.0405 - accuracy: 0.9879\n",
            "Epoch 19/20\n",
            "34/34 [==============================] - 0s 4ms/step - loss: 0.0272 - accuracy: 0.9916\n",
            "Epoch 20/20\n",
            "34/34 [==============================] - 0s 4ms/step - loss: 0.0350 - accuracy: 0.9926\n",
            "15/15 - 0s - loss: 0.0788 - accuracy: 0.9761 - 243ms/epoch - 16ms/step\n",
            "n_channel_1 : 64, n_channel_2 : 64, n_dense : 32, n_train_epoch : 20\n",
            "test_loss: 0.07877163589000702 \n",
            "test_accuracy: 0.9761388301849365\n"
          ]
        }
      ]
    },
    {
      "cell_type": "markdown",
      "source": [
        "---\n",
        "- n_channel_1 : 16, n_channel_2 : 64, n_dense : 16, n_train_epoch : 20\n",
        "\n",
        " test_loss: <u>*0.11732624471187592*</u>, test_accuracy: <u>*0.9457700848579407*</u>\n",
        "---\n",
        "- n_channel_1 : 16, n_channel_2 : 32, n_dense : 32, n_train_epoch : 10\n",
        "\n",
        " test_loss: <u>*0.3113362193107605*</u>, test_accuracy: <u>*0.8633405566215515*</u>\n",
        "\n",
        "---\n",
        "- n_channel_1 : 16, n_channel_2 : 16, n_dense : 16, n_train_epoch : 20\n",
        "\n",
        " <u>*test_loss: 0.19668112695217133*</u>, <u>*test_accuracy: 0.924078106880188*</u>\n",
        "\n",
        "---\n",
        "- **n_channel_1 : 64, n_channel_2 : 64, n_dense : 32, n_train_epoch : 20**\n",
        "\n",
        " <u>*test_loss: 0.07877163589000702*<u>, test_accuracy: <u>*0.9761388301849365*<u>\n",
        "---"
      ],
      "metadata": {
        "id": "oSe4ZUNEb9Kz"
      }
    },
    {
      "cell_type": "markdown",
      "source": [
        "- 하이퍼파라미터가 **n_channel_1 : 64, n_channel_2 : 64, n_dense : 32, n_train_epoch : 20**\n",
        "인 경우\n",
        "\n",
        " <u>*정확도가 97.6%*</u>로 결과가 가장 좋았다고 판단됩니다."
      ],
      "metadata": {
        "id": "arXYdufJevjV"
      }
    },
    {
      "cell_type": "markdown",
      "source": [
        "## 번외\n",
        "\n",
        "- 김민기/최강훈/조수민/홍채림/김승순님 데이터(1535개) 학습 후,\n",
        "- 이선재님 데이터(755개) 정확도 분석"
      ],
      "metadata": {
        "id": "l30-cvv1nGfQ"
      }
    },
    {
      "cell_type": "code",
      "source": [
        "# 압축풀기\n",
        "with zipfile.ZipFile('sample_data/SeonJae_test.zip', 'r') as zip_ref:\n",
        "    zip_ref.extractall('/content/sample_data/SeonJae_test')"
      ],
      "metadata": {
        "id": "pzHaEMYMnIoh"
      },
      "execution_count": null,
      "outputs": []
    },
    {
      "cell_type": "code",
      "source": [
        "image_dir_path = '/content/sample_data/rock_scissor_paper/rock_scissor_paper'\n",
        "(x_train, y_train)=load_data(image_dir_path, 1535)\n",
        "x_train_norm = x_train/255.0   # 입력은 0~1 사이의 값으로 정규화\n",
        "\n",
        "print(\"x_train shape: {}\".format(x_train.shape))\n",
        "print(\"y_train shape: {}\".format(y_train.shape))"
      ],
      "metadata": {
        "colab": {
          "base_uri": "https://localhost:8080/"
        },
        "id": "A3t2hfF7nIlY",
        "outputId": "8bfb506b-3e5a-40b0-8d96-3d320ad3a5ef"
      },
      "execution_count": null,
      "outputs": [
        {
          "output_type": "stream",
          "name": "stdout",
          "text": [
            "학습데이터(x_train)의 이미지 개수는 1535 입니다.\n",
            "x_train shape: (1535, 28, 28, 3)\n",
            "y_train shape: (1535,)\n"
          ]
        }
      ]
    },
    {
      "cell_type": "code",
      "source": [
        "image_dir_path = '/content/sample_data/SeonJae_test'\n",
        "(x_test, y_test)=load_data(image_dir_path, 755)\n",
        "x_test_norm = x_test/255.0   # 입력은 0~1 사이의 값으로 정규화\n",
        "\n",
        "print(\"x_test shape: {}\".format(x_test.shape))\n",
        "print(\"y_test shape: {}\".format(y_test.shape))"
      ],
      "metadata": {
        "colab": {
          "base_uri": "https://localhost:8080/"
        },
        "id": "r21XM9KJnIhh",
        "outputId": "7759a597-2ad8-41cf-86b2-0173ac5d7f31"
      },
      "execution_count": null,
      "outputs": [
        {
          "output_type": "stream",
          "name": "stdout",
          "text": [
            "학습데이터(x_train)의 이미지 개수는 755 입니다.\n",
            "x_test shape: (755, 28, 28, 3)\n",
            "y_test shape: (755,)\n"
          ]
        }
      ]
    },
    {
      "cell_type": "code",
      "source": [
        "model=keras.models.Sequential()\n",
        "model.add(keras.layers.Conv2D(128, (2,2), activation='relu', input_shape=(28,28,3)))\n",
        "model.add(keras.layers.MaxPool2D(2,2))\n",
        "model.add(keras.layers.Conv2D(64, (4,4), activation='relu'))\n",
        "model.add(keras.layers.MaxPooling2D((2,2)))\n",
        "model.add(keras.layers.Flatten())\n",
        "model.add(keras.layers.Dense(32, activation='relu'))\n",
        "model.add(keras.layers.Dense(16, activation='relu'))\n",
        "model.add(keras.layers.Dense(3, activation='softmax'))\n",
        "\n",
        "model.summary()\n",
        "model.compile(optimizer='adam',\n",
        "            loss='sparse_categorical_crossentropy',\n",
        "            metrics=['accuracy'])\n",
        "\n",
        "# 모델 훈련\n",
        "model.optimizer.learning_rate = 0.01\n",
        "model.fit(x_train_norm, y_train, epochs=20)\n",
        "\n",
        "# 모델 시험\n",
        "test_loss, test_accuracy = model.evaluate(x_test_norm, y_test, verbose=2)\n",
        "print(f\"test_loss: {test_loss} \")\n",
        "print(f\"test_accuracy: {test_accuracy}\")"
      ],
      "metadata": {
        "colab": {
          "base_uri": "https://localhost:8080/"
        },
        "id": "0xYlbxeOoZ5Y",
        "outputId": "2fc0c6b3-f700-4c31-bb33-e82ba51dd0c6"
      },
      "execution_count": null,
      "outputs": [
        {
          "output_type": "stream",
          "name": "stdout",
          "text": [
            "Model: \"sequential_38\"\n",
            "_________________________________________________________________\n",
            " Layer (type)                Output Shape              Param #   \n",
            "=================================================================\n",
            " conv2d_81 (Conv2D)          (None, 27, 27, 128)       1664      \n",
            "                                                                 \n",
            " max_pooling2d_79 (MaxPooli  (None, 13, 13, 128)       0         \n",
            " ng2D)                                                           \n",
            "                                                                 \n",
            " conv2d_82 (Conv2D)          (None, 10, 10, 64)        131136    \n",
            "                                                                 \n",
            " max_pooling2d_80 (MaxPooli  (None, 5, 5, 64)          0         \n",
            " ng2D)                                                           \n",
            "                                                                 \n",
            " flatten_36 (Flatten)        (None, 1600)              0         \n",
            "                                                                 \n",
            " dense_88 (Dense)            (None, 32)                51232     \n",
            "                                                                 \n",
            " dense_89 (Dense)            (None, 16)                528       \n",
            "                                                                 \n",
            " dense_90 (Dense)            (None, 3)                 51        \n",
            "                                                                 \n",
            "=================================================================\n",
            "Total params: 184611 (721.14 KB)\n",
            "Trainable params: 184611 (721.14 KB)\n",
            "Non-trainable params: 0 (0.00 Byte)\n",
            "_________________________________________________________________\n",
            "Epoch 1/20\n",
            "48/48 [==============================] - 2s 7ms/step - loss: 1.1589 - accuracy: 0.3368\n",
            "Epoch 2/20\n",
            "48/48 [==============================] - 0s 7ms/step - loss: 1.1001 - accuracy: 0.3166\n",
            "Epoch 3/20\n",
            "48/48 [==============================] - 0s 6ms/step - loss: 1.0731 - accuracy: 0.4078\n",
            "Epoch 4/20\n",
            "48/48 [==============================] - 0s 5ms/step - loss: 0.9049 - accuracy: 0.5518\n",
            "Epoch 5/20\n",
            "48/48 [==============================] - 0s 5ms/step - loss: 0.6200 - accuracy: 0.7264\n",
            "Epoch 6/20\n",
            "48/48 [==============================] - 0s 4ms/step - loss: 0.4070 - accuracy: 0.8326\n",
            "Epoch 7/20\n",
            "48/48 [==============================] - 0s 4ms/step - loss: 0.2801 - accuracy: 0.8971\n",
            "Epoch 8/20\n",
            "48/48 [==============================] - 0s 4ms/step - loss: 0.2276 - accuracy: 0.9160\n",
            "Epoch 9/20\n",
            "48/48 [==============================] - 0s 4ms/step - loss: 0.1873 - accuracy: 0.9251\n",
            "Epoch 10/20\n",
            "48/48 [==============================] - 0s 4ms/step - loss: 0.1777 - accuracy: 0.9394\n",
            "Epoch 11/20\n",
            "48/48 [==============================] - 0s 4ms/step - loss: 0.1172 - accuracy: 0.9583\n",
            "Epoch 12/20\n",
            "48/48 [==============================] - 0s 4ms/step - loss: 0.1136 - accuracy: 0.9570\n",
            "Epoch 13/20\n",
            "48/48 [==============================] - 0s 4ms/step - loss: 0.1023 - accuracy: 0.9590\n",
            "Epoch 14/20\n",
            "48/48 [==============================] - 0s 4ms/step - loss: 0.0777 - accuracy: 0.9713\n",
            "Epoch 15/20\n",
            "48/48 [==============================] - 0s 4ms/step - loss: 0.0637 - accuracy: 0.9746\n",
            "Epoch 16/20\n",
            "48/48 [==============================] - 0s 4ms/step - loss: 0.0654 - accuracy: 0.9733\n",
            "Epoch 17/20\n",
            "48/48 [==============================] - 0s 4ms/step - loss: 0.0596 - accuracy: 0.9792\n",
            "Epoch 18/20\n",
            "48/48 [==============================] - 0s 4ms/step - loss: 0.0474 - accuracy: 0.9811\n",
            "Epoch 19/20\n",
            "48/48 [==============================] - 0s 4ms/step - loss: 0.0529 - accuracy: 0.9765\n",
            "Epoch 20/20\n",
            "48/48 [==============================] - 0s 5ms/step - loss: 0.0338 - accuracy: 0.9883\n",
            "24/24 - 0s - loss: 7.9660 - accuracy: 0.4172 - 187ms/epoch - 8ms/step\n",
            "test_loss: 7.966012954711914 \n",
            "test_accuracy: 0.41721853613853455\n"
          ]
        }
      ]
    },
    {
      "cell_type": "markdown",
      "source": [
        "---\n",
        "1. 선재님꺼 학습률 및 드롭아웃으로 오버피팅 제한 안할 시\n",
        "\n",
        " test_loss: 10.423787117004395, test_accuracy: 0.3430463671684265\n",
        "\n",
        "---\n",
        "2. 드롭아웃x 학습률 : 0.01\n",
        "\n",
        " test_loss: 11.653243064880371, test_accuracy: 0.40264901518821716\n",
        "---\n",
        "3. 드롭아웃x 학습률 : 0.005\n",
        "\n",
        " test_loss: 13.568696022033691, test_accuracy: 0.33774834871292114\n",
        "---\n",
        "4. 드롭아웃0.5, 학습률 : 0.01\n",
        "\n",
        " test_loss: 1.7258131504058838, test_accuracy: 0.5178807973861694\n",
        "\n",
        "---"
      ],
      "metadata": {
        "id": "fO9_Uvi1p4kf"
      }
    },
    {
      "cell_type": "markdown",
      "source": [
        "5. 신경망 조정\n",
        "\n",
        " test_loss: 7.966012954711914, test_accuracy: 0.41721853613853455\n",
        "\n",
        "---"
      ],
      "metadata": {
        "id": "xsM-Av58tNti"
      }
    },
    {
      "cell_type": "markdown",
      "source": [
        "## 회고"
      ],
      "metadata": {
        "id": "B0YBJ5ITh0tr"
      }
    },
    {
      "cell_type": "markdown",
      "source": [
        "### Keep\n",
        "혼자의 데이터로는 부족하다고 생각하여 5명분의 데이터를 취합하여 학습하는 방향으로 실시하였다\n",
        "\n",
        "### Problem\n",
        "처음에는 다 업로드한 뒤 28x28사이즈로 줄이고자 하였으나, 제 인터넷이 너무 느린 관계로 로컬에서 5개를 취합하고, 사이즈를 줄이는 작업을 하고자 하였다.\n",
        "\n",
        "선재님꺼에 대한 예측도가 굉장히 떨어지는 편.. 오버피팅 제한하는 것들을 넣으면 나아지지만 이 상황에선 사실상 선재님꺼도 학습하는 것이 더 좋은 모델이라고 깨달을 수 있었다.\n",
        "\n",
        "### Try\n",
        "로컬에서는 사이즈 변경 시 위의 코드처럼 ANTIALIAS이 아닌 AFFINE을 넣어야만 되어서 시간을 너무 많이 소진하였다."
      ],
      "metadata": {
        "id": "gU6WgU3GijG-"
      }
    },
    {
      "cell_type": "code",
      "source": [],
      "metadata": {
        "id": "_J5AsVhth1z5"
      },
      "execution_count": null,
      "outputs": []
    }
  ]
}