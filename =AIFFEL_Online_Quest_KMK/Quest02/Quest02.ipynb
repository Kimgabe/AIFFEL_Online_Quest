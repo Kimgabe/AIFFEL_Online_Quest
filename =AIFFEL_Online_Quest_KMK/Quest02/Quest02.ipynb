{
  "nbformat": 4,
  "nbformat_minor": 0,
  "metadata": {
    "colab": {
      "provenance": [],
      "include_colab_link": true
    },
    "kernelspec": {
      "name": "python3",
      "display_name": "Python 3"
    },
    "language_info": {
      "name": "python"
    }
  },
  "cells": [
    {
      "cell_type": "markdown",
      "metadata": {
        "id": "view-in-github",
        "colab_type": "text"
      },
      "source": [
        "<a href=\"https://colab.research.google.com/github/NeatyNut/AIFFEL_Online_Quest/blob/main/Quest02/Quest02.ipynb\" target=\"_parent\"><img src=\"https://colab.research.google.com/assets/colab-badge.svg\" alt=\"Open In Colab\"/></a>"
      ]
    },
    {
      "cell_type": "code",
      "execution_count": 70,
      "metadata": {
        "id": "o0dHqJ-HrG1D"
      },
      "outputs": [],
      "source": [
        "fish_list = [{'이름':'Nemo', 'speed':3}, {'이름':'Dory', 'speed':5}]"
      ]
    },
    {
      "cell_type": "code",
      "source": [
        "# 리스트컴프리헨션\n",
        "def show_fish_movement_comprehension(args) : # unpaking할 필요가 없어서 *생략\n",
        "  if type(args) != list :\n",
        "    raise ValueError(\"리스트만 넣어주세요\") # 리스트만 인수로 받도록 이외 자료형 타입 받을 시 오류 발생\n",
        "\n",
        "  # 리스트의 요소가 dictionary에 key값으로 이름과 speed를 갖는 것만 리스트에 담기\n",
        "  result = [arg['이름'] + ' is swimming at ' + str(arg['speed']) + 'm/s' for arg in args if type(arg) == dict and '이름' in arg.keys() and 'speed' in arg.keys()]\n",
        "  # 결과 리스트 리턴\n",
        "  return result"
      ],
      "metadata": {
        "id": "rAwLlZYds-tg"
      },
      "execution_count": 113,
      "outputs": []
    },
    {
      "cell_type": "code",
      "source": [
        "# 제너레이터\n",
        "def show_fish_movement_generator(args) : # unpaking할 필요가 없어서 *생략\n",
        "  if type(args) != list :\n",
        "    raise ValueError(\"리스트만 넣어주세요\") # 리스트만 인수로 받도록 이외 자료형 타입 받을 시 오류 발생\n",
        "\n",
        "  # 리스트의 요소가 dictionary에 key값으로 이름과 speed를 갖는 것만 제너레이터에에 담기\n",
        "  for arg in args :\n",
        "    if type(arg) == dict and '이름' in arg.keys() and 'speed' in arg.keys() :\n",
        "      yield arg['이름'] + ' is swimming at ' + str(arg['speed']) + 'm/s'"
      ],
      "metadata": {
        "id": "poq1AZx3_2DN"
      },
      "execution_count": 114,
      "outputs": []
    },
    {
      "cell_type": "code",
      "source": [
        "gen = show_fish_movement_generator(fish_list)\n",
        "print(next(gen))\n",
        "print(next(gen))"
      ],
      "metadata": {
        "id": "50WvjaOjA36K",
        "outputId": "1b3e85dc-150a-4802-c0f8-bc6b2e880f7f",
        "colab": {
          "base_uri": "https://localhost:8080/"
        }
      },
      "execution_count": 124,
      "outputs": [
        {
          "output_type": "stream",
          "name": "stdout",
          "text": [
            "Nemo is swimming at 3m/s\n",
            "Dory is swimming at 5m/s\n"
          ]
        }
      ]
    }
  ]
}