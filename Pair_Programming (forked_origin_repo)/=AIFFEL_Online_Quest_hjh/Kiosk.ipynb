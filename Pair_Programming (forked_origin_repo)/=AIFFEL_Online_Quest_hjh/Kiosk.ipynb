{
  "nbformat": 4,
  "nbformat_minor": 0,
  "metadata": {
    "colab": {
      "provenance": [],
      "authorship_tag": "ABX9TyPenb/jI/cwlAl+jCmbr5h0",
      "include_colab_link": true
    },
    "kernelspec": {
      "name": "python3",
      "display_name": "Python 3"
    },
    "language_info": {
      "name": "python"
    }
  },
  "cells": [
    {
      "cell_type": "markdown",
      "metadata": {
        "id": "view-in-github",
        "colab_type": "text"
      },
      "source": [
        "<a href=\"https://colab.research.google.com/github/hjhan1201/AIFFEL_Online_Quest/blob/main/Kiosk.ipynb\" target=\"_parent\"><img src=\"https://colab.research.google.com/assets/colab-badge.svg\" alt=\"Open In Colab\"/></a>"
      ]
    },
    {
      "cell_type": "code",
      "execution_count": null,
      "metadata": {
        "id": "32COkW-Zi5Qx"
      },
      "outputs": [],
      "source": [
        "class Kiosk:\n",
        "    def __init__(self):\n",
        "        # 문제 2-1의 답을 입력하세요.\n",
        "        self.menu = menu\n",
        "        self.price = price\n",
        "\n",
        "    # 메뉴 출력 메서드\n",
        "    def menu_print(self):\n",
        "        for i in range(len(self.menu)):\n",
        "            print(i + 1, self.menu[i], ' : ', self.price[i], '원')\n",
        "\n",
        "    # 주문 메서드\n",
        "    def menu_select(self):\n",
        "        print()  # 줄 바꿈\n",
        "        n = 0\n",
        "        while n < 1 or len(menu) < n:\n",
        "            n = int(input(\"음료 번호를 입력하세요 : \"))  # 음료 번호 입력\n",
        "\n",
        "            # 메뉴판에 있는 음료 번호일때\n",
        "            if 1 <= n & n <= len(menu):\n",
        "                self.price_sum = self.price[n-1]  # 선택 음료의 가격\n",
        "\n",
        "            # 메뉴판에 없는 번호일 때\n",
        "            else:\n",
        "                print(\"없는 메뉴입니다. 다시 주문해 주세요.\")\n",
        "\n",
        "        # 음료 온도 물어보기\n",
        "        t = 0  # 기본값을 넣어주고\n",
        "        while t != 1 and t != 2:  # 1이나 2를 입력할 때까지 물어보기\n",
        "            t= int(input(\"HOT 음료는 1을, ICE 음료는 2를 입력하세요 : \"))\n",
        "            # 문제 2-3. 음료의 온도에 따라 temp 변수를 \"HOT\" 또는 \"ICE\"로 지정하세요.\n",
        "            # 힌트: if문을 활용해보세요.\n",
        "            if t==1:\n",
        "                self.temp = 'HOT'\n",
        "            if t==2:\n",
        "                self.temp = 'COLD'\n",
        "\n",
        "            else:\n",
        "                print(\"1과 2 중 하나를 입력하세요.\\n\")\n",
        "        # 문제 2-2의 답을 입력하세요.\n",
        "        print('주문 음료 : ', self.temp, self.menu[n-1], ' : ', self.price[n-1], '원')  # 온도 속성을 추가한 주문 결과 출력"
      ]
    }
  ]
}