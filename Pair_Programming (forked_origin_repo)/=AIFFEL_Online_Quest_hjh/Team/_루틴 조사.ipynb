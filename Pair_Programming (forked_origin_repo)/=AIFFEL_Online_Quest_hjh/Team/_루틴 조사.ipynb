{
  "nbformat": 4,
  "nbformat_minor": 0,
  "metadata": {
    "colab": {
      "provenance": [],
      "include_colab_link": true
    },
    "kernelspec": {
      "name": "python3",
      "display_name": "Python 3"
    },
    "language_info": {
      "name": "python"
    }
  },
  "cells": [
    {
      "cell_type": "markdown",
      "metadata": {
        "id": "view-in-github",
        "colab_type": "text"
      },
      "source": [
        "<a href=\"https://colab.research.google.com/github/hjhan1201/AIFFEL_Online_Quest/blob/main/Team/%20%EB%A3%A8%ED%8B%B4%20%EC%A1%B0%EC%82%AC.ipynb\" target=\"_parent\"><img src=\"https://colab.research.google.com/assets/colab-badge.svg\" alt=\"Open In Colab\"/></a>"
      ]
    },
    {
      "cell_type": "code",
      "execution_count": null,
      "metadata": {
        "id": "D7Uf45eDPMgB",
        "colab": {
          "base_uri": "https://localhost:8080/"
        },
        "outputId": "b2b7d1a4-3271-4784-eb9a-6b7ec5accbb8"
      },
      "outputs": [
        {
          "output_type": "stream",
          "name": "stdout",
          "text": [
            "morning일과 1, 2, 3, 41\n",
            "morning일과를 입력하세요밥먹기\n",
            "[1, '밥먹기']\n",
            "noon일과 1, 2, 3, 42\n",
            "noon일과를 입력하세요운동하기\n",
            "[2, '운동하기']\n",
            "evening일과 1, 2, 3, 43\n",
            "evening일과를 입력하세요책읽기\n",
            "[3, '책읽기']\n"
          ]
        }
      ],
      "source": [
        "def category(text):\n",
        "  morning = []\n",
        "  noon = []\n",
        "  evening = []\n",
        "\n",
        "  category = int(input(text + \"일과 1, 2, 3, 4\"))\n",
        "  # 카테고리 선택\n",
        "  if category != 1 and category != 2 and category != 3 and category != 4:\n",
        "    print(\"1, 2, 3, 4 중 하나를 입력하세요\\n\")\n",
        "  # 오전, 오후, 저녁에 무슨 활동을 하는지?\n",
        "  else:\n",
        "    if text == \"morning\":\n",
        "      morning.append(category)\n",
        "      morning.append(input(text + \"일과를 입력하세요\"))\n",
        "      print(morning)\n",
        "    elif text == \"noon\":\n",
        "      noon.append(category)\n",
        "      noon.append(input(text + \"일과를 입력하세요\"))\n",
        "      print(noon)\n",
        "    else:\n",
        "      evening.append(category)\n",
        "      evening.append(input(text + \"일과를 입력하세요\"))\n",
        "      print(evening)\n",
        "\n",
        "\n",
        "category('morning')\n",
        "category('noon')\n",
        "category('evening')\n"
      ]
    }
  ]
}