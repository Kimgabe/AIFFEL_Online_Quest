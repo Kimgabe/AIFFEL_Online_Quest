{
  "nbformat": 4,
  "nbformat_minor": 0,
  "metadata": {
    "colab": {
      "provenance": [],
      "authorship_tag": "ABX9TyNMIBmOUhhRlHbkBiOvrB46",
      "include_colab_link": true
    },
    "kernelspec": {
      "name": "python3",
      "display_name": "Python 3"
    },
    "language_info": {
      "name": "python"
    }
  },
  "cells": [
    {
      "cell_type": "markdown",
      "metadata": {
        "id": "view-in-github",
        "colab_type": "text"
      },
      "source": [
        "<a href=\"https://colab.research.google.com/github/hjhan1201/AIFFEL_Online_Quest/blob/main/DeepLearning_1S1K_Tensor.ipynb\" target=\"_parent\"><img src=\"https://colab.research.google.com/assets/colab-badge.svg\" alt=\"Open In Colab\"/></a>"
      ]
    },
    {
      "cell_type": "code",
      "source": [
        "import tensorflow as tf"
      ],
      "metadata": {
        "id": "HLSz9oj3-wUq"
      },
      "execution_count": 56,
      "outputs": []
    },
    {
      "cell_type": "code",
      "execution_count": 57,
      "metadata": {
        "colab": {
          "base_uri": "https://localhost:8080/"
        },
        "id": "RS0ZSeyw-aEv",
        "outputId": "02cbcaf5-495d-486d-a139-5efafba5fccf"
      },
      "outputs": [
        {
          "output_type": "stream",
          "name": "stdout",
          "text": [
            "tf.Tensor(1, shape=(), dtype=int32)\n",
            "tf.Tensor(0, shape=(), dtype=int32)\n"
          ]
        }
      ],
      "source": [
        "t0 = tf.constant(1)\n",
        "print(t0)\n",
        "print(tf.rank(t0)) # 축의 개수를 반환합니다."
      ]
    },
    {
      "cell_type": "code",
      "source": [
        "t1 = tf.constant([1, 2, 3])\n",
        "print(t1)\n",
        "print(tf.rank(t1))"
      ],
      "metadata": {
        "colab": {
          "base_uri": "https://localhost:8080/"
        },
        "id": "agej_v2W-in_",
        "outputId": "50e23ff8-9ff2-47ec-f540-6efa9c58a872"
      },
      "execution_count": 58,
      "outputs": [
        {
          "output_type": "stream",
          "name": "stdout",
          "text": [
            "tf.Tensor([1 2 3], shape=(3,), dtype=int32)\n",
            "tf.Tensor(1, shape=(), dtype=int32)\n"
          ]
        }
      ]
    },
    {
      "cell_type": "code",
      "source": [
        "# Q. 위 이미지와 같은 크기 (3, 3)의 2차원 텐서를 만들고, 차원을 반환해 주세요.\n",
        "t2 = tf.constant([[1, 2, 3],[1, 2, 3],[1, 2, 3]])\n",
        "print(t2)\n",
        "print(tf.rank(t2))"
      ],
      "metadata": {
        "colab": {
          "base_uri": "https://localhost:8080/"
        },
        "id": "_n-4DmfB-kIk",
        "outputId": "32076c48-04de-438a-9b7a-edd7d2b9799e"
      },
      "execution_count": 59,
      "outputs": [
        {
          "output_type": "stream",
          "name": "stdout",
          "text": [
            "tf.Tensor(\n",
            "[[1 2 3]\n",
            " [1 2 3]\n",
            " [1 2 3]], shape=(3, 3), dtype=int32)\n",
            "tf.Tensor(2, shape=(), dtype=int32)\n"
          ]
        }
      ]
    },
    {
      "cell_type": "code",
      "source": [
        "# Q. 위 이미지와 같은 크기(3, 3, 3)의 3차원 텐서를 만들고, 차원을 반환해 주세요.\n",
        "t3 = tf.constant([[[1, 2, 3],[1, 2, 3],[1, 2, 3]],[[1, 2, 3],[1, 2, 3],[1, 2, 3]],[[1, 2, 3],[1, 2, 3],[1, 2, 3]]])\n",
        "print(t3)\n",
        "print(tf.rank(t3))"
      ],
      "metadata": {
        "colab": {
          "base_uri": "https://localhost:8080/"
        },
        "id": "vP6irEk--lVZ",
        "outputId": "4a75c59f-b345-4fe6-d49c-46987fbc1cf9"
      },
      "execution_count": 60,
      "outputs": [
        {
          "output_type": "stream",
          "name": "stdout",
          "text": [
            "tf.Tensor(\n",
            "[[[1 2 3]\n",
            "  [1 2 3]\n",
            "  [1 2 3]]\n",
            "\n",
            " [[1 2 3]\n",
            "  [1 2 3]\n",
            "  [1 2 3]]\n",
            "\n",
            " [[1 2 3]\n",
            "  [1 2 3]\n",
            "  [1 2 3]]], shape=(3, 3, 3), dtype=int32)\n",
            "tf.Tensor(3, shape=(), dtype=int32)\n"
          ]
        }
      ]
    },
    {
      "cell_type": "code",
      "source": [
        "i = tf.constant(2)\n",
        "print(i)"
      ],
      "metadata": {
        "colab": {
          "base_uri": "https://localhost:8080/"
        },
        "id": "8ieUZqh8-oT1",
        "outputId": "c7ab8c19-6689-4a36-fabc-3a916198e6ed"
      },
      "execution_count": 61,
      "outputs": [
        {
          "output_type": "stream",
          "name": "stdout",
          "text": [
            "tf.Tensor(2, shape=(), dtype=int32)\n"
          ]
        }
      ]
    },
    {
      "cell_type": "code",
      "source": [
        "f = tf.constant(2.)\n",
        "print(f)"
      ],
      "metadata": {
        "colab": {
          "base_uri": "https://localhost:8080/"
        },
        "id": "XAOOy88K-pE3",
        "outputId": "3a18a2e3-70c8-4fa4-cfd3-da7ac63b4950"
      },
      "execution_count": 62,
      "outputs": [
        {
          "output_type": "stream",
          "name": "stdout",
          "text": [
            "tf.Tensor(2.0, shape=(), dtype=float32)\n"
          ]
        }
      ]
    },
    {
      "cell_type": "code",
      "source": [
        "s = tf.constant('Suan')\n",
        "print(s)"
      ],
      "metadata": {
        "colab": {
          "base_uri": "https://localhost:8080/"
        },
        "id": "f4B6xZPl-qFV",
        "outputId": "f7a9a0f1-0ee9-4def-8d99-44c7e5358c30"
      },
      "execution_count": 63,
      "outputs": [
        {
          "output_type": "stream",
          "name": "stdout",
          "text": [
            "tf.Tensor(b'Suan', shape=(), dtype=string)\n"
          ]
        }
      ]
    },
    {
      "cell_type": "code",
      "source": [
        "f16 = tf.constant(2., dtype=tf.float16)\n",
        "print(f16)"
      ],
      "metadata": {
        "colab": {
          "base_uri": "https://localhost:8080/"
        },
        "id": "84Fg9D_N-q3A",
        "outputId": "1c64a8c6-928a-449d-98ff-93c7ae8fe49d"
      },
      "execution_count": 64,
      "outputs": [
        {
          "output_type": "stream",
          "name": "stdout",
          "text": [
            "tf.Tensor(2.0, shape=(), dtype=float16)\n"
          ]
        }
      ]
    },
    {
      "cell_type": "code",
      "source": [
        "# Q. 8비트의 정수형을 지정하여 텐서를 생성해 보세요.\n",
        "f8 = tf.constant(2, dtype=tf.int8)\n",
        "print(f8)"
      ],
      "metadata": {
        "colab": {
          "base_uri": "https://localhost:8080/"
        },
        "id": "9458YCi6-7Qz",
        "outputId": "4adef999-50fb-48a5-d57b-04dba0a78f3e"
      },
      "execution_count": 65,
      "outputs": [
        {
          "output_type": "stream",
          "name": "stdout",
          "text": [
            "tf.Tensor(2, shape=(), dtype=int8)\n"
          ]
        }
      ]
    },
    {
      "cell_type": "code",
      "source": [
        "f32 = tf.cast(f16, tf.float32)\n",
        "print(f32)"
      ],
      "metadata": {
        "colab": {
          "base_uri": "https://localhost:8080/"
        },
        "id": "7IZbmpAD--Zq",
        "outputId": "c0992d7d-cc38-4d14-c7c6-a9b33149e4ce"
      },
      "execution_count": 66,
      "outputs": [
        {
          "output_type": "stream",
          "name": "stdout",
          "text": [
            "tf.Tensor(2.0, shape=(), dtype=float32)\n"
          ]
        }
      ]
    },
    {
      "cell_type": "code",
      "source": [
        "#  Q. 8비트 정수형을 32비트 정수형으로 변환해 보세요.\n",
        "f322 = tf.cast(f, tf.int32)"
      ],
      "metadata": {
        "id": "ZQpsNalq-_WI"
      },
      "execution_count": 67,
      "outputs": []
    },
    {
      "cell_type": "code",
      "source": [
        "x = tf.constant([[1], [2], [3]])\n",
        "print(x)\n",
        "print(x.shape)\n",
        "\n",
        "y = tf.reshape(x, [1, 3])\n",
        "print(y)\n",
        "print(y.shape)"
      ],
      "metadata": {
        "colab": {
          "base_uri": "https://localhost:8080/"
        },
        "id": "5Sh4biJ3_AVB",
        "outputId": "1096608e-86e9-4dc5-9538-da2901950d13"
      },
      "execution_count": 68,
      "outputs": [
        {
          "output_type": "stream",
          "name": "stdout",
          "text": [
            "tf.Tensor(\n",
            "[[1]\n",
            " [2]\n",
            " [3]], shape=(3, 1), dtype=int32)\n",
            "(3, 1)\n",
            "tf.Tensor([[1 2 3]], shape=(1, 3), dtype=int32)\n",
            "(1, 3)\n"
          ]
        }
      ]
    },
    {
      "cell_type": "code",
      "source": [
        "print(y)\n",
        "print(tf.transpose(y))\n",
        "print(y.shape)"
      ],
      "metadata": {
        "colab": {
          "base_uri": "https://localhost:8080/"
        },
        "id": "XZtwzfAS_CuQ",
        "outputId": "f734dbf1-263d-4fdf-98bf-128b4748396e"
      },
      "execution_count": 69,
      "outputs": [
        {
          "output_type": "stream",
          "name": "stdout",
          "text": [
            "tf.Tensor([[1 2 3]], shape=(1, 3), dtype=int32)\n",
            "tf.Tensor(\n",
            "[[1]\n",
            " [2]\n",
            " [3]], shape=(3, 1), dtype=int32)\n",
            "(1, 3)\n"
          ]
        }
      ]
    },
    {
      "cell_type": "code",
      "source": [
        "print(x)\n",
        "print(tf.squeeze(x))"
      ],
      "metadata": {
        "colab": {
          "base_uri": "https://localhost:8080/"
        },
        "id": "A_Z0NVcD_EB0",
        "outputId": "3696c8c7-6385-4dff-b911-005e90a85921"
      },
      "execution_count": 70,
      "outputs": [
        {
          "output_type": "stream",
          "name": "stdout",
          "text": [
            "tf.Tensor(\n",
            "[[1]\n",
            " [2]\n",
            " [3]], shape=(3, 1), dtype=int32)\n",
            "tf.Tensor([1 2 3], shape=(3,), dtype=int32)\n"
          ]
        }
      ]
    },
    {
      "cell_type": "code",
      "source": [
        "print(y)\n",
        "print(tf.expand_dims(y, axis=0))\n",
        "print(tf.expand_dims(y, axis=1))\n",
        "print(tf.expand_dims(y, axis=2))"
      ],
      "metadata": {
        "colab": {
          "base_uri": "https://localhost:8080/"
        },
        "id": "ebqd5Rf5_GIM",
        "outputId": "a16798a5-832a-47ac-9dcc-f01d6ef51950"
      },
      "execution_count": 71,
      "outputs": [
        {
          "output_type": "stream",
          "name": "stdout",
          "text": [
            "tf.Tensor([[1 2 3]], shape=(1, 3), dtype=int32)\n",
            "tf.Tensor([[[1 2 3]]], shape=(1, 1, 3), dtype=int32)\n",
            "tf.Tensor([[[1 2 3]]], shape=(1, 1, 3), dtype=int32)\n",
            "tf.Tensor(\n",
            "[[[1]\n",
            "  [2]\n",
            "  [3]]], shape=(1, 3, 1), dtype=int32)\n"
          ]
        }
      ]
    },
    {
      "cell_type": "code",
      "source": [
        "print(x)\n",
        "print(tf.split(x, 3))"
      ],
      "metadata": {
        "colab": {
          "base_uri": "https://localhost:8080/"
        },
        "id": "PRLsPXpB_HWd",
        "outputId": "d057c06d-b291-4662-b81d-bd9312c9765b"
      },
      "execution_count": 72,
      "outputs": [
        {
          "output_type": "stream",
          "name": "stdout",
          "text": [
            "tf.Tensor(\n",
            "[[1]\n",
            " [2]\n",
            " [3]], shape=(3, 1), dtype=int32)\n",
            "[<tf.Tensor: shape=(1, 1), dtype=int32, numpy=array([[1]], dtype=int32)>, <tf.Tensor: shape=(1, 1), dtype=int32, numpy=array([[2]], dtype=int32)>, <tf.Tensor: shape=(1, 1), dtype=int32, numpy=array([[3]], dtype=int32)>]\n"
          ]
        }
      ]
    },
    {
      "cell_type": "code",
      "source": [
        "print(x)\n",
        "print(tf.concat([x, x], axis=0))\n",
        "print(tf.concat([x, x], axis=1))"
      ],
      "metadata": {
        "colab": {
          "base_uri": "https://localhost:8080/"
        },
        "id": "vOcgAt18_INV",
        "outputId": "432a71e0-1cc4-4f74-de3d-677c117f9098"
      },
      "execution_count": 73,
      "outputs": [
        {
          "output_type": "stream",
          "name": "stdout",
          "text": [
            "tf.Tensor(\n",
            "[[1]\n",
            " [2]\n",
            " [3]], shape=(3, 1), dtype=int32)\n",
            "tf.Tensor(\n",
            "[[1]\n",
            " [2]\n",
            " [3]\n",
            " [1]\n",
            " [2]\n",
            " [3]], shape=(6, 1), dtype=int32)\n",
            "tf.Tensor(\n",
            "[[1 1]\n",
            " [2 2]\n",
            " [3 3]], shape=(3, 2), dtype=int32)\n"
          ]
        }
      ]
    },
    {
      "cell_type": "code",
      "source": [
        "print(tf.constant(2) + tf.constant(2))\n",
        "print(tf.constant(2) - tf.constant(2))\n",
        "print(tf.add(tf.constant(2), tf.constant(2)))\n",
        "print(tf.subtract(tf.constant(2), tf.constant(2)))"
      ],
      "metadata": {
        "colab": {
          "base_uri": "https://localhost:8080/"
        },
        "id": "4l7zVlJp_t1o",
        "outputId": "2406153d-0b89-46f2-a4ad-0604792bef72"
      },
      "execution_count": 74,
      "outputs": [
        {
          "output_type": "stream",
          "name": "stdout",
          "text": [
            "tf.Tensor(4, shape=(), dtype=int32)\n",
            "tf.Tensor(0, shape=(), dtype=int32)\n",
            "tf.Tensor(4, shape=(), dtype=int32)\n",
            "tf.Tensor(0, shape=(), dtype=int32)\n"
          ]
        }
      ]
    },
    {
      "cell_type": "code",
      "source": [
        "print(tf.constant(2) * tf.constant(2))\n",
        "print(tf.constant(2) / tf.constant(2))\n",
        "print(tf.multiply(tf.constant(2), tf.constant(2)))\n",
        "print(tf.divide(tf.constant(2), tf.constant(2)))"
      ],
      "metadata": {
        "colab": {
          "base_uri": "https://localhost:8080/"
        },
        "id": "JWhPtTuV_wdA",
        "outputId": "ded7b27b-dfd4-4d4e-e158-4e73620413f8"
      },
      "execution_count": 75,
      "outputs": [
        {
          "output_type": "stream",
          "name": "stdout",
          "text": [
            "tf.Tensor(4, shape=(), dtype=int32)\n",
            "tf.Tensor(1.0, shape=(), dtype=float64)\n",
            "tf.Tensor(4, shape=(), dtype=int32)\n",
            "tf.Tensor(1.0, shape=(), dtype=float64)\n"
          ]
        }
      ]
    },
    {
      "cell_type": "code",
      "source": [
        "#print(tf.constant(2) + tf.constant(2.2))"
      ],
      "metadata": {
        "id": "dYtS7H3X_yzA"
      },
      "execution_count": 76,
      "outputs": []
    },
    {
      "cell_type": "markdown",
      "source": [
        "텐서 연산에서 주의할 점은 서로 다른 타입을 가지는 텐서는 연산이 되지 않고, 에러가 발생한다는 점입니다.\n",
        "\n",
        "다른 타입을 가지는 텐서는 연산을 위해서 타입을 변환해 주어야합니다. 2-3 스텝에서 언급했던 tf.cast를 사용하여 텐서의 타입을 서로 맞춰준 후에 연산을 할 수 있습니다"
      ],
      "metadata": {
        "id": "tsGcObZ5AUO_"
      }
    },
    {
      "cell_type": "code",
      "source": [
        "print(tf.cast(tf.constant(2), tf.float32) + tf.constant(2.2))"
      ],
      "metadata": {
        "colab": {
          "base_uri": "https://localhost:8080/"
        },
        "id": "_jCoZ4j2_ziU",
        "outputId": "18914ab6-565b-4b3a-b3e3-9ce91a8975c4"
      },
      "execution_count": 77,
      "outputs": [
        {
          "output_type": "stream",
          "name": "stdout",
          "text": [
            "tf.Tensor(4.2, shape=(), dtype=float32)\n"
          ]
        }
      ]
    },
    {
      "cell_type": "code",
      "source": [
        "# Q. 1차원 텐서 2개를 생성해 보세요.\n",
        "t1 = tf.constant([1, 2, 3])\n",
        "t2 = tf.constant([4, 5, 6])"
      ],
      "metadata": {
        "id": "FNcoujtK_1FQ"
      },
      "execution_count": 78,
      "outputs": []
    },
    {
      "cell_type": "code",
      "source": [
        "# Q. 사칙연산(더하기, 빼기, 곱하기, 나누기)을 해보세요.\n",
        "print(t1+t2)\n",
        "print(t1-t2)\n",
        "print(t1*t2)\n",
        "print(t1/t2)"
      ],
      "metadata": {
        "colab": {
          "base_uri": "https://localhost:8080/"
        },
        "id": "yfflpFpV_2Id",
        "outputId": "e3c334f5-650f-4731-cb0c-4a76611bb5e0"
      },
      "execution_count": 79,
      "outputs": [
        {
          "output_type": "stream",
          "name": "stdout",
          "text": [
            "tf.Tensor([5 7 9], shape=(3,), dtype=int32)\n",
            "tf.Tensor([-3 -3 -3], shape=(3,), dtype=int32)\n",
            "tf.Tensor([ 4 10 18], shape=(3,), dtype=int32)\n",
            "tf.Tensor([0.25 0.4  0.5 ], shape=(3,), dtype=float64)\n"
          ]
        }
      ]
    },
    {
      "cell_type": "code",
      "source": [
        "# Q. 크기 (2,2)인 2차원 텐서 2개를 생성해 보세요.\n",
        "a = tf.constant([[1, 2],\n",
        "                [3,4]])\n",
        "b = tf.constant([[5, 6],\n",
        "                [7,8]])"
      ],
      "metadata": {
        "id": "Poi0pl-T_3Bf"
      },
      "execution_count": 80,
      "outputs": []
    },
    {
      "cell_type": "code",
      "source": [
        "print(a + b) # element-wise addition\n",
        "print(a - b) # element-wise subtraction\n",
        "print(a * b) # element-wise multiplication\n",
        "print(a @ b) # matrix multiplication\n",
        "print(a / b) # element-wise division"
      ],
      "metadata": {
        "colab": {
          "base_uri": "https://localhost:8080/"
        },
        "id": "ALOa01z3_35Y",
        "outputId": "8d091cd6-36b5-4ab7-9c82-5a6e64a85f34"
      },
      "execution_count": 81,
      "outputs": [
        {
          "output_type": "stream",
          "name": "stdout",
          "text": [
            "tf.Tensor(\n",
            "[[ 6  8]\n",
            " [10 12]], shape=(2, 2), dtype=int32)\n",
            "tf.Tensor(\n",
            "[[-4 -4]\n",
            " [-4 -4]], shape=(2, 2), dtype=int32)\n",
            "tf.Tensor(\n",
            "[[ 5 12]\n",
            " [21 32]], shape=(2, 2), dtype=int32)\n",
            "tf.Tensor(\n",
            "[[19 22]\n",
            " [43 50]], shape=(2, 2), dtype=int32)\n",
            "tf.Tensor(\n",
            "[[0.2        0.33333333]\n",
            " [0.42857143 0.5       ]], shape=(2, 2), dtype=float64)\n"
          ]
        }
      ]
    },
    {
      "cell_type": "code",
      "source": [
        "print(tf.add(a, b))\n",
        "print(tf.subtract(a, b))\n",
        "print(tf.multiply(a, b))\n",
        "print(tf.matmul(a, b))\n",
        "print(tf.divide(a, b))"
      ],
      "metadata": {
        "colab": {
          "base_uri": "https://localhost:8080/"
        },
        "id": "sC144o5N_5A7",
        "outputId": "f02b7561-b907-4b1b-a20f-822ef21b8da6"
      },
      "execution_count": 82,
      "outputs": [
        {
          "output_type": "stream",
          "name": "stdout",
          "text": [
            "tf.Tensor(\n",
            "[[ 6  8]\n",
            " [10 12]], shape=(2, 2), dtype=int32)\n",
            "tf.Tensor(\n",
            "[[-4 -4]\n",
            " [-4 -4]], shape=(2, 2), dtype=int32)\n",
            "tf.Tensor(\n",
            "[[ 5 12]\n",
            " [21 32]], shape=(2, 2), dtype=int32)\n",
            "tf.Tensor(\n",
            "[[19 22]\n",
            " [43 50]], shape=(2, 2), dtype=int32)\n",
            "tf.Tensor(\n",
            "[[0.2        0.33333333]\n",
            " [0.42857143 0.5       ]], shape=(2, 2), dtype=float64)\n"
          ]
        }
      ]
    },
    {
      "cell_type": "code",
      "source": [
        "c = tf.constant([[4.0, 5.0, 6.0],\n",
        "                 [10.0, 9.0, 8.0]])\n",
        "\n",
        "print(tf.reduce_max(c))\n",
        "print(tf.argmax(c))\n",
        "print(tf.nn.softmax(c))"
      ],
      "metadata": {
        "colab": {
          "base_uri": "https://localhost:8080/"
        },
        "id": "6BQL_K1R_6v9",
        "outputId": "02f9a0f7-a1e3-4e95-8b17-2c1e0c277adf"
      },
      "execution_count": 83,
      "outputs": [
        {
          "output_type": "stream",
          "name": "stdout",
          "text": [
            "tf.Tensor(10.0, shape=(), dtype=float32)\n",
            "tf.Tensor([1 1 1], shape=(3,), dtype=int64)\n",
            "tf.Tensor(\n",
            "[[0.09003057 0.24472848 0.66524094]\n",
            " [0.66524094 0.24472848 0.09003057]], shape=(2, 3), dtype=float32)\n"
          ]
        }
      ]
    },
    {
      "cell_type": "markdown",
      "source": [
        "reduce_max(): 텐서 값 중에서 최대값을 계산합니다.\n",
        "\n",
        "argmax(): 최대값의 위치를 반환합니다. 예제에서는 [4.0, 5.0, 6.0] 보다 [10.0, 9.0, 8.0]이 다 크기 때문에 [0 0 0]이 아니라 [1 1 1]의 결과를 보여주고 있습니다.\n",
        "\n",
        "nn.softmax(): 텐서의 값을 0과 1 사이의 값으로 보여줍니다. 예제에서는 [4.0, 5.0, 6.0] 값이 [0.09003057 0.24472848 0.66524094]으로 변환되었고, [10.0, 9.0, 8.0]이 [0.66524094 0.24472848 0.09003057]로 변환되었습니다.\n",
        "\n",
        "---\n",
        "\n"
      ],
      "metadata": {
        "id": "kwB3UARB_8Uz"
      }
    },
    {
      "cell_type": "code",
      "source": [
        "# [Playground] 다양한 텐서의 연산을 연습해 보세요!\n",
        "t2 = tf.constant([[1, 2, 3],[4, 5, 6],[7, 8, 9]])\n",
        "t4 = tf.constant([[1, 2, 3],[1, 2, 3],[1, 2, 3]])\n",
        "\n",
        "print(t2 +t4) # element-wise addition\n",
        "print(t2 - t4) # element-wise subtraction\n",
        "print(t2 * t4) # element-wise multiplication\n",
        "print(t2 @ t4) # matrix multiplication\n",
        "print(t2 / t4) # element-wise division"
      ],
      "metadata": {
        "colab": {
          "base_uri": "https://localhost:8080/"
        },
        "id": "AXFRhyXEAJ8y",
        "outputId": "bb73d584-3173-4889-d48d-aab4d5f77cd0"
      },
      "execution_count": 84,
      "outputs": [
        {
          "output_type": "stream",
          "name": "stdout",
          "text": [
            "tf.Tensor(\n",
            "[[ 2  4  6]\n",
            " [ 5  7  9]\n",
            " [ 8 10 12]], shape=(3, 3), dtype=int32)\n",
            "tf.Tensor(\n",
            "[[0 0 0]\n",
            " [3 3 3]\n",
            " [6 6 6]], shape=(3, 3), dtype=int32)\n",
            "tf.Tensor(\n",
            "[[ 1  4  9]\n",
            " [ 4 10 18]\n",
            " [ 7 16 27]], shape=(3, 3), dtype=int32)\n",
            "tf.Tensor(\n",
            "[[ 6 12 18]\n",
            " [15 30 45]\n",
            " [24 48 72]], shape=(3, 3), dtype=int32)\n",
            "tf.Tensor(\n",
            "[[1.  1.  1. ]\n",
            " [4.  2.5 2. ]\n",
            " [7.  4.  3. ]], shape=(3, 3), dtype=float64)\n"
          ]
        }
      ]
    },
    {
      "cell_type": "code",
      "source": [
        "a = tf.constant([1, 2, 3, 4, 5, 6, 7, 8])\n",
        "b = tf.constant([[1., 2., 3., 4., 5., 6., 7., 8.]])\n",
        "\n",
        "# Q. 위에 있는 2개의 텐서를 행렬곱연산이 가능하도록 3차원 텐서로 변환해주세요.\n",
        "a = tf.reshape(a,[2,2,2])\n",
        "b = tf.transpose(tf.reshape(b, [2, 2, 2]))\n",
        "b = tf.cast(b, tf.int32)\n",
        "print(a)\n",
        "print(b)\n",
        "\n",
        "print(a@b)"
      ],
      "metadata": {
        "colab": {
          "base_uri": "https://localhost:8080/"
        },
        "id": "TLqMrLvfAemy",
        "outputId": "9627f6c7-46c2-4842-afe5-653b394c2423"
      },
      "execution_count": 85,
      "outputs": [
        {
          "output_type": "stream",
          "name": "stdout",
          "text": [
            "tf.Tensor(\n",
            "[[[1 2]\n",
            "  [3 4]]\n",
            "\n",
            " [[5 6]\n",
            "  [7 8]]], shape=(2, 2, 2), dtype=int32)\n",
            "tf.Tensor(\n",
            "[[[1 5]\n",
            "  [3 7]]\n",
            "\n",
            " [[2 6]\n",
            "  [4 8]]], shape=(2, 2, 2), dtype=int32)\n",
            "tf.Tensor(\n",
            "[[[  7  19]\n",
            "  [ 15  43]]\n",
            "\n",
            " [[ 34  78]\n",
            "  [ 46 106]]], shape=(2, 2, 2), dtype=int32)\n"
          ]
        }
      ]
    }
  ]
}
