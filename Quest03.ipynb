{
  "nbformat": 4,
  "nbformat_minor": 0,
  "metadata": {
    "colab": {
      "provenance": [],
      "include_colab_link": true
    },
    "kernelspec": {
      "name": "python3",
      "display_name": "Python 3"
    },
    "language_info": {
      "name": "python"
    }
  },
  "cells": [
    {
      "cell_type": "markdown",
      "metadata": {
        "id": "view-in-github",
        "colab_type": "text"
      },
      "source": [
        "<a href=\"https://colab.research.google.com/github/hjhan1201/AIFFEL_Online_Quest/blob/main/Quest03.ipynb\" target=\"_parent\"><img src=\"https://colab.research.google.com/assets/colab-badge.svg\" alt=\"Open In Colab\"/></a>"
      ]
    },
    {
      "cell_type": "markdown",
      "source": [
        "코더: 조보겸, 김승순, 한현종\n",
        "\n",
        "# 문제 정의\n",
        "- 다음 조건을 확인하여 Avengers Script에서 워드 단위의 2-gram을 구하고, Script에서 가장 빈도가 높은 2-gram 페어를 찾아라!\n",
        "\n",
        "\n",
        "## 요구사항\n",
        "- string, collection, n-gram으로 풀어야함\n",
        "- Avengers.txt 파일을 사용한다.\n",
        "- 모든 문자는 소문자로 변환한다.\n",
        "- 모든 기호를 제거한 후, 2-gram을 구한다.\n",
        "\n",
        "\"I am hungry......very much...\"를 word단위로 자르면 , `['i', 'am', 'hungry','very','much']` 가 되어야 한다.\n",
        "\n",
        "\n",
        "## 출력 예시\n",
        "\n",
        "\n",
        "===\n",
        "\n",
        "\n",
        "입력값 :\n",
        "print(max2gram, countdict[max2gram])\n",
        "print(Counter(baglist))\n",
        "\n",
        "출력값 :\n",
        "('it', 's') 68\n",
        "Counter({('it', 's') : 68, ('i', 'm') : 52 , ('don', 't'): 43, ...\n",
        "\n",
        "\n",
        "---"
      ],
      "metadata": {
        "id": "CJZ1goiiIqHB"
      }
    },
    {
      "cell_type": "markdown",
      "source": [
        "## 프로그래밍 계획\n",
        "\n",
        "---"
      ],
      "metadata": {
        "id": "HUPW6wmDIvCH"
      }
    },
    {
      "cell_type": "markdown",
      "source": [
        "1) 코렙으로 파일 연동한다.\n",
        "2) 텍스트 파일 불러온다\n",
        "3) 텍스트정제한다(특수문자, 기호, 띄어쓰기, 줄바꿈) 함수\n",
        "4) 정제된 텍스트로 2-gram 만들기 함수\n",
        "-> [(\"hello\", \"world\"), (\"world\", \"this\"),...]\n",
        "['hello', 'world'...] X\n",
        "\n",
        "\n",
        "\n",
        "5) Counter로 카운팅하기\n",
        "\n",
        "\n",
        "6) print(max2gram)\n",
        "('i', 'm')  : 57\n",
        "\n",
        "[0][1]\n",
        "\n",
        "\n",
        "\n",
        "text = 함수\n",
        "\n",
        "#정제\n",
        "aven_list = 텍스트정제함수(보겸)\n",
        "+ 리스트 형태가 [(\"hello\", \"world\"), (\"world\", \"this\")...], 로 나오게 하는거\n",
        "\n",
        "\n",
        "# 2gram\n",
        "biagrams = 2gram함수(aven_list)\n",
        "\n",
        "# 빈도수 계산\n",
        "conter_result = Count(biagrams)\n",
        "\n",
        "# 결과 출력\n",
        "max2gram\n",
        "\n",
        "\n"
      ],
      "metadata": {
        "id": "J5UuTPdVIyCa"
      }
    },
    {
      "cell_type": "markdown",
      "source": [
        "## 파일 불러오기"
      ],
      "metadata": {
        "id": "ZDYmgHMGpLCj"
      }
    },
    {
      "cell_type": "code",
      "source": [
        "\"# 구글 드라이브 연동\n",
        "from google.colab import drive\n",
        "drive.mount('/content/drive')"
      ],
      "metadata": {
        "colab": {
          "base_uri": "https://localhost:8080/"
        },
        "id": "6CwuUDq_Xt0c",
        "outputId": "7f5d5253-1a3b-4d70-ba38-ebe74053be0b"
      },
      "execution_count": null,
      "outputs": [
        {
          "output_type": "stream",
          "name": "stdout",
          "text": [
            "Drive already mounted at /content/drive; to attempt to forcibly remount, call drive.mount(\"/content/drive\", force_remount=True).\n"
          ]
        }
      ]
    },
    {
      "cell_type": "code",
      "source": [
        " # 어벤파일 경로 지정\n",
        " file_name = '/content/Avengers.txt'\n",
        "\n",
        "# 파일불러오기 함수\n",
        "def read_file(file_name):\n",
        "    with open(file_name, 'r', encoding='utf-8') as file:\n",
        "        return file.read().lower()\n",
        "\n",
        "avengers = read_file(file_name)"
      ],
      "metadata": {
        "id": "pR9Gwv2LX0O5"
      },
      "execution_count": null,
      "outputs": []
    },
    {
      "cell_type": "markdown",
      "source": [
        "## 문자열 처리 및 2-gram만들기"
      ],
      "metadata": {
        "id": "4GryftU4pObd"
      }
    },
    {
      "cell_type": "code",
      "source": [
        "import re\n",
        "\n",
        "inputString = avengers\n",
        "\n",
        "\n",
        "# 기호 제거 및 공백 변경 함수\n",
        "\"\"\"\n",
        "- 공백 생기는 이유\n",
        "1) 연속된 공백\n",
        "2) 정규표현식으로 제거되고 난 이후 남은 공간에서 발생\n",
        "\"\"\"\n",
        "def clean_text(inputString):\n",
        "    \"\"\"\n",
        "  [] : [] 안의 모든 정규표현식을 적용\n",
        "  ^ : not 의 의미\n",
        "  \\w : 문자(영어, 숫자, 밑줄)\n",
        "  \\s : 공백문자(스페이스, 탭 등)\n",
        "  r'\\s+ : 하나이상의 연속된 공백문서\n",
        "  \\s : 공백문자\n",
        "  + : 바로앞 문자가 하나이상 연속되는 경우\n",
        "  \"\"\"\n",
        "  inputString = re.sub(r'[^\\w\\s]', '', inputString.replace('\\n', ' ')) # 줄바꿈 문자공백대체, 기호 제거\n",
        "\n",
        "\n",
        "  # 연속된 공백을 하나의 공백으로 대체\n",
        "  return re.sub(r'\\s+', ' ', inputString)\n",
        "\n",
        "#print(clean_text(inputString))\n",
        "space_list = clean_text(inputString).split(' ')    # 공백 단위로 list 생성\n",
        "#print(space_list)\n",
        "\n",
        "# 공백 단위로 생성한 list에서 2gram 뽑아내서 list in tuple로 만들기\n",
        "aven_list = [(space_list[i], space_list[i + 1]) for i in range(len(space_list) - 1)]\n",
        "#print(aven_list[:5])\n",
        "\n",
        "from collections import Counter\n",
        "result = Counter(aven_list)\n",
        "print(f'2gram 최대빈도의 조합 : {result.most_common()[0]}','\\n')\n",
        "print(f'2gram의 list : {result.most_common()}')"
      ],
      "metadata": {
        "id": "-JUyvVRCIsYR",
        "colab": {
          "base_uri": "https://localhost:8080/",
          "height": 146
        },
        "outputId": "550c9dac-d1ba-435e-fa62-1f98526f83c0"
      },
      "execution_count": null,
      "outputs": [
        {
          "output_type": "error",
          "ename": "IndentationError",
          "evalue": "ignored",
          "traceback": [
            "\u001b[0;36m  File \u001b[0;32m\"<tokenize>\"\u001b[0;36m, line \u001b[0;32m22\u001b[0m\n\u001b[0;31m    inputString = re.sub(r'[^\\w\\s]', '', inputString.replace('\\n', ' ')) # 줄바꿈 문자공백대체, 기호 제거\u001b[0m\n\u001b[0m    ^\u001b[0m\n\u001b[0;31mIndentationError\u001b[0m\u001b[0;31m:\u001b[0m unindent does not match any outer indentation level\n"
          ]
        }
      ]
    },
    {
      "cell_type": "code",
      "source": [
        "# 실수했던 부분\n",
        "\n",
        "# 실시간으로 문자열이 줄어듬 ( 일정하지 않은 반복문 구현 )\n",
        "\n",
        "# a=[' ',' ',' ']\n",
        "\n",
        "# print(len(a))\n",
        "\n",
        "\n",
        "\n",
        "# for i in range(3):\n",
        "#     if a[i] == ' ':\n",
        "#         a.remove(' ')\n",
        "# print(a)\n",
        "\n",
        "\n",
        "\n",
        "# ------------------------\n",
        "\n",
        "# 공백 부분 파악\n",
        "\n"
      ],
      "metadata": {
        "id": "Qc7bl8DlYYhq"
      },
      "execution_count": null,
      "outputs": []
    },
    {
      "cell_type": "markdown",
      "source": [
        "입력값 : print(max2gram, countdict[max2gram]) print(Counter(baglist))\n",
        "\n",
        "출력값 : ('it', 's') 68 Counter({('it', 's') : 68, ('i', 'm') : 52 , ('don', 't'): 43, ..."
      ],
      "metadata": {
        "id": "hdzXFRinmdJi"
      }
    }
  ]
}