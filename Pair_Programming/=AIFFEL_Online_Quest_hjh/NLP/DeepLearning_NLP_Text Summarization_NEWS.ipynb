{
 "cells": [
  {
   "cell_type": "code",
   "execution_count": 50,
   "id": "d5ebcd95",
   "metadata": {},
   "outputs": [
    {
     "name": "stdout",
     "output_type": "stream",
     "text": [
      "3.6.5\n",
      "2.6.0\n",
      "1.3.3\n",
      "1.2.0\n"
     ]
    },
    {
     "name": "stderr",
     "output_type": "stream",
     "text": [
      "[nltk_data] Downloading package stopwords to /aiffel/nltk_data...\n",
      "[nltk_data]   Package stopwords is already up-to-date!\n"
     ]
    }
   ],
   "source": [
    "from importlib.metadata import version\n",
    "import nltk\n",
    "nltk.download('stopwords')\n",
    "import tensorflow\n",
    "import summa\n",
    "import numpy as np\n",
    "import pandas as pd\n",
    "import os\n",
    "import re\n",
    "import matplotlib.pyplot as plt\n",
    "from nltk.corpus import stopwords\n",
    "from bs4 import BeautifulSoup \n",
    "from tensorflow.keras.preprocessing.text import Tokenizer \n",
    "from tensorflow.keras.preprocessing.sequence import pad_sequences\n",
    "import urllib.request\n",
    "\n",
    "print(nltk.__version__)\n",
    "print(tensorflow.__version__)\n",
    "print(pandas.__version__)\n",
    "print(version('summa'))"
   ]
  },
  {
   "cell_type": "code",
   "execution_count": 51,
   "id": "0cc8d906",
   "metadata": {},
   "outputs": [],
   "source": [
    "import urllib.request\n",
    "urllib.request.urlretrieve(\"https://raw.githubusercontent.com/sunnysai12345/News_Summary/master/news_summary_more.csv\", filename=\"news_summary_more.csv\")\n",
    "data = pd.read_csv('news_summary_more.csv', encoding='iso-8859-1')"
   ]
  },
  {
   "cell_type": "code",
   "execution_count": 52,
   "id": "23e78b43",
   "metadata": {},
   "outputs": [
    {
     "name": "stdout",
     "output_type": "stream",
     "text": [
      "98401\n"
     ]
    },
    {
     "data": {
      "text/html": [
       "<div>\n",
       "<style scoped>\n",
       "    .dataframe tbody tr th:only-of-type {\n",
       "        vertical-align: middle;\n",
       "    }\n",
       "\n",
       "    .dataframe tbody tr th {\n",
       "        vertical-align: top;\n",
       "    }\n",
       "\n",
       "    .dataframe thead th {\n",
       "        text-align: right;\n",
       "    }\n",
       "</style>\n",
       "<table border=\"1\" class=\"dataframe\">\n",
       "  <thead>\n",
       "    <tr style=\"text-align: right;\">\n",
       "      <th></th>\n",
       "      <th>headlines</th>\n",
       "      <th>text</th>\n",
       "    </tr>\n",
       "  </thead>\n",
       "  <tbody>\n",
       "    <tr>\n",
       "      <th>14364</th>\n",
       "      <td>Sequoia leads Ã¢ÂÂ¹202 cr funding in logistic...</td>\n",
       "      <td>Bengaluru-based online logistics startup Black...</td>\n",
       "    </tr>\n",
       "    <tr>\n",
       "      <th>60096</th>\n",
       "      <td>Mumbai to get software linking slums with Aadhaar</td>\n",
       "      <td>In a bid to stop multiple allotment of tenemen...</td>\n",
       "    </tr>\n",
       "    <tr>\n",
       "      <th>27764</th>\n",
       "      <td>Gauri Lankesh's speeches used to provoke kille...</td>\n",
       "      <td>Speeches made by murdered journalist Gauri Lan...</td>\n",
       "    </tr>\n",
       "    <tr>\n",
       "      <th>74811</th>\n",
       "      <td>Baby delivered in e-rickshaw after hospital as...</td>\n",
       "      <td>A woman in Uttar Pradesh's Saharanpur reported...</td>\n",
       "    </tr>\n",
       "    <tr>\n",
       "      <th>82767</th>\n",
       "      <td>New island discovered off Atlantic coast</td>\n",
       "      <td>A new island has formed off the coast of Cape ...</td>\n",
       "    </tr>\n",
       "    <tr>\n",
       "      <th>82037</th>\n",
       "      <td>Rajkummar shares pic showing change in his phy...</td>\n",
       "      <td>Rajkummar Rao took to Twitter to share a colla...</td>\n",
       "    </tr>\n",
       "    <tr>\n",
       "      <th>83864</th>\n",
       "      <td>Hundreds of farmers protest over airbase land,...</td>\n",
       "      <td>Hundreds of farmers protested against a propos...</td>\n",
       "    </tr>\n",
       "    <tr>\n",
       "      <th>14620</th>\n",
       "      <td>Diwali to be celebrated at Niagara Falls for t...</td>\n",
       "      <td>Diwali will be celebrated at Canada's iconic N...</td>\n",
       "    </tr>\n",
       "    <tr>\n",
       "      <th>97032</th>\n",
       "      <td>Indian para shuttler Kadam bags two bronze med...</td>\n",
       "      <td>Indian para shuttler Sukant Kadam won the sing...</td>\n",
       "    </tr>\n",
       "    <tr>\n",
       "      <th>54163</th>\n",
       "      <td>Flight forced to return after sparrow found in...</td>\n",
       "      <td>A flight from Detroit to Atlanta in the US was...</td>\n",
       "    </tr>\n",
       "  </tbody>\n",
       "</table>\n",
       "</div>"
      ],
      "text/plain": [
       "                                               headlines  \\\n",
       "14364  Sequoia leads Ã¢ÂÂ¹202 cr funding in logistic...   \n",
       "60096  Mumbai to get software linking slums with Aadhaar   \n",
       "27764  Gauri Lankesh's speeches used to provoke kille...   \n",
       "74811  Baby delivered in e-rickshaw after hospital as...   \n",
       "82767           New island discovered off Atlantic coast   \n",
       "82037  Rajkummar shares pic showing change in his phy...   \n",
       "83864  Hundreds of farmers protest over airbase land,...   \n",
       "14620  Diwali to be celebrated at Niagara Falls for t...   \n",
       "97032  Indian para shuttler Kadam bags two bronze med...   \n",
       "54163  Flight forced to return after sparrow found in...   \n",
       "\n",
       "                                                    text  \n",
       "14364  Bengaluru-based online logistics startup Black...  \n",
       "60096  In a bid to stop multiple allotment of tenemen...  \n",
       "27764  Speeches made by murdered journalist Gauri Lan...  \n",
       "74811  A woman in Uttar Pradesh's Saharanpur reported...  \n",
       "82767  A new island has formed off the coast of Cape ...  \n",
       "82037  Rajkummar Rao took to Twitter to share a colla...  \n",
       "83864  Hundreds of farmers protested against a propos...  \n",
       "14620  Diwali will be celebrated at Canada's iconic N...  \n",
       "97032  Indian para shuttler Sukant Kadam won the sing...  \n",
       "54163  A flight from Detroit to Atlanta in the US was...  "
      ]
     },
     "execution_count": 52,
     "metadata": {},
     "output_type": "execute_result"
    }
   ],
   "source": [
    "print(len(data))\n",
    "data.sample(10)"
   ]
  },
  {
   "cell_type": "markdown",
   "id": "c7844734",
   "metadata": {},
   "source": [
    "### 데이터의 중복 샘플 유무를 확인해 볼게요."
   ]
  },
  {
   "cell_type": "code",
   "execution_count": 53,
   "id": "e85f4837",
   "metadata": {},
   "outputs": [
    {
     "name": "stdout",
     "output_type": "stream",
     "text": [
      "text 열에서 중복을 배제한 유일한 샘플의 수 : 98360\n",
      "headlines 열에서 중복을 배제한 유일한 샘플의 수 : 98280\n"
     ]
    }
   ],
   "source": [
    "print('text 열에서 중복을 배제한 유일한 샘플의 수 :', data['text'].nunique())\n",
    "print('headlines 열에서 중복을 배제한 유일한 샘플의 수 :', data['headlines'].nunique())"
   ]
  },
  {
   "cell_type": "code",
   "execution_count": 54,
   "id": "b9360e1a",
   "metadata": {},
   "outputs": [
    {
     "name": "stdout",
     "output_type": "stream",
     "text": [
      "전체 샘플수 : 98360\n"
     ]
    }
   ],
   "source": [
    "# inplace=True 를 설정하면 DataFrame 타입 값을 return 하지 않고 data 내부를 직접적으로 바꿉니다\n",
    "data.drop_duplicates(subset = ['text'], inplace=True)\n",
    "print('전체 샘플수 :', (len(data)))"
   ]
  },
  {
   "cell_type": "markdown",
   "id": "cbb32cce",
   "metadata": {},
   "source": [
    "### 데이터에 Null 값이 남아있는지 볼게요."
   ]
  },
  {
   "cell_type": "code",
   "execution_count": 55,
   "id": "f164e577",
   "metadata": {},
   "outputs": [
    {
     "name": "stdout",
     "output_type": "stream",
     "text": [
      "headlines    0\n",
      "text         0\n",
      "dtype: int64\n"
     ]
    }
   ],
   "source": [
    "print(data.isnull().sum())"
   ]
  },
  {
   "cell_type": "markdown",
   "id": "b094db74",
   "metadata": {},
   "source": [
    "### 텍스트 정규화와 불용어 제거"
   ]
  },
  {
   "cell_type": "code",
   "execution_count": 56,
   "id": "2fcc6f00",
   "metadata": {},
   "outputs": [
    {
     "name": "stdout",
     "output_type": "stream",
     "text": [
      "정규화 사전의 수:  120\n"
     ]
    }
   ],
   "source": [
    "contractions = {\"ain't\": \"is not\", \"aren't\": \"are not\",\"can't\": \"cannot\", \"'cause\": \"because\", \"could've\": \"could have\", \"couldn't\": \"could not\",\n",
    "                           \"didn't\": \"did not\",  \"doesn't\": \"does not\", \"don't\": \"do not\", \"hadn't\": \"had not\", \"hasn't\": \"has not\", \"haven't\": \"have not\",\n",
    "                           \"he'd\": \"he would\",\"he'll\": \"he will\", \"he's\": \"he is\", \"how'd\": \"how did\", \"how'd'y\": \"how do you\", \"how'll\": \"how will\", \"how's\": \"how is\",\n",
    "                           \"I'd\": \"I would\", \"I'd've\": \"I would have\", \"I'll\": \"I will\", \"I'll've\": \"I will have\",\"I'm\": \"I am\", \"I've\": \"I have\", \"i'd\": \"i would\",\n",
    "                           \"i'd've\": \"i would have\", \"i'll\": \"i will\",  \"i'll've\": \"i will have\",\"i'm\": \"i am\", \"i've\": \"i have\", \"isn't\": \"is not\", \"it'd\": \"it would\",\n",
    "                           \"it'd've\": \"it would have\", \"it'll\": \"it will\", \"it'll've\": \"it will have\",\"it's\": \"it is\", \"let's\": \"let us\", \"ma'am\": \"madam\",\n",
    "                           \"mayn't\": \"may not\", \"might've\": \"might have\",\"mightn't\": \"might not\",\"mightn't've\": \"might not have\", \"must've\": \"must have\",\n",
    "                           \"mustn't\": \"must not\", \"mustn't've\": \"must not have\", \"needn't\": \"need not\", \"needn't've\": \"need not have\",\"o'clock\": \"of the clock\",\n",
    "                           \"oughtn't\": \"ought not\", \"oughtn't've\": \"ought not have\", \"shan't\": \"shall not\", \"sha'n't\": \"shall not\", \"shan't've\": \"shall not have\",\n",
    "                           \"she'd\": \"she would\", \"she'd've\": \"she would have\", \"she'll\": \"she will\", \"she'll've\": \"she will have\", \"she's\": \"she is\",\n",
    "                           \"should've\": \"should have\", \"shouldn't\": \"should not\", \"shouldn't've\": \"should not have\", \"so've\": \"so have\",\"so's\": \"so as\",\n",
    "                           \"this's\": \"this is\",\"that'd\": \"that would\", \"that'd've\": \"that would have\", \"that's\": \"that is\", \"there'd\": \"there would\",\n",
    "                           \"there'd've\": \"there would have\", \"there's\": \"there is\", \"here's\": \"here is\",\"they'd\": \"they would\", \"they'd've\": \"they would have\",\n",
    "                           \"they'll\": \"they will\", \"they'll've\": \"they will have\", \"they're\": \"they are\", \"they've\": \"they have\", \"to've\": \"to have\",\n",
    "                           \"wasn't\": \"was not\", \"we'd\": \"we would\", \"we'd've\": \"we would have\", \"we'll\": \"we will\", \"we'll've\": \"we will have\", \"we're\": \"we are\",\n",
    "                           \"we've\": \"we have\", \"weren't\": \"were not\", \"what'll\": \"what will\", \"what'll've\": \"what will have\", \"what're\": \"what are\",\n",
    "                           \"what's\": \"what is\", \"what've\": \"what have\", \"when's\": \"when is\", \"when've\": \"when have\", \"where'd\": \"where did\", \"where's\": \"where is\",\n",
    "                           \"where've\": \"where have\", \"who'll\": \"who will\", \"who'll've\": \"who will have\", \"who's\": \"who is\", \"who've\": \"who have\",\n",
    "                           \"why's\": \"why is\", \"why've\": \"why have\", \"will've\": \"will have\", \"won't\": \"will not\", \"won't've\": \"will not have\",\n",
    "                           \"would've\": \"would have\", \"wouldn't\": \"would not\", \"wouldn't've\": \"would not have\", \"y'all\": \"you all\",\n",
    "                           \"y'all'd\": \"you all would\",\"y'all'd've\": \"you all would have\",\"y'all're\": \"you all are\",\"y'all've\": \"you all have\",\n",
    "                           \"you'd\": \"you would\", \"you'd've\": \"you would have\", \"you'll\": \"you will\", \"you'll've\": \"you will have\",\n",
    "                           \"you're\": \"you are\", \"you've\": \"you have\"}\n",
    "\n",
    "print(\"정규화 사전의 수: \", len(contractions))"
   ]
  },
  {
   "cell_type": "markdown",
   "id": "3a268242",
   "metadata": {},
   "source": [
    "### NLTK에서 제공하는 불용어 리스트를 참조해, 샘플에서 불용어를 제거할 거예요."
   ]
  },
  {
   "cell_type": "code",
   "execution_count": 57,
   "id": "12f2a016",
   "metadata": {},
   "outputs": [
    {
     "name": "stdout",
     "output_type": "stream",
     "text": [
      "불용어 개수 : 179\n",
      "['i', 'me', 'my', 'myself', 'we', 'our', 'ours', 'ourselves', 'you', \"you're\", \"you've\", \"you'll\", \"you'd\", 'your', 'yours', 'yourself', 'yourselves', 'he', 'him', 'his', 'himself', 'she', \"she's\", 'her', 'hers', 'herself', 'it', \"it's\", 'its', 'itself', 'they', 'them', 'their', 'theirs', 'themselves', 'what', 'which', 'who', 'whom', 'this', 'that', \"that'll\", 'these', 'those', 'am', 'is', 'are', 'was', 'were', 'be', 'been', 'being', 'have', 'has', 'had', 'having', 'do', 'does', 'did', 'doing', 'a', 'an', 'the', 'and', 'but', 'if', 'or', 'because', 'as', 'until', 'while', 'of', 'at', 'by', 'for', 'with', 'about', 'against', 'between', 'into', 'through', 'during', 'before', 'after', 'above', 'below', 'to', 'from', 'up', 'down', 'in', 'out', 'on', 'off', 'over', 'under', 'again', 'further', 'then', 'once', 'here', 'there', 'when', 'where', 'why', 'how', 'all', 'any', 'both', 'each', 'few', 'more', 'most', 'other', 'some', 'such', 'no', 'nor', 'not', 'only', 'own', 'same', 'so', 'than', 'too', 'very', 's', 't', 'can', 'will', 'just', 'don', \"don't\", 'should', \"should've\", 'now', 'd', 'll', 'm', 'o', 're', 've', 'y', 'ain', 'aren', \"aren't\", 'couldn', \"couldn't\", 'didn', \"didn't\", 'doesn', \"doesn't\", 'hadn', \"hadn't\", 'hasn', \"hasn't\", 'haven', \"haven't\", 'isn', \"isn't\", 'ma', 'mightn', \"mightn't\", 'mustn', \"mustn't\", 'needn', \"needn't\", 'shan', \"shan't\", 'shouldn', \"shouldn't\", 'wasn', \"wasn't\", 'weren', \"weren't\", 'won', \"won't\", 'wouldn', \"wouldn't\"]\n"
     ]
    }
   ],
   "source": [
    "print('불용어 개수 :', len(stopwords.words('english') ))\n",
    "print(stopwords.words('english'))"
   ]
  },
  {
   "cell_type": "markdown",
   "id": "d7a6849e",
   "metadata": {},
   "source": [
    "### NLTK에서 미리 정의하여 제공하고 있는 불용어는 총 179개라는 것을 볼 수 있죠. 이를 사용하여 불용어를 제거할 거예요. 이 작업 외에도 모든 영어 문자는 소문자로 만들고, 섞여있는 html 태그를 제거하고, 정규 표현식을 통해 각종 특수문자를 제거해서 정말 필요한 내용만 잘 학습할 수 있도록 처리할 거예요.\n",
    "###  Text 전처리 시에서만 호출하고 이미 상대적으로 문장 길이가 짧은 Summary 전처리할 때는 호출하지 않을 예정이에요. Abstractive한 문장 요약 결과문이 자연스러운 문장이 되려면 이 불용어들이 Summary에는 남아 있는 게 더 좋을 것 같습니다. 이 처리를 위해서 함수의 인자로 remove_stopwords를 추가하고, if문을 추가했어요."
   ]
  },
  {
   "cell_type": "code",
   "execution_count": 58,
   "id": "f4fe65b4",
   "metadata": {},
   "outputs": [
    {
     "name": "stdout",
     "output_type": "stream",
     "text": [
      "=3\n"
     ]
    }
   ],
   "source": [
    "# 데이터 전처리 함수\n",
    "def preprocess_sentence(sentence, remove_stopwords=True):\n",
    "    sentence = sentence.lower() # 텍스트 소문자화\n",
    "    sentence = BeautifulSoup(sentence, \"lxml\").text # <br />, <a href = ...> 등의 html 태그 제거\n",
    "    sentence = re.sub(r'\\([^)]*\\)', '', sentence) # 괄호로 닫힌 문자열 (...) 제거 Ex) my husband (and myself!) for => my husband for\n",
    "    sentence = re.sub('\"','', sentence) # 쌍따옴표 \" 제거\n",
    "    sentence = ' '.join([contractions[t] if t in contractions else t for t in sentence.split(\" \")]) # 약어 정규화\n",
    "    sentence = re.sub(r\"'s\\b\",\"\", sentence) # 소유격 제거. Ex) roland's -> roland\n",
    "    sentence = re.sub(\"[^a-zA-Z]\", \" \", sentence) # 영어 외 문자(숫자, 특수문자 등) 공백으로 변환\n",
    "    sentence = re.sub('[m]{2,}', 'mm', sentence) # m이 3개 이상이면 2개로 변경. Ex) ummmmmmm yeah -> umm yeah\n",
    "    \n",
    "    # 불용어 제거 (text)\n",
    "    if remove_stopwords:\n",
    "        tokens = ' '.join(word for word in sentence.split() if not word in stopwords.words('english') if len(word) > 1)\n",
    "    # 불용어 미제거 (headlines)\n",
    "    else:\n",
    "        tokens = ' '.join(word for word in sentence.split() if len(word) > 1)\n",
    "    return tokens\n",
    "print('=3')"
   ]
  },
  {
   "cell_type": "code",
   "execution_count": 59,
   "id": "ec74ec62",
   "metadata": {},
   "outputs": [
    {
     "name": "stdout",
     "output_type": "stream",
     "text": [
      "text:  everything bought great infact ordered twice third ordered wasfor mother father\n",
      "summary: great way to start the day\n"
     ]
    }
   ],
   "source": [
    "#전처리 테스트\n",
    "temp_text = 'Everything I bought was great, infact I ordered twice and the third ordered was<br />for my mother and father.'\n",
    "temp_summary = 'Great way to start (or finish) the day!!!'\n",
    "\n",
    "print(\"text: \", preprocess_sentence(temp_text))\n",
    "print(\"summary:\", preprocess_sentence(temp_summary, False))  # 불용어를 제거하지 않습니다."
   ]
  },
  {
   "cell_type": "markdown",
   "id": "c57a51e3",
   "metadata": {},
   "source": [
    "### 훈련 데이터 전체에 대해서 전처리를 수행해볼게요. 이때, text의 경우에는 불용어를 제거하고, headlines의 경우에는 불용어를 제거하지 않을 것이므로 따로 호출해서 진행해야 해요. 먼저 text를 전처리하고, 결과를 확인하기 위해서 상위 5개의 줄을 출력해볼게요."
   ]
  },
  {
   "cell_type": "code",
   "execution_count": 60,
   "id": "db7dc2ea",
   "metadata": {},
   "outputs": [
    {
     "name": "stderr",
     "output_type": "stream",
     "text": [
      "100%|██████████| 98360/98360 [09:34<00:00, 171.14it/s]"
     ]
    },
    {
     "name": "stdout",
     "output_type": "stream",
     "text": [
      "text 전처리 후 결과:  ['saurav kant alumnus upgrad iiit pg program machine learning artificial intelligence sr systems engineer infosys almost years work experience program upgrad degree career support helped transition data scientist tech mahindra salary hike upgrad online power learning powered lakh careers', 'kunal shah credit card bill payment platform cred gave users chance win free food swiggy one year pranav kaushik delhi techie bagged reward spending cred coins users get one cred coin per rupee bill paid used avail rewards brands like ixigo bookmyshow ubereats cult fit', 'new zealand defeated india wickets fourth odi hamilton thursday win first match five match odi series india lost international match rohit sharma captaincy consecutive victories dating back march match witnessed india getting seventh lowest total odi cricket history', 'aegon life iterm insurance plan customers enjoy tax benefits premiums paid save taxes plan provides life cover age years also customers options insure critical illnesses disability accidental death benefit rider life cover age years', 'speaking sexual harassment allegations rajkumar hirani sonam kapoor said known hirani many years true metoo movement get derailed metoo movement always believe woman case need reserve judgment added hirani accused assistant worked sanju']\n"
     ]
    },
    {
     "name": "stderr",
     "output_type": "stream",
     "text": [
      "\n"
     ]
    }
   ],
   "source": [
    "from tqdm import tqdm\n",
    "\n",
    "clean_text = []\n",
    "\n",
    "# 전체 text 데이터에 대한 전처리\n",
    "for text in tqdm(data['text']):\n",
    "    clean_text.append(preprocess_sentence(text))\n",
    "\n",
    "# 전처리 후 출력\n",
    "print(\"text 전처리 후 결과: \", clean_text[:5])"
   ]
  },
  {
   "cell_type": "markdown",
   "id": "607a3e4d",
   "metadata": {},
   "source": [
    "### headlines에 대해서 전처리 함수를 호출해 줄 때는, 불용어 제거를 수행하지 않는다는 의미에서 두 번째 인자로 False를 넣어줄게요."
   ]
  },
  {
   "cell_type": "code",
   "execution_count": 61,
   "id": "1e766b19",
   "metadata": {},
   "outputs": [
    {
     "name": "stderr",
     "output_type": "stream",
     "text": [
      "100%|██████████| 98360/98360 [00:16<00:00, 5876.29it/s]"
     ]
    },
    {
     "name": "stdout",
     "output_type": "stream",
     "text": [
      "headlines 전처리 후 결과:  ['upgrad learner switches to career in ml al with salary hike', 'delhi techie wins free food from swiggy for one year on cred', 'new zealand end rohit sharma led india match winning streak', 'aegon life iterm insurance plan helps customers save tax', 'have known hirani for yrs what if metoo claims are not true sonam']\n"
     ]
    },
    {
     "name": "stderr",
     "output_type": "stream",
     "text": [
      "\n"
     ]
    }
   ],
   "source": [
    "clean_headlines = []\n",
    "\n",
    "# 전체 headlines 데이터에 대한 전처리\n",
    "for headlines in tqdm(data['headlines']):\n",
    "    clean_headlines.append(preprocess_sentence(headlines, remove_stopwords=False))\n",
    "\n",
    "\n",
    "print(\"headlines 전처리 후 결과: \", clean_headlines[:5])"
   ]
  },
  {
   "cell_type": "markdown",
   "id": "fc434c87",
   "metadata": {},
   "source": [
    "### 이렇게 텍스트 정제의 과정을 거친 후에는 다시 한번 빈(empty) 샘플이 생겼는지 확인해 봅니다.\n",
    "### 보다 쉽게 확인하기 위해 데이터들을 데이터프레임에 재저장할게요. 빈(empty) 값을 가진 샘플들이 있다면, 모두 Null 값을 가진 샘플로 대체해요."
   ]
  },
  {
   "cell_type": "code",
   "execution_count": 62,
   "id": "a2da0303",
   "metadata": {},
   "outputs": [
    {
     "data": {
      "text/plain": [
       "headlines    0\n",
       "text         0\n",
       "dtype: int64"
      ]
     },
     "execution_count": 62,
     "metadata": {},
     "output_type": "execute_result"
    }
   ],
   "source": [
    "data['text'] = clean_text\n",
    "data['headlines'] = clean_headlines\n",
    "\n",
    "# 빈 값을 Null 값으로 변환\n",
    "data.replace('', np.nan, inplace=True)\n",
    "\n",
    "data.isnull().sum()"
   ]
  },
  {
   "cell_type": "markdown",
   "id": "cd0e3762",
   "metadata": {},
   "source": [
    "### Null 값이 없네요. 이제 필요 없는 단어를 모두 솎아낸 데이터를 가지게 되었으니, 이제 훈련에 사용할 샘플의 최대 길이를 정해줄 차례에요. Text와 Summary의 최소, 최대, 평균 길이를 구하고 또한 길이 분포를 시각화해서 볼게요."
   ]
  },
  {
   "cell_type": "code",
   "execution_count": 63,
   "id": "22b1c009",
   "metadata": {},
   "outputs": [
    {
     "name": "stdout",
     "output_type": "stream",
     "text": [
      "텍스트의 최소 길이 : 1\n",
      "텍스트의 최대 길이 : 60\n",
      "텍스트의 평균 길이 : 35.09968483123221\n",
      "제목의 최소 길이 : 1\n",
      "제목의 최대 길이 : 16\n",
      "제목의 평균 길이 : 9.299532330215534\n"
     ]
    },
    {
     "data": {
      "image/png": "[encoded data removed]",
      "text/plain": [
       "<Figure size 432x288 with 2 Axes>"
      ]
     },
     "metadata": {
      "needs_background": "light"
     },
     "output_type": "display_data"
    },
    {
     "data": {
      "image/png": "[encoded data removed]",
      "text/plain": [
       "<Figure size 432x288 with 1 Axes>"
      ]
     },
     "metadata": {
      "needs_background": "light"
     },
     "output_type": "display_data"
    },
    {
     "data": {
      "image/png": "[encoded data removed]",
      "text/plain": [
       "<Figure size 432x288 with 1 Axes>"
      ]
     },
     "metadata": {
      "needs_background": "light"
     },
     "output_type": "display_data"
    }
   ],
   "source": [
    "# 길이 분포 출력\n",
    "import matplotlib.pyplot as plt\n",
    "\n",
    "text_len = [len(s.split()) for s in data['text']]\n",
    "summary_len = [len(s.split()) for s in data['headlines']]\n",
    "\n",
    "print('텍스트의 최소 길이 : {}'.format(np.min(text_len)))\n",
    "print('텍스트의 최대 길이 : {}'.format(np.max(text_len)))\n",
    "print('텍스트의 평균 길이 : {}'.format(np.mean(text_len)))\n",
    "print('제목의 최소 길이 : {}'.format(np.min(summary_len)))\n",
    "print('제목의 최대 길이 : {}'.format(np.max(summary_len)))\n",
    "print('제목의 평균 길이 : {}'.format(np.mean(summary_len)))\n",
    "\n",
    "plt.subplot(1,2,1)\n",
    "plt.boxplot(text_len)\n",
    "plt.title('text')\n",
    "plt.subplot(1,2,2)\n",
    "plt.boxplot(summary_len)\n",
    "plt.title('headlines')\n",
    "plt.tight_layout()\n",
    "plt.show()\n",
    "\n",
    "plt.title('text')\n",
    "plt.hist(text_len, bins = 40)\n",
    "plt.xlabel('length of samples')\n",
    "plt.ylabel('number of samples')\n",
    "plt.show()\n",
    "\n",
    "plt.title('headlines')\n",
    "plt.hist(summary_len, bins = 40)\n",
    "plt.xlabel('length of samples')\n",
    "plt.ylabel('number of samples')\n",
    "plt.show()"
   ]
  },
  {
   "cell_type": "markdown",
   "id": "2a5827ce",
   "metadata": {},
   "source": [
    "### 이로부터 text의 최대 길이와 headlines의 적절한 최대 길이를 임의로 정해볼게요."
   ]
  },
  {
   "cell_type": "code",
   "execution_count": 64,
   "id": "9ef073a0",
   "metadata": {},
   "outputs": [],
   "source": [
    "text_max_len = 40\n",
    "headlines_max_len = 10"
   ]
  },
  {
   "cell_type": "markdown",
   "id": "a16a111a",
   "metadata": {},
   "source": [
    "각각 45과 11로 정했는데 이 길이를 선택했을 때, 얼마나 많은 샘플들을 자르지 않고 포함할 수 있는지 통계로 확인하는 편이 객관적으로 길이를 결정하는 데 도움이 될거예요. 훈련 데이터와 샘플의 길이를 입력하면, 데이터의 몇 %가 해당하는지 계산하는 함수를 만들어서 좀 더 정확하게 판단해볼게요."
   ]
  },
  {
   "cell_type": "code",
   "execution_count": 65,
   "id": "92e4f07c",
   "metadata": {},
   "outputs": [
    {
     "name": "stdout",
     "output_type": "stream",
     "text": [
      "전체 샘플 중 길이가 40 이하인 샘플의 비율: 0.9238714924766165\n",
      "전체 샘플 중 길이가 10 이하인 샘플의 비율: 0.8162972753151687\n"
     ]
    }
   ],
   "source": [
    "def below_threshold_len(max_len, nested_list):\n",
    "  cnt = 0\n",
    "  for s in nested_list:\n",
    "    if(len(s.split()) <= max_len):\n",
    "        cnt = cnt + 1\n",
    "  print('전체 샘플 중 길이가 %s 이하인 샘플의 비율: %s'%(max_len, (cnt / len(nested_list))))\n",
    "\n",
    "below_threshold_len(text_max_len, data['text'])\n",
    "below_threshold_len(headlines_max_len,  data['headlines'])"
   ]
  },
  {
   "cell_type": "markdown",
   "id": "304abe50",
   "metadata": {},
   "source": [
    "### seq2seq 훈련을 위해서는 디코더의 입력과 레이블에 시작 토큰과 종료 토큰을 추가할 필요가 있어요. 시작 토큰은 sostoken, 종료 토큰은 eostoken이라 임의로 명명하고 앞, 뒤로 추가할 거예요. 디코더의 입력에 해당하면서 시작 토큰이 맨 앞에 있는 문장의 이름을 decoder_input, 디코더의 출력 또는 레이블에 해당되면서 종료 토큰이 맨 뒤에 붙는 문장의 이름을 decoder_target이라고 이름을 정했어요. 두 개의 문장 모두 headlines 열로부터 만들 거예요."
   ]
  },
  {
   "cell_type": "code",
   "execution_count": 66,
   "id": "1b4f37a1",
   "metadata": {},
   "outputs": [
    {
     "data": {
      "text/html": [
       "<div>\n",
       "<style scoped>\n",
       "    .dataframe tbody tr th:only-of-type {\n",
       "        vertical-align: middle;\n",
       "    }\n",
       "\n",
       "    .dataframe tbody tr th {\n",
       "        vertical-align: top;\n",
       "    }\n",
       "\n",
       "    .dataframe thead th {\n",
       "        text-align: right;\n",
       "    }\n",
       "</style>\n",
       "<table border=\"1\" class=\"dataframe\">\n",
       "  <thead>\n",
       "    <tr style=\"text-align: right;\">\n",
       "      <th></th>\n",
       "      <th>headlines</th>\n",
       "      <th>text</th>\n",
       "      <th>decoder_input</th>\n",
       "      <th>decoder_target</th>\n",
       "    </tr>\n",
       "  </thead>\n",
       "  <tbody>\n",
       "    <tr>\n",
       "      <th>0</th>\n",
       "      <td>upgrad learner switches to career in ml al wit...</td>\n",
       "      <td>saurav kant alumnus upgrad iiit pg program mac...</td>\n",
       "      <td>sostoken upgrad learner switches to career in ...</td>\n",
       "      <td>upgrad learner switches to career in ml al wit...</td>\n",
       "    </tr>\n",
       "    <tr>\n",
       "      <th>1</th>\n",
       "      <td>delhi techie wins free food from swiggy for on...</td>\n",
       "      <td>kunal shah credit card bill payment platform c...</td>\n",
       "      <td>sostoken delhi techie wins free food from swig...</td>\n",
       "      <td>delhi techie wins free food from swiggy for on...</td>\n",
       "    </tr>\n",
       "    <tr>\n",
       "      <th>2</th>\n",
       "      <td>new zealand end rohit sharma led india match w...</td>\n",
       "      <td>new zealand defeated india wickets fourth odi ...</td>\n",
       "      <td>sostoken new zealand end rohit sharma led indi...</td>\n",
       "      <td>new zealand end rohit sharma led india match w...</td>\n",
       "    </tr>\n",
       "    <tr>\n",
       "      <th>3</th>\n",
       "      <td>aegon life iterm insurance plan helps customer...</td>\n",
       "      <td>aegon life iterm insurance plan customers enjo...</td>\n",
       "      <td>sostoken aegon life iterm insurance plan helps...</td>\n",
       "      <td>aegon life iterm insurance plan helps customer...</td>\n",
       "    </tr>\n",
       "    <tr>\n",
       "      <th>4</th>\n",
       "      <td>have known hirani for yrs what if metoo claims...</td>\n",
       "      <td>speaking sexual harassment allegations rajkuma...</td>\n",
       "      <td>sostoken have known hirani for yrs what if met...</td>\n",
       "      <td>have known hirani for yrs what if metoo claims...</td>\n",
       "    </tr>\n",
       "  </tbody>\n",
       "</table>\n",
       "</div>"
      ],
      "text/plain": [
       "                                           headlines  \\\n",
       "0  upgrad learner switches to career in ml al wit...   \n",
       "1  delhi techie wins free food from swiggy for on...   \n",
       "2  new zealand end rohit sharma led india match w...   \n",
       "3  aegon life iterm insurance plan helps customer...   \n",
       "4  have known hirani for yrs what if metoo claims...   \n",
       "\n",
       "                                                text  \\\n",
       "0  saurav kant alumnus upgrad iiit pg program mac...   \n",
       "1  kunal shah credit card bill payment platform c...   \n",
       "2  new zealand defeated india wickets fourth odi ...   \n",
       "3  aegon life iterm insurance plan customers enjo...   \n",
       "4  speaking sexual harassment allegations rajkuma...   \n",
       "\n",
       "                                       decoder_input  \\\n",
       "0  sostoken upgrad learner switches to career in ...   \n",
       "1  sostoken delhi techie wins free food from swig...   \n",
       "2  sostoken new zealand end rohit sharma led indi...   \n",
       "3  sostoken aegon life iterm insurance plan helps...   \n",
       "4  sostoken have known hirani for yrs what if met...   \n",
       "\n",
       "                                      decoder_target  \n",
       "0  upgrad learner switches to career in ml al wit...  \n",
       "1  delhi techie wins free food from swiggy for on...  \n",
       "2  new zealand end rohit sharma led india match w...  \n",
       "3  aegon life iterm insurance plan helps customer...  \n",
       "4  have known hirani for yrs what if metoo claims...  "
      ]
     },
     "execution_count": 66,
     "metadata": {},
     "output_type": "execute_result"
    }
   ],
   "source": [
    "# 제목 데이터에는 시작 토큰과 종료 토큰을 추가한다\n",
    "data['decoder_input'] = data['headlines'].apply(lambda x : 'sostoken '+ x)\n",
    "data['decoder_target'] = data['headlines'].apply(lambda x : x + ' eostoken')\n",
    "data.head()"
   ]
  },
  {
   "cell_type": "markdown",
   "id": "170558ec",
   "metadata": {},
   "source": [
    "### 디코더의 입력과 레이블을 각각 다시 Numpy 타입으로 저장해 줄게요."
   ]
  },
  {
   "cell_type": "code",
   "execution_count": 67,
   "id": "cac1b887",
   "metadata": {},
   "outputs": [],
   "source": [
    "encoder_input = np.array(data['text']) # 인코더의 입력\n",
    "decoder_input = np.array(data['decoder_input']) # 디코더의 입력\n",
    "decoder_target = np.array(data['decoder_target']) # 디코더의 레이블"
   ]
  },
  {
   "cell_type": "markdown",
   "id": "568a5756",
   "metadata": {},
   "source": [
    "### 이제 훈련 데이터와 테스트 데이터를 분리할거에요. 우선, encoder_input과 크기와 형태가 같은 순서가 섞인 정수 시퀀스를 만들어줄게요."
   ]
  },
  {
   "cell_type": "code",
   "execution_count": 68,
   "id": "54d1e75c",
   "metadata": {},
   "outputs": [
    {
     "name": "stdout",
     "output_type": "stream",
     "text": [
      "[94344 44077 60433 ... 26378  2756 16925]\n"
     ]
    }
   ],
   "source": [
    "indices = np.arange(encoder_input.shape[0])\n",
    "np.random.shuffle(indices)\n",
    "print(indices)"
   ]
  },
  {
   "cell_type": "markdown",
   "id": "47f8a5e6",
   "metadata": {},
   "source": [
    "### 이 정수 시퀀스를 이용해 다시 데이터의 샘플 순서를 정의해 주면 잘 섞인 샘플이 되겠죠."
   ]
  },
  {
   "cell_type": "code",
   "execution_count": 69,
   "id": "7e4b44fb",
   "metadata": {},
   "outputs": [],
   "source": [
    "encoder_input = encoder_input[indices]\n",
    "decoder_input = decoder_input[indices]\n",
    "decoder_target = decoder_target[indices]"
   ]
  },
  {
   "cell_type": "markdown",
   "id": "5981b558",
   "metadata": {},
   "source": [
    "### 이제 섞인 데이터를 8:2의 비율로 훈련 데이터와 테스트 데이터로 분리해 줄게요. 전체 데이터의 크기에서 0.2를 곱해서 테스트 데이터의 크기를 정의해 줄게요."
   ]
  },
  {
   "cell_type": "code",
   "execution_count": 70,
   "id": "65dec01c",
   "metadata": {},
   "outputs": [
    {
     "name": "stdout",
     "output_type": "stream",
     "text": [
      "테스트 데이터의 수 : 19672\n"
     ]
    }
   ],
   "source": [
    "n_of_val = int(len(encoder_input)*0.2)\n",
    "print('테스트 데이터의 수 :', n_of_val)"
   ]
  },
  {
   "cell_type": "markdown",
   "id": "89676b85",
   "metadata": {},
   "source": [
    "### 이렇게 정의한 테스트 데이터의 개수를 이용해 전체 데이터를 양분할게요."
   ]
  },
  {
   "cell_type": "code",
   "execution_count": 71,
   "id": "ded21224",
   "metadata": {},
   "outputs": [
    {
     "name": "stdout",
     "output_type": "stream",
     "text": [
      "훈련 데이터의 개수 : 78688\n",
      "훈련 레이블의 개수 : 78688\n",
      "테스트 데이터의 개수 : 19672\n",
      "테스트 레이블의 개수 : 19672\n"
     ]
    }
   ],
   "source": [
    "encoder_input_train = encoder_input[:-n_of_val]\n",
    "decoder_input_train = decoder_input[:-n_of_val]\n",
    "decoder_target_train = decoder_target[:-n_of_val]\n",
    "\n",
    "encoder_input_test = encoder_input[-n_of_val:]\n",
    "decoder_input_test = decoder_input[-n_of_val:]\n",
    "decoder_target_test = decoder_target[-n_of_val:]\n",
    "\n",
    "print('훈련 데이터의 개수 :', len(encoder_input_train))\n",
    "print('훈련 레이블의 개수 :', len(decoder_input_train))\n",
    "print('테스트 데이터의 개수 :', len(encoder_input_test))\n",
    "print('테스트 레이블의 개수 :', len(decoder_input_test))"
   ]
  },
  {
   "cell_type": "markdown",
   "id": "a89c5cff",
   "metadata": {},
   "source": [
    "### 단어 집합(vocabulary) 만들기 및 정수 인코딩\n",
    "\n",
    "이제 기계가 텍스트를 숫자로 처리할 수 있도록 훈련 데이터와 테스트 데이터의 단어들을 모두 정수로 바꾸어 주어야 해요. 이를 위해서는 각 단어에 고유한 정수를 맵핑하는 작업이 필요해요. 이 과정을 단어 집합(vocabulary) 을 만든다고 표현해요. 훈련 데이터에 대해서 단어 집합을 만들어볼게요. 우선, 원문에 해당되는 encoder_input_train에 대해서 단어 집합을 만들게요.\n",
    "\n",
    "Keras의 토크나이저를 사용하면, 입력된 훈련 데이터로부터 단어 집합을 만들 수 있어요."
   ]
  },
  {
   "cell_type": "code",
   "execution_count": 72,
   "id": "2b8c1efb",
   "metadata": {},
   "outputs": [],
   "source": [
    "src_tokenizer = Tokenizer() # 토크나이저 정의\n",
    "src_tokenizer.fit_on_texts(encoder_input_train) # 입력된 데이터로부터 단어 집합 생성"
   ]
  },
  {
   "cell_type": "markdown",
   "id": "87edbc5f",
   "metadata": {},
   "source": [
    "### 이제 단어 집합이 생성되는 동시에 각 단어에 고유한 정수가 부여되었어요. 현재 생성된 단어 집합은 src_tokenizer.word_index에 저장되어 있어요. 그런데 우리는 이렇게 만든 단어 집합에 있는 모든 단어를 사용하는 것이 아니라, 빈도수가 낮은 단어들은 훈련 데이터에서 제외하고 진행하려고 해요.\n",
    "\n",
    "### 등장 빈도수가 7회 미만인 단어들이 이 데이터에서 얼만큼의 비중을 차지하는지 확인해볼게요.\n",
    "\n",
    "### src_tokenizer.word_counts.items()에는 단어와 각 단어의 등장 빈도수가 저장돼 있는데, 이를 통해서 통계적인 정보를 얻을 수 있어요."
   ]
  },
  {
   "cell_type": "code",
   "execution_count": 73,
   "id": "3aded49f",
   "metadata": {},
   "outputs": [
    {
     "name": "stdout",
     "output_type": "stream",
     "text": [
      "단어 집합(vocabulary)의 크기 : 69524\n",
      "등장 빈도가 6번 이하인 희귀 단어의 수: 47349\n",
      "단어 집합에서 희귀 단어를 제외시킬 경우의 단어 집합의 크기: 22175\n",
      "단어 집합에서 희귀 단어의 비율: 68.10453943961797\n",
      "전체 등장 빈도에서 희귀 단어 등장 빈도 비율: 3.485869461724294\n"
     ]
    }
   ],
   "source": [
    "threshold = 7\n",
    "total_cnt = len(src_tokenizer.word_index) # 단어의 수\n",
    "rare_cnt = 0 # 등장 빈도수가 threshold보다 작은 단어의 개수를 카운트\n",
    "total_freq = 0 # 훈련 데이터의 전체 단어 빈도수 총 합\n",
    "rare_freq = 0 # 등장 빈도수가 threshold보다 작은 단어의 등장 빈도수의 총 합\n",
    "\n",
    "# 단어와 빈도수의 쌍(pair)을 key와 value로 받는다.\n",
    "for key, value in src_tokenizer.word_counts.items():\n",
    "    total_freq = total_freq + value\n",
    "\n",
    "    # 단어의 등장 빈도수가 threshold보다 작으면\n",
    "    if(value < threshold):\n",
    "        rare_cnt = rare_cnt + 1\n",
    "        rare_freq = rare_freq + value\n",
    "\n",
    "print('단어 집합(vocabulary)의 크기 :', total_cnt)\n",
    "print('등장 빈도가 %s번 이하인 희귀 단어의 수: %s'%(threshold - 1, rare_cnt))\n",
    "print('단어 집합에서 희귀 단어를 제외시킬 경우의 단어 집합의 크기: %s'%(total_cnt - rare_cnt))\n",
    "print(\"단어 집합에서 희귀 단어의 비율:\", (rare_cnt / total_cnt)*100)\n",
    "print(\"전체 등장 빈도에서 희귀 단어 등장 빈도 비율:\", (rare_freq / total_freq)*100)"
   ]
  },
  {
   "cell_type": "markdown",
   "id": "28f7b58f",
   "metadata": {},
   "source": [
    "encoder_input_train에는 7만여 개의 단어가 있네요. 그 아래의 통계 정보들을 해석해볼까요?\n",
    "\n",
    "등장 빈도가 threshold 값인 7회 미만, 즉 6회 이하인 단어들은 단어 집합에서 68%을 차지하네요. 하지만 실제로 훈련 데이터에서 등장 빈도로 차지하는 비중은 상대적으로 적은 수치인 3.48%밖에 되지 않아요.\n",
    "\n",
    "그래서 등장 빈도가 6회 이하인 단어들은 정수 인코딩 과정에서 빼고, 훈련 데이터에서 제거하고자 합니다. 위에서 이를 제외한 단어 집합의 크기를 22천여 개로 계산했는데, 이와 비슷한 값으로 어림잡아 단어 집합의 크기를 22,000으로 제한해볼게요. 토크나이저를 정의할 때 num_words의 값을 정해주면, 단어 집합의 크기를 제한할 수 있어요."
   ]
  },
  {
   "cell_type": "code",
   "execution_count": 74,
   "id": "bb45d566",
   "metadata": {},
   "outputs": [
    {
     "name": "stdout",
     "output_type": "stream",
     "text": [
      "=3\n"
     ]
    }
   ],
   "source": [
    "src_vocab = 22000\n",
    "src_tokenizer = Tokenizer(num_words=src_vocab) # 단어 집합의 크기를 22,000으로 제한\n",
    "src_tokenizer.fit_on_texts(encoder_input_train) # 단어 집합 재생성\n",
    "print('=3')"
   ]
  },
  {
   "cell_type": "markdown",
   "id": "3f1790d9",
   "metadata": {},
   "source": [
    "texts_to_sequences()는 생성된 단어 집합에 기반하여 입력으로 주어진 텍스트 데이터의 단어들을 모두 정수로 변환하는 정수 인코딩을 수행해요. 현재 단어 집합의 크기를 22,000으로 제한했으니까 이제 22,000이 넘는 숫자들은 정수 인코딩 후에는 데이터에 존재하지 않아요."
   ]
  },
  {
   "cell_type": "code",
   "execution_count": 75,
   "id": "7be945ae",
   "metadata": {},
   "outputs": [
    {
     "name": "stdout",
     "output_type": "stream",
     "text": [
      "[[50, 1263, 6394, 469, 30, 2666, 37, 27, 465, 186, 50, 107, 6394, 201, 3311, 3896, 5765, 144, 7674, 1172, 5343, 2605, 489, 1660, 1361, 6551, 4869, 4222, 147, 990, 90, 307, 669, 27], [99, 10, 3957, 319, 335, 20692, 82, 2066, 649, 1452, 7349, 19446, 3001, 3548, 444, 1452, 22, 4125, 1305, 702, 372, 181, 222, 4905, 4022, 4906, 467, 651, 771, 1452, 3373, 838, 285, 6477, 11, 8423, 305], [3253, 554, 97, 143, 62, 847, 506, 938, 1479, 5501, 442, 506, 82, 590, 1479, 2151, 3657, 2093, 177, 3, 1750, 230, 746, 1153, 658, 2030, 2386, 4166, 2476, 939, 16688, 4318]]\n"
     ]
    }
   ],
   "source": [
    "# 텍스트 시퀀스를 정수 시퀀스로 변환\n",
    "encoder_input_train = src_tokenizer.texts_to_sequences(encoder_input_train) \n",
    "encoder_input_test = src_tokenizer.texts_to_sequences(encoder_input_test)\n",
    "\n",
    "# 잘 진행되었는지 샘플 출력\n",
    "print(encoder_input_train[:3])"
   ]
  },
  {
   "cell_type": "markdown",
   "id": "010b0de3",
   "metadata": {},
   "source": [
    "이제 더 이상 텍스트 데이터가 아니라 정수가 나옵니다.\n",
    "\n",
    "headlines 데이터에 대해서도 동일한 작업을 수행할게요. 케라스의 토크나이저를 사용하여 decoder_input_train을 입력으로 전체 단어 집합과 각 단어에 대한 빈도수를 계산해요."
   ]
  },
  {
   "cell_type": "code",
   "execution_count": 76,
   "id": "41a173e0",
   "metadata": {},
   "outputs": [],
   "source": [
    "tar_tokenizer = Tokenizer()\n",
    "tar_tokenizer.fit_on_texts(decoder_input_train)"
   ]
  },
  {
   "cell_type": "markdown",
   "id": "f0574f87",
   "metadata": {},
   "source": [
    "이제 단어 집합이 생성되는 동시에 각 단어에 고유한 정수가 부여되었어요. 이는 tar_tokenizer.word_index에 저장되어 있어요. tar_tokenizer.word_counts.items()에는 단어와 각 단어의 등장 빈도수가 저장돼 있는데, 이를 통해서 통계적인 정보를 얻어서, 등장 빈도수가 6회 미만인 단어들이 이 데이터에서 얼만큼의 비중을 차지하는지 확인해볼게요."
   ]
  },
  {
   "cell_type": "code",
   "execution_count": 77,
   "id": "1c5bb2cf",
   "metadata": {},
   "outputs": [
    {
     "name": "stdout",
     "output_type": "stream",
     "text": [
      "단어 집합(vocabulary)의 크기 : 30072\n",
      "등장 빈도가 5번 이하인 희귀 단어의 수: 19627\n",
      "단어 집합에서 희귀 단어를 제외시킬 경우의 단어 집합의 크기 10445\n",
      "단어 집합에서 희귀 단어의 비율: 65.26669326948657\n",
      "전체 등장 빈도에서 희귀 단어 등장 빈도 비율: 4.618746437199707\n"
     ]
    }
   ],
   "source": [
    "threshold = 6\n",
    "total_cnt = len(tar_tokenizer.word_index) # 단어의 수\n",
    "rare_cnt = 0 # 등장 빈도수가 threshold보다 작은 단어의 개수를 카운트\n",
    "total_freq = 0 # 훈련 데이터의 전체 단어 빈도수 총 합\n",
    "rare_freq = 0 # 등장 빈도수가 threshold보다 작은 단어의 등장 빈도수의 총 합\n",
    "\n",
    "# 단어와 빈도수의 쌍(pair)을 key와 value로 받는다.\n",
    "for key, value in tar_tokenizer.word_counts.items():\n",
    "    total_freq = total_freq + value\n",
    "\n",
    "    # 단어의 등장 빈도수가 threshold보다 작으면\n",
    "    if(value < threshold):\n",
    "        rare_cnt = rare_cnt + 1\n",
    "        rare_freq = rare_freq + value\n",
    "\n",
    "print('단어 집합(vocabulary)의 크기 :', total_cnt)\n",
    "print('등장 빈도가 %s번 이하인 희귀 단어의 수: %s'%(threshold - 1, rare_cnt))\n",
    "print('단어 집합에서 희귀 단어를 제외시킬 경우의 단어 집합의 크기 %s'%(total_cnt - rare_cnt))\n",
    "print(\"단어 집합에서 희귀 단어의 비율:\", (rare_cnt / total_cnt)*100)\n",
    "print(\"전체 등장 빈도에서 희귀 단어 등장 빈도 비율:\", (rare_freq / total_freq)*100)"
   ]
  },
  {
   "cell_type": "markdown",
   "id": "953fde8b",
   "metadata": {},
   "source": [
    "등장 빈도가 5회 이하인 단어들은 단어 집합에서 약 65%를 차지하고 있네요. 하지만 실제로 훈련 데이터에서 등장 빈도로 차지하는 비중은 상대적으로 매우 적은 수치인 4.6%밖에 되지 않아요. 아까 했던 것과 동일하게 이 단어들은 모두 제거할게요. 어림잡아 10,000을 단어 집합의 크기로 제한할게요."
   ]
  },
  {
   "cell_type": "code",
   "execution_count": 78,
   "id": "9ff2a9f9",
   "metadata": {},
   "outputs": [
    {
     "name": "stdout",
     "output_type": "stream",
     "text": [
      "input\n",
      "input  [[1, 190, 654, 4027, 328, 58, 6, 1935, 20], [1, 3099, 6, 335, 1851, 97, 5653, 4, 392, 1478], [1, 126, 2109, 665, 7668, 3, 3326], [1, 2314, 1508, 174, 15, 2017, 3], [1, 45, 796, 1520, 5, 116, 2738, 6177, 13]]\n",
      "target\n",
      "decoder  [[190, 654, 4027, 328, 58, 6, 1935, 20, 2], [3099, 6, 335, 1851, 97, 5653, 4, 392, 1478, 2], [126, 2109, 665, 7668, 3, 3326, 2], [2314, 1508, 174, 15, 2017, 3, 2], [45, 796, 1520, 5, 116, 2738, 6177, 13, 2]]\n"
     ]
    }
   ],
   "source": [
    "tar_vocab = 10000\n",
    "tar_tokenizer = Tokenizer(num_words=tar_vocab) \n",
    "tar_tokenizer.fit_on_texts(decoder_input_train)\n",
    "tar_tokenizer.fit_on_texts(decoder_target_train)\n",
    "\n",
    "# 텍스트 시퀀스를 정수 시퀀스로 변환\n",
    "decoder_input_train = tar_tokenizer.texts_to_sequences(decoder_input_train) \n",
    "decoder_target_train = tar_tokenizer.texts_to_sequences(decoder_target_train)\n",
    "decoder_input_test = tar_tokenizer.texts_to_sequences(decoder_input_test)\n",
    "decoder_target_test = tar_tokenizer.texts_to_sequences(decoder_target_test)\n",
    "\n",
    "# 잘 변환되었는지 확인\n",
    "print('input')\n",
    "print('input ',decoder_input_train[:5])\n",
    "print('target')\n",
    "print('decoder ',decoder_target_train[:5])"
   ]
  },
  {
   "cell_type": "markdown",
   "id": "8e2566dd",
   "metadata": {},
   "source": [
    "정상적으로 정수 인코딩 작업이 끝났어요. 현재 decoder_input_train과 decoder_target_train에는 더 이상 숫자 10,000이 넘는 숫자들은 존재하지 않아요. 그런데 다음 작업인 패딩 하기로 넘어가기 전에 한 가지 점검해야 할 것이 있어요.\n",
    "\n",
    "전체 데이터에서 빈도수가 낮은 단어가 삭제되었다는 것은 빈도수가 낮은 단어만으로 구성되었던 샘플들은 이제 빈(empty) 샘플이 되었을 가능성이 있어요. 이 현상은 길이가 상대적으로 길었던 원문(text)의 경우에는 문제가 별로 없겠지만, 애초에 평균 길이가 9밖에 되지 않았던 제목(headlines)의 경우에는 이 현상이 굉장히 두드러졌을 가능성이 높겠죠.\n",
    "\n",
    "요약문에서 길이가 0이 된 샘플들의 인덱스를 받아와볼게요. 여기서 주의할 점은 요약문인 decoder_input에는 sostoken 또는 decoder_target에는 eostoken이 추가된 상태이고, 이 두 토큰은 모든 샘플에서 등장하므로 빈도수가 샘플 수와 동일하게 매우 높으므로 단어 집합 제한에도 삭제되지 않아요. 그래서 이제 길이가 0이 된 요약문의 실제 길이는 1로 나올 거예요. 길이 0이 된 decoder_input에는 sostoken, decoder_target에는 eostoken만 남아 있을 테니까요.\n",
    "\n",
    "훈련 데이터와 테스트 데이터에 대해서 요약문의 길이가 1인 경우의 인덱스를 각각 drop_train과 drop_test에 라는 변수에 저장해볼게요. 이 샘플들은 모두 삭제할 거예요."
   ]
  },
  {
   "cell_type": "code",
   "execution_count": 79,
   "id": "f95939de",
   "metadata": {},
   "outputs": [
    {
     "name": "stdout",
     "output_type": "stream",
     "text": [
      "삭제할 훈련 데이터의 개수 : 0\n",
      "삭제할 테스트 데이터의 개수 : 0\n",
      "훈련 데이터의 개수 : 78688\n",
      "훈련 레이블의 개수 : 78688\n",
      "테스트 데이터의 개수 : 19672\n",
      "테스트 레이블의 개수 : 19672\n"
     ]
    }
   ],
   "source": [
    "drop_train = [index for index, sentence in enumerate(decoder_input_train) if len(sentence) == 1]\n",
    "drop_test = [index for index, sentence in enumerate(decoder_input_test) if len(sentence) == 1]\n",
    "\n",
    "print('삭제할 훈련 데이터의 개수 :', len(drop_train))\n",
    "print('삭제할 테스트 데이터의 개수 :', len(drop_test))\n",
    "\n",
    "encoder_input_train = [sentence for index, sentence in enumerate(encoder_input_train) if index not in drop_train]\n",
    "decoder_input_train = [sentence for index, sentence in enumerate(decoder_input_train) if index not in drop_train]\n",
    "decoder_target_train = [sentence for index, sentence in enumerate(decoder_target_train) if index not in drop_train]\n",
    "\n",
    "encoder_input_test = [sentence for index, sentence in enumerate(encoder_input_test) if index not in drop_test]\n",
    "decoder_input_test = [sentence for index, sentence in enumerate(decoder_input_test) if index not in drop_test]\n",
    "decoder_target_test = [sentence for index, sentence in enumerate(decoder_target_test) if index not in drop_test]\n",
    "\n",
    "print('훈련 데이터의 개수 :', len(encoder_input_train))\n",
    "print('훈련 레이블의 개수 :', len(decoder_input_train))\n",
    "print('테스트 데이터의 개수 :', len(encoder_input_test))\n",
    "print('테스트 레이블의 개수 :', len(decoder_input_test))"
   ]
  },
  {
   "cell_type": "markdown",
   "id": "0c76fefc",
   "metadata": {},
   "source": [
    "### 패딩하기\n",
    "\n",
    "텍스트 시퀀스를 정수 시퀀스로 변환했다면, 이제 서로 다른 길이의 샘플들을 병렬 처리하기 위해 같은 길이로 맞춰주는 패딩 작업을 해주어야 해야 해요. 아까 정해두었던 최대 길이로 패딩 해 줄 거에요. 최대 길이보다 짧은 데이터들은 뒤의 공간에 숫자 0을 넣어 최대 길이로 길이를 맞춰줄게요."
   ]
  },
  {
   "cell_type": "code",
   "execution_count": 81,
   "id": "0cefda14",
   "metadata": {},
   "outputs": [
    {
     "name": "stdout",
     "output_type": "stream",
     "text": [
      "=3\n"
     ]
    }
   ],
   "source": [
    "encoder_input_train = pad_sequences(encoder_input_train, maxlen=text_max_len, padding='post')\n",
    "encoder_input_test = pad_sequences(encoder_input_test, maxlen=text_max_len, padding='post')\n",
    "decoder_input_train = pad_sequences(decoder_input_train, maxlen=headlines_max_len, padding='post')\n",
    "decoder_target_train = pad_sequences(decoder_target_train, maxlen=headlines_max_len, padding='post')\n",
    "decoder_input_test = pad_sequences(decoder_input_test, maxlen=headlines_max_len, padding='post')\n",
    "decoder_target_test = pad_sequences(decoder_target_test, maxlen=headlines_max_len, padding='post')\n",
    "print('=3')"
   ]
  },
  {
   "cell_type": "markdown",
   "id": "01893934",
   "metadata": {},
   "source": [
    "### 이제는 모델을 설계할 시간이에요. 우선 함수형 API를 이용해서 인코더를 설계해 볼게요."
   ]
  },
  {
   "cell_type": "code",
   "execution_count": 82,
   "id": "fcb5dd02",
   "metadata": {},
   "outputs": [
    {
     "name": "stdout",
     "output_type": "stream",
     "text": [
      "WARNING:tensorflow:Layer lstm_1 will not use cuDNN kernels since it doesn't meet the criteria. It will use a generic GPU kernel as fallback when running on GPU.\n",
      "WARNING:tensorflow:Layer lstm_2 will not use cuDNN kernels since it doesn't meet the criteria. It will use a generic GPU kernel as fallback when running on GPU.\n"
     ]
    }
   ],
   "source": [
    "from tensorflow.keras.layers import Input, LSTM, Embedding, Dense, Concatenate, TimeDistributed\n",
    "from tensorflow.keras.models import Model\n",
    "from tensorflow.keras.callbacks import EarlyStopping, ModelCheckpoint\n",
    "\n",
    "\n",
    "# 인코더 설계 시작\n",
    "embedding_dim = 128\n",
    "hidden_size = 256\n",
    "\n",
    "# 인코더\n",
    "encoder_inputs = Input(shape=(text_max_len,))\n",
    "\n",
    "# 인코더의 임베딩 층\n",
    "enc_emb = Embedding(src_vocab, embedding_dim)(encoder_inputs)\n",
    "\n",
    "# 인코더의 LSTM 1\n",
    "# encoder_lstm1 = LSTM(hidden_size, return_sequences=True, return_state=True ,dropout = 0.4, recurrent_dropout = 0.4)\n",
    "encoder_lstm1 = LSTM(hidden_size, return_sequences=True, return_state=True ,dropout = 0.4)\n",
    "encoder_output1, state_h1, state_c1 = encoder_lstm1(enc_emb)\n",
    "\n",
    "# 인코더의 LSTM 2\n",
    "encoder_lstm2 = LSTM(hidden_size, return_sequences=True, return_state=True, dropout=0.4, recurrent_dropout=0.4)\n",
    "encoder_output2, state_h2, state_c2 = encoder_lstm2(encoder_output1)\n",
    "\n",
    "# 인코더의 LSTM 3\n",
    "encoder_lstm3 = LSTM(hidden_size, return_sequences=True, return_state=True, dropout=0.4, recurrent_dropout=0.4)\n",
    "encoder_outputs, state_h, state_c = encoder_lstm3(encoder_output2)"
   ]
  },
  {
   "attachments": {
    "image.png": {
     "image/png": "[encoded data removed]"
    }
   },
   "cell_type": "markdown",
   "id": "abb61fb0",
   "metadata": {},
   "source": [
    "임베딩 벡터의 차원은 128로 정의하고, hidden state의 크기를 256으로 정의했어요. hidden state는 LSTM에서 얼만큼의 수용력(capacity)를 가질지를 정하는 파라미터에요. 이 파라미터는 LSTM의 용량의 크기나, LSTM에서의 뉴런의 개수라고 이해하면 돼요. 다른 신경망과 마찬가지로, 무조건 용량을 많이 준다고 해서 성능이 반드시 올라가는 것은 아니에요.\n",
    "\n",
    "인코더의 LSTM은 총 3개의 층으로 구성해서 모델의 복잡도를 높였어요. hidden state의 크기를 늘리는 것이 LSTM 층 1개의 용량을 늘린다면, 3개의 층을 사용하는 것은 모델의 용량을 늘린다고 볼 수 있죠. 3개의 층을 지나서 인코더로부터 나온 출력 벡터는 디코더로 보내줘야겠죠?\n",
    "\n",
    "또한 LSTM은 dropout 뿐 아니라 recurrent dropout까지 사용할 수 있어요. 일반적인 dropout은 레이어의 weight를 랜덤으로 생략하여 모델의 과적합(overfitting)을 해결해주는 방법이에요.\n",
    "\n",
    "반면 recurrent dropout은 dropout을 레이어가 아닌 time step마다 해주는 방식이에요. 즉 time step의 입력을 랜덤으로 생략해 주는 거죠. recurrent dropout은 일반적인 dropout와 같이 regularization을 해주는 효과가 있고, 과적합을 방지할 수 있다고 해요.\n",
    "\n",
    "아래 그림은 일반적인 dropout과, dropout과 recurrent dropout을 동시에 사용한 것을 시각적으로 표현한 것입니다. 색이 있는 화살표는 dropout을 나타낸 것이에요. (색이 다른 것은 다른 dropout mask를 사용했다는 표시인데, 지금은 그냥 넘어가셔도 됩니다.) 코드를 수정해서 LSTM에 dropout과 recurrent dropout을 모두 사용할 수 있습니다. 그렇게 되면 오른쪽 그림과 같은 형태가 되겠군요. 참고로 dropout과 recurrent dropout을 모두 사용한 것을 Variational Dropout이라고도 해요.\n",
    "\n",
    "![image.png](attachment:image.png)\n",
    "\n",
    "이제 디코더를 설계해볼게요!"
   ]
  },
  {
   "cell_type": "code",
   "execution_count": 83,
   "id": "cab1a847",
   "metadata": {},
   "outputs": [],
   "source": [
    "# 디코더 설계\n",
    "decoder_inputs = Input(shape=(None,))\n",
    "\n",
    "# 디코더의 임베딩 층\n",
    "dec_emb_layer = Embedding(tar_vocab, embedding_dim)\n",
    "dec_emb = dec_emb_layer(decoder_inputs)\n",
    "\n",
    "# 디코더의 LSTM\n",
    "# decoder_lstm = LSTM(hidden_size, return_sequences=True, return_state=True, dropout=0.4, recurrent_dropout=0.2)\n",
    "decoder_lstm = LSTM(hidden_size, return_sequences=True, return_state=True, dropout=0.4)\n",
    "decoder_outputs, _, _ = decoder_lstm(dec_emb, initial_state=[state_h, state_c])"
   ]
  },
  {
   "cell_type": "markdown",
   "id": "307df842",
   "metadata": {},
   "source": [
    "디코더의 임베딩 층과 LSTM을 설계하는 것은 인코더와 거의 동일해요. 하지만 LSTM의 입력을 정의할 때, initial_state의 인자값으로 인코더의 hidden state와 cell state의 값을 넣어줘야 해요.\n",
    "\n",
    "디코더의 출력층을 설계해볼게요."
   ]
  },
  {
   "cell_type": "code",
   "execution_count": 84,
   "id": "7e739a55",
   "metadata": {},
   "outputs": [
    {
     "name": "stdout",
     "output_type": "stream",
     "text": [
      "Model: \"model\"\n",
      "__________________________________________________________________________________________________\n",
      "Layer (type)                    Output Shape         Param #     Connected to                     \n",
      "==================================================================================================\n",
      "input_1 (InputLayer)            [(None, 40)]         0                                            \n",
      "__________________________________________________________________________________________________\n",
      "embedding (Embedding)           (None, 40, 128)      2816000     input_1[0][0]                    \n",
      "__________________________________________________________________________________________________\n",
      "lstm (LSTM)                     [(None, 40, 256), (N 394240      embedding[0][0]                  \n",
      "__________________________________________________________________________________________________\n",
      "input_2 (InputLayer)            [(None, None)]       0                                            \n",
      "__________________________________________________________________________________________________\n",
      "lstm_1 (LSTM)                   [(None, 40, 256), (N 525312      lstm[0][0]                       \n",
      "__________________________________________________________________________________________________\n",
      "embedding_1 (Embedding)         (None, None, 128)    1280000     input_2[0][0]                    \n",
      "__________________________________________________________________________________________________\n",
      "lstm_2 (LSTM)                   [(None, 40, 256), (N 525312      lstm_1[0][0]                     \n",
      "__________________________________________________________________________________________________\n",
      "lstm_3 (LSTM)                   [(None, None, 256),  394240      embedding_1[0][0]                \n",
      "                                                                 lstm_2[0][1]                     \n",
      "                                                                 lstm_2[0][2]                     \n",
      "__________________________________________________________________________________________________\n",
      "dense (Dense)                   (None, None, 10000)  2570000     lstm_3[0][0]                     \n",
      "==================================================================================================\n",
      "Total params: 8,505,104\n",
      "Trainable params: 8,505,104\n",
      "Non-trainable params: 0\n",
      "__________________________________________________________________________________________________\n"
     ]
    }
   ],
   "source": [
    "# 디코더의 출력층\n",
    "decoder_softmax_layer = Dense(tar_vocab, activation='softmax')\n",
    "decoder_softmax_outputs = decoder_softmax_layer(decoder_outputs) \n",
    "\n",
    "# 모델 정의\n",
    "model = Model([encoder_inputs, decoder_inputs], decoder_softmax_outputs)\n",
    "model.summary()"
   ]
  },
  {
   "cell_type": "markdown",
   "id": "af3d817b",
   "metadata": {},
   "source": [
    "디코더의 출력층에서는 Summary의 단어장인 tar_vocab의 수많은 선택지 중 하나의 단어를 선택하는 다중 클래스 분류 문제를 풀어야 해요. 그렇기 때문에 Dense의 인자로 tar_vocab을 주고, 활성화 함수로 소프트맥스 함수를 사용하고 있어요.\n",
    "\n",
    "지금까지 설계한 것은 인코더의 hidden state와 cell state를 디코더의 초기 state로 사용하는 가장 기본적인 seq2seq에요. 그런데 디코더의 출력층을 설계를 살짝 바꿔서 성능을 높일 수 있는 방법이 있어요! 바로 어텐션 메커니즘이에요.\n",
    "\n",
    "어텐션 메커니즘\n",
    "\n",
    "어텐션 메커니즘을 수행하는 어텐션 함수를 설계하는 것은 또 다른 새로운 신경망을 설계해야 한다는 뜻이에요. 어텐션 함수를 설계해보는 것은 다음 기회로 미루기로 하고, 여기서는 TensorFlow에 이미 구현된 어텐션 함수를 가져와서 디코더의 출력층에 어떤 방식으로 결합하는지 배워볼게요. 참고로 여기서 사용하는 어텐션 함수는 Bahdanau 스타일의 어텐션입니다. 이 어텐션에 대한 자세한 설명은 텐서플로우 홈페이지를 참고하세요.\n",
    "\n",
    "아래와 같이 어텐션 층을 만들고, 위에서 설계한 디코더의 출력층을 수정해 봅시다."
   ]
  },
  {
   "cell_type": "code",
   "execution_count": 85,
   "id": "165179c6",
   "metadata": {},
   "outputs": [
    {
     "name": "stdout",
     "output_type": "stream",
     "text": [
      "Model: \"model_1\"\n",
      "__________________________________________________________________________________________________\n",
      "Layer (type)                    Output Shape         Param #     Connected to                     \n",
      "==================================================================================================\n",
      "input_1 (InputLayer)            [(None, 40)]         0                                            \n",
      "__________________________________________________________________________________________________\n",
      "embedding (Embedding)           (None, 40, 128)      2816000     input_1[0][0]                    \n",
      "__________________________________________________________________________________________________\n",
      "lstm (LSTM)                     [(None, 40, 256), (N 394240      embedding[0][0]                  \n",
      "__________________________________________________________________________________________________\n",
      "input_2 (InputLayer)            [(None, None)]       0                                            \n",
      "__________________________________________________________________________________________________\n",
      "lstm_1 (LSTM)                   [(None, 40, 256), (N 525312      lstm[0][0]                       \n",
      "__________________________________________________________________________________________________\n",
      "embedding_1 (Embedding)         (None, None, 128)    1280000     input_2[0][0]                    \n",
      "__________________________________________________________________________________________________\n",
      "lstm_2 (LSTM)                   [(None, 40, 256), (N 525312      lstm_1[0][0]                     \n",
      "__________________________________________________________________________________________________\n",
      "lstm_3 (LSTM)                   [(None, None, 256),  394240      embedding_1[0][0]                \n",
      "                                                                 lstm_2[0][1]                     \n",
      "                                                                 lstm_2[0][2]                     \n",
      "__________________________________________________________________________________________________\n",
      "attention_layer (AdditiveAttent (None, None, 256)    256         lstm_3[0][0]                     \n",
      "                                                                 lstm_2[0][0]                     \n",
      "__________________________________________________________________________________________________\n",
      "concat_layer (Concatenate)      (None, None, 512)    0           lstm_3[0][0]                     \n",
      "                                                                 attention_layer[0][0]            \n",
      "__________________________________________________________________________________________________\n",
      "dense_1 (Dense)                 (None, None, 10000)  5130000     concat_layer[0][0]               \n",
      "==================================================================================================\n",
      "Total params: 11,065,360\n",
      "Trainable params: 11,065,360\n",
      "Non-trainable params: 0\n",
      "__________________________________________________________________________________________________\n"
     ]
    }
   ],
   "source": [
    "from tensorflow.keras.layers import AdditiveAttention\n",
    "\n",
    "# 어텐션 층(어텐션 함수)\n",
    "attn_layer = AdditiveAttention(name='attention_layer')\n",
    "\n",
    "# 인코더와 디코더의 모든 time step의 hidden state를 어텐션 층에 전달하고 결과를 리턴\n",
    "attn_out = attn_layer([decoder_outputs, encoder_outputs])\n",
    "\n",
    "\n",
    "# 어텐션의 결과와 디코더의 hidden state들을 연결\n",
    "decoder_concat_input = Concatenate(axis=-1, name='concat_layer')([decoder_outputs, attn_out])\n",
    "\n",
    "# 디코더의 출력층\n",
    "decoder_softmax_layer = Dense(tar_vocab, activation='softmax')\n",
    "decoder_softmax_outputs = decoder_softmax_layer(decoder_concat_input)\n",
    "\n",
    "# 모델 정의\n",
    "model = Model([encoder_inputs, decoder_inputs], decoder_softmax_outputs)\n",
    "model.summary()"
   ]
  },
  {
   "cell_type": "markdown",
   "id": "4f67ace0",
   "metadata": {},
   "source": [
    "위의 코드는 인코더의 hidden state들과 디코더의 hidden state들을 어텐션 함수의 입력으로 사용하고, 어텐션 함수가 리턴한 값을 예측 시에 디코더의 hidden state와 함께 활용하는 형태로 작동하고 있어요."
   ]
  },
  {
   "cell_type": "code",
   "execution_count": 86,
   "id": "f1984706",
   "metadata": {},
   "outputs": [
    {
     "name": "stdout",
     "output_type": "stream",
     "text": [
      "Epoch 1/50\n",
      "308/308 [==============================] - 121s 365ms/step - loss: 6.3621 - val_loss: 5.9808\n",
      "Epoch 2/50\n",
      "308/308 [==============================] - 112s 363ms/step - loss: 5.7557 - val_loss: 5.5216\n",
      "Epoch 3/50\n",
      "308/308 [==============================] - 113s 365ms/step - loss: 5.3755 - val_loss: 5.2308\n",
      "Epoch 4/50\n",
      "308/308 [==============================] - 114s 369ms/step - loss: 5.0866 - val_loss: 5.0039\n",
      "Epoch 5/50\n",
      "308/308 [==============================] - 113s 367ms/step - loss: 4.8447 - val_loss: 4.8710\n",
      "Epoch 6/50\n",
      "308/308 [==============================] - 113s 367ms/step - loss: 4.6421 - val_loss: 4.7053\n",
      "Epoch 7/50\n",
      "308/308 [==============================] - 114s 371ms/step - loss: 4.4713 - val_loss: 4.6066\n",
      "Epoch 8/50\n",
      "308/308 [==============================] - 114s 371ms/step - loss: 4.3241 - val_loss: 4.5202\n",
      "Epoch 9/50\n",
      "308/308 [==============================] - 114s 369ms/step - loss: 4.1937 - val_loss: 4.4567\n",
      "Epoch 10/50\n",
      "308/308 [==============================] - 114s 369ms/step - loss: 4.0747 - val_loss: 4.3992\n",
      "Epoch 11/50\n",
      "308/308 [==============================] - 114s 371ms/step - loss: 3.9690 - val_loss: 4.3485\n",
      "Epoch 12/50\n",
      "308/308 [==============================] - 115s 372ms/step - loss: 3.8762 - val_loss: 4.3187\n",
      "Epoch 13/50\n",
      "308/308 [==============================] - 113s 367ms/step - loss: 3.7932 - val_loss: 4.2871\n",
      "Epoch 14/50\n",
      "308/308 [==============================] - 115s 374ms/step - loss: 3.7155 - val_loss: 4.2773\n",
      "Epoch 15/50\n",
      "308/308 [==============================] - 116s 377ms/step - loss: 3.6446 - val_loss: 4.2454\n",
      "Epoch 16/50\n",
      "308/308 [==============================] - 114s 371ms/step - loss: 3.5769 - val_loss: 4.2277\n",
      "Epoch 17/50\n",
      "308/308 [==============================] - 114s 369ms/step - loss: 3.5098 - val_loss: 4.2073\n",
      "Epoch 18/50\n",
      "308/308 [==============================] - 113s 367ms/step - loss: 3.4508 - val_loss: 4.2020\n",
      "Epoch 19/50\n",
      "308/308 [==============================] - 112s 364ms/step - loss: 3.3963 - val_loss: 4.1856\n",
      "Epoch 20/50\n",
      "308/308 [==============================] - 111s 360ms/step - loss: 3.3473 - val_loss: 4.1764\n",
      "Epoch 21/50\n",
      "308/308 [==============================] - 111s 359ms/step - loss: 3.2970 - val_loss: 4.1757\n",
      "Epoch 22/50\n",
      "308/308 [==============================] - 111s 361ms/step - loss: 3.2538 - val_loss: 4.1678\n",
      "Epoch 23/50\n",
      "308/308 [==============================] - 111s 361ms/step - loss: 3.2056 - val_loss: 4.1708\n",
      "Epoch 24/50\n",
      "308/308 [==============================] - 112s 364ms/step - loss: 3.1654 - val_loss: 4.1673\n",
      "Epoch 25/50\n",
      "308/308 [==============================] - 112s 365ms/step - loss: 3.1261 - val_loss: 4.1744\n",
      "Epoch 26/50\n",
      "308/308 [==============================] - 112s 365ms/step - loss: 3.0837 - val_loss: 4.1639\n",
      "Epoch 27/50\n",
      "308/308 [==============================] - 110s 358ms/step - loss: 3.0460 - val_loss: 4.1609\n",
      "Epoch 28/50\n",
      "308/308 [==============================] - 110s 358ms/step - loss: 3.0142 - val_loss: 4.1613\n",
      "Epoch 29/50\n",
      "308/308 [==============================] - 111s 360ms/step - loss: 2.9819 - val_loss: 4.1641\n",
      "Epoch 00029: early stopping\n"
     ]
    }
   ],
   "source": [
    "model.compile(optimizer='rmsprop', loss='sparse_categorical_crossentropy')\n",
    "es = EarlyStopping(monitor='val_loss', patience=2, verbose=1)\n",
    "history = model.fit(x=[encoder_input_train, decoder_input_train], y=decoder_target_train, \\\n",
    "          validation_data=([encoder_input_test, decoder_input_test], decoder_target_test), \\\n",
    "          batch_size=256, callbacks=[es], epochs=50)"
   ]
  },
  {
   "cell_type": "markdown",
   "id": "41e98070",
   "metadata": {},
   "source": [
    "'조기 종료'를 뜻하는 EarlyStopping은 특정 조건이 충족되면 훈련을 멈추는 역할을 해요.\n",
    "\n",
    "<es = EarlyStopping(monitor='val_loss', patience=2, verbose=1)>\n",
    "\n",
    "위 코드에서는 val_loss(검증 데이터의 손실)을 관찰하다가, 검증 데이터의 손실이 줄어들지 않고 증가하는 현상이 2회(patience=2) 관측되면 학습을 멈추도록 설정돼 있어요. EarlyStopping이 작동한다면 epochs가 아무리 크게 설정되어 있어도 모델 훈련을 최적점에서 멈출 수 있겠네요."
   ]
  },
  {
   "cell_type": "code",
   "execution_count": 87,
   "id": "4b48d0c2",
   "metadata": {},
   "outputs": [
    {
     "data": {
      "image/png": "[encoded data removed]",
      "text/plain": [
       "<Figure size 432x288 with 1 Axes>"
      ]
     },
     "metadata": {
      "needs_background": "light"
     },
     "output_type": "display_data"
    }
   ],
   "source": [
    "plt.plot(history.history['loss'], label='train')\n",
    "plt.plot(history.history['val_loss'], label='test')\n",
    "plt.legend()\n",
    "plt.show()"
   ]
  },
  {
   "cell_type": "markdown",
   "id": "9607e0bf",
   "metadata": {},
   "source": [
    "### 인퍼런스 모델 구현하기\n",
    "테스트 단계에서는 정수 인덱스 행렬로 존재하던 텍스트 데이터를 실제 데이터로 복원해야 하므로, 필요한 3개의 사전을 아래와 같이 미리 준비해 둡니다."
   ]
  },
  {
   "cell_type": "code",
   "execution_count": 88,
   "id": "e2e562bb",
   "metadata": {},
   "outputs": [],
   "source": [
    "src_index_to_word = src_tokenizer.index_word # 원문 단어 집합에서 정수 -> 단어를 얻음\n",
    "tar_word_to_index = tar_tokenizer.word_index # 요약 단어 집합에서 단어 -> 정수를 얻음\n",
    "tar_index_to_word = tar_tokenizer.index_word # 요약 단어 집합에서 정수 -> 단어를 얻음"
   ]
  },
  {
   "cell_type": "markdown",
   "id": "57d2455e",
   "metadata": {},
   "source": [
    "seq2seq는 훈련할 때와 실제 동작할 때(인퍼런스 단계)의 방식이 다르므로 그에 맞게 모델 설계를 별개로 진행해야 한다는 것, 알고 계시나요?\n",
    "\n",
    "훈련 단계에서는 디코더의 입력부에 정답이 되는 문장 전체를 한꺼번에 넣고 디코더의 출력과 한 번에 비교할 수 있으므로, 인코더와 디코더를 엮은 통짜 모델 하나만 준비했습니다.\n",
    "\n",
    "그러나 정답 문장이 없는 인퍼런스 단계에서는 만들어야 할 문장의 길이만큼 디코더가 반복 구조로 동작해야 하기 때문에 부득이하게 인퍼런스를 위한 모델 설계를 별도로 해주어야 합니다. 이때는 인코더 모델과 디코더 모델을 분리해서 설계합니다."
   ]
  },
  {
   "cell_type": "code",
   "execution_count": 90,
   "id": "7759dc8d",
   "metadata": {},
   "outputs": [],
   "source": [
    "# 인코더 설계\n",
    "encoder_model = Model(inputs=encoder_inputs, outputs=[encoder_outputs, state_h, state_c])\n",
    "\n",
    "# 이전 시점의 상태들을 저장하는 텐서\n",
    "decoder_state_input_h = Input(shape=(hidden_size,))\n",
    "decoder_state_input_c = Input(shape=(hidden_size,))\n",
    "\n",
    "dec_emb2 = dec_emb_layer(decoder_inputs)\n",
    "\n",
    "# 문장의 다음 단어를 예측하기 위해서 초기 상태(initial_state)를 이전 시점의 상태로 사용. 이는 뒤의 함수 decode_sequence()에 구현\n",
    "# 훈련 과정에서와 달리 LSTM의 리턴하는 은닉 상태와 셀 상태인 state_h와 state_c를 버리지 않음.\n",
    "decoder_outputs2, state_h2, state_c2 = decoder_lstm(dec_emb2, initial_state=[decoder_state_input_h, decoder_state_input_c])"
   ]
  },
  {
   "cell_type": "markdown",
   "id": "21b00f74",
   "metadata": {},
   "source": [
    "어텐션 메커니즘을 사용하는 출력층을 설계해 주세요"
   ]
  },
  {
   "cell_type": "code",
   "execution_count": 91,
   "id": "49319575",
   "metadata": {},
   "outputs": [
    {
     "name": "stdout",
     "output_type": "stream",
     "text": [
      "=3\n"
     ]
    }
   ],
   "source": [
    "# 어텐션 함수\n",
    "decoder_hidden_state_input = Input(shape=(text_max_len, hidden_size))\n",
    "attn_out_inf = attn_layer([decoder_outputs2, decoder_hidden_state_input])\n",
    "decoder_inf_concat = Concatenate(axis=-1, name='concat')([decoder_outputs2, attn_out_inf])\n",
    "\n",
    "# 디코더의 출력층\n",
    "decoder_outputs2 = decoder_softmax_layer(decoder_inf_concat) \n",
    "\n",
    "# 최종 디코더 모델\n",
    "decoder_model = Model(\n",
    "    [decoder_inputs] + [decoder_hidden_state_input,decoder_state_input_h, decoder_state_input_c],\n",
    "    [decoder_outputs2] + [state_h2, state_c2])\n",
    "\n",
    "print('=3')"
   ]
  },
  {
   "cell_type": "markdown",
   "id": "4a3bdcad",
   "metadata": {},
   "source": [
    "인퍼런스 단계에서 단어 시퀀스를 완성하는 함수를 만들어주세요."
   ]
  },
  {
   "cell_type": "code",
   "execution_count": 95,
   "id": "a3aac0a5",
   "metadata": {},
   "outputs": [],
   "source": [
    "def decode_sequence(input_seq):\n",
    "    # 입력으로부터 인코더의 상태를 얻음\n",
    "    e_out, e_h, e_c = encoder_model.predict(input_seq)\n",
    "\n",
    "     # <SOS>에 해당하는 토큰 생성\n",
    "    target_seq = np.zeros((1,1))\n",
    "    target_seq[0, 0] = tar_word_to_index['sostoken']\n",
    "\n",
    "    stop_condition = False\n",
    "    decoded_sentence = ''\n",
    "    while not stop_condition: # stop_condition이 True가 될 때까지 루프 반복\n",
    "\n",
    "        output_tokens, h, c = decoder_model.predict([target_seq] + [e_out, e_h, e_c])\n",
    "        sampled_token_index = np.argmax(output_tokens[0, -1, :])\n",
    "        sampled_token = tar_index_to_word[sampled_token_index]\n",
    "\n",
    "        if (sampled_token!='eostoken'):\n",
    "            decoded_sentence += ' '+sampled_token\n",
    "\n",
    "        #  <eos>에 도달하거나 최대 길이를 넘으면 중단.\n",
    "        if (sampled_token == 'eostoken'  or len(decoded_sentence.split()) >= (headlines_max_len-1)):\n",
    "            stop_condition = True\n",
    "\n",
    "        # 길이가 1인 타겟 시퀀스를 업데이트\n",
    "        target_seq = np.zeros((1,1))\n",
    "        target_seq[0, 0] = sampled_token_index\n",
    "\n",
    "        # 상태를 업데이트 합니다.\n",
    "        e_h, e_c = h, c\n",
    "\n",
    "    return decoded_sentence"
   ]
  },
  {
   "cell_type": "markdown",
   "id": "2f78202f",
   "metadata": {},
   "source": [
    "테스트 단계에서는 정수 시퀀스를 텍스트 시퀀스로 변환하여 결과를 확인하는 것이 편하겠죠. 주어진 정수 시퀀스를 텍스트 시퀀스로 변환하는 함수를 만들어볼게요. 함수를 만들 때, Text의 정수 시퀀스에서는 패딩을 위해 사용되는 숫자 0을 제외하고 Summary의 정수 시퀀스에서는 숫자 0, 시작 토큰의 인덱스, 종료 토큰의 인덱스를 출력에서 제외하도록 만들 거예요."
   ]
  },
  {
   "cell_type": "code",
   "execution_count": 96,
   "id": "2cd118a0",
   "metadata": {},
   "outputs": [
    {
     "name": "stdout",
     "output_type": "stream",
     "text": [
      "=3\n"
     ]
    }
   ],
   "source": [
    "# 원문의 정수 시퀀스를 텍스트 시퀀스로 변환\n",
    "def seq2text(input_seq):\n",
    "    temp=''\n",
    "    for i in input_seq:\n",
    "        if (i!=0):\n",
    "            temp = temp + src_index_to_word[i]+' '\n",
    "    return temp\n",
    "\n",
    "# 요약문의 정수 시퀀스를 텍스트 시퀀스로 변환\n",
    "def seq2summary(input_seq):\n",
    "    temp=''\n",
    "    for i in input_seq:\n",
    "        if ((i != 0 and i != tar_word_to_index['sostoken']) and i != tar_word_to_index['eostoken']):\n",
    "            temp = temp + tar_index_to_word[i] + ' '\n",
    "    return temp\n",
    "\n",
    "print('=3')"
   ]
  },
  {
   "cell_type": "code",
   "execution_count": 97,
   "id": "effb594a",
   "metadata": {},
   "outputs": [
    {
     "name": "stdout",
     "output_type": "stream",
     "text": [
      "원문 : former indian cricket team captain bishan singh bedi said bigger scam india indian premier league nobody knows ipl money comes goes second edition ipl happened south africa millions taken country without permission finance minister bedi added \n",
      "실제 요약 : is not bigger scam in india than ipl singh bedi \n",
      "예측 요약 :  kumble should be paid for money says kumble\n",
      "\n",
      "\n",
      "원문 : white house infested cockroaches mice ants building maintenance files revealed cockroach found least four parts building mice discovered situation room president crisis management centre white house officials submitted hundreds requests repairs equipment pest control files revealed \n",
      "실제 요약 : white house with cockroaches mice reports \n",
      "예측 요약 :  man found dead inside new york\n",
      "\n",
      "\n",
      "원문 : red star logo beer giant could banned hungary government proposal prohibit commercial use symbols proposal aims merchandise featuring symbols like nazi swastika communist red star anyone breach proposed law could face million fine two years jail \n",
      "실제 요약 : hungary threatens to ban beer red star logo \n",
      "예측 요약 :  paris bans beer beer in paris\n",
      "\n",
      "\n",
      "원문 : silly comments made donald trump announcing us exit nuclear deal iran supreme leader ayatollah ali khamenei wednesday told us president cannot damn thing made mistake iran remain strong even die khamenei said warned iran may quit deal \n",
      "실제 요약 : you cannot do thing iran supreme leader to trump \n",
      "예측 요약 :  trump nuclear deal will not be iran nuclear secretary\n",
      "\n",
      "\n",
      "원문 : actor politician shatrughan sinha praising amitabh bachchan rishi kapoor starrer tweeted hindi cinema landscape legendary popular wonderful actors well done hit film seen enjoyed every section society added \n",
      "실제 요약 : hindi cinema has been shatrughan on not out \n",
      "예측 요약 :  amitabh bachchan is like rishi on film screen\n",
      "\n",
      "\n",
      "원문 : government reportedly considering providing air india employees option joining public sector companies moves ahead airline privatisation possibility voluntary retirement scheme employees also consideration reports said government allowed foreign investment air india government approval \n",
      "실제 요약 : govt may air india employees into public sector firms \n",
      "예측 요약 :  govt to air india privatisation of commerce sector\n",
      "\n",
      "\n",
      "원문 : co founded smartphone brands oppo vivo believes apple ceo tim cook clue first met met tim cook several occasions might know little said adding like lot however apple confirmed meeting cook \n",
      "실제 요약 : had no who was when we st met oppo founder \n",
      "예측 요약 :  apple co founder steve cook to step down\n",
      "\n",
      "\n",
      "원문 : mumbai police friday used reference recent australian cricket team ball tampering scandal exposed cameras one tweets urging people follow rules set cctv cameras fielding streets mumbai follow rules get caught behind lens wrote \n",
      "실제 요약 : police uses ball tampering row meme to spread awareness \n",
      "예측 요약 :  mumbai police uses ball access to promote mobile numbers\n",
      "\n",
      "\n",
      "원문 : world first transplant japanese man became first person receive cells derived induced stem cells donated another person ips cells created removing mature cells individual back premature state develop desired cell type useful treating disease \n",
      "실제 요약 : st human to human cell transplant done \n",
      "예측 요약 :  first indian to accept gene cells for years\n",
      "\n",
      "\n",
      "원문 : turkish president recep tayyip erdo called israel world fascist racist state referring bill passed israeli parliament defines country exclusively jewish state hitler spirit israel rulers erdo added israeli pm benjamin netanyahu said turkey becoming dark dictatorship response erdo remarks \n",
      "실제 요약 : israel world most racist state turkey president \n",
      "예측 요약 :  israel calls for hitler prez erdo an hitler\n",
      "\n",
      "\n",
      "원문 : world first zero gravity party attendees launched frankfurt germany based events company collaboration european space agency modified airbus performed involving plane go high followed quick drop induce minute flight dj ed steve offered minutes total \n",
      "실제 요약 : world st zero gravity party flies guests from germany \n",
      "예측 요약 :  world most powerful rocket engine was launched\n",
      "\n",
      "\n",
      "원문 : indian navy first women sailing crew way storm pacific ocean way islands january indian navy released video team six officers showing navigating insv tarini waters rain crew eight month tour around globe \n",
      "실제 요약 : video women navy officers storm in pacific ocean \n",
      "예측 요약 :  navy successfully unveils its first navy navy\n",
      "\n",
      "\n",
      "원문 : according reports actress katrina kaif speaking working ranbir kapoor future films said never happen added difficult people proof trying testing person ranbir also gestured work film together \n",
      "실제 요약 : katrina says she will never work with ranbir again report \n",
      "예측 요약 :  katrina kaif is the biggest film ranbir\n",
      "\n",
      "\n",
      "원문 : last day court monday outgoing chief justice india dipak misra stopped lawyer singing tum saal misra said presently responding heart respond mind evening misra appointed chief justice august succeeded ranjan gogoi \n",
      "실제 요약 : responding from heart retiring cji stops lawyer from singing \n",
      "예측 요약 :  justice misra not for playing cji misra\n",
      "\n",
      "\n",
      "원문 : un secretary general ant nio guterres warned world body running cash guterres said cash crunch caused primarily failure member states pay contributions urged pay dues earliest total countries far paid dues \n",
      "실제 요약 : un running out of cash warns chief \n",
      "예측 요약 :  imf chief calls for imf currency\n",
      "\n",
      "\n",
      "원문 : actor vishal filed nomination papers upcoming bypolls rk nagar seat previously held late cm jayalalithaa vacant since demise candidates filed nominations bypoll include rebel aiadmk leader ttv dhinakaran dmk ganesh meanwhile ruling aiadmk faction nominated \n",
      "실제 요약 : actor vishal to contest bypolls for jayalalithaa seat \n",
      "예측 요약 :  veteran actor files complaint against taka cm\n",
      "\n",
      "\n",
      "원문 : five time ballon winner lionel messi netted hat trick barcelona defeated deportivo clinch la liga seventh time years th time history barcelona also extended league record unbeaten streak matches barcelona points matches points ahead third placed real madrid \n",
      "실제 요약 : hat trick as bar win th la liga in years \n",
      "예측 요약 :  messi scores goals as barcelona win barcelona\n",
      "\n",
      "\n",
      "원문 : letter rajya sabha chairman venkaiah naidu congress mp jairam ramesh requested government organise special parliamentary session may june stating complete recently concluded budget session inflicted great damage institution ramesh added two week session organised facilitate debate pass important bills \n",
      "실제 요약 : cong mp calls for special session after parliament \n",
      "예측 요약 :  govt plans to rajya sabha mps mps\n",
      "\n",
      "\n",
      "원문 : gurugram based grocery delivery startup raised around crore funding round us based venture capital firm fund reports suggested nikhil managing director fund also joined startup board part deal founded subscription based service delivers goods like milk bread customers \n",
      "실제 요약 : grocery delivery startup raises crore funding \n",
      "예측 요약 :  logistics startup raises crore from softbank\n",
      "\n",
      "\n",
      "원문 : vishwa hindu parishad member arrested wednesday allegedly throwing petrol bombs communist party india office coimbatore last month man along accomplice reportedly threw bombs response tensions cpi rss kerala car damaged injuries reported \n",
      "실제 요약 : vhp member arrested for petrol bomb at cpi office \n",
      "예측 요약 :  muslims held for smuggling rss leader in maharashtra\n",
      "\n",
      "\n",
      "원문 : salman khan required take permission court every time travels abroad sessions court jodhpur granted application submitted making request however salman required keep court informed plans leaving country including dates location stay \n",
      "실제 요약 : salman won require permission to travel abroad jodhpur court \n",
      "예측 요약 :  salman khan to appear in court for salman khan\n",
      "\n",
      "\n",
      "원문 : us led coalition released new assessment civilian casualties airstrikes iraq syria claiming people unintentionally killed since start campaign islamic state however data collected uk based monitor indicates far larger death toll suggesting civilians killed us led coalition \n",
      "실제 요약 : us killed over people in iraq syria \n",
      "예측 요약 :  us air strikes kill isis in syria\n",
      "\n",
      "\n",
      "원문 : american woman fitbit fitness tracker recently helped save life noticed registering abnormal resting heart rate tracker displayed resting heart rate beats per minute higher usual prompted woman dial ambulance doctors found potentially fatal blood lungs \n",
      "실제 요약 : fitness alerts woman of life threatening condition \n",
      "예측 요약 :  woman to help woman baby in luru\n",
      "\n",
      "\n",
      "원문 : us south korean forces monday began joint computer simulated military exercises amid tensions north korea nuclear ballistic missile programme however south korean president moon jae said joint drills purely defensive north korea efforts keep peace engage provocations using drills excuse \n",
      "실제 요약 : us begins computer drills amid korean tensions \n",
      "예측 요약 :  us to hold military drills amid korea tensions\n",
      "\n",
      "\n",
      "원문 : apple app store saw consumer spending billion nearly double billion spent google play according sensor tower users spent billion apps games app purchases two stores year year year increase consumers spent billion across stores \n",
      "실제 요약 : apple app store earned double of google play in report \n",
      "예측 요약 :  apple to billion users in billion\n",
      "\n",
      "\n",
      "원문 : finance minister arun jaitley said reasons fall rupee global domestic must bear mind dollar strengthened almost every currency rupee either consistently strengthened remained range weakened added compared four five years ago rupee better jaitley said \n",
      "실제 요약 : for fall of rupee global not domestic fm arun jaitley \n",
      "예측 요약 :  rupee jaitley on economy economy jaitley\n",
      "\n",
      "\n",
      "원문 : year old computer science graduate posed author official aviation firm tarun arrested tuesday duping woman lakh allegedly hired expensive cars bodyguards accepted genuine author promised woman get nephew admitted top school \n",
      "실제 요약 : man held for duping woman of by posing as author \n",
      "예측 요약 :  man steals lakh for lakh to lakh\n",
      "\n",
      "\n",
      "원문 : least major indian cities including delhi bengaluru expected run groundwater affecting million people according government think tank niti aayog report stated indian population access drinking water india lose gdp due crisis \n",
      "실제 요약 : delhi bengaluru to run out of by niti aayog \n",
      "예측 요약 :  india has highest number of in india study\n",
      "\n",
      "\n",
      "원문 : railway board chairman ak mittal advised passengers carry home cooked food trains amid ongoing reports unfit food served trains carry home cooked food quality wise alternative food said added base kitchens set ensure quality food operational within year \n",
      "실제 요약 : carry home cooked food on trains railway board chairman \n",
      "예측 요약 :  irctc to train food at railway stations\n",
      "\n",
      "\n",
      "원문 : plastic coins tokens denominations recovered dera sacha sauda headquarters sirsa search operation carried friday shops premises names coins could used purchase notably commandos sniffer dogs paramilitary soldiers deployed search premises \n",
      "실제 요약 : plastic coins recovered in dera hq search operation \n",
      "예측 요약 :  kg of workers found in bihar\n",
      "\n",
      "\n",
      "원문 : sharing actor ranveer singh still film simmba social media director rohit shetty wrote calls rohit shetty ka hero call dynamite ranveer playing role police inspector film produced karan johar also starring sara ali khan simmba scheduled release december \n",
      "실제 요약 : call ranveer singh the rohit shetty \n",
      "예측 요약 :  happy to rohit ranveer on simmba simmba simmba\n",
      "\n",
      "\n",
      "원문 : tata steel closely following insolvency resolution process initiated banks acquire stressed assets dollar process insolvency resolution found transparent tata steel evaluate opportunities acquiring existing manufacturing capacity notably steel firms rbi bad loan accounts list \n",
      "실제 요약 : steel looking to acquire firms in rbi bad loans list \n",
      "예측 요약 :  tata steel to settle dispute with six reports\n",
      "\n",
      "\n",
      "원문 : us president donald trump judicial nominee matthew failed answer question basic knowledge procedural law senate confirmation hearing currently serving commissioner federal election commission informed senate never tried case verdict last read federal rules evidence law school \n",
      "실제 요약 : trump judicial nominee fails to answer law questions \n",
      "예측 요약 :  trump lawyer who failed to replace trump lawyer\n",
      "\n",
      "\n",
      "원문 : commerce major amazon launched first ever debit card called amazon mexico customers credit debit card able convert cash payment method easy way amazon debit card company said last year amazon launched cash payments service country \n",
      "실제 요약 : amazon launches its first ever debit card in mexico \n",
      "예측 요약 :  amazon amazon amazon alexa out of amazon in amazon\n",
      "\n",
      "\n",
      "원문 : actor prateik babbar said would love biopic late mother actress smita patil called ek thi smita short span one hell life lived added inspiring seen films loved said \n",
      "실제 요약 : mom biopic should be called ek says prateik \n",
      "예측 요약 :  was not son of daughter in\n",
      "\n",
      "\n",
      "원문 : uttar pradesh chief minister yogi adityanath saturday said everyone sing vande mataram singing national song matter serious concern singing vande mataram shows mind adityanath added however asserted st century issue singing vande mataram discussed topic \n",
      "실제 요약 : everyone should sing vande mataram says yogi adityanath \n",
      "예측 요약 :  yogi adityanath not singing vande mataram during vande mataram\n",
      "\n",
      "\n",
      "원문 : year old student mukul jain pursuing phd jawaharlal nehru university missing campus since january police said missing person complaint registered monday evening police launched investigation another jnu student najeeb ahmed gone missing alleged scuffle student political group \n",
      "실제 요약 : jnu student missing from campus since january \n",
      "예측 요약 :  jnu student dies after being mistaken for\n",
      "\n",
      "\n",
      "원문 : islamic state palestinian militant group hamas claimed responsibility shooting stabbing attack jerusalem friday israeli police officer killed another injured attack israeli security forces shot attackers dead isis claim true would militant group first terror attack israel \n",
      "실제 요약 : isis hamas both claim responsibility for jerusalem attack \n",
      "예측 요약 :  let let responsibility for attack on terror attack\n",
      "\n",
      "\n",
      "원문 : us investment bank goldman sachs ceo david solomon apologised malaysian people former banker tim role scandal sovereign wealth fund mdb goldman helped mdb raise billion debt us alleged billion high level officials fund associates \n",
      "실제 요약 : goldman sachs ceo apologises to malaysian people for scandal \n",
      "예측 요약 :  walmart charges england firm for crore\n",
      "\n",
      "\n",
      "원문 : paris set get least one sparkling water fountain part new initiative city hall local officials hope initiative help reduce plastic waste bottled water encourage stay notably already several sparkling water fountains around french city \n",
      "실제 요약 : paris installing water all over city \n",
      "예측 요약 :  new york open to open new\n",
      "\n",
      "\n",
      "원문 : website named us published report thursday claiming model actress pamela anderson passed away developed hepatitis pneumonia report said collapsed los angeles home following hospitalised fake news resulted condolence tweets like rip best playboy model rip bae \n",
      "실제 요약 : website fake news on pamela anderson death \n",
      "예측 요약 :  us university scientist sues bbc for stealing\n",
      "\n",
      "\n",
      "원문 : madrid winger cristiano ronaldo appeared court madrid monday denying claims committed million tax fraud prosecutors alleged evaded tax via two shell companies based british virgin islands ireland found guilty ronaldo may fined least million face prison sentence three half years \n",
      "실제 요약 : ronaldo appears in court denies crore tax fraud \n",
      "예측 요약 :  ronaldo loses million valuation to syrian madrid player\n",
      "\n",
      "\n",
      "원문 : american producer harvey weinstein resigned weinstein company board amid allegations sexual harassment statement board said also ratified earlier decision fire weinstein co chairman company women including actresses like angelina jolie accused weinstein sexual assault \n",
      "실제 요약 : weinstein resigns from company board amid rape allegations \n",
      "예측 요약 :  weinstein fires weinstein weinstein weinstein\n",
      "\n",
      "\n",
      "원문 : congress social media cell head divya tweeted picture pm narendra modi sardar patel statue unity gujarat along caption bird dropping bjp replied post tweeting values congress dropping post garnered retweets likes \n",
      "실제 요약 : bird dropping cong social media head on pm modi pic \n",
      "예측 요약 :  congress mocks pm modi for calling him\n",
      "\n",
      "\n",
      "원문 : canadian pm justin trudeau week long visit india family arrived national capital thursday canadian first family participated cricket event delhi modern school joined former cricketers kapil dev mohammed azharuddin trudeau son also hit delivery bowled kapil dev \n",
      "실제 요약 : canadian pm son plays cricket with kapil dev in delhi \n",
      "예측 요약 :  canadian pm justin trudeau visits canadian pm justin trudeau\n",
      "\n",
      "\n",
      "원문 : reacting controversy surrounding portrait pakistan founding father muhammad ali jinnah aligarh muslim university pakistan said shows india growing intolerance prejudice muslims contrast pakistan mahatma gandhi pictures statues continue displayed islamabad monument museum pakistan foreign office said \n",
      "실제 요약 : jinnah photo row shows india intolerance pak \n",
      "예측 요약 :  jinnah ki jinnah ki jinnah india pak army chief\n",
      "\n",
      "\n",
      "원문 : year old employee jumped first floor building income tax raid questioning tamil nadu man complained nausea stepping balcony jumping officials immediately alerted police officials rushed private hospital \n",
      "실제 요약 : jumps off the first floor during it raid and questioning \n",
      "예측 요약 :  man dies after being shot at delhi delhi airport\n",
      "\n",
      "\n",
      "원문 : twenty three time grand slam champion serena williams jokingly said continue playing time grand slam winner roger federer stops long put time limit together long going try year old added notably serena turned pro federer turned pro \n",
      "실제 요약 : will continue playing until roger federer stops serena \n",
      "예측 요약 :  serena williams is better than serena williams says sehwag\n",
      "\n",
      "\n",
      "원문 : kerala kochi airport closed august reopen august officials said opening delayed staff affected floods state one three airports kerala reportedly suffered estimated loss crore due floods state \n",
      "실제 요약 : shut due to floods kochi airport to reopen on august \n",
      "예측 요약 :  kerala airport closed after kerala floods relief\n",
      "\n",
      "\n",
      "원문 : eight people killed others injured earthquake magnitude struck china northwest xinjiang region thursday china earthquake administration said quake occurred remote county area depth kilometres witnesses said frequent tremors felt quake \n",
      "실제 요약 : killed injured as magnitude earthquake hits china \n",
      "예측 요약 :  killed injured as magnitude earthquake hits china\n",
      "\n",
      "\n"
     ]
    }
   ],
   "source": [
    "for i in range(50, 100):\n",
    "    print(\"원문 :\", seq2text(encoder_input_test[i]))\n",
    "    print(\"실제 요약 :\", seq2summary(decoder_input_test[i]))\n",
    "    print(\"예측 요약 :\", decode_sequence(encoder_input_test[i].reshape(1, text_max_len)))\n",
    "    print(\"\\n\")"
   ]
  },
  {
   "cell_type": "markdown",
   "id": "55f5ec93",
   "metadata": {},
   "source": [
    "### 추출적 요약 해보기\n",
    "앞서 seq2seq를 통해서 추상적 요약을 진행해봤어요. 그런데 텍스트 요약에는 추상적 요약 외에도 이미 본문에 존재하는 단어구, 문장을 뽑아서 요약으로 삼는 추출적 요약 방법도 있었죠.\n",
    "패키지 Summa에서는 추출적 요약을 위한 모듈인 summarize를 제공하고 있어 아주 간단하게 실습을 해볼 수 있어요. "
   ]
  },
  {
   "cell_type": "code",
   "execution_count": 98,
   "id": "33a3a0ae",
   "metadata": {},
   "outputs": [
    {
     "name": "stdout",
     "output_type": "stream",
     "text": [
      "Madhesi Morcha, an alliance of seven political parties, has withdrawn support to PM Pushpa Kamal Dahal-led Nepal government after it failed to meet a seven-day ultimatum to fulfil their demands including endorsement for the revised Constitution amendment bill. The Morcha has 36 seats in the Parliament, but despite the withdrawal of support, there is no immediate threat to the government.\n"
     ]
    }
   ],
   "source": [
    "import requests\n",
    "from summa.summarizer import summarize\n",
    "\n",
    "print(text[:1500])"
   ]
  },
  {
   "cell_type": "markdown",
   "id": "e2ebe665",
   "metadata": {},
   "source": [
    "summarize 사용하기\n",
    "Summa의 summarize()의 인자로 사용되는 값들에 대해서 알아볼게요.\n",
    "\n",
    "text (str) : 요약할 테스트.\n",
    "ratio (float, optional) – 요약문에서 원본에서 선택되는 문장 비율. 0~1 사이값\n",
    "words (int or None, optional) – 출력에 포함할 단어 수.\n",
    "만약, ratio와 함께 두 파라미터가 모두 제공되는 경우 ratio는 무시한다.\n",
    "split (bool, optional) – True면 문장 list / False는 조인(join)된 문자열을 반환\\\n",
    "\n",
    "Summa의 summarize는 문장 토큰화를 별도로 하지 않더라도 내부적으로 문장 토큰화를 수행해요. 그렇기 때문에 문장 구분이 되어있지 않은 원문을 바로 입력으로 넣을 수 있어요. 비율을 적게 주어서 요약문으로 선택되는 문장의 개수를 줄여볼게요. 원문의 0.5%만을 출력하도록 설정했어요."
   ]
  },
  {
   "cell_type": "code",
   "execution_count": 104,
   "id": "009b71db",
   "metadata": {},
   "outputs": [
    {
     "name": "stdout",
     "output_type": "stream",
     "text": [
      "Summary:\n",
      "Madhesi Morcha, an alliance of seven political parties, has withdrawn support to PM Pushpa Kamal Dahal-led Nepal government after it failed to meet a seven-day ultimatum to fulfil their demands including endorsement for the revised Constitution amendment bill.\n"
     ]
    }
   ],
   "source": [
    "print('Summary:')\n",
    "print(summarize(text, ratio=0.5))"
   ]
  },
  {
   "cell_type": "markdown",
   "id": "c23c8d8f",
   "metadata": {},
   "source": [
    "만약 리스트로 출력 결과를 받고 싶다면 split 인자의 값을 True로 하면 돼요."
   ]
  },
  {
   "cell_type": "code",
   "execution_count": 106,
   "id": "6affe584",
   "metadata": {},
   "outputs": [
    {
     "name": "stdout",
     "output_type": "stream",
     "text": [
      "Summary:\n",
      "['Madhesi Morcha, an alliance of seven political parties, has withdrawn support to PM Pushpa Kamal Dahal-led Nepal government after it failed to meet a seven-day ultimatum to fulfil their demands including endorsement for the revised Constitution amendment bill.']\n"
     ]
    }
   ],
   "source": [
    "print('Summary:')\n",
    "print(summarize(text, ratio=0.5, split=True))"
   ]
  },
  {
   "cell_type": "markdown",
   "id": "081e9564",
   "metadata": {},
   "source": [
    "단어의 수로 요약문의 크기를 조절할 수도 있어요. 단어를 50개만 선택하도록 해보세요."
   ]
  },
  {
   "cell_type": "code",
   "execution_count": 108,
   "id": "c0e7ec41",
   "metadata": {},
   "outputs": [
    {
     "name": "stdout",
     "output_type": "stream",
     "text": [
      "Summary:\n",
      "Madhesi Morcha, an alliance of seven political parties, has withdrawn support to PM Pushpa Kamal Dahal-led Nepal government after it failed to meet a seven-day ultimatum to fulfil their demands including endorsement for the revised Constitution amendment bill.\n"
     ]
    }
   ],
   "source": [
    "print('Summary:')\n",
    "print(summarize(text, words=30))"
   ]
  },
  {
   "attachments": {
    "image.png": {
     "image/png": "[encoded data removed]"
    }
   },
   "cell_type": "markdown",
   "id": "990ce6af",
   "metadata": {},
   "source": [
    "![image.png](attachment:image.png)"
   ]
  },
  {
   "cell_type": "markdown",
   "id": "3bac206a",
   "metadata": {},
   "source": [
    "### 회고\n",
    "K : 방법론의 전체적인 흐름과 코드에 익숙해지고, 숙지하려고 노력했다.\\\n",
    "P : CV때와 비교해봤을때 이해도가 현저히 떨어진다.\\\n",
    "T : 외부 자료를 통해 추가적인 학습을 진행한다."
   ]
  },
  {
   "cell_type": "code",
   "execution_count": null,
   "id": "ad7e0d10",
   "metadata": {},
   "outputs": [],
   "source": []
  }
 ],
 "metadata": {
  "kernelspec": {
   "display_name": "Python 3 (ipykernel)",
   "language": "python",
   "name": "python3"
  },
  "language_info": {
   "codemirror_mode": {
    "name": "ipython",
    "version": 3
   },
   "file_extension": ".py",
   "mimetype": "text/x-python",
   "name": "python",
   "nbconvert_exporter": "python",
   "pygments_lexer": "ipython3",
   "version": "3.9.7"
  }
 },
 "nbformat": 4,
 "nbformat_minor": 5
}
