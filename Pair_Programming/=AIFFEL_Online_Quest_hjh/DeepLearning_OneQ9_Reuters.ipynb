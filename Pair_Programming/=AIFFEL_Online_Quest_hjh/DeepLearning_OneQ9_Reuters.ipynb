{
  "nbformat": 4,
  "nbformat_minor": 0,
  "metadata": {
    "colab": {
      "provenance": [],
      "gpuType": "T4",
      "authorship_tag": "ABX9TyOz+04ckzlIpjCX8j3sB5Ab",
      "include_colab_link": true
    },
    "kernelspec": {
      "name": "python3",
      "display_name": "Python 3"
    },
    "language_info": {
      "name": "python"
    },
    "accelerator": "GPU"
  },
  "cells": [
    {
      "cell_type": "markdown",
      "metadata": {
        "id": "view-in-github",
        "colab_type": "text"
      },
      "source": [
        "<a href=\"https://colab.research.google.com/github/hjhan1201/AIFFEL_Online_Quest/blob/main/DeepLearning_OneQ9_Reuters.ipynb\" target=\"_parent\"><img src=\"https://colab.research.google.com/assets/colab-badge.svg\" alt=\"Open In Colab\"/></a>"
      ]
    },
    {
      "cell_type": "code",
      "execution_count": 3,
      "metadata": {
        "id": "QTe7J0TVH8nt"
      },
      "outputs": [],
      "source": [
        "import numpy as np\n",
        "import matplotlib.pyplot as plt\n",
        "from sklearn.model_selection import train_test_split\n",
        "\n",
        "from tensorflow.keras import models, layers\n",
        "from tensorflow.keras import callbacks\n",
        "from tensorflow.keras import utils\n",
        "from keras.datasets import reuters"
      ]
    },
    {
      "cell_type": "code",
      "source": [
        "# 문제 2-1: reuters 데이터셋을 로드하고, 훈련 데이터셋에서 25%를 검증 데이터셋으로 분리합니다.\n",
        "(train_data, train_labels), (test_data, test_labels) = reuters.load_data(num_words=10000)\n",
        "train_data, val_data, train_labels, val_labels = train_test_split(train_data, train_labels, test_size=0.25, random_state=42)\n",
        "\n",
        "# 훈련, 검증, 테스트 데이터와 레이블 종류가 몇 개인지 출력합니다.\n",
        "print(len(train_data))\n",
        "print(len(val_data))\n",
        "print(len(test_data))\n",
        "print(len(set(train_labels)))"
      ],
      "metadata": {
        "colab": {
          "base_uri": "https://localhost:8080/"
        },
        "id": "_DYtCQKCIW-1",
        "outputId": "85895f7e-b36b-4738-928d-1520cdc4a0f7"
      },
      "execution_count": 7,
      "outputs": [
        {
          "output_type": "stream",
          "name": "stdout",
          "text": [
            "6736\n",
            "2246\n",
            "2246\n",
            "46\n"
          ]
        }
      ]
    },
    {
      "cell_type": "code",
      "source": [
        "from tensorflow.keras.preprocessing.text import Tokenizer\n",
        "from tensorflow.keras.utils import to_categorical\n",
        "\n",
        "def one_hot_encoding(data, dim=10000):\n",
        "    tokenizer = Tokenizer(num_words=dim)\n",
        "    data_one_hot = tokenizer.sequences_to_matrix(data, mode='binary')\n",
        "    return data_one_hot\n",
        "\n",
        "# 텍스트 데이터의 원-핫 인코딩\n",
        "x_train = one_hot_encoding(train_data)\n",
        "x_val = one_hot_encoding(val_data)\n",
        "x_test = one_hot_encoding(test_data)\n",
        "\n",
        "# 레이블 데이터의 범주형 형태로 변환\n",
        "num_classes = max(train_labels) + 1\n",
        "y_train = to_categorical(train_labels, num_classes=num_classes)\n",
        "y_val = to_categorical(val_labels, num_classes=num_classes)\n",
        "y_test = to_categorical(test_labels, num_classes=num_classes)"
      ],
      "metadata": {
        "id": "Ew65ukakMGG6"
      },
      "execution_count": 9,
      "outputs": []
    },
    {
      "cell_type": "code",
      "source": [
        "# 문제 2-3: 빠른 학습과 과대적합을 방지하기 위해 BatchNormalization과 Dropout을 적용한 딥러닝 모델을 구성합니다.\n",
        "\n",
        "from tensorflow.keras.models import Sequential\n",
        "from tensorflow.keras.layers import Dense, BatchNormalization, Dropout\n",
        "\n",
        "model = Sequential()\n",
        "model.add(Dense(64, activation='relu', input_shape=(10000,)))\n",
        "model.add(BatchNormalization())\n",
        "model.add(Dropout(0.5))  # 50%의 Dropout 적용\n",
        "model.add(Dense(64, activation='relu'))\n",
        "model.add(BatchNormalization())\n",
        "model.add(Dropout(0.5))  # 50%의 Dropout 적용\n",
        "model.add(Dense(46, activation='softmax'))  # 클래스 수에 맞는 출력 레이어\n",
        "\n",
        "# 모델 컴파일\n",
        "model.compile(optimizer='adam', loss='categorical_crossentropy', metrics=['accuracy'])\n",
        "\n",
        "# 모델 요약\n",
        "model.summary()"
      ],
      "metadata": {
        "colab": {
          "base_uri": "https://localhost:8080/"
        },
        "id": "iyj5h4PjNDkj",
        "outputId": "3fa7f247-db90-4e32-b16a-ee4ce2e43bcf"
      },
      "execution_count": 20,
      "outputs": [
        {
          "output_type": "stream",
          "name": "stdout",
          "text": [
            "Model: \"sequential_2\"\n",
            "_________________________________________________________________\n",
            " Layer (type)                Output Shape              Param #   \n",
            "=================================================================\n",
            " dense_6 (Dense)             (None, 64)                640064    \n",
            "                                                                 \n",
            " batch_normalization_4 (Bat  (None, 64)                256       \n",
            " chNormalization)                                                \n",
            "                                                                 \n",
            " dropout_4 (Dropout)         (None, 64)                0         \n",
            "                                                                 \n",
            " dense_7 (Dense)             (None, 64)                4160      \n",
            "                                                                 \n",
            " batch_normalization_5 (Bat  (None, 64)                256       \n",
            " chNormalization)                                                \n",
            "                                                                 \n",
            " dropout_5 (Dropout)         (None, 64)                0         \n",
            "                                                                 \n",
            " dense_8 (Dense)             (None, 46)                2990      \n",
            "                                                                 \n",
            "=================================================================\n",
            "Total params: 647726 (2.47 MB)\n",
            "Trainable params: 647470 (2.47 MB)\n",
            "Non-trainable params: 256 (1.00 KB)\n",
            "_________________________________________________________________\n"
          ]
        }
      ]
    },
    {
      "cell_type": "code",
      "source": [
        "# 문제 2-4: ModelCheckpoint와 EarlyStopping 콜백 함수를 적용하여 모델 학습을 진행합니다.\n",
        "\n",
        "from tensorflow.keras.callbacks import ModelCheckpoint, EarlyStopping\n",
        "\n",
        "# ModelCheckpoint 콜백 함수: 검증 손실이 개선되면 모델을 저장\n",
        "checkpoint_callback = ModelCheckpoint(\n",
        "    'best_model.h5',\n",
        "    monitor='val_loss',\n",
        "    save_best_only=True,\n",
        "    mode='min',\n",
        "    verbose=1\n",
        ")\n",
        "\n",
        "# EarlyStopping 콜백 함수: 검증 손실이 더 이상 개선되지 않으면 학습 조기 종료\n",
        "early_stopping_callback = EarlyStopping(\n",
        "    monitor='val_loss',\n",
        "    patience=3,  # 3번의 epoch 동안 개선이 없으면 학습 조기 종료\n",
        "    restore_best_weights=True,\n",
        "    verbose=1\n",
        ")\n",
        "\n",
        "# 모델 훈련\n",
        "history = model.fit(\n",
        "    x_train, y_train,\n",
        "    epochs=30,\n",
        "    batch_size=512,\n",
        "    validation_data=(x_val, y_val),\n",
        "    callbacks=[checkpoint_callback, early_stopping_callback]\n",
        ")"
      ],
      "metadata": {
        "colab": {
          "base_uri": "https://localhost:8080/"
        },
        "id": "B7vNfd42PAuJ",
        "outputId": "1bf1cf75-942c-4f33-c20d-87a91946acef"
      },
      "execution_count": 21,
      "outputs": [
        {
          "output_type": "stream",
          "name": "stdout",
          "text": [
            "Epoch 1/30\n",
            "13/14 [==========================>...] - ETA: 0s - loss: 3.8277 - accuracy: 0.1681\n",
            "Epoch 1: val_loss improved from inf to 3.53754, saving model to best_model.h5\n",
            "14/14 [==============================] - 3s 80ms/step - loss: 3.8187 - accuracy: 0.1703 - val_loss: 3.5375 - val_accuracy: 0.5374\n",
            "Epoch 2/30\n",
            " 4/14 [=======>......................] - ETA: 0s - loss: 2.7366 - accuracy: 0.4048"
          ]
        },
        {
          "output_type": "stream",
          "name": "stderr",
          "text": [
            "/usr/local/lib/python3.10/dist-packages/keras/src/engine/training.py:3103: UserWarning: You are saving your model as an HDF5 file via `model.save()`. This file format is considered legacy. We recommend using instead the native Keras format, e.g. `model.save('my_model.keras')`.\n",
            "  saving_api.save_model(\n"
          ]
        },
        {
          "output_type": "stream",
          "name": "stdout",
          "text": [
            "13/14 [==========================>...] - ETA: 0s - loss: 2.4783 - accuracy: 0.4733\n",
            "Epoch 2: val_loss improved from 3.53754 to 3.14515, saving model to best_model.h5\n",
            "14/14 [==============================] - 1s 40ms/step - loss: 2.4762 - accuracy: 0.4731 - val_loss: 3.1451 - val_accuracy: 0.6523\n",
            "Epoch 3/30\n",
            "13/14 [==========================>...] - ETA: 0s - loss: 1.8973 - accuracy: 0.6161\n",
            "Epoch 3: val_loss improved from 3.14515 to 2.80035, saving model to best_model.h5\n",
            "14/14 [==============================] - 1s 46ms/step - loss: 1.8956 - accuracy: 0.6164 - val_loss: 2.8003 - val_accuracy: 0.6701\n",
            "Epoch 4/30\n",
            "14/14 [==============================] - ETA: 0s - loss: 1.5701 - accuracy: 0.6756\n",
            "Epoch 4: val_loss improved from 2.80035 to 2.51998, saving model to best_model.h5\n",
            "14/14 [==============================] - 1s 56ms/step - loss: 1.5701 - accuracy: 0.6756 - val_loss: 2.5200 - val_accuracy: 0.6857\n",
            "Epoch 5/30\n",
            "11/14 [======================>.......] - ETA: 0s - loss: 1.3755 - accuracy: 0.7115\n",
            "Epoch 5: val_loss improved from 2.51998 to 2.30369, saving model to best_model.h5\n",
            "14/14 [==============================] - 1s 40ms/step - loss: 1.3642 - accuracy: 0.7120 - val_loss: 2.3037 - val_accuracy: 0.6986\n",
            "Epoch 6/30\n",
            "12/14 [========================>.....] - ETA: 0s - loss: 1.2090 - accuracy: 0.7476\n",
            "Epoch 6: val_loss improved from 2.30369 to 2.13608, saving model to best_model.h5\n",
            "14/14 [==============================] - 0s 24ms/step - loss: 1.2159 - accuracy: 0.7442 - val_loss: 2.1361 - val_accuracy: 0.6972\n",
            "Epoch 7/30\n",
            "12/14 [========================>.....] - ETA: 0s - loss: 1.0791 - accuracy: 0.7699\n",
            "Epoch 7: val_loss improved from 2.13608 to 2.00000, saving model to best_model.h5\n",
            "14/14 [==============================] - 0s 26ms/step - loss: 1.0714 - accuracy: 0.7709 - val_loss: 2.0000 - val_accuracy: 0.7017\n",
            "Epoch 8/30\n",
            "13/14 [==========================>...] - ETA: 0s - loss: 1.0006 - accuracy: 0.7820\n",
            "Epoch 8: val_loss improved from 2.00000 to 1.87630, saving model to best_model.h5\n",
            "14/14 [==============================] - 0s 25ms/step - loss: 0.9969 - accuracy: 0.7828 - val_loss: 1.8763 - val_accuracy: 0.7102\n",
            "Epoch 9/30\n",
            "12/14 [========================>.....] - ETA: 0s - loss: 0.9045 - accuracy: 0.7926\n",
            "Epoch 9: val_loss improved from 1.87630 to 1.75474, saving model to best_model.h5\n",
            "14/14 [==============================] - 0s 25ms/step - loss: 0.9066 - accuracy: 0.7932 - val_loss: 1.7547 - val_accuracy: 0.7093\n",
            "Epoch 10/30\n",
            "13/14 [==========================>...] - ETA: 0s - loss: 0.8380 - accuracy: 0.8117\n",
            "Epoch 10: val_loss improved from 1.75474 to 1.65515, saving model to best_model.h5\n",
            "14/14 [==============================] - 0s 25ms/step - loss: 0.8376 - accuracy: 0.8118 - val_loss: 1.6551 - val_accuracy: 0.7110\n",
            "Epoch 11/30\n",
            "13/14 [==========================>...] - ETA: 0s - loss: 0.7866 - accuracy: 0.8247\n",
            "Epoch 11: val_loss improved from 1.65515 to 1.55089, saving model to best_model.h5\n",
            "14/14 [==============================] - 0s 25ms/step - loss: 0.7836 - accuracy: 0.8254 - val_loss: 1.5509 - val_accuracy: 0.7199\n",
            "Epoch 12/30\n",
            "12/14 [========================>.....] - ETA: 0s - loss: 0.7339 - accuracy: 0.8328\n",
            "Epoch 12: val_loss improved from 1.55089 to 1.46128, saving model to best_model.h5\n",
            "14/14 [==============================] - 0s 32ms/step - loss: 0.7345 - accuracy: 0.8327 - val_loss: 1.4613 - val_accuracy: 0.7284\n",
            "Epoch 13/30\n",
            "13/14 [==========================>...] - ETA: 0s - loss: 0.6728 - accuracy: 0.8410\n",
            "Epoch 13: val_loss improved from 1.46128 to 1.38316, saving model to best_model.h5\n",
            "14/14 [==============================] - 0s 24ms/step - loss: 0.6715 - accuracy: 0.8412 - val_loss: 1.3832 - val_accuracy: 0.7360\n",
            "Epoch 14/30\n",
            "13/14 [==========================>...] - ETA: 0s - loss: 0.6411 - accuracy: 0.8510\n",
            "Epoch 14: val_loss improved from 1.38316 to 1.31526, saving model to best_model.h5\n",
            "14/14 [==============================] - 0s 25ms/step - loss: 0.6435 - accuracy: 0.8502 - val_loss: 1.3153 - val_accuracy: 0.7449\n",
            "Epoch 15/30\n",
            "13/14 [==========================>...] - ETA: 0s - loss: 0.6205 - accuracy: 0.8562\n",
            "Epoch 15: val_loss improved from 1.31526 to 1.24340, saving model to best_model.h5\n",
            "14/14 [==============================] - 0s 25ms/step - loss: 0.6189 - accuracy: 0.8561 - val_loss: 1.2434 - val_accuracy: 0.7516\n",
            "Epoch 16/30\n",
            "13/14 [==========================>...] - ETA: 0s - loss: 0.5839 - accuracy: 0.8622\n",
            "Epoch 16: val_loss improved from 1.24340 to 1.17325, saving model to best_model.h5\n",
            "14/14 [==============================] - 0s 25ms/step - loss: 0.5829 - accuracy: 0.8621 - val_loss: 1.1732 - val_accuracy: 0.7658\n",
            "Epoch 17/30\n",
            "13/14 [==========================>...] - ETA: 0s - loss: 0.5417 - accuracy: 0.8729\n",
            "Epoch 17: val_loss improved from 1.17325 to 1.11920, saving model to best_model.h5\n",
            "14/14 [==============================] - 0s 25ms/step - loss: 0.5406 - accuracy: 0.8734 - val_loss: 1.1192 - val_accuracy: 0.7703\n",
            "Epoch 18/30\n",
            "13/14 [==========================>...] - ETA: 0s - loss: 0.5167 - accuracy: 0.8758\n",
            "Epoch 18: val_loss improved from 1.11920 to 1.08871, saving model to best_model.h5\n",
            "14/14 [==============================] - 0s 26ms/step - loss: 0.5157 - accuracy: 0.8757 - val_loss: 1.0887 - val_accuracy: 0.7698\n",
            "Epoch 19/30\n",
            "13/14 [==========================>...] - ETA: 0s - loss: 0.4963 - accuracy: 0.8795\n",
            "Epoch 19: val_loss improved from 1.08871 to 1.05331, saving model to best_model.h5\n",
            "14/14 [==============================] - 0s 25ms/step - loss: 0.4986 - accuracy: 0.8792 - val_loss: 1.0533 - val_accuracy: 0.7769\n",
            "Epoch 20/30\n",
            "12/14 [========================>.....] - ETA: 0s - loss: 0.4644 - accuracy: 0.8895\n",
            "Epoch 20: val_loss improved from 1.05331 to 1.02576, saving model to best_model.h5\n",
            "14/14 [==============================] - 0s 26ms/step - loss: 0.4694 - accuracy: 0.8885 - val_loss: 1.0258 - val_accuracy: 0.7854\n",
            "Epoch 21/30\n",
            "13/14 [==========================>...] - ETA: 0s - loss: 0.4561 - accuracy: 0.8936\n",
            "Epoch 21: val_loss improved from 1.02576 to 1.00556, saving model to best_model.h5\n",
            "14/14 [==============================] - 0s 25ms/step - loss: 0.4556 - accuracy: 0.8936 - val_loss: 1.0056 - val_accuracy: 0.7854\n",
            "Epoch 22/30\n",
            "13/14 [==========================>...] - ETA: 0s - loss: 0.4391 - accuracy: 0.8918\n",
            "Epoch 22: val_loss improved from 1.00556 to 0.99465, saving model to best_model.h5\n",
            "14/14 [==============================] - 0s 24ms/step - loss: 0.4406 - accuracy: 0.8913 - val_loss: 0.9947 - val_accuracy: 0.7872\n",
            "Epoch 23/30\n",
            "13/14 [==========================>...] - ETA: 0s - loss: 0.4212 - accuracy: 0.9011\n",
            "Epoch 23: val_loss improved from 0.99465 to 0.98614, saving model to best_model.h5\n",
            "14/14 [==============================] - 0s 24ms/step - loss: 0.4218 - accuracy: 0.9008 - val_loss: 0.9861 - val_accuracy: 0.7881\n",
            "Epoch 24/30\n",
            "13/14 [==========================>...] - ETA: 0s - loss: 0.4189 - accuracy: 0.8962\n",
            "Epoch 24: val_loss improved from 0.98614 to 0.98540, saving model to best_model.h5\n",
            "14/14 [==============================] - 0s 25ms/step - loss: 0.4191 - accuracy: 0.8961 - val_loss: 0.9854 - val_accuracy: 0.7930\n",
            "Epoch 25/30\n",
            "13/14 [==========================>...] - ETA: 0s - loss: 0.4224 - accuracy: 0.8995\n",
            "Epoch 25: val_loss improved from 0.98540 to 0.96732, saving model to best_model.h5\n",
            "14/14 [==============================] - 0s 26ms/step - loss: 0.4206 - accuracy: 0.8999 - val_loss: 0.9673 - val_accuracy: 0.7988\n",
            "Epoch 26/30\n",
            "13/14 [==========================>...] - ETA: 0s - loss: 0.3686 - accuracy: 0.9133\n",
            "Epoch 26: val_loss did not improve from 0.96732\n",
            "14/14 [==============================] - 0s 27ms/step - loss: 0.3689 - accuracy: 0.9130 - val_loss: 0.9682 - val_accuracy: 0.7992\n",
            "Epoch 27/30\n",
            "13/14 [==========================>...] - ETA: 0s - loss: 0.3634 - accuracy: 0.9180\n",
            "Epoch 27: val_loss did not improve from 0.96732\n",
            "14/14 [==============================] - 0s 22ms/step - loss: 0.3642 - accuracy: 0.9181 - val_loss: 0.9709 - val_accuracy: 0.8023\n",
            "Epoch 28/30\n",
            "12/14 [========================>.....] - ETA: 0s - loss: 0.3516 - accuracy: 0.9149\n",
            "Epoch 28: val_loss did not improve from 0.96732\n",
            "Restoring model weights from the end of the best epoch: 25.\n",
            "14/14 [==============================] - 0s 23ms/step - loss: 0.3532 - accuracy: 0.9154 - val_loss: 0.9819 - val_accuracy: 0.8028\n",
            "Epoch 28: early stopping\n"
          ]
        }
      ]
    },
    {
      "cell_type": "code",
      "source": [
        "# 학습 히스토리의 `loss`, `val_loss`, `accuracy`, `val_accuracy`를 차트로 시각화합니다.\n",
        "plt.style.use('seaborn-white')\n",
        "\n",
        "history_dict = history.history\n",
        "\n",
        "loss = history_dict['loss']\n",
        "val_loss = history_dict['val_loss']\n",
        "\n",
        "epochs = range(1, len(loss) + 1)\n",
        "fig = plt.figure(figsize=(12, 5))\n",
        "\n",
        "ax1 = fig.add_subplot(1, 2, 1)\n",
        "ax1.plot(epochs, loss, 'b-', label='train_loss')\n",
        "ax1.plot(epochs, val_loss, 'r-', label='val_loss')\n",
        "ax1.set_title('Train and Validation Loss')\n",
        "ax1.set_xlabel('Epochs')\n",
        "ax1.set_ylabel('Loss')\n",
        "ax1.grid()\n",
        "ax1.legend()\n",
        "\n",
        "accuracy = history_dict['accuracy']\n",
        "val_accuracy = history_dict['val_accuracy']\n",
        "\n",
        "ax2 = fig.add_subplot(1, 2, 2)\n",
        "ax2.plot(epochs, accuracy, 'b-', label='train_accuracy')\n",
        "ax2.plot(epochs, val_accuracy, 'r-', label='val_accuracy')\n",
        "ax2.set_title('Train and Validation Accuracy')\n",
        "ax2.set_xlabel('Epochs')\n",
        "ax2.set_ylabel('Accuracy')\n",
        "ax2.grid()\n",
        "ax2.legend()\n",
        "\n",
        "plt.show()"
      ],
      "metadata": {
        "colab": {
          "base_uri": "https://localhost:8080/",
          "height": 537
        },
        "id": "FFUWIrb1PJjf",
        "outputId": "8e5f2433-7576-4aba-a9fa-83e959a6711b"
      },
      "execution_count": 22,
      "outputs": [
        {
          "output_type": "stream",
          "name": "stderr",
          "text": [
            "<ipython-input-22-ef4da0309378>:2: MatplotlibDeprecationWarning: The seaborn styles shipped by Matplotlib are deprecated since 3.6, as they no longer correspond to the styles shipped by seaborn. However, they will remain available as 'seaborn-v0_8-<style>'. Alternatively, directly use the seaborn API instead.\n",
            "  plt.style.use('seaborn-white')\n"
          ]
        },
        {
          "output_type": "display_data",
          "data": {
            "text/plain": [
              "<Figure size 1200x500 with 2 Axes>"
            ],
            "image/png": "[encoded data removed]"
          },
          "metadata": {}
        }
      ]
    },
    {
      "cell_type": "code",
      "source": [
        "# 모델 평가\n",
        "test_loss, test_accuracy = model.evaluate(x_test, y_test)"
      ],
      "metadata": {
        "colab": {
          "base_uri": "https://localhost:8080/"
        },
        "id": "l8kI6fPNP4Hl",
        "outputId": "8326ab1c-5e92-4d7e-b164-1ea8f5a84885"
      },
      "execution_count": 23,
      "outputs": [
        {
          "output_type": "stream",
          "name": "stdout",
          "text": [
            "71/71 [==============================] - 0s 3ms/step - loss: 1.0705 - accuracy: 0.7778\n"
          ]
        }
      ]
    }
  ]
}