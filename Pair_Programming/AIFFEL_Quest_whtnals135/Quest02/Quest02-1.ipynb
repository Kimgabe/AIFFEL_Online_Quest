{
  "nbformat": 4,
  "nbformat_minor": 0,
  "metadata": {
    "colab": {
      "provenance": [],
      "include_colab_link": true
    },
    "kernelspec": {
      "name": "python3",
      "display_name": "Python 3"
    },
    "language_info": {
      "name": "python"
    }
  },
  "cells": [
    {
      "cell_type": "markdown",
      "metadata": {
        "id": "view-in-github",
        "colab_type": "text"
      },
      "source": [
        "<a href=\"https://colab.research.google.com/github/whtnals135/AIFFEL_Online_Quest/blob/main/Quest02/Quest02-1.ipynb\" target=\"_parent\"><img src=\"https://colab.research.google.com/assets/colab-badge.svg\" alt=\"Open In Colab\"/></a>"
      ]
    },
    {
      "cell_type": "code",
      "source": [
        "fish_list = [{\"이름\": \"Nemo\", \"speed\":3},{\"이름\": \"Dory\", \"speed\":5},{\"이름\": \"Sam\", \"speed\":10}]\n",
        "\n",
        "def show_fish_movement_comprehension(fish_list):\n",
        "    # 각 물고기가 얼마나 움직이는지를 출력\n",
        "    [print(f\"{fish['이름']} is swimming at {fish['speed']} m/s\") for fish in fish_list]\n",
        "\n",
        "def show_fish_movement_generator(fish_list):\n",
        "    # 각 물고기가 얼마나 움직이는지를 출력하는 제너레이터\n",
        "    def fish_movement(fish_list):\n",
        "        for fish in fish_list:\n",
        "            yield f\"{fish['이름']} is swimming at {fish['speed']} m/s\"\n",
        "\n",
        "    # 제너레이터를 사용하여 출력\n",
        "    for movement in fish_movement(fish_list):\n",
        "        print(movement)\n",
        "\n",
        "print(\"Using Comprehension:\")\n",
        "show_fish_movement_comprehension(fish_list)\n",
        "\n",
        "print(\"Using Generator:\")\n",
        "show_fish_movement_generator(fish_list)\n",
        "\n",
        "\n",
        "#회고\n",
        "#컴프리헨션,제너레이터의 개념을 이해했다고 생각했는데 막상 문제를 받아보니 어떻게 시작을 해야할지 감이 안잡혀서 답답했다.\n",
        "#상의하며 코드가 각자 어떠한 역할을 하는지 이야기를 나누고 이해를 하는 과정이 즐거웠다.\n",
        "#막상 또 다시 혼자 코드를 작성하려하면 난감할 것 같다. 좀 더 난이도가 낮은 문제를 많이 풀어보면 좋겠다는 생각이 들었다."
      ],
      "metadata": {
        "colab": {
          "base_uri": "https://localhost:8080/"
        },
        "id": "h5aJx67U4grt",
        "outputId": "aab49fee-6c41-4262-fafc-25ee94b2f801"
      },
      "execution_count": null,
      "outputs": [
        {
          "output_type": "stream",
          "name": "stdout",
          "text": [
            "Using Comprehension:\n",
            "Nemo is swimming at 3 m/s\n",
            "Dory is swimming at 5 m/s\n",
            "Sam is swimming at 10 m/s\n",
            "Using Generator:\n",
            "Nemo is swimming at 3 m/s\n",
            "Dory is swimming at 5 m/s\n",
            "Sam is swimming at 10 m/s\n"
          ]
        }
      ]
    }
  ]
}