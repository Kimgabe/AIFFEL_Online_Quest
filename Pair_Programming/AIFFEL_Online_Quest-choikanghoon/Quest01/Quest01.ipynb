{
  "nbformat": 4,
  "nbformat_minor": 0,
  "metadata": {
    "colab": {
      "provenance": [],
      "include_colab_link": true
    },
    "kernelspec": {
      "name": "python3",
      "display_name": "Python 3"
    },
    "language_info": {
      "name": "python"
    }
  },
  "cells": [
    {
      "cell_type": "markdown",
      "metadata": {
        "id": "view-in-github",
        "colab_type": "text"
      },
      "source": [
        "<a href=\"https://colab.research.google.com/github/choikanghoon/Aiffel_study/blob/master/Quest01/Quest01.ipynb\" target=\"_parent\"><img src=\"https://colab.research.google.com/assets/colab-badge.svg\" alt=\"Open In Colab\"/></a>"
      ]
    },
    {
      "cell_type": "code",
      "execution_count": 7,
      "metadata": {
        "colab": {
          "base_uri": "https://localhost:8080/"
        },
        "id": "7Sw5s-ljW33X",
        "outputId": "b3fdb841-24c1-43d6-936f-bfa278c001b4"
      },
      "outputs": [
        {
          "output_type": "stream",
          "name": "stdout",
          "text": [
            "입력값 : 아아아아아아아아아\n",
            "뒤집힌 단어는 : 아아아아아아아아아\n",
            "입력된 단어 아아아아아아아아아는 회문입니다.\n"
          ]
        }
      ],
      "source": [
        "def reverse(text):\n",
        "  reverse_text = text[::-1]\n",
        "  print(\"뒤집힌 단어는 :\",reverse_text)\n",
        "\n",
        "  if text == reverse_text:\n",
        "    return True\n",
        "  else:\n",
        "    return False\n",
        "\n",
        "input_text = input('입력값 : ')\n",
        "result = reverse(input_text)\n",
        "if result == True:\n",
        "    print(f\"입력된 단어 {input_text}는 회문입니다.\")\n",
        "else:\n",
        "    print(f\"입력된 단어 {input_text}는 회문이 아닙니다.\")"
      ]
    },
    {
      "cell_type": "code",
      "source": [
        "def reverse(text):\n",
        "  reverse_text = text[::-1] # [::-1]은 거꾸로 간격을 1로하는 슬라이싱\n",
        "  print(\"뒤집힌 단어는 :\",reverse_text)\n",
        "\n",
        "  if text == reverse_text: # 내가 적은 text와 거꾸로 출력된 text의 인덱스와 문자열이 같을 경우\n",
        "    print(f\"입력된 단어 {input_text}는 회문입니다.\")\n",
        "  else: # 반대되는 경우\n",
        "    print(f\"입력된 단어 {input_text}는 회문이 아닙니다.\")\n",
        "\n",
        "input_text = input('입력값 : ') # 내가 입력하는 단어, 문장\n",
        "result = reverse(input_text) # 사용자 지정함수 만든것을 활용?\n",
        "# 조건문을 굳이 2번을 써서 출력하지 않아도 된다는 생각에 함수 조건문에 바로 print()을 적용 해봤다.\n",
        "# 그 결과 동일한 출력을 얻어낼 수 있었다.\n",
        "\n",
        "# if result == True:\n",
        "#     print(f\"입력된 단어 {input_text}는 회문입니다.\")\n",
        "# else:\n",
        "#     print(f\"입력된 단어 {input_text}는 회문이 아닙니다.\")\n",
        "\n",
        "# 회고\n",
        "# 첫 테스트라서 너무 긴장 되었고, 사용자 지정함수까지 만드는데 성공 하였으나, 그 이후 막혔던 부분을\n",
        "# 선재님께서 잘 해결해주셔서 빠르게 끝낼수 있었습니다.\n",
        "# 남에게 코드작성을 설명하는 부분이 매우 어렵다고 느꼈던 점이 Error가 뜨면 정신적인 데미지가 상당해서 그 이후 생각이 안난다는 것 같습니다.\n",
        "# Keep : 조건을 읽고, 우선순위를 정했다.\n",
        "# Poblem : 우선순위를 정했지만 두서 없었다. (설명 부족)\n",
        "# Try : 선재님과 완성된 코드에 대해 설명을 달며 이야기를 나눴다."
      ],
      "metadata": {
        "colab": {
          "base_uri": "https://localhost:8080/"
        },
        "id": "Nd-CK9mGb3kY",
        "outputId": "f40c3f9e-2bee-416c-a9c7-f4803f449e6b"
      },
      "execution_count": 8,
      "outputs": [
        {
          "output_type": "stream",
          "name": "stdout",
          "text": [
            "입력값 : 우영우\n",
            "뒤집힌 단어는 : 우영우\n",
            "입력된 단어 우영우는 회문입니다.\n"
          ]
        }
      ]
    },
    {
      "cell_type": "code",
      "source": [],
      "metadata": {
        "id": "GF7Oc65gfWbx"
      },
      "execution_count": null,
      "outputs": []
    }
  ]
}