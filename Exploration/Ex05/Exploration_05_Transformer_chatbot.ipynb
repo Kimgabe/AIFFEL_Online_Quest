{
 "cells": [
  {
   "cell_type": "markdown",
   "id": "6f12abe8",
   "metadata": {},
   "source": [
    "# [Exploration] 🤖 한국어 데이터로 챗봇 만들기\n",
    "\n",
    "---\n",
    "\n",
    "<br>  \n",
    "\n",
    "영어로 만들었던 챗봇을 한국어 데이터로 바꿔서 훈련시켜보자.  \n",
    "\n",
    "<br>  \n",
    "<br>  \n",
    "<br>  \n",
    "<br>  \n",
    "<br>  \n",
    "<br>  "
   ]
  },
  {
   "cell_type": "markdown",
   "id": "5e3cf258",
   "metadata": {},
   "source": [
    "## 🔶Step 1. 데이터 수집하기\n",
    "\n",
    "---  \n",
    "\n",
    "한국어 챗봇 데이터는 송영숙님이 공개한 챗봇 데이터를 사용"
   ]
  },
  {
   "cell_type": "code",
   "execution_count": 103,
   "id": "d072e45d",
   "metadata": {},
   "outputs": [],
   "source": [
    "$ mkdir -p ~/aiffel/transformer_chatbot/data/\n",
    "$ ln -s ~/data/* ~/aiffel/transformer_chatbot/data/"
   ]
  },
  {
   "cell_type": "markdown",
   "id": "2cd14e33",
   "metadata": {},
   "source": [
    "<br>  \n",
    "<br>  \n",
    "\n",
    "## 🔶Step 2. 데이터 전처리하기\n",
    "\n",
    "---  \n"
   ]
  },
  {
   "cell_type": "code",
   "execution_count": 25,
   "id": "1d010a0d",
   "metadata": {},
   "outputs": [
    {
     "name": "stdout",
     "output_type": "stream",
     "text": [
      "2.6.0\n"
     ]
    }
   ],
   "source": [
    "# 라이브러리 확인하기\n",
    "\n",
    "import tensorflow as tf\n",
    "import tensorflow_datasets as tfds\n",
    "import os\n",
    "import re\n",
    "import numpy as np\n",
    "import matplotlib.pyplot as plt\n",
    "import pandas as pd\n",
    "print(tf.__version__)"
   ]
  },
  {
   "cell_type": "code",
   "execution_count": 26,
   "id": "22fbc310",
   "metadata": {},
   "outputs": [],
   "source": [
    "path_to_chatbot_data = ('/aiffel/aiffel/transformer_chatbot/data/ChatbotData .csv')\n",
    "train_data = pd.read_csv(path_to_chatbot_data)"
   ]
  },
  {
   "cell_type": "code",
   "execution_count": 27,
   "id": "d945e344",
   "metadata": {},
   "outputs": [
    {
     "name": "stdout",
     "output_type": "stream",
     "text": [
      "11823\n"
     ]
    }
   ],
   "source": [
    "# Chatbot 샘플의 개수 확인\n",
    "print(len(train_data))"
   ]
  },
  {
   "cell_type": "code",
   "execution_count": 101,
   "id": "f7314640",
   "metadata": {},
   "outputs": [
    {
     "data": {
      "text/html": [
       "<div>\n",
       "<style scoped>\n",
       "    .dataframe tbody tr th:only-of-type {\n",
       "        vertical-align: middle;\n",
       "    }\n",
       "\n",
       "    .dataframe tbody tr th {\n",
       "        vertical-align: top;\n",
       "    }\n",
       "\n",
       "    .dataframe thead th {\n",
       "        text-align: right;\n",
       "    }\n",
       "</style>\n",
       "<table border=\"1\" class=\"dataframe\">\n",
       "  <thead>\n",
       "    <tr style=\"text-align: right;\">\n",
       "      <th></th>\n",
       "      <th>Q</th>\n",
       "      <th>A</th>\n",
       "      <th>label</th>\n",
       "    </tr>\n",
       "  </thead>\n",
       "  <tbody>\n",
       "    <tr>\n",
       "      <th>0</th>\n",
       "      <td>12시 땡!</td>\n",
       "      <td>하루가 또 가네요.</td>\n",
       "      <td>0</td>\n",
       "    </tr>\n",
       "    <tr>\n",
       "      <th>1</th>\n",
       "      <td>1지망 학교 떨어졌어</td>\n",
       "      <td>위로해 드립니다.</td>\n",
       "      <td>0</td>\n",
       "    </tr>\n",
       "    <tr>\n",
       "      <th>2</th>\n",
       "      <td>3박4일 놀러가고 싶다</td>\n",
       "      <td>여행은 언제나 좋죠.</td>\n",
       "      <td>0</td>\n",
       "    </tr>\n",
       "    <tr>\n",
       "      <th>3</th>\n",
       "      <td>3박4일 정도 놀러가고 싶다</td>\n",
       "      <td>여행은 언제나 좋죠.</td>\n",
       "      <td>0</td>\n",
       "    </tr>\n",
       "    <tr>\n",
       "      <th>4</th>\n",
       "      <td>PPL 심하네</td>\n",
       "      <td>눈살이 찌푸려지죠.</td>\n",
       "      <td>0</td>\n",
       "    </tr>\n",
       "  </tbody>\n",
       "</table>\n",
       "</div>"
      ],
      "text/plain": [
       "                 Q            A  label\n",
       "0           12시 땡!   하루가 또 가네요.      0\n",
       "1      1지망 학교 떨어졌어    위로해 드립니다.      0\n",
       "2     3박4일 놀러가고 싶다  여행은 언제나 좋죠.      0\n",
       "3  3박4일 정도 놀러가고 싶다  여행은 언제나 좋죠.      0\n",
       "4          PPL 심하네   눈살이 찌푸려지죠.      0"
      ]
     },
     "execution_count": 101,
     "metadata": {},
     "output_type": "execute_result"
    }
   ],
   "source": [
    "train_data.head()"
   ]
  },
  {
   "cell_type": "code",
   "execution_count": 29,
   "id": "fceffd73",
   "metadata": {},
   "outputs": [],
   "source": [
    "questions = []\n",
    "for sentence in train_data['Q']:\n",
    "    # 구두점에 대해서 띄어쓰기\n",
    "    # ex) 12시 땡! -> 12시 땡 !\n",
    "    sentence = re.sub(r\"([?.!,])\", r\" \\1 \", sentence)\n",
    "    sentence = sentence.strip()\n",
    "    questions.append(sentence)"
   ]
  },
  {
   "cell_type": "code",
   "execution_count": 30,
   "id": "31f0782a",
   "metadata": {},
   "outputs": [],
   "source": [
    "answers = []\n",
    "for sentence in train_data['A']:\n",
    "    # 구두점에 대해서 띄어쓰기\n",
    "    # ex) 12시 땡! -> 12시 땡 !\n",
    "    sentence = re.sub(r\"([?.!,])\", r\" \\1 \", sentence)\n",
    "    sentence = sentence.strip()\n",
    "    answers.append(sentence)"
   ]
  },
  {
   "cell_type": "markdown",
   "id": "46b2c13a",
   "metadata": {},
   "source": [
    "- `([?.!,])`: 괄호 안의 문자들(?, ., !, ,)은 이것을 하위 그룹으로 묶는다. 이는 매칭된 구두점을 나중에 참조하기 위한 것이다.\n",
    "- `r\" \\1 \"`: 이 부분은 찾은 구두점을 가리킨다. `\\1` 은 첫 번째 하위 그룹을 의미하며, 찾은 구두점을 나타낸다. 여기에는 앞뒤로 공백을 추가하여 구두점 주변에 공백을 만드는 역할을 한다.\n",
    "- `re.sub(r\"([?.!,])\", r\" \\1 \", sentence)`: 이 부분은 주어진 문장에서 정규 표현식 `([?.!,])`에 매치되는 부분(즉, 구두점)을 찾아서 해당 부분 앞뒤에 공백을 추가한다.   \n",
    "\n",
    "**이를 통해 구두점 주변에 공백을 추가하여 문장을 좀 더 토큰화하기 쉽게 만들 수 있다.**  \n",
    "\n",
    "<br>  \n",
    "<br>  "
   ]
  },
  {
   "cell_type": "code",
   "execution_count": 31,
   "id": "f1a94427",
   "metadata": {},
   "outputs": [
    {
     "name": "stdout",
     "output_type": "stream",
     "text": [
      "['12시 땡 !', '1지망 학교 떨어졌어', '3박4일 놀러가고 싶다']\n",
      "['하루가 또 가네요 .', '위로해 드립니다 .', '여행은 언제나 좋죠 .']\n"
     ]
    }
   ],
   "source": [
    "# 띄어쓰기를 통해 분리되었는지 확인\n",
    "print(questions[:3])\n",
    "print(answers[:3])"
   ]
  },
  {
   "cell_type": "markdown",
   "id": "9634a66d",
   "metadata": {},
   "source": [
    "<br>  \n",
    "\n",
    "##  🔶Step 3. SubwordTextEncoder 사용하기\n",
    "\n",
    "---  \n",
    "\n",
    "한국어 데이터는 형태소 분석기를 사용하여 토크나이징을 해야 한다고 많은 분이 알고 있다. 하지만 여기서는 형태소 분석기가 아닌 내부 단어 토크나이저인 `SubwordTextEncoder`를 그대로 사용하겠다.  "
   ]
  },
  {
   "cell_type": "code",
   "execution_count": 32,
   "id": "a6cfa9eb",
   "metadata": {},
   "outputs": [],
   "source": [
    "#서브워드텍스트인코더를 사용하여 질문, 답변 데이터로부터 단어 집합(Vocabulary) 생성\n",
    "tokenizer=tfds.deprecated.text.SubwordTextEncoder.build_from_corpus(questions+answers,target_vocab_size=2**13)"
   ]
  },
  {
   "cell_type": "code",
   "execution_count": 33,
   "id": "b257357f",
   "metadata": {},
   "outputs": [
    {
     "name": "stdout",
     "output_type": "stream",
     "text": [
      "시작 토큰 번호:  [8178]\n",
      "종료 토큰 번호:  [8179]\n",
      "단어 집합의 크기:  8180\n"
     ]
    }
   ],
   "source": [
    "#시작 토큰과 종료 토큰에 대한 정수 부여.\n",
    "START_TOKEN,END_TOKEN=[tokenizer.vocab_size],[tokenizer.vocab_size+1]\n",
    "\n",
    "#시작 토큰과 종료 토큰을 고려햐여 단어 집합의 크기를 +2\n",
    "VOCAB_SIZE=tokenizer.vocab_size+2\n",
    "\n",
    "print('시작 토큰 번호: ',START_TOKEN)\n",
    "print('종료 토큰 번호: ',END_TOKEN)\n",
    "print('단어 집합의 크기: ',VOCAB_SIZE)"
   ]
  },
  {
   "cell_type": "code",
   "execution_count": 34,
   "id": "47d8e99a",
   "metadata": {},
   "outputs": [
    {
     "name": "stdout",
     "output_type": "stream",
     "text": [
      "임의의 질문 샘플을 정수 인코딩 : [5766, 611, 3509, 141, 685, 3747, 849]\n"
     ]
    }
   ],
   "source": [
    "# .encode()를 사용하여 텍스트 시퀀스를 정수 시퀀스로 변환.\n",
    "print('임의의 질문 샘플을 정수 인코딩 : {}'.format(tokenizer.encode(questions[20])))"
   ]
  },
  {
   "cell_type": "code",
   "execution_count": 37,
   "id": "f3e4e9fd",
   "metadata": {},
   "outputs": [],
   "source": [
    "# 최대 길이를 40으로 정의\n",
    "MAX_LENGTH=40\n",
    "\n",
    "# 정수 인코딩, 최대 길이를 초과하는 샘플 제거, 패딩\n",
    "def tokenize_and_filter(inputs,outputs):\n",
    "    tokenized_inputs,tokenized_outputs=[],[]\n",
    "    \n",
    "    for (sentence1,sentence2) in zip(inputs,outputs):\n",
    "        # 정수 인코딩 과정에서 시작 토큰과 종료 토큰을 추가\n",
    "        sentence1=START_TOKEN+tokenizer.encode(sentence1)+END_TOKEN\n",
    "        sentence2=START_TOKEN+tokenizer.encode(sentence2)+END_TOKEN\n",
    "        \n",
    "        tokenized_inputs.append(sentence1)\n",
    "        tokenized_outputs.append(sentence2)\n",
    "        \n",
    "    # 최대 길이 40으로 모든 데이터셋을 패딩\n",
    "    tokenized_inputs=tf.keras.preprocessing.sequence.pad_sequences(tokenized_inputs,maxlen=MAX_LENGTH,padding='post')\n",
    "    tokenized_outputs=tf.keras.preprocessing.sequence.pad_sequences(tokenized_outputs,maxlen=MAX_LENGTH,padding='post')\n",
    "\n",
    "    return tokenized_inputs,tokenized_outputs"
   ]
  },
  {
   "cell_type": "code",
   "execution_count": 38,
   "id": "240d22ce",
   "metadata": {},
   "outputs": [],
   "source": [
    "questions,answers=tokenize_and_filter(questions,answers)"
   ]
  },
  {
   "cell_type": "code",
   "execution_count": 39,
   "id": "11f63e2d",
   "metadata": {},
   "outputs": [
    {
     "name": "stdout",
     "output_type": "stream",
     "text": [
      "질문 데이터의 크기(shape):  (11823, 40)\n",
      "답변 데이터의 크기(shape):  (11823, 40)\n"
     ]
    }
   ],
   "source": [
    "print('질문 데이터의 크기(shape): ',questions.shape)\n",
    "print('답변 데이터의 크기(shape): ',answers.shape)"
   ]
  },
  {
   "cell_type": "markdown",
   "id": "0fcda05f",
   "metadata": {},
   "source": [
    "<br>  \n",
    "\n",
    "질문과 답변의 쌍을 **tf.data.Dataset API**의 입력으로 사용하여 파이프라인을 구성합니다. 이때, 교사 강요를 위해서 `answers[:, :-1]`를 디코더의 입력값, `answers[:, 1:]`를 디코더의 레이블로 사용합니다. \n",
    "\n",
    "<br>  "
   ]
  },
  {
   "cell_type": "code",
   "execution_count": 41,
   "id": "1bf5c8da",
   "metadata": {},
   "outputs": [],
   "source": [
    "# 텐서플로우 dataset을 이용하여 셔플(shuffle)을 수행하되, 배치 크기로 데이터를 묶는다.\n",
    "# 또한 이 과정에서 교사 강요(teacher forcing)을 사용하기 위해서 디코더의 입력과 실제 값 시퀀스를 구성한다.\n",
    "BATCH_SIZE=64\n",
    "BUFFER_SIZE=20000\n",
    "\n",
    "# 디코더는 이전의 target을 다음의 input으로 사용\n",
    "# 이에 따라 outputs에서는 START_TOKEN을 제거\n",
    "dataset=tf.data.Dataset.from_tensor_slices((\n",
    "    {\n",
    "        'inputs':questions,\n",
    "        'dec_inputs':answers[:,:-1] #디코더의 입력. 마지막 패딩 토큰이 제거\n",
    "    },\n",
    "    {\n",
    "      'outputs':answers[:,1:]  \n",
    "    },\n",
    "))\n",
    "\n",
    "dataset=dataset.cache()\n",
    "dataset=dataset.shuffle(BUFFER_SIZE)\n",
    "dataset=dataset.batch(BATCH_SIZE)\n",
    "dataset=dataset.prefetch(tf.data.experimental.AUTOTUNE)"
   ]
  },
  {
   "cell_type": "markdown",
   "id": "b40b2744",
   "metadata": {},
   "source": [
    "<br>  \n",
    "<br>  \n",
    "<br>  \n",
    "\n",
    "\n",
    "\n",
    "## 🔶Step 4. 모델 구성하기\n",
    "\n",
    "--- \n",
    "트랜스포머 모델을 구현해보자!"
   ]
  },
  {
   "cell_type": "code",
   "execution_count": 55,
   "id": "07264399",
   "metadata": {},
   "outputs": [],
   "source": [
    "# 패딩마스크 구현\n",
    "def create_padding_mask(x):\n",
    "  mask = tf.cast(tf.math.equal(x, 0), tf.float32)\n",
    "  # (batch_size, 1, 1, sequence length)\n",
    "  return mask[:, tf.newaxis, tf.newaxis, :]"
   ]
  },
  {
   "cell_type": "code",
   "execution_count": 56,
   "id": "73e1025d",
   "metadata": {},
   "outputs": [],
   "source": [
    "# 룩어헤드 마스크\n",
    "def create_look_ahead_mask(x):\n",
    "  seq_len = tf.shape(x)[1]\n",
    "  look_ahead_mask = 1 - tf.linalg.band_part(tf.ones((seq_len, seq_len)), -1, 0)\n",
    "  padding_mask = create_padding_mask(x)\n",
    "  return tf.maximum(look_ahead_mask, padding_mask)"
   ]
  },
  {
   "cell_type": "code",
   "execution_count": 59,
   "id": "b978b224",
   "metadata": {},
   "outputs": [],
   "source": [
    "def encoder_layer(units, d_model, num_heads, dropout, name=\"encoder_layer\"):\n",
    "  inputs = tf.keras.Input(shape=(None, d_model), name=\"inputs\")\n",
    "\n",
    "  # 패딩 마스크 사용\n",
    "  padding_mask = tf.keras.Input(shape=(1, 1, None), name=\"padding_mask\")\n",
    "\n",
    "  # 첫 번째 서브 레이어 : 멀티 헤드 어텐션 수행 (셀프 어텐션)\n",
    "  attention = MultiHeadAttention(\n",
    "      d_model, num_heads, name=\"attention\")({\n",
    "          'query': inputs,\n",
    "          'key': inputs,\n",
    "          'value': inputs,\n",
    "          'mask': padding_mask\n",
    "      })\n",
    "\n",
    "  # 어텐션의 결과는 Dropout과 Layer Normalization이라는 훈련을 돕는 테크닉을 수행\n",
    "  attention = tf.keras.layers.Dropout(rate=dropout)(attention)\n",
    "  attention = tf.keras.layers.LayerNormalization(\n",
    "      epsilon=1e-6)(inputs + attention)\n",
    "\n",
    "  # 두 번째 서브 레이어 : 2개의 완전연결층\n",
    "  outputs = tf.keras.layers.Dense(units=units, activation='relu')(attention)\n",
    "  outputs = tf.keras.layers.Dense(units=d_model)(outputs)\n",
    "\n",
    "  # 완전연결층의 결과는 Dropout과 LayerNormalization이라는 훈련을 돕는 테크닉을 수행\n",
    "  outputs = tf.keras.layers.Dropout(rate=dropout)(outputs)\n",
    "  outputs = tf.keras.layers.LayerNormalization(\n",
    "      epsilon=1e-6)(attention + outputs)\n",
    "\n",
    "  return tf.keras.Model(\n",
    "      inputs=[inputs, padding_mask], outputs=outputs, name=name)"
   ]
  },
  {
   "cell_type": "code",
   "execution_count": 60,
   "id": "95370edb",
   "metadata": {},
   "outputs": [],
   "source": [
    "# 인코더 층을 쌓아 인코더 만들기\n",
    "def encoder(vocab_size,\n",
    "            num_layers,\n",
    "            units,\n",
    "            d_model,\n",
    "            num_heads,\n",
    "            dropout,\n",
    "            name=\"encoder\"):\n",
    "  inputs = tf.keras.Input(shape=(None,), name=\"inputs\")\n",
    "\n",
    "  # 패딩 마스크 사용\n",
    "  padding_mask = tf.keras.Input(shape=(1, 1, None), name=\"padding_mask\")\n",
    "\n",
    "  # 임베딩 레이어\n",
    "  embeddings = tf.keras.layers.Embedding(vocab_size, d_model)(inputs)\n",
    "  embeddings *= tf.math.sqrt(tf.cast(d_model, tf.float32))\n",
    "\n",
    "  # 포지셔널 인코딩\n",
    "  embeddings = PositionalEncoding(vocab_size, d_model)(embeddings)\n",
    "\n",
    "  outputs = tf.keras.layers.Dropout(rate=dropout)(embeddings)\n",
    "\n",
    "  # num_layers만큼 쌓아올린 인코더의 층.\n",
    "  for i in range(num_layers):\n",
    "    outputs = encoder_layer(\n",
    "        units=units,\n",
    "        d_model=d_model,\n",
    "        num_heads=num_heads,\n",
    "        dropout=dropout,\n",
    "        name=\"encoder_layer_{}\".format(i),\n",
    "    )([outputs, padding_mask])\n",
    "\n",
    "  return tf.keras.Model(\n",
    "      inputs=[inputs, padding_mask], outputs=outputs, name=name)"
   ]
  },
  {
   "cell_type": "code",
   "execution_count": 61,
   "id": "e3f0f8fa",
   "metadata": {},
   "outputs": [],
   "source": [
    "# 디코더 층\n",
    "# 디코더 하나의 레이어를 함수로 구현.\n",
    "# 이 하나의 레이어 안에는 세 개의 서브 레이어가 존재한다.\n",
    "def decoder_layer(units, d_model, num_heads, dropout, name=\"decoder_layer\"):\n",
    "  inputs = tf.keras.Input(shape=(None, d_model), name=\"inputs\")\n",
    "  enc_outputs = tf.keras.Input(shape=(None, d_model), name=\"encoder_outputs\")\n",
    "  look_ahead_mask = tf.keras.Input(\n",
    "      shape=(1, None, None), name=\"look_ahead_mask\")\n",
    "  padding_mask = tf.keras.Input(shape=(1, 1, None), name='padding_mask')\n",
    "\n",
    "  # 첫 번째 서브 레이어 : 멀티 헤드 어텐션 수행 (셀프 어텐션)\n",
    "  attention1 = MultiHeadAttention(\n",
    "      d_model, num_heads, name=\"attention_1\")(inputs={\n",
    "          'query': inputs,\n",
    "          'key': inputs,\n",
    "          'value': inputs,\n",
    "          'mask': look_ahead_mask\n",
    "      })\n",
    "\n",
    "  # 멀티 헤드 어텐션의 결과는 LayerNormalization이라는 훈련을 돕는 테크닉을 수행\n",
    "  attention1 = tf.keras.layers.LayerNormalization(\n",
    "      epsilon=1e-6)(attention1 + inputs)\n",
    "\n",
    "  # 두 번째 서브 레이어 : 마스크드 멀티 헤드 어텐션 수행 (인코더-디코더 어텐션)\n",
    "  attention2 = MultiHeadAttention(\n",
    "      d_model, num_heads, name=\"attention_2\")(inputs={\n",
    "          'query': attention1,\n",
    "          'key': enc_outputs,\n",
    "          'value': enc_outputs,\n",
    "          'mask': padding_mask\n",
    "      })\n",
    "\n",
    "  # 마스크드 멀티 헤드 어텐션의 결과는\n",
    "  # Dropout과 LayerNormalization이라는 훈련을 돕는 테크닉을 수행\n",
    "  attention2 = tf.keras.layers.Dropout(rate=dropout)(attention2)\n",
    "  attention2 = tf.keras.layers.LayerNormalization(\n",
    "      epsilon=1e-6)(attention2 + attention1)\n",
    "\n",
    "  # 세 번째 서브 레이어 : 2개의 완전연결층\n",
    "  outputs = tf.keras.layers.Dense(units=units, activation='relu')(attention2)\n",
    "  outputs = tf.keras.layers.Dense(units=d_model)(outputs)\n",
    "\n",
    "  # 완전연결층의 결과는 Dropout과 LayerNormalization 수행\n",
    "  outputs = tf.keras.layers.Dropout(rate=dropout)(outputs)\n",
    "  outputs = tf.keras.layers.LayerNormalization(\n",
    "      epsilon=1e-6)(outputs + attention2)\n",
    "\n",
    "  return tf.keras.Model(\n",
    "      inputs=[inputs, enc_outputs, look_ahead_mask, padding_mask],\n",
    "      outputs=outputs,\n",
    "      name=name)"
   ]
  },
  {
   "cell_type": "code",
   "execution_count": 62,
   "id": "c85ebeda",
   "metadata": {},
   "outputs": [],
   "source": [
    "# 디코더 층을 쌓아 디코더 만들기\n",
    "def decoder(vocab_size,\n",
    "            num_layers,\n",
    "            units,\n",
    "            d_model,\n",
    "            num_heads,\n",
    "            dropout,\n",
    "            name='decoder'):\n",
    "  inputs = tf.keras.Input(shape=(None,), name='inputs')\n",
    "  enc_outputs = tf.keras.Input(shape=(None, d_model), name='encoder_outputs')\n",
    "  look_ahead_mask = tf.keras.Input(\n",
    "      shape=(1, None, None), name='look_ahead_mask')\n",
    "\n",
    "  # 패딩 마스크\n",
    "  padding_mask = tf.keras.Input(shape=(1, 1, None), name='padding_mask')\n",
    "  \n",
    "  # 임베딩 레이어\n",
    "  embeddings = tf.keras.layers.Embedding(vocab_size, d_model)(inputs)\n",
    "  embeddings *= tf.math.sqrt(tf.cast(d_model, tf.float32))\n",
    "\n",
    "  # 포지셔널 인코딩\n",
    "  embeddings = PositionalEncoding(vocab_size, d_model)(embeddings)\n",
    "\n",
    "  # Dropout이라는 훈련을 돕는 테크닉을 수행\n",
    "  outputs = tf.keras.layers.Dropout(rate=dropout)(embeddings)\n",
    "\n",
    "  for i in range(num_layers):\n",
    "    outputs = decoder_layer(\n",
    "        units=units,\n",
    "        d_model=d_model,\n",
    "        num_heads=num_heads,\n",
    "        dropout=dropout,\n",
    "        name='decoder_layer_{}'.format(i),\n",
    "    )(inputs=[outputs, enc_outputs, look_ahead_mask, padding_mask])\n",
    "\n",
    "  return tf.keras.Model(\n",
    "      inputs=[inputs, enc_outputs, look_ahead_mask, padding_mask],\n",
    "      outputs=outputs,\n",
    "      name=name)"
   ]
  },
  {
   "cell_type": "code",
   "execution_count": 65,
   "id": "86164afc",
   "metadata": {},
   "outputs": [],
   "source": [
    "# 포지셔널 인코딩 레이어\n",
    "class PositionalEncoding(tf.keras.layers.Layer):\n",
    "\n",
    "  def __init__(self, position, d_model):\n",
    "    super(PositionalEncoding, self).__init__()\n",
    "    self.pos_encoding = self.positional_encoding(position, d_model)\n",
    "\n",
    "  def get_angles(self, position, i, d_model):\n",
    "    angles = 1 / tf.pow(10000, (2 * (i // 2)) / tf.cast(d_model, tf.float32))\n",
    "    return position * angles\n",
    "\n",
    "  def positional_encoding(self, position, d_model):\n",
    "    # 각도 배열 생성\n",
    "    angle_rads = self.get_angles(\n",
    "        position=tf.range(position, dtype=tf.float32)[:, tf.newaxis],\n",
    "        i=tf.range(d_model, dtype=tf.float32)[tf.newaxis, :],\n",
    "        d_model=d_model)\n",
    "\n",
    "    # 배열의 짝수 인덱스에는 sin 함수 적용\n",
    "    sines = tf.math.sin(angle_rads[:, 0::2])\n",
    "    # 배열의 홀수 인덱스에는 cosine 함수 적용\n",
    "    cosines = tf.math.cos(angle_rads[:, 1::2])\n",
    "\n",
    "    # sin과 cosine이 교차되도록 재배열\n",
    "    pos_encoding = tf.stack([sines, cosines], axis=0)\n",
    "    pos_encoding = tf.transpose(pos_encoding,[1, 2, 0]) \n",
    "    pos_encoding = tf.reshape(pos_encoding, [position, d_model])\n",
    "\n",
    "    pos_encoding = pos_encoding[tf.newaxis, ...]\n",
    "    return tf.cast(pos_encoding, tf.float32)\n",
    "\n",
    "  def call(self, inputs):\n",
    "    return inputs + self.pos_encoding[:, :tf.shape(inputs)[1], :]"
   ]
  },
  {
   "cell_type": "code",
   "execution_count": 68,
   "id": "a67f1e4d",
   "metadata": {},
   "outputs": [],
   "source": [
    "# 멀티 헤드 어텐션\n",
    "class MultiHeadAttention(tf.keras.layers.Layer):\n",
    "\n",
    "  def __init__(self, d_model, num_heads, name=\"multi_head_attention\"):\n",
    "    super(MultiHeadAttention, self).__init__(name=name)\n",
    "    self.num_heads = num_heads\n",
    "    self.d_model = d_model\n",
    "\n",
    "    assert d_model % self.num_heads == 0\n",
    "\n",
    "    self.depth = d_model // self.num_heads\n",
    "\n",
    "    self.query_dense = tf.keras.layers.Dense(units=d_model)\n",
    "    self.key_dense = tf.keras.layers.Dense(units=d_model)\n",
    "    self.value_dense = tf.keras.layers.Dense(units=d_model)\n",
    "\n",
    "    self.dense = tf.keras.layers.Dense(units=d_model)\n",
    "\n",
    "  def split_heads(self, inputs, batch_size):\n",
    "    inputs = tf.reshape(\n",
    "        inputs, shape=(batch_size, -1, self.num_heads, self.depth))\n",
    "    return tf.transpose(inputs, perm=[0, 2, 1, 3])\n",
    "\n",
    "  def call(self, inputs):\n",
    "    query, key, value, mask = inputs['query'], inputs['key'], inputs[\n",
    "        'value'], inputs['mask']\n",
    "    batch_size = tf.shape(query)[0]\n",
    "\n",
    "    # Q, K, V에 각각 Dense를 적용\n",
    "    query = self.query_dense(query) \n",
    "    key = self.key_dense(key) \n",
    "    value = self.value_dense(value)\n",
    "\n",
    "    # 병렬 연산을 위한 머리를 여러 개 만들기\n",
    "    query = self.split_heads(query, batch_size)  \n",
    "    key = self.split_heads(key, batch_size)  \n",
    "    value = self.split_heads(value, batch_size)\n",
    "\n",
    "    # 스케일드 닷 프로덕트 어텐션 함수\n",
    "    scaled_attention = scaled_dot_product_attention(query, key, value, mask)\n",
    "\n",
    "    scaled_attention = tf.transpose(scaled_attention, perm=[0, 2, 1, 3])\n",
    "\n",
    "    # 어텐션 연산 후에 각 결과를 다시 연결(concatenate)\n",
    "    concat_attention = tf.reshape(scaled_attention,\n",
    "                                  (batch_size, -1, self.d_model))\n",
    "\n",
    "    # 최종 결과에도 Dense를 한 번 더 적용\n",
    "    outputs = self.dense(concat_attention)\n",
    "\n",
    "    return outputs"
   ]
  },
  {
   "cell_type": "code",
   "execution_count": 71,
   "id": "b93989b6",
   "metadata": {},
   "outputs": [],
   "source": [
    "# 스케일드 닷 프로덕트 어텐션 함수\n",
    "def scaled_dot_product_attention(query, key, value, mask):\n",
    "  # 어텐션 가중치는 Q와 K의 닷 프로덕트\n",
    "  matmul_qk = tf.matmul(query, key, transpose_b=True)\n",
    "\n",
    "  # 가중치를 정규화\n",
    "  depth = tf.cast(tf.shape(key)[-1], tf.float32)\n",
    "  logits = matmul_qk / tf.math.sqrt(depth)\n",
    "\n",
    "  # 패딩에 마스크 추가\n",
    "  if mask is not None:\n",
    "    logits += (mask * -1e9)\n",
    "\n",
    "  # softmax적용\n",
    "  attention_weights = tf.nn.softmax(logits, axis=-1)\n",
    "\n",
    "  # 최종 어텐션은 가중치와 V의 닷 프로덕트\n",
    "  output = tf.matmul(attention_weights, value)\n",
    "  return output\n"
   ]
  },
  {
   "cell_type": "code",
   "execution_count": 75,
   "id": "bdcca389",
   "metadata": {},
   "outputs": [],
   "source": [
    "# 커스텀 학습률 스케줄러를 통한 아담 옵티마이저를 사용\n",
    "# 커스텀 된 학습률\n",
    "class CustomSchedule(tf.keras.optimizers.schedules.LearningRateSchedule):\n",
    "\n",
    "  def __init__(self, d_model, warmup_steps=4000):\n",
    "    super(CustomSchedule, self).__init__()\n",
    "\n",
    "    self.d_model = d_model\n",
    "    self.d_model = tf.cast(self.d_model, tf.float32)\n",
    "\n",
    "    self.warmup_steps = warmup_steps\n",
    "\n",
    "  def __call__(self, step):\n",
    "    arg1 = tf.math.rsqrt(step)\n",
    "    arg2 = step * (self.warmup_steps**-1.5)\n",
    "\n",
    "    return tf.math.rsqrt(self.d_model) * tf.math.minimum(arg1, arg2)"
   ]
  },
  {
   "cell_type": "code",
   "execution_count": 79,
   "id": "78105a6c",
   "metadata": {},
   "outputs": [],
   "source": [
    "# 손실 함수\n",
    "def loss_function(y_true, y_pred):\n",
    "  y_true = tf.reshape(y_true, shape=(-1, MAX_LENGTH - 1))\n",
    "  \n",
    "  loss = tf.keras.losses.SparseCategoricalCrossentropy(\n",
    "      from_logits=True, reduction='none')(y_true, y_pred)\n",
    "\n",
    "  mask = tf.cast(tf.not_equal(y_true, 0), tf.float32)\n",
    "  loss = tf.multiply(loss, mask)\n",
    "\n",
    "  return tf.reduce_mean(loss)"
   ]
  },
  {
   "cell_type": "code",
   "execution_count": 80,
   "id": "5130b6f6",
   "metadata": {},
   "outputs": [],
   "source": [
    "# 트랜스포머 함수를 정의\n",
    "def transformer(vocab_size,\n",
    "                num_layers,\n",
    "                units,\n",
    "                d_model,\n",
    "                num_heads,\n",
    "                dropout,\n",
    "                name=\"transformer\"):\n",
    "  inputs = tf.keras.Input(shape=(None,), name=\"inputs\")\n",
    "  dec_inputs = tf.keras.Input(shape=(None,), name=\"dec_inputs\")\n",
    "\n",
    "  # 인코더에서 패딩을 위한 마스크\n",
    "  enc_padding_mask = tf.keras.layers.Lambda(\n",
    "      create_padding_mask, output_shape=(1, 1, None),\n",
    "      name='enc_padding_mask')(inputs)\n",
    "\n",
    "  # 디코더에서 미래의 토큰을 마스크 하기 위해서 사용합니다.\n",
    "  # 내부적으로 패딩 마스크도 포함되어져 있습니다.\n",
    "  look_ahead_mask = tf.keras.layers.Lambda(\n",
    "      create_look_ahead_mask,\n",
    "      output_shape=(1, None, None),\n",
    "      name='look_ahead_mask')(dec_inputs)\n",
    "\n",
    "  # 두 번째 어텐션 블록에서 인코더의 벡터들을 마스킹\n",
    "  # 디코더에서 패딩을 위한 마스크\n",
    "  dec_padding_mask = tf.keras.layers.Lambda(\n",
    "      create_padding_mask, output_shape=(1, 1, None),\n",
    "      name='dec_padding_mask')(inputs)\n",
    "\n",
    "  # 인코더\n",
    "  enc_outputs = encoder(\n",
    "      vocab_size=vocab_size,\n",
    "      num_layers=num_layers,\n",
    "      units=units,\n",
    "      d_model=d_model,\n",
    "      num_heads=num_heads,\n",
    "      dropout=dropout,\n",
    "  )(inputs=[inputs, enc_padding_mask])\n",
    "\n",
    "  # 디코더\n",
    "  dec_outputs = decoder(\n",
    "      vocab_size=vocab_size,\n",
    "      num_layers=num_layers,\n",
    "      units=units,\n",
    "      d_model=d_model,\n",
    "      num_heads=num_heads,\n",
    "      dropout=dropout,\n",
    "  )(inputs=[dec_inputs, enc_outputs, look_ahead_mask, dec_padding_mask])\n",
    "\n",
    "  # 완전연결층\n",
    "  outputs = tf.keras.layers.Dense(units=vocab_size, name=\"outputs\")(dec_outputs)\n",
    "\n",
    "  return tf.keras.Model(inputs=[inputs, dec_inputs], outputs=outputs, name=name)"
   ]
  },
  {
   "cell_type": "code",
   "execution_count": 81,
   "id": "4e6b328a",
   "metadata": {},
   "outputs": [
    {
     "name": "stdout",
     "output_type": "stream",
     "text": [
      "Model: \"transformer\"\n",
      "__________________________________________________________________________________________________\n",
      "Layer (type)                    Output Shape         Param #     Connected to                     \n",
      "==================================================================================================\n",
      "inputs (InputLayer)             [(None, None)]       0                                            \n",
      "__________________________________________________________________________________________________\n",
      "dec_inputs (InputLayer)         [(None, None)]       0                                            \n",
      "__________________________________________________________________________________________________\n",
      "enc_padding_mask (Lambda)       (None, 1, 1, None)   0           inputs[0][0]                     \n",
      "__________________________________________________________________________________________________\n",
      "encoder (Functional)            (None, None, 256)    3148288     inputs[0][0]                     \n",
      "                                                                 enc_padding_mask[0][0]           \n",
      "__________________________________________________________________________________________________\n",
      "look_ahead_mask (Lambda)        (None, 1, None, None 0           dec_inputs[0][0]                 \n",
      "__________________________________________________________________________________________________\n",
      "dec_padding_mask (Lambda)       (None, 1, 1, None)   0           inputs[0][0]                     \n",
      "__________________________________________________________________________________________________\n",
      "decoder (Functional)            (None, None, 256)    3675648     dec_inputs[0][0]                 \n",
      "                                                                 encoder[0][0]                    \n",
      "                                                                 look_ahead_mask[0][0]            \n",
      "                                                                 dec_padding_mask[0][0]           \n",
      "__________________________________________________________________________________________________\n",
      "outputs (Dense)                 (None, None, 8180)   2102260     decoder[0][0]                    \n",
      "==================================================================================================\n",
      "Total params: 8,926,196\n",
      "Trainable params: 8,926,196\n",
      "Non-trainable params: 0\n",
      "__________________________________________________________________________________________________\n"
     ]
    }
   ],
   "source": [
    "tf.keras.backend.clear_session()\n",
    "\n",
    "#Hyper-parameters\n",
    "D_MODEL=256 # 인코더와 디코더의 층의 개수\n",
    "NUM_LAYERS=2 # 인코더와 디코더 내부의 입, 출력의 고정 차원\n",
    "NUM_HEADS=8 # 멀티 헤드 어텐션에서의 헤드 수 \n",
    "UNITS=512 # 피드 포워드 신경망의 은닉층의 크기\n",
    "DROPOUT=0.1 # 드롭아웃의 비율\n",
    "\n",
    "model = transformer(\n",
    "    vocab_size=VOCAB_SIZE,\n",
    "    num_layers=NUM_LAYERS,\n",
    "    units=UNITS,\n",
    "    d_model=D_MODEL,\n",
    "    num_heads=NUM_HEADS,\n",
    "    dropout=DROPOUT)\n",
    "\n",
    "model.summary()"
   ]
  },
  {
   "cell_type": "code",
   "execution_count": 82,
   "id": "bbc02ba5",
   "metadata": {},
   "outputs": [],
   "source": [
    "learning_rate=CustomSchedule(D_MODEL)\n",
    "optimizer=tf.keras.optimizers.Adam(learning_rate,beta_1=0.9,beta_2=0.98,epsilon=1e-9)\n",
    "\n",
    "def accuracy(y_true,y_pred):\n",
    "    #레이블의 크기는 (batch_size, MAX_LENGTH-1)\n",
    "    y_true=tf.reshape(y_true,shape=(-1,MAX_LENGTH-1))\n",
    "    return tf.keras.metrics.sparse_categorical_accuracy(y_true,y_pred)\n",
    "\n",
    "model.compile(optimizer=optimizer,loss=loss_function,metrics=[accuracy])"
   ]
  },
  {
   "cell_type": "code",
   "execution_count": 83,
   "id": "8f2f3f7c",
   "metadata": {},
   "outputs": [
    {
     "name": "stdout",
     "output_type": "stream",
     "text": [
      "Epoch 1/50\n",
      "185/185 [==============================] - 27s 53ms/step - loss: 1.4535 - accuracy: 0.0250\n",
      "Epoch 2/50\n",
      "185/185 [==============================] - 10s 53ms/step - loss: 1.1773 - accuracy: 0.0494\n",
      "Epoch 3/50\n",
      "185/185 [==============================] - 10s 53ms/step - loss: 1.0085 - accuracy: 0.0503\n",
      "Epoch 4/50\n",
      "185/185 [==============================] - 10s 53ms/step - loss: 0.9323 - accuracy: 0.0541\n",
      "Epoch 5/50\n",
      "185/185 [==============================] - 10s 54ms/step - loss: 0.8730 - accuracy: 0.0574\n",
      "Epoch 6/50\n",
      "185/185 [==============================] - 10s 54ms/step - loss: 0.8126 - accuracy: 0.0617\n",
      "Epoch 7/50\n",
      "185/185 [==============================] - 10s 54ms/step - loss: 0.7452 - accuracy: 0.0678\n",
      "Epoch 8/50\n",
      "185/185 [==============================] - 10s 54ms/step - loss: 0.6714 - accuracy: 0.0758\n",
      "Epoch 9/50\n",
      "185/185 [==============================] - 10s 54ms/step - loss: 0.5931 - accuracy: 0.0842\n",
      "Epoch 10/50\n",
      "185/185 [==============================] - 10s 54ms/step - loss: 0.5106 - accuracy: 0.0936\n",
      "Epoch 11/50\n",
      "185/185 [==============================] - 10s 54ms/step - loss: 0.4282 - accuracy: 0.1038\n",
      "Epoch 12/50\n",
      "185/185 [==============================] - 10s 53ms/step - loss: 0.3468 - accuracy: 0.1148\n",
      "Epoch 13/50\n",
      "185/185 [==============================] - 10s 54ms/step - loss: 0.2724 - accuracy: 0.1259\n",
      "Epoch 14/50\n",
      "185/185 [==============================] - 10s 54ms/step - loss: 0.2079 - accuracy: 0.1354\n",
      "Epoch 15/50\n",
      "185/185 [==============================] - 10s 54ms/step - loss: 0.1539 - accuracy: 0.1449\n",
      "Epoch 16/50\n",
      "185/185 [==============================] - 10s 54ms/step - loss: 0.1107 - accuracy: 0.1527\n",
      "Epoch 17/50\n",
      "185/185 [==============================] - 10s 54ms/step - loss: 0.0808 - accuracy: 0.1585\n",
      "Epoch 18/50\n",
      "185/185 [==============================] - 10s 54ms/step - loss: 0.0619 - accuracy: 0.1619\n",
      "Epoch 19/50\n",
      "185/185 [==============================] - 10s 55ms/step - loss: 0.0509 - accuracy: 0.1637\n",
      "Epoch 20/50\n",
      "185/185 [==============================] - 10s 54ms/step - loss: 0.0454 - accuracy: 0.1644\n",
      "Epoch 21/50\n",
      "185/185 [==============================] - 10s 54ms/step - loss: 0.0425 - accuracy: 0.1649\n",
      "Epoch 22/50\n",
      "185/185 [==============================] - 10s 54ms/step - loss: 0.0410 - accuracy: 0.1650\n",
      "Epoch 23/50\n",
      "185/185 [==============================] - 10s 54ms/step - loss: 0.0365 - accuracy: 0.1661\n",
      "Epoch 24/50\n",
      "185/185 [==============================] - 10s 54ms/step - loss: 0.0318 - accuracy: 0.1672\n",
      "Epoch 25/50\n",
      "185/185 [==============================] - 10s 54ms/step - loss: 0.0278 - accuracy: 0.1681\n",
      "Epoch 26/50\n",
      "185/185 [==============================] - 10s 54ms/step - loss: 0.0249 - accuracy: 0.1688\n",
      "Epoch 27/50\n",
      "185/185 [==============================] - 10s 54ms/step - loss: 0.0221 - accuracy: 0.1696\n",
      "Epoch 28/50\n",
      "185/185 [==============================] - 10s 54ms/step - loss: 0.0206 - accuracy: 0.1699\n",
      "Epoch 29/50\n",
      "185/185 [==============================] - 10s 54ms/step - loss: 0.0177 - accuracy: 0.1707\n",
      "Epoch 30/50\n",
      "185/185 [==============================] - 10s 54ms/step - loss: 0.0169 - accuracy: 0.1709\n",
      "Epoch 31/50\n",
      "185/185 [==============================] - 10s 54ms/step - loss: 0.0159 - accuracy: 0.1712\n",
      "Epoch 32/50\n",
      "185/185 [==============================] - 10s 54ms/step - loss: 0.0138 - accuracy: 0.1718\n",
      "Epoch 33/50\n",
      "185/185 [==============================] - 10s 54ms/step - loss: 0.0131 - accuracy: 0.1719\n",
      "Epoch 34/50\n",
      "185/185 [==============================] - 10s 54ms/step - loss: 0.0126 - accuracy: 0.1720\n",
      "Epoch 35/50\n",
      "185/185 [==============================] - 10s 54ms/step - loss: 0.0111 - accuracy: 0.1723\n",
      "Epoch 36/50\n",
      "185/185 [==============================] - 10s 54ms/step - loss: 0.0109 - accuracy: 0.1724\n",
      "Epoch 37/50\n",
      "185/185 [==============================] - 10s 54ms/step - loss: 0.0103 - accuracy: 0.1727\n",
      "Epoch 38/50\n",
      "185/185 [==============================] - 10s 54ms/step - loss: 0.0093 - accuracy: 0.1728\n",
      "Epoch 39/50\n",
      "185/185 [==============================] - 10s 54ms/step - loss: 0.0088 - accuracy: 0.1729\n",
      "Epoch 40/50\n",
      "185/185 [==============================] - 10s 54ms/step - loss: 0.0086 - accuracy: 0.1730\n",
      "Epoch 41/50\n",
      "185/185 [==============================] - 10s 54ms/step - loss: 0.0082 - accuracy: 0.1731\n",
      "Epoch 42/50\n",
      "185/185 [==============================] - 10s 54ms/step - loss: 0.0078 - accuracy: 0.1732\n",
      "Epoch 43/50\n",
      "185/185 [==============================] - 10s 54ms/step - loss: 0.0078 - accuracy: 0.1732\n",
      "Epoch 44/50\n",
      "185/185 [==============================] - 10s 54ms/step - loss: 0.0072 - accuracy: 0.1734\n",
      "Epoch 45/50\n",
      "185/185 [==============================] - 10s 54ms/step - loss: 0.0065 - accuracy: 0.1735\n",
      "Epoch 46/50\n",
      "185/185 [==============================] - 10s 54ms/step - loss: 0.0067 - accuracy: 0.1735\n",
      "Epoch 47/50\n",
      "185/185 [==============================] - 10s 54ms/step - loss: 0.0065 - accuracy: 0.1735\n",
      "Epoch 48/50\n",
      "185/185 [==============================] - 10s 54ms/step - loss: 0.0061 - accuracy: 0.1736\n",
      "Epoch 49/50\n",
      "185/185 [==============================] - 10s 55ms/step - loss: 0.0058 - accuracy: 0.1737\n",
      "Epoch 50/50\n",
      "185/185 [==============================] - 10s 55ms/step - loss: 0.0056 - accuracy: 0.1738\n"
     ]
    },
    {
     "data": {
      "text/plain": [
       "<keras.callbacks.History at 0x7f3964086310>"
      ]
     },
     "execution_count": 83,
     "metadata": {},
     "output_type": "execute_result"
    }
   ],
   "source": [
    "EPOCHS=50\n",
    "model.fit(dataset,epochs=EPOCHS)"
   ]
  },
  {
   "cell_type": "markdown",
   "id": "ac990901",
   "metadata": {},
   "source": [
    "<br>  \n",
    "<br>  \n",
    "<br>  \n",
    "\n",
    "\n",
    "\n",
    "## 🔶Step 5. 모델 평가하기\n",
    "\n",
    "--- \n",
    "Step 1에서 선택한 전처리 방법을 고려하여 입력된 문장에 대해서 대답을 얻는 예측 함수를 만들어보자"
   ]
  },
  {
   "cell_type": "code",
   "execution_count": 84,
   "id": "1771654e",
   "metadata": {},
   "outputs": [],
   "source": [
    "def decoder_inference(sentence):\n",
    "  sentence = preprocess_sentence(sentence)\n",
    "\n",
    "  # 입력된 문장을 정수 인코딩 후, 시작 토큰과 종료 토큰을 앞뒤로 추가.\n",
    "  sentence = tf.expand_dims(\n",
    "      START_TOKEN + tokenizer.encode(sentence) + END_TOKEN, axis=0)\n",
    "\n",
    "  # 디코더의 현재까지의 예측한 출력 시퀀스가 지속적으로 저장되는 변수.\n",
    "  # 처음에는 예측한 내용이 없음으로 시작 토큰만 별도 저장.\n",
    "  output_sequence = tf.expand_dims(START_TOKEN, 0)\n",
    "\n",
    "  # 디코더의 인퍼런스 단계\n",
    "  for i in range(MAX_LENGTH):\n",
    "    # 디코더는 최대 MAX_LENGTH의 길이만큼 다음 단어 예측을 반복.\n",
    "    predictions = model(inputs=[sentence, output_sequence], training=False)\n",
    "    predictions = predictions[:, -1:, :]\n",
    "\n",
    "    # 현재 예측한 단어의 정수\n",
    "    predicted_id = tf.cast(tf.argmax(predictions, axis=-1), tf.int32)\n",
    "\n",
    "    # 만약 현재 예측한 단어가 종료 토큰이라면 for문을 종료\n",
    "    if tf.equal(predicted_id, END_TOKEN[0]):\n",
    "      break\n",
    "\n",
    "    # 예측한 단어들은 지속적으로 output_sequence에 추가.\n",
    "    # 이 output_sequence는 다시 디코더의 입력.\n",
    "    output_sequence = tf.concat([output_sequence, predicted_id], axis=-1)\n",
    "\n",
    "  return tf.squeeze(output_sequence, axis=0)"
   ]
  },
  {
   "cell_type": "code",
   "execution_count": 85,
   "id": "f8f71557",
   "metadata": {},
   "outputs": [],
   "source": [
    "def sentence_generation(sentence):\n",
    "  # 입력 문장에 대해서 디코더를 동작 시켜 예측된 정수 시퀀스를 리턴.\n",
    "  prediction = decoder_inference(sentence)\n",
    "\n",
    "  # 정수 시퀀스를 다시 텍스트 시퀀스로 변환.\n",
    "  predicted_sentence = tokenizer.decode(\n",
    "      [i for i in prediction if i < tokenizer.vocab_size])\n",
    "\n",
    "  print('입력 : {}'.format(sentence))\n",
    "  print('출력 : {}'.format(predicted_sentence))\n",
    "\n",
    "  return predicted_sentence"
   ]
  },
  {
   "cell_type": "code",
   "execution_count": 97,
   "id": "c3edc4a1",
   "metadata": {},
   "outputs": [
    {
     "name": "stdout",
     "output_type": "stream",
     "text": [
      "입력 : 짝녀랑 약속 파토 났어요\n",
      "출력 : 무슨 바쁜 일이 있었나봐요 .\n"
     ]
    },
    {
     "data": {
      "text/plain": [
       "'무슨 바쁜 일이 있었나봐요 .'"
      ]
     },
     "execution_count": 97,
     "metadata": {},
     "output_type": "execute_result"
    }
   ],
   "source": [
    "sentence_generation('짝녀랑 약속 파토 났어요')"
   ]
  },
  {
   "cell_type": "code",
   "execution_count": 96,
   "id": "13b879ae",
   "metadata": {},
   "outputs": [
    {
     "name": "stdout",
     "output_type": "stream",
     "text": [
      "입력 : 헤어지고 연락했어\n",
      "출력 : 많이 그리웠나 봐요 .\n"
     ]
    },
    {
     "data": {
      "text/plain": [
       "'많이 그리웠나 봐요 .'"
      ]
     },
     "execution_count": 96,
     "metadata": {},
     "output_type": "execute_result"
    }
   ],
   "source": [
    "sentence_generation('헤어지고 연락했어')"
   ]
  },
  {
   "cell_type": "code",
   "execution_count": 92,
   "id": "6bc468f7",
   "metadata": {},
   "outputs": [
    {
     "name": "stdout",
     "output_type": "stream",
     "text": [
      "입력 : 12시 땡!\n",
      "출력 : 하루가 또 가네요 .\n"
     ]
    },
    {
     "data": {
      "text/plain": [
       "'하루가 또 가네요 .'"
      ]
     },
     "execution_count": 92,
     "metadata": {},
     "output_type": "execute_result"
    }
   ],
   "source": [
    "sentence_generation('12시 땡!')"
   ]
  },
  {
   "cell_type": "code",
   "execution_count": 94,
   "id": "4e62a6a1",
   "metadata": {},
   "outputs": [
    {
     "name": "stdout",
     "output_type": "stream",
     "text": [
      "입력 : 강원도 가서 살까?\n",
      "출력 : 아름다운 곳이죠 .\n"
     ]
    },
    {
     "data": {
      "text/plain": [
       "'아름다운 곳이죠 .'"
      ]
     },
     "execution_count": 94,
     "metadata": {},
     "output_type": "execute_result"
    }
   ],
   "source": [
    "sentence_generation('강원도 가서 살까?')"
   ]
  },
  {
   "cell_type": "code",
   "execution_count": 95,
   "id": "6f689012",
   "metadata": {},
   "outputs": [
    {
     "name": "stdout",
     "output_type": "stream",
     "text": [
      "입력 : 갑자기 눈물 나\n",
      "출력 : 마음이 아픈가요 .\n"
     ]
    },
    {
     "data": {
      "text/plain": [
       "'마음이 아픈가요 .'"
      ]
     },
     "execution_count": 95,
     "metadata": {},
     "output_type": "execute_result"
    }
   ],
   "source": [
    "sentence_generation('갑자기 눈물 나')"
   ]
  },
  {
   "cell_type": "code",
   "execution_count": 98,
   "id": "b4eaa64d",
   "metadata": {},
   "outputs": [
    {
     "name": "stdout",
     "output_type": "stream",
     "text": [
      "입력 : 후.ㅎㅎ\n",
      "출력 : 지쳤나봐요 .\n"
     ]
    },
    {
     "data": {
      "text/plain": [
       "'지쳤나봐요 .'"
      ]
     },
     "execution_count": 98,
     "metadata": {},
     "output_type": "execute_result"
    }
   ],
   "source": [
    "sentence_generation('후.ㅎㅎ')"
   ]
  },
  {
   "cell_type": "code",
   "execution_count": 104,
   "id": "431ca1db",
   "metadata": {},
   "outputs": [
    {
     "name": "stdout",
     "output_type": "stream",
     "text": [
      "입력 : 방학이 언제야?\n",
      "출력 : 방학이 참 짧죠 .\n"
     ]
    },
    {
     "data": {
      "text/plain": [
       "'방학이 참 짧죠 .'"
      ]
     },
     "execution_count": 104,
     "metadata": {},
     "output_type": "execute_result"
    }
   ],
   "source": [
    "sentence_generation('방학이 언제야?')"
   ]
  },
  {
   "cell_type": "markdown",
   "id": "7e05d5be",
   "metadata": {},
   "source": [
    "**확인했을 때 맞는 answer이 나왔다.**"
   ]
  },
  {
   "cell_type": "markdown",
   "id": "b6435e7f",
   "metadata": {},
   "source": [
    "---\n",
    "\n",
    "<br>  \n",
    "<br>  \n",
    "\n",
    "## ⛓️회고\n",
    "<br>  \n",
    "\n",
    "- **Keep**  \n",
    "    구글링을 열심히 했다. 이 전에 했던 튜토리얼 노드를 활용했다.  \n",
    " \n",
    " <br>  \n",
    " \n",
    "- **Problem**  \n",
    "    함수를 작성하는 부분을 완벽히 이해하지 못했다... 어렵다..😓  \n",
    "  \n",
    "  <br>  \n",
    "  \n",
    "- **Try**  \n",
    "    하나하나 보면서 더 열심히 찾아봐야겠다.  "
   ]
  },
  {
   "cell_type": "code",
   "execution_count": null,
   "id": "5024ace9",
   "metadata": {},
   "outputs": [],
   "source": []
  }
 ],
 "metadata": {
  "kernelspec": {
   "display_name": "Python 3 (ipykernel)",
   "language": "python",
   "name": "python3"
  },
  "language_info": {
   "codemirror_mode": {
    "name": "ipython",
    "version": 3
   },
   "file_extension": ".py",
   "mimetype": "text/x-python",
   "name": "python",
   "nbconvert_exporter": "python",
   "pygments_lexer": "ipython3",
   "version": "3.9.7"
  }
 },
 "nbformat": 4,
 "nbformat_minor": 5
}
