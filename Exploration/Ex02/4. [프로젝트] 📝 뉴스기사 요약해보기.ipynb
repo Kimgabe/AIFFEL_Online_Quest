{
 "cells": [
  {
   "cell_type": "markdown",
   "id": "2a7edee9",
   "metadata": {},
   "source": [
    "# 📌 Intro.\n",
    "- 지난 노드에서는 nltk를 기반으로 seq2seq를 사용해서 영문 텍스트(뉴스기사)의 샘플 데이터를 가지고 `Abstractive summarization 방식의 텍스트 요약기` 를 만드는 실습을 했습니다.\n",
    "- 해당 과정에서 텍스트 데이터를 전처리하는 방법, seq2seq 구현을 위한 Encoder, Decoder 구현하는 방법, 인퍼런스 모델 만들어서 사용하는 방법 등을 배웠습니다.\n",
    "- 이번 프로젝트에서는 배웠던 내용을 바탕으로 새로운 데이터셋을 가지고 `Abstractive summarization` 과 `Extractive Summarization` 을 모두 구현하는 프로젝트를 진행합니다.\n",
    "\n",
    "---\n",
    "\n",
    "- 평가 루브릭은 아래와 같습니다.\n",
    "\n",
    "| 평가 문항                                  | 평가 기준                                                                                                       |\n",
    "|----------------------------------------|-----------------------------------------------------------------------------------------------------------------|\n",
    "| 1. Abstractive 모델 구성을 위한 텍스트 전처리 단계가 체계적으로 진행되었다. | - 분석단계, 정제단계, 정규화와 불용어 제거, 데이터셋 분리, 인코딩 과정이 빠짐없이 체계적으로 진행되었다.        |\n",
    "| 2. 텍스트 요약모델이 성공적으로 학습되었음을 확인하였다.         | - 모델 학습이 진행되면서 train loss와 validation loss가 감소하는 경향을 그래프를 통해 확인했으며, 실제 요약문에 있는 핵심 단어들이 요약 문장 안에 포함되었다. |\n",
    "| 3. Extractive 요약을 시도해 보고 Abstractive 요약 결과과 함께 비교해 보았다. | - 두 요약 결과를 문법완성도 측면과 핵심단어 포함 측면으로 나누어 비교하고 분석 결과를 표로 정리하여 제시하였다.     |\n",
    "\n",
    "---"
   ]
  },
  {
   "cell_type": "code",
   "execution_count": 2,
   "id": "372b62ef",
   "metadata": {
    "ExecuteTime": {
     "end_time": "2024-01-05T07:31:12.561709Z",
     "start_time": "2024-01-05T07:31:04.559385Z"
    }
   },
   "outputs": [
    {
     "name": "stdout",
     "output_type": "stream",
     "text": [
      "Num GPUs Available:  1\n",
      "3.8.1\n",
      "2.6.0\n",
      "1.3.5\n"
     ]
    }
   ],
   "source": [
    "import tensorflow as tf\n",
    "import nltk\n",
    "import summa # ver. 1.2.0\n",
    "import pandas as pd\n",
    "\n",
    "# GPU활성화 코드\n",
    "print(\"Num GPUs Available: \", len(\n",
    "    tf.config.experimental.list_physical_devices('GPU')))\n",
    "gpus = tf.config.experimental.list_physical_devices('GPU')\n",
    "if gpus:\n",
    "    try:\n",
    "        # 메모리 사용 제한을 위한 설정\n",
    "        for gpu in gpus:\n",
    "            tf.config.experimental.set_memory_growth(gpu, True)\n",
    "        # 특정 GPU만 사용하도록 설정\n",
    "        tf.config.experimental.set_visible_devices(gpus[0], 'GPU')\n",
    "    except RuntimeError as e:\n",
    "        # 프로그램 시작 후에는 GPU 설정을 변경할 수 없으므로\n",
    "        # 런타임 오류 발생 시 예외 처리가 필요함\n",
    "        print(e)\n",
    "        \n",
    "\n",
    "\n",
    "print(nltk.__version__)\n",
    "print(tf.__version__)\n",
    "print(pd.__version__)"
   ]
  },
  {
   "cell_type": "code",
   "execution_count": 3,
   "id": "dbbf9745",
   "metadata": {
    "ExecuteTime": {
     "end_time": "2024-01-05T07:31:15.021292Z",
     "start_time": "2024-01-05T07:31:13.908131Z"
    }
   },
   "outputs": [
    {
     "name": "stderr",
     "output_type": "stream",
     "text": [
      "[nltk_data] Downloading package stopwords to\n",
      "[nltk_data]     C:\\Users\\gabe\\AppData\\Roaming\\nltk_data...\n",
      "[nltk_data]   Package stopwords is already up-to-date!\n"
     ]
    }
   ],
   "source": [
    "import nltk\n",
    "nltk.download('stopwords')\n",
    "\n",
    "import numpy as np\n",
    "import re\n",
    "import matplotlib.pyplot as plt\n",
    "import koreanize_matplotlib\n",
    "from nltk.corpus import stopwords\n",
    "from bs4 import BeautifulSoup \n",
    "from tensorflow.keras.preprocessing.text import Tokenizer \n",
    "from tensorflow.keras.preprocessing.sequence import pad_sequences\n",
    "import urllib.request\n",
    "import warnings\n",
    "warnings.filterwarnings(\"ignore\")\n",
    "warnings.filterwarnings(\"ignore\", category=UserWarning, module='bs4')"
   ]
  },
  {
   "cell_type": "markdown",
   "id": "7d8c46a7",
   "metadata": {},
   "source": [
    "# Step 1. 데이터 수집하기\n",
    "- 아래 링크에서 제공하는 뉴스 기사 데이터(`news_summary_more.csv`) 를 사용해 프로젝트를 진행합니다.\n",
    "\n",
    "- [데이터 링크](https://github.com/sunnysai12345/News_Summary)\n",
    "- 해당 링크에서 다운 받은 파일은 아래와 와 같은 경로에 저장합니다.\n",
    "\n",
    "```python\n",
    "[AIFFEL] study_code/\n",
    "└── data/\n",
    "    └── text_summary/\n",
    "        └── news_summary_more.csv\n",
    "```"
   ]
  },
  {
   "cell_type": "code",
   "execution_count": 3,
   "id": "2743825a",
   "metadata": {
    "ExecuteTime": {
     "end_time": "2024-01-04T19:55:31.317029Z",
     "start_time": "2024-01-04T19:55:27.153273Z"
    }
   },
   "outputs": [],
   "source": [
    "import os\n",
    "import urllib.request\n",
    "\n",
    "# 데이터 다운로드 폴더 경로 설정\n",
    "download_folder = \"data/text_summary\"\n",
    "\n",
    "# 폴더가 존재하지 않으면 생성\n",
    "if not os.path.exists(download_folder):\n",
    "    os.makedirs(download_folder)\n",
    "\n",
    "# 데이터 다운로드 및 불러오기\n",
    "url = \"https://raw.githubusercontent.com/sunnysai12345/News_Summary/master/news_summary_more.csv\"\n",
    "filename = os.path.join(download_folder, \"news_summary_more.csv\")\n",
    "\n",
    "# 데이터 다운로드\n",
    "urllib.request.urlretrieve(url, filename)\n",
    "\n",
    "# 데이터 불러오기\n",
    "data = pd.read_csv(filename, encoding='iso-8859-1')"
   ]
  },
  {
   "cell_type": "code",
   "execution_count": 4,
   "id": "4253d6a1",
   "metadata": {
    "ExecuteTime": {
     "end_time": "2024-01-04T19:55:31.347032Z",
     "start_time": "2024-01-04T19:55:31.320028Z"
    },
    "scrolled": false
   },
   "outputs": [
    {
     "data": {
      "text/html": [
       "<div>\n",
       "<style scoped>\n",
       "    .dataframe tbody tr th:only-of-type {\n",
       "        vertical-align: middle;\n",
       "    }\n",
       "\n",
       "    .dataframe tbody tr th {\n",
       "        vertical-align: top;\n",
       "    }\n",
       "\n",
       "    .dataframe thead th {\n",
       "        text-align: right;\n",
       "    }\n",
       "</style>\n",
       "<table border=\"1\" class=\"dataframe\">\n",
       "  <thead>\n",
       "    <tr style=\"text-align: right;\">\n",
       "      <th></th>\n",
       "      <th>headlines</th>\n",
       "      <th>text</th>\n",
       "    </tr>\n",
       "  </thead>\n",
       "  <tbody>\n",
       "    <tr>\n",
       "      <th>10465</th>\n",
       "      <td>24-year-old Bajrang becomes world no. 1 wrestl...</td>\n",
       "      <td>Asian Games and Commonwealth Games gold medall...</td>\n",
       "    </tr>\n",
       "    <tr>\n",
       "      <th>81536</th>\n",
       "      <td>Ã¢ÂÂ¹1.5 crore for Mumbai's 6th Shivaji statue</td>\n",
       "      <td>The Railways will spend an estimated Ã¢ÂÂ¹1.5...</td>\n",
       "    </tr>\n",
       "    <tr>\n",
       "      <th>32196</th>\n",
       "      <td>PM Modi on airplane or speaker mode, never wor...</td>\n",
       "      <td>Referring to the different modes in a mobile p...</td>\n",
       "    </tr>\n",
       "    <tr>\n",
       "      <th>51815</th>\n",
       "      <td>China's infrastructure development in Doklam t...</td>\n",
       "      <td>Stating that there are Chinese troops in a par...</td>\n",
       "    </tr>\n",
       "    <tr>\n",
       "      <th>39597</th>\n",
       "      <td>Not paying for N Korean officials' stay in Sin...</td>\n",
       "      <td>The US State Department on Tuesday said that t...</td>\n",
       "    </tr>\n",
       "    <tr>\n",
       "      <th>62377</th>\n",
       "      <td>Kerala Minister vacates home for national high...</td>\n",
       "      <td>Kerala's Public Works Department Minister G Su...</td>\n",
       "    </tr>\n",
       "    <tr>\n",
       "      <th>43443</th>\n",
       "      <td>Sierra Leone 1st country to use blockchain tec...</td>\n",
       "      <td>The African nation of Sierra Leone has become ...</td>\n",
       "    </tr>\n",
       "    <tr>\n",
       "      <th>10933</th>\n",
       "      <td>Main accused in Varanasi mall shooting, which ...</td>\n",
       "      <td>The main accused in the shooting at a shopping...</td>\n",
       "    </tr>\n",
       "    <tr>\n",
       "      <th>67532</th>\n",
       "      <td>Pope wears refugee bracelet in appeal for help...</td>\n",
       "      <td>Pope Francis was seen wearing a refugee ID bra...</td>\n",
       "    </tr>\n",
       "    <tr>\n",
       "      <th>31524</th>\n",
       "      <td>Collegium to again name judge for SC post Cent...</td>\n",
       "      <td>The Supreme Court Collegium has decided to aga...</td>\n",
       "    </tr>\n",
       "  </tbody>\n",
       "</table>\n",
       "</div>"
      ],
      "text/plain": [
       "                                               headlines  \\\n",
       "10465  24-year-old Bajrang becomes world no. 1 wrestl...   \n",
       "81536    Ã¢ÂÂ¹1.5 crore for Mumbai's 6th Shivaji statue   \n",
       "32196  PM Modi on airplane or speaker mode, never wor...   \n",
       "51815  China's infrastructure development in Doklam t...   \n",
       "39597  Not paying for N Korean officials' stay in Sin...   \n",
       "62377  Kerala Minister vacates home for national high...   \n",
       "43443  Sierra Leone 1st country to use blockchain tec...   \n",
       "10933  Main accused in Varanasi mall shooting, which ...   \n",
       "67532  Pope wears refugee bracelet in appeal for help...   \n",
       "31524  Collegium to again name judge for SC post Cent...   \n",
       "\n",
       "                                                    text  \n",
       "10465  Asian Games and Commonwealth Games gold medall...  \n",
       "81536  The Railways will spend an estimated Ã¢ÂÂ¹1.5...  \n",
       "32196  Referring to the different modes in a mobile p...  \n",
       "51815  Stating that there are Chinese troops in a par...  \n",
       "39597  The US State Department on Tuesday said that t...  \n",
       "62377  Kerala's Public Works Department Minister G Su...  \n",
       "43443  The African nation of Sierra Leone has become ...  \n",
       "10933  The main accused in the shooting at a shopping...  \n",
       "67532  Pope Francis was seen wearing a refugee ID bra...  \n",
       "31524  The Supreme Court Collegium has decided to aga...  "
      ]
     },
     "execution_count": 4,
     "metadata": {},
     "output_type": "execute_result"
    }
   ],
   "source": [
    "# 데이터 샘플 확인\n",
    "data.sample(10)"
   ]
  },
  {
   "cell_type": "code",
   "execution_count": 5,
   "id": "1f2a6a5d",
   "metadata": {
    "ExecuteTime": {
     "end_time": "2024-01-04T19:55:31.377544Z",
     "start_time": "2024-01-04T19:55:31.350034Z"
    }
   },
   "outputs": [
    {
     "name": "stdout",
     "output_type": "stream",
     "text": [
      "<class 'pandas.core.frame.DataFrame'>\n",
      "RangeIndex: 98401 entries, 0 to 98400\n",
      "Data columns (total 2 columns):\n",
      " #   Column     Non-Null Count  Dtype \n",
      "---  ------     --------------  ----- \n",
      " 0   headlines  98401 non-null  object\n",
      " 1   text       98401 non-null  object\n",
      "dtypes: object(2)\n",
      "memory usage: 1.5+ MB\n"
     ]
    }
   ],
   "source": [
    "data.info()"
   ]
  },
  {
   "cell_type": "markdown",
   "id": "3891cbc8",
   "metadata": {},
   "source": [
    "- 데이터가 기사의 본문(`text`) 컬럼과 `headline` 두 부분으로 구성되어 있습니다.\n",
    "- 추상적 요약(Abstractive summarization)을 하고자 한다면 `headlines` 컬럼의 텍스트들을 `이미 요약된 데이터` 로 지침삼아 모델을 학습하도록 할 수 있습니다."
   ]
  },
  {
   "cell_type": "markdown",
   "id": "c90dc9b5",
   "metadata": {},
   "source": [
    "# Step 2. 데이터 전처리 (추상적 요약)\n",
    "\n",
    "- 모델에 학습하기 위해 필요한 정보들만 추려서 모델이 입력할 수 있는 형태로 가공해야 합니다.\n",
    "- 분석단계, 정제단계, 정규화, 불용어제거, 데이터셋 분리, 인코딩을 진행해야 합니다."
   ]
  },
  {
   "cell_type": "markdown",
   "id": "89f111c3",
   "metadata": {},
   "source": [
    "## 텍스트 데이터 분석\n",
    "\n",
    "- 모델링에 앞서 다양한 방법으로 텍스트들을 분석하여 전처리 방향을 정하도록 하겠습니다.\n",
    "\n",
    "- 일단 텍스트 길이에 대한 분석을 진행해보겠습니다."
   ]
  },
  {
   "cell_type": "markdown",
   "id": "6f2b4556",
   "metadata": {},
   "source": [
    "### 중복 데이터 확인"
   ]
  },
  {
   "cell_type": "code",
   "execution_count": 6,
   "id": "c7713a88",
   "metadata": {
    "ExecuteTime": {
     "end_time": "2024-01-04T19:55:31.543328Z",
     "start_time": "2024-01-04T19:55:31.379545Z"
    }
   },
   "outputs": [
    {
     "name": "stdout",
     "output_type": "stream",
     "text": [
      "text 열에서 중복을 배제한 유일한 샘플의 수 : 98360\n",
      "headlines 열에서 중복을 배제한 유일한 샘플의 수 : 98280\n"
     ]
    }
   ],
   "source": [
    "print('text 열에서 중복을 배제한 유일한 샘플의 수 :', data['text'].nunique())\n",
    "print('headlines 열에서 중복을 배제한 유일한 샘플의 수 :', data['headlines'].nunique())"
   ]
  },
  {
   "cell_type": "markdown",
   "id": "2f64cd08",
   "metadata": {},
   "source": [
    "- 전체 데이터가 98,401개였음을 감안하면 중복데이터는 거의 없는 것으로 판단 됩니다.\n",
    "- 데이터셋 자체가 이전에 실습때보다는 다양성이 높은 데이터인 것이 명확해 보입니다.\n",
    "- 일단 중복 제거를 해준 뒤 데이터의 길이를 파악해보겠습니다."
   ]
  },
  {
   "cell_type": "code",
   "execution_count": 7,
   "id": "ff42345a",
   "metadata": {
    "ExecuteTime": {
     "end_time": "2024-01-04T19:55:31.664888Z",
     "start_time": "2024-01-04T19:55:31.545330Z"
    }
   },
   "outputs": [
    {
     "name": "stdout",
     "output_type": "stream",
     "text": [
      "전체 샘플수 : 98360\n"
     ]
    }
   ],
   "source": [
    "# inplace=True 를 설정하면 DataFrame 타입 값을 return 하지 않고 data 내부를 직접적으로 바꿉니다\n",
    "data.drop_duplicates(subset = ['text'], inplace=True)\n",
    "print('전체 샘플수 :', (len(data)))"
   ]
  },
  {
   "cell_type": "code",
   "execution_count": 8,
   "id": "3c277808",
   "metadata": {
    "ExecuteTime": {
     "end_time": "2024-01-04T19:55:31.709889Z",
     "start_time": "2024-01-04T19:55:31.666889Z"
    }
   },
   "outputs": [
    {
     "name": "stdout",
     "output_type": "stream",
     "text": [
      "전체 샘플수 : 98360\n"
     ]
    }
   ],
   "source": [
    "data.dropna(axis=0, inplace=True)\n",
    "print('전체 샘플수 :', (len(data)))"
   ]
  },
  {
   "cell_type": "code",
   "execution_count": 9,
   "id": "86082b38",
   "metadata": {
    "ExecuteTime": {
     "end_time": "2024-01-04T19:55:31.740398Z",
     "start_time": "2024-01-04T19:55:31.711889Z"
    }
   },
   "outputs": [
    {
     "name": "stdout",
     "output_type": "stream",
     "text": [
      "headlines    0\n",
      "text         0\n",
      "dtype: int64\n"
     ]
    }
   ],
   "source": [
    "print(data.isnull().sum())"
   ]
  },
  {
   "cell_type": "markdown",
   "id": "82ff8c80",
   "metadata": {},
   "source": [
    "- 중복된 데이터를 제거하여 중복된 데이터가 적절하게 처리된 것 같습니다.\n",
    "- 이제 텍스트의 길이를 통해 데이터 특성을 파악해보겠습니다."
   ]
  },
  {
   "cell_type": "markdown",
   "id": "d51d9bf7",
   "metadata": {},
   "source": [
    "### 헤드라인과 본문의 길이 파악"
   ]
  },
  {
   "cell_type": "code",
   "execution_count": 10,
   "id": "014f6df3",
   "metadata": {
    "ExecuteTime": {
     "end_time": "2024-01-04T19:55:32.132588Z",
     "start_time": "2024-01-04T19:55:31.742399Z"
    }
   },
   "outputs": [
    {
     "name": "stdout",
     "output_type": "stream",
     "text": [
      "헤드라인의 평균 길이: 9.553660024400163\n",
      "헤드라인의 최소 길이: 1\n",
      "헤드라인의 최대 길이: 18\n",
      "본문의 평균 길이: 58.23813542090281\n",
      "본문의 최소 길이: 1\n",
      "본문의 최대 길이: 91\n"
     ]
    }
   ],
   "source": [
    "# 헤드라인 및 본문의 단어 수 계산\n",
    "data['headline_word_count'] = data['headlines'].apply(lambda x: len(x.split()))\n",
    "data['text_word_count'] = data['text'].apply(lambda x: len(x.split()))\n",
    "\n",
    "# 헤드라인과 본문의 길이 분석 결과 출력\n",
    "print(\"헤드라인의 평균 길이:\", data['headline_word_count'].mean())\n",
    "print(\"헤드라인의 최소 길이:\", data['headline_word_count'].min())\n",
    "print(\"헤드라인의 최대 길이:\", data['headline_word_count'].max())\n",
    "\n",
    "print(\"본문의 평균 길이:\", data['text_word_count'].mean())\n",
    "print(\"본문의 최소 길이:\", data['text_word_count'].min())\n",
    "print(\"본문의 최대 길이:\", data['text_word_count'].max())"
   ]
  },
  {
   "cell_type": "markdown",
   "id": "bba8098d",
   "metadata": {},
   "source": [
    "- 일단 가장 눈에 띄는 특징은 두 컬럼 모두 최소길이가 1인 컬럼이 있다는 것입니다.\n",
    "- 단어수를 기준으로 했으니 1개의 단어만 있다는 것인데, 이 데이터가 같은 row일지, 제각각일지, 단어가 1개인 데이터는 무엇인지 확인해보겠습니다."
   ]
  },
  {
   "cell_type": "code",
   "execution_count": 11,
   "id": "bcf6bcd9",
   "metadata": {
    "ExecuteTime": {
     "end_time": "2024-01-04T19:55:32.524592Z",
     "start_time": "2024-01-04T19:55:32.134588Z"
    }
   },
   "outputs": [
    {
     "data": {
      "text/html": [
       "<div>\n",
       "<style scoped>\n",
       "    .dataframe tbody tr th:only-of-type {\n",
       "        vertical-align: middle;\n",
       "    }\n",
       "\n",
       "    .dataframe tbody tr th {\n",
       "        vertical-align: top;\n",
       "    }\n",
       "\n",
       "    .dataframe thead th {\n",
       "        text-align: right;\n",
       "    }\n",
       "</style>\n",
       "<table border=\"1\" class=\"dataframe\">\n",
       "  <thead>\n",
       "    <tr style=\"text-align: right;\">\n",
       "      <th></th>\n",
       "      <th>Headlines</th>\n",
       "      <th>Text</th>\n",
       "    </tr>\n",
       "  </thead>\n",
       "  <tbody>\n",
       "    <tr>\n",
       "      <th>52</th>\n",
       "      <td>headlines</td>\n",
       "      <td>text</td>\n",
       "    </tr>\n",
       "  </tbody>\n",
       "</table>\n",
       "</div>"
      ],
      "text/plain": [
       "    Headlines  Text\n",
       "52  headlines  text"
      ]
     },
     "execution_count": 11,
     "metadata": {},
     "output_type": "execute_result"
    }
   ],
   "source": [
    "# 길이가 1인 헤드라인과 본문 데이터 추출\n",
    "min_length_headlines = data[data['headlines'].apply(lambda x: len(x.split())) == 1]\n",
    "min_length_text = data[data['text'].apply(lambda x: len(x.split())) == 1]\n",
    "\n",
    "# 추출된 데이터를 DataFrame으로 표시\n",
    "df_min_length = pd.DataFrame({'Headlines': min_length_headlines['headlines'], 'Text': min_length_text['text']})\n",
    "\n",
    "# 최소 길이가 1인 데이터 확인\n",
    "df_min_length"
   ]
  },
  {
   "cell_type": "markdown",
   "id": "c9304b87",
   "metadata": {},
   "source": [
    "- 아마 샘플데이터여서 포함된 데이터같습니다. \n",
    "- 바로 drop해서 결측치를 처리하고 내용을 다시 확인하겠습니다."
   ]
  },
  {
   "cell_type": "code",
   "execution_count": 12,
   "id": "58b41710",
   "metadata": {
    "ExecuteTime": {
     "end_time": "2024-01-04T19:55:32.948147Z",
     "start_time": "2024-01-04T19:55:32.526595Z"
    }
   },
   "outputs": [
    {
     "name": "stdout",
     "output_type": "stream",
     "text": [
      "헤드라인의 평균 길이: 9.5537469880743\n",
      "헤드라인의 최소 길이: 3\n",
      "헤드라인의 최대 길이: 18\n",
      "본문의 평균 길이: 58.23871735174209\n",
      "본문의 최소 길이: 38\n",
      "본문의 최대 길이: 91\n"
     ]
    }
   ],
   "source": [
    "# 해당 데이터 삭제\n",
    "data.drop(min_length_headlines.index, inplace=True)\n",
    "# data.drop(min_length_text.index, inplace=True) # 같은 행이므로 위에서 이미 삭제됨\n",
    "\n",
    "# 헤드라인 및 본문의 단어 수 계산\n",
    "data['headline_word_count'] = data['headlines'].apply(lambda x: len(x.split()))\n",
    "data['text_word_count'] = data['text'].apply(lambda x: len(x.split()))\n",
    "\n",
    "# 헤드라인과 본문의 길이 분석 결과 출력\n",
    "print(\"헤드라인의 평균 길이:\", data['headline_word_count'].mean())\n",
    "print(\"헤드라인의 최소 길이:\", data['headline_word_count'].min())\n",
    "print(\"헤드라인의 최대 길이:\", data['headline_word_count'].max())\n",
    "\n",
    "print(\"본문의 평균 길이:\", data['text_word_count'].mean())\n",
    "print(\"본문의 최소 길이:\", data['text_word_count'].min())\n",
    "print(\"본문의 최대 길이:\", data['text_word_count'].max())"
   ]
  },
  {
   "cell_type": "markdown",
   "id": "13c971ba",
   "metadata": {},
   "source": [
    "- 이제 각 데이터의 분포를 시각화 해서 다시 살펴보겠습니다."
   ]
  },
  {
   "cell_type": "code",
   "execution_count": 13,
   "id": "0fe7d096",
   "metadata": {
    "ExecuteTime": {
     "end_time": "2024-01-04T19:55:33.295267Z",
     "start_time": "2024-01-04T19:55:32.950147Z"
    }
   },
   "outputs": [
    {
     "data": {
      "image/png": "[encoded data removed]",
      "text/plain": [
       "<Figure size 1200x600 with 2 Axes>"
      ]
     },
     "metadata": {},
     "output_type": "display_data"
    }
   ],
   "source": [
    "# 길이에 따른 분포 시각화\n",
    "plt.figure(figsize=(12, 6))\n",
    "\n",
    "# 헤드라인 길이 분포\n",
    "plt.subplot(1, 2, 1)\n",
    "plt.hist(data['headline_word_count'], bins=30, color='skyblue', edgecolor='black')\n",
    "plt.title('헤드라인 길이 분포')\n",
    "plt.xlabel('단어 수')\n",
    "plt.ylabel('빈도')\n",
    "\n",
    "# 본문 길이 분포\n",
    "plt.subplot(1, 2, 2)\n",
    "plt.hist(data['text_word_count'], bins=30, color='lightcoral', edgecolor='black')\n",
    "plt.title('본문 길이 분포')\n",
    "plt.xlabel('단어 수')\n",
    "plt.ylabel('빈도')\n",
    "\n",
    "plt.tight_layout()\n",
    "plt.show()"
   ]
  },
  {
   "cell_type": "markdown",
   "id": "d6c6a674",
   "metadata": {},
   "source": [
    "- 두 결과를 종합해보자면 아래와 같습니다.\n",
    "- 1) 헤드라인\n",
    "    - 헤드라인 단어수는 대부분 8~12 단어사이에 분포합니다.\n",
    "    - 평균길이는 9.55로, 본문의 평균길이를 생각하면 상당히 간결하게 요약을 잘 해둔 것 같습니다.\n",
    "    - 가장 짧은 헤드라인은 3개의 단어로 이뤄졌지만, 가장 긴 헤드라인은 18단어로 이뤄져 있기도 합니다.\n",
    "- 2) 본문\n",
    "    - 본문 단어수는 주로 50~70 개의 단어에 집중되어 있습니다.\n",
    "    - 평균길이는 약 58개의 단어로 구성되어 있어 상당히 긴 문장으로 구성되어 있음을 알 수 있습니다.\n",
    "    - 가장 짧은 본문도 38개의 단어로 되어있어 본문의 내용이 상당히 긴편임을 알 수 있습니다.\n",
    "    \n",
    "---\n",
    "\n",
    "- 🤔 요약모델을 만들기 위해 고려해야 할 것\n",
    "    - 길이 표준화\n",
    "        - 헤드라인과 본문 모두 길이가 비교적 일관적입니다.\n",
    "        - 너무 길거나 짧은 데이터만 제거해도 충분히 학습하기에 적절한 데이터가 될 수 있습니다.\n",
    "        - 최소길이와 최대길이의 편차가 그리 크지 않아 모델 학습에 큰 영향을 미치지는 않을 것 같습니다.\n",
    "        - 극단적으로 짧거나 긴 데이터를 제외하지 말고 단순히 모델이 처리할 수 있는 최대길이를 지정하는 것이 적절해 보입니다.\n",
    "        - 이를 통해 모델이 일정 길이의 텍스트를 출력하도록 할 수 있을 것 같습니다.   \n",
    "    - 기본적인 전처리\n",
    "        - 노이즈를 줄이기 위해 특수문자, 숫자, 불필요한 공백등을 제거해야 합니다."
   ]
  },
  {
   "cell_type": "markdown",
   "id": "c3a5d9dc",
   "metadata": {},
   "source": [
    "### 단어 빈도 분석\n",
    "\n",
    "- 자주 사용되는 단어들을 파악합니다.\n",
    "- 헤드라인과 본문에서도 각각 자주 사용되는 단어를 파악함으로 둘이 어떻게 다른 단어들을 사용하는지 파악해보겠습니다.\n",
    "- 대부분의 단어들이 불용어 위주로 최빈단어가 될 것이므로, 텍스트 정규화(Text Normalization)을 한 뒤에 빈도 분석을 진행하겠습니다."
   ]
  },
  {
   "cell_type": "markdown",
   "id": "d7dae96b",
   "metadata": {},
   "source": [
    "#### 텍스트 정규화 및 불용어 제거"
   ]
  },
  {
   "cell_type": "code",
   "execution_count": 14,
   "id": "703686d0",
   "metadata": {
    "ExecuteTime": {
     "end_time": "2024-01-04T19:55:33.325453Z",
     "start_time": "2024-01-04T19:55:33.301266Z"
    }
   },
   "outputs": [
    {
     "name": "stdout",
     "output_type": "stream",
     "text": [
      "정규화 사전의 수:  120\n"
     ]
    }
   ],
   "source": [
    "contractions = {\"ain't\": \"is not\", \"aren't\": \"are not\",\"can't\": \"cannot\", \"'cause\": \"because\", \"could've\": \"could have\", \"couldn't\": \"could not\",\n",
    "                           \"didn't\": \"did not\",  \"doesn't\": \"does not\", \"don't\": \"do not\", \"hadn't\": \"had not\", \"hasn't\": \"has not\", \"haven't\": \"have not\",\n",
    "                           \"he'd\": \"he would\",\"he'll\": \"he will\", \"he's\": \"he is\", \"how'd\": \"how did\", \"how'd'y\": \"how do you\", \"how'll\": \"how will\", \"how's\": \"how is\",\n",
    "                           \"I'd\": \"I would\", \"I'd've\": \"I would have\", \"I'll\": \"I will\", \"I'll've\": \"I will have\",\"I'm\": \"I am\", \"I've\": \"I have\", \"i'd\": \"i would\",\n",
    "                           \"i'd've\": \"i would have\", \"i'll\": \"i will\",  \"i'll've\": \"i will have\",\"i'm\": \"i am\", \"i've\": \"i have\", \"isn't\": \"is not\", \"it'd\": \"it would\",\n",
    "                           \"it'd've\": \"it would have\", \"it'll\": \"it will\", \"it'll've\": \"it will have\",\"it's\": \"it is\", \"let's\": \"let us\", \"ma'am\": \"madam\",\n",
    "                           \"mayn't\": \"may not\", \"might've\": \"might have\",\"mightn't\": \"might not\",\"mightn't've\": \"might not have\", \"must've\": \"must have\",\n",
    "                           \"mustn't\": \"must not\", \"mustn't've\": \"must not have\", \"needn't\": \"need not\", \"needn't've\": \"need not have\",\"o'clock\": \"of the clock\",\n",
    "                           \"oughtn't\": \"ought not\", \"oughtn't've\": \"ought not have\", \"shan't\": \"shall not\", \"sha'n't\": \"shall not\", \"shan't've\": \"shall not have\",\n",
    "                           \"she'd\": \"she would\", \"she'd've\": \"she would have\", \"she'll\": \"she will\", \"she'll've\": \"she will have\", \"she's\": \"she is\",\n",
    "                           \"should've\": \"should have\", \"shouldn't\": \"should not\", \"shouldn't've\": \"should not have\", \"so've\": \"so have\",\"so's\": \"so as\",\n",
    "                           \"this's\": \"this is\",\"that'd\": \"that would\", \"that'd've\": \"that would have\", \"that's\": \"that is\", \"there'd\": \"there would\",\n",
    "                           \"there'd've\": \"there would have\", \"there's\": \"there is\", \"here's\": \"here is\",\"they'd\": \"they would\", \"they'd've\": \"they would have\",\n",
    "                           \"they'll\": \"they will\", \"they'll've\": \"they will have\", \"they're\": \"they are\", \"they've\": \"they have\", \"to've\": \"to have\",\n",
    "                           \"wasn't\": \"was not\", \"we'd\": \"we would\", \"we'd've\": \"we would have\", \"we'll\": \"we will\", \"we'll've\": \"we will have\", \"we're\": \"we are\",\n",
    "                           \"we've\": \"we have\", \"weren't\": \"were not\", \"what'll\": \"what will\", \"what'll've\": \"what will have\", \"what're\": \"what are\",\n",
    "                           \"what's\": \"what is\", \"what've\": \"what have\", \"when's\": \"when is\", \"when've\": \"when have\", \"where'd\": \"where did\", \"where's\": \"where is\",\n",
    "                           \"where've\": \"where have\", \"who'll\": \"who will\", \"who'll've\": \"who will have\", \"who's\": \"who is\", \"who've\": \"who have\",\n",
    "                           \"why's\": \"why is\", \"why've\": \"why have\", \"will've\": \"will have\", \"won't\": \"will not\", \"won't've\": \"will not have\",\n",
    "                           \"would've\": \"would have\", \"wouldn't\": \"would not\", \"wouldn't've\": \"would not have\", \"y'all\": \"you all\",\n",
    "                           \"y'all'd\": \"you all would\",\"y'all'd've\": \"you all would have\",\"y'all're\": \"you all are\",\"y'all've\": \"you all have\",\n",
    "                           \"you'd\": \"you would\", \"you'd've\": \"you would have\", \"you'll\": \"you will\", \"you'll've\": \"you will have\",\n",
    "                           \"you're\": \"you are\", \"you've\": \"you have\"}\n",
    "\n",
    "print(\"정규화 사전의 수: \", len(contractions))"
   ]
  },
  {
   "cell_type": "code",
   "execution_count": 15,
   "id": "a343c302",
   "metadata": {
    "ExecuteTime": {
     "end_time": "2024-01-04T19:55:33.340453Z",
     "start_time": "2024-01-04T19:55:33.326454Z"
    }
   },
   "outputs": [
    {
     "name": "stdout",
     "output_type": "stream",
     "text": [
      "불용어 개수 : 179\n",
      "['i', 'me', 'my', 'myself', 'we', 'our', 'ours', 'ourselves', 'you', \"you're\", \"you've\", \"you'll\", \"you'd\", 'your', 'yours', 'yourself', 'yourselves', 'he', 'him', 'his', 'himself', 'she', \"she's\", 'her', 'hers', 'herself', 'it', \"it's\", 'its', 'itself', 'they', 'them', 'their', 'theirs', 'themselves', 'what', 'which', 'who', 'whom', 'this', 'that', \"that'll\", 'these', 'those', 'am', 'is', 'are', 'was', 'were', 'be', 'been', 'being', 'have', 'has', 'had', 'having', 'do', 'does', 'did', 'doing', 'a', 'an', 'the', 'and', 'but', 'if', 'or', 'because', 'as', 'until', 'while', 'of', 'at', 'by', 'for', 'with', 'about', 'against', 'between', 'into', 'through', 'during', 'before', 'after', 'above', 'below', 'to', 'from', 'up', 'down', 'in', 'out', 'on', 'off', 'over', 'under', 'again', 'further', 'then', 'once', 'here', 'there', 'when', 'where', 'why', 'how', 'all', 'any', 'both', 'each', 'few', 'more', 'most', 'other', 'some', 'such', 'no', 'nor', 'not', 'only', 'own', 'same', 'so', 'than', 'too', 'very', 's', 't', 'can', 'will', 'just', 'don', \"don't\", 'should', \"should've\", 'now', 'd', 'll', 'm', 'o', 're', 've', 'y', 'ain', 'aren', \"aren't\", 'couldn', \"couldn't\", 'didn', \"didn't\", 'doesn', \"doesn't\", 'hadn', \"hadn't\", 'hasn', \"hasn't\", 'haven', \"haven't\", 'isn', \"isn't\", 'ma', 'mightn', \"mightn't\", 'mustn', \"mustn't\", 'needn', \"needn't\", 'shan', \"shan't\", 'shouldn', \"shouldn't\", 'wasn', \"wasn't\", 'weren', \"weren't\", 'won', \"won't\", 'wouldn', \"wouldn't\"]\n"
     ]
    }
   ],
   "source": [
    "print('불용어 개수 :', len(stopwords.words('english') ))\n",
    "print(stopwords.words('english'))"
   ]
  },
  {
   "cell_type": "code",
   "execution_count": 16,
   "id": "86d0f3c4",
   "metadata": {
    "ExecuteTime": {
     "end_time": "2024-01-04T19:55:33.355456Z",
     "start_time": "2024-01-04T19:55:33.342453Z"
    }
   },
   "outputs": [],
   "source": [
    "# 데이터 전처리 함수\n",
    "def preprocess_sentence(sentence, remove_stopwords=True):\n",
    "    sentence = sentence.lower() # 텍스트 소문자화\n",
    "    sentence = BeautifulSoup(sentence, \"lxml\").text # <br />, <a href = ...> 등의 html 태그 제거\n",
    "    sentence = re.sub(r'\\([^)]*\\)', '', sentence) # 괄호로 닫힌 문자열 (...) 제거 Ex) my husband (and myself!) for => my husband for\n",
    "    sentence = re.sub('\"','', sentence) # 쌍따옴표 \" 제거\n",
    "    sentence = ' '.join([contractions[t] if t in contractions else t for t in sentence.split(\" \")]) # 약어 정규화\n",
    "    sentence = re.sub(r\"'s\\b\",\"\", sentence) # 소유격 제거. Ex) roland's -> roland\n",
    "    sentence = re.sub(\"[^a-zA-Z]\", \" \", sentence) # 영어 외 문자(숫자, 특수문자 등) 공백으로 변환\n",
    "    sentence = re.sub('[m]{2,}', 'mm', sentence) # m이 3개 이상이면 2개로 변경. Ex) ummmmmmm yeah -> umm yeah\n",
    "    \n",
    "    # 불용어 제거 (Text)\n",
    "    if remove_stopwords:\n",
    "        tokens = ' '.join(word for word in sentence.split() if not word in stopwords.words('english') if len(word) > 1)\n",
    "    # 불용어 미제거 (Summary)\n",
    "    else:\n",
    "        tokens = ' '.join(word for word in sentence.split() if len(word) > 1)\n",
    "    return tokens"
   ]
  },
  {
   "cell_type": "code",
   "execution_count": 17,
   "id": "8a01c0ba",
   "metadata": {
    "ExecuteTime": {
     "end_time": "2024-01-04T20:22:19.751107Z",
     "start_time": "2024-01-04T19:55:33.357457Z"
    }
   },
   "outputs": [
    {
     "name": "stdout",
     "output_type": "stream",
     "text": [
      "text 전처리 후 결과:  ['saurav kant alumnus upgrad iiit pg program machine learning artificial intelligence sr systems engineer infosys almost years work experience program upgrad degree career support helped transition data scientist tech mahindra salary hike upgrad online power learning powered lakh careers', 'kunal shah credit card bill payment platform cred gave users chance win free food swiggy one year pranav kaushik delhi techie bagged reward spending cred coins users get one cred coin per rupee bill paid used avail rewards brands like ixigo bookmyshow ubereats cult fit', 'new zealand defeated india wickets fourth odi hamilton thursday win first match five match odi series india lost international match rohit sharma captaincy consecutive victories dating back march match witnessed india getting seventh lowest total odi cricket history', 'aegon life iterm insurance plan customers enjoy tax benefits premiums paid save taxes plan provides life cover age years also customers options insure critical illnesses disability accidental death benefit rider life cover age years', 'speaking sexual harassment allegations rajkumar hirani sonam kapoor said known hirani many years true metoo movement get derailed metoo movement always believe woman case need reserve judgment added hirani accused assistant worked sanju']\n"
     ]
    }
   ],
   "source": [
    "# 전체 text 컬럼의 데이터에 대한 전처리\n",
    "clean_text = [preprocess_sentence(text) for text in data['text']]\n",
    "\n",
    "# 전처리 후 출력\n",
    "print(\"text 전처리 후 결과: \", clean_text[:5])"
   ]
  },
  {
   "cell_type": "code",
   "execution_count": 18,
   "id": "664c4757",
   "metadata": {
    "ExecuteTime": {
     "end_time": "2024-01-04T20:22:33.695343Z",
     "start_time": "2024-01-04T20:22:19.753112Z"
    }
   },
   "outputs": [
    {
     "name": "stdout",
     "output_type": "stream",
     "text": [
      "headlines 전처리 후 결과:  ['upgrad learner switches to career in ml al with salary hike', 'delhi techie wins free food from swiggy for one year on cred', 'new zealand end rohit sharma led india match winning streak', 'aegon life iterm insurance plan helps customers save tax', 'have known hirani for yrs what if metoo claims are not true sonam']\n"
     ]
    }
   ],
   "source": [
    "# 전체 headlines 컬럼의 데이터에 대한 전처리\n",
    "clean_headlines = [preprocess_sentence(headlines, False) for headlines in data['headlines'].fillna('')]\n",
    "\n",
    "print(\"headlines 전처리 후 결과: \", clean_headlines[:5])"
   ]
  },
  {
   "cell_type": "code",
   "execution_count": 21,
   "id": "e8b89536",
   "metadata": {
    "ExecuteTime": {
     "end_time": "2024-01-04T21:02:14.080813Z",
     "start_time": "2024-01-04T21:02:14.023245Z"
    }
   },
   "outputs": [],
   "source": [
    "# 데이터프레임에 'text' 열과 'headlines' 열에 정제된 텍스트를 할당\n",
    "data['text'] = clean_text\n",
    "data['headlines'] = clean_headlines\n",
    "\n",
    "# 빈 값을 Null 값으로 변환\n",
    "data.replace('', np.nan, inplace=True)"
   ]
  },
  {
   "cell_type": "code",
   "execution_count": 22,
   "id": "c89332d7",
   "metadata": {
    "ExecuteTime": {
     "end_time": "2024-01-04T21:02:18.399428Z",
     "start_time": "2024-01-04T21:02:18.368425Z"
    }
   },
   "outputs": [
    {
     "data": {
      "text/plain": [
       "headlines              0\n",
       "text                   0\n",
       "headline_word_count    0\n",
       "text_word_count        0\n",
       "dtype: int64"
      ]
     },
     "execution_count": 22,
     "metadata": {},
     "output_type": "execute_result"
    }
   ],
   "source": [
    "# Null값 유무 확인\n",
    "data.isnull().sum()"
   ]
  },
  {
   "cell_type": "markdown",
   "id": "b48ef758",
   "metadata": {},
   "source": [
    "- 정규화 과정을 거쳤지만 데이터에서 처리되어 null이 발생된 데이터는 없었습니다.\n",
    "- 헤드라인의 경우만 해도 최소단어수가 3개였을 정도로 데이터의 구성에서 길이가 짧지 않아 이런 과정에서도 살아남은 것 같습니다."
   ]
  },
  {
   "cell_type": "code",
   "execution_count": 25,
   "id": "85907a0a",
   "metadata": {
    "ExecuteTime": {
     "end_time": "2024-01-04T21:05:36.297697Z",
     "start_time": "2024-01-04T21:05:35.527820Z"
    }
   },
   "outputs": [],
   "source": [
    "# 정규화한 데이터 세이브\n",
    "processed_data = data.copy()\n",
    "\n",
    "processed_data.to_csv('processed_data.csv', index=False)"
   ]
  },
  {
   "cell_type": "code",
   "execution_count": 45,
   "id": "109be97c",
   "metadata": {
    "ExecuteTime": {
     "end_time": "2024-01-04T21:40:42.614963Z",
     "start_time": "2024-01-04T21:40:42.223101Z"
    }
   },
   "outputs": [],
   "source": [
    "data = pd.read_csv('processed_data.csv')"
   ]
  },
  {
   "cell_type": "code",
   "execution_count": 63,
   "id": "87b7aa86",
   "metadata": {
    "ExecuteTime": {
     "end_time": "2024-01-04T21:59:12.677593Z",
     "start_time": "2024-01-04T21:59:12.078493Z"
    }
   },
   "outputs": [
    {
     "data": {
      "image/png": "[encoded data removed]",
      "text/plain": [
       "<Figure size 1400x500 with 2 Axes>"
      ]
     },
     "metadata": {},
     "output_type": "display_data"
    }
   ],
   "source": [
    "# Seaborn 스타일 설정\n",
    "sns.set_style(\"whitegrid\")\n",
    "\n",
    "top_n = 20\n",
    "\n",
    "# 1행에 2개의 그래프를 시각화하기 위한 서브플롯 설정\n",
    "fig, axes = plt.subplots(1, 2, figsize=(14, 5))\n",
    "\n",
    "# 첫 번째 컬럼의 최빈단어 시각화 (가로 막대 그래프)\n",
    "sns.barplot(y=list(words_text), x=list(counts_text), ax=axes[0], orient='h')\n",
    "axes[0].set_title('Top-{} Most Frequent Words in Text'.format(top_n))\n",
    "axes[0].set_xlabel('Frequency')\n",
    "axes[0].set_ylabel('Words')\n",
    "\n",
    "# 두 컬럼에서 공통으로 등장하는 최빈단어 시각화 (가로 막대 그래프)\n",
    "sns.barplot(y=list(words_keywords), x=list(counts_keywords), ax=axes[1], orient='h')\n",
    "axes[1].set_title('Top-{} Most Frequent Common Words'.format(top_n))\n",
    "axes[1].set_xlabel('Frequency')\n",
    "axes[1].set_ylabel('Words')\n",
    "\n",
    "plt.tight_layout()\n",
    "plt.show()"
   ]
  },
  {
   "cell_type": "markdown",
   "id": "cbf55c91",
   "metadata": {},
   "source": [
    "- 본문쪽에 텍스트 정규화를 하고 나니 다양한 텍스트들의 빈도가 높게 나타납니다.\n",
    "- 다양한 단어들이 골고루 사용되고 있음을 확인했으므로, 이제는 학습용 데이터로 가공을 해보겠습니다."
   ]
  },
  {
   "cell_type": "markdown",
   "id": "b1abc590",
   "metadata": {},
   "source": [
    "## Train/Test Split\n",
    "\n",
    "- 모델에 데이터를 입력하기 위해 학습에 사용할 데이터 크기를 정의하고, 문장의 시작과 끝을 표시해줘야 합니다.\n",
    "- 문장의 시작과 끝을 표시해줘야 하는 이유는 앞서 정리한대로 seq2seq모델의 특징상 SOS, EOS 토큰을 함께 입력해 모델에게 입/출력의 경계를 알려주고 시퀀스 생성과정을 제어할 수 있도록 합니다."
   ]
  },
  {
   "cell_type": "markdown",
   "id": "be5886af",
   "metadata": {},
   "source": [
    "### 샘플 최대 길이 구하기\n",
    "\n",
    "- 위에서 했던 분석의 반복이 일부 있긴하지만, text와 headlines 컬럼별로 최소, 최대, 평균 길이를 구하고 시각화 합니다."
   ]
  },
  {
   "cell_type": "code",
   "execution_count": 64,
   "id": "66570177",
   "metadata": {
    "ExecuteTime": {
     "end_time": "2024-01-04T21:59:14.879198Z",
     "start_time": "2024-01-04T21:59:12.680593Z"
    }
   },
   "outputs": [
    {
     "name": "stdout",
     "output_type": "stream",
     "text": [
      "텍스트의 최소 길이 : 18\n",
      "텍스트의 최대 길이 : 60\n",
      "텍스트의 평균 길이 : 35.10003151719721\n",
      "헤드라인의 최소 길이 : 3\n",
      "헤드라인의 최대 길이 : 16\n",
      "헤드라인의 평균 길이 : 9.299616710214622\n"
     ]
    },
    {
     "data": {
      "image/png": "[encoded data removed]",
      "text/plain": [
       "<Figure size 640x480 with 2 Axes>"
      ]
     },
     "metadata": {},
     "output_type": "display_data"
    },
    {
     "data": {
      "image/png": "[encoded data removed]",
      "text/plain": [
       "<Figure size 640x480 with 1 Axes>"
      ]
     },
     "metadata": {},
     "output_type": "display_data"
    },
    {
     "data": {
      "image/png": "[encoded data removed]",
      "text/plain": [
       "<Figure size 640x480 with 1 Axes>"
      ]
     },
     "metadata": {},
     "output_type": "display_data"
    }
   ],
   "source": [
    "# 데이터셋에서 각 텍스트 샘플의 단어 수를 리스트에 저장\n",
    "text_len = [len(s.split()) for s in data['text']]\n",
    "# 데이터셋에서 각 헤드라인 샘플의 단어 수를 리스트에 저장\n",
    "headlines_len = [len(s.split()) for s in data['headlines']]\n",
    "\n",
    "# 텍스트 데이터의 최소, 최대, 평균 길이 출력\n",
    "print('텍스트의 최소 길이 : {}'.format(np.min(text_len)))\n",
    "print('텍스트의 최대 길이 : {}'.format(np.max(text_len)))\n",
    "print('텍스트의 평균 길이 : {}'.format(np.mean(text_len)))\n",
    "# 헤드라인 데이터의 최소, 최대, 평균 길이 출력\n",
    "print('헤드라인의 최소 길이 : {}'.format(np.min(headlines_len)))\n",
    "print('헤드라인의 최대 길이 : {}'.format(np.max(headlines_len)))\n",
    "print('헤드라인의 평균 길이 : {}'.format(np.mean(headlines_len)))\n",
    "\n",
    "# 박스 플롯 그래프로 텍스트 데이터 및 헤드라인 데이터의 길이 분포 시각화\n",
    "plt.subplot(1,2,1)\n",
    "plt.boxplot(text_len)\n",
    "plt.title('text')\n",
    "plt.subplot(1,2,2)\n",
    "plt.boxplot(headlines_len)\n",
    "plt.title('headlines')\n",
    "plt.tight_layout()\n",
    "plt.show()\n",
    "\n",
    "# 히스토그램 그래프로 텍스트 데이터 및 헤드라인 데이터의 길이 분포 시각화\n",
    "plt.title('text')\n",
    "plt.hist(text_len, bins = 40)\n",
    "plt.xlabel('length of samples')\n",
    "plt.ylabel('number of samples')\n",
    "plt.show()\n",
    "\n",
    "plt.title('headlines')\n",
    "plt.hist(headlines_len, bins = 40)\n",
    "plt.xlabel('length of samples')\n",
    "plt.ylabel('number of samples')\n",
    "plt.show()"
   ]
  },
  {
   "cell_type": "markdown",
   "id": "7365d9d9",
   "metadata": {},
   "source": [
    "- 위 분석 결과를 바탕으로 볼때 텍스트와 헤드라인의 최대 길이를 아래와 같이 설정합니다.\n",
    "---\n",
    "\n",
    "- 텍스트 최대 길이:\n",
    "    - 제공된 텍스트 길이 분포 이미지를 보면 대부분의 텍스트가 20에서 50단어 사이에 분포하고 있는 것으로 보입니다.\n",
    "    - 박스 플롯에서 상자의 윗부분(3사분위수)이 대략 40단어 정도로 보이며, 이를 고려하여 약간의 여유를 두고 50단어를 최대 길이로 설정할 수 있습니다.\n",
    "\n",
    "- 헤드라인 최대 길이:\n",
    "    - 헤드라인 길이 분포 이미지에 따르면 대부분의 헤드라인이 4에서 12단어 사이에 분포하고 있습니다.\n",
    "    - 박스 플롯에서 헤드라인의 상자가 6단어에서 11단어 사이에 위치해 있으며, 이를 기준으로 최대 길이를 정하면 약 12단어에서 14단어 사이가 적절할 수 있습니다.\n",
    "\n",
    "---\n",
    "- 따라서, 텍스트의 적절한 최대 길이는 50단어, 헤드라인의 적절한 최대 길이는 12~14단어 정도(이므로 13)가 될 것 같습니다.\n",
    "- 이는 대부분의 데이터를 포괄할 수 있으면서도, 모델이 효율적으로 학습할 수 있는 범위를 제공합니다."
   ]
  },
  {
   "cell_type": "code",
   "execution_count": 65,
   "id": "ffe97524",
   "metadata": {
    "ExecuteTime": {
     "end_time": "2024-01-04T21:59:14.894451Z",
     "start_time": "2024-01-04T21:59:14.881198Z"
    }
   },
   "outputs": [],
   "source": [
    "# 텍스트의 최대 길이를 50으로 설정\n",
    "text_max_len = 50\n",
    "\n",
    "# 헤드라인의 최대 길이를 13로 설정\n",
    "headlines_max_len = 13"
   ]
  },
  {
   "cell_type": "markdown",
   "id": "293dd88b",
   "metadata": {},
   "source": [
    "- 실습때와 마찬가지로 최대길이 설정에 따라 얼마나 많은 샘플들이 필터링 될 수 있는지 통계적으로 확인합니다."
   ]
  },
  {
   "cell_type": "code",
   "execution_count": 66,
   "id": "c593340d",
   "metadata": {
    "ExecuteTime": {
     "end_time": "2024-01-04T21:59:14.909957Z",
     "start_time": "2024-01-04T21:59:14.897452Z"
    }
   },
   "outputs": [],
   "source": [
    "# 주어진 최대 길이(max_len) 이하의 문자열 개수를 세는 함수\n",
    "def below_threshold_len(max_len, nested_list):\n",
    "    # 변수 초기화: 길이가 max_len 이하인 문자열 개수를 저장할 변수 cnt\n",
    "    cnt = 0\n",
    "    \n",
    "    # 주어진 nested_list 내의 각 문자열(s)에 대한 반복문\n",
    "    for s in nested_list:\n",
    "        # 조건 확인: 문자열을 공백을 기준으로 분리하여 단어 개수가 max_len 이하인 경우\n",
    "        if len(s.split()) <= max_len:\n",
    "            # 변수 갱신: cnt를 1 증가시킴\n",
    "            cnt = cnt + 1\n",
    "    \n",
    "    # 결과 계산: 길이가 max_len 이하인 문자열의 비율을 계산하여 ratio 변수에 저장\n",
    "    ratio = (cnt / len(nested_list)) * 100  # 비율을 백분율로 변환\n",
    "    \n",
    "    # 결과 출력: 백분율로 출력\n",
    "    print(f'전체 샘플 중 길이가 {max_len} 이하인 샘플의 비율: {ratio:.2f}%')"
   ]
  },
  {
   "cell_type": "code",
   "execution_count": 67,
   "id": "7000e439",
   "metadata": {
    "ExecuteTime": {
     "end_time": "2024-01-04T21:59:15.181027Z",
     "start_time": "2024-01-04T21:59:14.911958Z"
    }
   },
   "outputs": [
    {
     "name": "stdout",
     "output_type": "stream",
     "text": [
      "전체 샘플 중 길이가 50 이하인 샘플의 비율: 99.99%\n",
      "전체 샘플 중 길이가 13 이하인 샘플의 비율: 99.82%\n"
     ]
    }
   ],
   "source": [
    "below_threshold_len(text_max_len, data['text'])\n",
    "below_threshold_len(headlines_max_len,  data['headlines'])"
   ]
  },
  {
   "cell_type": "markdown",
   "id": "bbd17dc6",
   "metadata": {},
   "source": [
    "- 대부분의 샘플이 원래 데이터의 대부분의 정보를 보유한채로 패딩이 가능할 것으로 보입니다.\n",
    "- 그래도, 최대한 정보 보전을 하기 위해 실습때와 마찬가지로 정해진 길이보다 길면 제외하는 방식으로 전처리를 하겠습니다."
   ]
  },
  {
   "cell_type": "code",
   "execution_count": 68,
   "id": "11646209",
   "metadata": {
    "ExecuteTime": {
     "end_time": "2024-01-04T21:59:15.467354Z",
     "start_time": "2024-01-04T21:59:15.184028Z"
    }
   },
   "outputs": [
    {
     "name": "stdout",
     "output_type": "stream",
     "text": [
      "전체 샘플수 : 98165\n"
     ]
    }
   ],
   "source": [
    "data = data[data['text'].apply(lambda x: len(x.split()) <= text_max_len) & data['headlines'].apply(lambda x: len(x.split()) <= headlines_max_len)]\n",
    "\n",
    "print('전체 샘플수 :', (len(data)))"
   ]
  },
  {
   "cell_type": "markdown",
   "id": "573f494a",
   "metadata": {},
   "source": [
    "- 최초의 데이터 수가 98360개였음을 감안하면 대부분의 데이터를 살리면서 사용할 수 있도록 안정적으로 전처리가 된것 같습니다."
   ]
  },
  {
   "cell_type": "markdown",
   "id": "ce606811",
   "metadata": {},
   "source": [
    "### 시작 토큰 & 종료 토큰 추가하기\n",
    "\n",
    "![시작토큰](https://d3s0tskafalll9.cloudfront.net/media/original_images/E-21-4.png)\n",
    "\n",
    "- Decoder는 SOS를 입력받아 문장을 생성하기 시작하고, EOS 토큰을 예측한 순간에 문장 생성을 멈추는 방식으로 작동합니다.\n",
    "- seq2seq 훈련을 위해 Decoder의 입력과 레이블에 SOS, EOS를 추가해줘야 합니다.\n",
    "- 시작 토큰을 `sostoken`, 종료 토큰을 `eostoken`이라 명명하고 앞뒤로 추가하겠습니다.\n",
    "- Decoder의 입력이면서 `sostoken`이 맨 앞에 있는 문장은 `decoder_input`\n",
    "- Decoder의 출력 또는 레이블에 해당되면서 `eostoken`이 맨 뒤에 붙는 문장은 `decoder_target` 이라 명명합니다.\n",
    "- 두 문장 모두 Summary 컬럼에서 추출하여 생성합니다.\n",
    "    - seq2seq 모델이 문장을 '요약' 하는 작업을 수행하기 때문에 그 요약할 문장을 학습해야 제대로 된 요약을 할 수 있기 때문입니다."
   ]
  },
  {
   "cell_type": "code",
   "execution_count": 69,
   "id": "d927f2e5",
   "metadata": {
    "ExecuteTime": {
     "end_time": "2024-01-04T21:59:15.527465Z",
     "start_time": "2024-01-04T21:59:15.469353Z"
    }
   },
   "outputs": [
    {
     "data": {
      "text/html": [
       "<div>\n",
       "<style scoped>\n",
       "    .dataframe tbody tr th:only-of-type {\n",
       "        vertical-align: middle;\n",
       "    }\n",
       "\n",
       "    .dataframe tbody tr th {\n",
       "        vertical-align: top;\n",
       "    }\n",
       "\n",
       "    .dataframe thead th {\n",
       "        text-align: right;\n",
       "    }\n",
       "</style>\n",
       "<table border=\"1\" class=\"dataframe\">\n",
       "  <thead>\n",
       "    <tr style=\"text-align: right;\">\n",
       "      <th></th>\n",
       "      <th>headlines</th>\n",
       "      <th>text</th>\n",
       "      <th>headline_word_count</th>\n",
       "      <th>text_word_count</th>\n",
       "      <th>decoder_input</th>\n",
       "      <th>decoder_target</th>\n",
       "    </tr>\n",
       "  </thead>\n",
       "  <tbody>\n",
       "    <tr>\n",
       "      <th>0</th>\n",
       "      <td>upgrad learner switches to career in ml al wit...</td>\n",
       "      <td>saurav kant alumnus upgrad iiit pg program mac...</td>\n",
       "      <td>13</td>\n",
       "      <td>60</td>\n",
       "      <td>sostoken upgrad learner switches to career in ...</td>\n",
       "      <td>upgrad learner switches to career in ml al wit...</td>\n",
       "    </tr>\n",
       "    <tr>\n",
       "      <th>1</th>\n",
       "      <td>delhi techie wins free food from swiggy for on...</td>\n",
       "      <td>kunal shah credit card bill payment platform c...</td>\n",
       "      <td>12</td>\n",
       "      <td>60</td>\n",
       "      <td>sostoken delhi techie wins free food from swig...</td>\n",
       "      <td>delhi techie wins free food from swiggy for on...</td>\n",
       "    </tr>\n",
       "    <tr>\n",
       "      <th>2</th>\n",
       "      <td>new zealand end rohit sharma led india match w...</td>\n",
       "      <td>new zealand defeated india wickets fourth odi ...</td>\n",
       "      <td>9</td>\n",
       "      <td>60</td>\n",
       "      <td>sostoken new zealand end rohit sharma led indi...</td>\n",
       "      <td>new zealand end rohit sharma led india match w...</td>\n",
       "    </tr>\n",
       "    <tr>\n",
       "      <th>3</th>\n",
       "      <td>aegon life iterm insurance plan helps customer...</td>\n",
       "      <td>aegon life iterm insurance plan customers enjo...</td>\n",
       "      <td>9</td>\n",
       "      <td>60</td>\n",
       "      <td>sostoken aegon life iterm insurance plan helps...</td>\n",
       "      <td>aegon life iterm insurance plan helps customer...</td>\n",
       "    </tr>\n",
       "    <tr>\n",
       "      <th>4</th>\n",
       "      <td>have known hirani for yrs what if metoo claims...</td>\n",
       "      <td>speaking sexual harassment allegations rajkuma...</td>\n",
       "      <td>13</td>\n",
       "      <td>60</td>\n",
       "      <td>sostoken have known hirani for yrs what if met...</td>\n",
       "      <td>have known hirani for yrs what if metoo claims...</td>\n",
       "    </tr>\n",
       "  </tbody>\n",
       "</table>\n",
       "</div>"
      ],
      "text/plain": [
       "                                           headlines  \\\n",
       "0  upgrad learner switches to career in ml al wit...   \n",
       "1  delhi techie wins free food from swiggy for on...   \n",
       "2  new zealand end rohit sharma led india match w...   \n",
       "3  aegon life iterm insurance plan helps customer...   \n",
       "4  have known hirani for yrs what if metoo claims...   \n",
       "\n",
       "                                                text  headline_word_count  \\\n",
       "0  saurav kant alumnus upgrad iiit pg program mac...                   13   \n",
       "1  kunal shah credit card bill payment platform c...                   12   \n",
       "2  new zealand defeated india wickets fourth odi ...                    9   \n",
       "3  aegon life iterm insurance plan customers enjo...                    9   \n",
       "4  speaking sexual harassment allegations rajkuma...                   13   \n",
       "\n",
       "   text_word_count                                      decoder_input  \\\n",
       "0               60  sostoken upgrad learner switches to career in ...   \n",
       "1               60  sostoken delhi techie wins free food from swig...   \n",
       "2               60  sostoken new zealand end rohit sharma led indi...   \n",
       "3               60  sostoken aegon life iterm insurance plan helps...   \n",
       "4               60  sostoken have known hirani for yrs what if met...   \n",
       "\n",
       "                                      decoder_target  \n",
       "0  upgrad learner switches to career in ml al wit...  \n",
       "1  delhi techie wins free food from swiggy for on...  \n",
       "2  new zealand end rohit sharma led india match w...  \n",
       "3  aegon life iterm insurance plan helps customer...  \n",
       "4  have known hirani for yrs what if metoo claims...  "
      ]
     },
     "execution_count": 69,
     "metadata": {},
     "output_type": "execute_result"
    }
   ],
   "source": [
    "# 요약 데이터에는 시작 토큰과 종료 토큰을 추가한다.\n",
    "data['decoder_input'] = data['headlines'].apply(lambda x : 'sostoken '+ x)\n",
    "data['decoder_target'] = data['headlines'].apply(lambda x : x + ' eostoken')\n",
    "data.head()"
   ]
  },
  {
   "cell_type": "markdown",
   "id": "af6ea7d2",
   "metadata": {},
   "source": [
    "- 문장의 앞뒤로 토큰이 잘 입력된 것을 확인할 수 있습니다.\n",
    "- 이번에는 Encoder의 입력, Decoder의 입력 레이블을 각각 Numpy 타입으로 저장합니다."
   ]
  },
  {
   "cell_type": "code",
   "execution_count": 70,
   "id": "a3b0d10e",
   "metadata": {
    "ExecuteTime": {
     "end_time": "2024-01-04T21:59:15.557973Z",
     "start_time": "2024-01-04T21:59:15.530466Z"
    }
   },
   "outputs": [],
   "source": [
    "encoder_input = np.array(data['text']) # 인코더의 입력\n",
    "decoder_input = np.array(data['decoder_input']) # 디코더의 입력\n",
    "decoder_target = np.array(data['decoder_target']) # 디코더의 레이블"
   ]
  },
  {
   "cell_type": "markdown",
   "id": "d43a01fe",
   "metadata": {},
   "source": [
    "- 이제 훈련데이터를 분리하기 위한 모든 전처리를 마쳤습니다.\n",
    "- `encoder_input`과 크기 & 형태가 같은 순서가 섞인 정수 시퀀스를 생성해서 직접 데이터를 분할해보겠습니다."
   ]
  },
  {
   "cell_type": "code",
   "execution_count": 71,
   "id": "cd97f41f",
   "metadata": {
    "ExecuteTime": {
     "end_time": "2024-01-04T21:59:15.572974Z",
     "start_time": "2024-01-04T21:59:15.559973Z"
    }
   },
   "outputs": [
    {
     "name": "stdout",
     "output_type": "stream",
     "text": [
      "[26473 77448 71529 ... 86235 88453 35506]\n"
     ]
    }
   ],
   "source": [
    "indices = np.arange(encoder_input.shape[0])\n",
    "np.random.shuffle(indices)\n",
    "print(indices)"
   ]
  },
  {
   "cell_type": "markdown",
   "id": "88c75816",
   "metadata": {},
   "source": [
    "- 이 정수 시퀀스를 사용해 데이터의 샘플 순서를 정의해 잘 섞인 샘플 데이터를 만듭니다."
   ]
  },
  {
   "cell_type": "code",
   "execution_count": 72,
   "id": "e58fda7b",
   "metadata": {
    "ExecuteTime": {
     "end_time": "2024-01-04T21:59:15.602973Z",
     "start_time": "2024-01-04T21:59:15.577974Z"
    }
   },
   "outputs": [],
   "source": [
    "encoder_input = encoder_input[indices]\n",
    "decoder_input = decoder_input[indices]\n",
    "decoder_target = decoder_target[indices]"
   ]
  },
  {
   "cell_type": "markdown",
   "id": "23ff9cec",
   "metadata": {},
   "source": [
    "- 이제 잘 섞인 데이터를 8:2 비율로 각각 훈련데이터와 테스트 데이터로 분리합니다."
   ]
  },
  {
   "cell_type": "code",
   "execution_count": 73,
   "id": "18a0691e",
   "metadata": {
    "ExecuteTime": {
     "end_time": "2024-01-04T21:59:15.617979Z",
     "start_time": "2024-01-04T21:59:15.604975Z"
    }
   },
   "outputs": [
    {
     "name": "stdout",
     "output_type": "stream",
     "text": [
      "테스트 데이터의 수 : 19633\n"
     ]
    }
   ],
   "source": [
    "n_of_val = int(len(encoder_input)*0.2)\n",
    "print('테스트 데이터의 수 :', n_of_val)"
   ]
  },
  {
   "cell_type": "markdown",
   "id": "fdebef2e",
   "metadata": {},
   "source": [
    "- 이제 정의된 테스트 데이터의 개수를 기반으로 전체 데이터를 분리합니다."
   ]
  },
  {
   "cell_type": "code",
   "execution_count": 74,
   "id": "b3b1f840",
   "metadata": {
    "ExecuteTime": {
     "end_time": "2024-01-04T21:59:15.647684Z",
     "start_time": "2024-01-04T21:59:15.619977Z"
    }
   },
   "outputs": [
    {
     "name": "stdout",
     "output_type": "stream",
     "text": [
      "훈련 데이터의 개수 : 78532\n",
      "훈련 레이블의 개수 : 78532\n",
      "테스트 데이터의 개수 : 19633\n",
      "테스트 레이블의 개수 : 19633\n"
     ]
    }
   ],
   "source": [
    "# 훈련 데이터와 테스트 데이터로 데이터를 분할합니다.\n",
    "# n_of_val 변수는 테스트 데이터의 개수를 나타냅니다.\n",
    "\n",
    "# 훈련 데이터와 훈련 레이블을 생성합니다.\n",
    "encoder_input_train = encoder_input[:-n_of_val]\n",
    "decoder_input_train = decoder_input[:-n_of_val]\n",
    "decoder_target_train = decoder_target[:-n_of_val]\n",
    "\n",
    "# 테스트 데이터와 테스트 레이블을 생성합니다.\n",
    "encoder_input_test = encoder_input[-n_of_val:]\n",
    "decoder_input_test = decoder_input[-n_of_val:]\n",
    "decoder_target_test = decoder_target[-n_of_val:]\n",
    "\n",
    "# 생성된 훈련 데이터와 테스트 데이터의 개수를 출력합니다.\n",
    "print('훈련 데이터의 개수 :', len(encoder_input_train))\n",
    "print('훈련 레이블의 개수 :', len(decoder_input_train))\n",
    "print('테스트 데이터의 개수 :', len(encoder_input_test))\n",
    "print('테스트 레이블의 개수 :', len(decoder_input_test))"
   ]
  },
  {
   "cell_type": "markdown",
   "id": "6bc71c7a",
   "metadata": {},
   "source": [
    "- 훈련 데이터와 테스트 데이터가 8:2 비율로 잘 나눠진 것을 확인할 수 있습니다."
   ]
  },
  {
   "cell_type": "markdown",
   "id": "9daf1291",
   "metadata": {},
   "source": [
    "## 정수 인코딩\n",
    "\n",
    "### 단어 사전(vocabulary) 만들기 및 정수 인코딩\n",
    "- 이제는 기계가 텍스트를 인식하고 처리할 수 있게 숫자로 변경해야 합니다.\n",
    "- 이를 단어 사전(vocabulary)를 만든다고 합니다.\n",
    "- 일단, 훈련데이터에 대한 단어사전을 생성합니다.\n",
    "- 원문 데이터가 담긴 `encoder_input_train` 의 단어사전을 생성합니다."
   ]
  },
  {
   "cell_type": "code",
   "execution_count": 75,
   "id": "2c575b90",
   "metadata": {
    "ExecuteTime": {
     "end_time": "2024-01-04T21:59:18.135554Z",
     "start_time": "2024-01-04T21:59:15.649683Z"
    }
   },
   "outputs": [],
   "source": [
    "# 토크나이저 객체 생성\n",
    "src_tokenizer = Tokenizer()  # Tokenizer 객체를 정의\n",
    "\n",
    "# 입력 데이터(encoder_input_train)를 사용하여 단어 집합 생성\n",
    "src_tokenizer.fit_on_texts(encoder_input_train)\n",
    "# fit_on_texts 메서드를 사용하여 입력 데이터를 토크나이저에 적용하여 단어 집합을 생성"
   ]
  },
  {
   "cell_type": "markdown",
   "id": "2d53b910",
   "metadata": {},
   "source": [
    "- Keras의 토크나이저를 사요해서 입력된 훈련데이터에 대한 단어집합을 만들었습니다.\n",
    "- 이 단어집합이 생성되면 각 단어에 고유한 정수가 부여됩니다.\n",
    "- 해당 단어 집합은 `src_tokenizer.word_index` 에 저장되어 있습니다.\n",
    "\n",
    "---\n",
    "\n",
    "- 일단, 학습 전에 빈도수가 낮은 단어들을 훈련 데이터에서 제외하고 진행합니다.\n",
    "- 등장 횟수 13회 미만 단어가 현재 데이터에서 얼마나 큰 비중을 차지하는지 확인해봅니다."
   ]
  },
  {
   "cell_type": "code",
   "execution_count": 83,
   "id": "4cd85f40",
   "metadata": {
    "ExecuteTime": {
     "end_time": "2024-01-04T22:02:16.045014Z",
     "start_time": "2024-01-04T22:02:16.011508Z"
    }
   },
   "outputs": [
    {
     "name": "stdout",
     "output_type": "stream",
     "text": [
      "단어 집합(vocabulary)의 크기 : 69552\n",
      "등장 빈도가 12번 이하인 희귀 단어의 수: 53523\n",
      "단어 집합에서 희귀 단어를 제외시킬 경우의 단어 집합의 크기 16029\n",
      "단어 집합에서 희귀 단어의 비율: 76.95393374741201\n",
      "전체 등장 빈도에서 희귀 단어 등장 빈도 비율: 5.489911683698198\n"
     ]
    }
   ],
   "source": [
    "# 임계값(threshold) 설정\n",
    "threshold = 13\n",
    "\n",
    "# 단어 집합 크기(total_cnt) 초기화: 모든 단어의 개수\n",
    "total_cnt = len(src_tokenizer.word_index)\n",
    "\n",
    "# 희귀 단어 카운트(rare_cnt) 초기화: 등장 빈도수가 threshold보다 작은 단어의 개수\n",
    "rare_cnt = 0\n",
    "\n",
    "# 전체 단어 빈도수 총 합(total_freq) 초기화\n",
    "total_freq = 0\n",
    "\n",
    "# 희귀 단어 등장 빈도수 총 합(rare_freq) 초기화\n",
    "rare_freq = 0\n",
    "\n",
    "# 단어와 빈도수의 쌍(pair)을 key와 value로 반복하여 처리\n",
    "for key, value in src_tokenizer.word_counts.items():\n",
    "    # 전체 단어 빈도수 총 합(total_freq) 누적\n",
    "    total_freq = total_freq + value\n",
    "\n",
    "    # 단어의 등장 빈도수가 threshold보다 작은 경우\n",
    "    if(value < threshold):\n",
    "        # 희귀 단어 카운트(rare_cnt) 증가\n",
    "        rare_cnt = rare_cnt + 1\n",
    "\n",
    "        # 희귀 단어 등장 빈도수 총 합(rare_freq) 누적\n",
    "        rare_freq = rare_freq + value\n",
    "\n",
    "# 결과 출력\n",
    "print('단어 집합(vocabulary)의 크기 :', total_cnt)\n",
    "print('등장 빈도가 %s번 이하인 희귀 단어의 수: %s'%(threshold - 1, rare_cnt))\n",
    "print('단어 집합에서 희귀 단어를 제외시킬 경우의 단어 집합의 크기 %s'%(total_cnt - rare_cnt))\n",
    "print(\"단어 집합에서 희귀 단어의 비율:\", (rare_cnt / total_cnt)*100)\n",
    "print(\"전체 등장 빈도에서 희귀 단어 등장 빈도 비율:\", (rare_freq / total_freq)*100)"
   ]
  },
  {
   "cell_type": "markdown",
   "id": "6b687d38",
   "metadata": {},
   "source": [
    "- encoder_input_train에는 약 7만 개의 단어가 있지만, 등장 빈도가 12회 이하인 단어가 전체 단어 집합 중 약 77.11%를 차지합니다.\n",
    "- 이는 대다수의 단어가 훈련 데이터에서 비교적 드물게 등장한다는 것을 의미하며, 실제로 이러한 희귀 단어들은 전체 등장 빈도 중에서도 오직 5.54%만을 차지하고 있습니다.\n",
    "- 이런 상황에서 등장 빈도가 낮은 단어들은 모델이 학습할 때 중요한 정보를 담고 있지 않다고 가정하고, 정수 인코딩 과정에서 이러한 단어들을 제외하는 것이 합리적일 수 있습니다.\n",
    "- 이를 통해 모델이 보다 빈번하게 등장하며, 정보의 밀도가 높은 단어들에 집중하여 학습하게 되므로, 학습 과정에서의 노이즈를 줄이고, 모델의 일반화 능력을 향상시킬 수 있습니다.\n",
    "- 또한, 단어 집합의 크기를 희귀단어를 제외한 수(15,959)의 근사치인 약 15,000개로 줄임으로써 모델의 복잡성을 감소시키고, 연산 비용을 절감하는 효과도 기대할 수 있습니다.\n",
    "\n",
    "---\n",
    "\n",
    "- 🤔 왜 등장빈도수가 낮은 단어는 노이즈 데이터가 되는가?\n",
    "    - 크게 3가지 이유가 있습니다.\n",
    "    - 1) 데이터 효율성\n",
    "        - 희귀단어는 데이터에서 드물게 등장하는 단어입니다.\n",
    "        - 이 단어를 학습하기 위해 모델이 노력을 기울이면, 그만큼 자주 등장하는 단어를 학습할 여력이 줄어듭니다.\n",
    "        - 즉, 진짜 중요한 정보보다 불필요한 정보(노이즈)의 학습에 신경을 써서 제대로된 학습을 하지 못합니다.\n",
    "    - 2) 일반화 어려움\n",
    "        - 희귀단어는 특정 문맥에 등장하거나, 특정 도메인에 관련된 단어일 가능성이 높습니다.\n",
    "        - 이러한 단어들을 학습하면 해당 도메인에서는 잘 작동하겠으나, 일반적인 데이터에서는 잘 작동하지 못하게 됩니다.\n",
    "    - 3) 과적합 위험"
   ]
  },
  {
   "cell_type": "code",
   "execution_count": 77,
   "id": "83ddce2d",
   "metadata": {
    "ExecuteTime": {
     "end_time": "2024-01-04T21:59:20.503451Z",
     "start_time": "2024-01-04T21:59:18.182675Z"
    }
   },
   "outputs": [],
   "source": [
    "src_vocab = 15000\n",
    "src_tokenizer = Tokenizer(num_words=src_vocab) # 단어 집합의 크기를 15,000으로 제한\n",
    "src_tokenizer.fit_on_texts(encoder_input_train) # 단어 집합 재생성"
   ]
  },
  {
   "cell_type": "markdown",
   "id": "f22da71e",
   "metadata": {},
   "source": [
    "- `texts_to_sequences()`는 생성된 단어 집합에 기반해서 입력으로 주어지는 텍스트 데이터의 단어를 모두 정수로 변환(정수인코딩) 합니다.\n",
    "- 현재 단어 크기를 15,000개로 제한했으니 15,000이 넘는 숫자들은 정수 인코딩 후에는 사라질 겁니다."
   ]
  },
  {
   "cell_type": "code",
   "execution_count": 78,
   "id": "46c1b0f0",
   "metadata": {
    "ExecuteTime": {
     "end_time": "2024-01-04T21:59:22.449374Z",
     "start_time": "2024-01-04T21:59:20.505451Z"
    }
   },
   "outputs": [
    {
     "name": "stdout",
     "output_type": "stream",
     "text": [
      "[[1044, 2874, 5237, 62, 654, 142, 14286, 3307, 1342, 1154, 993, 88, 8147, 691, 142, 1567, 168, 2411, 2232, 406, 323, 3058, 231, 1196, 662, 81, 1015, 889, 2411, 1044, 775, 2875, 5237, 1], [1118, 2088, 30, 538, 1065, 149, 1640, 54, 10986, 662, 849, 559, 232, 3345, 2015, 1125, 1502, 373, 156, 109, 160, 538, 1065, 149, 1640, 2373, 5980, 1118, 757, 22, 103, 333, 83, 1640, 4371, 99, 2813, 1746, 2496, 296, 532], [1216, 1792, 1662, 283, 2841, 871, 954, 615, 1234, 3196, 9827, 71, 620, 5238, 339, 3789, 872, 71, 75, 9827, 1382, 339, 2332, 872, 71, 283, 2841, 1, 10987, 5005, 351, 9827, 693, 25, 1090, 64, 9827, 5005, 1671]]\n"
     ]
    }
   ],
   "source": [
    "# 텍스트 시퀀스를 정수 시퀀스로 변환\n",
    "encoder_input_train = src_tokenizer.texts_to_sequences(encoder_input_train) \n",
    "encoder_input_test = src_tokenizer.texts_to_sequences(encoder_input_test)\n",
    "\n",
    "# 잘 진행되었는지 샘플 출력\n",
    "print(encoder_input_train[:3])"
   ]
  },
  {
   "cell_type": "markdown",
   "id": "39c37127",
   "metadata": {},
   "source": [
    "- 이제 정수 인코딩이 되어 텍스트가 아닌 단어들이 출력됩니다.\n",
    "---\n",
    "\n",
    "- 위에 진행한 작업을 동일하게 headlines 컬럼에도 적용시킵니다."
   ]
  },
  {
   "cell_type": "code",
   "execution_count": 79,
   "id": "3db80e27",
   "metadata": {
    "ExecuteTime": {
     "end_time": "2024-01-04T21:59:23.550872Z",
     "start_time": "2024-01-04T21:59:22.452373Z"
    }
   },
   "outputs": [],
   "source": [
    "# headlines 데이터의 단어집합 생성\n",
    "tar_tokenizer = Tokenizer()\n",
    "tar_tokenizer.fit_on_texts(decoder_input_train)"
   ]
  },
  {
   "cell_type": "code",
   "execution_count": 84,
   "id": "ab9ae704",
   "metadata": {
    "ExecuteTime": {
     "end_time": "2024-01-04T22:02:22.121213Z",
     "start_time": "2024-01-04T22:02:22.094021Z"
    }
   },
   "outputs": [
    {
     "name": "stdout",
     "output_type": "stream",
     "text": [
      "단어 집합(vocabulary)의 크기 : 30089\n",
      "등장 빈도가 5번 이하인 희귀 단어의 수: 19689\n",
      "단어 집합에서 희귀 단어를 제외시킬 경우의 단어 집합의 크기 10400\n",
      "단어 집합에서 희귀 단어의 비율: 65.43587357506065\n",
      "전체 등장 빈도에서 희귀 단어 등장 빈도 비율: 4.675217313822942\n"
     ]
    }
   ],
   "source": [
    "threshold = 6\n",
    "total_cnt = len(tar_tokenizer.word_index) # 단어의 수\n",
    "rare_cnt = 0 # 등장 빈도수가 threshold보다 작은 단어의 개수를 카운트\n",
    "total_freq = 0 # 훈련 데이터의 전체 단어 빈도수 총 합\n",
    "rare_freq = 0 # 등장 빈도수가 threshold보다 작은 단어의 등장 빈도수의 총 합\n",
    "\n",
    "# 단어와 빈도수의 쌍(pair)을 key와 value로 받는다.\n",
    "for key, value in tar_tokenizer.word_counts.items():\n",
    "    total_freq = total_freq + value\n",
    "\n",
    "    # 단어의 등장 빈도수가 threshold보다 작으면\n",
    "    if(value < threshold):\n",
    "        rare_cnt = rare_cnt + 1\n",
    "        rare_freq = rare_freq + value\n",
    "\n",
    "print('단어 집합(vocabulary)의 크기 :', total_cnt)\n",
    "print('등장 빈도가 %s번 이하인 희귀 단어의 수: %s'%(threshold - 1, rare_cnt))\n",
    "print('단어 집합에서 희귀 단어를 제외시킬 경우의 단어 집합의 크기 %s'%(total_cnt - rare_cnt))\n",
    "print(\"단어 집합에서 희귀 단어의 비율:\", (rare_cnt / total_cnt)*100)\n",
    "print(\"전체 등장 빈도에서 희귀 단어 등장 빈도 비율:\", (rare_freq / total_freq)*100)"
   ]
  },
  {
   "cell_type": "markdown",
   "id": "18e2b88c",
   "metadata": {},
   "source": [
    "- 등장 빈도 5회 이하인 단어들은 단어 집합에서 약 65%를 차지합니다.\n",
    "- 그러나 실제로 훈련 데이터 등장 빈도로 차지하는 비중은 4.6%정도에 불과합니다.\n",
    "- Text 때와 마찬가지로 이러한 단어들은 제거하고, 단어의 제한도 2,000개로 지정해 봅니다."
   ]
  },
  {
   "cell_type": "code",
   "execution_count": 85,
   "id": "11e8a15a",
   "metadata": {
    "ExecuteTime": {
     "end_time": "2024-01-04T22:04:04.444678Z",
     "start_time": "2024-01-04T22:03:59.929862Z"
    }
   },
   "outputs": [
    {
     "name": "stdout",
     "output_type": "stream",
     "text": [
      "input\n",
      "input  [[1, 944, 3, 133, 512, 4, 381], [1, 254, 229, 1311, 42, 1434, 59], [1, 976, 3, 388, 5, 192], [1, 6, 1360, 1169, 1725], [1, 32, 187, 1579, 15, 749, 3, 108]]\n",
      "target\n",
      "decoder  [[944, 3, 133, 512, 4, 381, 2], [254, 229, 1311, 42, 1434, 59, 2], [976, 3, 388, 5, 192, 2], [6, 1360, 1169, 1725, 2], [32, 187, 1579, 15, 749, 3, 108, 2]]\n"
     ]
    }
   ],
   "source": [
    "tar_vocab = 2000\n",
    "tar_tokenizer = Tokenizer(num_words=tar_vocab) \n",
    "tar_tokenizer.fit_on_texts(decoder_input_train)\n",
    "tar_tokenizer.fit_on_texts(decoder_target_train)\n",
    "\n",
    "# 텍스트 시퀀스를 정수 시퀀스로 변환\n",
    "decoder_input_train = tar_tokenizer.texts_to_sequences(decoder_input_train) \n",
    "decoder_target_train = tar_tokenizer.texts_to_sequences(decoder_target_train)\n",
    "decoder_input_test = tar_tokenizer.texts_to_sequences(decoder_input_test)\n",
    "decoder_target_test = tar_tokenizer.texts_to_sequences(decoder_target_test)\n",
    "\n",
    "# 잘 변환되었는지 확인\n",
    "print('input')\n",
    "print('input ',decoder_input_train[:5])\n",
    "print('target')\n",
    "print('decoder ',decoder_target_train[:5])"
   ]
  },
  {
   "cell_type": "markdown",
   "id": "ebbaa634",
   "metadata": {
    "ExecuteTime": {
     "end_time": "2024-01-04T22:04:06.753358Z",
     "start_time": "2024-01-04T22:04:06.731851Z"
    }
   },
   "source": [
    "- 이제 모든 데이터에 대해 정수 인코딩 작업이 완료되었습니다.\n",
    "- `decoder_input_train`과 `decoder_target_train` 에는 더이상 2,000을 넘는 숫자들은 존재하지 않습니다.\n",
    "- 이제 모델에 학습시키기에 앞서 남은 작업은 패딩(텍스트들의 길이를 일치시켜 주는 작업) 입니다.\n",
    "\n",
    "---\n",
    "\n",
    "- 💡 패딩작업 전에 고려해야할 것들\n",
    "    - 빈도수가 낮은 단어를 삭제하며 생겼을수 있는 empty 샘플 데이터 확인\n",
    "        - 특히 평균길이가 4인 Summary에는 빈 데이터가 많이 발생했을 가능성이 높습니다.\n",
    "- 일단 요약문에서 길이가 0이된 샘플들의 인덱스를 확인해보겠습니다.\n",
    "    - `decoder_input` 에는 `sostoken`, `decoder_target` 에는 `eostoken`이 추가된 상태입니다.\n",
    "    - 이 두 토큰은 모든 샘플에 등장합니다.\n",
    "    - 따라서 이 토큰들의 빈도수는 샘플수와 같습니다. 👉 단어 집합 제한으로 필터링해도 삭제되지 않음\n",
    "    - 따라서 실제 길이가 0이된 요약문이라고해도 결과값(길이)는 1로 나옵니다."
   ]
  },
  {
   "cell_type": "code",
   "execution_count": 87,
   "id": "781022dc",
   "metadata": {
    "ExecuteTime": {
     "end_time": "2024-01-04T22:04:19.918191Z",
     "start_time": "2024-01-04T22:04:19.826331Z"
    }
   },
   "outputs": [
    {
     "name": "stdout",
     "output_type": "stream",
     "text": [
      "삭제할 훈련 데이터의 개수 : 11\n",
      "삭제할 테스트 데이터의 개수 : 4\n",
      "훈련 데이터의 개수 : 78521\n",
      "훈련 레이블의 개수 : 78521\n",
      "테스트 데이터의 개수 : 19629\n",
      "테스트 레이블의 개수 : 19629\n"
     ]
    }
   ],
   "source": [
    "# 길이가 1인 문장을 삭제할 인덱스(index) 리스트 생성 - 훈련 데이터\n",
    "drop_train = [index for index, sentence in enumerate(decoder_input_train) if len(sentence) == 1]\n",
    "\n",
    "# 길이가 1인 문장을 삭제할 인덱스(index) 리스트 생성 - 테스트 데이터\n",
    "drop_test = [index for index, sentence in enumerate(decoder_input_test) if len(sentence) == 1]\n",
    "\n",
    "# 삭제할 훈련 데이터와 테스트 데이터의 개수 출력\n",
    "print('삭제할 훈련 데이터의 개수 :', len(drop_train))\n",
    "print('삭제할 테스트 데이터의 개수 :', len(drop_test))\n",
    "\n",
    "# 삭제되지 않은 훈련 데이터, 레이블 및 테스트 데이터, 레이블 생성\n",
    "encoder_input_train = [sentence for index, sentence in enumerate(encoder_input_train) if index not in drop_train]\n",
    "decoder_input_train = [sentence for index, sentence in enumerate(decoder_input_train) if index not in drop_train]\n",
    "decoder_target_train = [sentence for index, sentence in enumerate(decoder_target_train) if index not in drop_train]\n",
    "\n",
    "encoder_input_test = [sentence for index, sentence in enumerate(encoder_input_test) if index not in drop_test]\n",
    "decoder_input_test = [sentence for index, sentence in enumerate(decoder_input_test) if index not in drop_test]\n",
    "decoder_target_test = [sentence for index, sentence in enumerate(decoder_target_test) if index not in drop_test]\n",
    "\n",
    "# 남은 훈련 데이터, 레이블 및 테스트 데이터, 레이블의 개수 출력\n",
    "print('훈련 데이터의 개수 :', len(encoder_input_train))\n",
    "print('훈련 레이블의 개수 :', len(decoder_input_train))\n",
    "print('테스트 데이터의 개수 :', len(encoder_input_test))\n",
    "print('테스트 레이블의 개수 :', len(decoder_input_test))"
   ]
  },
  {
   "cell_type": "markdown",
   "id": "b3661eed",
   "metadata": {},
   "source": [
    "### 패딩\n",
    "\n",
    "- 위 과정에서는 텍스트 시퀀스를 정수 시퀀스로 변환하는 과정을 거쳤습니다.\n",
    "- 이제는 서로 다른 길이의 샘플들을 병렬처리하기 위해 같은 길이로 맞추는 패딩작업을 해줘야 합니다.\n",
    "- 위에서 설정했던 최대길이로 패딩을 합니다.\n",
    "- 최대 길이보다 짧은 데이터들은 뒤 공간에 숫자0으로 채워넣어 최대길이를 맞춰줍니다.\n",
    "- 최대길이보다 긴 데이터들은 당연히 설정한 최대길이 이후의 정수들을 모두 삭제합니다."
   ]
  },
  {
   "cell_type": "code",
   "execution_count": 89,
   "id": "9b541973",
   "metadata": {
    "ExecuteTime": {
     "end_time": "2024-01-04T22:05:06.504421Z",
     "start_time": "2024-01-04T22:05:05.354289Z"
    }
   },
   "outputs": [],
   "source": [
    "# 입력 데이터(encoder_input_train 및 encoder_input_test)의 패딩 수행\n",
    "# 패딩 후의 최대 길이는 text_max_len으로 지정하고, 패딩은 'post' 방식으로 수행\n",
    "encoder_input_train = pad_sequences(encoder_input_train, maxlen=text_max_len, padding='post')\n",
    "encoder_input_test = pad_sequences(encoder_input_test, maxlen=text_max_len, padding='post')\n",
    "\n",
    "# 레이블 데이터(decoder_input_train, decoder_target_train, decoder_input_test, decoder_target_test)의 패딩 수행\n",
    "# 패딩 후의 최대 길이는 headlines_max_len으로 지정하고, 패딩은 'post' 방식으로 수행\n",
    "decoder_input_train = pad_sequences(decoder_input_train, maxlen=headlines_max_len, padding='post')\n",
    "decoder_target_train = pad_sequences(decoder_target_train, maxlen=headlines_max_len, padding='post')\n",
    "decoder_input_test = pad_sequences(decoder_input_test, maxlen=headlines_max_len, padding='post')\n",
    "decoder_target_test = pad_sequences(decoder_target_test, maxlen=headlines_max_len, padding='post')"
   ]
  },
  {
   "cell_type": "markdown",
   "id": "a979d65e",
   "metadata": {},
   "source": [
    "- 이제 모든 전처리 과정이 끝났습니다."
   ]
  },
  {
   "cell_type": "markdown",
   "id": "faa4f8f5",
   "metadata": {},
   "source": [
    "# Step 3. Attention Mechanism 사용하기 (추상적 요약)\n",
    "\n",
    "## 모델 설계\n",
    "\n",
    "### Encoder 설계\n",
    "- Functional API를 사용해서 Encoder를 설계합니다."
   ]
  },
  {
   "cell_type": "code",
   "execution_count": 90,
   "id": "8a3b4d15",
   "metadata": {
    "ExecuteTime": {
     "end_time": "2024-01-04T22:06:17.407223Z",
     "start_time": "2024-01-04T22:06:16.035304Z"
    }
   },
   "outputs": [],
   "source": [
    "from tensorflow.keras.layers import Input, LSTM, Embedding, Dense, Concatenate, TimeDistributed\n",
    "from tensorflow.keras.models import Model\n",
    "from tensorflow.keras.callbacks import EarlyStopping, ModelCheckpoint\n",
    "\n",
    "# 인코더 설계 시작\n",
    "embedding_dim = 128  # 임베딩 차원 설정\n",
    "hidden_size = 256  # LSTM 은닉 상태 크기 설정\n",
    "\n",
    "# 인코더 입력 정의\n",
    "encoder_inputs = Input(shape=(text_max_len,))\n",
    "\n",
    "# 인코더의 임베딩 층 정의\n",
    "enc_emb = Embedding(src_vocab, embedding_dim)(encoder_inputs)\n",
    "\n",
    "# 인코더의 LSTM 1 층 정의\n",
    "encoder_lstm1 = LSTM(hidden_size, return_sequences=True, return_state=True, dropout=0.4)\n",
    "encoder_output1, state_h1, state_c1 = encoder_lstm1(enc_emb)\n",
    "\n",
    "# 인코더의 LSTM 2 층 정의\n",
    "encoder_lstm2 = LSTM(hidden_size, return_sequences=True, return_state=True, dropout=0.4)\n",
    "encoder_output2, state_h2, state_c2 = encoder_lstm2(encoder_output1)\n",
    "\n",
    "# 인코더의 LSTM 3 층 정의\n",
    "encoder_lstm3 = LSTM(hidden_size, return_sequences=True, return_state=True, dropout=0.4)\n",
    "encoder_outputs, state_h, state_c = encoder_lstm3(encoder_output2)"
   ]
  },
  {
   "cell_type": "markdown",
   "id": "af6ec9d8",
   "metadata": {},
   "source": [
    "- 3번재 층은 Encoder의 가장 마지막 층으로 LSTM출력층입니다.\n",
    "- 이를 명확하게 인지 할 수 있도록 1,2층 처럼 숫자없이 변수를 만들었습니다.\n",
    "\n",
    "---\n",
    "\n",
    "- Embedding vector의 차원은 128로 정의했고, hidden state의 크기는 256으로 정의 했습니다.\n",
    "- hitten state는 LSTM에서 얼마만큼의 수용력(capacity)를 가질지를 정하는 파라미터 입니다.\n",
    "    - 즉, LSTM 모델의 용량 크기, 혹은 LSTM모델의 뉴런 개수입니다.\n",
    "    - 일반적인 신경망 모델 처럼 무조건 용량을 크게한다고 반드시 성능이 올라가진 않습니다.\n",
    "\n",
    "---\n",
    "\n",
    "- Encoder의 LSTM은 총 3개의 층으로 구성해 모델 복잡도를 높이고자 했습니다.\n",
    "    - hidden state의 크기를 늘리는 것 =  LSTM 1개층의 용량을 늘리는 것\n",
    "    - 따라서 3개의 LSTM 층을 구성했다는 것은 용량을 크게 늘린거라 할 수 있습니다.\n",
    "    - 3개의 층을 지나 나온 출력 벡터는 Decoder로 전달해줘야 합니다.\n",
    "\n",
    "---\n",
    "\n",
    "- LSTM은 과적합 억제수단으로 Dropout뿐만 아니라 recurrent dropout도 사용할 수 있습니다.\n",
    "- 일반적인 dropout은 레이어의 weight를 랜덤으로 생략하지만 recurrent dropout은 dropout을 레이어가 아닌 time step마다 적용합니다.\n",
    "    - 즉, time step의 입력을 랜덤으로 생략합니다.\n",
    "    - 이러한 방법도 일반적인 dropout처럼 과적합을 방지할 수 있습니다.(regulation)"
   ]
  },
  {
   "cell_type": "markdown",
   "id": "cbab1487",
   "metadata": {},
   "source": [
    "### Decoder 설계"
   ]
  },
  {
   "cell_type": "code",
   "execution_count": 91,
   "id": "9f9e3eb6",
   "metadata": {
    "ExecuteTime": {
     "end_time": "2024-01-04T22:07:07.689638Z",
     "start_time": "2024-01-04T22:07:07.509562Z"
    }
   },
   "outputs": [],
   "source": [
    "# 디코더 입력 정의\n",
    "decoder_inputs = Input(shape=(None,))\n",
    "\n",
    "# 디코더의 임베딩 층 정의\n",
    "dec_emb_layer = Embedding(tar_vocab, embedding_dim)\n",
    "dec_emb = dec_emb_layer(decoder_inputs)\n",
    "\n",
    "# 디코더의 LSTM 층 정의\n",
    "# decoder_lstm = LSTM(hidden_size, return_sequences=True, return_state=True, dropout=0.4, recurrent_dropout=0.2)\n",
    "decoder_lstm = LSTM(hidden_size, return_sequences=True, return_state=True, dropout=0.4)\n",
    "decoder_outputs, _, _ = decoder_lstm(dec_emb, initial_state=[state_h, state_c])"
   ]
  },
  {
   "cell_type": "markdown",
   "id": "38e43148",
   "metadata": {},
   "source": [
    "- Decoder의 임베딩 층과 LSTM을 설계하는 것은 Encoder를 설계하는 것과 거의 동일합니다.\n",
    "- 다만 LSTM의 입력을 정의할때 `initial_state`의 인자값으로 Encoder의 hidden state와 cell state값을 넣어줘야 합니다."
   ]
  },
  {
   "cell_type": "code",
   "execution_count": 92,
   "id": "6726bb40",
   "metadata": {
    "ExecuteTime": {
     "end_time": "2024-01-04T22:07:16.968652Z",
     "start_time": "2024-01-04T22:07:16.939176Z"
    }
   },
   "outputs": [
    {
     "name": "stdout",
     "output_type": "stream",
     "text": [
      "Model: \"model\"\n",
      "__________________________________________________________________________________________________\n",
      "Layer (type)                    Output Shape         Param #     Connected to                     \n",
      "==================================================================================================\n",
      "input_1 (InputLayer)            [(None, 50)]         0                                            \n",
      "__________________________________________________________________________________________________\n",
      "embedding (Embedding)           (None, 50, 128)      1920000     input_1[0][0]                    \n",
      "__________________________________________________________________________________________________\n",
      "lstm (LSTM)                     [(None, 50, 256), (N 394240      embedding[0][0]                  \n",
      "__________________________________________________________________________________________________\n",
      "input_2 (InputLayer)            [(None, None)]       0                                            \n",
      "__________________________________________________________________________________________________\n",
      "lstm_1 (LSTM)                   [(None, 50, 256), (N 525312      lstm[0][0]                       \n",
      "__________________________________________________________________________________________________\n",
      "embedding_1 (Embedding)         (None, None, 128)    256000      input_2[0][0]                    \n",
      "__________________________________________________________________________________________________\n",
      "lstm_2 (LSTM)                   [(None, 50, 256), (N 525312      lstm_1[0][0]                     \n",
      "__________________________________________________________________________________________________\n",
      "lstm_3 (LSTM)                   [(None, None, 256),  394240      embedding_1[0][0]                \n",
      "                                                                 lstm_2[0][1]                     \n",
      "                                                                 lstm_2[0][2]                     \n",
      "__________________________________________________________________________________________________\n",
      "dense (Dense)                   (None, None, 2000)   514000      lstm_3[0][0]                     \n",
      "==================================================================================================\n",
      "Total params: 4,529,104\n",
      "Trainable params: 4,529,104\n",
      "Non-trainable params: 0\n",
      "__________________________________________________________________________________________________\n"
     ]
    }
   ],
   "source": [
    "# 디코더의 출력층\n",
    "decoder_softmax_layer = Dense(tar_vocab, activation='softmax')\n",
    "decoder_softmax_outputs = decoder_softmax_layer(decoder_outputs) \n",
    "\n",
    "# 모델 정의\n",
    "model = Model([encoder_inputs, decoder_inputs], decoder_softmax_outputs)\n",
    "model.summary()"
   ]
  },
  {
   "cell_type": "markdown",
   "id": "fb7d1dd0",
   "metadata": {},
   "source": [
    "- Decoder의 출력층에서는 Summary의 단어장인 `tar_vocab`의 수만은 선택지중 하나의 단어를 선택하는 다중 클래스 분류를 수행해야 합니다.\n",
    "- 따라서 Dense의 인자로 `tar_vocab`를 입력해주고, 활성화 함수로 softmax 함수를 사용한 것입니다.\n",
    "\n",
    "---\n",
    "\n",
    "- 이렇게 설계단 것이 Encoder의 hidden state와 cell state를 Decoder의 초기 state로 사용하는 가장 기본적인 seq2seq 모델의 구조입니다.\n",
    "- 여기서 Decoder의 출력층 설계를 살짝 바꾼다면(feat. Attention Mechanism) seq2seq 모델의 성능을 더 높일 수 있습니다."
   ]
  },
  {
   "cell_type": "markdown",
   "id": "b8e16bf0",
   "metadata": {},
   "source": [
    "### Decoder에 Attention Mechanism 추가하기\n",
    "\n",
    "- Attention Mechanism 함수를 설계하는 것은 다른 새로운 신경망을 설계하는 것입니다.\n",
    "- 하지만 TensorFlow에서는 이미 잘 구현된 Attention 함수를 제공합니다.\n",
    "- 이것을 사용해서 Decoder의 출력층의 설계를 바꿔보겠습니다."
   ]
  },
  {
   "cell_type": "code",
   "execution_count": 93,
   "id": "04f1eb17",
   "metadata": {
    "ExecuteTime": {
     "end_time": "2024-01-04T22:07:41.534200Z",
     "start_time": "2024-01-04T22:07:41.500220Z"
    },
    "scrolled": false
   },
   "outputs": [
    {
     "name": "stdout",
     "output_type": "stream",
     "text": [
      "Model: \"model_1\"\n",
      "__________________________________________________________________________________________________\n",
      "Layer (type)                    Output Shape         Param #     Connected to                     \n",
      "==================================================================================================\n",
      "input_1 (InputLayer)            [(None, 50)]         0                                            \n",
      "__________________________________________________________________________________________________\n",
      "embedding (Embedding)           (None, 50, 128)      1920000     input_1[0][0]                    \n",
      "__________________________________________________________________________________________________\n",
      "lstm (LSTM)                     [(None, 50, 256), (N 394240      embedding[0][0]                  \n",
      "__________________________________________________________________________________________________\n",
      "input_2 (InputLayer)            [(None, None)]       0                                            \n",
      "__________________________________________________________________________________________________\n",
      "lstm_1 (LSTM)                   [(None, 50, 256), (N 525312      lstm[0][0]                       \n",
      "__________________________________________________________________________________________________\n",
      "embedding_1 (Embedding)         (None, None, 128)    256000      input_2[0][0]                    \n",
      "__________________________________________________________________________________________________\n",
      "lstm_2 (LSTM)                   [(None, 50, 256), (N 525312      lstm_1[0][0]                     \n",
      "__________________________________________________________________________________________________\n",
      "lstm_3 (LSTM)                   [(None, None, 256),  394240      embedding_1[0][0]                \n",
      "                                                                 lstm_2[0][1]                     \n",
      "                                                                 lstm_2[0][2]                     \n",
      "__________________________________________________________________________________________________\n",
      "attention_layer (AdditiveAttent (None, None, 256)    256         lstm_3[0][0]                     \n",
      "                                                                 lstm_2[0][0]                     \n",
      "__________________________________________________________________________________________________\n",
      "concat_layer (Concatenate)      (None, None, 512)    0           lstm_3[0][0]                     \n",
      "                                                                 attention_layer[0][0]            \n",
      "__________________________________________________________________________________________________\n",
      "dense_1 (Dense)                 (None, None, 2000)   1026000     concat_layer[0][0]               \n",
      "==================================================================================================\n",
      "Total params: 5,041,360\n",
      "Trainable params: 5,041,360\n",
      "Non-trainable params: 0\n",
      "__________________________________________________________________________________________________\n"
     ]
    }
   ],
   "source": [
    "from tensorflow.keras.layers import AdditiveAttention\n",
    "\n",
    "# 어텐션 층(어텐션 함수) 정의\n",
    "attn_layer = AdditiveAttention(name='attention_layer')\n",
    "\n",
    "# 인코더와 디코더의 모든 time step의 hidden state를 어텐션 층에 전달하고 결과를 리턴\n",
    "attn_out = attn_layer([decoder_outputs, encoder_outputs])\n",
    "\n",
    "# 어텐션의 결과와 디코더의 hidden state들을 연결\n",
    "decoder_concat_input = Concatenate(axis=-1, name='concat_layer')([decoder_outputs, attn_out])\n",
    "\n",
    "# 디코더의 출력층 정의\n",
    "decoder_softmax_layer = Dense(tar_vocab, activation='softmax')\n",
    "decoder_softmax_outputs = decoder_softmax_layer(decoder_concat_input)\n",
    "\n",
    "# 모델 정의\n",
    "model = Model([encoder_inputs, decoder_inputs], decoder_softmax_outputs)\n",
    "model.summary()"
   ]
  },
  {
   "cell_type": "markdown",
   "id": "ccde9fef",
   "metadata": {},
   "source": [
    "- 위 코드는 Encoder의 hidden state들과 Decoder의 hidden state들을 Attention 함수의 입력으로 사용하고, Attention 함수가 리턴한 값을 예측시에 Decoder의 hidden state와 함께 활용하는 형태로 구성된 모델입니다."
   ]
  },
  {
   "cell_type": "markdown",
   "id": "3e3ebc7c",
   "metadata": {},
   "source": [
    "## 모델 훈련"
   ]
  },
  {
   "cell_type": "code",
   "execution_count": 94,
   "id": "94f45ded",
   "metadata": {
    "ExecuteTime": {
     "end_time": "2024-01-04T22:16:41.012973Z",
     "start_time": "2024-01-04T22:07:59.486257Z"
    },
    "scrolled": true
   },
   "outputs": [
    {
     "name": "stdout",
     "output_type": "stream",
     "text": [
      "Epoch 1/50\n",
      "307/307 [==============================] - 32s 72ms/step - loss: 3.5893 - val_loss: 3.3165\n",
      "Epoch 2/50\n",
      "307/307 [==============================] - 21s 70ms/step - loss: 3.1442 - val_loss: 3.0053\n",
      "Epoch 3/50\n",
      "307/307 [==============================] - 21s 69ms/step - loss: 2.8831 - val_loss: 2.8119\n",
      "Epoch 4/50\n",
      "307/307 [==============================] - 21s 67ms/step - loss: 2.7118 - val_loss: 2.6828\n",
      "Epoch 5/50\n",
      "307/307 [==============================] - 21s 70ms/step - loss: 2.5847 - val_loss: 2.5962\n",
      "Epoch 6/50\n",
      "307/307 [==============================] - 21s 70ms/step - loss: 2.4825 - val_loss: 2.5219\n",
      "Epoch 7/50\n",
      "307/307 [==============================] - 22s 70ms/step - loss: 2.3933 - val_loss: 2.4638\n",
      "Epoch 8/50\n",
      "307/307 [==============================] - 22s 72ms/step - loss: 2.3162 - val_loss: 2.4143\n",
      "Epoch 9/50\n",
      "307/307 [==============================] - 21s 69ms/step - loss: 2.2485 - val_loss: 2.3763\n",
      "Epoch 10/50\n",
      "307/307 [==============================] - 22s 70ms/step - loss: 2.1877 - val_loss: 2.3440\n",
      "Epoch 11/50\n",
      "307/307 [==============================] - 21s 69ms/step - loss: 2.1345 - val_loss: 2.3177\n",
      "Epoch 12/50\n",
      "307/307 [==============================] - 21s 70ms/step - loss: 2.0860 - val_loss: 2.2988\n",
      "Epoch 13/50\n",
      "307/307 [==============================] - 21s 69ms/step - loss: 2.0419 - val_loss: 2.2831\n",
      "Epoch 14/50\n",
      "307/307 [==============================] - 22s 71ms/step - loss: 2.0018 - val_loss: 2.2683\n",
      "Epoch 15/50\n",
      "307/307 [==============================] - 22s 70ms/step - loss: 1.9646 - val_loss: 2.2588\n",
      "Epoch 16/50\n",
      "307/307 [==============================] - 21s 67ms/step - loss: 1.9298 - val_loss: 2.2523\n",
      "Epoch 17/50\n",
      "307/307 [==============================] - 21s 70ms/step - loss: 1.8975 - val_loss: 2.2460\n",
      "Epoch 18/50\n",
      "307/307 [==============================] - 21s 69ms/step - loss: 1.8678 - val_loss: 2.2391\n",
      "Epoch 19/50\n",
      "307/307 [==============================] - 21s 70ms/step - loss: 1.8401 - val_loss: 2.2388\n",
      "Epoch 20/50\n",
      "307/307 [==============================] - 21s 68ms/step - loss: 1.8136 - val_loss: 2.2344\n",
      "Epoch 21/50\n",
      "307/307 [==============================] - 21s 70ms/step - loss: 1.7883 - val_loss: 2.2355\n",
      "Epoch 22/50\n",
      "307/307 [==============================] - 21s 68ms/step - loss: 1.7651 - val_loss: 2.2313\n",
      "Epoch 23/50\n",
      "307/307 [==============================] - 21s 68ms/step - loss: 1.7420 - val_loss: 2.2355\n",
      "Epoch 24/50\n",
      "307/307 [==============================] - 21s 69ms/step - loss: 1.7224 - val_loss: 2.2346\n",
      "Epoch 00024: early stopping\n"
     ]
    }
   ],
   "source": [
    "# 모델 컴파일\n",
    "model.compile(optimizer='rmsprop', loss='sparse_categorical_crossentropy')\n",
    "\n",
    "# 조기 종료 콜백 정의\n",
    "es = EarlyStopping(monitor='val_loss', patience=2, verbose=1)\n",
    "\n",
    "# 모델 학습\n",
    "history = model.fit(x=[encoder_input_train, decoder_input_train], y=decoder_target_train, \\\n",
    "          validation_data=([encoder_input_test, decoder_input_test], decoder_target_test), \\\n",
    "          batch_size=256, callbacks=[es], epochs=50)"
   ]
  },
  {
   "cell_type": "markdown",
   "id": "07824e9d",
   "metadata": {},
   "source": [
    "- 옵티마이저는 `rmsprop`를 사용했고, 손실함수로는 `sparse_categorical_crossentropy`를 사용했습니다.\n",
    "    - `rmsprop`는 보편적으로 RNN등의 시퀀스 모델에서 성능이 좋은 옵티마이저로, 학습률 조절에 유용하고, 학습중에 가중치 업데이트를 안정화 하는데 도움이 됩니다.\n",
    "    - `sparse_categorical_crossentropy`는 다중 클래스 분류문제에서 각 클래스에 대한 확률 분포를 출력해서 정수형태의 레이블과 비교해 손실을 계산하는 방식으로 작동합니다.\n",
    "    - 따라서, 요약 문장의 정수형태 레이블과 모델의 출력을 비교하기 위해 사용했습니다.\n",
    "\n",
    "---\n",
    "- 또한, 여기서는 조기종료(EarlyStopping)을 사용해 특정 조건을 충족하면 훈련을 멈춰 과적합을 방지하도록 했습니다.\n",
    "    - 종료가 되는 조건으로는 val_loss가 2번 이상 변하지 않으면(patience=2) 모델 학습을 종료하도록 조건을 설정했습니다.\n",
    "    \n",
    "- 조기종료를 적용할 때, patience값을 0이 아닌 다른 값으로 설정할 경우, 조기 종료가 되어도 해당 모델의 성능이 최고의 모델이 아닐 수 있습니다.\n",
    "    - 따라서, callback함수를 같이 사용해서 patience만큼 지나쳐서 모델이 중지되면 그 이전 epoch에서의 최적 모델을 찾아 그것을 최종모델로 선정합니다."
   ]
  },
  {
   "cell_type": "markdown",
   "id": "98fcc4de",
   "metadata": {},
   "source": [
    "### 학습 과정 시각화"
   ]
  },
  {
   "cell_type": "code",
   "execution_count": 96,
   "id": "d6e8b7c7",
   "metadata": {
    "ExecuteTime": {
     "end_time": "2024-01-04T22:17:29.749825Z",
     "start_time": "2024-01-04T22:17:29.598734Z"
    }
   },
   "outputs": [
    {
     "data": {
      "image/png": "[encoded data removed]",
      "text/plain": [
       "<Figure size 640x480 with 1 Axes>"
      ]
     },
     "metadata": {},
     "output_type": "display_data"
    }
   ],
   "source": [
    "# 훈련 손실과 val loss 그래프 그리기\n",
    "plt.plot(history.history['loss'], label='val loss')\n",
    "plt.plot(history.history['val_loss'], label='val loss')\n",
    "\n",
    "# 그래프에 타이틀 추가\n",
    "plt.title('Train & Val loss')\n",
    "plt.legend()\n",
    "plt.show()"
   ]
  },
  {
   "cell_type": "markdown",
   "id": "b24800da",
   "metadata": {},
   "source": [
    "## 인퍼런스 모델 구현하기\n",
    "\n",
    "- 테스트 단계에서는 정수 인덱스의 행렬형태로 존재하던 텍스트를 다시 텍스트로 복원해야 합니다.\n",
    "- 이 작업에 필요한 사전 3개를 미리 준비합니다."
   ]
  },
  {
   "cell_type": "code",
   "execution_count": 97,
   "id": "1e18a6a3",
   "metadata": {
    "ExecuteTime": {
     "end_time": "2024-01-04T22:17:36.163357Z",
     "start_time": "2024-01-04T22:17:36.148827Z"
    }
   },
   "outputs": [],
   "source": [
    "# 원문 단어 집합에서 정수 -> 단어를 얻음\n",
    "src_index_to_word = src_tokenizer.index_word\n",
    "\n",
    "# 요약 단어 집합에서 단어 -> 정수를 얻음\n",
    "tar_word_to_index = tar_tokenizer.word_index\n",
    "\n",
    "# 요약 단어 집합에서 정수 -> 단어를 얻음\n",
    "tar_index_to_word = tar_tokenizer.index_word"
   ]
  },
  {
   "cell_type": "markdown",
   "id": "235480f3",
   "metadata": {},
   "source": [
    "- seq2seq는 훈련할때와 실제 동작(인퍼런스 단계)의 방식이 다릅니다.\n",
    "- 따라서 각각의 방식에 맞게 모델 설계를 별개로 진행해야 합니다.\n",
    "\n",
    "---\n",
    "\n",
    "- 훈련 단계에서는 Decoder의 입력부에 정답이 되는 문장 전체를 일괄입력해서 Decoder의 출력과 한번에 비교할 수 있었습니다.\n",
    "    - 그렇기 때문에 Encoder와 Decoder를 엮은 하나의 모델만 생성했었습니다.\n",
    "\n",
    "- 하지만 정답 문장이 없이 요약을 생성해야 하는 인퍼런스 단계에서는 만들어야할 문장의 길이만큼 Decoder가 반복되는 구조로 작동됩니다.\n",
    "- 따라서 인퍼런스 모델을 별도로 설계해 줘야 하는 것입니다.\n",
    "    - 이 경우에는 기존과 달리 Encoder 모델과 Decoder모델을 분리해서 설계 합니다."
   ]
  },
  {
   "cell_type": "markdown",
   "id": "549a21f4",
   "metadata": {},
   "source": [
    "### Encoder 모델 설계"
   ]
  },
  {
   "cell_type": "code",
   "execution_count": 98,
   "id": "9bdb3ad1",
   "metadata": {
    "ExecuteTime": {
     "end_time": "2024-01-04T22:17:38.413175Z",
     "start_time": "2024-01-04T22:17:38.258667Z"
    }
   },
   "outputs": [],
   "source": [
    "# 인코더 설계\n",
    "encoder_model = Model(inputs=encoder_inputs, outputs=[encoder_outputs, state_h, state_c])\n",
    "\n",
    "# 이전 시점의 상태들을 저장하는 텐서\n",
    "decoder_state_input_h = Input(shape=(hidden_size,))\n",
    "decoder_state_input_c = Input(shape=(hidden_size,))\n",
    "\n",
    "dec_emb2 = dec_emb_layer(decoder_inputs)\n",
    "\n",
    "# 문장의 다음 단어를 예측하기 위해서 초기 상태(initial_state)를 이전 시점의 상태로 사용. 이는 뒤의 함수 decode_sequence()에 구현\n",
    "# 훈련 과정에서와 달리 LSTM의 리턴하는 은닉 상태와 셀 상태인 state_h와 state_c를 버리지 않음.\n",
    "decoder_outputs2, state_h2, state_c2 = decoder_lstm(dec_emb2, initial_state=[decoder_state_input_h, decoder_state_input_c])"
   ]
  },
  {
   "cell_type": "markdown",
   "id": "d1f01ed9",
   "metadata": {},
   "source": [
    "### 출력층 설계(feat. Attention Mechanism)"
   ]
  },
  {
   "cell_type": "code",
   "execution_count": 99,
   "id": "dcadb1f3",
   "metadata": {
    "ExecuteTime": {
     "end_time": "2024-01-04T22:17:39.198368Z",
     "start_time": "2024-01-04T22:17:39.169859Z"
    }
   },
   "outputs": [],
   "source": [
    "# 어텐션 함수\n",
    "# 디코더의 현재 hidden state와 인코더의 모든 hidden state 간의 어텐션을 계산합니다.\n",
    "decoder_hidden_state_input = Input(shape=(text_max_len, hidden_size))\n",
    "attn_out_inf = attn_layer([decoder_outputs2, decoder_hidden_state_input])\n",
    "decoder_inf_concat = Concatenate(axis=-1, name='concat')([decoder_outputs2, attn_out_inf])\n",
    "\n",
    "# 디코더의 출력층\n",
    "# 어텐션을 적용한 디코더 출력을 활성화 함수인 'softmax'를 사용하여 확률 분포로 변환합니다.\n",
    "decoder_outputs2 = decoder_softmax_layer(decoder_inf_concat)\n",
    "\n",
    "# 최종 디코더 모델\n",
    "# 디코더 모델을 정의합니다. 입력으로 디코더 입력, 현재 hidden state, 그리고 상태 정보를 받습니다.\n",
    "# 출력으로 어텐션을 적용한 디코더 출력과 업데이트된 상태 정보를 반환합니다.\n",
    "decoder_model = Model(\n",
    "    [decoder_inputs] + [decoder_hidden_state_input, decoder_state_input_h, decoder_state_input_c],\n",
    "    [decoder_outputs2] + [state_h2, state_c2])"
   ]
  },
  {
   "cell_type": "markdown",
   "id": "ae17b8ca",
   "metadata": {},
   "source": [
    "### 인퍼런스단계 구현 - 단어 시퀀스 완성 하는 함수"
   ]
  },
  {
   "cell_type": "code",
   "execution_count": 103,
   "id": "b7f56c1f",
   "metadata": {
    "ExecuteTime": {
     "end_time": "2024-01-04T22:18:54.420339Z",
     "start_time": "2024-01-04T22:18:54.401831Z"
    }
   },
   "outputs": [],
   "source": [
    "def decode_sequence(input_seq):\n",
    "    # 입력으로부터 인코더의 상태를 얻음\n",
    "    e_out, e_h, e_c = encoder_model.predict(input_seq)\n",
    "\n",
    "    # <SOS> 토큰을 디코더 입력 시퀀스의 첫 번째로 설정\n",
    "    target_seq = np.zeros((1,1))\n",
    "    target_seq[0, 0] = tar_word_to_index['sostoken']\n",
    "\n",
    "    stop_condition = False\n",
    "    decoded_sentence = ''\n",
    "\n",
    "    while not stop_condition:\n",
    "        # 디코더 모델을 사용하여 다음 토큰 예측\n",
    "        output_tokens, h, c = decoder_model.predict([target_seq] + [e_out, e_h, e_c])\n",
    "        sampled_token_index = np.argmax(output_tokens[0, -1, :])\n",
    "        sampled_token = tar_index_to_word[sampled_token_index]\n",
    "\n",
    "        # 예측된 토큰이 'eostoken'이 아니면 디코딩 문장에 추가\n",
    "        if sampled_token != 'eostoken':\n",
    "            decoded_sentence += ' ' + sampled_token\n",
    "\n",
    "        # <eos>에 도달하거나 최대 길이를 넘으면 중단\n",
    "        if sampled_token == 'eostoken' or len(decoded_sentence.split()) >= (headlines_max_len-1):\n",
    "            stop_condition = True\n",
    "\n",
    "        # 길이가 1인 타겟 시퀀스를 업데이트\n",
    "        target_seq = np.zeros((1,1))\n",
    "        target_seq[0, 0] = sampled_token_index\n",
    "\n",
    "        # 상태를 업데이트\n",
    "        e_h, e_c = h, c\n",
    "\n",
    "    return decoded_sentence"
   ]
  },
  {
   "cell_type": "markdown",
   "id": "a90bd91c",
   "metadata": {},
   "source": [
    "# Step 4. 실제 결과와 요약문 비교하기 (추상적 요약)\n",
    "\n",
    "## 모델 테스트\n",
    "\n",
    "- 테스트시에는 정수 시퀀스를 텍스트 시퀀스로 변환해서 결과값을 얻을 수 있는 것이 좋습니다.\n",
    "- 이를 위한 함수를 만들어 보겠습니다.\n",
    "\n",
    "### seq2text 와 seq2summary 함수 생성\n",
    "\n",
    "- 요약문에는 sostoken과 eostoke을 고려해서 요약문의 정수 시퀀스를 텍스트 시퀀스로 변경해야 합니다."
   ]
  },
  {
   "cell_type": "code",
   "execution_count": 104,
   "id": "b23a45ef",
   "metadata": {
    "ExecuteTime": {
     "end_time": "2024-01-04T22:18:55.158076Z",
     "start_time": "2024-01-04T22:18:55.151077Z"
    }
   },
   "outputs": [],
   "source": [
    "# 원문의 정수 시퀀스를 텍스트 시퀀스로 변환하는 함수\n",
    "def seq2text(input_seq):\n",
    "    temp = ''\n",
    "    for i in input_seq:\n",
    "        if (i != 0):  # 정수가 0이 아닌 경우에만 처리\n",
    "            temp = temp + src_index_to_word[i] + ' '  # 정수를 단어로 변환하여 텍스트 시퀀스에 추가\n",
    "    return temp\n",
    "\n",
    "# 요약문의 정수 시퀀스를 텍스트 시퀀스로 변환하는 함수\n",
    "def seq2summary(input_seq):\n",
    "    temp = ''\n",
    "    for i in input_seq:\n",
    "        if (i != 0 and i != tar_word_to_index['sostoken'] and i != tar_word_to_index['eostoken']):\n",
    "            # 정수가 0이 아니며, 시작 토큰('sostoken')과 종료 토큰('eostoken')이 아닌 경우에만 처리\n",
    "            temp = temp + tar_index_to_word[i] + ' '  # 정수를 단어로 변환하여 텍스트 시퀀스에 추가\n",
    "    return temp"
   ]
  },
  {
   "cell_type": "markdown",
   "id": "7fad64a9",
   "metadata": {},
   "source": [
    "- `if (i != 0 and i != tar_word_to_index['sostoken'] and i != tar_word_to_index['eostoken']):`\n",
    "    - 이 부분은 정수 i가 0이 아니며 시작 토큰('sostoken') 및 종료 토큰('eostoken')이 아닌 경우에만 처리하도록 조건을 설정합니다.\n",
    "\n",
    "- `temp = temp + tar_index_to_word[i] + ' '`\n",
    "    - 조건을 만족하는 정수 i를 단어로 변환하여 텍스트 시퀀스에 추가합니다.\n",
    "    \n",
    "---\n",
    "\n",
    "- 텍스트 데이터중 50개정도의 샘플을 실제요약과 예측된 요약을 비교해봅니다."
   ]
  },
  {
   "cell_type": "code",
   "execution_count": 106,
   "id": "d1c23595",
   "metadata": {
    "ExecuteTime": {
     "end_time": "2024-01-04T22:19:29.031772Z",
     "start_time": "2024-01-04T22:19:12.362566Z"
    },
    "scrolled": true
   },
   "outputs": [
    {
     "name": "stdout",
     "output_type": "stream",
     "text": [
      "원문 : flipkart big sale starts bang today big discounts along discounts sale offers chance win free trip kuala lumpur free shopping gift every hour shoppers big benefits shoppers sale much bigger \n",
      "실제 헤드라인 : flipkart big sale begins today \n",
      "예측 요약 :  big offers to free for free\n",
      "\n",
      "\n",
      "원문 : trailer arjun kapoor parineeti chopra starrer namaste england released lead stars worked together first time arjun debut film released year six years produced directed vipul shah film scheduled release october \n",
      "실제 헤드라인 : trailer of arjun parineeti england released \n",
      "예측 요약 :  trailer of parineeti parineeti starrer out\n",
      "\n",
      "\n",
      "원문 : said extreme weather uk last week cost economy least billion day could gdp growth quarter sub zero temperatures like conditions caused deaths led closure schools hospitals winds dubbed beast east storm emma hit uk \n",
      "실제 헤드라인 : cost uk economy billion day \n",
      "예측 요약 :  cost of billion economy\n",
      "\n",
      "\n",
      "원문 : us president donald trump pushed aside prime minister ensure centre photograph first joint meeting nato leaders thursday following trump adjusted jacket seemed check white house press secretary sean spicer said standing order photo pre determined \n",
      "실제 헤드라인 : video trump pm to get in centre of photo \n",
      "예측 요약 :  trump shares pic with white house\n",
      "\n",
      "\n",
      "원문 : karnataka bjp president bs yeddyurappa whose son lok sabha seat said karnataka polls outcome warning bjp painful fact setback added also alleged congress jd alliance spent lot money supplied lot liquor voters \n",
      "실제 헤드라인 : to bjp on karnataka by polls \n",
      "예측 요약 :  bjp will not be if bjp wins taka polls\n",
      "\n",
      "\n",
      "원문 : michelle student class invited visit dmk president karunanidhi currently admitted chennai hospital message dmk sick cried praying much wrote note year old leader hospitalised blood pressure dropped last week \n",
      "실제 헤드라인 : class student visits chief in hospital \n",
      "예측 요약 :  student who said to visit\n",
      "\n",
      "\n",
      "원문 : contract worker maintenance work british airways data centre believed inadvertently turned power supply knocking computer systems investigation global ba power outage likely focus human error instead equipment failure meanwhile british airways faces compensation bill million \n",
      "실제 헤드라인 : british airways by man who off power reports \n",
      "예측 요약 :  uk to of bank\n",
      "\n",
      "\n",
      "원문 : ravindra jadeja became sole top ranked test bowler former captain sourav ganguly said jadeja started come shadow ravichandran ashwin ashwin test wickets fastest mark jadeja series taken responsibility gone ahead ashwin added ganguly \n",
      "실제 헤드라인 : has started to come out of ashwin ganguly \n",
      "예측 요약 :  ganguly has been the best ashwin\n",
      "\n",
      "\n",
      "원문 : honda recalling lakh us cars include honda vehicles replace front passenger airbag automaker said recall part attempt get ahead government mandated schedule japanese made airbags also honda said recall lakh cars software issue rear camera display \n",
      "실제 헤드라인 : recalls lakh cars over issue in us \n",
      "예측 요약 :  recalls cars over\n",
      "\n",
      "\n",
      "원문 : malayalam director joseph arrested challenging verbally abusing kochi mayor jain said filed police complaint began abusing denied permission shoot city recently subhash bose park director later released bail \n",
      "실제 헤드라인 : director arrested for mayor \n",
      "예측 요약 :  arrested for alleged assault\n",
      "\n",
      "\n",
      "원문 : stating poll trends madhya pradesh come surprise bjp mp sanjay said forgot issue development modi took ram mandir statues name changing became focus added knew would lose rajasthan chhattisgarh bjp congress close contest mp \n",
      "실제 헤드라인 : we ram our bjp mp \n",
      "예측 요약 :  bjp mp ram has to make ram\n",
      "\n",
      "\n",
      "원문 : least people killed fire broke shop mumbai monday fire caused part structure collapse started early morning people shop reportedly three fire engines four water ambulance rushed spot \n",
      "실제 헤드라인 : die as fire breaks out in mumbai \n",
      "예측 요약 :  killed as building collapses in\n",
      "\n",
      "\n",
      "원문 : belgian scientists looking volunteers donate faeces help research illnesses like disorders neurological diseases researchers university performing transplants patients process transfers organisms living donor sick patients hope guts healthy bacteria \n",
      "실제 헤드라인 : scientists looking for for \n",
      "예측 요약 :  scientists to\n",
      "\n",
      "\n",
      "원문 : world number two tennis player roger federer traditional scottish skirt exhibition match andy murray glasgow tuesday fan given second set federer took shots wearing signed returning federer went win match \n",
      "실제 헤드라인 : world no federer plays wearing against \n",
      "예측 요약 :  federer from tennis tennis match\n",
      "\n",
      "\n",
      "원문 : directors cab hailing startup uber planning vote tuesday board reforms could reportedly limit uber co founder travis kalanick power startup board also discuss whether uber pursue stock deal japan softbank reports added last week kalanick appointed two directors uber board decision uber found completely surprising \n",
      "실제 헤드라인 : uber plan to board to limit power \n",
      "예측 요약 :  uber to snapdeal snapdeal after merger\n",
      "\n",
      "\n",
      "원문 : batsman cheteshwar pujara returned india playing xi lord test england dropped first test run first innings friday pujara joined former england wicketkeeper batsman matt prior run number times tests last years \n",
      "실제 헤드라인 : pujara run out most times in tests in last years \n",
      "예측 요약 :  pujara scores in test innings after years\n",
      "\n",
      "\n",
      "원문 : state owned banks verified letters undertaking issued unauthorised lous except issued pnb sbi official said one branch approximately dealing forex breach added pnb brady house branch mumbai allegedly issued fake lous nirav modi mehul choksi firms \n",
      "실제 헤드라인 : no state issued fake for pnb sbi \n",
      "예측 요약 :  pnb to pnb to pnb\n",
      "\n",
      "\n",
      "원문 : actress kangana ranaut speaking relationship hrithik roshan said one cheating hrithik man cover whole thing added kangana said paid mistake cover one affair make many mistakes \n",
      "실제 헤드라인 : was not cheating hrithik was kangana \n",
      "예측 요약 :  hrithik is not hrithik\n",
      "\n",
      "\n",
      "원문 : trailer upcoming horror film creation released film spin film series film stars anthony miranda otto directed david sandberg film scheduled release august \n",
      "실제 헤드라인 : trailer of film released \n",
      "예측 요약 :  trailer of starrer released\n",
      "\n",
      "\n",
      "원문 : bomb cyclone unofficial term referring explosive occurs rapid decrease atmospheric pressure middle storm winter storm triggered freezing arctic air came contact warm ocean waters near eastern coast us phenomenon led first snowfall florida years \n",
      "실제 헤드라인 : what is bomb winter that hit us \n",
      "예측 요약 :  bomb in syria\n",
      "\n",
      "\n",
      "원문 : many cctvs exam centre class cbse economics paper allegedly leaked working reports said comes two teachers arrested allegedly leaking paper accused opening paper sealed packet exam started sending pictures coaching institute head \n",
      "실제 헤드라인 : at exam centre where cbse paper leaked did not work \n",
      "예측 요약 :  cbse class students from exam leak\n",
      "\n",
      "\n",
      "원문 : puerto rico institute statistics sued health department registry obtain data death toll hurricane maria comes harvard university study claimed actual death toll times official toll institute said data could help prevent deaths event another storm \n",
      "실제 헤드라인 : agency sues govt for death toll \n",
      "예측 요약 :  over deaths in maharashtra\n",
      "\n",
      "\n",
      "원문 : soha ali khan shared picture warrior yoga pose instagram baby bump seen soha expecting first child husband kunal earlier soha shared collage various yoga international yoga day captioned says cannot stay fit pregnant \n",
      "실제 헤드라인 : ali khan shows baby while doing yoga \n",
      "예측 요약 :  shares pic with baby girl\n",
      "\n",
      "\n",
      "원문 : actor irrfan khan took twitter reveal diagnosed neuroendocrine tumour commonly occurs also found parts body journey taking country request everyone continue sending wishes added \n",
      "실제 헤드라인 : irrfan khan reveals he has \n",
      "예측 요약 :  irrfan khan irrfan khan\n",
      "\n",
      "\n",
      "원문 : us senate tuesday blocked republican proposal voting repeal replace former president barack obama affordable care act interestingly seven republicans voted proposal introduced party proposal aimed affordable care act cutting taxes restructuring subsidies insurance customers pulling expansion \n",
      "실제 헤드라인 : us blocks to and replace \n",
      "예측 요약 :  us to allow to\n",
      "\n",
      "\n",
      "원문 : shah rukh khan amitabh bachchan kamal haasan kajol among present opening day rd kolkata international film festival friday west bengal cm mamata banerjee british filmmaker michael shah rukh bachchan haasan part inaugural function film festival began screening iranian film yellow \n",
      "실제 헤드라인 : srk amitabh kajol attend opening day of kolkata film \n"
     ]
    },
    {
     "name": "stdout",
     "output_type": "stream",
     "text": [
      "예측 요약 :  srk aamir kajol kajol on national day\n",
      "\n",
      "\n",
      "원문 : us state secretary mike pompeo said country assure kim jong un ouster part agenda summit north korean leader president donald trump trade pending years pompeo added referring failed negotiations north korea years \n",
      "실제 헤드라인 : us will have to no change in korea \n",
      "예측 요약 :  us will not be to korea to trump\n",
      "\n",
      "\n",
      "원문 : farmers tamil nadu completed days protest delhi jantar mantar tuesday demands include loan waivers revised drought packages cauvery management committee fair crop prices among others around protesting farmers threatened eat human draw attention authorities several others reportedly ate protests \n",
      "실제 헤드라인 : tamil nadu farmers days of protest in delhi \n",
      "예측 요약 :  tn farmers protest over budget\n",
      "\n",
      "\n",
      "원문 : former bigg boss contestant tv actress hina khan denying reports make comeback serial yeh kya hai said never going happen earlier reports hina would star show dream sequence character would interact daughter played joshi \n",
      "실제 헤드라인 : never going to on hai \n",
      "예측 요약 :  to play in reports\n",
      "\n",
      "\n",
      "원문 : india captain virat kohli become fastest cricketer score international runs captain achieving feat first test england edgbaston thursday kohli reached milestone th innings captain fewer former windies captain brian lara kohli also fastest runs captain \n",
      "실제 헤드라인 : kohli fastest to runs as captain breaks record \n",
      "예측 요약 :  kohli fastest to reach runs in an odi\n",
      "\n",
      "\n",
      "원문 : scientists discovered whales go like humans taking total number species known experience five researchers used data dead whales species found dormant older females species experience include killer whales short pilot whales \n",
      "실제 헤드라인 : found to like humans \n",
      "예측 요약 :  scientists find of\n",
      "\n",
      "\n",
      "원문 : public search planet nine solar system participants classified four million objects three days task could taken four years scientific analysis australia based team studying four possible candidates planet nine objects dwarf planets asteroids using telescopes spread worldwide \n",
      "실제 헤드라인 : researchers candidates for \n",
      "예측 요약 :  solar system to study\n",
      "\n",
      "\n",
      "원문 : north east delhi municipal corporations requested delhi government sanction loans worth crore pay employees salaries three months comes several municipal school teachers threatened launch indefinite strike non payment salaries state yet released crore global share pending since december officials said \n",
      "실제 헤드라인 : civic bodies seek cr loan from delhi govt for \n",
      "예측 요약 :  delhi govt to pay cr to cr\n",
      "\n",
      "\n",
      "원문 : chinese internet giant alibaba co founder jack said trade us china could last two decades adding tensions would impact chinese foreign firms negatively said even donald trump retired still continue need upgrade lot chinese business move countries added \n",
      "실제 헤드라인 : us china trade could last yrs alibaba jack ma \n",
      "예측 요약 :  china will not be china trade trade war jack ma\n",
      "\n",
      "\n",
      "원문 : nationalist congress party chief sharad pawar contest lok sabha elections party leader jitendra said saturday pawar made clear party candidature considered since lok sabha race added earlier reported contest pune seat \n",
      "실제 헤드라인 : will not contest lok sabha polls leader \n",
      "예측 요약 :  party to be in\n",
      "\n",
      "\n",
      "원문 : door visitors dressing room shattered bangladesh captain shakib al hasan win sri lanka tri series march according reports informed match referee chris broad shakib forcefully pushed door causing damage earlier match shakib urged batsmen walk decisions \n",
      "실제 헤드라인 : room after win over sl reports \n",
      "예측 요약 :  desh players in\n",
      "\n",
      "\n",
      "원문 : yoga guru turned businessman ramdev tuesday said patanjali plans enter partnerships international company also said patanjali would welcome financial support offered support idea foreign direct investment notably private equity fund co owned louis vuitton maker said ready invest million patanjali \n",
      "실제 헤드라인 : do not support will not partner with global firms ramdev \n",
      "예측 요약 :  ramdev patanjali to raise funds\n",
      "\n",
      "\n",
      "원문 : bengaluru based dairy poultry products delivery startup raised million seed funding round part deal acquire minority stake startup founded manipal institute technology alumni agrawal subscription based service offers varieties milk \n",
      "실제 헤드라인 : products delivery startup raises mn \n",
      "예측 요약 :  online startup raises million\n",
      "\n",
      "\n",
      "원문 : former english footballer david beckham defended kissing five year old daughter lips followers slammed player picture posted last month got actually criticised kiss kids lips want show kids love protect support said beckham \n",
      "실제 헤드라인 : defends with five year old daughter \n",
      "예측 요약 :  girl who got her as kid\n",
      "\n",
      "\n",
      "원문 : snap ceo evan spiegel nearly crore comparison tesla elon musk crore google sundar pichai around crore pay according bloomberg index included salaries bonuses among others three spiegel musk billionaires net worth billion billion respectively \n",
      "실제 헤드라인 : ceo was paid times more than musk \n",
      "예측 요약 :  ceo invests crore in tesla arm\n",
      "\n",
      "\n",
      "원문 : kashmir received first snowfall wednesday month long dry spell valley meteorological department said jammu srinagar national highway mughal road closed vehicular traffic fresh snowfall officials said meanwhile officials predicted another spell snowfall valley friday onwards \n",
      "실제 헤드라인 : kashmir its first of \n",
      "예측 요약 :  in pictures across mumbai\n",
      "\n",
      "\n",
      "원문 : sunrisers hyderabad pacer ashish nehra completed wickets ipl taking two wickets two balls royal challengers bangalore opening match ipl hyderabad wednesday eighth bowler overall feat first left arm bowler nehra finished figures stipulated four overs \n",
      "실제 헤드라인 : completes wickets in ipl hat trick \n",
      "예측 요약 :  bowler slams wickets in balls in balls\n",
      "\n",
      "\n",
      "원문 : year old tribal woman year old daughter killed jharkhand group villagers suspicion practising black magic one six assailants blamed mother daughter duo three year old son death decided murder police recovered one victim body searching \n",
      "실제 헤드라인 : woman killed on of black \n",
      "예측 요약 :  mother kills daughter after daughter her\n",
      "\n",
      "\n",
      "원문 : brawl broke flight turkey russia drunk passenger allegedly punched female flyer travelling video shows cabin crew passengers restraining man seat man reportedly placed watch list airlines \n",
      "실제 헤드라인 : drunk man female by \n",
      "예측 요약 :  drunk woman crew plane with\n",
      "\n",
      "\n",
      "원문 : former manipur chief minister last surviving member india first post parliament passed away tuesday due multiple organ failure age served manipur chief minister four times world oldest parliamentarian manipur government declared three days mourning state following death \n",
      "실제 헤드라인 : last member of st parliament post passes away \n",
      "예측 요약 :  ex india passes away aged\n",
      "\n",
      "\n",
      "원문 : talking scoring triple hundred test cricket goal team india captain virat kohli said goal win games goal persons kohli highest score test cricket came sri lanka december last year year old hit six test double tons \n",
      "실제 헤드라인 : triple in tests not my goal virat kohli \n",
      "예측 요약 :  kohli scores as india fastest odi in odi\n",
      "\n",
      "\n",
      "원문 : jd supremo hd deve gowda said regrets completed full term th pm th karnataka cm served cm december till may appointed pm lead party coalition united front outside support congress ten months later congress withdrew support form government \n",
      "실제 헤드라인 : not full term as pm taka cm \n",
      "예측 요약 :  jd has lost its in karnataka cm\n",
      "\n",
      "\n",
      "원문 : late doctor jan called field suspected children clinic netherlands lawyer group families said case involved client son physically dutch court approved families request dna tests death april \n",
      "실제 헤드라인 : late doctor accused of using own on \n",
      "예측 요약 :  doctor who to death by\n",
      "\n",
      "\n",
      "원문 : medical team accompanied nearly armed personnel administrative officials last week conducted autopsy tribal man chhattisgarh allegedly killed maoists april body dug ground post mortem according local police maoist affected area needed planning took time \n",
      "실제 헤드라인 : jawans doctors for of chhattisgarh man \n",
      "예측 요약 :  doctor in haryana\n",
      "\n",
      "\n",
      "원문 : sc friday upheld decision award death penalty four convicts nirbhaya gangrape case victim parents said justice delayed denied nirbhaya father said victory family happy judgement mother said victory everybody victory \n",
      "실제 헤드라인 : justice not denied kin on sc verdict \n",
      "예측 요약 :  sc rejects plea to death for\n",
      "\n",
      "\n"
     ]
    }
   ],
   "source": [
    "for i in range(50, 100):\n",
    "    print(\"원문 :\", seq2text(encoder_input_test[i]))\n",
    "    print(\"실제 헤드라인 :\", seq2summary(decoder_input_test[i]))\n",
    "    print(\"예측 요약 :\", decode_sequence(encoder_input_test[i].reshape(1, text_max_len)))\n",
    "    print(\"\\n\")"
   ]
  },
  {
   "cell_type": "markdown",
   "id": "0e3a28d9",
   "metadata": {},
   "source": [
    "- 기존 요약과는 확실히 다른 요약을 출력하고 있고, 대체로 원문의 내용을 담고 있는 요약을 하는 결과를 보여줍니다.\n",
    "- 일부 요약은 원문에 없던 단어를 사용해 요약을 하기도 합니다.\n",
    "- 워드 임베딩에 RNN을 활용했기에 가능한 결과입니다.\n",
    "\n",
    "---"
   ]
  },
  {
   "cell_type": "markdown",
   "id": "2208e774",
   "metadata": {},
   "source": [
    "# Step 5. Summa을 이용해서 추출적 요약 해보기\n",
    "\n",
    "- 기존에는 seq2seq로 추상적 요약을 실습했습니다.\n",
    "- 하지만 텍스트 요약에는 본문에 있는 단어구, 문장을 뽑아 요약하는 추출적 요약도 있습니다.\n",
    "\n",
    "---\n",
    "\n",
    "- `summa` 패키지를 사용해서 간단한 요약을 하는 방법으로 실습을 진행해 보겠습니다."
   ]
  },
  {
   "cell_type": "code",
   "execution_count": 146,
   "id": "3fbe1898",
   "metadata": {
    "ExecuteTime": {
     "end_time": "2024-01-04T23:52:28.835855Z",
     "start_time": "2024-01-04T23:52:28.328749Z"
    }
   },
   "outputs": [
    {
     "name": "stdout",
     "output_type": "stream",
     "text": [
      "원문 : Bengaluru-based biotech startup Pandorum Technologies has raised $3.2 million in Series A funding from Flipkart Co-founder Binny Bansal, Indian Angel Network and other individual investors. According to filings, the startup has already received $1.2 million and the remaining amount will come in tranches. Founded in 2011, the startup focusses on tissue engineering and regenerative medicine.\n",
      "실제 헤드라인 : Flipkart Co-founder backs biotech startup Pandorum \n",
      "예측 요약 : According to filings, the startup has already received $1.2 million and the remaining amount will come in tranches.\n",
      "\n",
      "\n",
      "원문 : After Sonam Kapoor, Masaba Gupta has taken a break from Twitter. On Wednesday, Masaba took to her Twitter and wrote, \"Taking some time off from Twitter. My brain is going to explode.\" In one of her Instagram stories, Masaba wrote, \"Gone off Twitter. I've always questioned whether I belong here and today I know for sure that I don't.\"\n",
      "실제 헤드라인 : After Sonam Kapoor, Masaba Gupta takes break from Twitter\n",
      "예측 요약 : On Wednesday, Masaba took to her Twitter and wrote, \"Taking some time off from Twitter.\n",
      "My brain is going to explode.\" In one of her Instagram stories, Masaba wrote, \"Gone off Twitter.\n",
      "\n",
      "\n",
      "원문 : Pope Francis on Friday asked the Rohingya refugees for \"forgiveness\" in the name of all of those who \"hurt\" them. He used the word \"Rohingya\" for the first time on his current Asia trip to refer to the refugees who fled the persecution in Myanmar. Earlier, the Pope called for \"respect for each ethnic group\" during his visit to Myanmar.\n",
      "실제 헤드라인 : Pope asks for 'forgiveness' from persecuted Rohingya Muslims\n",
      "예측 요약 : Pope Francis on Friday asked the Rohingya refugees for \"forgiveness\" in the name of all of those who \"hurt\" them.\n",
      "\n",
      "\n",
      "원문 : US venture capitalist Jonathan Teo, who has been accused of harassment and defamation by a former employee of his firm Binary Capital, was served summons via Twitter on Saturday. \"You and other Binary Capital entities have been sued in the matter,\" the tweet read. Teo has been accused of requesting female applicants' headshots and rating them according to attractiveness.\n",
      "실제 헤드라인 : US venture capitalist served summons via Twitter\n",
      "예측 요약 : US venture capitalist Jonathan Teo, who has been accused of harassment and defamation by a former employee of his firm Binary Capital, was served summons via Twitter on Saturday.\n",
      "\n",
      "\n",
      "원문 : Japan has enlisted companies like Uber and Airbus in a government-led group to bring flying cars to the country in the next decade. The country's Trade Ministry said that the group will initially bring together at least 21 businesses including Uber, Airbus, Japan Airlines, Toyota-backed startup Cartivator and others. Flying cars could ease urban traffic, Japan's Economy Minister said. \n",
      "실제 헤드라인 : Uber, Airbus working with Japan on its flying-car plans\n",
      "예측 요약 : Japan has enlisted companies like Uber and Airbus in a government-led group to bring flying cars to the country in the next decade.\n",
      "\n",
      "\n",
      "원문 : Kidnappers in Ukraine have released an employee at UK-registered cryptocurrency exchange EXMO after getting over $1 million in Bitcoin as ransom. Pavel Lerner, a Bitcoin analyst and blockchain expert, was abducted by a group of masked people on December 26, EXMO revealed. It also added that Lerner's work did not involve access to the financial assets of its users.\n",
      "실제 헤드라인 : Kidnappers free man after $1 million ransom paid in Bitcoin\n",
      "예측 요약 : Pavel Lerner, a Bitcoin analyst and blockchain expert, was abducted by a group of masked people on December 26, EXMO revealed.\n",
      "\n",
      "\n",
      "원문 : A TDP worker in Andhra Pradesh's Dachepalli was arrested on Sunday for allegedly raping a 14-year-old repeatedly for four months and impregnating her. The incident came to light after the victim fell unconscious and was rushed to a hospital, where doctors found her three months pregnant. The accused had also reportedly threatened the girl against speaking about the incident.\n",
      "실제 헤드라인 : TDP worker held for raping, impregnating 14-year-old girl\n",
      "예측 요약 : The incident came to light after the victim fell unconscious and was rushed to a hospital, where doctors found her three months pregnant.\n",
      "\n",
      "\n",
      "원문 : Filmmaker Sajid Khan has said Amitabh Bachchan is the most gifted comedian of all time. \"He ended the run of the comedians in films when a mainstream actor (like him) started doing comedy. He's the finest comedian as a superstar,\" he added. Sajid further said Akshay Kumar and Riteish Deshmukh are also talented comic actors who can pull off anything.\n",
      "실제 헤드라인 : Amitabh Bachchan is the most gifted comedian: Sajid Khan\n",
      "예측 요약 : Filmmaker Sajid Khan has said Amitabh Bachchan is the most gifted comedian of all time.\n",
      "\"He ended the run of the comedians in films when a mainstream actor (like him) started doing comedy.\n",
      "\n",
      "\n",
      "원문 : The first look of Shahid Kapoor from the upcoming film 'Padmavati' was revealed on Monday. Shahid plays Maharawal Ratan Singh, the husband of Rajput Queen Padmavati, portrayed by Deepika Padukone. The film also stars Ranveer Singh and revolves around Alauddin Khilji's infatuation with Padmavati. Directed by Sanjay Leela Bhansali, it is scheduled to release on December 11. \n",
      "실제 헤드라인 : First look of Shahid Kapoor from 'Padmavati' revealed\n",
      "예측 요약 : The first look of Shahid Kapoor from the upcoming film 'Padmavati' was revealed on Monday.\n",
      "The film also stars Ranveer Singh and revolves around Alauddin Khilji's infatuation with Padmavati.\n",
      "\n",
      "\n",
      "원문 : Hundreds of members of Christian and Dalit communities set fire to BJP flags in Andhra Pradesh's Chirala, accusing the party of supporting the distribution of hateful flyers against Jesus and the Bible. Protestors claimed that people distributing the pamphlets went to the BJP Chirala office, adding that two RSS members were part of the group.\n",
      "실제 헤드라인 : Andhra protestors burn BJP flags over anti-Christian flyers\n",
      "예측 요약 : Hundreds of members of Christian and Dalit communities set fire to BJP flags in Andhra Pradesh's Chirala, accusing the party of supporting the distribution of hateful flyers against Jesus and the Bible.\n",
      "\n",
      "\n",
      "원문 : Delhi Police arrested four men for allegedly chasing Union Minister of Textiles Smriti Irani in a Honda City car. Irani had lodged a complaint of eve-teasing following the incident on Saturday afternoon. The detained youth were taken to the Chanakyapuri police station in Delhi for further questioning.\n",
      "실제 헤드라인 : 4 men arrested for chasing Union Minister Smriti Irani\n",
      "예측 요약 : Delhi Police arrested four men for allegedly chasing Union Minister of Textiles Smriti Irani in a Honda City car.\n",
      "\n",
      "\n",
      "원문 : Belgium-based app developers have designed a chat app called Die With Me which can only be used when a user's smartphone has less than 5% battery left. The app allows users to connect to other users with low battery which it displays next to the sent texts. The app is available both on the App Store and Google Play Store.\n",
      "실제 헤드라인 : New chat app works only when phone's battery is less than 5%\n",
      "예측 요약 : The app allows users to connect to other users with low battery which it displays next to the sent texts.\n",
      "\n",
      "\n",
      "원문 : An Air India flight attendant was allegedly slapped by the cabin supervisor last week for serving a non-veg platter to a vegetarian passenger. The attendant had mistakenly served the wrong platter to a business-class passenger, following which the passenger called the supervisor. After the attendant apologised and replaced the food, the supervisor took her to the side and slapped her.\n",
      "실제 헤드라인 : Supervisor slaps air hostess for serving wrong meal to flyer\n",
      "예측 요약 : An Air India flight attendant was allegedly slapped by the cabin supervisor last week for serving a non-veg platter to a vegetarian passenger.\n",
      "\n",
      "\n",
      "원문 : An Argentine honour guard mistook a Chinese official for President Xi Jinping, starting the welcoming ceremony as the former disembarked from the presidential plane. The welcoming ceremony had to be restarted once President Jinping got off the plane. The Chinese President is on a visit to Argentina to attend the G20 Summit.\n",
      "실제 헤드라인 : Argentina honour guard mistakes Chinese official for Prez Xi\n",
      "예측 요약 : An Argentine honour guard mistook a Chinese official for President Xi Jinping, starting the welcoming ceremony as the former disembarked from the presidential plane.\n",
      "\n",
      "\n",
      "원문 : The committee probing into the allegations of sexual misconduct made against BCCI CEO Rahul Johri has sought more time to come to a decision. Justice Rakesh Sharma, former Judge of Allahabad High Court, Barkha Singh, former Chairperson of Delhi Commission for Women and women's rights lawyer Veena Gowda are a part of the inquiry committee.\n",
      "실제 헤드라인 : Committee probing BCCI CEO's sexual misconduct seeks more time\n",
      "예측 요약 : The committee probing into the allegations of sexual misconduct made against BCCI CEO Rahul Johri has sought more time to come to a decision.\n",
      "\n",
      "\n",
      "원문 : Associate Professor of medicine Dr DK Jha who is looking after RJD chief Lalu Prasad Yadav at Rajendra Institute of Medical Sciences, Ranchi said Yadav is under stress post his son Tej Pratap Yadav filed for divorce. Yadav's being given 14-15 types of medicines daily, therefore, stress isn't good for him, he added. Yadav not having adequate sleep, he said.\n",
      "실제 헤드라인 : Lalu under stress post son Tej Pratap's divorce: RIMS Doctor\n",
      "예측 요약 : Associate Professor of medicine Dr DK Jha who is looking after RJD chief Lalu Prasad Yadav at Rajendra Institute of Medical Sciences, Ranchi said Yadav is under stress post his son Tej Pratap Yadav filed for divorce.\n",
      "\n",
      "\n",
      "원문 : Suggesting he wasn't a silent Prime Minister, former PM Manmohan Singh said, \"I wasn't the PM... afraid of talking to the press.\" He added, \"On every foreign trip I undertook, I had a press conference on board or immediately on return.\" His statement was an apparent jibe at PM Narendra Modi, who hasn't held a press conference since taking charge.\n",
      "실제 헤드라인 : I wasn't the PM afraid of talking to press: Manmohan Singh\n",
      "예측 요약 : Suggesting he wasn't a silent Prime Minister, former PM Manmohan Singh said, \"I wasn't the PM...\n",
      "\n",
      "\n",
      "원문 : Salman Khan, on being asked about nepotism in Bollywood, jokingly said, \"I got to know the meaning of it only after Kangana Ranaut talked about nepotism.\" \"If the person is talented, he should be given films...Talent management companies need to concentrate on people who have potential,\" he added. Earlier, Kangana had spoken about nepotism on the show 'Koffee With Karan'.\n",
      "실제 헤드라인 : Got to know of nepotism after Kangana spoke about it: Salman\n",
      "예측 요약 : Salman Khan, on being asked about nepotism in Bollywood, jokingly said, \"I got to know the meaning of it only after Kangana Ranaut talked about nepotism.\" \"If the person is talented, he should be given films...Talent management companies need to concentrate on people who have potential,\" he added.\n",
      "\n",
      "\n",
      "원문 : US-based startup Grammarly, which runs a platform to check spelling and grammar, has raised $110 million in funding from General Catalyst, IVP and Spark Capital. This is the first venture round for the eight-year-old startup. Grammarly has around 69 lakh daily active users, most of whom use the service for free. \n",
      "실제 헤드라인 : Grammar, spelling checking platform Grammarly raises $110 mn\n",
      "예측 요약 : US-based startup Grammarly, which runs a platform to check spelling and grammar, has raised $110 million in funding from General Catalyst, IVP and Spark Capital.\n",
      "\n",
      "\n",
      "원문 : A video which shows Ranveer Singh rapping has been shared by rapper Divine on Instagram. Ranveer, who'll play a rapper in 'Gully Boy', was attending a rapping workshop to prepare for his role. Zoya Akhtar directorial 'Gully Boy' is reportedly inspired by the lives of rappers Vivian Fernandes, also known as Divine and Naved Shaikh, also known as Naezy.\n",
      "실제 헤드라인 : Video shows actor Ranveer Singh rapping\n",
      "예측 요약 : Ranveer, who'll play a rapper in 'Gully Boy', was attending a rapping workshop to prepare for his role.\n",
      "\n",
      "\n",
      "원문 : Veteran actor Prem Chopra said that whenever he appeared on screen in films, people knew he would create problems. In an earlier interview, Prem revealed that men would hide their wives when they saw him in real-life, as they thought he was vicious like his characters. Chopra is known for playing negative roles in films like 'Bobby', 'Souten', among others.\n",
      "실제 헤드라인 : When I came on screen, people knew I'll create problem: Prem\n",
      "예측 요약 : Chopra is known for playing negative roles in films like 'Bobby', 'Souten', among others.\n",
      "\n",
      "\n",
      "원문 : Chinese President Xi Jinping arrived in Hong Kong on Thursday to mark 20 years since the territory was handed back to China by Britain, ending over 150 years of colonial rule on July 1, 1997. Hong Kong was allowed to remain autonomous from mainland China and maintains separate laws and government under a 'one country, two systems' framework.\n",
      "실제 헤드라인 : Chinese Prez visits Hong Kong to mark handover anniversary\n",
      "예측 요약 : Chinese President Xi Jinping arrived in Hong Kong on Thursday to mark 20 years since the territory was handed back to China by Britain, ending over 150 years of colonial rule on July 1, 1997.\n",
      "\n",
      "\n",
      "원문 : Australia has become the first country in the world to recognise 'orphanage trafficking' as a form of modern slavery. Children from smaller countries are recruited in orphanages in the West for the purpose of profit through foreign aid. As per estimates, 80% of children living in the world's orphanages have at least one living parent.\n",
      "실제 헤드라인 : Australia 1st to recognise 'orphanage trafficking' as slavery\n",
      "예측 요약 : As per estimates, 80% of children living in the world's orphanages have at least one living parent.\n",
      "\n",
      "\n",
      "원문 : The Delhi Police on Friday arrested a government school's Sanskrit teacher for allegedly sexually assaulting class 10 student during summer vacations in June this year. The crime took place when the student had visited the teacher's house for extra classes. The teacher was arrested after a man running an NGO showed a video of the assault to police. \n",
      "실제 헤드라인 : Sanskrit teacher arrested for sexually assaulting student\n",
      "예측 요약 : The Delhi Police on Friday arrested a government school's Sanskrit teacher for allegedly sexually assaulting class 10 student during summer vacations in June this year.\n",
      "\n",
      "\n",
      "원문 : An Italian footballer has been banned for five matches for urinating on the pitch towards rival fans. Giovanni Liberti, a 21-year-old midfielder, allegedly made obscene gestures before urinating in the direction of the away stand. Liberti later explained he had been drinking water from a fountain before coming onto the pitch and was simply tucking his jersey into his shorts.\n",
      "실제 헤드라인 : Italian footballer gets five-game ban for urinating on pitch\n",
      "예측 요약 : An Italian footballer has been banned for five matches for urinating on the pitch towards rival fans.\n",
      "\n",
      "\n",
      "원문 : Police detained a team of six activists sent by Shiv Sena to hoist the Tricolour at Srinagar's Lal Chowk on Wednesday. However, the activists were released after completing legal formalities. Sena sent the team days after National Conference Chief Farooq Abdullah dared the Centre to try hoisting the flag at Lal Chowk before attempting the same in Pakistan-occupied Kashmir.\n",
      "실제 헤드라인 : Shiv Sena team detained before hoisting flag at Lal Chowk\n",
      "예측 요약 : Police detained a team of six activists sent by Shiv Sena to hoist the Tricolour at Srinagar's Lal Chowk on Wednesday.\n",
      "\n",
      "\n",
      "원문 : President Ram Nath Kovind on Sunday declared urban areas of Maharashtra open defecation free at a function held in Mumbai's Worli. While Kovind hailed the state for its efforts towards ensuring cleanliness, the state CM Devendra Fadnavis called the declaration a historic moment for Maharashtra. The state authorities said that rural Maharashtra would be open defecation free by March 2018.\n",
      "실제 헤드라인 : Prez Kovind declares urban Maharashtra open defecation free\n",
      "예측 요약 : President Ram Nath Kovind on Sunday declared urban areas of Maharashtra open defecation free at a function held in Mumbai's Worli.\n",
      "\n",
      "\n",
      "원문 : The Archaeological Survey of India is planning to restrict the number of tourists visiting the Taj Mahal to 40,000 daily in a bid to preserve the heritage site. It has also planned to put a 3-hour cap on each ticket holder to tour the monument. Reportedly, the daily limit will only be applicable for Indian tourists and not foreign tourists.\n",
      "실제 헤드라인 : Government to cap visitors to Taj Mahal at 40,000 per day\n",
      "예측 요약 : The Archaeological Survey of India is planning to restrict the number of tourists visiting the Taj Mahal to 40,000 daily in a bid to preserve the heritage site.\n",
      "\n",
      "\n",
      "원문 : According to a report by The Guardian, several female employees at Tesla have complained about sexual harassment, mistreatment by male managers, and unfair promotion decisions at a recent town hall meeting. One woman described Tesla's factory as a \"predator zone\" for harassment. In June, Tesla fired a female engineer who accused the automaker of ignoring her complaints of sexual harassment.\n",
      "실제 헤드라인 : Several female Tesla employees claim harassment at workplace\n",
      "예측 요약 : In June, Tesla fired a female engineer who accused the automaker of ignoring her complaints of sexual harassment.\n",
      "\n",
      "\n",
      "원문 : Infosys Co-chairman Ravi Venkatesan said the company could be 10 times as large as it's today if it could harness advances in digital learning well. Ã¢ÂÂYou know what Bill Gates had said? Anybody who says best days are over...is crazy because the best days are yet to come,Ã¢ÂÂ Venkatesan said, adding, \"I think we're living in a very interesting time.\"\n",
      "실제 헤드라인 : Infosys can be 10 times as large as it is today: Co-chairman\n",
      "예측 요약 : Infosys Co-chairman Ravi Venkatesan said the company could be 10 times as large as it's today if it could harness advances in digital learning well.\n",
      "\n",
      "\n",
      "원문 : The Supreme Court on Monday transferred to itself two petitions from Bombay High Court related to the death of special CBI Judge BH Loya. The court also restrained all High Courts from entertaining any petition relating to LoyaÃ¢ÂÂs death. Judge Loya had died while presiding over the Sohrabuddin Sheikh encounter case, in which BJP President Amit Shah was named. \n",
      "실제 헤드라인 : SC transfers petitions in HC on Judge Loya case to itself\n",
      "예측 요약 : The Supreme Court on Monday transferred to itself two petitions from Bombay High Court related to the death of special CBI Judge BH Loya.\n",
      "\n",
      "\n",
      "원문 : Filmmaker Karan Johar on Thursday announced he will be co-producing a biopic on Kargil war hero Vikram Batra. Sidharth Malhotra will play the lead in the film, which will be directed by Vishnu Varadhan. Vikram Batra, called Sher Shah of Kargil, was an officer of Indian Army who was martyred at the age of 24 during the 1999 Kargil war.\n",
      "실제 헤드라인 : Karan Johar to produce biopic on Kargil martyr Vikram Batra\n",
      "예측 요약 : Filmmaker Karan Johar on Thursday announced he will be co-producing a biopic on Kargil war hero Vikram Batra.\n",
      "\n",
      "\n",
      "원문 : Deutsche Bank's India Chief Executive Officer (CEO) Ravneet Singh Gill is reportedly the frontrunner for private sector lender Yes Bank's CEO post. Gill and Yes Bank Senior Group President Rajat Monga were the candidates recommended by the lender's board to replace Rana Kapoor, reports added. The Reserve Bank of India has asked Kapoor to step down by January 31.\n",
      "실제 헤드라인 : Deutsche Bank's India CEO in race for Yes Bank CEO: Reports\n",
      "예측 요약 : Gill and Yes Bank Senior Group President Rajat Monga were the candidates recommended by the lender's board to replace Rana Kapoor, reports added.\n",
      "\n",
      "\n",
      "원문 : Indian shuttlers Parupalli Kashyap and HS Prannoy earned victories on Friday to enter the men's singles semi-finals at the $120,000 US Open Grand Prix Gold badminton in Anaheim. Prannoy will face Vietnamese veteran and 15th seed Tien Minh Nguyen, while Kashyap will play against South Korea's Kwang Hee Heo. \n",
      "실제 헤드라인 : Shuttlers Kashyap, Prannoy enter US Open semifinals\n",
      "예측 요약 : Indian shuttlers Parupalli Kashyap and HS Prannoy earned victories on Friday to enter the men's singles semi-finals at the $120,000 US Open Grand Prix Gold badminton in Anaheim.\n",
      "\n",
      "\n",
      "원문 : Actress Neha Dhupia said she once caught a woman filming her for one hour and forty minutes while she was sleeping on a flight. \"I was like, 'What are you doing?' She said, 'No, you look great when you sleep',\" added Neha. She further said, \"Fans often cross the line, and most of the times, you can't help (it).\" \n",
      "실제 헤드라인 : I once caught woman filming me while I slept on flight: Neha\n",
      "예측 요약 : \"I was like, 'What are you doing?' She said, 'No, you look great when you sleep',\" added Neha.\n",
      "\n",
      "\n",
      "원문 : The German government has approved a bill to overturn the convictions of 50,000 men sentenced for homosexuality under a Nazi-era law which remained in force after the Second World War. If the law is passed, about 5,000 men convicted under the old law, who are still alive, will receive a Ã¢ÂÂ¬3,000 compensation and Ã¢ÂÂ¬1,500 for each year spent in jail.\n",
      "실제 헤드라인 : Germany to clear 50,000 gays convicted under Nazi-era law\n",
      "예측 요약 : \n",
      "\n",
      "\n",
      "원문 : BJP leader Subramanian Swamy has said that India should recognise Balochistan as a separate country if Pakistan went ahead with the execution of ex-Indian Navy officer Kulbhushan Jadhav. \"Pakistan should be taught a lesson... Pakistan should be divided into Balochistan, Pakhtunistan and Sindh to teach it a lesson for encouraging cross-border terrorism,\" he further added.\n",
      "실제 헤드라인 : Recognise Balochistan as nation, if Pak kills Jadhav: Swamy\n",
      "예측 요약 : Pakistan should be divided into Balochistan, Pakhtunistan and Sindh to teach it a lesson for encouraging cross-border terrorism,\" he further added.\n",
      "\n",
      "\n",
      "원문 : European Council President Donald Tusk has said that the bloc members' \"hearts are still open\" to Britain if it chooses to reverse its Brexit decision. \"If the UK sticks to its decision to leave, Brexit will become a reality with all its negative consequences,\" he added. Tusk's remarks come amid demands to hold a second Brexit referendum.\n",
      "실제 헤드라인 : Our hearts still open to Brexit reversal: European Council\n",
      "예측 요약 : European Council President Donald Tusk has said that the bloc members' \"hearts are still open\" to Britain if it chooses to reverse its Brexit decision.\n",
      "\n",
      "\n",
      "원문 : Infosys CEO Vishal Sikka on Friday denied media reports that claimed Infosys founders were looking to sell their entire 12.5% stake in the company worth about Ã¢ÂÂ¹28,000 crore. \"The speculation has already been categorically denied by the promoters,\" said Infosys. Infosys founders had earlier expressed concerns about how the company was being run by the current management and board.\n",
      "실제 헤드라인 : Infosys CEO denies reports of founders selling their stake\n",
      "예측 요약 : Infosys CEO Vishal Sikka on Friday denied media reports that claimed Infosys founders were looking to sell their entire 12.5% stake in the company worth about Ã¢ÂÂ¹28,000 crore.\n",
      "\n",
      "\n",
      "원문 : At least 14 people have been killed in a suicide bomb explosion targeting a gathering of the Afghan Ulema Council, shortly after the country's top religious body issued a fatwa declaring suicide attacks \"haram\". The council had called on the Afghan government forces and the Taliban to halt the ongoing conflict and agree on a ceasefire.\n",
      "실제 헤드라인 : Bombing at Afghan clerics meet that banned suicide bombing\n",
      "예측 요약 : At least 14 people have been killed in a suicide bomb explosion targeting a gathering of the Afghan Ulema Council, shortly after the country's top religious body issued a fatwa declaring suicide attacks \"haram\".\n",
      "\n",
      "\n",
      "원문 : Actor Anupam Kher on Sunday wrote on Twitter that he got the opportunity to visit Varanasi after a long time and was happy to see the cleanliness. He added that the country was moving towards prosperity under the leadership of PM Narendra Modi. Thanking him, PM Modi replied that the development of his parliamentary constituency is his fortune.\n",
      "실제 헤드라인 : Anupam says happy to see 'clean' Varanasi, PM Modi replies\n",
      "예측 요약 : He added that the country was moving towards prosperity under the leadership of PM Narendra Modi.\n",
      "\n",
      "\n",
      "원문 : Releasing his first Hindi single 'Jaane Ye Kyun Kiya', Farhan Akhtar took to social media and wrote, \"Here we are...from Rochak Kohli and myself for you...the official video. Hope you like it. Love.\" The song, composed by Farhan and Rochak, has been written and sung by Farhan. Featuring Farhan, the song tells a love story that meets a tragic end.\n",
      "실제 헤드라인 : Farhan Akhtar's first Hindi single 'Jaane Ye Kyun Kiya' out\n",
      "예측 요약 : Love.\" The song, composed by Farhan and Rochak, has been written and sung by Farhan.\n",
      "Featuring Farhan, the song tells a love story that meets a tragic end.\n",
      "\n",
      "\n",
      "원문 : The CBI has arrested Vipul Ambani, Mukesh Ambani's cousin and President (Finance) of Nirav Modi's Firestar Diamond firm in connection with $1.77-billion PNB scam. Firestar's executive assistant Kavita Mankikar and Senior Executive Arjun Patil were also arrested. They were reportedly responsible for getting the Letters of Undertaking worth Ã¢ÂÂ¹6,498 crore issued illegally with help of PNB officials.\n",
      "실제 헤드라인 : CBI arrests Mukesh Ambani's cousin Vipul Ambani in PNB scam\n",
      "예측 요약 : The CBI has arrested Vipul Ambani, Mukesh Ambani's cousin and President (Finance) of Nirav Modi's Firestar Diamond firm in connection with $1.77-billion PNB scam.\n",
      "\n",
      "\n",
      "원문 : BJP member Arjun Gupta has said filmmaker Sanjay Leela Bhansali should be tried for treason for his upcoming film 'Padmavati'. \"I have written a letter to Home Minister that strict action [should] be taken against him,\" Gupta added. He further said, \"If this is not done he will continue making such films.\" \n",
      "실제 헤드라인 : Bhansali should be tried for treason: BJP member Arjun Gupta\n",
      "예측 요약 : BJP member Arjun Gupta has said filmmaker Sanjay Leela Bhansali should be tried for treason for his upcoming film 'Padmavati'.\n",
      "\n",
      "\n",
      "원문 : State-owned ONGC on Saturday said it will acquire the government's entire 51.11% stake in Hindustan Petroleum (HPCL) for Ã¢ÂÂ¹36,915 crore. ONGC said \"shares will be acquired against cash\" and the transaction will be closed before the month-end. The acquisition has helped government surpass its budgeted target for disinvestment of Ã¢ÂÂ¹72,500 crore for the current fiscal.\n",
      "실제 헤드라인 : ONGC to acquire govt's entire stake in HPCL for Ã¢ÂÂ¹36,915 cr\n",
      "예측 요약 : State-owned ONGC on Saturday said it will acquire the government's entire 51.11% stake in Hindustan Petroleum (HPCL) for Ã¢ÂÂ¹36,915 crore.\n",
      "\n",
      "\n",
      "원문 : Federal prosecutors in the US have said that they are currently going through data from more than 100 smartphones seized from protesters during US President Donald Trump's inauguration. An assistant United States attorney noted that all the \"Rioter Cell Phones\" were locked. Officials will be able to extract information like private photos, videos, and medical data from the phones.\n",
      "실제 헤드라인 : US govt hacks 100 phones seized during anti-Trump protests\n",
      "예측 요약 : Officials will be able to extract information like private photos, videos, and medical data from the phones.\n",
      "\n",
      "\n",
      "원문 : A probe committee, headed by former Supreme Court judge HS Bedi, has told the apex court that three out of 17 encounters that took place in Gujarat from 2002-2006 were fake. In its 229-page report, the committee said it had \"prima facie evidence of custodial killings\" of three persons and recommended action against nine police officers involved in them.\n",
      "실제 헤드라인 : 3 of 17 encounters in Guj between 2002 and 2006 fake: Probe team\n",
      "예측 요약 : A probe committee, headed by former Supreme Court judge HS Bedi, has told the apex court that three out of 17 encounters that took place in Gujarat from 2002-2006 were fake.\n",
      "\n",
      "\n",
      "원문 : A non-drinker who was wrongfully charged for drink-driving has settled his lawsuit against New York City for nearly $1 million. Oliver Wiggins claimed that his wrongful charge was a cover-up after a police officer crashed into his car in Brooklyn. Wiggin's lawyer said that his client also suffered injuries that required surgery on his wrist. \n",
      "실제 헤드라인 : Non-drinker gets $1mn for wrong drink-driving charge\n",
      "예측 요약 : Oliver Wiggins claimed that his wrongful charge was a cover-up after a police officer crashed into his car in Brooklyn.\n",
      "\n",
      "\n",
      "원문 : An audit by CAG revealed that contaminated food, unpurified water direct from taps, and other edibles unfit for consumption, are being served on trains. The report stated that packaged items were being served after expiry dates, while rats were found in many of the 80 trains and 74 stations audited. It further revealed food was being sold at higher prices.\n",
      "실제 헤드라인 : Railways serving food unfit for human consumption: CAG\n",
      "예측 요약 : An audit by CAG revealed that contaminated food, unpurified water direct from taps, and other edibles unfit for consumption, are being served on trains.\n",
      "\n",
      "\n",
      "원문 : World number 16 Nick Kyrgios has withdrawn from his quarter-final match against Roger Federer at the Indian Wells Masters citing food poisoning. Kyrgios tweeted before the match that he had \"a restless night of being sick\" and \"needed to have my best chance\" to play Federer. The Swiss player, who is automatically in the semis, said it \"was a pity\".\n",
      "실제 헤드라인 : World no. 16 pulls out of match vs Federer citing sickness\n",
      "예측 요약 : World number 16 Nick Kyrgios has withdrawn from his quarter-final match against Roger Federer at the Indian Wells Masters citing food poisoning.\n",
      "\n",
      "\n"
     ]
    }
   ],
   "source": [
    "from summa.summarizer import summarize\n",
    "\n",
    "# 데이터 불러오기\n",
    "# 위에서 이미 다운받았으므로 로딩만 진행\n",
    "df = pd.read_csv(filename, encoding='iso-8859-1')\n",
    "\n",
    "# 무작위로 50개의 샘플 추출\n",
    "samples = df.sample(n=50)\n",
    "\n",
    "# 각 샘플에 대해 원문, 실제 헤드라인, 추출적 요약 수행\n",
    "for i in samples.index:\n",
    "    print(\"원문 :\", samples.loc[i, 'text'])\n",
    "    print(\"실제 헤드라인 :\", samples.loc[i, 'headlines'])\n",
    "    print(\"예측 요약 :\", summarize(samples.loc[i, 'text'], ratio=0.5))\n",
    "    print(\"\\n\")"
   ]
  },
  {
   "cell_type": "markdown",
   "id": "ff98d77c",
   "metadata": {},
   "source": [
    "# Step 6. 추상적 요약 vs 추출적 요약\n",
    "\n",
    "- 동일 원문에 대해 추상적 요약의 결과와 추출적 요약의 결과를 비교합니다.\n",
    "    - 기준 1) 문법 완성도 측면\n",
    "    - 기준 2) 핵심단어 포함 측면\n",
    "    \n",
    "- [Text Summarization Repo](https://github.com/uoneway/Text-Summarization-Repo)\n",
    "- [20-01 어텐션을 이용한 텍스트 요약(Text Summarization with Attention mechanism)](https://wikidocs.net/72820)\n",
    "- [ROUGE: A Package for Automatic Evaluation of Summaries](https://aclanthology.org/W04-1013/)\n",
    "- [예시를 통한 ROUGE 성능 지표의 이해](https://huffon.github.io/2019/12/07/rouge/)\n",
    "\n",
    "---"
   ]
  },
  {
   "cell_type": "markdown",
   "id": "d37a3b17",
   "metadata": {},
   "source": [
    "## 문법 완성도 측면 비교"
   ]
  },
  {
   "cell_type": "markdown",
   "id": "b62b1e67",
   "metadata": {},
   "source": [
    "### language_tool_python 테스트\n",
    "\n",
    "- 문법 완성도 측면(1)\n",
    "    - `language_tool_python` 라이브러리를 통해 입력한 문장에 대해 문법적 체크를 하고, 수정사항을 제안받을 수 있습니다.\n",
    "    - 이 기능을 활용해 원문 헤드라인을 language_tool_python에 입력해 수정사항을 추천받으면 해당 문장과 요약한 문장의 일치율을 계산합니다.\n",
    "    - 해당 결과들을 모든 테스트 데이터셋에 대해 구해서 일치율을 구해 문법완성도를 비교합니다."
   ]
  },
  {
   "cell_type": "code",
   "execution_count": 147,
   "id": "1ba4c88d",
   "metadata": {
    "ExecuteTime": {
     "end_time": "2024-01-05T00:47:32.488455Z",
     "start_time": "2024-01-05T00:47:28.786680Z"
    },
    "scrolled": true
   },
   "outputs": [
    {
     "name": "stdout",
     "output_type": "stream",
     "text": [
      "Offset 8, length 1, Rule ID: EN_A_VS_AN\n",
      "Message: Use “an” instead of ‘a’ if the following word starts with a vowel sound, e.g. ‘an article’, ‘an hour’.\n",
      "Suggestion: an\n",
      "This is a example sentence with grammar mistake.\n",
      "        ^\n"
     ]
    }
   ],
   "source": [
    "# language_tool 객체 생성\n",
    "tool = language_tool_python.LanguageTool('en-US')\n",
    "\n",
    "# 텍스트 문법 오류 체크\n",
    "text = \"This is a example sentence with grammar mistake.\"\n",
    "matches = tool.check(text)\n",
    "\n",
    "# 발견된 문법 오류 출력\n",
    "for match in matches:\n",
    "    print(match)"
   ]
  },
  {
   "cell_type": "markdown",
   "id": "1e760433",
   "metadata": {},
   "source": [
    "### 테스트데이터셋을 이용해 추상적 요약 결과를 추출"
   ]
  },
  {
   "cell_type": "code",
   "execution_count": 149,
   "id": "3503cf8c",
   "metadata": {
    "ExecuteTime": {
     "end_time": "2024-01-05T03:29:25.635990Z",
     "start_time": "2024-01-05T01:00:24.969333Z"
    }
   },
   "outputs": [
    {
     "name": "stderr",
     "output_type": "stream",
     "text": [
      "Processing: 100%|██████████████████████████████████████████████████████████████| 19629/19629 [2:29:00<00:00,  2.20it/s]\n"
     ]
    },
    {
     "data": {
      "text/html": [
       "<div>\n",
       "<style scoped>\n",
       "    .dataframe tbody tr th:only-of-type {\n",
       "        vertical-align: middle;\n",
       "    }\n",
       "\n",
       "    .dataframe tbody tr th {\n",
       "        vertical-align: top;\n",
       "    }\n",
       "\n",
       "    .dataframe thead th {\n",
       "        text-align: right;\n",
       "    }\n",
       "</style>\n",
       "<table border=\"1\" class=\"dataframe\">\n",
       "  <thead>\n",
       "    <tr style=\"text-align: right;\">\n",
       "      <th></th>\n",
       "      <th>text</th>\n",
       "      <th>headlines</th>\n",
       "      <th>summary</th>\n",
       "    </tr>\n",
       "  </thead>\n",
       "  <tbody>\n",
       "    <tr>\n",
       "      <th>0</th>\n",
       "      <td>nearly pakistani cricketers including saeed aj...</td>\n",
       "      <td>about pak cricketers stuck in over dispute</td>\n",
       "      <td>pak batsman to death over match</td>\n",
       "    </tr>\n",
       "    <tr>\n",
       "      <th>1</th>\n",
       "      <td>bjp became single largest party karnataka winn...</td>\n",
       "      <td>bjp as single largest party in taka with seats</td>\n",
       "      <td>bjp wins seats in seats in taka assembly seats</td>\n",
       "    </tr>\n",
       "    <tr>\n",
       "      <th>2</th>\n",
       "      <td>lok sabha session wednesday mos home affairs h...</td>\n",
       "      <td>no of any deaths linked to blue govt</td>\n",
       "      <td>minister suicide safety after suicide</td>\n",
       "    </tr>\n",
       "    <tr>\n",
       "      <th>3</th>\n",
       "      <td>bengaluru police wednesday arrested three susp...</td>\n",
       "      <td>fake aadhaar land pakistani in jail</td>\n",
       "      <td>held for pak women who held for</td>\n",
       "    </tr>\n",
       "    <tr>\n",
       "      <th>4</th>\n",
       "      <td>state run oil natural gas keen buy fuel retail...</td>\n",
       "      <td>to buy in deal worth crore</td>\n",
       "      <td>to buy petrol debt with</td>\n",
       "    </tr>\n",
       "  </tbody>\n",
       "</table>\n",
       "</div>"
      ],
      "text/plain": [
       "                                                text  \\\n",
       "0  nearly pakistani cricketers including saeed aj...   \n",
       "1  bjp became single largest party karnataka winn...   \n",
       "2  lok sabha session wednesday mos home affairs h...   \n",
       "3  bengaluru police wednesday arrested three susp...   \n",
       "4  state run oil natural gas keen buy fuel retail...   \n",
       "\n",
       "                                         headlines  \\\n",
       "0      about pak cricketers stuck in over dispute    \n",
       "1  bjp as single largest party in taka with seats    \n",
       "2            no of any deaths linked to blue govt    \n",
       "3             fake aadhaar land pakistani in jail    \n",
       "4                      to buy in deal worth crore    \n",
       "\n",
       "                                           summary  \n",
       "0                  pak batsman to death over match  \n",
       "1   bjp wins seats in seats in taka assembly seats  \n",
       "2            minister suicide safety after suicide  \n",
       "3                  held for pak women who held for  \n",
       "4                          to buy petrol debt with  "
      ]
     },
     "execution_count": 149,
     "metadata": {},
     "output_type": "execute_result"
    }
   ],
   "source": [
    "from tqdm import tqdm\n",
    "\n",
    "# 테스트 데이터셋 전체를 순회하며 각 컬럼의 데이터를 리스트에 저장\n",
    "texts = []        # 원문을 저장할 리스트\n",
    "headlines = []    # 실제 요약문을 저장할 리스트\n",
    "summaries = []    # 예측 요약문을 저장할 리스트\n",
    "\n",
    "# tqdm을 사용하여 진행 상황을 확인하면서 데이터를 저장\n",
    "for i in tqdm(range(len(encoder_input_test)), desc=\"Processing\"):\n",
    "    texts.append(seq2text(encoder_input_test[i]))  # 원문 추가\n",
    "    headlines.append(seq2summary(decoder_input_test[i]))  # 실제 헤드라인 추가\n",
    "    summaries.append(decode_sequence(encoder_input_test[i].reshape(1, text_max_len)))  # 예측 요약 추가\n",
    "\n",
    "# DataFrame 생성\n",
    "abs_summaries = pd.DataFrame({'text': texts, 'headlines': headlines, 'summary': summaries})\n",
    "\n",
    "# DataFrame 확인\n",
    "abs_summaries.head()  # 생성된 DataFrame의 상위 5개 행을 출력하여 확인"
   ]
  },
  {
   "cell_type": "markdown",
   "id": "9f1d5b7c",
   "metadata": {},
   "source": [
    "### 테스트데이터셋을 이용해 추출적 요약 결과를 추출"
   ]
  },
  {
   "cell_type": "code",
   "execution_count": 153,
   "id": "afda8091",
   "metadata": {
    "ExecuteTime": {
     "end_time": "2024-01-05T03:50:57.962826Z",
     "start_time": "2024-01-05T03:38:58.226455Z"
    }
   },
   "outputs": [
    {
     "name": "stderr",
     "output_type": "stream",
     "text": [
      "Processing: 100%|███████████████████████████████████████████████████████████████| 98401/98401 [11:59<00:00, 136.82it/s]"
     ]
    },
    {
     "name": "stdout",
     "output_type": "stream",
     "text": [
      "                                                text  \\\n",
      "0  Saurav Kant, an alumnus of upGrad and IIIT-B's...   \n",
      "1  Kunal Shah's credit card bill payment platform...   \n",
      "2  New Zealand defeated India by 8 wickets in the...   \n",
      "3  With Aegon Life iTerm Insurance plan, customer...   \n",
      "4  Speaking about the sexual harassment allegatio...   \n",
      "\n",
      "                                           headlines  \\\n",
      "0  upGrad learner switches to career in ML & Al w...   \n",
      "1  Delhi techie wins free food from Swiggy for on...   \n",
      "2  New Zealand end Rohit Sharma-led India's 12-ma...   \n",
      "3  Aegon life iTerm insurance plan helps customer...   \n",
      "4  Have known Hirani for yrs, what if MeToo claim...   \n",
      "\n",
      "                                             summary  \n",
      "0  upGrad's Online Power Learning has powered 3 l...  \n",
      "1  Users get one CRED coin per rupee of bill paid...  \n",
      "2  The match witnessed India getting all out for ...  \n",
      "3  Also, customers have options to insure against...  \n",
      "4  Speaking about the sexual harassment allegatio...  \n"
     ]
    },
    {
     "name": "stderr",
     "output_type": "stream",
     "text": [
      "\n"
     ]
    }
   ],
   "source": [
    "# 결과를 담을 DataFrame 생성\n",
    "ext_summaries = pd.DataFrame(columns=['text', 'headlines', 'summary'])\n",
    "\n",
    "# 데이터 불러오기 (이미 로딩된 데이터를 사용)\n",
    "data = pd.read_csv(filename, encoding='iso-8859-1')\n",
    "\n",
    "# tqdm을 사용하여 진행 상황을 확인하면서 요약 수행\n",
    "for i in tqdm(data.index, desc=\"Processing\"):\n",
    "    text = data.loc[i, 'text']  # 'data'에서 'text' 컬럼의 데이터를 가져옵니다.\n",
    "    headline = data.loc[i, 'headlines']  # 'data'에서 'headlines' 컬럼의 데이터를 가져옵니다.\n",
    "    summary = summarize(text, ratio=0.5)  # 'text'를 사용하여 요약문을 생성합니다.\n",
    "    \n",
    "    # 결과를 ext_summaries DataFrame에 추가\n",
    "    ext_summaries = ext_summaries.append({'text': text, 'headlines': headline, 'summary': summary}, ignore_index=True)\n",
    "\n",
    "# 결과를 확인\n",
    "print(ext_summaries.head()) # 생성된 DataFrame의 상위 5개 행을 출력하여 확인"
   ]
  },
  {
   "cell_type": "code",
   "execution_count": 156,
   "id": "ee1bec71",
   "metadata": {
    "ExecuteTime": {
     "end_time": "2024-01-05T03:57:32.156977Z",
     "start_time": "2024-01-05T03:57:30.718222Z"
    }
   },
   "outputs": [],
   "source": [
    "# 생성된 df 저장\n",
    "abs_summaries.to_csv('abs_summaries.csv', index = False)\n",
    "ext_summaries.to_csv('ext_summaries.csv', index = False)"
   ]
  },
  {
   "cell_type": "code",
   "execution_count": 4,
   "id": "4d72e002",
   "metadata": {
    "ExecuteTime": {
     "end_time": "2024-01-05T07:31:20.242039Z",
     "start_time": "2024-01-05T07:31:19.656266Z"
    }
   },
   "outputs": [],
   "source": [
    "# 'abs_summaries.csv' 파일에서 데이터프레임 불러오기\n",
    "abs_summaries = pd.read_csv('abs_summaries.csv')\n",
    "\n",
    "# 'ext_summaries.csv' 파일에서 데이터프레임 불러오기\n",
    "ext_summaries = pd.read_csv('ext_summaries.csv')"
   ]
  },
  {
   "cell_type": "markdown",
   "id": "084b6ebb",
   "metadata": {},
   "source": [
    "### 요약 방법별 성능 비교"
   ]
  },
  {
   "cell_type": "code",
   "execution_count": 157,
   "id": "341ec37d",
   "metadata": {
    "ExecuteTime": {
     "end_time": "2024-01-05T07:03:10.252806Z",
     "start_time": "2024-01-05T03:57:32.159976Z"
    }
   },
   "outputs": [
    {
     "data": {
      "text/html": [
       "<div>\n",
       "<style scoped>\n",
       "    .dataframe tbody tr th:only-of-type {\n",
       "        vertical-align: middle;\n",
       "    }\n",
       "\n",
       "    .dataframe tbody tr th {\n",
       "        vertical-align: top;\n",
       "    }\n",
       "\n",
       "    .dataframe thead th {\n",
       "        text-align: right;\n",
       "    }\n",
       "</style>\n",
       "<table border=\"1\" class=\"dataframe\">\n",
       "  <thead>\n",
       "    <tr style=\"text-align: right;\">\n",
       "      <th></th>\n",
       "      <th>headlines</th>\n",
       "      <th>summary</th>\n",
       "      <th>error_difference</th>\n",
       "    </tr>\n",
       "  </thead>\n",
       "  <tbody>\n",
       "    <tr>\n",
       "      <th>0</th>\n",
       "      <td>about pak cricketers stuck in over dispute</td>\n",
       "      <td>pak batsman to death over match</td>\n",
       "      <td>1</td>\n",
       "    </tr>\n",
       "    <tr>\n",
       "      <th>1</th>\n",
       "      <td>bjp as single largest party in taka with seats</td>\n",
       "      <td>bjp wins seats in seats in taka assembly seats</td>\n",
       "      <td>1</td>\n",
       "    </tr>\n",
       "    <tr>\n",
       "      <th>2</th>\n",
       "      <td>no of any deaths linked to blue govt</td>\n",
       "      <td>minister suicide safety after suicide</td>\n",
       "      <td>0</td>\n",
       "    </tr>\n",
       "    <tr>\n",
       "      <th>3</th>\n",
       "      <td>fake aadhaar land pakistani in jail</td>\n",
       "      <td>held for pak women who held for</td>\n",
       "      <td>1</td>\n",
       "    </tr>\n",
       "    <tr>\n",
       "      <th>4</th>\n",
       "      <td>to buy in deal worth crore</td>\n",
       "      <td>to buy petrol debt with</td>\n",
       "      <td>0</td>\n",
       "    </tr>\n",
       "  </tbody>\n",
       "</table>\n",
       "</div>"
      ],
      "text/plain": [
       "                                         headlines  \\\n",
       "0      about pak cricketers stuck in over dispute    \n",
       "1  bjp as single largest party in taka with seats    \n",
       "2            no of any deaths linked to blue govt    \n",
       "3             fake aadhaar land pakistani in jail    \n",
       "4                      to buy in deal worth crore    \n",
       "\n",
       "                                           summary  error_difference  \n",
       "0                  pak batsman to death over match                 1  \n",
       "1   bjp wins seats in seats in taka assembly seats                 1  \n",
       "2            minister suicide safety after suicide                 0  \n",
       "3                  held for pak women who held for                 1  \n",
       "4                          to buy petrol debt with                 0  "
      ]
     },
     "metadata": {},
     "output_type": "display_data"
    },
    {
     "data": {
      "text/html": [
       "<div>\n",
       "<style scoped>\n",
       "    .dataframe tbody tr th:only-of-type {\n",
       "        vertical-align: middle;\n",
       "    }\n",
       "\n",
       "    .dataframe tbody tr th {\n",
       "        vertical-align: top;\n",
       "    }\n",
       "\n",
       "    .dataframe thead th {\n",
       "        text-align: right;\n",
       "    }\n",
       "</style>\n",
       "<table border=\"1\" class=\"dataframe\">\n",
       "  <thead>\n",
       "    <tr style=\"text-align: right;\">\n",
       "      <th></th>\n",
       "      <th>headlines</th>\n",
       "      <th>summary</th>\n",
       "      <th>error_difference</th>\n",
       "    </tr>\n",
       "  </thead>\n",
       "  <tbody>\n",
       "    <tr>\n",
       "      <th>0</th>\n",
       "      <td>upGrad learner switches to career in ML &amp; Al w...</td>\n",
       "      <td>upGrad's Online Power Learning has powered 3 l...</td>\n",
       "      <td>0</td>\n",
       "    </tr>\n",
       "    <tr>\n",
       "      <th>1</th>\n",
       "      <td>Delhi techie wins free food from Swiggy for on...</td>\n",
       "      <td>Users get one CRED coin per rupee of bill paid...</td>\n",
       "      <td>3</td>\n",
       "    </tr>\n",
       "    <tr>\n",
       "      <th>2</th>\n",
       "      <td>New Zealand end Rohit Sharma-led India's 12-ma...</td>\n",
       "      <td>The match witnessed India getting all out for ...</td>\n",
       "      <td>1</td>\n",
       "    </tr>\n",
       "    <tr>\n",
       "      <th>3</th>\n",
       "      <td>Aegon life iTerm insurance plan helps customer...</td>\n",
       "      <td>Also, customers have options to insure against...</td>\n",
       "      <td>2</td>\n",
       "    </tr>\n",
       "    <tr>\n",
       "      <th>4</th>\n",
       "      <td>Have known Hirani for yrs, what if MeToo claim...</td>\n",
       "      <td>Speaking about the sexual harassment allegatio...</td>\n",
       "      <td>4</td>\n",
       "    </tr>\n",
       "  </tbody>\n",
       "</table>\n",
       "</div>"
      ],
      "text/plain": [
       "                                           headlines  \\\n",
       "0  upGrad learner switches to career in ML & Al w...   \n",
       "1  Delhi techie wins free food from Swiggy for on...   \n",
       "2  New Zealand end Rohit Sharma-led India's 12-ma...   \n",
       "3  Aegon life iTerm insurance plan helps customer...   \n",
       "4  Have known Hirani for yrs, what if MeToo claim...   \n",
       "\n",
       "                                             summary  error_difference  \n",
       "0  upGrad's Online Power Learning has powered 3 l...                 0  \n",
       "1  Users get one CRED coin per rupee of bill paid...                 3  \n",
       "2  The match witnessed India getting all out for ...                 1  \n",
       "3  Also, customers have options to insure against...                 2  \n",
       "4  Speaking about the sexual harassment allegatio...                 4  "
      ]
     },
     "metadata": {},
     "output_type": "display_data"
    },
    {
     "name": "stdout",
     "output_type": "stream",
     "text": [
      "abs_summaries의 평균 문법 오류 차이: 0.6020174232003668\n",
      "ext_summaries의 평균 문법 오류 차이: 1.016798609770226\n"
     ]
    }
   ],
   "source": [
    "# language_tool 객체 생성\n",
    "tool = language_tool_python.LanguageTool('en-US')\n",
    "\n",
    "def evaluate_grammar(text):\n",
    "    \"\"\" 문장의 문법 오류 수를 반환합니다. \"\"\"\n",
    "    matches = tool.check(text)\n",
    "    return len(matches)\n",
    "\n",
    "# abs_summaries 데이터프레임에 대한 작업\n",
    "# 헤드라인과 요약의 문법 오류 수를 평가하는 함수를 적용하여 오류 수 계산\n",
    "abs_summaries['headline_grammar_errors'] = abs_summaries['headlines'].apply(evaluate_grammar)\n",
    "abs_summaries['summary_grammar_errors'] = abs_summaries['summary'].apply(evaluate_grammar)\n",
    "# 헤드라인과 요약의 문법 오류 수 차이를 계산하고 절댓값 적용\n",
    "abs_summaries['error_difference'] = abs(abs_summaries['headline_grammar_errors'] - abs_summaries['summary_grammar_errors'])\n",
    "\n",
    "# ext_summaries 데이터프레임에 대한 작업\n",
    "# 헤드라인과 요약의 문법 오류 수를 평가하는 함수를 적용하여 오류 수 계산\n",
    "ext_summaries['headline_grammar_errors'] = ext_summaries['headlines'].apply(evaluate_grammar)\n",
    "ext_summaries['summary_grammar_errors'] = ext_summaries['summary'].apply(evaluate_grammar)\n",
    "# 헤드라인과 요약의 문법 오류 수 차이를 계산하고 절댓값 적용\n",
    "ext_summaries['error_difference'] = abs(ext_summaries['headline_grammar_errors'] - ext_summaries['summary_grammar_errors'])\n",
    "\n",
    "# 결과 확인\n",
    "# 결과를 출력하여 헤드라인, 요약 및 오류 수 차이를 확인합니다.\n",
    "display(abs_summaries[['headlines', 'summary', 'error_difference']].head())\n",
    "display(ext_summaries[['headlines', 'summary', 'error_difference']].head())\n",
    "\n",
    "# abs_summaries 데이터프레임의 error_difference 평균 계산\n",
    "abs_avg_error_diff = abs_summaries['error_difference'].mean()\n",
    "print(\"abs_summaries의 평균 문법 오류 차이:\", abs_avg_error_diff)\n",
    "\n",
    "# ext_summaries 데이터프레임의 error_difference 평균 계산\n",
    "ext_avg_error_diff = ext_summaries['error_difference'].mean()\n",
    "print(\"ext_summaries의 평균 문법 오류 차이:\", ext_avg_error_diff)"
   ]
  },
  {
   "cell_type": "markdown",
   "id": "e2edf4fb",
   "metadata": {},
   "source": [
    "- 결과를 보면 두 요약 방식의 문법 오류 차이 평균값은 추상적 요약(abs_summaries)의 error_diff의 평균이 더 낮아, 문법적으로는 더 좋은 성능을 나타내고 있음을 알 수 있습니다."
   ]
  },
  {
   "cell_type": "markdown",
   "id": "0e1a0d71",
   "metadata": {},
   "source": [
    "## 핵심 단어 측면 비교"
   ]
  },
  {
   "cell_type": "markdown",
   "id": "ad3f07c9",
   "metadata": {},
   "source": [
    "### Simple ver. 키워드 기반 비교 방법\n",
    "- headlines와 summary에서 각각 키워드를 추출하고, 이들 간의 겹침을 계산해 성능을 평가합니다.\n",
    "- 이때 키워드 추출시 단순 빈도뿐 아니라 맥락을 고려한 TF-IDF를 사용해 추출하여 겹침을 계산합니다.\n",
    "\n",
    "---\n",
    "\n",
    "- extract_keywords로 주어진 텍스트에서 빈도가 가장 높은 상위 단어를 추출합니다.\n",
    "- calculate_keyword_overlap 함수를 사용해 각 데이터 프레임에서 headlines와 summary에 대해 추출된 주요 키워드의 겹침정도를 계산합니다.\n",
    "    - 겹침 비율은 두 집합의 교집합 크기를 합집합 크기로 나눠서 계산합니다.\n",
    "- 이후 모든 행에 대해 계산된 겹침 비율의 평균을 계산해서 결과값을 구합니다."
   ]
  },
  {
   "cell_type": "code",
   "execution_count": 159,
   "id": "760c2de1",
   "metadata": {
    "ExecuteTime": {
     "end_time": "2024-01-05T07:05:37.927903Z",
     "start_time": "2024-01-05T07:05:32.219782Z"
    }
   },
   "outputs": [
    {
     "name": "stdout",
     "output_type": "stream",
     "text": [
      "abs_summaries의 키워드 겹침 비율: 0.17723478866303258\n",
      "ext_summaries의 키워드 겹침 비율: 0.08208052312024833\n"
     ]
    }
   ],
   "source": [
    "# 필요한 라이브러리 가져오기\n",
    "from collections import Counter\n",
    "import numpy as np\n",
    "\n",
    "# 텍스트에서 키워드 추출하는 함수 정의\n",
    "def extract_keywords(text, top_n=5):\n",
    "    # 텍스트를 단어로 분할\n",
    "    words = text.split()\n",
    "    # 단어 빈도수 계산\n",
    "    frequency = Counter(words)\n",
    "    # 가장 빈도가 높은 상위 N개의 단어 추출\n",
    "    return set(word for word, freq in frequency.most_common(top_n))\n",
    "\n",
    "# 키워드 겹침 비율 계산하는 함수 정의\n",
    "def calculate_keyword_overlap(df):\n",
    "    overlaps = []\n",
    "    for _, row in df.iterrows():\n",
    "        # 헤드라인과 요약의 키워드 추출\n",
    "        headline_keywords = extract_keywords(row['headlines'])\n",
    "        summary_keywords = extract_keywords(row['summary'])\n",
    "        # 겹친 키워드 수와 전체 키워드 수의 비율 계산\n",
    "        overlap = len(headline_keywords.intersection(summary_keywords)) / len(headline_keywords.union(summary_keywords))\n",
    "        overlaps.append(overlap)\n",
    "    return np.mean(overlaps)\n",
    "\n",
    "# 'abs_summaries'와 'ext_summaries'에 대한 키워드 겹침 비율 계산\n",
    "keyword_overlap_abs = calculate_keyword_overlap(abs_summaries)\n",
    "keyword_overlap_ext = calculate_keyword_overlap(ext_summaries)\n",
    "\n",
    "# 결과 출력\n",
    "print(\"abs_summaries의 키워드 겹침 비율:\", keyword_overlap_abs)\n",
    "print(\"ext_summaries의 키워드 겹침 비율:\", keyword_overlap_ext)"
   ]
  },
  {
   "cell_type": "markdown",
   "id": "77cfdbca",
   "metadata": {},
   "source": [
    "- 결과값으로 보자면 기존 headline과 겹치는 핵심단어를 더 많이 사용해 요약한 것은 추론적 요약입니다.\n",
    "- 즉 추론적 요약방식이 추출적 요약보다 원본 헤드라인의 핵심단어를 더 잘 포착하고 있음을 의미합니다.\n",
    "- 다만, 이 방식은 단순히 키워드의 겹침에만 초점을 맞추고 있어 전반적인 요약의 품질을 단정짓기에는 다소 부족한 평가 방법이라 생각합니다.\n",
    "- 이를 보완하기위해 임베딩 모델을 사용해서 텍스트의 의미적 유사성을 평가하는 방식을 시도해보겠습니다."
   ]
  },
  {
   "cell_type": "markdown",
   "id": "d20f7537",
   "metadata": {},
   "source": [
    "### Hard ver. 키워드 기반 비교 방법\n",
    "\n",
    "- word2vec이나 BERT같은 임베딩 모델을써서 텍스트의 의미적 유사성을 평가하는 방식을 사용할 수 있습니다.\n",
    "- 임베딩으로 각 문장을 벡터로 변환한 뒤, 벡터간의 코사인 유사도 등의 메트릭을 통해 유사성을 계산합니다.\n",
    "- 맥락적/의미적 유사성을 더 고려하기에 적합한 평가 방법이라 생각됩니다.\n",
    "- 이번에는 BERT를 사용해서 평가를 진행해보도록 하겠습니다."
   ]
  },
  {
   "cell_type": "code",
   "execution_count": null,
   "id": "43284aa8",
   "metadata": {
    "ExecuteTime": {
     "start_time": "2024-01-05T07:44:50.718Z"
    }
   },
   "outputs": [
    {
     "name": "stderr",
     "output_type": "stream",
     "text": [
      "Some weights of the PyTorch model were not used when initializing the TF 2.0 model TFBertModel: ['cls.predictions.transform.dense.bias', 'cls.predictions.transform.LayerNorm.weight', 'cls.predictions.transform.dense.weight', 'cls.predictions.bias', 'cls.seq_relationship.bias', 'cls.seq_relationship.weight', 'cls.predictions.transform.LayerNorm.bias']\n",
      "- This IS expected if you are initializing TFBertModel from a PyTorch model trained on another task or with another architecture (e.g. initializing a TFBertForSequenceClassification model from a BertForPreTraining model).\n",
      "- This IS NOT expected if you are initializing TFBertModel from a PyTorch model that you expect to be exactly identical (e.g. initializing a TFBertForSequenceClassification model from a BertForSequenceClassification model).\n",
      "All the weights of TFBertModel were initialized from the PyTorch model.\n",
      "If your task is similar to the task the model of the checkpoint was trained on, you can already use TFBertModel for predictions without further training.\n"
     ]
    }
   ],
   "source": [
    "# 필요한 라이브러리 가져오기\n",
    "from transformers import BertTokenizer, TFBertModel\n",
    "import tensorflow as tf\n",
    "from scipy.spatial.distance import cosine\n",
    "import numpy as np\n",
    "\n",
    "# BERT 모델과 토크나이저 초기화\n",
    "tokenizer = BertTokenizer.from_pretrained('bert-base-uncased')\n",
    "model = TFBertModel.from_pretrained('bert-base-uncased')\n",
    "\n",
    "# 텍스트의 임베딩을 얻는 함수 정의\n",
    "def get_embedding(text):\n",
    "    # 입력 텍스트를 토큰화하고 BERT 모델에 전달\n",
    "    inputs = tokenizer(text, return_tensors=\"tf\", truncation=True, max_length=512)\n",
    "    outputs = model(inputs)\n",
    "    # 임베딩의 평균값 계산\n",
    "    return tf.reduce_mean(outputs.last_hidden_state, axis=1).numpy()\n",
    "\n",
    "# 데이터프레임의 각 행에 대한 코사인 유사도 계산\n",
    "def calculate_cosine_similarity(df):\n",
    "    similarities = []\n",
    "    for _, row in df.iterrows():\n",
    "        # 헤드라인과 요약의 임베딩 얻기\n",
    "        headline_embedding = get_embedding(row['headlines'])\n",
    "        summary_embedding = get_embedding(row['summary'])\n",
    "        # 코사인 유사도 계산\n",
    "        similarity = 1 - cosine(headline_embedding, summary_embedding)\n",
    "        similarities.append(similarity)\n",
    "    return np.mean(similarities)\n",
    "\n",
    "# 'abs_summaries'와 'ext_summaries'에 대한 코사인 유사도 계산\n",
    "cosine_similarity_abs = calculate_cosine_similarity(abs_summaries)\n",
    "cosine_similarity_ext = calculate_cosamine_similarity(ext_summaries)\n",
    "\n",
    "# 결과 출력\n",
    "print(\"abs_summaries의 코사인 유사도:\", cosine_similarity_abs)\n",
    "print(\"ext_summaries의 코사인 유사도:\", cosine_similarity_ext)"
   ]
  },
  {
   "cell_type": "markdown",
   "id": "9004a091",
   "metadata": {},
   "source": [
    "- BERT로 임베딩 하는것은 아무래도 많은 시간이 걸려서 퀘스트 시간내에 결론을 내서 답변을 확인하기는 어려울 것 같습니다.\n",
    "- 제출 가능한 부분까지만 정리하여 노트를 제출하고 추후 업데이트 하도록 하겠습니다.\n",
    "\n",
    "---"
   ]
  },
  {
   "cell_type": "markdown",
   "id": "84bb2789",
   "metadata": {},
   "source": [
    "## 문장 완성도 & 핵심단어 종합 평가\n",
    "\n",
    "### ROGUE 평가\n",
    "\n",
    "- 문법 완성도 & 핵심문장 종합 평가\n",
    "    - ROUGE(Remembering Overlap Grows Understanding of Gists) 메트릭을 사용해 평가합니다.\n",
    "    - ROUGE는 자동 요약의 성능을 평가하는데 널리 사용되는 지표중 하나입니다.\n",
    "    - ROGUE는 요약문과 참조문(여기서는 headlines)간 겹치는 단어나 구를 기반으로 성능을 평가합니다.\n",
    "    - ROGUE를 평가하는 수치 3가지는 아래와 같은 의미를 갖고 있습니다.\n",
    "---\n",
    "\n",
    "- ROUGE-N: 이 컴포넌트는 N-gram (단어 또는 구의 연속적인 일련의 토큰) 중복을 측정합니다. \n",
    "    - ROUGE-1은 단어 단위의 중복을 측정하고, ROUGE-2는 이중 단어 중복을 측정합니다. \n",
    "    - ROUGE-N에서 N의 값은 중복의 크기를 결정합니다.\n",
    "\n",
    "- ROUGE-L: 이 컴포넌트는 최장 공통 부분 순열(Longest Common Subsequence, LCS)을 기반으로 합니다. 요약문과 참조문 사이의 최장 중복 부분을 찾아 성능을 측정합니다.\n",
    "\n",
    "- ROUGE-W: 이 컴포넌트는 가중치를 사용하여 중요한 단어의 중복을 강조합니다. 특정 단어가 요약문과 참조문 양쪽에 더 자주 나타나면 이를 반영하여 성능을 측정합니다."
   ]
  },
  {
   "cell_type": "code",
   "execution_count": 9,
   "id": "d2bb9267",
   "metadata": {
    "ExecuteTime": {
     "end_time": "2024-01-05T07:44:00.822555Z",
     "start_time": "2024-01-05T07:43:11.817218Z"
    }
   },
   "outputs": [
    {
     "name": "stdout",
     "output_type": "stream",
     "text": [
      "abs_summaries의 평균 ROUGE 스코어: {'rouge-1': 0.29516933723903627, 'rouge-2': 0.07324670210602474, 'rouge-l': 0.272846570519592}\n",
      "ext_summaries의 평균 ROUGE 스코어: {'rouge-1': 0.3249364917733944, 'rouge-2': 0.12928076427878635, 'rouge-l': 0.2739795631934649}\n"
     ]
    }
   ],
   "source": [
    "from rouge_score import rouge_scorer\n",
    "\n",
    "\n",
    "def preprocess_text(text):\n",
    "    if not isinstance(text, str):\n",
    "        return \"\"  # 문자열이 아닌 경우 빈 문자열로 대체\n",
    "    return text\n",
    "\n",
    "def calculate_rouge_scores(df):\n",
    "    scorer = rouge_scorer.RougeScorer(['rouge1', 'rouge2', 'rougeL'], use_stemmer=True)\n",
    "    scores = []\n",
    "\n",
    "    for _, row in df.iterrows():\n",
    "        headline = preprocess_text(row['headlines'])\n",
    "        summary = preprocess_text(row['summary'])\n",
    "        score = scorer.score(headline, summary)\n",
    "        scores.append(score)\n",
    "        \n",
    "    # 평균 ROUGE 스코어 계산\n",
    "    avg_rouge_scores = {\n",
    "        'rouge-1': np.mean([score['rouge1'].fmeasure for score in scores]),\n",
    "        'rouge-2': np.mean([score['rouge2'].fmeasure for score in scores]),\n",
    "        'rouge-l': np.mean([score['rougeL'].fmeasure for score in scores])\n",
    "    }\n",
    "    return avg_rouge_scores\n",
    "\n",
    "# abs_summaries와 ext_summaries의 ROUGE 스코어 계산\n",
    "abs_rouge_scores = calculate_rouge_scores(abs_summaries)\n",
    "ext_rouge_scores = calculate_rouge_scores(ext_summaries)\n",
    "\n",
    "print(\"abs_summaries의 평균 ROUGE 스코어:\", abs_rouge_scores)\n",
    "print(\"ext_summaries의 평균 ROUGE 스코어:\", ext_rouge_scores)"
   ]
  },
  {
   "cell_type": "markdown",
   "id": "8820705a",
   "metadata": {},
   "source": [
    "- abs_summaries의 평균 ROUGE 스코어:\n",
    "    - ROUGE-1 스코어: 0.295\n",
    "    - ROUGE-2 스코어: 0.073\n",
    "    - ROUGE-L 스코어: 0.273\n",
    "- ext_summaries의 평균 ROUGE 스코어:\n",
    "    - ROUGE-1 스코어: 0.325\n",
    "    - ROUGE-2 스코어: 0.129\n",
    "    - ROUGE-L 스코어: 0.274\n",
    "    \n",
    "---\n",
    "\n",
    "- ROUGE-1 스코어는 단어 단위의 중복을 측정하며, abs_summaries의 경우 약 0.295, ext_summaries의 경우 약 0.325로 나타났습니다. \n",
    "    - 더 높은 ROUGE-1 스코어는 요약문과 참조문 사이의 단어 중복을 나타냅니다.\n",
    "- ROUGE-2 스코어는 이중 단어 중복을 측정하며, abs_summaries의 경우 약 0.073, ext_summaries의 경우 약 0.129로 나타났습니다. \n",
    "    - ROUGE-2 스코어가 더 높다는 것은 요약문과 참조문 간에 이중 단어 중복이 더 많이 발생했음을 의미합니다.\n",
    "- ROUGE-L 스코어는 최장 중복 부분을 측정하며, 두 데이터셋 모두 약 0.273에서 0.274의 스코어를 나타냈습니다.\n",
    "\n",
    "- 요약하면, ext_summaries의 경우 ROUGE 스코어가 abs_summaries보다 더 높으므로 자동 요약이 참조문장(헤드라인)과 더 유사한 요약을 했음을 의미합니다.\n",
    "\n",
    "---\n",
    "\n",
    "### 📝 평가 비교 결과 종합\n",
    "\n",
    "- 문법자체의 완성도나 핵심단어 측면에서는 추상적 요약의 성능이 더 뛰어난 것으로 보입니다.\n",
    "- 반면에 ROGUE를 기준으로 종합적인 평가를 한 경우에는 추출적 요약의 문장이 더 뛰어난 요약을 한 것으로 평가됩니다.\n",
    "- 실제로 요약된 결과를 보면 대부분의 추출적 요약은 헤드라인의 문장을 거의 그대로 유지한 수준으로 요약이 되고 있어서 이런 결과가 나온 것이 아닐까 합니다."
   ]
  },
  {
   "cell_type": "markdown",
   "id": "42298e74",
   "metadata": {},
   "source": [
    "---\n",
    "\n",
    "# 회고\n",
    "\n",
    "## KEEP\n",
    "- 학습노드에서 배운 내용을 바탕으로 다른 데이터에도 적용할 수 있을 정도로 내용 파악이 되어 있었습니다.\n",
    "- 텍스트 데이터에 대한 EDA를 진행해 처리 방향을 더 심도 있게 고려했습니다.\n",
    "- 다양한 성능 비교 방식을 사용하려 시도했습니다.\n",
    "\n",
    "---\n",
    "## PROMBLEM\n",
    "- 나름대로 설계를 하긴 했지만, 패딩하기 위한 기준에 적합한지에 대한 확신이 잘 안선다.\n",
    "- 성능 비교 방식이 너무 과도한듯하다(연산에 너무 많은 시간이 걸리는 방식)\n",
    "- Beam Search 방식으로 Decoder를 바꾸는 시도를 했었는데, 완전히 하드코딩으로 해서 그런지 결과가 엉망이어서 지워버렸다.\n",
    "\t- Transformer 방식에 적용하는 Beam search는 많았는데 seq2seq에 적용하는 코드는 나오지 않아서 불가피 하게 하드코딩\n",
    "---\n",
    "## TRY\n",
    "- Beam Search하는 방법 찾아서 적용해보기\n",
    "- 더 빠르고 효율적인 모델 성능 평가 방법 찾아서 적용해보기\n",
    "---"
   ]
  }
 ],
 "metadata": {
  "kernelspec": {
   "display_name": "cv_env",
   "language": "python",
   "name": "cv_env"
  },
  "language_info": {
   "codemirror_mode": {
    "name": "ipython",
    "version": 3
   },
   "file_extension": ".py",
   "mimetype": "text/x-python",
   "name": "python",
   "nbconvert_exporter": "python",
   "pygments_lexer": "ipython3",
   "version": "3.7.1"
  },
  "toc": {
   "base_numbering": 1,
   "nav_menu": {},
   "number_sections": true,
   "sideBar": true,
   "skip_h1_title": false,
   "title_cell": "Table of Contents",
   "title_sidebar": "Contents",
   "toc_cell": false,
   "toc_position": {
    "height": "calc(100% - 180px)",
    "left": "10px",
    "top": "150px",
    "width": "349.091px"
   },
   "toc_section_display": true,
   "toc_window_display": true
  },
  "varInspector": {
   "cols": {
    "lenName": 16,
    "lenType": 16,
    "lenVar": 40
   },
   "kernels_config": {
    "python": {
     "delete_cmd_postfix": "",
     "delete_cmd_prefix": "del ",
     "library": "var_list.py",
     "varRefreshCmd": "print(var_dic_list())"
    },
    "r": {
     "delete_cmd_postfix": ") ",
     "delete_cmd_prefix": "rm(",
     "library": "var_list.r",
     "varRefreshCmd": "cat(var_dic_list()) "
    }
   },
   "types_to_exclude": [
    "module",
    "function",
    "builtin_function_or_method",
    "instance",
    "_Feature"
   ],
   "window_display": false
  }
 },
 "nbformat": 4,
 "nbformat_minor": 5
}
